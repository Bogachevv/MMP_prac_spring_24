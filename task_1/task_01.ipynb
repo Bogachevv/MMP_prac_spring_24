{
 "cells": [
  {
   "cell_type": "markdown",
   "metadata": {},
   "source": [
    "# `Практикум по программированию на языке Python`\n",
    "\n",
    "## `Задание 01. Полносвязная нейронная сеть на numpy`.\n",
    "\n",
    "#### Фамилия, имя: \n",
    "\n",
    "Дата выдачи: <span style=\"color:red\">__20 февраля__</span>.\n",
    "\n",
    "Мягкий дедлайн: <span style=\"color:red\">__6 марта 23:59__</span>.\n",
    "\n",
    "Стоимость: __10 баллов__ (основная часть заданий) + __3 балла__ (дополнительные задания).\n",
    "\n",
    "<span style=\"color:red\">__В ноутбуке все клетки должны выполняться без ошибок при последовательном их выполнении.__</span>\n",
    "\n",
    "#### `Москва, 2024`"
   ]
  },
  {
   "cell_type": "code",
   "execution_count": 1,
   "metadata": {
    "ExecuteTime": {
     "end_time": "2024-02-29T17:10:30.576895600Z",
     "start_time": "2024-02-29T17:10:29.379794700Z"
    }
   },
   "outputs": [],
   "source": [
    "import numpy as np"
   ]
  },
  {
   "cell_type": "markdown",
   "metadata": {
    "heading_collapsed": true
   },
   "source": [
    "## `Теоретическая часть (3 балла)`"
   ]
  },
  {
   "cell_type": "markdown",
   "metadata": {
    "hidden": true
   },
   "source": [
    "В этом блоке вам нужно решить 3 задания."
   ]
  },
  {
   "cell_type": "markdown",
   "metadata": {
    "heading_collapsed": true,
    "hidden": true
   },
   "source": [
    "### `Задание 1. Градиенты для слоя Batch normalization (1.5 балла)`"
   ]
  },
  {
   "cell_type": "markdown",
   "metadata": {
    "hidden": true
   },
   "source": [
    "Рассмотрим слой Batch normalization. Пусть на вход этого слоя был подан батч из $n$ объектов, при этом у всех объектов по 1 признаку. Представим вход BN слоя в виде $X \\in \\mathbb{R}^{n \\times 1}$.\n",
    "\n",
    "Тогда в этом слое производятся следующие вычисления:\n",
    "\n",
    "$$ \\mu = \\frac1n \\sum_{i=1}^{n} X_i $$\n",
    "\n",
    "$$ \\sigma^2 = \\frac1n \\sum_{i=1}^{n} \\left( X_i - \\mu \\right) ^2 $$\n",
    "\n",
    "$$ \\tilde{y_i} = \\frac{X_i - \\mu}{\\sqrt{\\sigma^2 + \\varepsilon}} $$\n",
    "\n",
    "$$ y_i = \\gamma \\tilde{y_i} + \\delta $$\n",
    "\n",
    "Выходом BN слоя является $y_i$, а $\\gamma,\\delta\\in\\mathbb{R}$ — параметры, которые подбираются во время обучения вместе с другими параметрами нейронной сети (наряду, например, с весами линейного слоя).\n",
    "\n",
    "Рассмотрим нейронную сеть, в которой есть BN слой. Предположим, что вычисления в нейронной сети завершаются подсчетом функции потерь $\\mathcal{L}$. Пусть мы выполнили прямой проход по нейронной сети и сейчас делаем обратный проход с помощью метода обратного распространения ошибки. Пусть BN слою пришел градиент функции потерь по выходу BN слоя ($\\nabla_{y} \\mathcal{L}$).\n",
    "\n",
    "В этом задании вам нужно записать вычисление градиента функции потерь по параметрам слоя BN $\\gamma$ и $\\delta$ ($\\nabla_{\\gamma} \\mathcal{L}$, $\\nabla_{\\delta} \\mathcal{L}$) через $\\nabla_{y} \\mathcal{L}$, а также вам нужно записать вычисление градиента функции потерь по входу слоя BN $X$ ($\\nabla_{X} \\mathcal{L}$) через $\\nabla_{y} \\mathcal{L}$.\n",
    "\n",
    "Хочу заметить, в данном задании мы рассматриваем объекты всего с 1 признаком, чтобы упростить выкладки."
   ]
  },
  {
   "cell_type": "markdown",
   "metadata": {
    "hidden": true
   },
   "source": [
    "__Ваше решение:__\n",
    "\n",
    "Перепишем формулу для $y_i$ в векторном виде:\n",
    "$$y_i = \\gamma \\frac{X - \\mu}{\\sqrt{\\sigma^2 + \\varepsilon}} + \\delta $$\n",
    "Считаем, что $\\mathcal{L} = \\mathcal{L}(y(X, \\gamma, \\delta))$, тогда:\n",
    "1. $\\nabla_{\\gamma} {\\mathcal L} = (\\nabla_{y} {\\mathcal L})^T \\cdot \\frac{X - \\mu}{\\sqrt{\\sigma^2 + \\varepsilon}}$\n",
    "2. $\\nabla_{\\delta} {\\mathcal L} = (\\nabla_{y} {\\mathcal L})^T \\cdot (1)_{i=1}^{n} = \\sum_{i=1}^n (\\nabla_{y} {\\mathcal L})_i$\n",
    "3. $\\nabla_{X} {\\mathcal L} = \\nabla_{y} {\\mathcal L} \\cdot \\frac{\\gamma}{\\sqrt{\\sigma^2 + \\varepsilon}}$"
   ]
  },
  {
   "cell_type": "markdown",
   "metadata": {
    "heading_collapsed": true,
    "hidden": true
   },
   "source": [
    "### `Задание 2. Вывод инициализации весов линейного слоя при использовании ReLU в качестве функции активации (1 балл)`"
   ]
  },
  {
   "cell_type": "markdown",
   "metadata": {
    "hidden": true
   },
   "source": [
    "Рассмотрим полносвязную нейронную сеть с функцией активации $g(y)$. Пусть сеть состоит из $L$ слоев и размер входа слоя $l$ равен $n_l\\ \\ (l = \\overline{1, L})$.\n",
    "\n",
    "Обозначим за $x^l \\in \\mathbb{R}^{n_{l}}$ вход слоя $l$, за $y^l \\in \\mathbb{R}^{n_{l+1}}$ — выход слоя $l$, за $W^l \\in \\mathbb{R}^{n_{l+1} \\times n_{l}}$ — веса слоя $l$, за $b^l \\in \\mathbb{R}^{n_{l+1}}$ — вектор сдвига слоя $l$.\n",
    "\n",
    "Тогда\n",
    "$$y^l = W^l x^l + b^l,$$\n",
    "$$x^{l+1} = g(y^l).$$\n",
    "\n",
    "На паре вы выводили хорошую инициализацию для линейного слоя в случае, когда в качестве функции активации $g(y)$ в нейронной сети используется гиперболический тангенс $g(y) = \\tanh(y)$. Сейчас вам нужно сделать подобный вывод для случая, когда в сети в качестве функций активации используется $g(y) = ReLU(y) = \\max(0, y)$.\n",
    "\n",
    "Сделаем следующие предположения насчет того, как распределены веса $W^l$, вектор сдвига $b^l$, входной вектор $x^l$, выходной вектор $y^l$ линейного слоя и градиенты функции потерь $\\frac{\\partial L}{\\partial y^{l}}$ $(l = \\overline{1, L}$):\n",
    "\n",
    "1. Все компоненты в $W^l$ распределены одинаково и независимо друг от друга;\n",
    "2. Все компоненты в $y^l$ распределены одинаково и независимо друг от друга;\n",
    "3. Все компоненты в $x^l$ распределены одинаково и независимо друг от друга;\n",
    "4. Все компоненты в $\\frac{\\partial L}{\\partial y^{l}}$ распределены одинаково и независимо друг от друга;\n",
    "5. Все компоненты в $W^l$ и все компоненты в $x^l$ независимы друг от друга;\n",
    "6. Все компоненты в $W^l$ имеют четную плотность распределения (то есть симметричную относительно нуля: $p_{W^l}(-x) = p_{W^l}(x)$);\n",
    "7. Все компоненты в $W^l$ имеют конечное матожидание;\n",
    "8. Вектор $b^l$ инициализирован нулями.\n",
    "\n",
    "\n",
    "Подсказки:\n",
    "1. Из пунктов 6 и 7 следует, что все компоненты в $W^l$ имеют нулевое среднее ($\\mathbb{E} W^l_{ij} = 0\\ \\ \\forall i = \\overline{1, n_{l+1}}, j = \\overline{1, n_{l}}$) (докажите);\n",
    "2. Из пунктов 6 и 7 следует, что все компоненты в $y^l$ имеют нулевое среднее и четную плотность распределения (докажите)."
   ]
  },
  {
   "cell_type": "markdown",
   "metadata": {
    "hidden": true
   },
   "source": [
    "__Ваше решение:__\n",
    "\n",
    "..."
   ]
  },
  {
   "cell_type": "markdown",
   "metadata": {
    "heading_collapsed": true,
    "hidden": true
   },
   "source": [
    "### `Задание 3. Почему функция активации` $ReLU(y) = \\max(0, y)$ `предпочтительней сигмоиды` $\\sigma(y) = \\frac{1}{1 + \\exp(-y)}$ `в нейронных сетях? (0.5 балла)`"
   ]
  },
  {
   "cell_type": "markdown",
   "metadata": {
    "hidden": true
   },
   "source": [
    "Дайте развернутый ответ на вопрос \"Почему функция активации $ReLU(y) = \\max(0, y)$ предпочтительней сигмоиды $\\sigma(y) = \\frac{1}{1 + \\exp(-y)}$ в нейронных сетях?\""
   ]
  },
  {
   "cell_type": "markdown",
   "metadata": {
    "hidden": true
   },
   "source": [
    "__Ваш ответ:__\n",
    "\n",
    "На практике, зачастую, используются именно глубокие нейронные сети. \n",
    "Из курса лекций известно, что $\\sup_{y \\in \\mathbb{R}} \\left| \\frac{d \\, \\sigma}{d \\, y} (y) \\right| = \\frac{1}{4}$.\n",
    "Рассмотрим глубокую сеть с $d$ слоями: ДОПИСАТЬ\n",
    "Тогда будет наблюдаться затухание градиента"
   ]
  },
  {
   "cell_type": "markdown",
   "metadata": {
    "hidden": true
   },
   "source": [
    "---"
   ]
  },
  {
   "cell_type": "markdown",
   "metadata": {
    "heading_collapsed": true
   },
   "source": [
    "## `Практическая часть (7 баллов)`"
   ]
  },
  {
   "cell_type": "markdown",
   "metadata": {
    "heading_collapsed": true,
    "hidden": true
   },
   "source": [
    "### `Реализация нейронной сети (3 балла)`"
   ]
  },
  {
   "cell_type": "markdown",
   "metadata": {
    "hidden": true
   },
   "source": [
    "В этом задании вы обучите полносвязную нейронную сеть распознавать рукописные цифры (а что же еще, если не их :), [почти] самостоятельно реализовав все составляющие алгоритма обучения и предсказания.\n",
    "\n",
    "Для начала нам понадобится реализовать прямой и обратный проход через слои. Наши слои будут соответствовать следующему интерфейсу (на примере \"тождественного\" слоя):"
   ]
  },
  {
   "cell_type": "code",
   "execution_count": 2,
   "outputs": [],
   "source": [
    "from numpy.typing import NDArray\n",
    "from typing import Tuple, List, Union"
   ],
   "metadata": {
    "collapsed": false,
    "ExecuteTime": {
     "end_time": "2024-02-29T17:10:30.618316300Z",
     "start_time": "2024-02-29T17:10:30.077382Z"
    }
   }
  },
  {
   "cell_type": "code",
   "execution_count": 3,
   "outputs": [],
   "source": [
    "class Layer:\n",
    "    def __init__(self):\n",
    "        self.params = []\n",
    "        self.input = None\n",
    "        self.inference_mode = True\n",
    "        \n",
    "    def forward(self, input: NDArray) -> NDArray:\n",
    "        raise NotImplementedError(\"forward method not implemented\")\n",
    "    \n",
    "    def backward(self, grad_output: NDArray) -> Tuple[NDArray, NDArray]:\n",
    "        raise NotImplementedError(\"backward method not implemented\")\n",
    "    \n",
    "    def __call__(self, input: NDArray) -> NDArray:\n",
    "        return self.forward(input)"
   ],
   "metadata": {
    "collapsed": false,
    "ExecuteTime": {
     "end_time": "2024-02-29T17:10:30.892243100Z",
     "start_time": "2024-02-29T17:10:30.091381700Z"
    }
   }
  },
  {
   "cell_type": "code",
   "execution_count": 4,
   "metadata": {
    "hidden": true,
    "ExecuteTime": {
     "end_time": "2024-02-29T17:10:31.089720400Z",
     "start_time": "2024-02-29T17:10:30.108619Z"
    }
   },
   "outputs": [],
   "source": [
    "class IdentityLayer(Layer):\n",
    "    \"\"\"\n",
    "    A building block. Each layer is capable of performing two things:\n",
    "\n",
    "    - Process input to get output:           \n",
    "    output = layer.forward(input)\n",
    "\n",
    "    - Propagate gradients through itself:    \n",
    "    grad_input = layer.backward(input, grad_output)\n",
    "\n",
    "    Some layers also have learnable parameters.\n",
    "\n",
    "    Modified code from cs.hse DL course *\n",
    "    \"\"\"\n",
    "    def __init__(self):\n",
    "        \"\"\"\n",
    "        Here you can initialize layer parameters (if any) \n",
    "        and auxiliary stuff. You should enumerate all parameters\n",
    "        in self.params\n",
    "        \"\"\"\n",
    "        # An identity layer does nothing\n",
    "        self.params = []\n",
    "        pass\n",
    "\n",
    "    def forward(self, input):\n",
    "        \"\"\"\n",
    "        Takes input data of shape [batch, input_units], \n",
    "        returns output data [batch, output_units]\n",
    "        \"\"\"\n",
    "        # An identity layer just returns whatever it gets as input.\n",
    "        self.input = input\n",
    "        return input\n",
    "\n",
    "    def backward(self, grad_output): \n",
    "        \"\"\"\n",
    "        Performs a backpropagation step through the layer, \n",
    "        with respect to the given input.\n",
    "\n",
    "        To compute loss gradients w.r.t input, \n",
    "        you need to apply chain rule (backprop):\n",
    "\n",
    "        d `loss` / d `input` = (d `loss` / d `layer`) * (d `layer` / d `input`)\n",
    "\n",
    "        Luckily, you already receive d `loss` / d `layer` in argument, \n",
    "        so you only need to multiply it by d `layer` / d `input`.\n",
    "\n",
    "        NB: Sometimes d `layer` / d `input` can be a 3D or even 4D tensor.\n",
    "        So it's better to write down the `loss` differential and extract\n",
    "        d `layer` / d `input` from it so that only 2D tensors were present.\n",
    "\n",
    "        The method returns:\n",
    "        * gradient w.r.t input (will be passed to \n",
    "          previous layer's backward method)\n",
    "        * flattened gradient w.r.t. parameters (with .ravel() \n",
    "          applied to each gradient). \n",
    "          If there are no params, return []\n",
    "        \"\"\"\n",
    "        # The gradient of an identity layer is precisely grad_output\n",
    "        input_dim = self.input.shape[1]\n",
    "\n",
    "        d_layer_d_input = np.eye(input_dim)\n",
    "\n",
    "        return np.dot(grad_output, d_layer_d_input), [] # chain rule"
   ]
  },
  {
   "cell_type": "markdown",
   "metadata": {
    "heading_collapsed": true,
    "hidden": true
   },
   "source": [
    "#### `Слой нелинейности ReLU`"
   ]
  },
  {
   "cell_type": "markdown",
   "metadata": {
    "hidden": true
   },
   "source": [
    "Для начала реализуем слой нелинейности $ReLU(y) = \\max(0, y)$. Параметров у слоя нет. Метод `forward` должен вернуть результат поэлементного применения $ReLU$ к входному массиву, метод `backward` — градиент функции потерь по входу слоя. В нуле будем считать производную равной 0. Обратите внимание, что при обратном проходе могут понадобиться величины, посчитанные во время прямого прохода, поэтому их стоит сохранить как атрибут класса."
   ]
  },
  {
   "cell_type": "code",
   "execution_count": 5,
   "metadata": {
    "hidden": true,
    "ExecuteTime": {
     "end_time": "2024-02-29T17:10:31.123728600Z",
     "start_time": "2024-02-29T17:10:30.124732800Z"
    }
   },
   "outputs": [],
   "source": [
    "class ReLU(Layer):\n",
    "    \"\"\"\n",
    "    Modified code from cs.hse DL course *\n",
    "    \"\"\"\n",
    "    def __init__(self):\n",
    "        \"\"\"ReLU layer simply applies elementwise rectified linear unit to all inputs\"\"\"\n",
    "        self.params = [] # ReLU has no parameters\n",
    "        self.input = None\n",
    "\n",
    "    def forward(self, input):\n",
    "        \"\"\"Apply elementwise ReLU to [batch, num_units] matrix\"\"\"\n",
    "        \n",
    "        # max(0, x) = 1/2 (x + |x|)\n",
    "        \n",
    "        self.input = input\n",
    "        \n",
    "        return np.maximum(0, input)\n",
    "        \n",
    "        \n",
    "    def backward(self, grad_output):\n",
    "        \"\"\"Compute gradient of loss w.r.t. ReLU input\n",
    "        grad_output shape: [batch, num_units]\n",
    "        output 1 shape: [batch, num_units]\n",
    "        output 2: []\n",
    "        \"\"\"\n",
    "        \n",
    "        if self.input is None:\n",
    "            raise RuntimeError('Call forward method before calling backward')\n",
    "        \n",
    "        # print(f\"{grad_output.shape=}\")\n",
    "        \n",
    "        return np.where(self.input > 0, grad_output, np.zeros_like(self.input)), []\n",
    "    \n",
    "    def __repr__(self):\n",
    "        return 'Relu()'"
   ]
  },
  {
   "cell_type": "markdown",
   "metadata": {
    "heading_collapsed": true,
    "hidden": true
   },
   "source": [
    "#### `Полносвязный слой`"
   ]
  },
  {
   "cell_type": "markdown",
   "metadata": {
    "hidden": true
   },
   "source": [
    "Далее реализуем полносвязный слой без нелинейности. У слоя два параметра: матрица весов и вектор сдвига.\n",
    "\n",
    "Обратите внимание на второй аргумент: в нем надо возвращать градиент по всем параметрам в одномерном виде. Для этого надо сначала применить `.ravel()` ко всем градиентам, а затем воспользоваться `np.r_`:"
   ]
  },
  {
   "cell_type": "code",
   "execution_count": 6,
   "metadata": {
    "hidden": true,
    "ExecuteTime": {
     "end_time": "2024-02-29T17:10:31.161300300Z",
     "start_time": "2024-02-29T17:10:30.140868200Z"
    }
   },
   "outputs": [
    {
     "data": {
      "text/plain": "array([1., 0., 0., 0., 1., 0., 0., 0., 1., 0., 1., 2., 3.])"
     },
     "execution_count": 6,
     "metadata": {},
     "output_type": "execute_result"
    }
   ],
   "source": [
    "# example\n",
    "np.r_[np.eye(3).ravel(), np.arange(4)]"
   ]
  },
  {
   "cell_type": "code",
   "execution_count": 7,
   "metadata": {
    "hidden": true,
    "ExecuteTime": {
     "end_time": "2024-02-29T17:10:31.169290600Z",
     "start_time": "2024-02-29T17:10:30.154165800Z"
    }
   },
   "outputs": [],
   "source": [
    "class Dense(Layer):\n",
    "    \"\"\"\n",
    "    Modified code from cs.hse DL course *\n",
    "    \"\"\"\n",
    "    def __init__(self, input_units, output_units):\n",
    "        \"\"\"\n",
    "        A dense layer is a layer which performs a learned affine transformation:\n",
    "        f(x) = x W + b\n",
    "        \"\"\"\n",
    "        # initialize weights with small random numbers from normal distribution\n",
    "        self.weights = np.random.randn(input_units, output_units) * 0.01\n",
    "        self.biases = np.zeros(output_units)\n",
    "        self.params = [self.weights, self.biases]\n",
    "\n",
    "    def forward(self, input):\n",
    "        \"\"\"\n",
    "        Perform an affine transformation:\n",
    "        f(x) = x W + b\n",
    "        \n",
    "        input shape: [batch, input_units]\n",
    "        output shape: [batch, output units]\n",
    "        \"\"\"\n",
    "        \n",
    "        self.input = input\n",
    "        \n",
    "        return input @ self.weights + self.biases\n",
    "\n",
    "    def backward(self, grad_output):\n",
    "        \"\"\"\n",
    "        compute gradients\n",
    "        grad_output shape: [batch, output_units]\n",
    "        output shapes: [batch, input_units], [num_params]\n",
    "        \n",
    "        hint: use function np.r_\n",
    "        np.r_[np.arange(3), np.arange(3)] = [0, 1, 2, 0, 1, 2]\n",
    "        \"\"\"\n",
    "        \n",
    "        # print(f\"DEBUG: {(self.input[:, :, None] @ grad_output[:, None, :]).shape=}\")\n",
    "        d_loss_d_w = self.input[:, :, None] @ grad_output[:, None, :]\n",
    "        d_loss_d_b = grad_output\n",
    "        d_loss_d_x = grad_output @ self.weights.T\n",
    "        \n",
    "        return d_loss_d_x, [d_loss_d_w, d_loss_d_b]\n",
    "    \n",
    "    def __repr__(self):\n",
    "        return f'Dense({self.weights.shape[0]}, {self.weights.shape[1]})'"
   ]
  },
  {
   "cell_type": "markdown",
   "metadata": {
    "heading_collapsed": true,
    "hidden": true
   },
   "source": [
    "#### `Проверка градиента`"
   ]
  },
  {
   "cell_type": "markdown",
   "metadata": {
    "hidden": true
   },
   "source": [
    "Проверим правильность реализации с помощью функции численной проверки градиента. Функция `eval_numerical_gradient` принимает на вход callable объект `f` (функцию от одного аргумента-матрицы) и аргумент `x` и вычисляет приближенный градиент функции `f` в точке `x`."
   ]
  },
  {
   "cell_type": "code",
   "execution_count": 8,
   "metadata": {
    "hidden": true,
    "ExecuteTime": {
     "end_time": "2024-02-29T17:10:31.334250300Z",
     "start_time": "2024-02-29T17:10:30.427894Z"
    }
   },
   "outputs": [],
   "source": [
    "def eval_numerical_gradient(f, x, verbose=False, h=0.00001):\n",
    "    \"\"\"\n",
    "    Evaluates gradient df/dx via finite differences:\n",
    "    df/dx ~ (f(x+h) - f(x-h)) / 2h\n",
    "    Adopted from https://github.com/ddtm/dl-course/\n",
    "    \"\"\"\n",
    "    fx = f(x) # evaluate function value at original point\n",
    "    grad = np.zeros_like(x)\n",
    "    # iterate over all indexes in x\n",
    "    it = np.nditer(x, flags=['multi_index'], op_flags=['readwrite'])\n",
    "    while not it.finished:\n",
    "\n",
    "        # evaluate function at x+h\n",
    "        ix = it.multi_index\n",
    "        oldval = x[ix]\n",
    "        x[ix] = oldval + h # increment by h\n",
    "        fxph = f(x) # evalute f(x + h)\n",
    "        x[ix] = oldval - h\n",
    "        fxmh = f(x) # evaluate f(x - h)\n",
    "        x[ix] = oldval # restore\n",
    "\n",
    "        # compute the partial derivative with centered formula\n",
    "        grad[ix] = (fxph - fxmh) / (2 * h) # the slope\n",
    "        if verbose:\n",
    "            print (ix, grad[ix])\n",
    "        it.iternext() # step to next dimension\n",
    "\n",
    "    return grad"
   ]
  },
  {
   "cell_type": "markdown",
   "metadata": {
    "hidden": true
   },
   "source": [
    "Вычислите аналитический и численный градиенты по входу слоя ReLU от функции\n",
    "$$ f(y) = \\sum_i y_i, \\quad y = ReLU(x) $$\n",
    "\n",
    "Выпишите аналитический градиент в этой ячейке:\n",
    "Пусть $x = (x_1, \\ldots, x_n)$\n",
    "\n",
    "$$ f(x) = \\sum_i \\left( ReLU(x) \\right)_i = \\sum_i max(0, x_i)$$\n",
    "$$f: \\mathbb{R} ^ {n \\times m} \\to \\mathbb{R}^{m}$$\n",
    "\n",
    "$$\\nabla_{x} f = \\chi (x), \\text{где } \\chi (s) = \\begin{cases} 1 \\; & s > 0 \\\\ 0 \\; & s \\le 0 \\end{cases}$$"
   ]
  },
  {
   "cell_type": "markdown",
   "metadata": {
    "hidden": true
   },
   "source": [
    "Следующая ячейка после заполнения должна не выдавать ошибку :)"
   ]
  },
  {
   "cell_type": "code",
   "execution_count": 9,
   "metadata": {
    "hidden": true,
    "ExecuteTime": {
     "end_time": "2024-02-29T17:10:32.168305700Z",
     "start_time": "2024-02-29T17:10:31.302113600Z"
    }
   },
   "outputs": [
    {
     "name": "stdout",
     "output_type": "stream",
     "text": [
      "grads.shape=(10, 12)\tnumeric_grads.shape=(10, 12)\n"
     ]
    },
    {
     "name": "stderr",
     "output_type": "stream",
     "text": [
      "C:\\Users\\s0221\\AppData\\Local\\Temp\\ipykernel_15436\\1145296279.py:23: DeprecationWarning: Conversion of an array with ndim > 0 to a scalar is deprecated, and will error in future. Ensure you extract a single element from your array before performing this operation. (Deprecated NumPy 1.25.)\n",
      "  grad[ix] = (fxph - fxmh) / (2 * h) # the slope\n"
     ]
    }
   ],
   "source": [
    "relu = ReLU()\n",
    "points = np.linspace(-1, 1, 10*12).reshape([10, 12])\n",
    "\n",
    "# print(relu.forward(points).shape)\n",
    "\n",
    "### your code here\n",
    "\n",
    "def f(x):\n",
    "    out = relu.forward(x)\n",
    "    return np.sum(out, axis=1)\n",
    "\n",
    "f(points)\n",
    "grads = relu.backward(np.ones((10, 12)))[0]\n",
    "grads\n",
    "# numeric_grads = eval_numerical_gradient(f, points, verbose=True)\n",
    "numeric_grads = np.zeros_like(points)\n",
    "for i in range(points.shape[0]):\n",
    "    numeric_grads[i, :] = eval_numerical_gradient(f, points[i, :].reshape((1, -1)), verbose=False)\n",
    "\n",
    "print(f\"{grads.shape=}\\t{numeric_grads.shape=}\")\n",
    "\n",
    "assert np.allclose(grads, numeric_grads, rtol=1e-3, atol=0)"
   ]
  },
  {
   "cell_type": "markdown",
   "metadata": {
    "hidden": true
   },
   "source": [
    "Вычислите аналитический и численный градиенты по входу полносвязного слоя от функции\n",
    "$$ f(y) = \\sum_i y_i, \\quad y = W x + b $$\n",
    "\n",
    "Выпишите аналитический градиент в этой ячейке (советуем выписать градиент через дифференциал функции $f$):\n",
    "\n",
    "..."
   ]
  },
  {
   "cell_type": "markdown",
   "metadata": {
    "hidden": true
   },
   "source": [
    "Следующая ячейка после заполнения должна не выдавать ошибку :)"
   ]
  },
  {
   "cell_type": "code",
   "execution_count": 10,
   "metadata": {
    "hidden": true,
    "ExecuteTime": {
     "end_time": "2024-02-29T17:10:32.615025700Z",
     "start_time": "2024-02-29T17:10:32.069310200Z"
    }
   },
   "outputs": [
    {
     "name": "stdout",
     "output_type": "stream",
     "text": [
      "grads.shape=(10, 12)\tnumeric_grads.shape=(10, 12)\n"
     ]
    },
    {
     "name": "stderr",
     "output_type": "stream",
     "text": [
      "C:\\Users\\s0221\\AppData\\Local\\Temp\\ipykernel_15436\\1145296279.py:23: DeprecationWarning: Conversion of an array with ndim > 0 to a scalar is deprecated, and will error in future. Ensure you extract a single element from your array before performing this operation. (Deprecated NumPy 1.25.)\n",
      "  grad[ix] = (fxph - fxmh) / (2 * h) # the slope\n"
     ]
    }
   ],
   "source": [
    "linear = Dense(12, 32)\n",
    "points = np.linspace(-1, 1, 10*12).reshape([10, 12])\n",
    "\n",
    "def foo(x):\n",
    "    out = linear.forward(x)\n",
    "    return np.sum(out, axis=1)\n",
    "\n",
    "foo(points)\n",
    "grads = linear.backward(np.ones((10, 32)))[0]\n",
    "\n",
    "numeric_grads = np.zeros_like(points)\n",
    "for i in range(10):\n",
    "    numeric_grads[i, :] = eval_numerical_gradient(foo, points[i, :].reshape((1, -1)), verbose=False)\n",
    "\n",
    "print(f\"{grads.shape=}\\t{numeric_grads.shape=}\")\n",
    "\n",
    "# grads - numeric_grads\n",
    "\n",
    "assert np.allclose(grads, numeric_grads, rtol=1e-3, atol=0), np.max(np.abs(grads - numeric_grads))"
   ]
  },
  {
   "cell_type": "markdown",
   "metadata": {
    "heading_collapsed": true,
    "hidden": true
   },
   "source": [
    "#### `Реализация softmax-слоя и функции потерь`"
   ]
  },
  {
   "cell_type": "markdown",
   "metadata": {
    "hidden": true
   },
   "source": [
    "Для решения задачи многоклассовой классификации обычно используют $softmax$ в качестве нелинейности на последнем слое, чтобы получить вероятности классов для каждого объекта:\n",
    "$$\\hat y = softmax(x)  = \\left \\{\\frac {\\exp(x^i)}{\\sum_{j=1}^K \\exp(x^j)} \\right \\}_{i=1}^K, \\quad K - \\text{число классов.}$$\n",
    "\n",
    "Здесь за $x^i$ мы обозначаем $i$-ый признак объекта $x$.\n",
    "\n",
    "В качестве функции потерь выберем отрицательный логарифм правдоподобия (по английски: negative log likelihood или NLL)\n",
    "$$L(y, \\hat y) = -\\sum_{i=1}^K y^i \\log \\hat y^i,$$\n",
    "где $y^i = 1$, если объект принадлежит $i$-му классу, и $y^i = 0$ иначе.\n",
    "\n",
    "NLL совпадает с выражением для [кросс-энтропии](https://ru.wikipedia.org/wiki/Перекрёстная_энтропия) (в качестве первого распределения берем вырожденное распределение $y$, в качестве второго — предсказанное распределение $\\hat y$). Очевидно, что эту функцию потерь также можно переписать через индексацию, если через $y$ обозначить класс данного объекта:\n",
    "$$L(y, \\hat y) = - \\log \\hat y_{y}$$\n",
    "\n",
    "В таком виде ее удобно реализовывать."
   ]
  },
  {
   "cell_type": "markdown",
   "metadata": {
    "ExecuteTime": {
     "end_time": "2021-03-03T13:13:02.970075Z",
     "start_time": "2021-03-03T13:13:02.961134Z"
    },
    "hidden": true
   },
   "source": [
    "Для обучения нейронной сети будем оптимизировать эту функцию потерь по параметрам нейронной сети:\n",
    "\n",
    "$$ \\frac1N \\sum_{i=1}^N L(y_i, \\hat y_i) = \\frac1N \\sum_{i=1}^N L(y_i, \\text{NN}(x_i)) \\rightarrow \\min_{w}\\,,$$\n",
    "где за $x_i$ и $y_i$ мы обозначили признаки и таргет $i$-ого объекта обучающей выборки, за $\\text{NN}$ мы обозначили нейронную сеть, которая по признакам объекта $x_i$ выдает распределение вероятностей $\\hat y_i$, за $w$ мы обозначили все веса нейронной сети, а $N$ — это число объектов в обучающей выборке."
   ]
  },
  {
   "cell_type": "markdown",
   "metadata": {
    "hidden": true
   },
   "source": [
    "Реализуйте слой `LogSoftmax` (у этого слоя нет параметров). Метод `forward` должен вычислять логарифм от $softmax$, а метод `backward` — пропускать градиенты. В общем случае в промежуточных вычислениях `backward` получится трехмерный тензор, однако для нашей конкретной функции потерь все вычисления можно реализовать в матричном виде.  Поэтому мы будем предполагать, что аргумент `grad_output` — это матрица, у которой в каждой строке только одно ненулевое значение (не обязательно единица).\n",
    "\n",
    "**Пожелание.** Постарайтесь максимально упростить формулу градиентов, чтобы получился лаконичный и стабильный код. Большие и страшные реализации часто оказываются нестабильными."
   ]
  },
  {
   "cell_type": "code",
   "execution_count": 11,
   "metadata": {
    "hidden": true,
    "ExecuteTime": {
     "end_time": "2024-02-29T17:10:33.712005200Z",
     "start_time": "2024-02-29T17:10:32.586918800Z"
    }
   },
   "outputs": [],
   "source": [
    "from scipy.special import logsumexp\n",
    "# use this function instead of np.log(np.sum(np.exp(...))) because it is more stable"
   ]
  },
  {
   "cell_type": "code",
   "execution_count": 12,
   "metadata": {
    "hidden": true,
    "ExecuteTime": {
     "end_time": "2024-02-29T17:10:33.744739100Z",
     "start_time": "2024-02-29T17:10:33.716000900Z"
    }
   },
   "outputs": [],
   "source": [
    "class LogSoftmax:\n",
    "    def __init__(self):\n",
    "        self.params = []\n",
    "        self.input = None\n",
    "        self.output = None\n",
    "\n",
    "    def forward(self, input):\n",
    "        \"\"\"\n",
    "        Applies softmax to each row and then applies component-wise log\n",
    "        Input shape: [batch, num_units]\n",
    "        Output shape: [batch, num_units]\n",
    "        \"\"\"\n",
    "        self.input = input\n",
    "        self.output = input - logsumexp(input, axis=-1, keepdims=True)\n",
    "        \n",
    "        return self.output\n",
    "        \n",
    "    def backward(self, grad_output):\n",
    "        \"\"\"\n",
    "        Propagartes gradients.\n",
    "        Assumes that each row of grad_output contains only 1 \n",
    "        non-zero element\n",
    "        Input shape: [batch, num_units]\n",
    "        Output shape: [batch, num_units]\n",
    "        Do not forget to return [] as second value (grad w.r.t. params)\n",
    "        \"\"\"\n",
    "        \n",
    "        if self.input is None:\n",
    "            raise RuntimeError('Call forward method before calling backward')\n",
    "        \n",
    "        grad_output_sum = np.sum(grad_output, axis=-1, keepdims=True)\n",
    "        \n",
    "        # exp_arr = np.exp(self.input)\n",
    "        # \n",
    "        # exp_sum = np.sum(exp_arr, axis=-1, keepdims=True)\n",
    "        # \n",
    "        # d_loss_d_x_1 = grad_output - grad_output_sum * (exp_arr / exp_sum)\n",
    "        \n",
    "        # frac = np.sum(np.exp(self.input[:, :, None] - self.input[:, None, :]), axis=1)\n",
    "        # \n",
    "        # d_loss_d_x_2 = grad_output - grad_output_sum / frac\n",
    "        \n",
    "        d_loss_d_x_2 = grad_output - grad_output_sum * np.exp(self.output)\n",
    "        \n",
    "        # print(f\"Derivative deviation: {np.max(np.abs(d_loss_d_x_1 - d_loss_d_x_2))}\")\n",
    "        \n",
    "        return d_loss_d_x_2, []\n",
    "        \n",
    "    \n",
    "    def __repr__(self):\n",
    "        return 'LogSoftmax()'"
   ]
  },
  {
   "cell_type": "markdown",
   "metadata": {
    "hidden": true
   },
   "source": [
    "Реализуйте функцию потерь и градиенты функции потерь. Во время вычисления NLL усредняйте (а не суммируйте) значения функции потерь по батчу. Обычно так делают для того, чтобы при двух запусках обучения нейронной сети с разными размерами батча получаемые значения функции потерь у этих сетей были сравнимы."
   ]
  },
  {
   "cell_type": "code",
   "execution_count": 13,
   "metadata": {
    "hidden": true,
    "ExecuteTime": {
     "end_time": "2024-02-29T17:10:33.843254400Z",
     "start_time": "2024-02-29T17:10:33.736490900Z"
    }
   },
   "outputs": [],
   "source": [
    "def NLL(activations, target):\n",
    "    \"\"\"\n",
    "    Returns negative log-likelihood of target under model represented by\n",
    "    activations (log probabilities of classes, it's just output of LogSoftmax layer).\n",
    "    `activations` has shape [batch, num_classes], `target` has shape [batch]\n",
    "    Output shape: 1 (scalar).\n",
    "    \"\"\"\n",
    "    \n",
    "    return -np.mean(activations[np.arange(len(target)), target])\n",
    "\n",
    "\n",
    "def grad_NLL(activations, target):\n",
    "    \"\"\"\n",
    "    Returns gradient of negative log-likelihood w.r.t. activations.\n",
    "    each arg has shape [batch, num_classes]\n",
    "    output shape: [batch, num-classes]\n",
    "    \"\"\"\n",
    "    \n",
    "    ohe_target = np.zeros_like(activations)\n",
    "    ohe_target[np.arange(len(target)), target] = 1\n",
    "    \n",
    "    # print(f\"Max delta {np.max(np.exp(activations))}\")\n",
    "    \n",
    "    return -ohe_target / len(target)"
   ]
  },
  {
   "cell_type": "markdown",
   "metadata": {
    "hidden": true
   },
   "source": [
    "Наконец, выполните проверку `LogSoftmax`-слоя, используя функцию потерь и ее градиент:"
   ]
  },
  {
   "cell_type": "code",
   "execution_count": 14,
   "metadata": {
    "hidden": true,
    "ExecuteTime": {
     "end_time": "2024-02-29T17:10:33.904138900Z",
     "start_time": "2024-02-29T17:10:33.754729100Z"
    }
   },
   "outputs": [
    {
     "name": "stdout",
     "output_type": "stream",
     "text": [
      "Max deviation: 3.1168190424424314e-11\n"
     ]
    }
   ],
   "source": [
    "n = 50\n",
    "d = 10\n",
    "lsm = LogSoftmax()\n",
    "np.random.seed(42)\n",
    "target = np.random.choice(d, size=n)\n",
    "points = np.random.uniform(-1, 1, n*d).reshape([n, d])\n",
    "\n",
    "def foo(x):\n",
    "    return NLL(lsm.forward(x), target)\n",
    "\n",
    "pred = lsm.forward(points)\n",
    "NLL(pred, target)\n",
    "f(points[0, :].reshape((1, -1)))\n",
    "grads, _ = lsm.backward(grad_NLL(pred, target))\n",
    "\n",
    "numeric_grads = eval_numerical_gradient(foo, points, verbose=False)\n",
    "\n",
    "print(f\"Max deviation: {np.max(np.abs(grads - numeric_grads))}\")\n",
    "\n",
    "assert np.allclose(grads, numeric_grads, rtol=1e-3, atol=0)"
   ]
  },
  {
   "cell_type": "markdown",
   "source": [
    "3.116819064126475e-11"
   ],
   "metadata": {
    "collapsed": false
   }
  },
  {
   "cell_type": "markdown",
   "metadata": {
    "heading_collapsed": true,
    "hidden": true
   },
   "source": [
    "### `Загрузка данных`"
   ]
  },
  {
   "cell_type": "markdown",
   "metadata": {
    "hidden": true
   },
   "source": [
    "Мы реализаовали все архитектурные составляющие нашей нейронной сети. Осталось загрузить данные и обучить модель. Мы будем работать с датасетом `digits`, каждый объект в котором — это 8x8 изображение рукописной цифры."
   ]
  },
  {
   "cell_type": "code",
   "execution_count": 15,
   "metadata": {
    "hidden": true,
    "ExecuteTime": {
     "end_time": "2024-02-29T17:10:37.663337400Z",
     "start_time": "2024-02-29T17:10:36.086594300Z"
    }
   },
   "outputs": [],
   "source": [
    "import matplotlib.pyplot as plt\n",
    "%matplotlib inline"
   ]
  },
  {
   "cell_type": "code",
   "execution_count": 16,
   "metadata": {
    "hidden": true,
    "ExecuteTime": {
     "end_time": "2024-02-29T17:10:39.897560800Z",
     "start_time": "2024-02-29T17:10:37.017556700Z"
    }
   },
   "outputs": [],
   "source": [
    "from sklearn.datasets import load_digits"
   ]
  },
  {
   "cell_type": "code",
   "execution_count": 17,
   "metadata": {
    "hidden": true,
    "ExecuteTime": {
     "end_time": "2024-02-29T17:10:39.939327400Z",
     "start_time": "2024-02-29T17:10:39.778422500Z"
    }
   },
   "outputs": [],
   "source": [
    "X, y = load_digits(return_X_y=True)"
   ]
  },
  {
   "cell_type": "code",
   "execution_count": 18,
   "metadata": {
    "hidden": true,
    "ExecuteTime": {
     "end_time": "2024-02-29T17:10:39.946081800Z",
     "start_time": "2024-02-29T17:10:39.825923600Z"
    }
   },
   "outputs": [
    {
     "data": {
      "text/plain": "((1797, 64), (1797,))"
     },
     "execution_count": 18,
     "metadata": {},
     "output_type": "execute_result"
    }
   ],
   "source": [
    "X.shape, y.shape"
   ]
  },
  {
   "cell_type": "markdown",
   "metadata": {
    "hidden": true
   },
   "source": [
    "Разделим данные на обучение и контроль:"
   ]
  },
  {
   "cell_type": "code",
   "execution_count": 19,
   "metadata": {
    "hidden": true,
    "ExecuteTime": {
     "end_time": "2024-02-29T17:10:40.273660800Z",
     "start_time": "2024-02-29T17:10:39.841253600Z"
    }
   },
   "outputs": [],
   "source": [
    "from sklearn.model_selection import train_test_split"
   ]
  },
  {
   "cell_type": "code",
   "execution_count": 20,
   "metadata": {
    "hidden": true,
    "ExecuteTime": {
     "end_time": "2024-02-29T17:10:40.356691900Z",
     "start_time": "2024-02-29T17:10:40.217637500Z"
    }
   },
   "outputs": [],
   "source": [
    "X_train, X_test, y_train, y_test = train_test_split(X, y, random_state=0)"
   ]
  },
  {
   "cell_type": "code",
   "execution_count": 21,
   "metadata": {
    "hidden": true,
    "ExecuteTime": {
     "end_time": "2024-02-29T17:10:40.487699500Z",
     "start_time": "2024-02-29T17:10:40.230863100Z"
    }
   },
   "outputs": [
    {
     "data": {
      "text/plain": "((1347, 64), (450, 64))"
     },
     "execution_count": 21,
     "metadata": {},
     "output_type": "execute_result"
    }
   ],
   "source": [
    "X_train.shape, X_test.shape"
   ]
  },
  {
   "cell_type": "code",
   "outputs": [
    {
     "data": {
      "text/plain": "<Figure size 1000x1000 with 9 Axes>",
      "image/png": "[encoded data removed]"
     },
     "metadata": {},
     "output_type": "display_data"
    }
   ],
   "source": [
    "_, ax = plt.subplots(nrows=3, ncols=3, figsize=(10, 10))\n",
    "\n",
    "for i in range(9):\n",
    "    ax[divmod(i, 3)].imshow(X[i, :].reshape((8, 8)), cmap=plt.get_cmap(\"gray\"))\n",
    "    ax[divmod(i, 3)].set_title(y[i])"
   ],
   "metadata": {
    "collapsed": false,
    "ExecuteTime": {
     "end_time": "2024-02-29T17:10:41.795864600Z",
     "start_time": "2024-02-29T17:10:40.246231500Z"
    }
   },
   "execution_count": 22
  },
  {
   "cell_type": "markdown",
   "metadata": {
    "heading_collapsed": true,
    "hidden": true
   },
   "source": [
    "### `Сборка и обучение нейронной сети (0.8 балла)`"
   ]
  },
  {
   "cell_type": "markdown",
   "metadata": {
    "hidden": true
   },
   "source": [
    "В нашей реализации мы представляем нейронную сеть в виде списка ее слоев. Например, следующая функция конструирует нейронную сеть заданной ширины (то есть с заданным размером скрытых слоев) и глубины (то есть с заданным количеством слоев) с заданным размером входа и выхода, а также с заданной функцией активации между линейными слоями."
   ]
  },
  {
   "cell_type": "code",
   "execution_count": 23,
   "metadata": {
    "hidden": true,
    "ExecuteTime": {
     "end_time": "2024-02-29T17:10:41.802285200Z",
     "start_time": "2024-02-29T17:10:41.685190700Z"
    }
   },
   "outputs": [],
   "source": [
    "def make_network(input_size, hidden_layers_size, output_size, n_layers=3, activation_class=ReLU):\n",
    "    network = []\n",
    "\n",
    "    for layer_idx in range(n_layers):\n",
    "        # Compute sizes of current linear layer\n",
    "        layer_in = input_size if layer_idx == 0 else hidden_layers_size\n",
    "        layer_out = output_size if layer_idx == n_layers - 1 else hidden_layers_size\n",
    "        \n",
    "        # Add linear layer to the network\n",
    "        network.append(Dense(layer_in, layer_out))\n",
    "\n",
    "        # Add activation after each layer except the last one\n",
    "        if layer_idx != n_layers - 1:\n",
    "            network.append(activation_class())\n",
    "\n",
    "    # Add LogSoftmax layer to the network\n",
    "    network.append(LogSoftmax())\n",
    "\n",
    "    return network"
   ]
  },
  {
   "cell_type": "code",
   "execution_count": 24,
   "metadata": {
    "hidden": true,
    "ExecuteTime": {
     "end_time": "2024-02-29T17:10:42.497325900Z",
     "start_time": "2024-02-29T17:10:41.745963900Z"
    }
   },
   "outputs": [
    {
     "data": {
      "text/plain": "[Dense(64, 32), Relu(), Dense(32, 32), Relu(), Dense(32, 10), LogSoftmax()]"
     },
     "execution_count": 24,
     "metadata": {},
     "output_type": "execute_result"
    }
   ],
   "source": [
    "input_size = X_train.shape[1]\n",
    "hidden_layers_size = 32\n",
    "output_size = 10\n",
    "\n",
    "network = make_network(input_size, hidden_layers_size, output_size, 3, ReLU)\n",
    "network"
   ]
  },
  {
   "cell_type": "markdown",
   "metadata": {
    "hidden": true
   },
   "source": [
    "Реализуйте функцию, которая выполнет прямой проход по нейронной сети:"
   ]
  },
  {
   "cell_type": "code",
   "execution_count": 25,
   "metadata": {
    "hidden": true,
    "ExecuteTime": {
     "end_time": "2024-02-29T17:10:42.587759700Z",
     "start_time": "2024-02-29T17:10:41.761511900Z"
    }
   },
   "outputs": [],
   "source": [
    "def forward(network: List[Layer], X):\n",
    "    \"\"\"\n",
    "    Perform forward pass through the network.\n",
    "    \n",
    "    network: list of layers\n",
    "    X: raw data\n",
    "    X shape: [batch, features_num]\n",
    "\n",
    "    output: \n",
    "    output shape: [batch, out_features_num]\n",
    "    \"\"\"\n",
    "    \n",
    "    for layer in network:\n",
    "        X = layer.forward(X)\n",
    "    \n",
    "    return X"
   ]
  },
  {
   "cell_type": "markdown",
   "metadata": {
    "hidden": true
   },
   "source": [
    "Для проверки, хорошо ли сеть обучилась, нам понадобится вычислять долю правильных ответов (accuracy) на данной выборке. Для этого реализуйте функцию, которая делает предсказания на каждом объекте (логично в качестве предсказания на очередном объекте выдавать тот класс, для которого предсказанный логарифм вероятности максимален):"
   ]
  },
  {
   "cell_type": "code",
   "execution_count": 26,
   "metadata": {
    "hidden": true,
    "ExecuteTime": {
     "end_time": "2024-02-29T17:10:42.629301800Z",
     "start_time": "2024-02-29T17:10:41.777061700Z"
    }
   },
   "outputs": [],
   "source": [
    "def predict(network: List[Layer], X):\n",
    "    \"\"\"\n",
    "    Returns predictions for each object in X.\n",
    "    \n",
    "    network: list of layers\n",
    "    X: raw data\n",
    "    X shape: [batch, features_num]\n",
    "\n",
    "    output: array of classes, each from 0 to 9\n",
    "    output shape: [batch]\n",
    "    \"\"\"\n",
    "    \n",
    "    pred = forward(network, X)\n",
    "    \n",
    "    return np.argmax(pred, axis=1, keepdims=True)"
   ]
  },
  {
   "cell_type": "markdown",
   "metadata": {
    "hidden": true
   },
   "source": [
    "Мы будем обучать параметры нейросети с помощью готовой функции оптимизации из модуля `scipy`:"
   ]
  },
  {
   "cell_type": "code",
   "execution_count": 27,
   "metadata": {
    "hidden": true,
    "ExecuteTime": {
     "end_time": "2024-02-29T17:10:42.834577200Z",
     "start_time": "2024-02-29T17:10:41.791512200Z"
    }
   },
   "outputs": [],
   "source": [
    "from scipy.optimize import minimize"
   ]
  },
  {
   "cell_type": "code",
   "execution_count": 28,
   "metadata": {
    "hidden": true,
    "scrolled": true,
    "ExecuteTime": {
     "end_time": "2024-02-29T17:10:42.872822100Z",
     "start_time": "2024-02-29T17:10:41.807814800Z"
    }
   },
   "outputs": [
    {
     "name": "stdout",
     "output_type": "stream",
     "text": [
      "Help on function minimize in module scipy.optimize._minimize:\n",
      "\n",
      "minimize(fun, x0, args=(), method=None, jac=None, hess=None, hessp=None, bounds=None, constraints=(), tol=None, callback=None, options=None)\n",
      "    Minimization of scalar function of one or more variables.\n",
      "    \n",
      "    Parameters\n",
      "    ----------\n",
      "    fun : callable\n",
      "        The objective function to be minimized.\n",
      "    \n",
      "            ``fun(x, *args) -> float``\n",
      "    \n",
      "        where ``x`` is a 1-D array with shape (n,) and ``args``\n",
      "        is a tuple of the fixed parameters needed to completely\n",
      "        specify the function.\n",
      "    x0 : ndarray, shape (n,)\n",
      "        Initial guess. Array of real elements of size (n,),\n",
      "        where ``n`` is the number of independent variables.\n",
      "    args : tuple, optional\n",
      "        Extra arguments passed to the objective function and its\n",
      "        derivatives (`fun`, `jac` and `hess` functions).\n",
      "    method : str or callable, optional\n",
      "        Type of solver.  Should be one of\n",
      "    \n",
      "            - 'Nelder-Mead' :ref:`(see here) <optimize.minimize-neldermead>`\n",
      "            - 'Powell'      :ref:`(see here) <optimize.minimize-powell>`\n",
      "            - 'CG'          :ref:`(see here) <optimize.minimize-cg>`\n",
      "            - 'BFGS'        :ref:`(see here) <optimize.minimize-bfgs>`\n",
      "            - 'Newton-CG'   :ref:`(see here) <optimize.minimize-newtoncg>`\n",
      "            - 'L-BFGS-B'    :ref:`(see here) <optimize.minimize-lbfgsb>`\n",
      "            - 'TNC'         :ref:`(see here) <optimize.minimize-tnc>`\n",
      "            - 'COBYLA'      :ref:`(see here) <optimize.minimize-cobyla>`\n",
      "            - 'SLSQP'       :ref:`(see here) <optimize.minimize-slsqp>`\n",
      "            - 'trust-constr':ref:`(see here) <optimize.minimize-trustconstr>`\n",
      "            - 'dogleg'      :ref:`(see here) <optimize.minimize-dogleg>`\n",
      "            - 'trust-ncg'   :ref:`(see here) <optimize.minimize-trustncg>`\n",
      "            - 'trust-exact' :ref:`(see here) <optimize.minimize-trustexact>`\n",
      "            - 'trust-krylov' :ref:`(see here) <optimize.minimize-trustkrylov>`\n",
      "            - custom - a callable object, see below for description.\n",
      "    \n",
      "        If not given, chosen to be one of ``BFGS``, ``L-BFGS-B``, ``SLSQP``,\n",
      "        depending on whether or not the problem has constraints or bounds.\n",
      "    jac : {callable,  '2-point', '3-point', 'cs', bool}, optional\n",
      "        Method for computing the gradient vector. Only for CG, BFGS,\n",
      "        Newton-CG, L-BFGS-B, TNC, SLSQP, dogleg, trust-ncg, trust-krylov,\n",
      "        trust-exact and trust-constr.\n",
      "        If it is a callable, it should be a function that returns the gradient\n",
      "        vector:\n",
      "    \n",
      "            ``jac(x, *args) -> array_like, shape (n,)``\n",
      "    \n",
      "        where ``x`` is an array with shape (n,) and ``args`` is a tuple with\n",
      "        the fixed parameters. If `jac` is a Boolean and is True, `fun` is\n",
      "        assumed to return a tuple ``(f, g)`` containing the objective\n",
      "        function and the gradient.\n",
      "        Methods 'Newton-CG', 'trust-ncg', 'dogleg', 'trust-exact', and\n",
      "        'trust-krylov' require that either a callable be supplied, or that\n",
      "        `fun` return the objective and gradient.\n",
      "        If None or False, the gradient will be estimated using 2-point finite\n",
      "        difference estimation with an absolute step size.\n",
      "        Alternatively, the keywords  {'2-point', '3-point', 'cs'} can be used\n",
      "        to select a finite difference scheme for numerical estimation of the\n",
      "        gradient with a relative step size. These finite difference schemes\n",
      "        obey any specified `bounds`.\n",
      "    hess : {callable, '2-point', '3-point', 'cs', HessianUpdateStrategy}, optional\n",
      "        Method for computing the Hessian matrix. Only for Newton-CG, dogleg,\n",
      "        trust-ncg, trust-krylov, trust-exact and trust-constr.\n",
      "        If it is callable, it should return the Hessian matrix:\n",
      "    \n",
      "            ``hess(x, *args) -> {LinearOperator, spmatrix, array}, (n, n)``\n",
      "    \n",
      "        where ``x`` is a (n,) ndarray and ``args`` is a tuple with the fixed\n",
      "        parameters.\n",
      "        The keywords {'2-point', '3-point', 'cs'} can also be used to select\n",
      "        a finite difference scheme for numerical estimation of the hessian.\n",
      "        Alternatively, objects implementing the `HessianUpdateStrategy`\n",
      "        interface can be used to approximate the Hessian. Available\n",
      "        quasi-Newton methods implementing this interface are:\n",
      "    \n",
      "            - `BFGS`;\n",
      "            - `SR1`.\n",
      "    \n",
      "        Not all of the options are available for each of the methods; for\n",
      "        availability refer to the notes.\n",
      "    hessp : callable, optional\n",
      "        Hessian of objective function times an arbitrary vector p. Only for\n",
      "        Newton-CG, trust-ncg, trust-krylov, trust-constr.\n",
      "        Only one of `hessp` or `hess` needs to be given. If `hess` is\n",
      "        provided, then `hessp` will be ignored. `hessp` must compute the\n",
      "        Hessian times an arbitrary vector:\n",
      "    \n",
      "            ``hessp(x, p, *args) ->  ndarray shape (n,)``\n",
      "    \n",
      "        where ``x`` is a (n,) ndarray, ``p`` is an arbitrary vector with\n",
      "        dimension (n,) and ``args`` is a tuple with the fixed\n",
      "        parameters.\n",
      "    bounds : sequence or `Bounds`, optional\n",
      "        Bounds on variables for Nelder-Mead, L-BFGS-B, TNC, SLSQP, Powell,\n",
      "        trust-constr, and COBYLA methods. There are two ways to specify the\n",
      "        bounds:\n",
      "    \n",
      "            1. Instance of `Bounds` class.\n",
      "            2. Sequence of ``(min, max)`` pairs for each element in `x`. None\n",
      "               is used to specify no bound.\n",
      "    \n",
      "    constraints : {Constraint, dict} or List of {Constraint, dict}, optional\n",
      "        Constraints definition. Only for COBYLA, SLSQP and trust-constr.\n",
      "    \n",
      "        Constraints for 'trust-constr' are defined as a single object or a\n",
      "        list of objects specifying constraints to the optimization problem.\n",
      "        Available constraints are:\n",
      "    \n",
      "            - `LinearConstraint`\n",
      "            - `NonlinearConstraint`\n",
      "    \n",
      "        Constraints for COBYLA, SLSQP are defined as a list of dictionaries.\n",
      "        Each dictionary with fields:\n",
      "    \n",
      "            type : str\n",
      "                Constraint type: 'eq' for equality, 'ineq' for inequality.\n",
      "            fun : callable\n",
      "                The function defining the constraint.\n",
      "            jac : callable, optional\n",
      "                The Jacobian of `fun` (only for SLSQP).\n",
      "            args : sequence, optional\n",
      "                Extra arguments to be passed to the function and Jacobian.\n",
      "    \n",
      "        Equality constraint means that the constraint function result is to\n",
      "        be zero whereas inequality means that it is to be non-negative.\n",
      "        Note that COBYLA only supports inequality constraints.\n",
      "    tol : float, optional\n",
      "        Tolerance for termination. When `tol` is specified, the selected\n",
      "        minimization algorithm sets some relevant solver-specific tolerance(s)\n",
      "        equal to `tol`. For detailed control, use solver-specific\n",
      "        options.\n",
      "    options : dict, optional\n",
      "        A dictionary of solver options. All methods except `TNC` accept the\n",
      "        following generic options:\n",
      "    \n",
      "            maxiter : int\n",
      "                Maximum number of iterations to perform. Depending on the\n",
      "                method each iteration may use several function evaluations.\n",
      "    \n",
      "                For `TNC` use `maxfun` instead of `maxiter`.\n",
      "            disp : bool\n",
      "                Set to True to print convergence messages.\n",
      "    \n",
      "        For method-specific options, see :func:`show_options()`.\n",
      "    callback : callable, optional\n",
      "        A callable called after each iteration.\n",
      "    \n",
      "        All methods except TNC, SLSQP, and COBYLA support a callable with\n",
      "        the signature:\n",
      "    \n",
      "            ``callback(OptimizeResult: intermediate_result)``\n",
      "    \n",
      "        where ``intermediate_result`` is a keyword parameter containing an\n",
      "        `OptimizeResult` with attributes ``x`` and ``fun``, the present values\n",
      "        of the parameter vector and objective function. Note that the name\n",
      "        of the parameter must be ``intermediate_result`` for the callback\n",
      "        to be passed an `OptimizeResult`. These methods will also terminate if\n",
      "        the callback raises ``StopIteration``.\n",
      "    \n",
      "        All methods except trust-constr (also) support a signature like:\n",
      "    \n",
      "            ``callback(xk)``\n",
      "    \n",
      "        where ``xk`` is the current parameter vector.\n",
      "    \n",
      "        Introspection is used to determine which of the signatures above to\n",
      "        invoke.\n",
      "    \n",
      "    Returns\n",
      "    -------\n",
      "    res : OptimizeResult\n",
      "        The optimization result represented as a ``OptimizeResult`` object.\n",
      "        Important attributes are: ``x`` the solution array, ``success`` a\n",
      "        Boolean flag indicating if the optimizer exited successfully and\n",
      "        ``message`` which describes the cause of the termination. See\n",
      "        `OptimizeResult` for a description of other attributes.\n",
      "    \n",
      "    See also\n",
      "    --------\n",
      "    minimize_scalar : Interface to minimization algorithms for scalar\n",
      "        univariate functions\n",
      "    show_options : Additional options accepted by the solvers\n",
      "    \n",
      "    Notes\n",
      "    -----\n",
      "    This section describes the available solvers that can be selected by the\n",
      "    'method' parameter. The default method is *BFGS*.\n",
      "    \n",
      "    **Unconstrained minimization**\n",
      "    \n",
      "    Method :ref:`CG <optimize.minimize-cg>` uses a nonlinear conjugate\n",
      "    gradient algorithm by Polak and Ribiere, a variant of the\n",
      "    Fletcher-Reeves method described in [5]_ pp.120-122. Only the\n",
      "    first derivatives are used.\n",
      "    \n",
      "    Method :ref:`BFGS <optimize.minimize-bfgs>` uses the quasi-Newton\n",
      "    method of Broyden, Fletcher, Goldfarb, and Shanno (BFGS) [5]_\n",
      "    pp. 136. It uses the first derivatives only. BFGS has proven good\n",
      "    performance even for non-smooth optimizations. This method also\n",
      "    returns an approximation of the Hessian inverse, stored as\n",
      "    `hess_inv` in the OptimizeResult object.\n",
      "    \n",
      "    Method :ref:`Newton-CG <optimize.minimize-newtoncg>` uses a\n",
      "    Newton-CG algorithm [5]_ pp. 168 (also known as the truncated\n",
      "    Newton method). It uses a CG method to the compute the search\n",
      "    direction. See also *TNC* method for a box-constrained\n",
      "    minimization with a similar algorithm. Suitable for large-scale\n",
      "    problems.\n",
      "    \n",
      "    Method :ref:`dogleg <optimize.minimize-dogleg>` uses the dog-leg\n",
      "    trust-region algorithm [5]_ for unconstrained minimization. This\n",
      "    algorithm requires the gradient and Hessian; furthermore the\n",
      "    Hessian is required to be positive definite.\n",
      "    \n",
      "    Method :ref:`trust-ncg <optimize.minimize-trustncg>` uses the\n",
      "    Newton conjugate gradient trust-region algorithm [5]_ for\n",
      "    unconstrained minimization. This algorithm requires the gradient\n",
      "    and either the Hessian or a function that computes the product of\n",
      "    the Hessian with a given vector. Suitable for large-scale problems.\n",
      "    \n",
      "    Method :ref:`trust-krylov <optimize.minimize-trustkrylov>` uses\n",
      "    the Newton GLTR trust-region algorithm [14]_, [15]_ for unconstrained\n",
      "    minimization. This algorithm requires the gradient\n",
      "    and either the Hessian or a function that computes the product of\n",
      "    the Hessian with a given vector. Suitable for large-scale problems.\n",
      "    On indefinite problems it requires usually less iterations than the\n",
      "    `trust-ncg` method and is recommended for medium and large-scale problems.\n",
      "    \n",
      "    Method :ref:`trust-exact <optimize.minimize-trustexact>`\n",
      "    is a trust-region method for unconstrained minimization in which\n",
      "    quadratic subproblems are solved almost exactly [13]_. This\n",
      "    algorithm requires the gradient and the Hessian (which is\n",
      "    *not* required to be positive definite). It is, in many\n",
      "    situations, the Newton method to converge in fewer iterations\n",
      "    and the most recommended for small and medium-size problems.\n",
      "    \n",
      "    **Bound-Constrained minimization**\n",
      "    \n",
      "    Method :ref:`Nelder-Mead <optimize.minimize-neldermead>` uses the\n",
      "    Simplex algorithm [1]_, [2]_. This algorithm is robust in many\n",
      "    applications. However, if numerical computation of derivative can be\n",
      "    trusted, other algorithms using the first and/or second derivatives\n",
      "    information might be preferred for their better performance in\n",
      "    general.\n",
      "    \n",
      "    Method :ref:`L-BFGS-B <optimize.minimize-lbfgsb>` uses the L-BFGS-B\n",
      "    algorithm [6]_, [7]_ for bound constrained minimization.\n",
      "    \n",
      "    Method :ref:`Powell <optimize.minimize-powell>` is a modification\n",
      "    of Powell's method [3]_, [4]_ which is a conjugate direction\n",
      "    method. It performs sequential one-dimensional minimizations along\n",
      "    each vector of the directions set (`direc` field in `options` and\n",
      "    `info`), which is updated at each iteration of the main\n",
      "    minimization loop. The function need not be differentiable, and no\n",
      "    derivatives are taken. If bounds are not provided, then an\n",
      "    unbounded line search will be used. If bounds are provided and\n",
      "    the initial guess is within the bounds, then every function\n",
      "    evaluation throughout the minimization procedure will be within\n",
      "    the bounds. If bounds are provided, the initial guess is outside\n",
      "    the bounds, and `direc` is full rank (default has full rank), then\n",
      "    some function evaluations during the first iteration may be\n",
      "    outside the bounds, but every function evaluation after the first\n",
      "    iteration will be within the bounds. If `direc` is not full rank,\n",
      "    then some parameters may not be optimized and the solution is not\n",
      "    guaranteed to be within the bounds.\n",
      "    \n",
      "    Method :ref:`TNC <optimize.minimize-tnc>` uses a truncated Newton\n",
      "    algorithm [5]_, [8]_ to minimize a function with variables subject\n",
      "    to bounds. This algorithm uses gradient information; it is also\n",
      "    called Newton Conjugate-Gradient. It differs from the *Newton-CG*\n",
      "    method described above as it wraps a C implementation and allows\n",
      "    each variable to be given upper and lower bounds.\n",
      "    \n",
      "    **Constrained Minimization**\n",
      "    \n",
      "    Method :ref:`COBYLA <optimize.minimize-cobyla>` uses the\n",
      "    Constrained Optimization BY Linear Approximation (COBYLA) method\n",
      "    [9]_, [10]_, [11]_. The algorithm is based on linear\n",
      "    approximations to the objective function and each constraint. The\n",
      "    method wraps a FORTRAN implementation of the algorithm. The\n",
      "    constraints functions 'fun' may return either a single number\n",
      "    or an array or list of numbers.\n",
      "    \n",
      "    Method :ref:`SLSQP <optimize.minimize-slsqp>` uses Sequential\n",
      "    Least SQuares Programming to minimize a function of several\n",
      "    variables with any combination of bounds, equality and inequality\n",
      "    constraints. The method wraps the SLSQP Optimization subroutine\n",
      "    originally implemented by Dieter Kraft [12]_. Note that the\n",
      "    wrapper handles infinite values in bounds by converting them into\n",
      "    large floating values.\n",
      "    \n",
      "    Method :ref:`trust-constr <optimize.minimize-trustconstr>` is a\n",
      "    trust-region algorithm for constrained optimization. It swiches\n",
      "    between two implementations depending on the problem definition.\n",
      "    It is the most versatile constrained minimization algorithm\n",
      "    implemented in SciPy and the most appropriate for large-scale problems.\n",
      "    For equality constrained problems it is an implementation of Byrd-Omojokun\n",
      "    Trust-Region SQP method described in [17]_ and in [5]_, p. 549. When\n",
      "    inequality constraints are imposed as well, it swiches to the trust-region\n",
      "    interior point method described in [16]_. This interior point algorithm,\n",
      "    in turn, solves inequality constraints by introducing slack variables\n",
      "    and solving a sequence of equality-constrained barrier problems\n",
      "    for progressively smaller values of the barrier parameter.\n",
      "    The previously described equality constrained SQP method is\n",
      "    used to solve the subproblems with increasing levels of accuracy\n",
      "    as the iterate gets closer to a solution.\n",
      "    \n",
      "    **Finite-Difference Options**\n",
      "    \n",
      "    For Method :ref:`trust-constr <optimize.minimize-trustconstr>`\n",
      "    the gradient and the Hessian may be approximated using\n",
      "    three finite-difference schemes: {'2-point', '3-point', 'cs'}.\n",
      "    The scheme 'cs' is, potentially, the most accurate but it\n",
      "    requires the function to correctly handle complex inputs and to\n",
      "    be differentiable in the complex plane. The scheme '3-point' is more\n",
      "    accurate than '2-point' but requires twice as many operations. If the\n",
      "    gradient is estimated via finite-differences the Hessian must be\n",
      "    estimated using one of the quasi-Newton strategies.\n",
      "    \n",
      "    **Method specific options for the** `hess` **keyword**\n",
      "    \n",
      "    +--------------+------+----------+-------------------------+-----+\n",
      "    | method/Hess  | None | callable | '2-point/'3-point'/'cs' | HUS |\n",
      "    +==============+======+==========+=========================+=====+\n",
      "    | Newton-CG    | x    | (n, n)   | x                       | x   |\n",
      "    |              |      | LO       |                         |     |\n",
      "    +--------------+------+----------+-------------------------+-----+\n",
      "    | dogleg       |      | (n, n)   |                         |     |\n",
      "    +--------------+------+----------+-------------------------+-----+\n",
      "    | trust-ncg    |      | (n, n)   | x                       | x   |\n",
      "    +--------------+------+----------+-------------------------+-----+\n",
      "    | trust-krylov |      | (n, n)   | x                       | x   |\n",
      "    +--------------+------+----------+-------------------------+-----+\n",
      "    | trust-exact  |      | (n, n)   |                         |     |\n",
      "    +--------------+------+----------+-------------------------+-----+\n",
      "    | trust-constr | x    | (n, n)   |  x                      | x   |\n",
      "    |              |      | LO       |                         |     |\n",
      "    |              |      | sp       |                         |     |\n",
      "    +--------------+------+----------+-------------------------+-----+\n",
      "    \n",
      "    where LO=LinearOperator, sp=Sparse matrix, HUS=HessianUpdateStrategy\n",
      "    \n",
      "    **Custom minimizers**\n",
      "    \n",
      "    It may be useful to pass a custom minimization method, for example\n",
      "    when using a frontend to this method such as `scipy.optimize.basinhopping`\n",
      "    or a different library.  You can simply pass a callable as the ``method``\n",
      "    parameter.\n",
      "    \n",
      "    The callable is called as ``method(fun, x0, args, **kwargs, **options)``\n",
      "    where ``kwargs`` corresponds to any other parameters passed to `minimize`\n",
      "    (such as `callback`, `hess`, etc.), except the `options` dict, which has\n",
      "    its contents also passed as `method` parameters pair by pair.  Also, if\n",
      "    `jac` has been passed as a bool type, `jac` and `fun` are mangled so that\n",
      "    `fun` returns just the function values and `jac` is converted to a function\n",
      "    returning the Jacobian.  The method shall return an `OptimizeResult`\n",
      "    object.\n",
      "    \n",
      "    The provided `method` callable must be able to accept (and possibly ignore)\n",
      "    arbitrary parameters; the set of parameters accepted by `minimize` may\n",
      "    expand in future versions and then these parameters will be passed to\n",
      "    the method.  You can find an example in the scipy.optimize tutorial.\n",
      "    \n",
      "    References\n",
      "    ----------\n",
      "    .. [1] Nelder, J A, and R Mead. 1965. A Simplex Method for Function\n",
      "        Minimization. The Computer Journal 7: 308-13.\n",
      "    .. [2] Wright M H. 1996. Direct search methods: Once scorned, now\n",
      "        respectable, in Numerical Analysis 1995: Proceedings of the 1995\n",
      "        Dundee Biennial Conference in Numerical Analysis (Eds. D F\n",
      "        Griffiths and G A Watson). Addison Wesley Longman, Harlow, UK.\n",
      "        191-208.\n",
      "    .. [3] Powell, M J D. 1964. An efficient method for finding the minimum of\n",
      "       a function of several variables without calculating derivatives. The\n",
      "       Computer Journal 7: 155-162.\n",
      "    .. [4] Press W, S A Teukolsky, W T Vetterling and B P Flannery.\n",
      "       Numerical Recipes (any edition), Cambridge University Press.\n",
      "    .. [5] Nocedal, J, and S J Wright. 2006. Numerical Optimization.\n",
      "       Springer New York.\n",
      "    .. [6] Byrd, R H and P Lu and J. Nocedal. 1995. A Limited Memory\n",
      "       Algorithm for Bound Constrained Optimization. SIAM Journal on\n",
      "       Scientific and Statistical Computing 16 (5): 1190-1208.\n",
      "    .. [7] Zhu, C and R H Byrd and J Nocedal. 1997. L-BFGS-B: Algorithm\n",
      "       778: L-BFGS-B, FORTRAN routines for large scale bound constrained\n",
      "       optimization. ACM Transactions on Mathematical Software 23 (4):\n",
      "       550-560.\n",
      "    .. [8] Nash, S G. Newton-Type Minimization Via the Lanczos Method.\n",
      "       1984. SIAM Journal of Numerical Analysis 21: 770-778.\n",
      "    .. [9] Powell, M J D. A direct search optimization method that models\n",
      "       the objective and constraint functions by linear interpolation.\n",
      "       1994. Advances in Optimization and Numerical Analysis, eds. S. Gomez\n",
      "       and J-P Hennart, Kluwer Academic (Dordrecht), 51-67.\n",
      "    .. [10] Powell M J D. Direct search algorithms for optimization\n",
      "       calculations. 1998. Acta Numerica 7: 287-336.\n",
      "    .. [11] Powell M J D. A view of algorithms for optimization without\n",
      "       derivatives. 2007.Cambridge University Technical Report DAMTP\n",
      "       2007/NA03\n",
      "    .. [12] Kraft, D. A software package for sequential quadratic\n",
      "       programming. 1988. Tech. Rep. DFVLR-FB 88-28, DLR German Aerospace\n",
      "       Center -- Institute for Flight Mechanics, Koln, Germany.\n",
      "    .. [13] Conn, A. R., Gould, N. I., and Toint, P. L.\n",
      "       Trust region methods. 2000. Siam. pp. 169-200.\n",
      "    .. [14] F. Lenders, C. Kirches, A. Potschka: \"trlib: A vector-free\n",
      "       implementation of the GLTR method for iterative solution of\n",
      "       the trust region problem\", :arxiv:`1611.04718`\n",
      "    .. [15] N. Gould, S. Lucidi, M. Roma, P. Toint: \"Solving the\n",
      "       Trust-Region Subproblem using the Lanczos Method\",\n",
      "       SIAM J. Optim., 9(2), 504--525, (1999).\n",
      "    .. [16] Byrd, Richard H., Mary E. Hribar, and Jorge Nocedal. 1999.\n",
      "        An interior point algorithm for large-scale nonlinear  programming.\n",
      "        SIAM Journal on Optimization 9.4: 877-900.\n",
      "    .. [17] Lalee, Marucha, Jorge Nocedal, and Todd Plantega. 1998. On the\n",
      "        implementation of an algorithm for large-scale equality constrained\n",
      "        optimization. SIAM Journal on Optimization 8.3: 682-706.\n",
      "    \n",
      "    Examples\n",
      "    --------\n",
      "    Let us consider the problem of minimizing the Rosenbrock function. This\n",
      "    function (and its respective derivatives) is implemented in `rosen`\n",
      "    (resp. `rosen_der`, `rosen_hess`) in the `scipy.optimize`.\n",
      "    \n",
      "    >>> from scipy.optimize import minimize, rosen, rosen_der\n",
      "    \n",
      "    A simple application of the *Nelder-Mead* method is:\n",
      "    \n",
      "    >>> x0 = [1.3, 0.7, 0.8, 1.9, 1.2]\n",
      "    >>> res = minimize(rosen, x0, method='Nelder-Mead', tol=1e-6)\n",
      "    >>> res.x\n",
      "    array([ 1.,  1.,  1.,  1.,  1.])\n",
      "    \n",
      "    Now using the *BFGS* algorithm, using the first derivative and a few\n",
      "    options:\n",
      "    \n",
      "    >>> res = minimize(rosen, x0, method='BFGS', jac=rosen_der,\n",
      "    ...                options={'gtol': 1e-6, 'disp': True})\n",
      "    Optimization terminated successfully.\n",
      "             Current function value: 0.000000\n",
      "             Iterations: 26\n",
      "             Function evaluations: 31\n",
      "             Gradient evaluations: 31\n",
      "    >>> res.x\n",
      "    array([ 1.,  1.,  1.,  1.,  1.])\n",
      "    >>> print(res.message)\n",
      "    Optimization terminated successfully.\n",
      "    >>> res.hess_inv\n",
      "    array([[ 0.00749589,  0.01255155,  0.02396251,  0.04750988,  0.09495377],  # may vary\n",
      "           [ 0.01255155,  0.02510441,  0.04794055,  0.09502834,  0.18996269],\n",
      "           [ 0.02396251,  0.04794055,  0.09631614,  0.19092151,  0.38165151],\n",
      "           [ 0.04750988,  0.09502834,  0.19092151,  0.38341252,  0.7664427 ],\n",
      "           [ 0.09495377,  0.18996269,  0.38165151,  0.7664427,   1.53713523]])\n",
      "    \n",
      "    \n",
      "    Next, consider a minimization problem with several constraints (namely\n",
      "    Example 16.4 from [5]_). The objective function is:\n",
      "    \n",
      "    >>> fun = lambda x: (x[0] - 1)**2 + (x[1] - 2.5)**2\n",
      "    \n",
      "    There are three constraints defined as:\n",
      "    \n",
      "    >>> cons = ({'type': 'ineq', 'fun': lambda x:  x[0] - 2 * x[1] + 2},\n",
      "    ...         {'type': 'ineq', 'fun': lambda x: -x[0] - 2 * x[1] + 6},\n",
      "    ...         {'type': 'ineq', 'fun': lambda x: -x[0] + 2 * x[1] + 2})\n",
      "    \n",
      "    And variables must be positive, hence the following bounds:\n",
      "    \n",
      "    >>> bnds = ((0, None), (0, None))\n",
      "    \n",
      "    The optimization problem is solved using the SLSQP method as:\n",
      "    \n",
      "    >>> res = minimize(fun, (2, 0), method='SLSQP', bounds=bnds,\n",
      "    ...                constraints=cons)\n",
      "    \n",
      "    It should converge to the theoretical solution (1.4 ,1.7).\n"
     ]
    }
   ],
   "source": [
    "help(minimize)"
   ]
  },
  {
   "cell_type": "markdown",
   "metadata": {
    "hidden": true
   },
   "source": [
    "Эта функция имеет стандартный интерфейс: нужно передать callable объект, который вычисляет значение и градиент целевой функции, а также точку старта оптимизации — начальное приближение (одномерный `numpy`-массив). Поэтому нам понадобятся функции для сбора и задания всех весов нашей нейросети (именно для них мы всегда записывали параметры слоя в список `layer.params`)"
   ]
  },
  {
   "cell_type": "code",
   "execution_count": 29,
   "metadata": {
    "hidden": true,
    "ExecuteTime": {
     "end_time": "2024-02-29T17:10:43.248727300Z",
     "start_time": "2024-02-29T17:10:41.822134500Z"
    }
   },
   "outputs": [],
   "source": [
    "def get_weights(network):\n",
    "    weights = []\n",
    "    for layer in network:\n",
    "        for param in layer.params:\n",
    "            weights += param.ravel().tolist()\n",
    "    return np.array(weights)\n",
    "\n",
    "\n",
    "def set_weights(weights, network):\n",
    "    i = 0\n",
    "    for layer in network:\n",
    "        for param in layer.params:\n",
    "            l = param.size\n",
    "            param[:] = weights[i:i+l].reshape(param.shape)\n",
    "            i += l"
   ]
  },
  {
   "cell_type": "markdown",
   "metadata": {
    "hidden": true
   },
   "source": [
    "Вам нужно реализовать ту самую функцию, которую мы будем передавать в `minimize`. Эта функция должна брать на вход текущую точку (вектор всех параметров), а также список дополнительных параметров (мы будем передавать через них нашу сеть и обучающие данные) и возвращать значение критерия качества (NLL) и его градиент по параметрам модели."
   ]
  },
  {
   "cell_type": "code",
   "execution_count": 30,
   "metadata": {
    "hidden": true,
    "ExecuteTime": {
     "end_time": "2024-02-29T17:10:43.377508900Z",
     "start_time": "2024-02-29T17:10:41.839726600Z"
    }
   },
   "outputs": [],
   "source": [
    "def compute_loss_grad(weights, args):\n",
    "    \"\"\"\n",
    "    takes current weights and computes cross-entropy and gradients\n",
    "    weights shape: [num_parameters]\n",
    "    output 1: loss (scalar)\n",
    "    output 2: gradint w.r.t. weights, shape: [num_parameters]\n",
    "    \n",
    "    hint: firstly perform forward pass through the whole network\n",
    "    then compute loss and its gradients\n",
    "    then perform backward pass, transmitting first baskward output\n",
    "    to the previos layer and saving second baskward output in a list\n",
    "    finally flatten all the gradients in this list\n",
    "    (in the order from the first to the last layer)\n",
    "    \n",
    "    Do not forget to set weights of the network!\n",
    "    \"\"\"\n",
    "    network, X, y = args\n",
    "    \n",
    "    set_weights(weights, network)\n",
    "    \n",
    "    activations = forward(network, X)\n",
    "    loss = NLL(activations, y)\n",
    "    \n",
    "    weights_grad_arrays = []\n",
    "    \n",
    "    d_loss_d_input = grad_NLL(activations, y)\n",
    "    for layer in reversed(network):\n",
    "        d_loss_d_input, d_loss_d_layer = layer.backward(d_loss_d_input)\n",
    "        if isinstance(layer, Dense):\n",
    "            # print(f\"{layer=}\\tdW shape = {d_loss_d_layer[0].shape}\\tdb shape = {d_loss_d_layer[1].shape}\")\n",
    "            # weights_grad += (np.sum(d_loss_d_layer[0], axis=0).ravel().tolist())\n",
    "            # weights_grad += (np.sum(d_loss_d_layer[1], axis=0).ravel().tolist())\n",
    "            weights_grad_arrays.append(np.sum(d_loss_d_layer[1], axis=0).ravel().tolist())\n",
    "            weights_grad_arrays.append(np.sum(d_loss_d_layer[0], axis=0).ravel().tolist())\n",
    "        else:\n",
    "            pass\n",
    "            # print(f\"{layer=}\")\n",
    "        # weights_grad += d_loss_d_layer\n",
    "    \n",
    "    weights_grad_arrays.reverse()\n",
    "    weights_grad = []\n",
    "    for wg in weights_grad_arrays:\n",
    "        weights_grad += wg\n",
    "    \n",
    "    # print(f\"Mean abs grad value: {np.mean(np.abs(weights_grad))}\\tMax abs grad value: {np.max(np.abs(weights_grad))}\")\n",
    "    # print(f\"Loss = {loss}\")\n",
    "    \n",
    "    return loss, np.array(weights_grad)"
   ]
  },
  {
   "cell_type": "markdown",
   "metadata": {
    "hidden": true
   },
   "source": [
    "Теперь мы готовы обучать нашу нейросеть. "
   ]
  },
  {
   "cell_type": "code",
   "execution_count": 31,
   "metadata": {
    "hidden": true,
    "ExecuteTime": {
     "end_time": "2024-02-29T17:10:43.419235100Z",
     "start_time": "2024-02-29T17:10:41.850683200Z"
    }
   },
   "outputs": [
    {
     "data": {
      "text/plain": "array([-0.01217283,  0.00159463, -0.00892788, ...,  0.        ,\n        0.        ,  0.        ])"
     },
     "execution_count": 31,
     "metadata": {},
     "output_type": "execute_result"
    }
   ],
   "source": [
    "network = make_network(input_size, hidden_layers_size, output_size, 3, ReLU)\n",
    "weights = get_weights(network)\n",
    "weights"
   ]
  },
  {
   "cell_type": "code",
   "execution_count": 32,
   "metadata": {
    "hidden": true,
    "ExecuteTime": {
     "end_time": "2024-02-29T17:10:44.920314900Z",
     "start_time": "2024-02-29T17:10:41.872722500Z"
    }
   },
   "outputs": [],
   "source": [
    "res = minimize(\n",
    "    compute_loss_grad, weights,       # fun and start point\n",
    "    args=[network, X_train, y_train], # args passed to fun\n",
    "    method=\"L-BFGS-B\",                # optimization method\n",
    "    jac=True,                         # says that gradient is computed in fun,\n",
    "    options={'disp': True},\n",
    "    tol=1e-6\n",
    ")"
   ]
  },
  {
   "cell_type": "code",
   "execution_count": 33,
   "metadata": {
    "hidden": true,
    "ExecuteTime": {
     "end_time": "2024-02-29T17:10:44.958471100Z",
     "start_time": "2024-02-29T17:10:44.685158300Z"
    }
   },
   "outputs": [
    {
     "data": {
      "text/plain": "dict_keys(['fun', 'jac', 'nfev', 'njev', 'nit', 'status', 'message', 'x', 'success', 'hess_inv'])"
     },
     "execution_count": 33,
     "metadata": {},
     "output_type": "execute_result"
    }
   ],
   "source": [
    "res.keys()"
   ]
  },
  {
   "cell_type": "code",
   "execution_count": 34,
   "metadata": {
    "hidden": true,
    "scrolled": true,
    "ExecuteTime": {
     "end_time": "2024-02-29T17:10:45.088516900Z",
     "start_time": "2024-02-29T17:10:44.701676600Z"
    }
   },
   "outputs": [
    {
     "data": {
      "text/plain": "106"
     },
     "execution_count": 34,
     "metadata": {},
     "output_type": "execute_result"
    }
   ],
   "source": [
    "res[\"nit\"] # number of iterations (should be >> 10)"
   ]
  },
  {
   "cell_type": "code",
   "execution_count": 35,
   "metadata": {
    "hidden": true,
    "ExecuteTime": {
     "end_time": "2024-02-29T17:10:45.152319700Z",
     "start_time": "2024-02-29T17:10:44.715748Z"
    }
   },
   "outputs": [
    {
     "data": {
      "text/plain": "True"
     },
     "execution_count": 35,
     "metadata": {},
     "output_type": "execute_result"
    }
   ],
   "source": [
    "res[\"success\"] # should be True"
   ]
  },
  {
   "cell_type": "code",
   "outputs": [
    {
     "data": {
      "text/plain": "'CONVERGENCE: REL_REDUCTION_OF_F_<=_FACTR*EPSMCH'"
     },
     "execution_count": 36,
     "metadata": {},
     "output_type": "execute_result"
    }
   ],
   "source": [
    "res[\"message\"]"
   ],
   "metadata": {
    "collapsed": false,
    "ExecuteTime": {
     "end_time": "2024-02-29T17:10:45.188039100Z",
     "start_time": "2024-02-29T17:10:44.730995600Z"
    }
   },
   "execution_count": 36
  },
  {
   "cell_type": "code",
   "execution_count": 37,
   "metadata": {
    "hidden": true,
    "ExecuteTime": {
     "end_time": "2024-02-29T17:10:45.374273600Z",
     "start_time": "2024-02-29T17:10:44.772519100Z"
    }
   },
   "outputs": [
    {
     "data": {
      "text/plain": "array([-1.21728269e-02,  1.59462507e-03, -8.92787515e-03, ...,\n       -1.20605996e+00, -2.57604485e+00, -4.05372529e-01])"
     },
     "execution_count": 37,
     "metadata": {},
     "output_type": "execute_result"
    }
   ],
   "source": [
    "res[\"x\"] # leraned weights"
   ]
  },
  {
   "cell_type": "markdown",
   "metadata": {
    "hidden": true
   },
   "source": [
    "Выведите качество на обучении (`X_train`, `y_train`) и на контроле (`X_test`, `y_test`). Не забудьте установить веса!"
   ]
  },
  {
   "cell_type": "code",
   "outputs": [],
   "source": [
    "from sklearn.metrics import accuracy_score"
   ],
   "metadata": {
    "collapsed": false,
    "ExecuteTime": {
     "end_time": "2024-02-29T17:10:45.810183800Z",
     "start_time": "2024-02-29T17:10:45.342630100Z"
    }
   },
   "execution_count": 38
  },
  {
   "cell_type": "code",
   "outputs": [
    {
     "data": {
      "text/plain": "[Dense(64, 32), Relu(), Dense(32, 32), Relu(), Dense(32, 10), LogSoftmax()]"
     },
     "execution_count": 39,
     "metadata": {},
     "output_type": "execute_result"
    }
   ],
   "source": [
    "network"
   ],
   "metadata": {
    "collapsed": false,
    "ExecuteTime": {
     "end_time": "2024-02-29T17:10:45.984158900Z",
     "start_time": "2024-02-29T17:10:45.793098300Z"
    }
   },
   "execution_count": 39
  },
  {
   "cell_type": "code",
   "execution_count": 40,
   "metadata": {
    "hidden": true,
    "ExecuteTime": {
     "end_time": "2024-02-29T17:10:46.052837100Z",
     "start_time": "2024-02-29T17:10:45.915610600Z"
    }
   },
   "outputs": [
    {
     "name": "stdout",
     "output_type": "stream",
     "text": [
      "Train NLL: 0.0000044\t\tTest NLL: 0.7244347\n",
      "Train accuracy: 1.000\t\tTest accuracy: 0.958\n"
     ]
    }
   ],
   "source": [
    "set_weights(weights=res[\"x\"], network=network)\n",
    "\n",
    "train_NLL = NLL(forward(network, X_train), y_train)\n",
    "test_NLL = NLL(forward(network, X_test), y_test)\n",
    "\n",
    "print(f\"Train NLL: {train_NLL:.7f}\\t\\tTest NLL: {test_NLL:.7f}\")\n",
    "\n",
    "train_accuracy = accuracy_score(y_true=y_train, y_pred=predict(network, X_train))\n",
    "test_accuracy = accuracy_score(y_true=y_test, y_pred=predict(network, X_test))\n",
    "\n",
    "print(f\"Train accuracy: {train_accuracy:.3f}\\t\\tTest accuracy: {test_accuracy:.3f}\")"
   ]
  },
  {
   "cell_type": "markdown",
   "metadata": {
    "hidden": true
   },
   "source": [
    "У `minimize` есть также аргумент `callback` — в нее можно передать функцию, которая будет вызываться после каждой итерации оптимизации. Такую функцию удобно оформить в виде метода класса, который будет сохранять качество на обучении контроле после каждой итерации. Реализуйте этот метод в классе `Callback`:"
   ]
  },
  {
   "cell_type": "code",
   "execution_count": 41,
   "metadata": {
    "hidden": true,
    "ExecuteTime": {
     "end_time": "2024-02-29T17:10:46.279631100Z",
     "start_time": "2024-02-29T17:10:46.033975300Z"
    }
   },
   "outputs": [],
   "source": [
    "class Callback:\n",
    "    def __init__(self, network, X_train, y_train, X_test, y_test, print=False):\n",
    "        self.network = network\n",
    "        self.X_train = X_train\n",
    "        self.X_test = X_test\n",
    "        self.y_train = y_train\n",
    "        self.y_test = y_test\n",
    "        self.print = print\n",
    "        self.train_acc = []\n",
    "        self.test_acc = []\n",
    "        self.train_NLL = []\n",
    "        self.test_NLL = []\n",
    "        \n",
    "    def call(self, weights):\n",
    "        \"\"\"\n",
    "        Computes quality on train and test set with given weights\n",
    "        and saves to self.train_acc and self.test_acc.\n",
    "        If self.print is True, also prints these 2 values\n",
    "        \"\"\"\n",
    "        \n",
    "        train_NLL = NLL(forward(network, X_train), y_train)\n",
    "        test_NLL = NLL(forward(network, X_test), y_test)\n",
    "        \n",
    "        train_accuracy = accuracy_score(y_true=y_train, y_pred=predict(network, X_train))\n",
    "        test_accuracy = accuracy_score(y_true=y_test, y_pred=predict(network, X_test))\n",
    "        \n",
    "        self.train_acc.append(train_accuracy)\n",
    "        self.test_acc.append(test_accuracy)\n",
    "        self.train_NLL.append(train_NLL)\n",
    "        self.test_NLL.append(test_NLL)\n",
    "        \n",
    "        if self.print:\n",
    "            print(f\"Train accuracy: {train_accuracy:.3f}\\t\\tTest accuracy: {test_accuracy:.3f}\")"
   ]
  },
  {
   "cell_type": "code",
   "execution_count": 42,
   "metadata": {
    "hidden": true,
    "ExecuteTime": {
     "end_time": "2024-02-29T17:10:49.640937Z",
     "start_time": "2024-02-29T17:10:46.201166800Z"
    }
   },
   "outputs": [
    {
     "name": "stdout",
     "output_type": "stream",
     "text": [
      "Train accuracy: 0.106\t\tTest accuracy: 0.084\n",
      "Train accuracy: 0.106\t\tTest accuracy: 0.084\n",
      "Train accuracy: 0.106\t\tTest accuracy: 0.084\n",
      "Train accuracy: 0.131\t\tTest accuracy: 0.104\n",
      "Train accuracy: 0.328\t\tTest accuracy: 0.340\n",
      "Train accuracy: 0.321\t\tTest accuracy: 0.338\n",
      "Train accuracy: 0.395\t\tTest accuracy: 0.400\n",
      "Train accuracy: 0.410\t\tTest accuracy: 0.416\n",
      "Train accuracy: 0.493\t\tTest accuracy: 0.509\n",
      "Train accuracy: 0.566\t\tTest accuracy: 0.578\n",
      "Train accuracy: 0.638\t\tTest accuracy: 0.609\n",
      "Train accuracy: 0.687\t\tTest accuracy: 0.669\n",
      "Train accuracy: 0.710\t\tTest accuracy: 0.673\n",
      "Train accuracy: 0.696\t\tTest accuracy: 0.684\n",
      "Train accuracy: 0.710\t\tTest accuracy: 0.684\n",
      "Train accuracy: 0.722\t\tTest accuracy: 0.711\n",
      "Train accuracy: 0.714\t\tTest accuracy: 0.711\n",
      "Train accuracy: 0.728\t\tTest accuracy: 0.729\n",
      "Train accuracy: 0.753\t\tTest accuracy: 0.727\n",
      "Train accuracy: 0.759\t\tTest accuracy: 0.749\n",
      "Train accuracy: 0.790\t\tTest accuracy: 0.796\n",
      "Train accuracy: 0.801\t\tTest accuracy: 0.800\n",
      "Train accuracy: 0.835\t\tTest accuracy: 0.822\n",
      "Train accuracy: 0.842\t\tTest accuracy: 0.842\n",
      "Train accuracy: 0.845\t\tTest accuracy: 0.827\n",
      "Train accuracy: 0.852\t\tTest accuracy: 0.851\n",
      "Train accuracy: 0.860\t\tTest accuracy: 0.853\n",
      "Train accuracy: 0.852\t\tTest accuracy: 0.853\n",
      "Train accuracy: 0.871\t\tTest accuracy: 0.867\n",
      "Train accuracy: 0.898\t\tTest accuracy: 0.893\n",
      "Train accuracy: 0.899\t\tTest accuracy: 0.904\n",
      "Train accuracy: 0.910\t\tTest accuracy: 0.911\n",
      "Train accuracy: 0.909\t\tTest accuracy: 0.913\n",
      "Train accuracy: 0.915\t\tTest accuracy: 0.916\n",
      "Train accuracy: 0.927\t\tTest accuracy: 0.922\n",
      "Train accuracy: 0.932\t\tTest accuracy: 0.931\n",
      "Train accuracy: 0.942\t\tTest accuracy: 0.931\n",
      "Train accuracy: 0.944\t\tTest accuracy: 0.938\n",
      "Train accuracy: 0.947\t\tTest accuracy: 0.931\n",
      "Train accuracy: 0.944\t\tTest accuracy: 0.931\n",
      "Train accuracy: 0.943\t\tTest accuracy: 0.933\n",
      "Train accuracy: 0.952\t\tTest accuracy: 0.940\n",
      "Train accuracy: 0.958\t\tTest accuracy: 0.938\n",
      "Train accuracy: 0.961\t\tTest accuracy: 0.936\n",
      "Train accuracy: 0.964\t\tTest accuracy: 0.949\n",
      "Train accuracy: 0.964\t\tTest accuracy: 0.947\n",
      "Train accuracy: 0.968\t\tTest accuracy: 0.949\n",
      "Train accuracy: 0.970\t\tTest accuracy: 0.947\n",
      "Train accuracy: 0.972\t\tTest accuracy: 0.953\n",
      "Train accuracy: 0.976\t\tTest accuracy: 0.953\n",
      "Train accuracy: 0.977\t\tTest accuracy: 0.949\n",
      "Train accuracy: 0.980\t\tTest accuracy: 0.949\n",
      "Train accuracy: 0.979\t\tTest accuracy: 0.953\n",
      "Train accuracy: 0.981\t\tTest accuracy: 0.947\n",
      "Train accuracy: 0.984\t\tTest accuracy: 0.944\n",
      "Train accuracy: 0.987\t\tTest accuracy: 0.940\n",
      "Train accuracy: 0.987\t\tTest accuracy: 0.947\n",
      "Train accuracy: 0.988\t\tTest accuracy: 0.947\n",
      "Train accuracy: 0.990\t\tTest accuracy: 0.944\n",
      "Train accuracy: 0.990\t\tTest accuracy: 0.942\n",
      "Train accuracy: 0.993\t\tTest accuracy: 0.944\n",
      "Train accuracy: 0.991\t\tTest accuracy: 0.944\n",
      "Train accuracy: 0.993\t\tTest accuracy: 0.947\n",
      "Train accuracy: 0.993\t\tTest accuracy: 0.949\n",
      "Train accuracy: 0.993\t\tTest accuracy: 0.953\n",
      "Train accuracy: 0.994\t\tTest accuracy: 0.953\n",
      "Train accuracy: 0.996\t\tTest accuracy: 0.953\n",
      "Train accuracy: 0.995\t\tTest accuracy: 0.951\n",
      "Train accuracy: 0.996\t\tTest accuracy: 0.947\n",
      "Train accuracy: 0.997\t\tTest accuracy: 0.942\n",
      "Train accuracy: 0.997\t\tTest accuracy: 0.942\n",
      "Train accuracy: 0.998\t\tTest accuracy: 0.942\n",
      "Train accuracy: 0.999\t\tTest accuracy: 0.942\n",
      "Train accuracy: 0.999\t\tTest accuracy: 0.942\n",
      "Train accuracy: 0.999\t\tTest accuracy: 0.951\n",
      "Train accuracy: 1.000\t\tTest accuracy: 0.951\n",
      "Train accuracy: 1.000\t\tTest accuracy: 0.951\n",
      "Train accuracy: 1.000\t\tTest accuracy: 0.951\n",
      "Train accuracy: 1.000\t\tTest accuracy: 0.953\n",
      "Train accuracy: 1.000\t\tTest accuracy: 0.958\n",
      "Train accuracy: 1.000\t\tTest accuracy: 0.958\n",
      "Train accuracy: 1.000\t\tTest accuracy: 0.958\n",
      "Train accuracy: 1.000\t\tTest accuracy: 0.956\n",
      "Train accuracy: 1.000\t\tTest accuracy: 0.960\n",
      "Train accuracy: 1.000\t\tTest accuracy: 0.962\n",
      "Train accuracy: 1.000\t\tTest accuracy: 0.960\n",
      "Train accuracy: 1.000\t\tTest accuracy: 0.960\n",
      "Train accuracy: 1.000\t\tTest accuracy: 0.958\n",
      "Train accuracy: 1.000\t\tTest accuracy: 0.960\n",
      "Train accuracy: 1.000\t\tTest accuracy: 0.958\n",
      "Train accuracy: 1.000\t\tTest accuracy: 0.962\n",
      "Train accuracy: 1.000\t\tTest accuracy: 0.962\n",
      "Train accuracy: 1.000\t\tTest accuracy: 0.960\n",
      "Train accuracy: 1.000\t\tTest accuracy: 0.958\n",
      "Train accuracy: 1.000\t\tTest accuracy: 0.956\n",
      "Train accuracy: 1.000\t\tTest accuracy: 0.953\n",
      "Train accuracy: 1.000\t\tTest accuracy: 0.956\n",
      "Train accuracy: 1.000\t\tTest accuracy: 0.953\n",
      "Train accuracy: 1.000\t\tTest accuracy: 0.958\n",
      "Train accuracy: 1.000\t\tTest accuracy: 0.956\n",
      "Train accuracy: 1.000\t\tTest accuracy: 0.953\n",
      "Train accuracy: 1.000\t\tTest accuracy: 0.953\n",
      "Train accuracy: 1.000\t\tTest accuracy: 0.956\n",
      "Train accuracy: 1.000\t\tTest accuracy: 0.958\n",
      "Train accuracy: 1.000\t\tTest accuracy: 0.956\n",
      "Train accuracy: 1.000\t\tTest accuracy: 0.958\n",
      "Train accuracy: 1.000\t\tTest accuracy: 0.958\n",
      "Train accuracy: 1.000\t\tTest accuracy: 0.958\n",
      "Train accuracy: 1.000\t\tTest accuracy: 0.958\n",
      "Train accuracy: 1.000\t\tTest accuracy: 0.958\n",
      "Train accuracy: 1.000\t\tTest accuracy: 0.960\n",
      "Train accuracy: 1.000\t\tTest accuracy: 0.960\n"
     ]
    }
   ],
   "source": [
    "cb = Callback(network, X_train, y_train, X_test, y_test, print=True)\n",
    "\n",
    "res = minimize(\n",
    "    compute_loss_grad, weights,  \n",
    "    args=[network, X_train, y_train], \n",
    "    method=\"L-BFGS-B\",\n",
    "    jac=True,\n",
    "    callback=cb.call\n",
    ")"
   ]
  },
  {
   "cell_type": "markdown",
   "metadata": {
    "hidden": true
   },
   "source": [
    "Изобразите на графике кривую качества на обучени и контроле по итерациям:"
   ]
  },
  {
   "cell_type": "code",
   "execution_count": 43,
   "metadata": {
    "hidden": true,
    "ExecuteTime": {
     "end_time": "2024-02-29T17:10:49.799844500Z",
     "start_time": "2024-02-29T17:10:49.623711900Z"
    }
   },
   "outputs": [
    {
     "data": {
      "text/plain": "<Figure size 1000x500 with 1 Axes>",
      "image/png": "[encoded data removed]"
     },
     "metadata": {},
     "output_type": "display_data"
    }
   ],
   "source": [
    "fig, ax = plt.subplots(1, 1, figsize=(10, 5))\n",
    "ax.plot(cb.train_acc, label=f\"train acc [{cb.train_acc[-1]:3.2f}]\")\n",
    "ax.plot(cb.test_acc, label=f\"test acc [{cb.test_acc[-1]:3.2f}]\")\n",
    "ax.set_xlabel(\"Iteration\")\n",
    "ax.set_ylabel(\"Accuracy\")\n",
    "ax.grid(True)\n",
    "ax.legend()\n",
    "\n",
    "fig.tight_layout()\n",
    "plt.show()"
   ]
  },
  {
   "cell_type": "markdown",
   "metadata": {
    "heading_collapsed": true,
    "hidden": true
   },
   "source": [
    "### `Эксперименты с числом слоев (0.6 балла)`"
   ]
  },
  {
   "cell_type": "markdown",
   "metadata": {
    "hidden": true
   },
   "source": [
    "Ясно, что из-за случайного начального приближения с каждым запуском обучения мы будем получать различное качество. Попробуем обучить нашу нейросеть с разным числом слоев несколько раз.\n",
    "\n",
    "Заполните матрицы `accs_train` и `accs_test`. В позиции `[i, j]` должна стоять величина доли правильных ответов сети с $i+1$ полносвязными слоями при $j$-м запуске (все запуски идентичны)."
   ]
  },
  {
   "cell_type": "code",
   "execution_count": 44,
   "outputs": [
    {
     "data": {
      "text/plain": "[Dense(64, 32), Relu(), Dense(32, 32), Relu(), Dense(32, 10), LogSoftmax()]"
     },
     "execution_count": 44,
     "metadata": {},
     "output_type": "execute_result"
    }
   ],
   "source": [
    "network"
   ],
   "metadata": {
    "collapsed": false,
    "ExecuteTime": {
     "end_time": "2024-02-29T17:10:49.839745100Z",
     "start_time": "2024-02-29T17:10:49.795600700Z"
    }
   }
  },
  {
   "cell_type": "code",
   "execution_count": 45,
   "outputs": [],
   "source": [
    "def train_network(network: List[Layer], history: bool = False, optimizer=\"L-BFGS-B\", options: dict = None, tol: float = 1e-7, cb_print: bool = False) -> List[Layer]:\n",
    "    cb = Callback(network, X_train, y_train, X_test, y_test, print=cb_print) if history else lambda *args: None\n",
    "    options = dict() if options is None else options\n",
    "\n",
    "    weights = get_weights(network)\n",
    "    res = minimize(\n",
    "        compute_loss_grad, weights,  \n",
    "        args=[network, X_train, y_train], \n",
    "        method=optimizer,\n",
    "        jac=True,\n",
    "        callback=cb.call,\n",
    "        options=options,\n",
    "        tol=tol\n",
    "    )\n",
    "    \n",
    "    if not res[\"success\"]:\n",
    "        raise RuntimeError(f\"Optimization failure: {res['message']}\")\n",
    "    \n",
    "    if history:\n",
    "        return network, cb\n",
    "    else:\n",
    "        return network"
   ],
   "metadata": {
    "collapsed": false,
    "ExecuteTime": {
     "end_time": "2024-02-29T17:10:50.019300800Z",
     "start_time": "2024-02-29T17:10:49.810670200Z"
    }
   }
  },
  {
   "cell_type": "code",
   "outputs": [],
   "source": [
    "accs_train = np.zeros((5, 15))\n",
    "accs_test = np.zeros_like(accs_train)"
   ],
   "metadata": {
    "collapsed": false,
    "ExecuteTime": {
     "end_time": "2024-02-29T17:10:50.061226Z",
     "start_time": "2024-02-29T17:10:49.823682100Z"
    }
   },
   "execution_count": 46
  },
  {
   "cell_type": "code",
   "execution_count": 47,
   "metadata": {
    "hidden": true,
    "ExecuteTime": {
     "end_time": "2024-02-29T10:16:24.195456300Z",
     "start_time": "2024-02-29T10:15:47.093398400Z"
    }
   },
   "outputs": [
    {
     "name": "stdout",
     "output_type": "stream",
     "text": [
      "i= 0\tj= 0\tlayer_c=1\ttrain acc: 1.0000 test acc: 0.9422\n",
      "i= 0\tj= 1\tlayer_c=1\ttrain acc: 1.0000 test acc: 0.9489\n",
      "i= 0\tj= 2\tlayer_c=1\ttrain acc: 1.0000 test acc: 0.9489\n",
      "i= 0\tj= 3\tlayer_c=1\ttrain acc: 1.0000 test acc: 0.9511\n",
      "i= 0\tj= 4\tlayer_c=1\ttrain acc: 1.0000 test acc: 0.9533\n",
      "i= 0\tj= 5\tlayer_c=1\ttrain acc: 1.0000 test acc: 0.9422\n",
      "i= 0\tj= 6\tlayer_c=1\ttrain acc: 1.0000 test acc: 0.9556\n",
      "i= 0\tj= 7\tlayer_c=1\ttrain acc: 1.0000 test acc: 0.9356\n",
      "i= 0\tj= 8\tlayer_c=1\ttrain acc: 1.0000 test acc: 0.9489\n",
      "i= 0\tj= 9\tlayer_c=1\ttrain acc: 1.0000 test acc: 0.9467\n",
      "i= 0\tj=10\tlayer_c=1\ttrain acc: 1.0000 test acc: 0.9511\n",
      "i= 0\tj=11\tlayer_c=1\ttrain acc: 1.0000 test acc: 0.9356\n",
      "i= 0\tj=12\tlayer_c=1\ttrain acc: 1.0000 test acc: 0.9444\n",
      "i= 0\tj=13\tlayer_c=1\ttrain acc: 1.0000 test acc: 0.9467\n",
      "i= 0\tj=14\tlayer_c=1\ttrain acc: 1.0000 test acc: 0.9489\n",
      "i= 1\tj= 0\tlayer_c=2\ttrain acc: 1.0000 test acc: 0.9533\n",
      "i= 1\tj= 1\tlayer_c=2\ttrain acc: 1.0000 test acc: 0.9711\n",
      "i= 1\tj= 2\tlayer_c=2\ttrain acc: 1.0000 test acc: 0.9600\n",
      "i= 1\tj= 3\tlayer_c=2\ttrain acc: 1.0000 test acc: 0.9600\n",
      "i= 1\tj= 4\tlayer_c=2\ttrain acc: 1.0000 test acc: 0.9489\n",
      "i= 1\tj= 5\tlayer_c=2\ttrain acc: 1.0000 test acc: 0.9467\n",
      "i= 1\tj= 6\tlayer_c=2\ttrain acc: 1.0000 test acc: 0.9556\n",
      "i= 1\tj= 7\tlayer_c=2\ttrain acc: 1.0000 test acc: 0.9489\n",
      "i= 1\tj= 8\tlayer_c=2\ttrain acc: 1.0000 test acc: 0.9511\n",
      "i= 1\tj= 9\tlayer_c=2\ttrain acc: 1.0000 test acc: 0.9444\n",
      "i= 1\tj=10\tlayer_c=2\ttrain acc: 1.0000 test acc: 0.9644\n",
      "i= 1\tj=11\tlayer_c=2\ttrain acc: 1.0000 test acc: 0.9622\n",
      "i= 1\tj=12\tlayer_c=2\ttrain acc: 1.0000 test acc: 0.9511\n",
      "i= 1\tj=13\tlayer_c=2\ttrain acc: 1.0000 test acc: 0.9622\n",
      "i= 1\tj=14\tlayer_c=2\ttrain acc: 1.0000 test acc: 0.9556\n",
      "i= 2\tj= 0\tlayer_c=3\ttrain acc: 1.0000 test acc: 0.9622\n",
      "i= 2\tj= 1\tlayer_c=3\ttrain acc: 1.0000 test acc: 0.9511\n",
      "i= 2\tj= 2\tlayer_c=3\t"
     ]
    },
    {
     "name": "stderr",
     "output_type": "stream",
     "text": [
      "\n",
      "KeyboardInterrupt\n",
      "\n"
     ]
    }
   ],
   "source": [
    "np.random.seed(42)\n",
    "\n",
    "for i, layer_c in zip(range(5), range(1, 5+1)):\n",
    "    for j in range(accs_train.shape[1]):\n",
    "        print(f\"{i=:2}\\t{j=:2}\\t{layer_c=}\\t\", end='')\n",
    "        network = make_network(input_size, 32, output_size, layer_c, ReLU)\n",
    "        network, cb = train_network(network, history=True)\n",
    "        \n",
    "        accs_train[i, j] = cb.train_acc[-1]\n",
    "        accs_test[i, j] = cb.test_acc[-1]\n",
    "        print(f\"train acc: {accs_train[i, j]:5.4f} test acc: {accs_test[i, j]:5.4f}\")"
   ]
  },
  {
   "cell_type": "markdown",
   "metadata": {
    "hidden": true
   },
   "source": [
    "Построим боксплоты полученного качества (горизонтальная линия в каждом столбце — среднее, прямоугольник показывает разброс)."
   ]
  },
  {
   "cell_type": "code",
   "execution_count": null,
   "metadata": {
    "collapsed": true,
    "hidden": true,
    "ExecuteTime": {
     "end_time": "2024-02-29T10:16:24.833563400Z",
     "start_time": "2024-02-29T10:16:24.196592900Z"
    }
   },
   "outputs": [],
   "source": [
    "fig, axes = plt.subplots(2, 1, figsize=(10, 8))\n",
    "\n",
    "axes[0].boxplot(accs_train.T, showfliers=False)\n",
    "axes[1].boxplot(accs_test.T, showfliers=False)\n",
    "\n",
    "axes[0].set_xlabel(\"Number of layers\")\n",
    "axes[1].set_xlabel(\"Number of layers\")\n",
    "\n",
    "axes[0].set_ylabel(\"Train accuracy\")\n",
    "axes[1].set_ylabel(\"Test accuracy\")\n",
    "\n",
    "axes[0].set_title(f\"Train quality in {accs_train.shape[1]} runs\")\n",
    "axes[1].set_title(f\"Test quality in {accs_train.shape[1]} runs\")\n",
    "\n",
    "axes[0].grid(True)\n",
    "axes[1].grid(True)\n",
    "\n",
    "fig.tight_layout()\n",
    "plt.show()"
   ]
  },
  {
   "cell_type": "markdown",
   "metadata": {
    "hidden": true
   },
   "source": [
    "Дайте развёрнутый ответ на вопросы (в этой же ячейке):\n",
    "* Как изменяются качество на обучении и контроле и устойчивость процесса обучения при увеличении числа слоев?\n",
    "* Можно ли сказать, что логистическая регрессия (линейная модель) дает качество хуже, чем нелинейная модель?\n",
    "\n",
    "__Ответы:__\n",
    "\n",
    "Линейная модель показывает худший результат среди изученных моделей. \n",
    "На обучающей выборке модели стабильно получают точность, сравнимую с 1.\n",
    "На валидационной выборке модели получают качество на несколько процентов хуже, чем на тренировочной. \n",
    "\n",
    "Оптимальное число слоев --- 3 или 4 слоя. \n",
    "При числе слоёв > 4 начинает усиляться переобучение"
   ]
  },
  {
   "cell_type": "markdown",
   "metadata": {
    "heading_collapsed": true,
    "hidden": true
   },
   "source": [
    "### `Эксперименты c различными инициализациями весов (0.6 балла)`"
   ]
  },
  {
   "cell_type": "markdown",
   "metadata": {
    "hidden": true
   },
   "source": [
    "Как уже было сказано, начальная инициализация весов нейронной сети может сильно влиять на процесс ее обучения и, как следствие, на ее качество.\n",
    "\n",
    "В этом пункте вам предлагается попробовать обучить несколько нейронных сетей с различными инициализациями слоев.\n",
    "\n",
    "Для этого необходимо реализовать функцию, инициализирующую веса линейных слоёв нашей нейронной сети. Добавьте в функционал данного метода возможность инициализировать его веса с помощью инициализации Kaiming (используется, если в нейронной сети в качестве функций активации используется ReLU) и инициализации Xavier (используется, если в нейронной сети в качестве функций активации используется Tanh или Sigmoid):"
   ]
  },
  {
   "cell_type": "code",
   "execution_count": 47,
   "metadata": {
    "code_folding": [],
    "hidden": true,
    "ExecuteTime": {
     "end_time": "2024-02-29T17:10:55.493498500Z",
     "start_time": "2024-02-29T17:10:55.394068400Z"
    }
   },
   "outputs": [],
   "source": [
    "def initialize_network(network, initialization):\n",
    "    for layer in network:\n",
    "        if isinstance(layer, Dense):\n",
    "            input_units, output_units = layer.weights.shape\n",
    "            if initialization == 'Kaiming':\n",
    "                sigma = 2 / layer.weights.shape[0]\n",
    "                layer.weights = np.random.normal(loc=0, scale=sigma, size=layer.weights.shape)\n",
    "                \n",
    "            elif initialization == 'Xavier':\n",
    "                sigma = np.sqrt(2 / (layer.weights.shape[0] + layer.weights.shape[1]))\n",
    "                layer.weights = np.random.normal(loc=0, scale=sigma, size=layer.weights.shape)\n",
    "                \n",
    "            else:\n",
    "                # Initialize weights with small random numbers from normal distribution.\n",
    "                # In this case `initialization` represents a standard deviation\n",
    "                # for normal distribution.\n",
    "                layer.weights = np.random.randn(input_units, output_units) * initialization\n",
    "                \n",
    "            layer.biases = np.zeros_like(layer.biases)\n",
    "            \n",
    "            layer.params = [layer.weights, layer.biases]"
   ]
  },
  {
   "cell_type": "markdown",
   "metadata": {
    "hidden": true
   },
   "source": [
    "Теперь попробуйте для каждой из 3 инициализаций обучить нейронную сеть несколько раз. Попробуйте проделать данную операцию при зафиксированном числе слоев равным 3, 4 и 5."
   ]
  },
  {
   "cell_type": "markdown",
   "metadata": {
    "heading_collapsed": true,
    "hidden": true
   },
   "source": [
    "#### `3 слоя`\n",
    "\n",
    "Зафиксируйте в сети число слоев равное трем."
   ]
  },
  {
   "cell_type": "markdown",
   "metadata": {
    "hidden": true
   },
   "source": [
    "Заполните матрицы `accs_train` и `accs_test`. В позиции `[i, j]` должна стоять величина доли правильных ответов сети при $j$-м запуске (все запуски идентичны) с инициализацией Kaiming при $i = 3$, с инициализацией Xavier при $i = 4$ и с инициализацией из нормального распределения с фиксированными параметрами при $0 \\leqslant i \\leqslant 2$ (попробуйте здесь 3 разных параметра для стандартного отклонения для нормального распределения, например: `1e-3`, `1e-2`, `1e-1`). Заметьте, что при большом числе слоев слишком низкое стандартное отклонение может не давать нейронной сети нормально обучиться."
   ]
  },
  {
   "cell_type": "code",
   "execution_count": null,
   "metadata": {
    "hidden": true,
    "ExecuteTime": {
     "start_time": "2024-02-29T10:16:24.201001200Z"
    }
   },
   "outputs": [],
   "source": [
    "init_vars = [1e-3, 1e-2, 1e-1, 'Kaiming', 'Xavier']"
   ]
  },
  {
   "cell_type": "code",
   "execution_count": null,
   "metadata": {
    "hidden": true,
    "ExecuteTime": {
     "start_time": "2024-02-29T10:16:24.203153300Z"
    }
   },
   "outputs": [],
   "source": [
    "accs_train = np.zeros((5, 15))\n",
    "accs_test = np.zeros_like(accs_test)"
   ]
  },
  {
   "cell_type": "code",
   "execution_count": null,
   "metadata": {
    "hidden": true,
    "ExecuteTime": {
     "start_time": "2024-02-29T10:16:24.205344300Z"
    }
   },
   "outputs": [],
   "source": [
    "np.random.seed(42)\n",
    "layer_c = 3\n",
    "\n",
    "for i, initialization in enumerate(init_vars):\n",
    "    for j in range(accs_train.shape[1]):\n",
    "        print(f\"{i=:2}\\t{j=:2}\\t{initialization=}\\t\", end='')\n",
    "        network = make_network(input_size, 32, output_size, layer_c, ReLU)\n",
    "        initialize_network(network, initialization)\n",
    "        network, cb = train_network(network, history=True)\n",
    "        \n",
    "        accs_train[i, j] = cb.train_acc[-1]\n",
    "        accs_test[i, j] = cb.test_acc[-1]\n",
    "        print(f\"train acc: {accs_train[i, j]:5.4f} test acc: {accs_test[i, j]:5.4f}\")"
   ]
  },
  {
   "cell_type": "markdown",
   "metadata": {
    "hidden": true
   },
   "source": [
    "Построим боксплоты полученного качества (горизонтальная линия в каждом столбце — среднее, прямоугольник показывает разброс)."
   ]
  },
  {
   "cell_type": "code",
   "execution_count": null,
   "metadata": {
    "hidden": true,
    "scrolled": false,
    "ExecuteTime": {
     "start_time": "2024-02-29T10:16:24.207560400Z"
    }
   },
   "outputs": [],
   "source": [
    "init_vars_for_plot = [(x if isinstance(x, str) else fr\"$\\sigma = {x}$\") for x in init_vars]\n",
    "\n",
    "fig, ax = plt.subplots(1, 1, figsize=(10, 5))\n",
    "\n",
    "ax.boxplot(accs_test.T, labels=init_vars_for_plot, showfliers=False)\n",
    "\n",
    "ax.set_title(f\"Test quality in {accs_test.shape[1]} runs\")\n",
    "ax.set_xlabel(\"Initialization\")\n",
    "ax.set_ylabel(\"Test accuracy\")\n",
    "ax.grid(True)\n",
    "\n",
    "fig.tight_layout()\n",
    "plt.show()"
   ]
  },
  {
   "cell_type": "markdown",
   "metadata": {
    "heading_collapsed": true,
    "hidden": true
   },
   "source": [
    "#### `4 слоя`\n",
    "\n",
    "Выполните тут тот же код, что и в предыдущем пункте, но только уже с 4 слоями в сети."
   ]
  },
  {
   "cell_type": "code",
   "execution_count": null,
   "metadata": {
    "hidden": true,
    "ExecuteTime": {
     "start_time": "2024-02-29T10:16:24.210775200Z"
    }
   },
   "outputs": [],
   "source": [
    "init_vars = [5e-3, 1e-2, 1e-1, 'Kaiming', 'Xavier']"
   ]
  },
  {
   "cell_type": "code",
   "execution_count": null,
   "metadata": {
    "hidden": true,
    "ExecuteTime": {
     "start_time": "2024-02-29T10:16:24.212921100Z"
    }
   },
   "outputs": [],
   "source": [
    "accs_train = np.zeros((5, 15))\n",
    "accs_test = np.zeros_like(accs_train)"
   ]
  },
  {
   "cell_type": "code",
   "execution_count": null,
   "metadata": {
    "hidden": true,
    "ExecuteTime": {
     "start_time": "2024-02-29T10:16:24.215088900Z"
    }
   },
   "outputs": [],
   "source": [
    "np.random.seed(42)\n",
    "layer_c = 4\n",
    "\n",
    "for i, initialization in enumerate(init_vars):\n",
    "    for j in range(accs_train.shape[1]):\n",
    "        print(f\"{i=:2}\\t{j=:2}\\t{initialization=}\\t\", end='')\n",
    "        network = make_network(input_size, 32, output_size, layer_c, ReLU)\n",
    "        initialize_network(network, initialization)\n",
    "        network, cb = train_network(network, history=True)\n",
    "        \n",
    "        accs_train[i, j] = cb.train_acc[-1]\n",
    "        accs_test[i, j] = cb.test_acc[-1]\n",
    "        print(f\"train acc: {accs_train[i, j]:5.4f} test acc: {accs_test[i, j]:5.4f}\")"
   ]
  },
  {
   "cell_type": "markdown",
   "metadata": {
    "hidden": true
   },
   "source": [
    "Построим боксплоты полученного качества (горизонтальная линия в каждом столбце — среднее, прямоугольник показывает разброс)."
   ]
  },
  {
   "cell_type": "code",
   "execution_count": null,
   "metadata": {
    "hidden": true,
    "scrolled": false,
    "ExecuteTime": {
     "start_time": "2024-02-29T10:16:24.217229700Z"
    }
   },
   "outputs": [],
   "source": [
    "init_vars_for_plot = [(x if isinstance(x, str) else fr\"$\\sigma = {x}$\") for x in init_vars]\n",
    "\n",
    "fig, ax = plt.subplots(1, 1, figsize=(10, 5))\n",
    "\n",
    "ax.boxplot(accs_test.T, labels=init_vars_for_plot, showfliers=False)\n",
    "\n",
    "ax.set_title(f\"Test quality in {accs_test.shape[1]} runs\")\n",
    "ax.set_xlabel(\"Initialization\")\n",
    "ax.set_ylabel(\"Test accuracy\")\n",
    "ax.grid(True)\n",
    "\n",
    "fig.tight_layout()\n",
    "plt.show()"
   ]
  },
  {
   "cell_type": "markdown",
   "metadata": {
    "heading_collapsed": true,
    "hidden": true
   },
   "source": [
    "#### `5 слоев`\n",
    "\n",
    "Выполните тут тот же код, что и в предыдущем пункте, но только уже с 5 слоями в сети."
   ]
  },
  {
   "cell_type": "code",
   "execution_count": null,
   "metadata": {
    "hidden": true,
    "ExecuteTime": {
     "start_time": "2024-02-29T10:16:24.219451400Z"
    }
   },
   "outputs": [],
   "source": [
    "init_vars = [1e-2, 1e-1, 1e0, 'Kaiming', 'Xavier']"
   ]
  },
  {
   "cell_type": "code",
   "execution_count": null,
   "metadata": {
    "hidden": true,
    "ExecuteTime": {
     "start_time": "2024-02-29T10:16:24.221606900Z"
    }
   },
   "outputs": [],
   "source": [
    "accs_train = np.zeros((5, 15))\n",
    "accs_test = np.zeros_like(accs_train)"
   ]
  },
  {
   "cell_type": "code",
   "execution_count": null,
   "metadata": {
    "hidden": true,
    "ExecuteTime": {
     "start_time": "2024-02-29T10:16:24.223758200Z"
    }
   },
   "outputs": [],
   "source": [
    "np.random.seed(42)\n",
    "layer_c = 5\n",
    "\n",
    "for i, initialization in enumerate(init_vars):\n",
    "    for j in range(accs_train.shape[1]):\n",
    "        print(f\"{i=:2}\\t{j=:2}\\t{initialization=}\\t\", end='')\n",
    "        network = make_network(input_size, 32, output_size, layer_c, ReLU)\n",
    "        initialize_network(network, initialization)\n",
    "        network, cb = train_network(network, history=True)\n",
    "        \n",
    "        accs_train[i, j] = cb.train_acc[-1]\n",
    "        accs_test[i, j] = cb.test_acc[-1]\n",
    "        print(f\"train acc: {accs_train[i, j]:5.4f} test acc: {accs_test[i, j]:5.4f}\")"
   ]
  },
  {
   "cell_type": "markdown",
   "metadata": {
    "hidden": true
   },
   "source": [
    "Построим боксплоты полученного качества (горизонтальная линия в каждом столбце — среднее, прямоугольник показывает разброс)."
   ]
  },
  {
   "cell_type": "code",
   "execution_count": null,
   "metadata": {
    "hidden": true,
    "scrolled": false,
    "ExecuteTime": {
     "start_time": "2024-02-29T10:16:24.226271800Z"
    }
   },
   "outputs": [],
   "source": [
    "init_vars_for_plot = [(x if isinstance(x, str) else fr\"$\\sigma = {x}$\") for x in init_vars]\n",
    "\n",
    "fig, ax = plt.subplots(1, 1, figsize=(10, 5))\n",
    "\n",
    "ax.boxplot(accs_test.T, labels=init_vars_for_plot, showfliers=False)\n",
    "\n",
    "ax.set_title(f\"Test quality in {accs_test.shape[1]} runs\")\n",
    "ax.set_xlabel(\"Initialization\")\n",
    "ax.set_ylabel(\"Test accuracy\")\n",
    "ax.grid(True)\n",
    "\n",
    "fig.tight_layout()\n",
    "plt.show()"
   ]
  },
  {
   "cell_type": "markdown",
   "metadata": {
    "hidden": true
   },
   "source": [
    "Дайте развёрнутый ответ на вопросы (в этой же ячейке):\n",
    "* Как отличаются качество на обучении и контроле и устойчивость процесса обучения при различных инициализациях?\n",
    "* Какие инициализации помогают обучать более глубокие сети?\n",
    "\n",
    "__Ответы:__\n",
    "\n",
    "..."
   ]
  },
  {
   "cell_type": "markdown",
   "metadata": {
    "hidden": true
   },
   "source": [
    "Теперь сравним скорость обучения при различных инициализациях. Создайте два списка списков `accs_test_on_iterations`, `accs_train_on_iterations` в каждом из которых в позиции `[i]` (см. описание `i` в предыдущем пункте) будет лежать список из значений `accuracy` на тестовой и обучающей выборках соотвественно, полученных во время обучения модели. Количество слоев в сети зафиксируйте равным 4."
   ]
  },
  {
   "cell_type": "code",
   "execution_count": null,
   "metadata": {
    "hidden": true,
    "ExecuteTime": {
     "start_time": "2024-02-29T10:16:24.228501800Z"
    }
   },
   "outputs": [],
   "source": [
    "init_vars = [1e-3, 1e-2, 1e-1, 'Kaiming', 'Xavier']"
   ]
  },
  {
   "cell_type": "code",
   "execution_count": null,
   "metadata": {
    "hidden": true,
    "ExecuteTime": {
     "start_time": "2024-02-29T10:16:24.230704700Z"
    }
   },
   "outputs": [],
   "source": [
    "accs_test_on_iterations = []\n",
    "accs_train_on_iterations = []"
   ]
  },
  {
   "cell_type": "code",
   "execution_count": null,
   "metadata": {
    "hidden": true,
    "ExecuteTime": {
     "start_time": "2024-02-29T10:16:24.232902200Z"
    }
   },
   "outputs": [],
   "source": [
    "np.random.seed(42)\n",
    "layer_c = 4\n",
    "\n",
    "for i, initialization in enumerate(init_vars):\n",
    "    print(f\"{i=}\\t{initialization=}\")\n",
    "    network = make_network(input_size, 32, output_size, layer_c, ReLU)\n",
    "    initialize_network(network, initialization)\n",
    "    network, cb = train_network(network, history=True)\n",
    "    \n",
    "    accs_test_on_iterations.append(cb.train_acc)\n",
    "    accs_train_on_iterations.append(cb.test_acc)"
   ]
  },
  {
   "cell_type": "code",
   "execution_count": null,
   "metadata": {
    "hidden": true,
    "ExecuteTime": {
     "start_time": "2024-02-29T10:16:24.235111600Z"
    }
   },
   "outputs": [],
   "source": [
    "fig, ax = plt.subplots(1, 1, figsize=(10, 5))\n",
    "\n",
    "for idx, label in enumerate(init_vars_for_plot):\n",
    "    ax.plot(accs_test_on_iterations[idx], label=label)\n",
    "\n",
    "ax.set_title(\"Test quality for different initializations\")\n",
    "ax.set_xlabel(\"Epoch number\")\n",
    "ax.set_ylabel(\"Test accuracy\")\n",
    "ax.grid(True)\n",
    "ax.legend()\n",
    "\n",
    "fig.tight_layout()\n",
    "plt.show()"
   ]
  },
  {
   "cell_type": "markdown",
   "metadata": {
    "ExecuteTime": {
     "end_time": "2021-03-03T14:37:15.087902Z",
     "start_time": "2021-03-03T14:37:15.065996Z"
    },
    "hidden": true
   },
   "source": [
    "Дайте развёрнутый ответ на вопросы (в этой же ячейке):\n",
    "* Как меняется скорость обучения в зависимости от выбранной инициализации?\n",
    "\n",
    "__Ответы:__\n",
    "\n",
    "..."
   ]
  },
  {
   "cell_type": "markdown",
   "metadata": {
    "heading_collapsed": true,
    "hidden": true
   },
   "source": [
    "### `Эксперименты c различными функциями активации (0.6 балла)`"
   ]
  },
  {
   "cell_type": "markdown",
   "metadata": {
    "hidden": true
   },
   "source": [
    "Проверим теперь, с какой функцией активации нейронная сеть будет обучаться лучше.\n",
    "\n",
    "В этом пункте вам предлагается попробовать обучить несколько нейронных сетей с различными функциями активации.\n",
    "\n",
    "Для этого нам нужно реализовать еще 2 слоя: для функций активации `Tanh` и `Sigmoid`."
   ]
  },
  {
   "cell_type": "code",
   "execution_count": 48,
   "metadata": {
    "hidden": true,
    "ExecuteTime": {
     "end_time": "2024-02-29T17:11:02.248325700Z",
     "start_time": "2024-02-29T17:11:02.160811900Z"
    }
   },
   "outputs": [],
   "source": [
    "class Tanh(Layer):\n",
    "    \"\"\"\n",
    "    tanh(y) = (e^y - e^(-y)) / (e^y + e^(-y))\n",
    "    Используйте функцию np.tanh для подсчета гиперболического тангенса.\n",
    "    Вы можете сами реализовать подсчет tanh, но тогда вам нужно устойчиво его вычислять.\n",
    "    \"\"\"\n",
    "    def __init__(self):\n",
    "        self.params = [] # Tanh has no parameters\n",
    "\n",
    "    def forward(self, input):\n",
    "        \"\"\"\n",
    "        Apply elementwise Tanh to [batch, num_units] matrix\n",
    "        \"\"\"\n",
    "        self.cosh = np.cosh(input)\n",
    "        return np.sinh(input) / self.cosh\n",
    "\n",
    "    def backward(self, grad_output):\n",
    "        \"\"\"\n",
    "        Compute gradient of loss w.r.t. Tanh input\n",
    "        grad_output shape: [batch, num_units]\n",
    "        output 1 shape: [batch, num_units]\n",
    "        output 2: []\n",
    "        \"\"\"\n",
    "        return -grad_output / np.power(self.cosh, 2)\n",
    "\n",
    "    def __repr__(self):\n",
    "        return 'Tanh()'"
   ]
  },
  {
   "cell_type": "code",
   "execution_count": 49,
   "metadata": {
    "hidden": true,
    "ExecuteTime": {
     "end_time": "2024-02-29T17:11:02.700874800Z",
     "start_time": "2024-02-29T17:11:02.467113600Z"
    }
   },
   "outputs": [],
   "source": [
    "from scipy.special import expit\n",
    "    \n",
    "class Sigmoid(Layer):\n",
    "    \"\"\"\n",
    "    sigmoid(y) = 1 / (1 + e^(-y))\n",
    "    Используйте функцию expit для подсчета сигмоиды.\n",
    "    Вы можете сами реализовать подсчет сигмоиды, но тогда вам нужно устойчиво ее вычислять.\n",
    "    \"\"\"\n",
    "    def __init__(self):\n",
    "        self.params = [] # Sigmoid has no parameters\n",
    "        self.output = None\n",
    "\n",
    "    def forward(self, input):\n",
    "        \"\"\"\n",
    "        Apply elementwise Sigmoid to [batch, num_units] matrix\n",
    "        \"\"\"\n",
    "        self.output = expit(input)\n",
    "        return self.output\n",
    "\n",
    "    def backward(self, grad_output):\n",
    "        \"\"\"\n",
    "        Compute gradient of loss w.r.t. Sigmoid input\n",
    "        grad_output shape: [batch, num_units]\n",
    "        output 1 shape: [batch, num_units]\n",
    "        output 2: []\n",
    "        \"\"\"\n",
    "        return self.output * (1 - self.output) * grad_output\n",
    "\n",
    "    def __repr__(self):\n",
    "        return 'Sigmoid()'"
   ]
  },
  {
   "cell_type": "markdown",
   "metadata": {
    "hidden": true
   },
   "source": [
    "Теперь попробуйте для каждой из 3 функций активации обучить нейронную сеть несколько раз. Число слоев зафиксируйте равным 3. В случае `Tanh` и `Sigmoid` используйте инициализацию `Xavier`, а в случае `ReLU` используйте инициализацию `Kaiming`."
   ]
  },
  {
   "cell_type": "markdown",
   "metadata": {
    "hidden": true
   },
   "source": [
    "Заполните матрицы `accs_train` и `accs_test`. В позиции `[i, j]` должна стоять величина доли правильных ответов сети при $j$-м запуске (все запуски идентичны) с функцией активации $ReLU$ при $i = 0$, с функцией активации $Tanh$ при $i = 1$ и с функцией активации $Sigmoid$ при $i = 2$."
   ]
  },
  {
   "cell_type": "code",
   "execution_count": 50,
   "metadata": {
    "hidden": true,
    "ExecuteTime": {
     "end_time": "2024-02-29T17:11:04.777396100Z",
     "start_time": "2024-02-29T17:11:04.708535Z"
    }
   },
   "outputs": [],
   "source": [
    "act_func_vars = ['Tanh', 'Sigmoid', 'ReLU']\n",
    "init_for_act_funcs = ['Xavier', 'Xavier', 'Kaiming']"
   ]
  },
  {
   "cell_type": "code",
   "execution_count": null,
   "metadata": {
    "hidden": true,
    "ExecuteTime": {
     "start_time": "2024-02-29T10:16:24.244960600Z"
    }
   },
   "outputs": [],
   "source": [
    "accs_train = np.zeros((3, 50))\n",
    "accs_test = np.zeros_like(accs_train)\n",
    "layer_c = 3"
   ]
  },
  {
   "cell_type": "code",
   "execution_count": null,
   "metadata": {
    "hidden": true,
    "ExecuteTime": {
     "start_time": "2024-02-29T10:16:24.248253700Z"
    }
   },
   "outputs": [],
   "source": [
    "np.random.seed(42)\n",
    "\n",
    "for i, (act_func, init_strategy) in enumerate(zip(act_func_vars, init_for_act_funcs)):\n",
    "    for j in range(accs_train.shape[1]):\n",
    "        print(f\"{i=:2}\\t{j=:2}\\t{act_func=}\\t\", end='')\n",
    "        network = make_network(input_size, 32, output_size, layer_c, ReLU)\n",
    "        initialize_network(network, init_strategy)\n",
    "        network, cb = train_network(network, history=True)\n",
    "        \n",
    "        accs_train[i, j] = cb.train_acc[-1]\n",
    "        accs_test[i, j] = cb.test_acc[-1]\n",
    "        print(f\"train acc: {accs_train[i, j]:5.4f} test acc: {accs_test[i, j]:5.4f}\")"
   ]
  },
  {
   "cell_type": "markdown",
   "metadata": {
    "hidden": true
   },
   "source": [
    "Построим боксплоты полученного качества (горизонтальная линия в каждом столбце — среднее, прямоугольник показывает разброс)."
   ]
  },
  {
   "cell_type": "code",
   "execution_count": null,
   "metadata": {
    "hidden": true,
    "ExecuteTime": {
     "start_time": "2024-02-29T10:16:24.250479500Z"
    }
   },
   "outputs": [],
   "source": [
    "fig, ax = plt.subplots(1, 1, figsize=(10, 5))\n",
    "\n",
    "ax.boxplot(accs_test.T, labels=act_func_vars, showfliers=False)\n",
    "\n",
    "ax.set_title(f\"Test quality in {accs_train.shape[1]} runs with {layer_c} layers\")\n",
    "ax.set_xlabel(\"Activation function\")\n",
    "ax.set_ylabel(\"Test accuracy\")\n",
    "ax.grid(True)\n",
    "\n",
    "fig.tight_layout()\n",
    "plt.show()"
   ]
  },
  {
   "cell_type": "markdown",
   "metadata": {
    "hidden": true
   },
   "source": [
    "Дайте развёрнутый ответ на вопросы (в этой же ячейке):\n",
    "* Как отличаются качество на обучении и контроле и устойчивость процесса обучения при различных функциях активации?\n",
    "\n",
    "__Ответы:__\n",
    "\n",
    "При использовании в качестве функций активации сигмоиды и гиперболического тангенса среднее качество оказывается сравнимым. Однако, дисперсия при использовании сигмоиды оказывается выше. \n",
    "При использовании ReLU среднее качество оказывается ниже.\n",
    "\n",
    "Преимущества ReLU не реализуются при малом количестве слоев (3), так как затухание градиентов оказывается незначительным. \n",
    "Для проверки данной гипотезы будет поставлен *дополнительный* эксперимент с количеством слоев = 5"
   ]
  },
  {
   "cell_type": "code",
   "execution_count": null,
   "outputs": [],
   "source": [
    "accs_train = np.zeros((3, 15))\n",
    "accs_test = np.zeros_like(accs_train)\n",
    "layer_c = 10"
   ],
   "metadata": {
    "collapsed": false,
    "ExecuteTime": {
     "start_time": "2024-02-29T10:16:24.252734800Z"
    }
   }
  },
  {
   "cell_type": "code",
   "execution_count": null,
   "outputs": [],
   "source": [
    "np.random.seed(42)\n",
    "\n",
    "for i, (act_func, init_strategy) in enumerate(zip(act_func_vars, init_for_act_funcs)):\n",
    "    for j in range(accs_train.shape[1]):\n",
    "        print(f\"{i=:2}\\t{j=:2}\\t{act_func=}\\t\", end='')\n",
    "        network = make_network(input_size, 32, output_size, layer_c, ReLU)\n",
    "        initialize_network(network, init_strategy)\n",
    "        network, cb = train_network(network, history=True)\n",
    "        \n",
    "        accs_train[i, j] = cb.train_acc[-1]\n",
    "        accs_test[i, j] = cb.test_acc[-1]\n",
    "        print(f\"train acc: {accs_train[i, j]:5.4f} test acc: {accs_test[i, j]:5.4f}\")"
   ],
   "metadata": {
    "collapsed": false,
    "ExecuteTime": {
     "start_time": "2024-02-29T10:16:24.255333900Z"
    }
   }
  },
  {
   "cell_type": "code",
   "outputs": [],
   "source": [
    "fig, ax = plt.subplots(1, 1, figsize=(10, 5))\n",
    "\n",
    "ax.boxplot(accs_test.T, labels=act_func_vars, showfliers=False)\n",
    "\n",
    "ax.set_title(f\"Test quality in {accs_train.shape[1]} runs with {layer_c} layers\")\n",
    "ax.set_xlabel(\"Activation function\")\n",
    "ax.set_ylabel(\"Test accuracy\")\n",
    "ax.grid(True)\n",
    "\n",
    "fig.tight_layout()\n",
    "plt.show()"
   ],
   "metadata": {
    "collapsed": false,
    "ExecuteTime": {
     "start_time": "2024-02-29T10:16:24.257535100Z"
    }
   },
   "execution_count": null
  },
  {
   "cell_type": "markdown",
   "metadata": {
    "hidden": true
   },
   "source": [
    "\\* Несколько фрагментов кода в задании написаны на основе материалов [курса по глубинному обучению на ФКН НИУ ВШЭ](https://www.hse.ru/ba/ami/courses/205504078.html)"
   ]
  },
  {
   "cell_type": "markdown",
   "metadata": {},
   "source": [
    "### `Реализация метода оптимизации (1.4 балла)`"
   ]
  },
  {
   "cell_type": "markdown",
   "metadata": {},
   "source": [
    "В этой части задания реализуйте метод оптимизации SGD + momentum. Упрощённая версия более общего алгоритма [отсюда](https://pytorch.org/docs/stable/generated/torch.optim.SGD.html):\n",
    "\n",
    "$$\n",
    "\\begin{aligned}\n",
    "    &\\rule{70mm}{0.4pt}                                                             \\\\\n",
    "    &\\textbf{input}      : \\gamma \\text{ (lr)}, \\: \\theta_0 \\text{ (params)}, \\: X \\text{ (data)},       \\\\\n",
    "    &\\hspace{13mm} \\: f(\\theta) \\text{ (objective)}, \\:\\mu \\text{ (momentum)}       \\\\[-1.ex]\n",
    "    &\\rule{70mm}{0.4pt}                                                             \\\\\n",
    "    &\\textbf{for} \\: t=1 \\: \\textbf{to} \\: \\ldots \\: \\textbf{do}                    \\\\\n",
    "    &\\hspace{5mm}\\mathcal{X} \\leftarrow \\texttt{list\\_of\\_random\\_batches}(X)\\\\\n",
    "    &\\hspace{5mm}\\textbf{for} \\: i=1 \\: \\textbf{to} \\: \\ldots \\: \\textbf{do}                    \\\\\n",
    "    &\\hspace{10mm}g_t\\leftarrow   \\nabla_{\\theta} f_t (\\theta_{t-1},\\mathcal{X}_i)      \\\\\n",
    "    &\\hspace{10mm}\\textbf{if} \\: \\mu \\neq 0                                          \\\\\n",
    "    &\\hspace{15mm}\\textbf{if} \\: t > 1                                              \\\\\n",
    "    &\\hspace{20mm} \\textbf{b}_t \\leftarrow \\mu \\textbf{b}_{t-1} + g_t               \\\\\n",
    "    &\\hspace{15mm}\\textbf{else}                                                     \\\\\n",
    "    &\\hspace{20mm} \\textbf{b}_t \\leftarrow g_t                                      \\\\\n",
    "    &\\hspace{15mm} g_t  \\leftarrow  \\textbf{b}_t                                     \\\\\n",
    "    &\\hspace{10mm}\\theta_t \\leftarrow \\theta_{t-1} - \\gamma g_t                      \\\\[-1.ex]\n",
    "    &\\rule{70mm}{0.4pt}                                                             \\\\[-1.ex]\n",
    "    &\\bf{return} \\:  \\theta_t                                                       \\\\[-1.ex]\n",
    "    &\\rule{70mm}{0.4pt}                                                             \\\\[-1.ex]\n",
    "\\end{aligned}\n",
    "$$\n",
    "\n",
    "Проще всего будет написать `custom minimizer` (смотри [документацию scipy](https://docs.scipy.org/doc/scipy/reference/generated/scipy.optimize.minimize.html))."
   ]
  },
  {
   "cell_type": "code",
   "execution_count": 51,
   "metadata": {
    "ExecuteTime": {
     "end_time": "2024-02-29T17:11:09.462756Z",
     "start_time": "2024-02-29T17:11:09.385310800Z"
    }
   },
   "outputs": [],
   "source": [
    "from scipy.optimize import OptimizeResult\n",
    "\n",
    "\n",
    "def SGD(fun, x0, args, **kwargs) -> OptimizeResult:\n",
    "    callback = kwargs['callback']   # feed weights from each iteration to update network and log metrics\n",
    "    mu = kwargs['momentum']\n",
    "    n_iter = kwargs['n_iter']\n",
    "    gamma = kwargs['lr']\n",
    "    jac = kwargs['jac']\n",
    "    batch_size = kwargs['batch_size']\n",
    "    tolerance = kwargs['tol'] if 'tol' in kwargs else None\n",
    "    tolerance = -1.0 if tolerance is None else tolerance\n",
    "    \n",
    "    if isinstance(args, tuple) and (len(args) == 1):\n",
    "        args = args[0]\n",
    "    \n",
    "    net, X, y = args\n",
    "    \n",
    "    m = 0.0\n",
    "    weights = x0\n",
    "    nit = 0\n",
    "    msg = \"Max iterations reached\"\n",
    "    indxs = np.arange(X.shape[0])\n",
    "    \n",
    "    for i in range(n_iter):\n",
    "        np.random.shuffle(indxs)\n",
    "        batch_indxs = np.array_split(indxs, X.shape[0] // batch_size)\n",
    "        loss_sum = 0.0\n",
    "        \n",
    "        for batch_ind in batch_indxs:\n",
    "            loss = fun(weights, (net, X[batch_ind, :], y[batch_ind]))\n",
    "            grad = fun.derivative(weights, (net, X[batch_ind, :], y[batch_ind]))\n",
    "            m = mu * m + grad\n",
    "            weights -= gamma * m\n",
    "            loss_sum += loss\n",
    "        \n",
    "        if callback is not None:\n",
    "            callback(weights)\n",
    "        \n",
    "        nit += 1\n",
    "        loss_sum /= len(batch_indxs)\n",
    "        if loss_sum <= tolerance:\n",
    "            msg = f\"Convergence: loss ({loss_sum}) <= tolerance ({tolerance})\"\n",
    "            break\n",
    "    \n",
    "    res = {\n",
    "        \"message\": msg,\n",
    "        \"success\": True,\n",
    "        \"nit\": nit,\n",
    "        \"x\": weights\n",
    "    }\n",
    "    \n",
    "    return res"
   ]
  },
  {
   "cell_type": "markdown",
   "metadata": {},
   "source": [
    "**Задание 1. (0.5 балла)** Продемонстрируйте правильную работу метода оптимизации, получив `test_accuracy>=0.9`."
   ]
  },
  {
   "cell_type": "code",
   "execution_count": 52,
   "metadata": {
    "ExecuteTime": {
     "end_time": "2024-02-29T17:11:16.012353Z",
     "start_time": "2024-02-29T17:11:10.883139Z"
    }
   },
   "outputs": [
    {
     "data": {
      "text/plain": "('Convergence: loss (0.0009728764303114465) <= tolerance (0.001)', 150)"
     },
     "execution_count": 52,
     "metadata": {},
     "output_type": "execute_result"
    }
   ],
   "source": [
    "layer_c = 3\n",
    "network = make_network(input_size, 32, output_size, layer_c, ReLU)\n",
    "weights = get_weights(network)\n",
    "\n",
    "res = minimize(\n",
    "    compute_loss_grad, weights,       # fun and start point\n",
    "    args=(network, X_train, y_train), # args passed to fun\n",
    "    method=SGD,                       # optimization method\n",
    "    jac=True,                         # says that gradient is computed in fun,\n",
    "    options={\n",
    "        'n_iter': 1_250,\n",
    "        'momentum': 0.9,\n",
    "        'lr': 1e-2,\n",
    "        'batch_size': 100,\n",
    "    },\n",
    "    tol=1e-3,\n",
    ")\n",
    "\n",
    "res['message'], res['nit']"
   ]
  },
  {
   "cell_type": "code",
   "outputs": [
    {
     "name": "stdout",
     "output_type": "stream",
     "text": [
      "Train NLL: 0.0009661\t\tTest NLL: 0.2840298\n",
      "Train accuracy: 1.000\t\tTest accuracy: 0.964\n"
     ]
    }
   ],
   "source": [
    "train_NLL = NLL(forward(network, X_train), y_train)\n",
    "test_NLL = NLL(forward(network, X_test), y_test)\n",
    "\n",
    "print(f\"Train NLL: {train_NLL:.7f}\\t\\tTest NLL: {test_NLL:.7f}\")\n",
    "\n",
    "train_accuracy = accuracy_score(y_true=y_train, y_pred=predict(network, X_train))\n",
    "test_accuracy = accuracy_score(y_true=y_test, y_pred=predict(network, X_test))\n",
    "\n",
    "print(f\"Train accuracy: {train_accuracy:.3f}\\t\\tTest accuracy: {test_accuracy:.3f}\")"
   ],
   "metadata": {
    "collapsed": false,
    "ExecuteTime": {
     "end_time": "2024-02-29T17:11:16.093902300Z",
     "start_time": "2024-02-29T17:11:15.986962Z"
    }
   },
   "execution_count": 53
  },
  {
   "cell_type": "markdown",
   "metadata": {},
   "source": [
    "**Задание 2. (0.8 балла)** Сравните три алгоритма:\n",
    "1. LBFGS-B\n",
    "2. SGD\n",
    "3. SGD + momentum\n",
    "\n",
    "Для этого одновременно переберите следующие гиперпараметры:\n",
    "- значения `lr` на отрезке `[1e-3, 1e-1]` по логарифмической сетке\n",
    "- два значения `momentum`: `0` и `0.9`\n",
    "- значения `batch_size`: `8` и `32`\n",
    "\n",
    "В каждом запуске сохраняйте три метрики: итоговое accuracy на тесте и на трейне и время обучения.\n",
    "\n",
    "Для каждого из трёх алгоритмов выберите лучшие `lr` и `batch_size` по `test_accuracy`. Постройте для них кривые обучения (пример ниже). Сделайте выводы.\n",
    "\n",
    "![](comparison.svg)"
   ]
  },
  {
   "cell_type": "code",
   "execution_count": null,
   "metadata": {
    "ExecuteTime": {
     "start_time": "2024-02-29T10:16:24.268463200Z"
    }
   },
   "outputs": [],
   "source": [
    "optimizer = SGD\n",
    "optimizer_params = []\n",
    "\n",
    "for lr in [1e-1, 1e-2, 1e-3]:\n",
    "    for batch_size in [9, 32]:\n",
    "        optimizer_params.append({\n",
    "            'n_iter': 250,\n",
    "            'momentum': 0.0,\n",
    "            'lr': lr,\n",
    "            'batch_size': batch_size,\n",
    "        })\n",
    "\n",
    "\n",
    "accs_train = np.zeros((len(optimizer_params), 15))\n",
    "accs_test = np.zeros_like(accs_train)\n",
    "layer_c = 3\n",
    "np.random.seed(42)\n",
    "\n",
    "\n",
    "\n",
    "for i, opt_params in enumerate(optimizer_params):\n",
    "    for j in range(accs_train.shape[1]):\n",
    "        network = make_network(input_size, 32, output_size, layer_c, ReLU)\n",
    "        initialize_network(network, \"Kaiming\")\n",
    "        network, cb = train_network(\n",
    "            network, \n",
    "            history=True, \n",
    "            optimizer=optimizer,\n",
    "            options=opt_params,\n",
    "        )\n",
    "        \n",
    "        accs_train[i, j] = cb.train_acc[-1]\n",
    "        accs_test[i, j] = cb.test_acc[-1]"
   ]
  },
  {
   "cell_type": "code",
   "outputs": [],
   "source": [
    "momentum_for_plot = [f\"LR = {opt_params['lr']:.3f}\\nBatch size = {opt_params['batch_size']}\" for opt_params in optimizer_params]\n",
    "\n",
    "fig, ax = plt.subplots(1, 1, figsize=(10, 5))\n",
    "\n",
    "ax.boxplot(accs_test.T, labels=momentum_for_plot, showfliers=False)\n",
    "\n",
    "ax.set_title(f\"Test quality in {accs_test.shape[1]} runs\")\n",
    "ax.set_xlabel(\"Initialization\")\n",
    "ax.set_ylabel(\"Test accuracy\")\n",
    "ax.grid(True)\n",
    "\n",
    "fig.tight_layout()\n",
    "plt.show()"
   ],
   "metadata": {
    "collapsed": false,
    "ExecuteTime": {
     "start_time": "2024-02-29T10:16:24.270644300Z"
    }
   },
   "execution_count": null
  },
  {
   "cell_type": "code",
   "outputs": [],
   "source": [
    "momentum_for_plot = [f\"LR = {opt_params['lr']:.3f}\\nBatch size = {opt_params['batch_size']}\" for opt_params in optimizer_params]\n",
    "\n",
    "fig, ax = plt.subplots(1, 1, figsize=(10, 5))\n",
    "\n",
    "ax.boxplot(accs_test[1:, :].T, labels=momentum_for_plot[1:], showfliers=False)\n",
    "\n",
    "ax.set_title(f\"Test quality in {accs_test.shape[1]} runs\")\n",
    "ax.set_xlabel(\"Initialization\")\n",
    "ax.set_ylabel(\"Test accuracy\")\n",
    "ax.grid(True)\n",
    "\n",
    "fig.tight_layout()\n",
    "plt.show()"
   ],
   "metadata": {
    "collapsed": false,
    "ExecuteTime": {
     "start_time": "2024-02-29T10:16:24.272808500Z"
    }
   },
   "execution_count": null
  },
  {
   "cell_type": "code",
   "outputs": [],
   "source": [
    "optimizer = SGD\n",
    "optimizer_params = []\n",
    "\n",
    "for lr in [1e-1, 1e-2, 1e-3]:\n",
    "    for batch_size in [9, 32]:\n",
    "        optimizer_params.append({\n",
    "            'n_iter': 250,\n",
    "            'momentum': 0.9,\n",
    "            'lr': lr,\n",
    "            'batch_size': batch_size,\n",
    "        })\n",
    "\n",
    "\n",
    "accs_train = np.zeros((len(optimizer_params), 15))\n",
    "accs_test = np.zeros_like(accs_train)\n",
    "layer_c = 3\n",
    "np.random.seed(42)\n",
    "\n",
    "\n",
    "for i, opt_params in enumerate(optimizer_params):\n",
    "    for j in range(accs_train.shape[1]):\n",
    "        network = make_network(input_size, 32, output_size, layer_c, ReLU)\n",
    "        initialize_network(network, \"Kaiming\")\n",
    "        network, cb = train_network(\n",
    "            network, \n",
    "            history=True, \n",
    "            optimizer=optimizer,\n",
    "            options=opt_params,\n",
    "        )\n",
    "        \n",
    "        accs_train[i, j] = cb.train_acc[-1]\n",
    "        accs_test[i, j] = cb.test_acc[-1]"
   ],
   "metadata": {
    "collapsed": false,
    "ExecuteTime": {
     "start_time": "2024-02-29T10:16:24.275022900Z"
    }
   },
   "execution_count": null
  },
  {
   "cell_type": "code",
   "outputs": [],
   "source": [
    "momentum_for_plot = [f\"LR = {opt_params['lr']:.3f}\\nBatch size = {opt_params['batch_size']}\" for opt_params in optimizer_params]\n",
    "\n",
    "fig, ax = plt.subplots(1, 1, figsize=(10, 5))\n",
    "\n",
    "ax.boxplot(accs_test.T, labels=momentum_for_plot, showfliers=False)\n",
    "\n",
    "ax.set_title(f\"Test quality in {accs_test.shape[1]} runs\")\n",
    "ax.set_xlabel(\"Initialization\")\n",
    "ax.set_ylabel(\"Test accuracy\")\n",
    "ax.grid(True)\n",
    "\n",
    "fig.tight_layout()\n",
    "plt.show()"
   ],
   "metadata": {
    "collapsed": false,
    "ExecuteTime": {
     "start_time": "2024-02-29T10:16:24.277866300Z"
    }
   },
   "execution_count": null
  },
  {
   "cell_type": "code",
   "outputs": [],
   "source": [
    "momentum_for_plot = [f\"LR = {opt_params['lr']:.3f}\\nBatch size = {opt_params['batch_size']}\" for opt_params in optimizer_params]\n",
    "\n",
    "fig, ax = plt.subplots(1, 1, figsize=(10, 5))\n",
    "\n",
    "ax.boxplot(accs_test[3:, :].T, labels=momentum_for_plot[3:], showfliers=False)\n",
    "\n",
    "ax.set_title(f\"Test quality in {accs_test.shape[1]} runs\")\n",
    "ax.set_xlabel(\"Initialization\")\n",
    "ax.set_ylabel(\"Test accuracy\")\n",
    "ax.grid(True)\n",
    "\n",
    "fig.tight_layout()\n",
    "plt.show()"
   ],
   "metadata": {
    "collapsed": false,
    "ExecuteTime": {
     "start_time": "2024-02-29T10:16:24.280055100Z"
    }
   },
   "execution_count": null
  },
  {
   "cell_type": "code",
   "outputs": [],
   "source": [
    "optimizers = [SGD, SGD, \"L-BFGS-B\"]\n",
    "optimizer_params = []\n",
    "\n",
    "optimizer_params.append({\n",
    "    'n_iter': 1_250,\n",
    "    'momentum': 0.0,\n",
    "    'lr': 0.039811,\n",
    "    'batch_size': 8,\n",
    "    'tol': 1e-4,\n",
    "})\n",
    "\n",
    "optimizer_params.append({\n",
    "    'n_iter': 1_250,\n",
    "    'momentum': 0.9,\n",
    "    'lr': 0.01,\n",
    "    'batch_size': 32,\n",
    "    'tol': 1e-4,\n",
    "})\n",
    "\n",
    "optimizer_params.append({\n",
    "})\n",
    "\n",
    "accs_train = np.zeros((len(optimizer_params), 15))\n",
    "accs_test = np.zeros_like(accs_train)\n",
    "layer_c = 3\n",
    "np.random.seed(42)\n",
    "\n",
    "\n",
    "for i, (opt, opt_params) in enumerate(zip(optimizers, optimizer_params)):\n",
    "    for j in range(accs_train.shape[1]):\n",
    "        network = make_network(input_size, 32, output_size, layer_c, ReLU)\n",
    "        initialize_network(network, \"Kaiming\")\n",
    "        network, cb = train_network(\n",
    "            network, \n",
    "            history=True, \n",
    "            optimizer=opt,\n",
    "            options=opt_params,\n",
    "        )\n",
    "        \n",
    "        accs_train[i, j] = cb.train_acc[-1]\n",
    "        accs_test[i, j] = cb.test_acc[-1]"
   ],
   "metadata": {
    "collapsed": false,
    "ExecuteTime": {
     "start_time": "2024-02-29T10:16:24.282272100Z"
    }
   },
   "execution_count": null
  },
  {
   "cell_type": "code",
   "outputs": [],
   "source": [
    "momentum_for_plot = [\"SGD\", \"SGD with Momentum\", \"L-BFGS-B\"]\n",
    "\n",
    "fig, ax = plt.subplots(1, 1, figsize=(10, 5))\n",
    "\n",
    "ax.boxplot(accs_test.T, labels=momentum_for_plot, showfliers=False)\n",
    "\n",
    "ax.set_title(f\"Test quality in {accs_test.shape[1]} runs\")\n",
    "ax.set_xlabel(\"Optimizer\")\n",
    "ax.set_ylabel(\"Test accuracy\")\n",
    "ax.grid(True)\n",
    "\n",
    "fig.tight_layout()\n",
    "plt.show()"
   ],
   "metadata": {
    "collapsed": false,
    "ExecuteTime": {
     "start_time": "2024-02-29T10:16:24.284464600Z"
    }
   },
   "execution_count": null
  },
  {
   "cell_type": "code",
   "outputs": [],
   "source": [
    "optimizers = [SGD, SGD, \"L-BFGS-B\"]\n",
    "optimizer_params = []\n",
    "\n",
    "optimizer_params.append({\n",
    "    'n_iter': 250,\n",
    "    'momentum': 0.0,\n",
    "    'lr': 0.1,\n",
    "    'batch_size': 32,\n",
    "})\n",
    "\n",
    "optimizer_params.append({\n",
    "    'n_iter': 250,\n",
    "    'momentum': 0.9,\n",
    "    'lr': 0.01,\n",
    "    'batch_size': 32,\n",
    "})\n",
    "\n",
    "optimizer_params.append({})\n",
    "\n",
    "accs_train = []\n",
    "accs_test = []\n",
    "layer_c = 3\n",
    "np.random.seed(42)\n",
    "\n",
    "\n",
    "for i, (opt, opt_params) in enumerate(zip(optimizers, optimizer_params)):\n",
    "    network = make_network(input_size, 32, output_size, layer_c, ReLU)\n",
    "    initialize_network(network, \"Kaiming\")\n",
    "    network, cb = train_network(\n",
    "        network, \n",
    "        history=True, \n",
    "        optimizer=opt,\n",
    "        options=opt_params,\n",
    "    )\n",
    "    \n",
    "    accs_train.append(cb.train_acc)\n",
    "    accs_test.append(cb.test_acc)"
   ],
   "metadata": {
    "collapsed": false,
    "ExecuteTime": {
     "start_time": "2024-02-29T10:16:24.286666300Z"
    }
   },
   "execution_count": null
  },
  {
   "cell_type": "code",
   "outputs": [],
   "source": [
    "fig, ax = plt.subplots(nrows=1, ncols=2, figsize=(16, 5))\n",
    "colors = ['r', 'g', 'b']\n",
    "optimizer_labels = [\"SGD\", \"SGD with Momentum\", \"L-BFGS-B\"]\n",
    "\n",
    "for train_acc, test_acc, color, label in zip(accs_train, accs_test, colors, optimizer_labels):\n",
    "    ax[0].plot(train_acc, f'{color}--', label=f'{label} train')\n",
    "    ax[1].plot(test_acc, f'{color}-', label=f'{label} test')\n",
    "\n",
    "for i in range(2):\n",
    "    ax[i].set_xlabel(\"Iteration\")\n",
    "    ax[i].set_ylabel(\"Accuracy\")\n",
    "    ax[i].grid(True)\n",
    "    ax[i].legend()\n",
    "\n",
    "fig.tight_layout()\n",
    "plt.show()"
   ],
   "metadata": {
    "collapsed": false,
    "ExecuteTime": {
     "start_time": "2024-02-29T10:16:24.288847200Z"
    }
   },
   "execution_count": null
  },
  {
   "cell_type": "markdown",
   "metadata": {},
   "source": [
    "**Выводы:**"
   ]
  },
  {
   "cell_type": "markdown",
   "metadata": {},
   "source": []
  },
  {
   "cell_type": "markdown",
   "metadata": {},
   "source": [
    "**Задание 3. (0.1 балла)** Для отобранных в прошлом задании трёх алгоритмов ответье на вопрос: как меняются запуски для двух значений `batch_size`."
   ]
  },
  {
   "cell_type": "markdown",
   "metadata": {},
   "source": [
    "**Ответ:**"
   ]
  },
  {
   "cell_type": "markdown",
   "metadata": {},
   "source": []
  },
  {
   "cell_type": "markdown",
   "metadata": {
    "heading_collapsed": true
   },
   "source": [
    "## `Бонусная часть`"
   ]
  },
  {
   "cell_type": "markdown",
   "source": [
    "Доп. эксперимент. Исследование работы SGD с неточной (усл-я Армиха-Вульфа) оптимизацией шага обучения"
   ],
   "metadata": {
    "collapsed": false
   }
  },
  {
   "cell_type": "code",
   "outputs": [],
   "source": [],
   "metadata": {
    "collapsed": false,
    "ExecuteTime": {
     "start_time": "2024-02-29T10:16:24.291127800Z"
    }
   }
  },
  {
   "cell_type": "markdown",
   "metadata": {
    "hidden": true
   },
   "source": [
    "### `Реализация метода оптимизации (1 балл)`\n",
    "\n",
    "Реализуйте метод оптимизации Adam и сравните его работу с SGD + momentum, проведя эксперимент, как в задании 2 (перебор гиперпараметров + кривые обучения)."
   ]
  },
  {
   "cell_type": "code",
   "outputs": [],
   "source": [
    "def Adam(fun, x0, args, **kwargs) -> OptimizeResult:\n",
    "    callback = kwargs['callback']   # feed weights from each iteration to update network and log metrics\n",
    "    beta_momentum = kwargs['beta_momentum']\n",
    "    beta_grad = kwargs['beta_grad']\n",
    "    n_iter = kwargs['n_iter']\n",
    "    gamma = kwargs['lr']\n",
    "    jac = kwargs['jac']\n",
    "    batch_size = kwargs['batch_size']\n",
    "    tolerance = kwargs['tol'] if 'tol' in kwargs else None\n",
    "    tolerance = -1.0 if tolerance is None else tolerance\n",
    "    eps = 1e-6\n",
    "    \n",
    "    if isinstance(args, tuple) and (len(args) == 1):\n",
    "        args = args[0]\n",
    "    \n",
    "    net, X, y = args\n",
    "    \n",
    "    m = 0.0\n",
    "    v = 0.0\n",
    "    weights = x0\n",
    "    nit = 0\n",
    "    msg = \"Max iterations reached\"\n",
    "    \n",
    "    for i in range(1, n_iter+1):\n",
    "        batch_indxs = np.array_split(np.arange(X.shape[0]), X.shape[0] // batch_size)\n",
    "        loss_sum = 0.0\n",
    "        \n",
    "        for batch_ind in batch_indxs:\n",
    "            # print(f\"NEGRO\")\n",
    "            loss = fun(weights, (net, X[batch_ind, :], y[batch_ind]))\n",
    "            grad = fun.derivative(weights, (net, X[batch_ind, :], y[batch_ind]))\n",
    "            m = beta_momentum * m + (1 - beta_momentum) * grad\n",
    "            v = beta_grad * v + (1 - beta_grad) * np.power(grad, 2)\n",
    "            \n",
    "            m_hat = m / (1 - np.power(beta_momentum, i))\n",
    "            v_hat = v / (1 - np.power(beta_grad, i))\n",
    "            \n",
    "            delta = (m_hat / (v_hat + eps))\n",
    "            print(f\"Grad norm = {np.linalg.norm(delta) / len(delta)}\")\n",
    "            \n",
    "            weights -= gamma * delta\n",
    "            loss_sum += loss\n",
    "        \n",
    "        if callback is not None:\n",
    "            callback(weights)\n",
    "        \n",
    "        nit += 1\n",
    "        loss_sum /= len(batch_indxs)\n",
    "        if loss_sum <= tolerance:\n",
    "            msg = f\"Convergence: loss ({loss_sum}) <= tolerance ({tolerance})\"\n",
    "            break\n",
    "    \n",
    "    res = {\n",
    "        \"message\": msg,\n",
    "        \"success\": True,\n",
    "        \"nit\": nit,\n",
    "        \"x\": weights\n",
    "    }\n",
    "    \n",
    "    return res"
   ],
   "metadata": {
    "collapsed": false,
    "ExecuteTime": {
     "end_time": "2024-02-29T17:11:32.108000100Z",
     "start_time": "2024-02-29T17:11:32.032014500Z"
    }
   },
   "execution_count": 54
  },
  {
   "cell_type": "code",
   "outputs": [
    {
     "name": "stdout",
     "output_type": "stream",
     "text": [
      "Grad norm = 3.8078384000059144\n",
      "Grad norm = 2.330000894342321\n",
      "Grad norm = 2.0156957777348903\n",
      "Grad norm = 1.8496451038137427\n",
      "Grad norm = 1.752615004346447\n",
      "Grad norm = 1.6827034529381917\n",
      "Grad norm = 1.6043822926157942\n",
      "Grad norm = 1.5371790995773398\n",
      "Grad norm = 1.4722290124664195\n",
      "Grad norm = 1.4083221125608323\n",
      "Grad norm = 1.33954376728846\n",
      "Grad norm = 1.275131501039818\n",
      "Grad norm = 1.2259695103654606\n",
      "Grad norm = 1.1726648756814226\n",
      "Grad norm = 1.1189205873224077\n",
      "Grad norm = 1.059207781635422\n",
      "Grad norm = 0.9981865699577901\n",
      "Grad norm = 0.9521332558386998\n",
      "Grad norm = 0.9192408495346557\n",
      "Grad norm = 0.8852840809755449\n",
      "Grad norm = 0.8542502499310873\n",
      "Grad norm = 0.8251733864447502\n",
      "Grad norm = 0.7929474581006347\n",
      "Grad norm = 0.7631255895097152\n",
      "Grad norm = 0.7265156311694421\n",
      "Grad norm = 0.7078410255799978\n",
      "Grad norm = 0.6943198235024526\n",
      "Grad norm = 0.6645047588048135\n",
      "Grad norm = 0.6437522724922817\n",
      "Grad norm = 0.6147807902941701\n",
      "Grad norm = 0.60310131068148\n",
      "Grad norm = 0.5970210021712552\n",
      "Grad norm = 0.5800580728887282\n",
      "Grad norm = 0.5603359940231534\n",
      "Grad norm = 0.5429136127369155\n",
      "Grad norm = 0.5197554110818939\n",
      "Grad norm = 0.501693571265118\n",
      "Grad norm = 0.48604714308681146\n",
      "Grad norm = 0.4719951483747161\n",
      "Grad norm = 0.4573333821356276\n",
      "Grad norm = 0.4406492421940107\n",
      "Grad norm = 0.42277254779029644\n",
      "Grad norm = 0.40547354187295753\n",
      "Grad norm = 0.38816749593815386\n",
      "Grad norm = 0.37308277819712277\n",
      "Grad norm = 0.3610110531281451\n",
      "Grad norm = 0.3484270955206329\n",
      "Grad norm = 0.33428171427888903\n",
      "Grad norm = 0.31912665615949093\n",
      "Grad norm = 0.30378434673288107\n",
      "Grad norm = 0.28916602471280195\n",
      "Grad norm = 0.27418373121489625\n",
      "Grad norm = 0.2590587179546184\n",
      "Grad norm = 0.24442473769835352\n",
      "Grad norm = 0.23070920437544953\n",
      "Grad norm = 0.21822051153994731\n",
      "Grad norm = 0.20681938672254258\n",
      "Grad norm = 0.19659901060466917\n",
      "Grad norm = 0.18644910130732378\n",
      "Grad norm = 0.17700657088613458\n",
      "Grad norm = 0.16863318560151724\n",
      "Grad norm = 0.16050593597499233\n",
      "Grad norm = 0.1533224511192321\n",
      "Grad norm = 0.14627358082392639\n",
      "Grad norm = 0.13936259335681025\n",
      "Grad norm = 0.13262727600155372\n",
      "Grad norm = 0.12610246164740352\n",
      "Grad norm = 0.11978971420136719\n",
      "Grad norm = 0.11376441880447431\n",
      "Grad norm = 0.10829100814882411\n",
      "Grad norm = 0.10296825471167315\n",
      "Grad norm = 0.09773076562902572\n",
      "Grad norm = 0.09314430007365021\n",
      "Grad norm = 0.0891167894949001\n",
      "Grad norm = 0.08545487786441464\n",
      "Grad norm = 0.08175770827955144\n",
      "Grad norm = 0.0778763799841019\n",
      "Grad norm = 0.07428177922713224\n",
      "Grad norm = 0.07105348720236214\n",
      "Grad norm = 0.06812889137349769\n",
      "Grad norm = 0.06541952741592442\n",
      "Grad norm = 0.06292231505744814\n",
      "Grad norm = 0.06045636773036878\n",
      "Grad norm = 0.05796967867410126\n",
      "Grad norm = 0.055616151159890014\n",
      "Grad norm = 0.05358482120615796\n",
      "Grad norm = 0.05175739714422982\n",
      "Grad norm = 0.050147906900748086\n",
      "Grad norm = 0.04869011620185479\n",
      "Grad norm = 0.04711462156869538\n",
      "Grad norm = 0.04549310014694787\n",
      "Grad norm = 0.043949718483153884\n",
      "Grad norm = 0.04258160293100592\n",
      "Grad norm = 0.04124346306641087\n",
      "Grad norm = 0.04000569194895436\n",
      "Grad norm = 0.038897930512073076\n",
      "Grad norm = 0.03787245266492667\n",
      "Grad norm = 0.03684311403910491\n",
      "Grad norm = 0.03584213656857299\n",
      "Grad norm = 0.03494495192552463\n",
      "Grad norm = 0.03415973269950002\n",
      "Grad norm = 0.033477137804125305\n",
      "Grad norm = 0.032838520254064356\n",
      "Grad norm = 0.03221014450287737\n",
      "Grad norm = 0.031582878618169406\n",
      "Grad norm = 0.030975506531898706\n",
      "Grad norm = 0.030387746707892026\n",
      "Grad norm = 0.02980459929567854\n",
      "Grad norm = 0.02924936620067533\n",
      "Grad norm = 0.028695280661367402\n",
      "Grad norm = 0.02817165861666752\n",
      "Grad norm = 0.027667473089148267\n",
      "Grad norm = 0.027252612947906645\n",
      "Grad norm = 0.026850667491772652\n",
      "Grad norm = 0.026454661200415352\n",
      "Grad norm = 0.026110429771532433\n",
      "Grad norm = 0.02574752318856301\n",
      "Grad norm = 0.025296743094096356\n",
      "Grad norm = 0.024875583786519505\n",
      "Grad norm = 0.024518482057486298\n",
      "Grad norm = 0.024163070297589698\n",
      "Grad norm = 0.023847419995119877\n",
      "Grad norm = 0.02354871532898037\n",
      "Grad norm = 0.023255567133161213\n",
      "Grad norm = 0.022976981306359966\n",
      "Grad norm = 0.022715713100225386\n",
      "Grad norm = 0.022452941357971073\n",
      "Grad norm = 0.022253436736167247\n",
      "Grad norm = 0.022026372645252392\n",
      "Grad norm = 0.021815514826555044\n",
      "Grad norm = 0.021577048352796557\n",
      "Grad norm = 0.021347465107454645\n",
      "Grad norm = 0.021132003989029067\n",
      "Grad norm = 0.02091705577695292\n",
      "Grad norm = 0.020734295103372644\n",
      "Grad norm = 0.02053462438204357\n",
      "Grad norm = 0.020390162355752483\n",
      "Grad norm = 0.020215314919103264\n",
      "Grad norm = 0.020072763214773654\n",
      "Grad norm = 0.019927611862488724\n",
      "Grad norm = 0.019764462775984044\n",
      "Grad norm = 0.019620801345421355\n",
      "Grad norm = 0.019450598157991564\n",
      "Grad norm = 0.01924495104905808\n",
      "Grad norm = 0.019089093046429008\n",
      "Grad norm = 0.018923204771497625\n",
      "Grad norm = 0.018795488126310624\n",
      "Grad norm = 0.01863143954760428\n",
      "Grad norm = 0.018470226266420454\n",
      "Grad norm = 0.018332129992841114\n",
      "Grad norm = 0.018213387466314724\n",
      "Grad norm = 0.01808448154789327\n",
      "Grad norm = 0.017971016881038294\n",
      "Grad norm = 0.01785803969740253\n",
      "Grad norm = 0.01777494712971307\n",
      "Grad norm = 0.01765809048374587\n",
      "Grad norm = 0.017562686087687015\n",
      "Grad norm = 0.0174447026404261\n",
      "Grad norm = 0.017306338504822986\n",
      "Grad norm = 0.017202162096415532\n",
      "Grad norm = 0.017036263179637537\n",
      "Grad norm = 0.016922228200129185\n",
      "Grad norm = 0.01677391885438957\n",
      "Grad norm = 0.016643942434846244\n",
      "Grad norm = 0.016535982929233587\n",
      "Grad norm = 0.016449534755053917\n",
      "Grad norm = 0.016358554157487184\n",
      "Grad norm = 0.016258217204493455\n",
      "Grad norm = 0.01616839118347692\n",
      "Grad norm = 0.01604025557591237\n",
      "Grad norm = 0.015965065577687898\n",
      "Grad norm = 0.015843325307688835\n",
      "Grad norm = 0.015766267748456984\n",
      "Grad norm = 0.015671259361621927\n",
      "Grad norm = 0.015544253547130318\n",
      "Grad norm = 0.0154790776739791\n",
      "Grad norm = 0.015358201424323292\n",
      "Grad norm = 0.01527106004612943\n",
      "Grad norm = 0.015206580643085263\n",
      "Grad norm = 0.01508163500256872\n",
      "Grad norm = 0.014969235208423231\n",
      "Grad norm = 0.014883712363796897\n",
      "Grad norm = 0.014808275696658308\n",
      "Grad norm = 0.014720855025494955\n",
      "Grad norm = 0.014641560987419321\n",
      "Grad norm = 0.014533800545818418\n",
      "Grad norm = 0.014471443801036784\n",
      "Grad norm = 0.014390245388220153\n",
      "Grad norm = 0.014334491187218919\n",
      "Grad norm = 0.014269946088180446\n",
      "Grad norm = 0.014182922456106696\n",
      "Grad norm = 0.014085281395159754\n",
      "Grad norm = 0.014003319500457056\n",
      "Grad norm = 0.013935279922920275\n",
      "Grad norm = 0.013861454012664153\n",
      "Grad norm = 0.0137772905928738\n",
      "Grad norm = 0.013682262466503028\n",
      "Grad norm = 0.013610243440079177\n",
      "Grad norm = 0.013533714570245586\n",
      "Grad norm = 0.013454599321613081\n",
      "Grad norm = 0.013385443325743665\n",
      "Grad norm = 0.013316617236066855\n",
      "Grad norm = 0.013238721143650538\n",
      "Grad norm = 0.01316941415417148\n",
      "Grad norm = 0.01305785603071702\n",
      "Grad norm = 0.0129899516880201\n",
      "Grad norm = 0.012915054044006793\n",
      "Grad norm = 0.012835824535666554\n",
      "Grad norm = 0.012783275756035445\n",
      "Grad norm = 0.01269654344036011\n",
      "Grad norm = 0.012623653218425462\n",
      "Grad norm = 0.012554062255668475\n",
      "Grad norm = 0.01247063881309234\n",
      "Grad norm = 0.012387427145580667\n",
      "Grad norm = 0.012315616102543045\n",
      "Grad norm = 0.012249620952932472\n",
      "Grad norm = 0.012174781017247937\n",
      "Grad norm = 0.012120135449982207\n",
      "Grad norm = 0.012044532083717316\n",
      "Grad norm = 0.011970292792622482\n",
      "Grad norm = 0.011900680327863011\n",
      "Grad norm = 0.01183811566691632\n",
      "Grad norm = 0.011757406997491655\n",
      "Grad norm = 0.011690959689622481\n",
      "Grad norm = 0.011633184269680581\n",
      "Grad norm = 0.01158835838287996\n",
      "Grad norm = 0.011516539108849437\n",
      "Grad norm = 0.011460207135089374\n",
      "Grad norm = 0.011404023340563674\n",
      "Grad norm = 0.011363754626751982\n",
      "Grad norm = 0.01128703527571388\n",
      "Grad norm = 0.011210446364284272\n",
      "Grad norm = 0.01113585189749503\n",
      "Grad norm = 0.011083594523890296\n",
      "Grad norm = 0.011018075528468823\n",
      "Grad norm = 0.010978043436102867\n",
      "Grad norm = 0.01090815081067629\n",
      "Grad norm = 0.010851302868327873\n",
      "Grad norm = 0.010780933431566237\n",
      "Grad norm = 0.010729345662718949\n",
      "Grad norm = 0.010669596007018082\n",
      "Grad norm = 0.010609872645471335\n",
      "Grad norm = 0.010556848791304278\n",
      "Grad norm = 0.010495623301521097\n",
      "Grad norm = 0.010476418366516577\n",
      "Grad norm = 0.010415159968459594\n",
      "Grad norm = 0.010377995966304066\n",
      "Grad norm = 0.010304292246163149\n",
      "Grad norm = 0.010270810247148944\n",
      "Grad norm = 0.010189922514309967\n",
      "Grad norm = 0.010121070121900696\n",
      "Grad norm = 0.01009577509720442\n",
      "Grad norm = 0.010041955078210279\n",
      "Grad norm = 0.009949930875147301\n",
      "Grad norm = 0.009900566391242325\n",
      "Grad norm = 0.00984873334766117\n",
      "Grad norm = 0.009786834000722463\n",
      "Grad norm = 0.009761144596056768\n",
      "Grad norm = 0.009708023956681468\n",
      "Grad norm = 0.00965579263226029\n",
      "Grad norm = 0.009582771786318714\n",
      "Grad norm = 0.009538184096405593\n",
      "Grad norm = 0.009493207117146974\n",
      "Grad norm = 0.009461662148618596\n",
      "Grad norm = 0.009396712716788195\n",
      "Grad norm = 0.009346459064742395\n",
      "Grad norm = 0.009302085794994659\n",
      "Grad norm = 0.009262248181466943\n",
      "Grad norm = 0.00921783940878932\n",
      "Grad norm = 0.009162000937696046\n",
      "Grad norm = 0.009109390610589806\n",
      "Grad norm = 0.009057540385500005\n",
      "Grad norm = 0.009005443231585742\n",
      "Grad norm = 0.008955795026025037\n",
      "Grad norm = 0.008906727897125015\n",
      "Grad norm = 0.00887934122852681\n",
      "Grad norm = 0.008831284003082461\n",
      "Grad norm = 0.008782669841702328\n",
      "Grad norm = 0.008751471581280678\n",
      "Grad norm = 0.008709846617162538\n",
      "Grad norm = 0.008672486240691704\n",
      "Grad norm = 0.008604171474355915\n",
      "Grad norm = 0.008567029014508336\n",
      "Grad norm = 0.008519201787540207\n",
      "Grad norm = 0.008474885276557263\n",
      "Grad norm = 0.008426160236608722\n",
      "Grad norm = 0.00838643327109902\n",
      "Grad norm = 0.00835366482008625\n",
      "Grad norm = 0.008319047495782357\n",
      "Grad norm = 0.00827746260945114\n",
      "Grad norm = 0.008226355611698747\n",
      "Grad norm = 0.00819016086232414\n",
      "Grad norm = 0.0081638407062843\n",
      "Grad norm = 0.00812501981383488\n",
      "Grad norm = 0.008074508896227937\n",
      "Grad norm = 0.00803387559709346\n",
      "Grad norm = 0.008001970002299715\n",
      "Grad norm = 0.007959450127015065\n",
      "Grad norm = 0.007942450229688229\n",
      "Grad norm = 0.007890135574423385\n",
      "Grad norm = 0.007861898683228369\n",
      "Grad norm = 0.007812613372743802\n",
      "Grad norm = 0.007790216534012447\n",
      "Grad norm = 0.007746918392726403\n",
      "Grad norm = 0.007720872246919056\n",
      "Grad norm = 0.007679187144177102\n",
      "Grad norm = 0.007658276413373818\n",
      "Grad norm = 0.007608463603716744\n",
      "Grad norm = 0.007597386398566005\n",
      "Grad norm = 0.007541626872061871\n",
      "Grad norm = 0.007511490286394143\n",
      "Grad norm = 0.007474685737046715\n",
      "Grad norm = 0.007435844361646655\n",
      "Grad norm = 0.0073981257406751325\n",
      "Grad norm = 0.007371140443453255\n",
      "Grad norm = 0.00733142177101987\n",
      "Grad norm = 0.007315183653620533\n",
      "Grad norm = 0.007289607391944509\n",
      "Grad norm = 0.007237331693904373\n",
      "Grad norm = 0.007236807567038062\n",
      "Grad norm = 0.007176931392423089\n",
      "Grad norm = 0.00719289862611996\n",
      "Grad norm = 0.007129597112920915\n",
      "Grad norm = 0.007099760422034637\n",
      "Grad norm = 0.00705738884914479\n",
      "Grad norm = 0.00701967425211375\n",
      "Grad norm = 0.006992955836452806\n",
      "Grad norm = 0.006965797089305161\n",
      "Grad norm = 0.006929135311874105\n",
      "Grad norm = 0.006916145805225339\n",
      "Grad norm = 0.006863198167654815\n",
      "Grad norm = 0.006862051632649984\n",
      "Grad norm = 0.006830154095068611\n",
      "Grad norm = 0.006782627841530993\n",
      "Grad norm = 0.006785640280273636\n",
      "Grad norm = 0.006718201959762965\n",
      "Grad norm = 0.0067002653165384035\n",
      "Grad norm = 0.006678691407491331\n",
      "Grad norm = 0.006631770203830083\n",
      "Grad norm = 0.006599028732359827\n",
      "Grad norm = 0.006567933486760586\n",
      "Grad norm = 0.006544574412767314\n",
      "Grad norm = 0.006507308030707672\n",
      "Grad norm = 0.006482091766310077\n",
      "Grad norm = 0.006458973549038222\n",
      "Grad norm = 0.006436808856853119\n",
      "Grad norm = 0.006398942493272913\n",
      "Grad norm = 0.0063613878773692845\n",
      "Grad norm = 0.006340236135407265\n",
      "Grad norm = 0.006313403746026124\n",
      "Grad norm = 0.006287435616705349\n",
      "Grad norm = 0.006260549613588874\n",
      "Grad norm = 0.006232922533325919\n",
      "Grad norm = 0.0062184189878671066\n",
      "Grad norm = 0.006207577914354313\n",
      "Grad norm = 0.0061611332527163245\n",
      "Grad norm = 0.006151500268609963\n",
      "Grad norm = 0.006112022633370856\n",
      "Grad norm = 0.0060731955271760485\n",
      "Grad norm = 0.006044164957351333\n",
      "Grad norm = 0.006014736279836137\n",
      "Grad norm = 0.005994213453814987\n",
      "Grad norm = 0.00597062524662545\n",
      "Grad norm = 0.005946273460567713\n",
      "Grad norm = 0.005926717826129628\n",
      "Grad norm = 0.005926770100305754\n",
      "Grad norm = 0.005894920874416383\n",
      "Grad norm = 0.005858006826609366\n",
      "Grad norm = 0.005827277682157873\n",
      "Grad norm = 0.00580363765885663\n",
      "Grad norm = 0.005783133856772416\n",
      "Grad norm = 0.005774170503318446\n",
      "Grad norm = 0.005738858401284245\n",
      "Grad norm = 0.005724555772976004\n",
      "Grad norm = 0.005696473311513402\n",
      "Grad norm = 0.0057090245940968854\n",
      "Grad norm = 0.005647965795806675\n",
      "Grad norm = 0.005669558718849345\n",
      "Grad norm = 0.005610246941425229\n",
      "Grad norm = 0.005620411724694658\n",
      "Grad norm = 0.0055837937492104524\n",
      "Grad norm = 0.0055332924035152225\n",
      "Grad norm = 0.005529409590165919\n",
      "Grad norm = 0.005493642259342115\n",
      "Grad norm = 0.005467032508441532\n",
      "Grad norm = 0.005445932819523095\n",
      "Grad norm = 0.005432840913504564\n",
      "Grad norm = 0.005421917859488619\n",
      "Grad norm = 0.00539310291499296\n",
      "Grad norm = 0.005368379058383447\n",
      "Grad norm = 0.005343500435740471\n",
      "Grad norm = 0.005322622305084795\n",
      "Grad norm = 0.005304822407535176\n",
      "Grad norm = 0.0052719488093698795\n",
      "Grad norm = 0.005252632082633231\n",
      "Grad norm = 0.005247635746891429\n",
      "Grad norm = 0.0052168527669071785\n",
      "Grad norm = 0.005191285626934964\n",
      "Grad norm = 0.00516958898801629\n",
      "Grad norm = 0.005163467687659166\n",
      "Grad norm = 0.005132423700915909\n",
      "Grad norm = 0.005115367832085806\n",
      "Grad norm = 0.0051117761363824645\n",
      "Grad norm = 0.005072832261366438\n",
      "Grad norm = 0.005055519776352275\n",
      "Grad norm = 0.005032007849191885\n",
      "Grad norm = 0.00501267652051871\n",
      "Grad norm = 0.004993335958550599\n",
      "Grad norm = 0.004979989326494032\n",
      "Grad norm = 0.004951944146925109\n",
      "Grad norm = 0.004953014134067189\n",
      "Grad norm = 0.004917509789970841\n",
      "Grad norm = 0.004895310692112802\n",
      "Grad norm = 0.004875459105355834\n",
      "Grad norm = 0.004858355908869325\n",
      "Grad norm = 0.004842777699253084\n",
      "Grad norm = 0.004822658575363895\n",
      "Grad norm = 0.004803912227407669\n",
      "Grad norm = 0.0047884082855013345\n",
      "Grad norm = 0.004767235883757151\n",
      "Grad norm = 0.004755113846463209\n",
      "Grad norm = 0.004736298897287854\n",
      "Grad norm = 0.004713470865978336\n",
      "Grad norm = 0.004721638107267924\n",
      "Grad norm = 0.0046826091934183325\n",
      "Grad norm = 0.004660078802672245\n",
      "Grad norm = 0.004636519259430691\n",
      "Grad norm = 0.0046199498903711726\n",
      "Grad norm = 0.004603064487588884\n",
      "Grad norm = 0.004587014228347564\n",
      "Grad norm = 0.004585618530917471\n",
      "Grad norm = 0.004550145777258021\n",
      "Grad norm = 0.004559782430333432\n",
      "Grad norm = 0.004542993214006803\n",
      "Grad norm = 0.004553644154568912\n",
      "Grad norm = 0.004492102907050525\n",
      "Grad norm = 0.004503181055023879\n",
      "Grad norm = 0.004463488118380677\n",
      "Grad norm = 0.004441750942214687\n",
      "Grad norm = 0.004474150306486817\n",
      "Grad norm = 0.004424744902449354\n",
      "Grad norm = 0.004398442800326734\n",
      "Grad norm = 0.004407156114380196\n",
      "Grad norm = 0.00435776225589351\n",
      "Grad norm = 0.004349950305058422\n",
      "Grad norm = 0.004336320217953771\n",
      "Grad norm = 0.004324104065678942\n",
      "Grad norm = 0.004304991681549767\n",
      "Grad norm = 0.0042801793916025024\n",
      "Grad norm = 0.004267713974945485\n",
      "Grad norm = 0.00425105818825156\n",
      "Grad norm = 0.004233126074535796\n",
      "Grad norm = 0.004222549871185872\n",
      "Grad norm = 0.004200920693960156\n",
      "Grad norm = 0.004182117352594844\n",
      "Grad norm = 0.004175789912211778\n",
      "Grad norm = 0.004173548621653631\n",
      "Grad norm = 0.004146646979246355\n",
      "Grad norm = 0.0041386288742868635\n",
      "Grad norm = 0.004113915893159112\n",
      "Grad norm = 0.004109834289117644\n",
      "Grad norm = 0.004080035389870056\n",
      "Grad norm = 0.004080015413952246\n",
      "Grad norm = 0.004054716399033347\n",
      "Grad norm = 0.0040547786487363765\n",
      "Grad norm = 0.0040220963932197425\n",
      "Grad norm = 0.004006951518048665\n",
      "Grad norm = 0.003992121018321969\n",
      "Grad norm = 0.003980189500226496\n",
      "Grad norm = 0.003970560091045959\n",
      "Grad norm = 0.003956914729379055\n",
      "Grad norm = 0.003939907267694087\n",
      "Grad norm = 0.003930805728546255\n",
      "Grad norm = 0.003930940833829561\n",
      "Grad norm = 0.0039056327844468417\n",
      "Grad norm = 0.003882761806198255\n",
      "Grad norm = 0.003882501189792874\n",
      "Grad norm = 0.003855732560098803\n",
      "Grad norm = 0.0038433484612694926\n",
      "Grad norm = 0.003834905939598424\n",
      "Grad norm = 0.0038172536996554647\n",
      "Grad norm = 0.003815285927320284\n",
      "Grad norm = 0.0037924302980922872\n",
      "Grad norm = 0.003803518887265231\n",
      "Grad norm = 0.00376171708754195\n",
      "Grad norm = 0.0037667671067999095\n",
      "Grad norm = 0.003738964207390089\n",
      "Grad norm = 0.0037211017457700504\n",
      "Grad norm = 0.0037078916008970084\n",
      "Grad norm = 0.00369749509095419\n",
      "Grad norm = 0.0036837883268471326\n",
      "Grad norm = 0.003668592416087148\n",
      "Grad norm = 0.003660016029807869\n",
      "Grad norm = 0.0036446295910196325\n",
      "Grad norm = 0.0036312661717385793\n",
      "Grad norm = 0.0036266396826057368\n",
      "Grad norm = 0.0036056999259865366\n",
      "Grad norm = 0.0035950348500572225\n",
      "Grad norm = 0.003607265373217937\n",
      "Grad norm = 0.0035761053510270655\n",
      "Grad norm = 0.0035687175615615233\n",
      "Grad norm = 0.0035513292894420547\n",
      "Grad norm = 0.0035584868255585283\n",
      "Grad norm = 0.0035262538890056673\n",
      "Grad norm = 0.003543643773887764\n",
      "Grad norm = 0.003509992414143851\n",
      "Grad norm = 0.0035123161274021393\n",
      "Grad norm = 0.0034973340143167266\n",
      "Grad norm = 0.003465914743273387\n",
      "Grad norm = 0.003450878884691763\n",
      "Grad norm = 0.0034584040865998575\n",
      "Grad norm = 0.003426700732765181\n",
      "Grad norm = 0.0034255696529457208\n",
      "Grad norm = 0.00342141786949932\n",
      "Grad norm = 0.0034044519778289816\n",
      "Grad norm = 0.0033812305875496607\n",
      "Grad norm = 0.003376120977805312\n",
      "Grad norm = 0.003366369001791984\n",
      "Grad norm = 0.0033553516892840586\n",
      "Grad norm = 0.0033494464316550145\n",
      "Grad norm = 0.003332623187440966\n",
      "Grad norm = 0.003315019416786029\n",
      "Grad norm = 0.0033092884545775476\n",
      "Grad norm = 0.0033004079324386983\n",
      "Grad norm = 0.0032859709659377066\n",
      "Grad norm = 0.003272658131753215\n",
      "Grad norm = 0.0032631894114884797\n",
      "Grad norm = 0.0032490827908850605\n",
      "Grad norm = 0.0032379672939716066\n",
      "Grad norm = 0.0032397165097825076\n",
      "Grad norm = 0.003214682301872802\n",
      "Grad norm = 0.003210030428584255\n",
      "Grad norm = 0.0031951515401304914\n",
      "Grad norm = 0.0031841189352910053\n",
      "Grad norm = 0.0031760154497414866\n",
      "Grad norm = 0.0031623817509045644\n",
      "Grad norm = 0.0031559191935756027\n",
      "Grad norm = 0.003146044166693312\n",
      "Grad norm = 0.0031451349864486614\n",
      "Grad norm = 0.0031219809067418525\n",
      "Grad norm = 0.0031185554604238035\n",
      "Grad norm = 0.0031076135795148883\n",
      "Grad norm = 0.0030988701220093884\n",
      "Grad norm = 0.0030864264440464773\n",
      "Grad norm = 0.003069846532284481\n",
      "Grad norm = 0.0030709856565900857\n",
      "Grad norm = 0.0030526118158201074\n",
      "Grad norm = 0.0030412487495417692\n",
      "Grad norm = 0.0030283419148201627\n",
      "Grad norm = 0.0030215741891798423\n",
      "Grad norm = 0.003009044951577059\n",
      "Grad norm = 0.003006620376079069\n",
      "Grad norm = 0.00300601623359514\n",
      "Grad norm = 0.002995802978551872\n",
      "Grad norm = 0.002981013066018561\n",
      "Grad norm = 0.002964766627269588\n",
      "Grad norm = 0.0029534394675165385\n",
      "Grad norm = 0.0029457048338396275\n",
      "Grad norm = 0.0029381829947939322\n",
      "Grad norm = 0.00292737806875739\n",
      "Grad norm = 0.002920640734329557\n",
      "Grad norm = 0.002928496816978683\n",
      "Grad norm = 0.0028994880692041736\n",
      "Grad norm = 0.0029002428417907755\n",
      "Grad norm = 0.0028789903555056858\n",
      "Grad norm = 0.002890185621306464\n",
      "Grad norm = 0.002863896810973346\n",
      "Grad norm = 0.002862853536718844\n",
      "Grad norm = 0.002846208343624471\n",
      "Grad norm = 0.0028372151672526264\n",
      "Grad norm = 0.002829685635890804\n",
      "Grad norm = 0.0028165644943419074\n",
      "Grad norm = 0.0028050331218244886\n",
      "Grad norm = 0.0027971437285158134\n",
      "Grad norm = 0.002790452563222433\n",
      "Grad norm = 0.0027818064854897937\n",
      "Grad norm = 0.002769938334984838\n",
      "Grad norm = 0.0027738320626155724\n",
      "Grad norm = 0.0027586097614071777\n",
      "Grad norm = 0.002747210414957839\n",
      "Grad norm = 0.0027423438869988714\n",
      "Grad norm = 0.002734623880276687\n",
      "Grad norm = 0.0027172735966182805\n",
      "Grad norm = 0.0027284939398930577\n",
      "Grad norm = 0.0027022798740182147\n",
      "Grad norm = 0.0027115956240330395\n",
      "Grad norm = 0.002684960452239657\n",
      "Grad norm = 0.002686013287895344\n",
      "Grad norm = 0.002670712717605252\n",
      "Grad norm = 0.0026699186398554168\n",
      "Grad norm = 0.0026556260506963216\n",
      "Grad norm = 0.0026411736227997984\n",
      "Grad norm = 0.00263950920439113\n",
      "Grad norm = 0.0026278645335149602\n",
      "Grad norm = 0.0026231912407117352\n",
      "Grad norm = 0.0026168141865852345\n",
      "Grad norm = 0.0026030660146129066\n",
      "Grad norm = 0.002595485632869907\n",
      "Grad norm = 0.0025859408796629047\n",
      "Grad norm = 0.002580201586305902\n",
      "Grad norm = 0.002570290366266865\n",
      "Grad norm = 0.0025595496113852215\n",
      "Grad norm = 0.002554912727989151\n",
      "Grad norm = 0.0025582897255920474\n",
      "Grad norm = 0.0025357624692440386\n",
      "Grad norm = 0.002539616881452545\n",
      "Grad norm = 0.002521262352096053\n",
      "Grad norm = 0.002526594901947106\n",
      "Grad norm = 0.00251190003203812\n",
      "Grad norm = 0.0025012073471062345\n",
      "Grad norm = 0.002500068029680684\n",
      "Grad norm = 0.0024815418318866562\n",
      "Grad norm = 0.002482403327111249\n",
      "Grad norm = 0.0024759184459144886\n",
      "Grad norm = 0.0024619249586725427\n",
      "Grad norm = 0.002448672004639693\n",
      "Grad norm = 0.002448432984683711\n",
      "Grad norm = 0.0024376497242121287\n",
      "Grad norm = 0.0024298805787199146\n",
      "Grad norm = 0.00242593840796902\n",
      "Grad norm = 0.0024144512425820783\n",
      "Grad norm = 0.0024151813330703653\n",
      "Grad norm = 0.002408800382547603\n",
      "Grad norm = 0.0024002493082624717\n",
      "Grad norm = 0.0023841619203528105\n",
      "Grad norm = 0.002392899706990469\n",
      "Grad norm = 0.002374428615034862\n",
      "Grad norm = 0.0023682356954722165\n",
      "Grad norm = 0.002353858136406265\n",
      "Grad norm = 0.002349628453070951\n",
      "Grad norm = 0.0023396025617132433\n",
      "Grad norm = 0.002338360722241258\n",
      "Grad norm = 0.0023254951155463645\n",
      "Grad norm = 0.002322304371589157\n",
      "Grad norm = 0.00231144395956916\n",
      "Grad norm = 0.0023093677046051265\n",
      "Grad norm = 0.0023036797624357425\n",
      "Grad norm = 0.002289853783864891\n",
      "Grad norm = 0.0022986415131537167\n",
      "Grad norm = 0.002279065942456912\n",
      "Grad norm = 0.002284015867410155\n",
      "Grad norm = 0.0022698157210533894\n",
      "Grad norm = 0.0022566985226042005\n",
      "Grad norm = 0.0022559768922512163\n",
      "Grad norm = 0.002246917352939611\n",
      "Grad norm = 0.0022414938808292453\n",
      "Grad norm = 0.002236150778755523\n",
      "Grad norm = 0.0022231702535749926\n",
      "Grad norm = 0.00221828088852906\n",
      "Grad norm = 0.002212377195721759\n",
      "Grad norm = 0.0022077481301528254\n",
      "Grad norm = 0.0021990747105253244\n",
      "Grad norm = 0.00218997836284273\n",
      "Grad norm = 0.002191004323273442\n",
      "Grad norm = 0.002175693679827122\n",
      "Grad norm = 0.0021814083598145112\n",
      "Grad norm = 0.0021635161737299023\n",
      "Grad norm = 0.0021649732002467603\n",
      "Grad norm = 0.002153721264529363\n",
      "Grad norm = 0.0021559752349304996\n",
      "Grad norm = 0.0021522264612813826\n",
      "Grad norm = 0.0021306129571067537\n",
      "Grad norm = 0.002135217636811242\n",
      "Grad norm = 0.002126161554234434\n",
      "Grad norm = 0.002113265445695716\n",
      "Grad norm = 0.002124978420740839\n",
      "Grad norm = 0.002111340210620665\n",
      "Grad norm = 0.0020919940112332073\n",
      "Grad norm = 0.0020905164255734013\n",
      "Grad norm = 0.002092308234332185\n",
      "Grad norm = 0.0020798994293589534\n",
      "Grad norm = 0.002083993744990238\n",
      "Grad norm = 0.0020797343220495955\n",
      "Grad norm = 0.00206041094263533\n",
      "Grad norm = 0.002054938612854715\n",
      "Grad norm = 0.0020550829143419097\n",
      "Grad norm = 0.002039782932270882\n",
      "Grad norm = 0.0020382170750108427\n",
      "Grad norm = 0.00204226777173387\n",
      "Grad norm = 0.002025716468978114\n",
      "Grad norm = 0.002019759442601159\n",
      "Grad norm = 0.0020119926749802538\n",
      "Grad norm = 0.002003381378184281\n",
      "Grad norm = 0.0019989167351577774\n",
      "Grad norm = 0.001992251584463115\n",
      "Grad norm = 0.0019900148979265352\n",
      "Grad norm = 0.001981064404404925\n",
      "Grad norm = 0.001978530300269251\n",
      "Grad norm = 0.0019707662345648564\n",
      "Grad norm = 0.0019651748313974106\n",
      "Grad norm = 0.001957924631693332\n",
      "Grad norm = 0.0019517652014869147\n",
      "Grad norm = 0.001954130904503794\n",
      "Grad norm = 0.00194054389251728\n",
      "Grad norm = 0.0019439478058254237\n",
      "Grad norm = 0.001930842857878194\n",
      "Grad norm = 0.0019253094496712612\n",
      "Grad norm = 0.0019178091399022908\n",
      "Grad norm = 0.001914970759980023\n",
      "Grad norm = 0.0019107090552987007\n",
      "Grad norm = 0.001900168618429681\n",
      "Grad norm = 0.0019002301594757884\n",
      "Grad norm = 0.0019039702395383929\n",
      "Grad norm = 0.0018846947951438814\n",
      "Grad norm = 0.001887318374039765\n",
      "Grad norm = 0.001880333363497725\n",
      "Grad norm = 0.0018682030618941555\n",
      "Grad norm = 0.0018766591647028314\n",
      "Grad norm = 0.0018629874268187587\n",
      "Grad norm = 0.0018544802497897637\n",
      "Grad norm = 0.001847483609810818\n",
      "Grad norm = 0.0018455941710873555\n",
      "Grad norm = 0.0018420870993672831\n",
      "Grad norm = 0.0018338580177286578\n",
      "Grad norm = 0.0018279159829667658\n",
      "Grad norm = 0.0018227276484463026\n",
      "Grad norm = 0.0018182248374963108\n",
      "Grad norm = 0.0018138658669260605\n",
      "Grad norm = 0.0018084062833341747\n",
      "Grad norm = 0.0018047769733995928\n",
      "Grad norm = 0.0017987065066391134\n",
      "Grad norm = 0.0017944280517862984\n",
      "Grad norm = 0.00178536224769166\n",
      "Grad norm = 0.0017859599053579756\n",
      "Grad norm = 0.0017770965217249989\n",
      "Grad norm = 0.001781513124944186\n",
      "Grad norm = 0.0017679064886634132\n",
      "Grad norm = 0.0017683972045495274\n",
      "Grad norm = 0.0017558775841216567\n",
      "Grad norm = 0.0017534430875929012\n",
      "Grad norm = 0.0017501088176554004\n",
      "Grad norm = 0.0017424270210932905\n",
      "Grad norm = 0.0017366589796844803\n",
      "Grad norm = 0.0017311626582783627\n",
      "Grad norm = 0.0017252831089546678\n",
      "Grad norm = 0.0017227452525736436\n",
      "Grad norm = 0.0017185718071520942\n",
      "Grad norm = 0.0017160041257462887\n",
      "Grad norm = 0.0017128222430859818\n",
      "Grad norm = 0.0017026727212969385\n",
      "Grad norm = 0.0017015233381162123\n",
      "Grad norm = 0.001698152405940928\n",
      "Grad norm = 0.0016922585311040992\n",
      "Grad norm = 0.0016857982969819033\n",
      "Grad norm = 0.0016789614232833108\n",
      "Grad norm = 0.0016785585063361834\n",
      "Grad norm = 0.0016705921056157944\n",
      "Grad norm = 0.0016642842464420385\n",
      "Grad norm = 0.0016650838566328351\n",
      "Grad norm = 0.0016559648270798968\n",
      "Grad norm = 0.0016536445116425923\n",
      "Grad norm = 0.0016474352532760484\n",
      "Grad norm = 0.001647604508279848\n",
      "Grad norm = 0.0016383539544239665\n",
      "Grad norm = 0.0016323882479210212\n",
      "Grad norm = 0.0016278152348970804\n",
      "Grad norm = 0.0016237234803338277\n",
      "Grad norm = 0.001618984470699222\n",
      "Grad norm = 0.0016169848142945583\n",
      "Grad norm = 0.0016120495296181557\n",
      "Grad norm = 0.0016055626290612994\n",
      "Grad norm = 0.0016042980613851698\n",
      "Grad norm = 0.0015989585488110538\n",
      "Grad norm = 0.0015925187089793178\n",
      "Grad norm = 0.0015902753953240774\n",
      "Grad norm = 0.0015865558742884857\n",
      "Grad norm = 0.001582767709753156\n",
      "Grad norm = 0.0015765207220270914\n",
      "Grad norm = 0.0015715535855730027\n",
      "Grad norm = 0.001571409022028412\n",
      "Grad norm = 0.001562778384142395\n",
      "Grad norm = 0.0015586300321167464\n",
      "Grad norm = 0.0015572867130394814\n",
      "Grad norm = 0.0015523064018590877\n",
      "Grad norm = 0.0015485116788412391\n",
      "Grad norm = 0.0015417057853588342\n",
      "Grad norm = 0.0015395244114169533\n",
      "Grad norm = 0.0015333927861629591\n",
      "Grad norm = 0.001529073677533845\n",
      "Grad norm = 0.0015253174784651945\n",
      "Grad norm = 0.0015222164155278932\n",
      "Grad norm = 0.0015171161749143727\n",
      "Grad norm = 0.0015137216335158298\n",
      "Grad norm = 0.0015107185333661658\n",
      "Grad norm = 0.0015059882630270166\n",
      "Grad norm = 0.0015017312511602177\n",
      "Grad norm = 0.0015000749926875397\n",
      "Grad norm = 0.0014924362971637318\n",
      "Grad norm = 0.0014921175786691907\n",
      "Grad norm = 0.0014858812122055007\n",
      "Grad norm = 0.0014842494754010744\n",
      "Grad norm = 0.001480670808482861\n",
      "Grad norm = 0.0014747107125080625\n",
      "Grad norm = 0.0014683724364190547\n",
      "Grad norm = 0.001466349741179755\n",
      "Grad norm = 0.0014657640358746202\n",
      "Grad norm = 0.001458442016077539\n",
      "Grad norm = 0.0014639234195357002\n",
      "Grad norm = 0.001449644112950653\n",
      "Grad norm = 0.0014514018112856194\n",
      "Grad norm = 0.0014467126891724064\n",
      "Grad norm = 0.0014377863696572136\n",
      "Grad norm = 0.0014381109534801545\n",
      "Grad norm = 0.001432360435279766\n",
      "Grad norm = 0.0014261954302518722\n",
      "Grad norm = 0.0014243081348726616\n",
      "Grad norm = 0.0014208386749754087\n",
      "Grad norm = 0.001415590623768081\n",
      "Grad norm = 0.0014165720123901276\n",
      "Grad norm = 0.0014088206183573535\n",
      "Grad norm = 0.0014069273993371283\n",
      "Grad norm = 0.0014016810199084556\n",
      "Grad norm = 0.0014056997645092541\n",
      "Grad norm = 0.0013949061448165299\n",
      "Grad norm = 0.0013929881649609416\n",
      "Grad norm = 0.001390839140881454\n",
      "Grad norm = 0.0013866412022858544\n",
      "Grad norm = 0.0013896371081037779\n",
      "Grad norm = 0.0013774937213069682\n",
      "Grad norm = 0.0013767169871298957\n",
      "Grad norm = 0.001371755676368738\n",
      "Grad norm = 0.0013659149284213164\n",
      "Grad norm = 0.0013627263014093698\n",
      "Grad norm = 0.0013605002218995898\n",
      "Grad norm = 0.001357514450924126\n",
      "Grad norm = 0.0013530456360384227\n",
      "Grad norm = 0.001347784575509255\n",
      "Grad norm = 0.0013448712976263512\n",
      "Grad norm = 0.0013433201417538804\n",
      "Grad norm = 0.0013395087435982673\n",
      "Grad norm = 0.0013362888251992906\n",
      "Grad norm = 0.0013305490017393325\n",
      "Grad norm = 0.001328101460885319\n",
      "Grad norm = 0.001325240810924783\n",
      "Grad norm = 0.0013264491165887414\n",
      "Grad norm = 0.0013167597267619382\n",
      "Grad norm = 0.0013155381450025087\n",
      "Grad norm = 0.0013184495949157447\n",
      "Grad norm = 0.0013103576761430138\n",
      "Grad norm = 0.0013147708196377791\n",
      "Grad norm = 0.0013016248653317426\n",
      "Grad norm = 0.0013006932827674211\n",
      "Grad norm = 0.0012955445354403438\n",
      "Grad norm = 0.0012915940111741617\n",
      "Grad norm = 0.001288046940139555\n",
      "Grad norm = 0.0012854311422208224\n",
      "Grad norm = 0.0012799624212268953\n",
      "Grad norm = 0.001277835446659265\n",
      "Grad norm = 0.0012744166761336007\n",
      "Grad norm = 0.00127094187334686\n",
      "Grad norm = 0.0012690070918209995\n",
      "Grad norm = 0.0012650916758078878\n",
      "Grad norm = 0.001261895967099095\n",
      "Grad norm = 0.0012596960903263803\n",
      "Grad norm = 0.0012587057326982204\n",
      "Grad norm = 0.001253084340853269\n",
      "Grad norm = 0.001251122201740076\n",
      "Grad norm = 0.0012471318624991496\n",
      "Grad norm = 0.0012443867564682963\n",
      "Grad norm = 0.0012407769106522013\n",
      "Grad norm = 0.0012480916086247953\n",
      "Grad norm = 0.0012351067289292205\n",
      "Grad norm = 0.001235892603078986\n",
      "Grad norm = 0.0012391724806378672\n",
      "Grad norm = 0.0012274263967988427\n",
      "Grad norm = 0.001227182012895631\n",
      "Grad norm = 0.001229677934761127\n",
      "Grad norm = 0.0012185901336026856\n",
      "Grad norm = 0.0012120207967417735\n",
      "Grad norm = 0.001209970929317511\n",
      "Grad norm = 0.0012103735345839206\n",
      "Grad norm = 0.001206601360860131\n",
      "Grad norm = 0.001203525890886738\n",
      "Grad norm = 0.0011977976460581477\n",
      "Grad norm = 0.0011980182220636538\n",
      "Grad norm = 0.0011981142682628422\n",
      "Grad norm = 0.0011905503994492125\n",
      "Grad norm = 0.0011877572787047969\n",
      "Grad norm = 0.0011850061028850717\n",
      "Grad norm = 0.0011830078337636734\n",
      "Grad norm = 0.0011797970483996628\n",
      "Grad norm = 0.001176855178036199\n",
      "Grad norm = 0.0011713625205749042\n",
      "Grad norm = 0.0011731433864251614\n",
      "Grad norm = 0.0011664112482736347\n",
      "Grad norm = 0.0011729905913807224\n",
      "Grad norm = 0.0011619034692140556\n",
      "Grad norm = 0.0011608233923144221\n",
      "Grad norm = 0.0011604046244572761\n",
      "Grad norm = 0.0011536530101770243\n",
      "Grad norm = 0.001152566546678763\n",
      "Grad norm = 0.0011535228660544232\n",
      "Grad norm = 0.0011454013540699904\n",
      "Grad norm = 0.001142701809851958\n",
      "Grad norm = 0.0011384176463681075\n",
      "Grad norm = 0.001136179346762239\n",
      "Grad norm = 0.0011357591061332258\n",
      "Grad norm = 0.0011309519514892995\n",
      "Grad norm = 0.0011286324810074124\n",
      "Grad norm = 0.0011250095578453191\n",
      "Grad norm = 0.001123254162136176\n",
      "Grad norm = 0.0011213974886852016\n",
      "Grad norm = 0.0011200125438245885\n",
      "Grad norm = 0.0011148293746009673\n",
      "Grad norm = 0.0011146212490492553\n",
      "Grad norm = 0.0011110493119133446\n",
      "Grad norm = 0.0011108765267045621\n",
      "Grad norm = 0.0011043529212779787\n",
      "Grad norm = 0.0011062464451194942\n",
      "Grad norm = 0.00109917556112288\n",
      "Grad norm = 0.0011012161612076585\n",
      "Grad norm = 0.0010947218992425046\n",
      "Grad norm = 0.0010922207766638655\n",
      "Grad norm = 0.001088728957364117\n",
      "Grad norm = 0.001086746014164937\n",
      "Grad norm = 0.0010831748406533598\n",
      "Grad norm = 0.0010818247954745316\n",
      "Grad norm = 0.001078900369670574\n",
      "Grad norm = 0.0010761702302136055\n",
      "Grad norm = 0.0010737803660041511\n",
      "Grad norm = 0.0010720846793146447\n",
      "Grad norm = 0.001068985653701728\n",
      "Grad norm = 0.0010667509714702374\n",
      "Grad norm = 0.0010655496336073815\n",
      "Grad norm = 0.001065238152342453\n",
      "Grad norm = 0.0010587076916206875\n",
      "Grad norm = 0.0010597135805930835\n",
      "Grad norm = 0.0010542154069591687\n",
      "Grad norm = 0.001059401183153301\n",
      "Grad norm = 0.001051271110523369\n",
      "Grad norm = 0.0010520991705073581\n",
      "Grad norm = 0.0010456946635690524\n",
      "Grad norm = 0.0010421880776689354\n",
      "Grad norm = 0.0010409840881414787\n",
      "Grad norm = 0.0010393041849667537\n",
      "Grad norm = 0.001035660178652885\n",
      "Grad norm = 0.001032266968171906\n",
      "Grad norm = 0.0010311412171935153\n",
      "Grad norm = 0.0010294308143932284\n",
      "Grad norm = 0.0010266925177151547\n",
      "Grad norm = 0.001024463130375172\n",
      "Grad norm = 0.001023083442664743\n",
      "Grad norm = 0.0010197174438549114\n",
      "Grad norm = 0.0010226633217059408\n",
      "Grad norm = 0.0010152546402711063\n",
      "Grad norm = 0.0010230025805923239\n",
      "Grad norm = 0.0010105915371206194\n",
      "Grad norm = 0.001008996676863193\n",
      "Grad norm = 0.001013753746765309\n",
      "Grad norm = 0.0010044616037337174\n",
      "Grad norm = 0.0010025865716163413\n",
      "Grad norm = 0.0010001253335166068\n",
      "Grad norm = 0.0009961898976103142\n",
      "Grad norm = 0.0009948852235372445\n",
      "Grad norm = 0.0009931004406310737\n",
      "Grad norm = 0.0009907098548501477\n",
      "Grad norm = 0.0009892042793696455\n",
      "Grad norm = 0.0009861450886401199\n",
      "Grad norm = 0.0009836825159442793\n",
      "Grad norm = 0.0009818244147518438\n",
      "Grad norm = 0.0009805472791949623\n",
      "Grad norm = 0.000980201210471766\n",
      "Grad norm = 0.0009765371549757532\n",
      "Grad norm = 0.0009742954877174974\n",
      "Grad norm = 0.0009718475857963515\n",
      "Grad norm = 0.0009729483333591776\n",
      "Grad norm = 0.0009685484187367134\n",
      "Grad norm = 0.0009672940306343629\n",
      "Grad norm = 0.0009623911983506667\n",
      "Grad norm = 0.0009622365559525775\n",
      "Grad norm = 0.0009622405205882774\n",
      "Grad norm = 0.0009572001742698822\n",
      "Grad norm = 0.0009590847279580255\n",
      "Grad norm = 0.0009534208260396445\n",
      "Grad norm = 0.000950139504371223\n",
      "Grad norm = 0.000955401433172868\n",
      "Grad norm = 0.0009511740413703787\n",
      "Grad norm = 0.0009446186564713878\n",
      "Grad norm = 0.0009463747659660669\n",
      "Grad norm = 0.0009463000746115646\n",
      "Grad norm = 0.0009404938834606589\n",
      "Grad norm = 0.0009371779776441465\n",
      "Grad norm = 0.0009443622086982717\n",
      "Grad norm = 0.0009399425580202696\n",
      "Grad norm = 0.0009312105145211847\n",
      "Grad norm = 0.0009320397225056444\n",
      "Grad norm = 0.0009293337595785429\n",
      "Grad norm = 0.0009251745501905713\n",
      "Grad norm = 0.0009233468846113663\n",
      "Grad norm = 0.0009232343757678171\n",
      "Grad norm = 0.0009197390969912571\n",
      "Grad norm = 0.0009171879599424989\n",
      "Grad norm = 0.0009151691031176445\n",
      "Grad norm = 0.000913255287182454\n",
      "Grad norm = 0.0009132576060235914\n",
      "Grad norm = 0.0009119470385813314\n",
      "Grad norm = 0.0009081941448791034\n",
      "Grad norm = 0.0009105265199040016\n",
      "Grad norm = 0.0009050227050629731\n",
      "Grad norm = 0.0009020324568885407\n"
     ]
    },
    {
     "data": {
      "text/plain": "('Max iterations reached', 1000)"
     },
     "execution_count": 55,
     "metadata": {},
     "output_type": "execute_result"
    }
   ],
   "source": [
    "layer_c = 3\n",
    "network = make_network(input_size, 32, output_size, layer_c, ReLU)\n",
    "initialize_network(network, \"Kaiming\")\n",
    "weights = get_weights(network)\n",
    "\n",
    "cb = Callback(network, X_train, y_train, X_test, y_test, print=False)\n",
    "\n",
    "res = minimize(\n",
    "    compute_loss_grad, weights,       # fun and start point\n",
    "    args=(network, X_train, y_train), # args passed to fun\n",
    "    method=Adam,                       # optimization method\n",
    "    jac=True,                         # says that gradient is computed in fun,\n",
    "    options={\n",
    "        'n_iter': 1_000,\n",
    "        'beta_momentum': 0.9,\n",
    "        'beta_grad': 0.99,\n",
    "        'lr': 12 * 1e-5,\n",
    "        'batch_size': X_train.shape[0],\n",
    "    },\n",
    "    tol=1e-8,\n",
    "    callback=cb.call,\n",
    ")\n",
    "\n",
    "res['message'], res['nit']"
   ],
   "metadata": {
    "collapsed": false,
    "ExecuteTime": {
     "end_time": "2024-02-29T17:11:57.272561400Z",
     "start_time": "2024-02-29T17:11:32.482425700Z"
    }
   },
   "execution_count": 55
  },
  {
   "cell_type": "code",
   "outputs": [
    {
     "data": {
      "text/plain": "<Figure size 1000x500 with 1 Axes>",
      "image/png": "[encoded data removed]"
     },
     "metadata": {},
     "output_type": "display_data"
    }
   ],
   "source": [
    "fig, ax = plt.subplots(1, 1, figsize=(10, 5))\n",
    "ax.plot(cb.train_acc, label=f\"train acc [{cb.train_acc[-1]:5.4f}]\")\n",
    "ax.plot(cb.test_acc, label=f\"test acc{cb.test_acc[-1]:5.4f}\")\n",
    "ax.set_xlabel(\"Iteration\")\n",
    "ax.set_ylabel(\"Accuracy\")\n",
    "ax.grid(True)\n",
    "ax.legend()\n",
    "\n",
    "fig.tight_layout()\n",
    "plt.show()"
   ],
   "metadata": {
    "collapsed": false,
    "ExecuteTime": {
     "end_time": "2024-02-29T17:11:57.447237500Z",
     "start_time": "2024-02-29T17:11:57.249715200Z"
    }
   },
   "execution_count": 56
  },
  {
   "cell_type": "code",
   "outputs": [
    {
     "data": {
      "text/plain": "0.9711111111111111"
     },
     "execution_count": 57,
     "metadata": {},
     "output_type": "execute_result"
    }
   ],
   "source": [
    "cb.test_acc[-1]"
   ],
   "metadata": {
    "collapsed": false,
    "ExecuteTime": {
     "end_time": "2024-02-29T17:11:57.564174200Z",
     "start_time": "2024-02-29T17:11:57.435922600Z"
    }
   },
   "execution_count": 57
  },
  {
   "cell_type": "markdown",
   "metadata": {
    "hidden": true
   },
   "source": [
    "### `Dropout (1 балл)`\n",
    "\n",
    "Реализуйте слой Dropout. Сравните обучение сети из большого числа слоёв при использовании Dropout и без его использования (предварительно подберите адекватный параметр $p$). Сделайте выводы."
   ]
  },
  {
   "cell_type": "code",
   "outputs": [],
   "source": [
    "class Dropout(Layer):\n",
    "    def __init__(self, p: float = 0.5):\n",
    "        super().__init__()\n",
    "        self.p = p\n",
    "        self.mask = None\n",
    "    \n",
    "    def forward(self, input: NDArray) -> NDArray:\n",
    "        if self.inference_mode:\n",
    "            return input\n",
    "        \n",
    "        mask = np.random.binomial(n=1, p=1 - self.p, size=input.shape)\n",
    "        # print(mask)\n",
    "        self.mask = mask / (1 - self.p)\n",
    "        return input * self.mask\n",
    "    \n",
    "    def backward(self, grad_output: NDArray) -> Tuple[NDArray, NDArray]:\n",
    "        if self.inference_mode:\n",
    "            return grad_output, []\n",
    "        \n",
    "        return grad_output * self.mask, []\n",
    "    \n",
    "    def __repr__(self):\n",
    "        return f\"Dropout(p={self.p}, enabled={not self.inference_mode})\""
   ],
   "metadata": {
    "collapsed": false,
    "ExecuteTime": {
     "end_time": "2024-02-29T17:11:59.816298200Z",
     "start_time": "2024-02-29T17:11:59.704320700Z"
    }
   },
   "execution_count": 58
  },
  {
   "cell_type": "code",
   "outputs": [],
   "source": [
    "def make_network(input_size, hidden_layers_size, output_size, n_layers=3, activation_class=ReLU, dropout: bool = False, dropout_p: float = 0.5):\n",
    "    network = []\n",
    "\n",
    "    for layer_idx in range(n_layers):\n",
    "        # Compute sizes of current linear layer\n",
    "        layer_in = input_size if layer_idx == 0 else hidden_layers_size\n",
    "        layer_out = output_size if layer_idx == n_layers - 1 else hidden_layers_size\n",
    "        \n",
    "        # Add linear layer to the network\n",
    "        network.append(Dense(layer_in, layer_out))\n",
    "\n",
    "        # Add activation after each layer except the last one\n",
    "        if layer_idx != n_layers - 1:\n",
    "            network.append(activation_class())\n",
    "            if dropout:\n",
    "                network.append(Dropout(dropout_p))\n",
    "\n",
    "    # Add LogSoftmax layer to the network\n",
    "    network.append(LogSoftmax())\n",
    "\n",
    "    return network"
   ],
   "metadata": {
    "collapsed": false,
    "ExecuteTime": {
     "end_time": "2024-02-29T17:12:00.515922300Z",
     "start_time": "2024-02-29T17:12:00.416116600Z"
    }
   },
   "execution_count": 59
  },
  {
   "cell_type": "code",
   "outputs": [],
   "source": [
    "def set_inference_mode(network: List[Layer], inference_mode: bool):\n",
    "    for layer in network:\n",
    "        layer.inference_mode = inference_mode"
   ],
   "metadata": {
    "collapsed": false,
    "ExecuteTime": {
     "end_time": "2024-02-29T17:12:01.150343200Z",
     "start_time": "2024-02-29T17:12:01.048315800Z"
    }
   },
   "execution_count": 60
  },
  {
   "cell_type": "code",
   "outputs": [
    {
     "data": {
      "text/plain": "[Dense(64, 32),\n Relu(),\n Dropout(p=0.2, enabled=True),\n Dense(32, 32),\n Relu(),\n Dropout(p=0.2, enabled=True),\n Dense(32, 10),\n LogSoftmax()]"
     },
     "execution_count": 61,
     "metadata": {},
     "output_type": "execute_result"
    }
   ],
   "source": [
    "network = make_network(input_size, 32, output_size, layer_c, ReLU, dropout=True, dropout_p=0.2)\n",
    "set_inference_mode(network, False)\n",
    "weights = get_weights(network)\n",
    "network"
   ],
   "metadata": {
    "collapsed": false,
    "ExecuteTime": {
     "end_time": "2024-02-29T17:12:01.667292100Z",
     "start_time": "2024-02-29T17:12:01.556566100Z"
    }
   },
   "execution_count": 61
  },
  {
   "cell_type": "code",
   "outputs": [
    {
     "data": {
      "text/plain": "array([[1.11111111, 1.11111111, 1.11111111, 1.11111111],\n       [1.11111111, 0.        , 1.11111111, 1.11111111],\n       [1.11111111, 1.11111111, 1.11111111, 1.11111111]])"
     },
     "execution_count": 62,
     "metadata": {},
     "output_type": "execute_result"
    }
   ],
   "source": [
    "do = Dropout(p=0.1)\n",
    "do.inference_mode = False\n",
    "do.forward(np.ones((3, 4)))"
   ],
   "metadata": {
    "collapsed": false,
    "ExecuteTime": {
     "end_time": "2024-02-29T17:12:02.769521700Z",
     "start_time": "2024-02-29T17:12:02.673202400Z"
    }
   },
   "execution_count": 62
  },
  {
   "cell_type": "code",
   "outputs": [
    {
     "data": {
      "text/plain": "(1000, True, 'Max iterations reached')"
     },
     "execution_count": 63,
     "metadata": {},
     "output_type": "execute_result"
    }
   ],
   "source": [
    "res = minimize(\n",
    "    compute_loss_grad, weights,       # fun and start point\n",
    "    args=[network, X_train, y_train], # args passed to fun\n",
    "    method=SGD,                       # optimization method\n",
    "    jac=True,                         # says that gradient is computed in fun,\n",
    "    options={'disp': True, 'momentum': 0.9, 'batch_size': 100, 'n_iter': 1_000, 'lr': 0.01},\n",
    "    tol=1e-7\n",
    ")\n",
    "\n",
    "res['nit'], res['success'], res['message']"
   ],
   "metadata": {
    "collapsed": false,
    "ExecuteTime": {
     "end_time": "2024-02-29T17:12:28.143555500Z",
     "start_time": "2024-02-29T17:12:03.939247300Z"
    }
   },
   "execution_count": 63
  },
  {
   "cell_type": "code",
   "outputs": [
    {
     "name": "stdout",
     "output_type": "stream",
     "text": [
      "Train NLL: 0.0248025\t\tTest NLL: 0.3496814\n",
      "[Dense(64, 32), Relu(), Dropout(p=0.2, enabled=False), Dense(32, 32), Relu(), Dropout(p=0.2, enabled=False), Dense(32, 10), LogSoftmax()]\n",
      "Train accuracy: 0.999\t\tTest accuracy: 0.969\n"
     ]
    }
   ],
   "source": [
    "set_weights(weights=res[\"x\"], network=network)\n",
    "\n",
    "train_NLL = NLL(forward(network, X_train), y_train)\n",
    "test_NLL = NLL(forward(network, X_test), y_test)\n",
    "\n",
    "print(f\"Train NLL: {train_NLL:.7f}\\t\\tTest NLL: {test_NLL:.7f}\")\n",
    "\n",
    "set_inference_mode(network, True)\n",
    "print(network)\n",
    "\n",
    "train_accuracy = accuracy_score(y_true=y_train, y_pred=predict(network, X_train))\n",
    "test_accuracy = accuracy_score(y_true=y_test, y_pred=predict(network, X_test))\n",
    "\n",
    "print(f\"Train accuracy: {train_accuracy:.3f}\\t\\tTest accuracy: {test_accuracy:.3f}\")"
   ],
   "metadata": {
    "collapsed": false,
    "ExecuteTime": {
     "end_time": "2024-02-29T17:12:30.816520400Z",
     "start_time": "2024-02-29T17:12:30.731643600Z"
    }
   },
   "execution_count": 64
  },
  {
   "cell_type": "code",
   "outputs": [
    {
     "name": "stdout",
     "output_type": "stream",
     "text": [
      "i= 0\tj= 0\tdropout_p=0.00\t"
     ]
    },
    {
     "name": "stderr",
     "output_type": "stream",
     "text": [
      "\n",
      "KeyboardInterrupt\n",
      "\n"
     ]
    }
   ],
   "source": [
    "p_vars = np.linspace(0, 0.9, num=10)\n",
    "layer_c = 3\n",
    "\n",
    "accs_train = np.zeros((p_vars.shape[0], 5))\n",
    "accs_test = np.zeros_like(accs_train)\n",
    "\n",
    "for i, dropout_p in enumerate(p_vars):\n",
    "    for j in range(accs_train.shape[1]):\n",
    "        print(f\"{i=:2}\\t{j=:2}\\t{dropout_p=:3.2f}\\t\", end='')\n",
    "        network = make_network(input_size, 32, output_size, layer_c, ReLU, dropout=True, dropout_p=dropout_p)\n",
    "        initialize_network(network, 'Kaiming')\n",
    "        set_inference_mode(network, False)\n",
    "        network, cb = train_network(network, history=True, tol=1e-7, optimizer=SGD, options={'momentum': 0.9, 'batch_size': 32, 'n_iter': 500, 'lr': 0.1 * 1e-2})\n",
    "        set_inference_mode(network, True)\n",
    "        \n",
    "        accs_train[i, j] = accuracy_score(y_true=y_train, y_pred=predict(network, X_train))\n",
    "        accs_test[i, j] = accuracy_score(y_true=y_test, y_pred=predict(network, X_test))\n",
    "        print(f\"n_iter={len(cb.test_acc)}\\ttrain acc: {accs_train[i, j]:5.4f}\\ttest acc: {accs_test[i, j]:5.4f}\")"
   ],
   "metadata": {
    "collapsed": false,
    "ExecuteTime": {
     "end_time": "2024-02-29T17:12:35.449001400Z",
     "start_time": "2024-02-29T17:12:31.819365200Z"
    }
   },
   "execution_count": 65
  },
  {
   "cell_type": "code",
   "outputs": [
    {
     "data": {
      "text/plain": "<Figure size 1000x500 with 1 Axes>",
      "image/png": "[encoded data removed]"
     },
     "metadata": {},
     "output_type": "display_data"
    }
   ],
   "source": [
    "drop_proba_for_plot = [f\"P = {p:3.2f}\" for p in p_vars]\n",
    "\n",
    "fig, ax = plt.subplots(1, 1, figsize=(10, 5))\n",
    "\n",
    "ax.boxplot(accs_test.T, labels=drop_proba_for_plot, showfliers=False)\n",
    "\n",
    "ax.set_title(f\"Test quality in {accs_test.shape[1]} runs\")\n",
    "ax.set_xlabel(\"Initialization\")\n",
    "ax.set_ylabel(\"Test accuracy\")\n",
    "ax.grid(True)\n",
    "\n",
    "fig.tight_layout()\n",
    "plt.show()"
   ],
   "metadata": {
    "collapsed": false,
    "ExecuteTime": {
     "end_time": "2024-02-29T10:42:25.687274700Z",
     "start_time": "2024-02-29T10:42:25.491291300Z"
    }
   },
   "execution_count": 77
  },
  {
   "cell_type": "code",
   "outputs": [
    {
     "data": {
      "text/plain": "<Figure size 1000x500 with 1 Axes>",
      "image/png": "[encoded data removed]"
     },
     "metadata": {},
     "output_type": "display_data"
    }
   ],
   "source": [
    "drop_proba_for_plot = [f\"P = {p:3.2f}\" for p in p_vars]\n",
    "\n",
    "fig, ax = plt.subplots(1, 1, figsize=(10, 5))\n",
    "\n",
    "ax.boxplot(accs_test[:-3, :].T, labels=drop_proba_for_plot[:-3], showfliers=False)\n",
    "\n",
    "ax.set_title(f\"Test quality in {accs_test.shape[1]} runs\")\n",
    "ax.set_xlabel(\"Initialization\")\n",
    "ax.set_ylabel(\"Test accuracy\")\n",
    "ax.grid(True)\n",
    "\n",
    "fig.tight_layout()\n",
    "plt.show()"
   ],
   "metadata": {
    "collapsed": false,
    "ExecuteTime": {
     "end_time": "2024-02-29T10:43:26.587052100Z",
     "start_time": "2024-02-29T10:43:26.381786300Z"
    }
   },
   "execution_count": 78
  },
  {
   "cell_type": "code",
   "outputs": [],
   "source": [
    "p_vars = np.linspace(0, 0.9, num=10)\n",
    "layer_c = 6\n",
    "\n",
    "accs_train = np.zeros((p_vars.shape[0], 15))\n",
    "accs_test = np.zeros_like(accs_train)\n",
    "\n",
    "for i, dropout_p in enumerate(p_vars):\n",
    "    for j in range(accs_train.shape[1]):\n",
    "        print(f\"{i=:2}\\t{j=:2}\\t{dropout_p=:3.2f}\\t\", end='')\n",
    "        network = make_network(input_size, 32, output_size, layer_c, ReLU, dropout=True, dropout_p=dropout_p)\n",
    "        initialize_network(network, 'Kaiming')\n",
    "        set_inference_mode(network, False)\n",
    "        network, cb = train_network(network, history=True, tol=1e-7, optimizer=SGD, options={'momentum': 0.9, 'batch_size': 100, 'n_iter': 1_000, 'lr': 0.2 * 1e-2})\n",
    "        set_inference_mode(network, True)\n",
    "        \n",
    "        accs_train[i, j] = accuracy_score(y_true=y_train, y_pred=predict(network, X_train))\n",
    "        accs_test[i, j] = accuracy_score(y_true=y_test, y_pred=predict(network, X_test))\n",
    "        print(f\"train acc: {accs_train[i, j]:5.4f} test acc: {accs_test[i, j]:5.4f}\")"
   ],
   "metadata": {
    "collapsed": false,
    "ExecuteTime": {
     "start_time": "2024-02-29T10:16:24.314177Z"
    }
   },
   "execution_count": null
  },
  {
   "cell_type": "code",
   "outputs": [],
   "source": [
    "drop_proba_for_plot = [f\"P = {p:3.2f}\" for p in p_vars]\n",
    "\n",
    "fig, ax = plt.subplots(1, 1, figsize=(10, 5))\n",
    "\n",
    "ax.boxplot(accs_test.T, labels=drop_proba_for_plot, showfliers=False)\n",
    "\n",
    "ax.set_title(f\"Test quality in {accs_test.shape[1]} runs\")\n",
    "ax.set_xlabel(\"Initialization\")\n",
    "ax.set_ylabel(\"Test accuracy\")\n",
    "ax.grid(True)\n",
    "\n",
    "fig.tight_layout()\n",
    "plt.show()"
   ],
   "metadata": {
    "collapsed": false,
    "ExecuteTime": {
     "start_time": "2024-02-29T10:16:24.316412200Z"
    }
   },
   "execution_count": null
  },
  {
   "cell_type": "markdown",
   "metadata": {
    "hidden": true
   },
   "source": [
    "### `BatchNormalization (1 балл)`\n",
    "\n",
    "Реализуйте слой `BatchNormalization`. Сравните обучение сети из большого числа слоёв при использовании `BatchNormalization` и без его использования. Сделайте выводы."
   ]
  },
  {
   "cell_type": "markdown",
   "source": [
    "__Ваше решение:__\n",
    "\n",
    "Перепишем формулу для $y_i$ в векторном виде:\n",
    "$$y_i = \\gamma \\frac{X - \\mu}{\\sqrt{\\sigma^2 + \\varepsilon}} + \\delta $$\n",
    "Считаем, что $\\mathcal{L} = \\mathcal{L}(y(X, \\gamma, \\delta))$, тогда:\n",
    "1. $\\nabla_{\\gamma} {\\mathcal L} = (\\nabla_{y} {\\mathcal L})^T \\cdot \\frac{X - \\mu}{\\sqrt{\\sigma^2 + \\varepsilon}}$\n",
    "2. $\\nabla_{\\delta} {\\mathcal L} = (\\nabla_{y} {\\mathcal L})^T \\cdot (1)_{i=1}^{n} = \\sum_{i=1}^n (\\nabla_{y} {\\mathcal L})_i$\n",
    "3. $\\nabla_X{L} = \\frac{\\gamma}{\\sqrt{\\sigma^2 + \\varepsilon}}\\nabla_y{L}\\left(E - \\frac{\\mathbb{I}(\\mathbb{I})^T}{n} - \\frac{\\overline y \\overline y^T}{n} \\right)$"
   ],
   "metadata": {
    "collapsed": false
   }
  },
  {
   "cell_type": "code",
   "outputs": [],
   "source": [
    "class BatchNormalization(Layer):\n",
    "    def __init__(self, rho: float = 0.9):\n",
    "        super().__init__()\n",
    "        self.mu_mean = 0\n",
    "        self.std_mean = 0\n",
    "        self.rho = rho\n",
    "        self.normed = None\n",
    "        self.eps = 1e-7\n",
    "        \n",
    "        self.gamma = np.array([1])\n",
    "        self.delta = np.array([0])\n",
    "        self.params = [self.gamma, self.delta]\n",
    "    \n",
    "    def forward(self, input: NDArray) -> NDArray:\n",
    "        if self.inference_mode:\n",
    "            output = self.gamma * ((input - self.mu_mean) / self.std_mean) + self.delta\n",
    "            return output\n",
    "            \n",
    "        mu = np.mean(input, axis=0)\n",
    "        std = np.std(input, axis=0) + self.eps\n",
    "        \n",
    "        self.mu_mean = (1 - self.rho) * self.mu_mean + self.rho * mu\n",
    "        self.std_mean = (1 - self.rho) * self.std_mean + self.rho * std\n",
    "        \n",
    "        self.input = input\n",
    "        self.normed = ((input - mu[None, :]) / std[None, :])\n",
    "        self.bathc_mu = mu\n",
    "        self.batch_std = std\n",
    "        output = self.gamma * self.normed + self.delta\n",
    "        \n",
    "        return output\n",
    "    \n",
    "    def backward(self, grad_output: NDArray) -> Tuple[NDArray, NDArray]:\n",
    "        d_loss_d_gamma = np.sum(grad_output * self.normed, axis=1)\n",
    "        d_loss_d_delta = np.sum(grad_output, axis=1)\n",
    "\n",
    "        loss_dot_y = d_loss_d_gamma\n",
    "        loss_dot_1 = d_loss_d_delta\n",
    "        \n",
    "        n = grad_output.shape[1]\n",
    "        print(f\"{loss_dot_1.shape=}\\n{loss_dot_y.shape=}\\n{self.normed.shape=}\")\n",
    "        d_loss_d_x = (grad_output - (1 / n) * (loss_dot_1[:, None] + self.normed * loss_dot_y[:, None]))\n",
    "        d_loss_d_x = (self.gamma / self.batch_std)[None, :] * d_loss_d_x\n",
    "        \n",
    "        return d_loss_d_x, [d_loss_d_gamma, d_loss_d_delta]\n",
    "    \n",
    "    def __repr__(self):\n",
    "        return f\"BatchNormalization()\""
   ],
   "metadata": {
    "collapsed": false,
    "ExecuteTime": {
     "end_time": "2024-02-29T17:19:16.173498100Z",
     "start_time": "2024-02-29T17:19:16.043066600Z"
    }
   },
   "execution_count": 75
  },
  {
   "cell_type": "code",
   "outputs": [
    {
     "name": "stdout",
     "output_type": "stream",
     "text": [
      "loss_dot_1.shape=(10,)\n",
      "loss_dot_y.shape=(10,)\n",
      "self.normed.shape=(10, 12)\n"
     ]
    },
    {
     "ename": "AssertionError",
     "evalue": "",
     "output_type": "error",
     "traceback": [
      "\u001B[1;31m---------------------------------------------------------------------------\u001B[0m",
      "\u001B[1;31mAssertionError\u001B[0m                            Traceback (most recent call last)",
      "Cell \u001B[1;32mIn[76], line 13\u001B[0m\n\u001B[0;32m      9\u001B[0m batchnorm_grads, params \u001B[38;5;241m=\u001B[39m batchnorm\u001B[38;5;241m.\u001B[39mbackward(\u001B[38;5;241m4\u001B[39m \u001B[38;5;241m*\u001B[39m (res \u001B[38;5;241m*\u001B[39m\u001B[38;5;241m*\u001B[39m \u001B[38;5;241m3\u001B[39m))\n\u001B[0;32m     11\u001B[0m \u001B[38;5;66;03m# batchnorm_grads - numeric_grads\u001B[39;00m\n\u001B[1;32m---> 13\u001B[0m \u001B[38;5;28;01massert\u001B[39;00m np\u001B[38;5;241m.\u001B[39mallclose(numeric_grads, batchnorm_grads, rtol\u001B[38;5;241m=\u001B[39m\u001B[38;5;241m1e-3\u001B[39m, atol\u001B[38;5;241m=\u001B[39m\u001B[38;5;241m0\u001B[39m)\n",
      "\u001B[1;31mAssertionError\u001B[0m: "
     ]
    }
   ],
   "source": [
    "batchnorm = BatchNormalization()\n",
    "points = np.linspace(-1, 1, 10*12).reshape([10, 12])\n",
    "\n",
    "batchnorm.inference_mode = False\n",
    "# batchnorm.forward(points)\n",
    "\n",
    "numeric_grads = eval_numerical_gradient(lambda x: np.sum((batchnorm.forward(x)) ** 4), points)\n",
    "res = batchnorm.forward(points)\n",
    "batchnorm_grads, params = batchnorm.backward(4 * (res ** 3))\n",
    "\n",
    "# batchnorm_grads - numeric_grads\n",
    "\n",
    "assert np.allclose(numeric_grads, batchnorm_grads, rtol=1e-3, atol=0)"
   ],
   "metadata": {
    "collapsed": false,
    "ExecuteTime": {
     "end_time": "2024-02-29T17:19:16.542774300Z",
     "start_time": "2024-02-29T17:19:16.435481800Z"
    }
   },
   "execution_count": 76
  },
  {
   "cell_type": "code",
   "outputs": [],
   "source": [
    "def compute_loss_grad(weights, args):\n",
    "    \"\"\"\n",
    "    takes current weights and computes cross-entropy and gradients\n",
    "    weights shape: [num_parameters]\n",
    "    output 1: loss (scalar)\n",
    "    output 2: gradint w.r.t. weights, shape: [num_parameters]\n",
    "    \n",
    "    hint: firstly perform forward pass through the whole network\n",
    "    then compute loss and its gradients\n",
    "    then perform backward pass, transmitting first baskward output\n",
    "    to the previos layer and saving second baskward output in a list\n",
    "    finally flatten all the gradients in this list\n",
    "    (in the order from the first to the last layer)\n",
    "    \n",
    "    Do not forget to set weights of the network!\n",
    "    \"\"\"\n",
    "    network, X, y = args\n",
    "    \n",
    "    set_weights(weights, network)\n",
    "    \n",
    "    activations = forward(network, X)\n",
    "    loss = NLL(activations, y)\n",
    "    \n",
    "    weights_grad_arrays = []\n",
    "    \n",
    "    d_loss_d_input = grad_NLL(activations, y)\n",
    "    for layer in reversed(network):\n",
    "        d_loss_d_input, d_loss_d_layer = layer.backward(d_loss_d_input)\n",
    "        if isinstance(layer, Dense) or isinstance(layer, BatchNormalization):\n",
    "            weights_grad_arrays.append(np.sum(d_loss_d_layer[1], axis=0).ravel().tolist())\n",
    "            weights_grad_arrays.append(np.sum(d_loss_d_layer[0], axis=0).ravel().tolist())\n",
    "        else:\n",
    "            pass\n",
    "    \n",
    "    weights_grad_arrays.reverse()\n",
    "    weights_grad = []\n",
    "    for wg in weights_grad_arrays:\n",
    "        weights_grad += wg\n",
    "    \n",
    "    # print(f\"Mean abs grad value: {np.mean(np.abs(weights_grad))}\\tMax abs grad value: {np.max(np.abs(weights_grad))}\")\n",
    "    # print(f\"Loss = {loss}\")\n",
    "    \n",
    "    return loss, np.array(weights_grad)"
   ],
   "metadata": {
    "collapsed": false,
    "ExecuteTime": {
     "end_time": "2024-02-29T12:47:15.517435200Z",
     "start_time": "2024-02-29T12:47:15.265532100Z"
    }
   },
   "execution_count": 114
  },
  {
   "cell_type": "code",
   "outputs": [],
   "source": [
    "def make_network(input_size, hidden_layers_size, output_size, n_layers=3, activation_class=ReLU, dropout: bool = False, dropout_p: float = 0.5, batch_norm: bool = False):\n",
    "    network = []\n",
    "\n",
    "    for layer_idx in range(n_layers):\n",
    "        # Compute sizes of current linear layer\n",
    "        layer_in = input_size if layer_idx == 0 else hidden_layers_size\n",
    "        layer_out = output_size if layer_idx == n_layers - 1 else hidden_layers_size\n",
    "        \n",
    "        # Add linear layer to the network\n",
    "        network.append(Dense(layer_in, layer_out))\n",
    "\n",
    "        # Add activation after each layer except the last one\n",
    "        if layer_idx != n_layers - 1:\n",
    "            network.append(activation_class())\n",
    "            if batch_norm:\n",
    "                network.append(BatchNormalization())\n",
    "            if dropout:\n",
    "                network.append(Dropout(dropout_p))\n",
    "\n",
    "    # Add LogSoftmax layer to the network\n",
    "    network.append(LogSoftmax())\n",
    "\n",
    "    return network"
   ],
   "metadata": {
    "collapsed": false,
    "ExecuteTime": {
     "end_time": "2024-02-29T12:50:25.265830300Z",
     "start_time": "2024-02-29T12:50:24.975549200Z"
    }
   },
   "execution_count": 118
  },
  {
   "cell_type": "code",
   "outputs": [
    {
     "data": {
      "text/plain": "[Dense(64, 32),\n Relu(),\n BatchNormalization(),\n Dense(32, 32),\n Relu(),\n BatchNormalization(),\n Dense(32, 10),\n LogSoftmax()]"
     },
     "execution_count": 119,
     "metadata": {},
     "output_type": "execute_result"
    }
   ],
   "source": [
    "network = make_network(input_size, 32, output_size, layer_c, ReLU, dropout=False, dropout_p=0.1, batch_norm=True)\n",
    "set_inference_mode(network, False)\n",
    "weights = get_weights(network)\n",
    "network"
   ],
   "metadata": {
    "collapsed": false,
    "ExecuteTime": {
     "end_time": "2024-02-29T12:50:26.222983800Z",
     "start_time": "2024-02-29T12:50:26.039752800Z"
    }
   },
   "execution_count": 119
  },
  {
   "cell_type": "code",
   "outputs": [
    {
     "ename": "ValueError",
     "evalue": "operands could not be broadcast together with shapes (104,) (103,) ",
     "output_type": "error",
     "traceback": [
      "\u001B[1;31m---------------------------------------------------------------------------\u001B[0m",
      "\u001B[1;31mValueError\u001B[0m                                Traceback (most recent call last)",
      "Cell \u001B[1;32mIn[120], line 1\u001B[0m\n\u001B[1;32m----> 1\u001B[0m res \u001B[38;5;241m=\u001B[39m \u001B[43mminimize\u001B[49m\u001B[43m(\u001B[49m\n\u001B[0;32m      2\u001B[0m \u001B[43m    \u001B[49m\u001B[43mcompute_loss_grad\u001B[49m\u001B[43m,\u001B[49m\u001B[43m \u001B[49m\u001B[43mweights\u001B[49m\u001B[43m,\u001B[49m\u001B[43m       \u001B[49m\u001B[38;5;66;43;03m# fun and start point\u001B[39;49;00m\n\u001B[0;32m      3\u001B[0m \u001B[43m    \u001B[49m\u001B[43margs\u001B[49m\u001B[38;5;241;43m=\u001B[39;49m\u001B[43m[\u001B[49m\u001B[43mnetwork\u001B[49m\u001B[43m,\u001B[49m\u001B[43m \u001B[49m\u001B[43mX_train\u001B[49m\u001B[43m,\u001B[49m\u001B[43m \u001B[49m\u001B[43my_train\u001B[49m\u001B[43m]\u001B[49m\u001B[43m,\u001B[49m\u001B[43m \u001B[49m\u001B[38;5;66;43;03m# args passed to fun\u001B[39;49;00m\n\u001B[0;32m      4\u001B[0m \u001B[43m    \u001B[49m\u001B[43mmethod\u001B[49m\u001B[38;5;241;43m=\u001B[39;49m\u001B[43mSGD\u001B[49m\u001B[43m,\u001B[49m\u001B[43m                       \u001B[49m\u001B[38;5;66;43;03m# optimization method\u001B[39;49;00m\n\u001B[0;32m      5\u001B[0m \u001B[43m    \u001B[49m\u001B[43mjac\u001B[49m\u001B[38;5;241;43m=\u001B[39;49m\u001B[38;5;28;43;01mTrue\u001B[39;49;00m\u001B[43m,\u001B[49m\u001B[43m                         \u001B[49m\u001B[38;5;66;43;03m# says that gradient is computed in fun,\u001B[39;49;00m\n\u001B[0;32m      6\u001B[0m \u001B[43m    \u001B[49m\u001B[43moptions\u001B[49m\u001B[38;5;241;43m=\u001B[39;49m\u001B[43m{\u001B[49m\u001B[38;5;124;43m'\u001B[39;49m\u001B[38;5;124;43mdisp\u001B[39;49m\u001B[38;5;124;43m'\u001B[39;49m\u001B[43m:\u001B[49m\u001B[43m \u001B[49m\u001B[38;5;28;43;01mTrue\u001B[39;49;00m\u001B[43m,\u001B[49m\u001B[43m \u001B[49m\u001B[38;5;124;43m'\u001B[39;49m\u001B[38;5;124;43mmomentum\u001B[39;49m\u001B[38;5;124;43m'\u001B[39;49m\u001B[43m:\u001B[49m\u001B[43m \u001B[49m\u001B[38;5;241;43m0.9\u001B[39;49m\u001B[43m,\u001B[49m\u001B[43m \u001B[49m\u001B[38;5;124;43m'\u001B[39;49m\u001B[38;5;124;43mbatch_size\u001B[39;49m\u001B[38;5;124;43m'\u001B[39;49m\u001B[43m:\u001B[49m\u001B[43m \u001B[49m\u001B[38;5;241;43m100\u001B[39;49m\u001B[43m,\u001B[49m\u001B[43m \u001B[49m\u001B[38;5;124;43m'\u001B[39;49m\u001B[38;5;124;43mn_iter\u001B[39;49m\u001B[38;5;124;43m'\u001B[39;49m\u001B[43m:\u001B[49m\u001B[43m \u001B[49m\u001B[38;5;241;43m1_000\u001B[39;49m\u001B[43m,\u001B[49m\u001B[43m \u001B[49m\u001B[38;5;124;43m'\u001B[39;49m\u001B[38;5;124;43mlr\u001B[39;49m\u001B[38;5;124;43m'\u001B[39;49m\u001B[43m:\u001B[49m\u001B[43m \u001B[49m\u001B[38;5;241;43m0.01\u001B[39;49m\u001B[43m}\u001B[49m\u001B[43m,\u001B[49m\n\u001B[0;32m      7\u001B[0m \u001B[43m    \u001B[49m\u001B[43mtol\u001B[49m\u001B[38;5;241;43m=\u001B[39;49m\u001B[38;5;241;43m1e-7\u001B[39;49m\n\u001B[0;32m      8\u001B[0m \u001B[43m)\u001B[49m\n\u001B[0;32m     10\u001B[0m res[\u001B[38;5;124m'\u001B[39m\u001B[38;5;124mnit\u001B[39m\u001B[38;5;124m'\u001B[39m], res[\u001B[38;5;124m'\u001B[39m\u001B[38;5;124msuccess\u001B[39m\u001B[38;5;124m'\u001B[39m], res[\u001B[38;5;124m'\u001B[39m\u001B[38;5;124mmessage\u001B[39m\u001B[38;5;124m'\u001B[39m]\n",
      "File \u001B[1;32mC:\\bogachevv\\Python\\venv\\lib\\site-packages\\scipy\\optimize\\_minimize.py:633\u001B[0m, in \u001B[0;36mminimize\u001B[1;34m(fun, x0, args, method, jac, hess, hessp, bounds, constraints, tol, callback, options)\u001B[0m\n\u001B[0;32m    627\u001B[0m         options\u001B[38;5;241m.\u001B[39msetdefault(\u001B[38;5;124m'\u001B[39m\u001B[38;5;124mbarrier_tol\u001B[39m\u001B[38;5;124m'\u001B[39m, tol)\n\u001B[0;32m    629\u001B[0m \u001B[38;5;28;01mif\u001B[39;00m meth \u001B[38;5;241m==\u001B[39m \u001B[38;5;124m'\u001B[39m\u001B[38;5;124m_custom\u001B[39m\u001B[38;5;124m'\u001B[39m:\n\u001B[0;32m    630\u001B[0m     \u001B[38;5;66;03m# custom method called before bounds and constraints are 'standardised'\u001B[39;00m\n\u001B[0;32m    631\u001B[0m     \u001B[38;5;66;03m# custom method should be able to accept whatever bounds/constraints\u001B[39;00m\n\u001B[0;32m    632\u001B[0m     \u001B[38;5;66;03m# are provided to it.\u001B[39;00m\n\u001B[1;32m--> 633\u001B[0m     \u001B[38;5;28;01mreturn\u001B[39;00m method(fun, x0, args\u001B[38;5;241m=\u001B[39margs, jac\u001B[38;5;241m=\u001B[39mjac, hess\u001B[38;5;241m=\u001B[39mhess, hessp\u001B[38;5;241m=\u001B[39mhessp,\n\u001B[0;32m    634\u001B[0m                   bounds\u001B[38;5;241m=\u001B[39mbounds, constraints\u001B[38;5;241m=\u001B[39mconstraints,\n\u001B[0;32m    635\u001B[0m                   callback\u001B[38;5;241m=\u001B[39mcallback, \u001B[38;5;241m*\u001B[39m\u001B[38;5;241m*\u001B[39moptions)\n\u001B[0;32m    637\u001B[0m constraints \u001B[38;5;241m=\u001B[39m standardize_constraints(constraints, x0, meth)\n\u001B[0;32m    639\u001B[0m remove_vars \u001B[38;5;241m=\u001B[39m \u001B[38;5;28;01mFalse\u001B[39;00m\n",
      "Cell \u001B[1;32mIn[51], line 31\u001B[0m, in \u001B[0;36mSGD\u001B[1;34m(fun, x0, args, **kwargs)\u001B[0m\n\u001B[0;32m     28\u001B[0m loss_sum \u001B[38;5;241m=\u001B[39m \u001B[38;5;241m0.0\u001B[39m\n\u001B[0;32m     30\u001B[0m \u001B[38;5;28;01mfor\u001B[39;00m batch_ind \u001B[38;5;129;01min\u001B[39;00m batch_indxs:\n\u001B[1;32m---> 31\u001B[0m     loss \u001B[38;5;241m=\u001B[39m \u001B[43mfun\u001B[49m\u001B[43m(\u001B[49m\u001B[43mweights\u001B[49m\u001B[43m,\u001B[49m\u001B[43m \u001B[49m\u001B[43m(\u001B[49m\u001B[43mnet\u001B[49m\u001B[43m,\u001B[49m\u001B[43m \u001B[49m\u001B[43mX\u001B[49m\u001B[43m[\u001B[49m\u001B[43mbatch_ind\u001B[49m\u001B[43m,\u001B[49m\u001B[43m \u001B[49m\u001B[43m:\u001B[49m\u001B[43m]\u001B[49m\u001B[43m,\u001B[49m\u001B[43m \u001B[49m\u001B[43my\u001B[49m\u001B[43m[\u001B[49m\u001B[43mbatch_ind\u001B[49m\u001B[43m]\u001B[49m\u001B[43m)\u001B[49m\u001B[43m)\u001B[49m\n\u001B[0;32m     32\u001B[0m     grad \u001B[38;5;241m=\u001B[39m fun\u001B[38;5;241m.\u001B[39mderivative(weights, (net, X[batch_ind, :], y[batch_ind]))\n\u001B[0;32m     33\u001B[0m     m \u001B[38;5;241m=\u001B[39m mu \u001B[38;5;241m*\u001B[39m m \u001B[38;5;241m+\u001B[39m grad\n",
      "File \u001B[1;32mC:\\bogachevv\\Python\\venv\\lib\\site-packages\\scipy\\optimize\\_optimize.py:77\u001B[0m, in \u001B[0;36mMemoizeJac.__call__\u001B[1;34m(self, x, *args)\u001B[0m\n\u001B[0;32m     75\u001B[0m \u001B[38;5;28;01mdef\u001B[39;00m \u001B[38;5;21m__call__\u001B[39m(\u001B[38;5;28mself\u001B[39m, x, \u001B[38;5;241m*\u001B[39margs):\n\u001B[0;32m     76\u001B[0m \u001B[38;5;250m    \u001B[39m\u001B[38;5;124;03m\"\"\" returns the function value \"\"\"\u001B[39;00m\n\u001B[1;32m---> 77\u001B[0m     \u001B[38;5;28;43mself\u001B[39;49m\u001B[38;5;241;43m.\u001B[39;49m\u001B[43m_compute_if_needed\u001B[49m\u001B[43m(\u001B[49m\u001B[43mx\u001B[49m\u001B[43m,\u001B[49m\u001B[43m \u001B[49m\u001B[38;5;241;43m*\u001B[39;49m\u001B[43margs\u001B[49m\u001B[43m)\u001B[49m\n\u001B[0;32m     78\u001B[0m     \u001B[38;5;28;01mreturn\u001B[39;00m \u001B[38;5;28mself\u001B[39m\u001B[38;5;241m.\u001B[39m_value\n",
      "File \u001B[1;32mC:\\bogachevv\\Python\\venv\\lib\\site-packages\\scipy\\optimize\\_optimize.py:71\u001B[0m, in \u001B[0;36mMemoizeJac._compute_if_needed\u001B[1;34m(self, x, *args)\u001B[0m\n\u001B[0;32m     69\u001B[0m \u001B[38;5;28;01mif\u001B[39;00m \u001B[38;5;129;01mnot\u001B[39;00m np\u001B[38;5;241m.\u001B[39mall(x \u001B[38;5;241m==\u001B[39m \u001B[38;5;28mself\u001B[39m\u001B[38;5;241m.\u001B[39mx) \u001B[38;5;129;01mor\u001B[39;00m \u001B[38;5;28mself\u001B[39m\u001B[38;5;241m.\u001B[39m_value \u001B[38;5;129;01mis\u001B[39;00m \u001B[38;5;28;01mNone\u001B[39;00m \u001B[38;5;129;01mor\u001B[39;00m \u001B[38;5;28mself\u001B[39m\u001B[38;5;241m.\u001B[39mjac \u001B[38;5;129;01mis\u001B[39;00m \u001B[38;5;28;01mNone\u001B[39;00m:\n\u001B[0;32m     70\u001B[0m     \u001B[38;5;28mself\u001B[39m\u001B[38;5;241m.\u001B[39mx \u001B[38;5;241m=\u001B[39m np\u001B[38;5;241m.\u001B[39masarray(x)\u001B[38;5;241m.\u001B[39mcopy()\n\u001B[1;32m---> 71\u001B[0m     fg \u001B[38;5;241m=\u001B[39m \u001B[38;5;28;43mself\u001B[39;49m\u001B[38;5;241;43m.\u001B[39;49m\u001B[43mfun\u001B[49m\u001B[43m(\u001B[49m\u001B[43mx\u001B[49m\u001B[43m,\u001B[49m\u001B[43m \u001B[49m\u001B[38;5;241;43m*\u001B[39;49m\u001B[43margs\u001B[49m\u001B[43m)\u001B[49m\n\u001B[0;32m     72\u001B[0m     \u001B[38;5;28mself\u001B[39m\u001B[38;5;241m.\u001B[39mjac \u001B[38;5;241m=\u001B[39m fg[\u001B[38;5;241m1\u001B[39m]\n\u001B[0;32m     73\u001B[0m     \u001B[38;5;28mself\u001B[39m\u001B[38;5;241m.\u001B[39m_value \u001B[38;5;241m=\u001B[39m fg[\u001B[38;5;241m0\u001B[39m]\n",
      "Cell \u001B[1;32mIn[114], line 21\u001B[0m, in \u001B[0;36mcompute_loss_grad\u001B[1;34m(weights, args)\u001B[0m\n\u001B[0;32m     17\u001B[0m network, X, y \u001B[38;5;241m=\u001B[39m args\n\u001B[0;32m     19\u001B[0m set_weights(weights, network)\n\u001B[1;32m---> 21\u001B[0m activations \u001B[38;5;241m=\u001B[39m \u001B[43mforward\u001B[49m\u001B[43m(\u001B[49m\u001B[43mnetwork\u001B[49m\u001B[43m,\u001B[49m\u001B[43m \u001B[49m\u001B[43mX\u001B[49m\u001B[43m)\u001B[49m\n\u001B[0;32m     22\u001B[0m loss \u001B[38;5;241m=\u001B[39m NLL(activations, y)\n\u001B[0;32m     24\u001B[0m weights_grad_arrays \u001B[38;5;241m=\u001B[39m []\n",
      "Cell \u001B[1;32mIn[25], line 14\u001B[0m, in \u001B[0;36mforward\u001B[1;34m(network, X)\u001B[0m\n\u001B[0;32m      2\u001B[0m \u001B[38;5;250m\u001B[39m\u001B[38;5;124;03m\"\"\"\u001B[39;00m\n\u001B[0;32m      3\u001B[0m \u001B[38;5;124;03mPerform forward pass through the network.\u001B[39;00m\n\u001B[0;32m      4\u001B[0m \u001B[38;5;124;03m\u001B[39;00m\n\u001B[1;32m   (...)\u001B[0m\n\u001B[0;32m     10\u001B[0m \u001B[38;5;124;03moutput shape: [batch, out_features_num]\u001B[39;00m\n\u001B[0;32m     11\u001B[0m \u001B[38;5;124;03m\"\"\"\u001B[39;00m\n\u001B[0;32m     13\u001B[0m \u001B[38;5;28;01mfor\u001B[39;00m layer \u001B[38;5;129;01min\u001B[39;00m network:\n\u001B[1;32m---> 14\u001B[0m     X \u001B[38;5;241m=\u001B[39m \u001B[43mlayer\u001B[49m\u001B[38;5;241;43m.\u001B[39;49m\u001B[43mforward\u001B[49m\u001B[43m(\u001B[49m\u001B[43mX\u001B[49m\u001B[43m)\u001B[49m\n\u001B[0;32m     16\u001B[0m \u001B[38;5;28;01mreturn\u001B[39;00m X\n",
      "Cell \u001B[1;32mIn[112], line 22\u001B[0m, in \u001B[0;36mBatchNormalization.forward\u001B[1;34m(self, input)\u001B[0m\n\u001B[0;32m     19\u001B[0m mu \u001B[38;5;241m=\u001B[39m np\u001B[38;5;241m.\u001B[39mmean(\u001B[38;5;28minput\u001B[39m, axis\u001B[38;5;241m=\u001B[39m\u001B[38;5;241m1\u001B[39m)\n\u001B[0;32m     20\u001B[0m std \u001B[38;5;241m=\u001B[39m np\u001B[38;5;241m.\u001B[39mstd(\u001B[38;5;28minput\u001B[39m, axis\u001B[38;5;241m=\u001B[39m\u001B[38;5;241m1\u001B[39m) \u001B[38;5;241m+\u001B[39m \u001B[38;5;28mself\u001B[39m\u001B[38;5;241m.\u001B[39meps\n\u001B[1;32m---> 22\u001B[0m \u001B[38;5;28mself\u001B[39m\u001B[38;5;241m.\u001B[39mmu_mean \u001B[38;5;241m=\u001B[39m \u001B[43m(\u001B[49m\u001B[38;5;241;43m1\u001B[39;49m\u001B[43m \u001B[49m\u001B[38;5;241;43m-\u001B[39;49m\u001B[43m \u001B[49m\u001B[38;5;28;43mself\u001B[39;49m\u001B[38;5;241;43m.\u001B[39;49m\u001B[43mrho\u001B[49m\u001B[43m)\u001B[49m\u001B[43m \u001B[49m\u001B[38;5;241;43m*\u001B[39;49m\u001B[43m \u001B[49m\u001B[38;5;28;43mself\u001B[39;49m\u001B[38;5;241;43m.\u001B[39;49m\u001B[43mmu_mean\u001B[49m\u001B[43m \u001B[49m\u001B[38;5;241;43m+\u001B[39;49m\u001B[43m \u001B[49m\u001B[38;5;28;43mself\u001B[39;49m\u001B[38;5;241;43m.\u001B[39;49m\u001B[43mrho\u001B[49m\u001B[43m \u001B[49m\u001B[38;5;241;43m*\u001B[39;49m\u001B[43m \u001B[49m\u001B[43mmu\u001B[49m\n\u001B[0;32m     23\u001B[0m \u001B[38;5;28mself\u001B[39m\u001B[38;5;241m.\u001B[39mstd_mean \u001B[38;5;241m=\u001B[39m (\u001B[38;5;241m1\u001B[39m \u001B[38;5;241m-\u001B[39m \u001B[38;5;28mself\u001B[39m\u001B[38;5;241m.\u001B[39mrho) \u001B[38;5;241m*\u001B[39m \u001B[38;5;28mself\u001B[39m\u001B[38;5;241m.\u001B[39mstd_mean \u001B[38;5;241m+\u001B[39m \u001B[38;5;28mself\u001B[39m\u001B[38;5;241m.\u001B[39mrho \u001B[38;5;241m*\u001B[39m std\n\u001B[0;32m     25\u001B[0m \u001B[38;5;28mself\u001B[39m\u001B[38;5;241m.\u001B[39minput \u001B[38;5;241m=\u001B[39m \u001B[38;5;28minput\u001B[39m\n",
      "\u001B[1;31mValueError\u001B[0m: operands could not be broadcast together with shapes (104,) (103,) "
     ]
    }
   ],
   "source": [
    "res = minimize(\n",
    "    compute_loss_grad, weights,       # fun and start point\n",
    "    args=[network, X_train, y_train], # args passed to fun\n",
    "    method=SGD,                       # optimization method\n",
    "    jac=True,                         # says that gradient is computed in fun,\n",
    "    options={'disp': True, 'momentum': 0.9, 'batch_size': 100, 'n_iter': 1_000, 'lr': 0.01},\n",
    "    tol=1e-7\n",
    ")\n",
    "\n",
    "res['nit'], res['success'], res['message']"
   ],
   "metadata": {
    "collapsed": false,
    "ExecuteTime": {
     "end_time": "2024-02-29T12:51:58.874553700Z",
     "start_time": "2024-02-29T12:51:57.874484100Z"
    }
   },
   "execution_count": 120
  },
  {
   "cell_type": "code",
   "outputs": [],
   "source": [],
   "metadata": {
    "collapsed": false
   }
  }
 ],
 "metadata": {
  "kernelspec": {
   "display_name": "Python 3 (ipykernel)",
   "language": "python",
   "name": "python3"
  },
  "language_info": {
   "codemirror_mode": {
    "name": "ipython",
    "version": 3
   },
   "file_extension": ".py",
   "mimetype": "text/x-python",
   "name": "python",
   "nbconvert_exporter": "python",
   "pygments_lexer": "ipython3",
   "version": "3.10.9"
  }
 },
 "nbformat": 4,
 "nbformat_minor": 2
}
