{
 "cells": [
  {
   "cell_type": "markdown",
   "metadata": {},
   "source": [
    "# `Практикум по программированию на языке Python`\n",
    "\n",
    "## `Задание 01. Полносвязная нейронная сеть на numpy`.\n",
    "\n",
    "#### Фамилия, имя: \n",
    "\n",
    "Дата выдачи: <span style=\"color:red\">__20 февраля__</span>.\n",
    "\n",
    "Мягкий дедлайн: <span style=\"color:red\">__6 марта 23:59__</span>.\n",
    "\n",
    "Стоимость: __10 баллов__ (основная часть заданий) + __3 балла__ (дополнительные задания).\n",
    "\n",
    "<span style=\"color:red\">__В ноутбуке все клетки должны выполняться без ошибок при последовательном их выполнении.__</span>\n",
    "\n",
    "#### `Москва, 2024`"
   ]
  },
  {
   "cell_type": "code",
   "execution_count": 1,
   "metadata": {
    "ExecuteTime": {
     "end_time": "2024-02-28T16:58:19.896693400Z",
     "start_time": "2024-02-28T16:58:19.764175Z"
    }
   },
   "outputs": [],
   "source": [
    "import numpy as np"
   ]
  },
  {
   "cell_type": "markdown",
   "metadata": {
    "heading_collapsed": true
   },
   "source": [
    "## `Теоретическая часть (3 балла)`"
   ]
  },
  {
   "cell_type": "markdown",
   "metadata": {
    "hidden": true
   },
   "source": [
    "В этом блоке вам нужно решить 3 задания."
   ]
  },
  {
   "cell_type": "markdown",
   "metadata": {
    "heading_collapsed": true,
    "hidden": true
   },
   "source": [
    "### `Задание 1. Градиенты для слоя Batch normalization (1.5 балла)`"
   ]
  },
  {
   "cell_type": "markdown",
   "metadata": {
    "hidden": true
   },
   "source": [
    "Рассмотрим слой Batch normalization. Пусть на вход этого слоя был подан батч из $n$ объектов, при этом у всех объектов по 1 признаку. Представим вход BN слоя в виде $X \\in \\mathbb{R}^{n \\times 1}$.\n",
    "\n",
    "Тогда в этом слое производятся следующие вычисления:\n",
    "\n",
    "$$ \\mu = \\frac1n \\sum_{i=1}^{n} X_i $$\n",
    "\n",
    "$$ \\sigma^2 = \\frac1n \\sum_{i=1}^{n} \\left( X_i - \\mu \\right) ^2 $$\n",
    "\n",
    "$$ \\tilde{y_i} = \\frac{X_i - \\mu}{\\sqrt{\\sigma^2 + \\varepsilon}} $$\n",
    "\n",
    "$$ y_i = \\gamma \\tilde{y_i} + \\delta $$\n",
    "\n",
    "Выходом BN слоя является $y_i$, а $\\gamma,\\delta\\in\\mathbb{R}$ — параметры, которые подбираются во время обучения вместе с другими параметрами нейронной сети (наряду, например, с весами линейного слоя).\n",
    "\n",
    "Рассмотрим нейронную сеть, в которой есть BN слой. Предположим, что вычисления в нейронной сети завершаются подсчетом функции потерь $\\mathcal{L}$. Пусть мы выполнили прямой проход по нейронной сети и сейчас делаем обратный проход с помощью метода обратного распространения ошибки. Пусть BN слою пришел градиент функции потерь по выходу BN слоя ($\\nabla_{y} \\mathcal{L}$).\n",
    "\n",
    "В этом задании вам нужно записать вычисление градиента функции потерь по параметрам слоя BN $\\gamma$ и $\\delta$ ($\\nabla_{\\gamma} \\mathcal{L}$, $\\nabla_{\\delta} \\mathcal{L}$) через $\\nabla_{y} \\mathcal{L}$, а также вам нужно записать вычисление градиента функции потерь по входу слоя BN $X$ ($\\nabla_{X} \\mathcal{L}$) через $\\nabla_{y} \\mathcal{L}$.\n",
    "\n",
    "Хочу заметить, в данном задании мы рассматриваем объекты всего с 1 признаком, чтобы упростить выкладки."
   ]
  },
  {
   "cell_type": "markdown",
   "metadata": {
    "hidden": true
   },
   "source": [
    "__Ваше решение:__\n",
    "\n",
    "Перепишем формулу для $y_i$ в векторном виде:\n",
    "$$y_i = \\gamma \\frac{X - \\mu}{\\sqrt{\\sigma^2 + \\varepsilon}} + \\delta $$\n",
    "Считаем, что $\\mathcal{L} = \\mathcal{L}(y(X, \\gamma, \\delta))$, тогда:\n",
    "1. $\\nabla_{\\gamma} {\\mathcal L} = (\\nabla_{y} {\\mathcal L})^T \\cdot \\frac{X - \\mu}{\\sqrt{\\sigma^2 + \\varepsilon}}$\n",
    "2. $\\nabla_{\\delta} {\\mathcal L} = (\\nabla_{y} {\\mathcal L})^T \\cdot (1)_{i=1}^{n} = \\sum_{i=1}^n (\\nabla_{y} {\\mathcal L})_i$\n",
    "3. $\\nabla_{X} {\\mathcal L} = \\nabla_{y} {\\mathcal L} \\cdot \\frac{\\gamma}{\\sqrt{\\sigma^2 + \\varepsilon}}$"
   ]
  },
  {
   "cell_type": "markdown",
   "metadata": {
    "heading_collapsed": true,
    "hidden": true
   },
   "source": [
    "### `Задание 2. Вывод инициализации весов линейного слоя при использовании ReLU в качестве функции активации (1 балл)`"
   ]
  },
  {
   "cell_type": "markdown",
   "metadata": {
    "hidden": true
   },
   "source": [
    "Рассмотрим полносвязную нейронную сеть с функцией активации $g(y)$. Пусть сеть состоит из $L$ слоев и размер входа слоя $l$ равен $n_l\\ \\ (l = \\overline{1, L})$.\n",
    "\n",
    "Обозначим за $x^l \\in \\mathbb{R}^{n_{l}}$ вход слоя $l$, за $y^l \\in \\mathbb{R}^{n_{l+1}}$ — выход слоя $l$, за $W^l \\in \\mathbb{R}^{n_{l+1} \\times n_{l}}$ — веса слоя $l$, за $b^l \\in \\mathbb{R}^{n_{l+1}}$ — вектор сдвига слоя $l$.\n",
    "\n",
    "Тогда\n",
    "$$y^l = W^l x^l + b^l,$$\n",
    "$$x^{l+1} = g(y^l).$$\n",
    "\n",
    "На паре вы выводили хорошую инициализацию для линейного слоя в случае, когда в качестве функции активации $g(y)$ в нейронной сети используется гиперболический тангенс $g(y) = \\tanh(y)$. Сейчас вам нужно сделать подобный вывод для случая, когда в сети в качестве функций активации используется $g(y) = ReLU(y) = \\max(0, y)$.\n",
    "\n",
    "Сделаем следующие предположения насчет того, как распределены веса $W^l$, вектор сдвига $b^l$, входной вектор $x^l$, выходной вектор $y^l$ линейного слоя и градиенты функции потерь $\\frac{\\partial L}{\\partial y^{l}}$ $(l = \\overline{1, L}$):\n",
    "\n",
    "1. Все компоненты в $W^l$ распределены одинаково и независимо друг от друга;\n",
    "2. Все компоненты в $y^l$ распределены одинаково и независимо друг от друга;\n",
    "3. Все компоненты в $x^l$ распределены одинаково и независимо друг от друга;\n",
    "4. Все компоненты в $\\frac{\\partial L}{\\partial y^{l}}$ распределены одинаково и независимо друг от друга;\n",
    "5. Все компоненты в $W^l$ и все компоненты в $x^l$ независимы друг от друга;\n",
    "6. Все компоненты в $W^l$ имеют четную плотность распределения (то есть симметричную относительно нуля: $p_{W^l}(-x) = p_{W^l}(x)$);\n",
    "7. Все компоненты в $W^l$ имеют конечное матожидание;\n",
    "8. Вектор $b^l$ инициализирован нулями.\n",
    "\n",
    "\n",
    "Подсказки:\n",
    "1. Из пунктов 6 и 7 следует, что все компоненты в $W^l$ имеют нулевое среднее ($\\mathbb{E} W^l_{ij} = 0\\ \\ \\forall i = \\overline{1, n_{l+1}}, j = \\overline{1, n_{l}}$) (докажите);\n",
    "2. Из пунктов 6 и 7 следует, что все компоненты в $y^l$ имеют нулевое среднее и четную плотность распределения (докажите)."
   ]
  },
  {
   "cell_type": "markdown",
   "metadata": {
    "hidden": true
   },
   "source": [
    "__Ваше решение:__\n",
    "\n",
    "..."
   ]
  },
  {
   "cell_type": "markdown",
   "metadata": {
    "heading_collapsed": true,
    "hidden": true
   },
   "source": [
    "### `Задание 3. Почему функция активации` $ReLU(y) = \\max(0, y)$ `предпочтительней сигмоиды` $\\sigma(y) = \\frac{1}{1 + \\exp(-y)}$ `в нейронных сетях? (0.5 балла)`"
   ]
  },
  {
   "cell_type": "markdown",
   "metadata": {
    "hidden": true
   },
   "source": [
    "Дайте развернутый ответ на вопрос \"Почему функция активации $ReLU(y) = \\max(0, y)$ предпочтительней сигмоиды $\\sigma(y) = \\frac{1}{1 + \\exp(-y)}$ в нейронных сетях?\""
   ]
  },
  {
   "cell_type": "markdown",
   "metadata": {
    "hidden": true
   },
   "source": [
    "__Ваш ответ:__\n",
    "\n",
    "На практике, зачастую, используются именно глубокие нейронные сети. \n",
    "Из курса лекций известно, что $\\sup_{y \\in \\mathbb{R}} \\left| \\frac{d \\, \\sigma}{d \\, y} (y) \\right| = \\frac{1}{4}$.\n",
    "Рассмотрим глубокую сеть с $d$ слоями: ДОПИСАТЬ\n",
    "Тогда будет наблюдаться затухание градиента"
   ]
  },
  {
   "cell_type": "markdown",
   "metadata": {
    "hidden": true
   },
   "source": [
    "---"
   ]
  },
  {
   "cell_type": "markdown",
   "metadata": {
    "heading_collapsed": true
   },
   "source": [
    "## `Практическая часть (7 баллов)`"
   ]
  },
  {
   "cell_type": "markdown",
   "metadata": {
    "heading_collapsed": true,
    "hidden": true
   },
   "source": [
    "### `Реализация нейронной сети (3 балла)`"
   ]
  },
  {
   "cell_type": "markdown",
   "metadata": {
    "hidden": true
   },
   "source": [
    "В этом задании вы обучите полносвязную нейронную сеть распознавать рукописные цифры (а что же еще, если не их :), [почти] самостоятельно реализовав все составляющие алгоритма обучения и предсказания.\n",
    "\n",
    "Для начала нам понадобится реализовать прямой и обратный проход через слои. Наши слои будут соответствовать следующему интерфейсу (на примере \"тождественного\" слоя):"
   ]
  },
  {
   "cell_type": "code",
   "execution_count": 2,
   "outputs": [],
   "source": [
    "from numpy.typing import NDArray\n",
    "from typing import Tuple, List, Union"
   ],
   "metadata": {
    "collapsed": false,
    "ExecuteTime": {
     "end_time": "2024-02-28T16:58:20.810670500Z",
     "start_time": "2024-02-28T16:58:20.694218400Z"
    }
   }
  },
  {
   "cell_type": "code",
   "execution_count": 114,
   "outputs": [],
   "source": [
    "class Layer:\n",
    "    def __init__(self):\n",
    "        self.params = []\n",
    "        self.input = None\n",
    "        self.inference_mode = True\n",
    "        \n",
    "    def forward(self, input: NDArray) -> NDArray:\n",
    "        raise NotImplementedError(\"forward method not implemented\")\n",
    "    \n",
    "    def backward(self, grad_output: NDArray) -> Tuple[NDArray, NDArray]:\n",
    "        raise NotImplementedError(\"backward method not implemented\")\n",
    "    \n",
    "    def __call__(self, input: NDArray) -> NDArray:\n",
    "        return self.forward(input)"
   ],
   "metadata": {
    "collapsed": false,
    "ExecuteTime": {
     "end_time": "2024-02-28T19:32:16.914998200Z",
     "start_time": "2024-02-28T19:32:16.794485900Z"
    }
   }
  },
  {
   "cell_type": "code",
   "execution_count": 4,
   "metadata": {
    "hidden": true,
    "ExecuteTime": {
     "end_time": "2024-02-28T16:58:21.514770800Z",
     "start_time": "2024-02-28T16:58:21.414257300Z"
    }
   },
   "outputs": [],
   "source": [
    "class IdentityLayer(Layer):\n",
    "    \"\"\"\n",
    "    A building block. Each layer is capable of performing two things:\n",
    "\n",
    "    - Process input to get output:           \n",
    "    output = layer.forward(input)\n",
    "\n",
    "    - Propagate gradients through itself:    \n",
    "    grad_input = layer.backward(input, grad_output)\n",
    "\n",
    "    Some layers also have learnable parameters.\n",
    "\n",
    "    Modified code from cs.hse DL course *\n",
    "    \"\"\"\n",
    "    def __init__(self):\n",
    "        \"\"\"\n",
    "        Here you can initialize layer parameters (if any) \n",
    "        and auxiliary stuff. You should enumerate all parameters\n",
    "        in self.params\n",
    "        \"\"\"\n",
    "        # An identity layer does nothing\n",
    "        self.params = []\n",
    "        pass\n",
    "\n",
    "    def forward(self, input):\n",
    "        \"\"\"\n",
    "        Takes input data of shape [batch, input_units], \n",
    "        returns output data [batch, output_units]\n",
    "        \"\"\"\n",
    "        # An identity layer just returns whatever it gets as input.\n",
    "        self.input = input\n",
    "        return input\n",
    "\n",
    "    def backward(self, grad_output): \n",
    "        \"\"\"\n",
    "        Performs a backpropagation step through the layer, \n",
    "        with respect to the given input.\n",
    "\n",
    "        To compute loss gradients w.r.t input, \n",
    "        you need to apply chain rule (backprop):\n",
    "\n",
    "        d `loss` / d `input` = (d `loss` / d `layer`) * (d `layer` / d `input`)\n",
    "\n",
    "        Luckily, you already receive d `loss` / d `layer` in argument, \n",
    "        so you only need to multiply it by d `layer` / d `input`.\n",
    "\n",
    "        NB: Sometimes d `layer` / d `input` can be a 3D or even 4D tensor.\n",
    "        So it's better to write down the `loss` differential and extract\n",
    "        d `layer` / d `input` from it so that only 2D tensors were present.\n",
    "\n",
    "        The method returns:\n",
    "        * gradient w.r.t input (will be passed to \n",
    "          previous layer's backward method)\n",
    "        * flattened gradient w.r.t. parameters (with .ravel() \n",
    "          applied to each gradient). \n",
    "          If there are no params, return []\n",
    "        \"\"\"\n",
    "        # The gradient of an identity layer is precisely grad_output\n",
    "        input_dim = self.input.shape[1]\n",
    "\n",
    "        d_layer_d_input = np.eye(input_dim)\n",
    "\n",
    "        return np.dot(grad_output, d_layer_d_input), [] # chain rule"
   ]
  },
  {
   "cell_type": "markdown",
   "metadata": {
    "heading_collapsed": true,
    "hidden": true
   },
   "source": [
    "#### `Слой нелинейности ReLU`"
   ]
  },
  {
   "cell_type": "markdown",
   "metadata": {
    "hidden": true
   },
   "source": [
    "Для начала реализуем слой нелинейности $ReLU(y) = \\max(0, y)$. Параметров у слоя нет. Метод `forward` должен вернуть результат поэлементного применения $ReLU$ к входному массиву, метод `backward` — градиент функции потерь по входу слоя. В нуле будем считать производную равной 0. Обратите внимание, что при обратном проходе могут понадобиться величины, посчитанные во время прямого прохода, поэтому их стоит сохранить как атрибут класса."
   ]
  },
  {
   "cell_type": "code",
   "execution_count": 5,
   "metadata": {
    "hidden": true,
    "ExecuteTime": {
     "end_time": "2024-02-28T16:58:22.939579Z",
     "start_time": "2024-02-28T16:58:22.843561400Z"
    }
   },
   "outputs": [],
   "source": [
    "class ReLU(Layer):\n",
    "    \"\"\"\n",
    "    Modified code from cs.hse DL course *\n",
    "    \"\"\"\n",
    "    def __init__(self):\n",
    "        \"\"\"ReLU layer simply applies elementwise rectified linear unit to all inputs\"\"\"\n",
    "        self.params = [] # ReLU has no parameters\n",
    "        self.input = None\n",
    "\n",
    "    def forward(self, input):\n",
    "        \"\"\"Apply elementwise ReLU to [batch, num_units] matrix\"\"\"\n",
    "        \n",
    "        # max(0, x) = 1/2 (x + |x|)\n",
    "        \n",
    "        self.input = input\n",
    "        \n",
    "        return np.maximum(0, input)\n",
    "        \n",
    "        \n",
    "    def backward(self, grad_output):\n",
    "        \"\"\"Compute gradient of loss w.r.t. ReLU input\n",
    "        grad_output shape: [batch, num_units]\n",
    "        output 1 shape: [batch, num_units]\n",
    "        output 2: []\n",
    "        \"\"\"\n",
    "        \n",
    "        if self.input is None:\n",
    "            raise RuntimeError('Call forward method before calling backward')\n",
    "        \n",
    "        # print(f\"{grad_output.shape=}\")\n",
    "        \n",
    "        return np.where(self.input > 0, grad_output, np.zeros_like(self.input)), []\n",
    "    \n",
    "    def __repr__(self):\n",
    "        return 'Relu()'"
   ]
  },
  {
   "cell_type": "markdown",
   "metadata": {
    "heading_collapsed": true,
    "hidden": true
   },
   "source": [
    "#### `Полносвязный слой`"
   ]
  },
  {
   "cell_type": "markdown",
   "metadata": {
    "hidden": true
   },
   "source": [
    "Далее реализуем полносвязный слой без нелинейности. У слоя два параметра: матрица весов и вектор сдвига.\n",
    "\n",
    "Обратите внимание на второй аргумент: в нем надо возвращать градиент по всем параметрам в одномерном виде. Для этого надо сначала применить `.ravel()` ко всем градиентам, а затем воспользоваться `np.r_`:"
   ]
  },
  {
   "cell_type": "code",
   "execution_count": 6,
   "metadata": {
    "hidden": true,
    "ExecuteTime": {
     "end_time": "2024-02-28T16:58:24.662087400Z",
     "start_time": "2024-02-28T16:58:24.569449800Z"
    }
   },
   "outputs": [
    {
     "data": {
      "text/plain": "array([1., 0., 0., 0., 1., 0., 0., 0., 1., 0., 1., 2., 3.])"
     },
     "execution_count": 6,
     "metadata": {},
     "output_type": "execute_result"
    }
   ],
   "source": [
    "# example\n",
    "np.r_[np.eye(3).ravel(), np.arange(4)]"
   ]
  },
  {
   "cell_type": "code",
   "execution_count": 7,
   "metadata": {
    "hidden": true,
    "ExecuteTime": {
     "end_time": "2024-02-28T16:58:25.607799300Z",
     "start_time": "2024-02-28T16:58:25.399224700Z"
    }
   },
   "outputs": [],
   "source": [
    "class Dense(Layer):\n",
    "    \"\"\"\n",
    "    Modified code from cs.hse DL course *\n",
    "    \"\"\"\n",
    "    def __init__(self, input_units, output_units):\n",
    "        \"\"\"\n",
    "        A dense layer is a layer which performs a learned affine transformation:\n",
    "        f(x) = x W + b\n",
    "        \"\"\"\n",
    "        # initialize weights with small random numbers from normal distribution\n",
    "        self.weights = np.random.randn(input_units, output_units) * 0.01\n",
    "        self.biases = np.zeros(output_units)\n",
    "        self.params = [self.weights, self.biases]\n",
    "\n",
    "    def forward(self, input):\n",
    "        \"\"\"\n",
    "        Perform an affine transformation:\n",
    "        f(x) = x W + b\n",
    "        \n",
    "        input shape: [batch, input_units]\n",
    "        output shape: [batch, output units]\n",
    "        \"\"\"\n",
    "        \n",
    "        self.input = input\n",
    "        \n",
    "        return input @ self.weights + self.biases\n",
    "\n",
    "    def backward(self, grad_output):\n",
    "        \"\"\"\n",
    "        compute gradients\n",
    "        grad_output shape: [batch, output_units]\n",
    "        output shapes: [batch, input_units], [num_params]\n",
    "        \n",
    "        hint: use function np.r_\n",
    "        np.r_[np.arange(3), np.arange(3)] = [0, 1, 2, 0, 1, 2]\n",
    "        \"\"\"\n",
    "        \n",
    "        # print(f\"DEBUG: {(self.input[:, :, None] @ grad_output[:, None, :]).shape=}\")\n",
    "        d_loss_d_w = self.input[:, :, None] @ grad_output[:, None, :]\n",
    "        d_loss_d_b = grad_output\n",
    "        d_loss_d_x = grad_output @ self.weights.T\n",
    "        \n",
    "        return d_loss_d_x, [d_loss_d_w, d_loss_d_b]\n",
    "    \n",
    "    def __repr__(self):\n",
    "        return f'Dense({self.weights.shape[0]}, {self.weights.shape[1]})'"
   ]
  },
  {
   "cell_type": "markdown",
   "metadata": {
    "heading_collapsed": true,
    "hidden": true
   },
   "source": [
    "#### `Проверка градиента`"
   ]
  },
  {
   "cell_type": "markdown",
   "metadata": {
    "hidden": true
   },
   "source": [
    "Проверим правильность реализации с помощью функции численной проверки градиента. Функция `eval_numerical_gradient` принимает на вход callable объект `f` (функцию от одного аргумента-матрицы) и аргумент `x` и вычисляет приближенный градиент функции `f` в точке `x`."
   ]
  },
  {
   "cell_type": "code",
   "execution_count": 8,
   "metadata": {
    "hidden": true,
    "ExecuteTime": {
     "end_time": "2024-02-28T16:58:26.670423500Z",
     "start_time": "2024-02-28T16:58:26.568359900Z"
    }
   },
   "outputs": [],
   "source": [
    "def eval_numerical_gradient(f, x, verbose=False, h=0.00001):\n",
    "    \"\"\"\n",
    "    Evaluates gradient df/dx via finite differences:\n",
    "    df/dx ~ (f(x+h) - f(x-h)) / 2h\n",
    "    Adopted from https://github.com/ddtm/dl-course/\n",
    "    \"\"\"\n",
    "    fx = f(x) # evaluate function value at original point\n",
    "    grad = np.zeros_like(x)\n",
    "    # iterate over all indexes in x\n",
    "    it = np.nditer(x, flags=['multi_index'], op_flags=['readwrite'])\n",
    "    while not it.finished:\n",
    "\n",
    "        # evaluate function at x+h\n",
    "        ix = it.multi_index\n",
    "        oldval = x[ix]\n",
    "        x[ix] = oldval + h # increment by h\n",
    "        fxph = f(x) # evalute f(x + h)\n",
    "        x[ix] = oldval - h\n",
    "        fxmh = f(x) # evaluate f(x - h)\n",
    "        x[ix] = oldval # restore\n",
    "\n",
    "        # compute the partial derivative with centered formula\n",
    "        grad[ix] = (fxph - fxmh) / (2 * h) # the slope\n",
    "        if verbose:\n",
    "            print (ix, grad[ix])\n",
    "        it.iternext() # step to next dimension\n",
    "\n",
    "    return grad"
   ]
  },
  {
   "cell_type": "markdown",
   "metadata": {
    "hidden": true
   },
   "source": [
    "Вычислите аналитический и численный градиенты по входу слоя ReLU от функции\n",
    "$$ f(y) = \\sum_i y_i, \\quad y = ReLU(x) $$\n",
    "\n",
    "Выпишите аналитический градиент в этой ячейке:\n",
    "Пусть $x = (x_1, \\ldots, x_n)$\n",
    "\n",
    "$$ f(x) = \\sum_i \\left( ReLU(x) \\right)_i = \\sum_i max(0, x_i)$$\n",
    "$$f: \\mathbb{R} ^ {n \\times m} \\to \\mathbb{R}^{m}$$\n",
    "\n",
    "$$\\nabla_{x} f = \\chi (x), \\text{где } \\chi (s) = \\begin{cases} 1 \\; & s > 0 \\\\ 0 \\; & s \\le 0 \\end{cases}$$"
   ]
  },
  {
   "cell_type": "markdown",
   "metadata": {
    "hidden": true
   },
   "source": [
    "Следующая ячейка после заполнения должна не выдавать ошибку :)"
   ]
  },
  {
   "cell_type": "code",
   "execution_count": 9,
   "metadata": {
    "hidden": true,
    "ExecuteTime": {
     "end_time": "2024-02-28T16:58:28.615554Z",
     "start_time": "2024-02-28T16:58:28.515045900Z"
    }
   },
   "outputs": [
    {
     "name": "stdout",
     "output_type": "stream",
     "text": [
      "grads.shape=(10, 12)\tnumeric_grads.shape=(10, 12)\n"
     ]
    }
   ],
   "source": [
    "relu = ReLU()\n",
    "points = np.linspace(-1, 1, 10*12).reshape([10, 12])\n",
    "\n",
    "# print(relu.forward(points).shape)\n",
    "\n",
    "### your code here\n",
    "\n",
    "def f(x):\n",
    "    out = relu.forward(x)\n",
    "    return np.sum(out, axis=1)\n",
    "\n",
    "f(points)\n",
    "grads = relu.backward(np.ones((10, 12)))[0]\n",
    "grads\n",
    "# numeric_grads = eval_numerical_gradient(f, points, verbose=True)\n",
    "numeric_grads = np.zeros_like(points)\n",
    "for i in range(points.shape[0]):\n",
    "    numeric_grads[i, :] = eval_numerical_gradient(f, points[i, :].reshape((1, -1)), verbose=False)\n",
    "\n",
    "print(f\"{grads.shape=}\\t{numeric_grads.shape=}\")\n",
    "\n",
    "assert np.allclose(grads, numeric_grads, rtol=1e-3, atol=0)"
   ]
  },
  {
   "cell_type": "markdown",
   "metadata": {
    "hidden": true
   },
   "source": [
    "Вычислите аналитический и численный градиенты по входу полносвязного слоя от функции\n",
    "$$ f(y) = \\sum_i y_i, \\quad y = W x + b $$\n",
    "\n",
    "Выпишите аналитический градиент в этой ячейке (советуем выписать градиент через дифференциал функции $f$):\n",
    "\n",
    "..."
   ]
  },
  {
   "cell_type": "markdown",
   "metadata": {
    "hidden": true
   },
   "source": [
    "Следующая ячейка после заполнения должна не выдавать ошибку :)"
   ]
  },
  {
   "cell_type": "code",
   "execution_count": 10,
   "metadata": {
    "hidden": true,
    "ExecuteTime": {
     "end_time": "2024-02-28T16:58:29.720578900Z",
     "start_time": "2024-02-28T16:58:29.602303Z"
    }
   },
   "outputs": [
    {
     "name": "stdout",
     "output_type": "stream",
     "text": [
      "grads.shape=(10, 12)\tnumeric_grads.shape=(10, 12)\n"
     ]
    }
   ],
   "source": [
    "linear = Dense(12, 32)\n",
    "points = np.linspace(-1, 1, 10*12).reshape([10, 12])\n",
    "\n",
    "def foo(x):\n",
    "    out = linear.forward(x)\n",
    "    return np.sum(out, axis=1)\n",
    "\n",
    "foo(points)\n",
    "grads = linear.backward(np.ones((10, 32)))[0]\n",
    "\n",
    "numeric_grads = np.zeros_like(points)\n",
    "for i in range(10):\n",
    "    numeric_grads[i, :] = eval_numerical_gradient(foo, points[i, :].reshape((1, -1)), verbose=False)\n",
    "\n",
    "print(f\"{grads.shape=}\\t{numeric_grads.shape=}\")\n",
    "\n",
    "# grads - numeric_grads\n",
    "\n",
    "assert np.allclose(grads, numeric_grads, rtol=1e-3, atol=0), np.max(np.abs(grads - numeric_grads))"
   ]
  },
  {
   "cell_type": "markdown",
   "metadata": {
    "heading_collapsed": true,
    "hidden": true
   },
   "source": [
    "#### `Реализация softmax-слоя и функции потерь`"
   ]
  },
  {
   "cell_type": "markdown",
   "metadata": {
    "hidden": true
   },
   "source": [
    "Для решения задачи многоклассовой классификации обычно используют $softmax$ в качестве нелинейности на последнем слое, чтобы получить вероятности классов для каждого объекта:\n",
    "$$\\hat y = softmax(x)  = \\left \\{\\frac {\\exp(x^i)}{\\sum_{j=1}^K \\exp(x^j)} \\right \\}_{i=1}^K, \\quad K - \\text{число классов.}$$\n",
    "\n",
    "Здесь за $x^i$ мы обозначаем $i$-ый признак объекта $x$.\n",
    "\n",
    "В качестве функции потерь выберем отрицательный логарифм правдоподобия (по английски: negative log likelihood или NLL)\n",
    "$$L(y, \\hat y) = -\\sum_{i=1}^K y^i \\log \\hat y^i,$$\n",
    "где $y^i = 1$, если объект принадлежит $i$-му классу, и $y^i = 0$ иначе.\n",
    "\n",
    "NLL совпадает с выражением для [кросс-энтропии](https://ru.wikipedia.org/wiki/Перекрёстная_энтропия) (в качестве первого распределения берем вырожденное распределение $y$, в качестве второго — предсказанное распределение $\\hat y$). Очевидно, что эту функцию потерь также можно переписать через индексацию, если через $y$ обозначить класс данного объекта:\n",
    "$$L(y, \\hat y) = - \\log \\hat y_{y}$$\n",
    "\n",
    "В таком виде ее удобно реализовывать."
   ]
  },
  {
   "cell_type": "markdown",
   "metadata": {
    "ExecuteTime": {
     "end_time": "2021-03-03T13:13:02.970075Z",
     "start_time": "2021-03-03T13:13:02.961134Z"
    },
    "hidden": true
   },
   "source": [
    "Для обучения нейронной сети будем оптимизировать эту функцию потерь по параметрам нейронной сети:\n",
    "\n",
    "$$ \\frac1N \\sum_{i=1}^N L(y_i, \\hat y_i) = \\frac1N \\sum_{i=1}^N L(y_i, \\text{NN}(x_i)) \\rightarrow \\min_{w}\\,,$$\n",
    "где за $x_i$ и $y_i$ мы обозначили признаки и таргет $i$-ого объекта обучающей выборки, за $\\text{NN}$ мы обозначили нейронную сеть, которая по признакам объекта $x_i$ выдает распределение вероятностей $\\hat y_i$, за $w$ мы обозначили все веса нейронной сети, а $N$ — это число объектов в обучающей выборке."
   ]
  },
  {
   "cell_type": "markdown",
   "metadata": {
    "hidden": true
   },
   "source": [
    "Реализуйте слой `LogSoftmax` (у этого слоя нет параметров). Метод `forward` должен вычислять логарифм от $softmax$, а метод `backward` — пропускать градиенты. В общем случае в промежуточных вычислениях `backward` получится трехмерный тензор, однако для нашей конкретной функции потерь все вычисления можно реализовать в матричном виде.  Поэтому мы будем предполагать, что аргумент `grad_output` — это матрица, у которой в каждой строке только одно ненулевое значение (не обязательно единица).\n",
    "\n",
    "**Пожелание.** Постарайтесь максимально упростить формулу градиентов, чтобы получился лаконичный и стабильный код. Большие и страшные реализации часто оказываются нестабильными."
   ]
  },
  {
   "cell_type": "code",
   "execution_count": 11,
   "metadata": {
    "hidden": true,
    "ExecuteTime": {
     "end_time": "2024-02-28T16:58:32.201898900Z",
     "start_time": "2024-02-28T16:58:32.016432500Z"
    }
   },
   "outputs": [],
   "source": [
    "from scipy.special import logsumexp\n",
    "# use this function instead of np.log(np.sum(np.exp(...))) because it is more stable"
   ]
  },
  {
   "cell_type": "code",
   "execution_count": 12,
   "metadata": {
    "hidden": true,
    "ExecuteTime": {
     "end_time": "2024-02-28T16:58:32.868802400Z",
     "start_time": "2024-02-28T16:58:32.779285Z"
    }
   },
   "outputs": [],
   "source": [
    "class LogSoftmax:\n",
    "    def __init__(self):\n",
    "        self.params = []\n",
    "        self.input = None\n",
    "        self.output = None\n",
    "\n",
    "    def forward(self, input):\n",
    "        \"\"\"\n",
    "        Applies softmax to each row and then applies component-wise log\n",
    "        Input shape: [batch, num_units]\n",
    "        Output shape: [batch, num_units]\n",
    "        \"\"\"\n",
    "        self.input = input\n",
    "        self.output = input - logsumexp(input, axis=-1, keepdims=True)\n",
    "        \n",
    "        return self.output\n",
    "        \n",
    "    def backward(self, grad_output):\n",
    "        \"\"\"\n",
    "        Propagartes gradients.\n",
    "        Assumes that each row of grad_output contains only 1 \n",
    "        non-zero element\n",
    "        Input shape: [batch, num_units]\n",
    "        Output shape: [batch, num_units]\n",
    "        Do not forget to return [] as second value (grad w.r.t. params)\n",
    "        \"\"\"\n",
    "        \n",
    "        if self.input is None:\n",
    "            raise RuntimeError('Call forward method before calling backward')\n",
    "        \n",
    "        grad_output_sum = np.sum(grad_output, axis=-1, keepdims=True)\n",
    "        \n",
    "        # exp_arr = np.exp(self.input)\n",
    "        # \n",
    "        # exp_sum = np.sum(exp_arr, axis=-1, keepdims=True)\n",
    "        # \n",
    "        # d_loss_d_x_1 = grad_output - grad_output_sum * (exp_arr / exp_sum)\n",
    "        \n",
    "        # frac = np.sum(np.exp(self.input[:, :, None] - self.input[:, None, :]), axis=1)\n",
    "        # \n",
    "        # d_loss_d_x_2 = grad_output - grad_output_sum / frac\n",
    "        \n",
    "        d_loss_d_x_2 = grad_output - grad_output_sum * np.exp(self.output)\n",
    "        \n",
    "        # print(f\"Derivative deviation: {np.max(np.abs(d_loss_d_x_1 - d_loss_d_x_2))}\")\n",
    "        \n",
    "        return d_loss_d_x_2, []\n",
    "        \n",
    "    \n",
    "    def __repr__(self):\n",
    "        return 'LogSoftmax()'"
   ]
  },
  {
   "cell_type": "markdown",
   "metadata": {
    "hidden": true
   },
   "source": [
    "Реализуйте функцию потерь и градиенты функции потерь. Во время вычисления NLL усредняйте (а не суммируйте) значения функции потерь по батчу. Обычно так делают для того, чтобы при двух запусках обучения нейронной сети с разными размерами батча получаемые значения функции потерь у этих сетей были сравнимы."
   ]
  },
  {
   "cell_type": "code",
   "execution_count": 13,
   "metadata": {
    "hidden": true,
    "ExecuteTime": {
     "end_time": "2024-02-28T16:58:33.869762400Z",
     "start_time": "2024-02-28T16:58:33.779275200Z"
    }
   },
   "outputs": [],
   "source": [
    "def NLL(activations, target):\n",
    "    \"\"\"\n",
    "    Returns negative log-likelihood of target under model represented by\n",
    "    activations (log probabilities of classes, it's just output of LogSoftmax layer).\n",
    "    `activations` has shape [batch, num_classes], `target` has shape [batch]\n",
    "    Output shape: 1 (scalar).\n",
    "    \"\"\"\n",
    "    \n",
    "    return -np.mean(activations[np.arange(len(target)), target])\n",
    "\n",
    "\n",
    "def grad_NLL(activations, target):\n",
    "    \"\"\"\n",
    "    Returns gradient of negative log-likelihood w.r.t. activations.\n",
    "    each arg has shape [batch, num_classes]\n",
    "    output shape: [batch, num-classes]\n",
    "    \"\"\"\n",
    "    \n",
    "    ohe_target = np.zeros_like(activations)\n",
    "    ohe_target[np.arange(len(target)), target] = 1\n",
    "    \n",
    "    # print(f\"Max delta {np.max(np.exp(activations))}\")\n",
    "    \n",
    "    return -ohe_target / len(target)"
   ]
  },
  {
   "cell_type": "markdown",
   "metadata": {
    "hidden": true
   },
   "source": [
    "Наконец, выполните проверку `LogSoftmax`-слоя, используя функцию потерь и ее градиент:"
   ]
  },
  {
   "cell_type": "code",
   "execution_count": 14,
   "metadata": {
    "hidden": true,
    "ExecuteTime": {
     "end_time": "2024-02-28T16:58:34.856114800Z",
     "start_time": "2024-02-28T16:58:34.723398600Z"
    }
   },
   "outputs": [
    {
     "name": "stdout",
     "output_type": "stream",
     "text": [
      "Max deviation: 3.1168190424424314e-11\n"
     ]
    }
   ],
   "source": [
    "n = 50\n",
    "d = 10\n",
    "lsm = LogSoftmax()\n",
    "np.random.seed(42)\n",
    "target = np.random.choice(d, size=n)\n",
    "points = np.random.uniform(-1, 1, n*d).reshape([n, d])\n",
    "\n",
    "def foo(x):\n",
    "    return NLL(lsm.forward(x), target)\n",
    "\n",
    "pred = lsm.forward(points)\n",
    "NLL(pred, target)\n",
    "f(points[0, :].reshape((1, -1)))\n",
    "grads, _ = lsm.backward(grad_NLL(pred, target))\n",
    "\n",
    "numeric_grads = eval_numerical_gradient(foo, points, verbose=False)\n",
    "\n",
    "print(f\"Max deviation: {np.max(np.abs(grads - numeric_grads))}\")\n",
    "\n",
    "assert np.allclose(grads, numeric_grads, rtol=1e-3, atol=0)"
   ]
  },
  {
   "cell_type": "markdown",
   "source": [
    "3.116819064126475e-11"
   ],
   "metadata": {
    "collapsed": false
   }
  },
  {
   "cell_type": "markdown",
   "metadata": {
    "heading_collapsed": true,
    "hidden": true
   },
   "source": [
    "### `Загрузка данных`"
   ]
  },
  {
   "cell_type": "markdown",
   "metadata": {
    "hidden": true
   },
   "source": [
    "Мы реализаовали все архитектурные составляющие нашей нейронной сети. Осталось загрузить данные и обучить модель. Мы будем работать с датасетом `digits`, каждый объект в котором — это 8x8 изображение рукописной цифры."
   ]
  },
  {
   "cell_type": "code",
   "execution_count": 15,
   "metadata": {
    "hidden": true,
    "ExecuteTime": {
     "end_time": "2024-02-28T16:58:36.784833Z",
     "start_time": "2024-02-28T16:58:36.313887300Z"
    }
   },
   "outputs": [],
   "source": [
    "import matplotlib.pyplot as plt\n",
    "%matplotlib inline"
   ]
  },
  {
   "cell_type": "code",
   "execution_count": 16,
   "metadata": {
    "hidden": true,
    "ExecuteTime": {
     "end_time": "2024-02-28T16:58:37.806884500Z",
     "start_time": "2024-02-28T16:58:36.752830500Z"
    }
   },
   "outputs": [],
   "source": [
    "from sklearn.datasets import load_digits"
   ]
  },
  {
   "cell_type": "code",
   "execution_count": 17,
   "metadata": {
    "hidden": true,
    "ExecuteTime": {
     "end_time": "2024-02-28T16:58:37.872886300Z",
     "start_time": "2024-02-28T16:58:37.807884Z"
    }
   },
   "outputs": [],
   "source": [
    "X, y = load_digits(return_X_y=True)"
   ]
  },
  {
   "cell_type": "code",
   "execution_count": 18,
   "metadata": {
    "hidden": true,
    "ExecuteTime": {
     "end_time": "2024-02-28T16:58:39.416082900Z",
     "start_time": "2024-02-28T16:58:39.214549500Z"
    }
   },
   "outputs": [
    {
     "data": {
      "text/plain": "((1797, 64), (1797,))"
     },
     "execution_count": 18,
     "metadata": {},
     "output_type": "execute_result"
    }
   ],
   "source": [
    "X.shape, y.shape"
   ]
  },
  {
   "cell_type": "markdown",
   "metadata": {
    "hidden": true
   },
   "source": [
    "Разделим данные на обучение и контроль:"
   ]
  },
  {
   "cell_type": "code",
   "execution_count": 19,
   "metadata": {
    "hidden": true,
    "ExecuteTime": {
     "end_time": "2024-02-28T16:58:39.825149100Z",
     "start_time": "2024-02-28T16:58:39.625369700Z"
    }
   },
   "outputs": [],
   "source": [
    "from sklearn.model_selection import train_test_split"
   ]
  },
  {
   "cell_type": "code",
   "execution_count": 20,
   "metadata": {
    "hidden": true,
    "ExecuteTime": {
     "end_time": "2024-02-28T16:58:40.132080900Z",
     "start_time": "2024-02-28T16:58:40.039653700Z"
    }
   },
   "outputs": [],
   "source": [
    "X_train, X_test, y_train, y_test = train_test_split(X, y, random_state=0)"
   ]
  },
  {
   "cell_type": "code",
   "execution_count": 21,
   "metadata": {
    "hidden": true,
    "ExecuteTime": {
     "end_time": "2024-02-28T16:58:40.475865400Z",
     "start_time": "2024-02-28T16:58:40.386256900Z"
    }
   },
   "outputs": [
    {
     "data": {
      "text/plain": "((1347, 64), (450, 64))"
     },
     "execution_count": 21,
     "metadata": {},
     "output_type": "execute_result"
    }
   ],
   "source": [
    "X_train.shape, X_test.shape"
   ]
  },
  {
   "cell_type": "code",
   "outputs": [
    {
     "data": {
      "text/plain": "<Figure size 1000x1000 with 9 Axes>",
      "image/png": "[encoded data removed]"
     },
     "metadata": {},
     "output_type": "display_data"
    }
   ],
   "source": [
    "_, ax = plt.subplots(nrows=3, ncols=3, figsize=(10, 10))\n",
    "\n",
    "for i in range(9):\n",
    "    ax[divmod(i, 3)].imshow(X[i, :].reshape((8, 8)), cmap=plt.get_cmap(\"gray\"))\n",
    "    ax[divmod(i, 3)].set_title(y[i])"
   ],
   "metadata": {
    "collapsed": false,
    "ExecuteTime": {
     "end_time": "2024-02-28T16:58:42.451430700Z",
     "start_time": "2024-02-28T16:58:40.768643100Z"
    }
   },
   "execution_count": 22
  },
  {
   "cell_type": "markdown",
   "metadata": {
    "heading_collapsed": true,
    "hidden": true
   },
   "source": [
    "### `Сборка и обучение нейронной сети (0.8 балла)`"
   ]
  },
  {
   "cell_type": "markdown",
   "metadata": {
    "hidden": true
   },
   "source": [
    "В нашей реализации мы представляем нейронную сеть в виде списка ее слоев. Например, следующая функция конструирует нейронную сеть заданной ширины (то есть с заданным размером скрытых слоев) и глубины (то есть с заданным количеством слоев) с заданным размером входа и выхода, а также с заданной функцией активации между линейными слоями."
   ]
  },
  {
   "cell_type": "code",
   "execution_count": 23,
   "metadata": {
    "hidden": true,
    "ExecuteTime": {
     "end_time": "2024-02-28T16:58:44.600467500Z",
     "start_time": "2024-02-28T16:58:44.562777Z"
    }
   },
   "outputs": [],
   "source": [
    "def make_network(input_size, hidden_layers_size, output_size, n_layers=3, activation_class=ReLU):\n",
    "    network = []\n",
    "\n",
    "    for layer_idx in range(n_layers):\n",
    "        # Compute sizes of current linear layer\n",
    "        layer_in = input_size if layer_idx == 0 else hidden_layers_size\n",
    "        layer_out = output_size if layer_idx == n_layers - 1 else hidden_layers_size\n",
    "        \n",
    "        # Add linear layer to the network\n",
    "        network.append(Dense(layer_in, layer_out))\n",
    "\n",
    "        # Add activation after each layer except the last one\n",
    "        if layer_idx != n_layers - 1:\n",
    "            network.append(activation_class())\n",
    "\n",
    "    # Add LogSoftmax layer to the network\n",
    "    network.append(LogSoftmax())\n",
    "\n",
    "    return network"
   ]
  },
  {
   "cell_type": "code",
   "execution_count": 24,
   "metadata": {
    "hidden": true,
    "ExecuteTime": {
     "end_time": "2024-02-28T16:58:48.189761500Z",
     "start_time": "2024-02-28T16:58:48.096849300Z"
    }
   },
   "outputs": [
    {
     "data": {
      "text/plain": "[Dense(64, 32), Relu(), Dense(32, 32), Relu(), Dense(32, 10), LogSoftmax()]"
     },
     "execution_count": 24,
     "metadata": {},
     "output_type": "execute_result"
    }
   ],
   "source": [
    "input_size = X_train.shape[1]\n",
    "hidden_layers_size = 32\n",
    "output_size = 10\n",
    "\n",
    "network = make_network(input_size, hidden_layers_size, output_size, 3, ReLU)\n",
    "network"
   ]
  },
  {
   "cell_type": "markdown",
   "metadata": {
    "hidden": true
   },
   "source": [
    "Реализуйте функцию, которая выполнет прямой проход по нейронной сети:"
   ]
  },
  {
   "cell_type": "code",
   "execution_count": 25,
   "metadata": {
    "hidden": true,
    "ExecuteTime": {
     "end_time": "2024-02-28T16:58:49.757345100Z",
     "start_time": "2024-02-28T16:58:49.669770900Z"
    }
   },
   "outputs": [],
   "source": [
    "def forward(network: List[Layer], X):\n",
    "    \"\"\"\n",
    "    Perform forward pass through the network.\n",
    "    \n",
    "    network: list of layers\n",
    "    X: raw data\n",
    "    X shape: [batch, features_num]\n",
    "\n",
    "    output: \n",
    "    output shape: [batch, out_features_num]\n",
    "    \"\"\"\n",
    "    \n",
    "    for layer in network:\n",
    "        X = layer.forward(X)\n",
    "    \n",
    "    return X"
   ]
  },
  {
   "cell_type": "markdown",
   "metadata": {
    "hidden": true
   },
   "source": [
    "Для проверки, хорошо ли сеть обучилась, нам понадобится вычислять долю правильных ответов (accuracy) на данной выборке. Для этого реализуйте функцию, которая делает предсказания на каждом объекте (логично в качестве предсказания на очередном объекте выдавать тот класс, для которого предсказанный логарифм вероятности максимален):"
   ]
  },
  {
   "cell_type": "code",
   "execution_count": 26,
   "metadata": {
    "hidden": true,
    "ExecuteTime": {
     "end_time": "2024-02-28T16:58:51.133979500Z",
     "start_time": "2024-02-28T16:58:51.037440200Z"
    }
   },
   "outputs": [],
   "source": [
    "def predict(network: List[Layer], X):\n",
    "    \"\"\"\n",
    "    Returns predictions for each object in X.\n",
    "    \n",
    "    network: list of layers\n",
    "    X: raw data\n",
    "    X shape: [batch, features_num]\n",
    "\n",
    "    output: array of classes, each from 0 to 9\n",
    "    output shape: [batch]\n",
    "    \"\"\"\n",
    "    \n",
    "    pred = forward(network, X)\n",
    "    \n",
    "    return np.argmax(pred, axis=1, keepdims=True)"
   ]
  },
  {
   "cell_type": "markdown",
   "metadata": {
    "hidden": true
   },
   "source": [
    "Мы будем обучать параметры нейросети с помощью готовой функции оптимизации из модуля `scipy`:"
   ]
  },
  {
   "cell_type": "code",
   "execution_count": 27,
   "metadata": {
    "hidden": true,
    "ExecuteTime": {
     "end_time": "2024-02-28T16:58:51.970871Z",
     "start_time": "2024-02-28T16:58:51.932354900Z"
    }
   },
   "outputs": [],
   "source": [
    "from scipy.optimize import minimize"
   ]
  },
  {
   "cell_type": "code",
   "execution_count": 28,
   "metadata": {
    "hidden": true,
    "scrolled": true,
    "ExecuteTime": {
     "end_time": "2024-02-28T16:58:52.344729100Z",
     "start_time": "2024-02-28T16:58:52.261675200Z"
    }
   },
   "outputs": [
    {
     "name": "stdout",
     "output_type": "stream",
     "text": [
      "Help on function minimize in module scipy.optimize._minimize:\n",
      "\n",
      "minimize(fun, x0, args=(), method=None, jac=None, hess=None, hessp=None, bounds=None, constraints=(), tol=None, callback=None, options=None)\n",
      "    Minimization of scalar function of one or more variables.\n",
      "    \n",
      "    Parameters\n",
      "    ----------\n",
      "    fun : callable\n",
      "        The objective function to be minimized.\n",
      "    \n",
      "            ``fun(x, *args) -> float``\n",
      "    \n",
      "        where ``x`` is a 1-D array with shape (n,) and ``args``\n",
      "        is a tuple of the fixed parameters needed to completely\n",
      "        specify the function.\n",
      "    x0 : ndarray, shape (n,)\n",
      "        Initial guess. Array of real elements of size (n,),\n",
      "        where ``n`` is the number of independent variables.\n",
      "    args : tuple, optional\n",
      "        Extra arguments passed to the objective function and its\n",
      "        derivatives (`fun`, `jac` and `hess` functions).\n",
      "    method : str or callable, optional\n",
      "        Type of solver.  Should be one of\n",
      "    \n",
      "            - 'Nelder-Mead' :ref:`(see here) <optimize.minimize-neldermead>`\n",
      "            - 'Powell'      :ref:`(see here) <optimize.minimize-powell>`\n",
      "            - 'CG'          :ref:`(see here) <optimize.minimize-cg>`\n",
      "            - 'BFGS'        :ref:`(see here) <optimize.minimize-bfgs>`\n",
      "            - 'Newton-CG'   :ref:`(see here) <optimize.minimize-newtoncg>`\n",
      "            - 'L-BFGS-B'    :ref:`(see here) <optimize.minimize-lbfgsb>`\n",
      "            - 'TNC'         :ref:`(see here) <optimize.minimize-tnc>`\n",
      "            - 'COBYLA'      :ref:`(see here) <optimize.minimize-cobyla>`\n",
      "            - 'SLSQP'       :ref:`(see here) <optimize.minimize-slsqp>`\n",
      "            - 'trust-constr':ref:`(see here) <optimize.minimize-trustconstr>`\n",
      "            - 'dogleg'      :ref:`(see here) <optimize.minimize-dogleg>`\n",
      "            - 'trust-ncg'   :ref:`(see here) <optimize.minimize-trustncg>`\n",
      "            - 'trust-exact' :ref:`(see here) <optimize.minimize-trustexact>`\n",
      "            - 'trust-krylov' :ref:`(see here) <optimize.minimize-trustkrylov>`\n",
      "            - custom - a callable object, see below for description.\n",
      "    \n",
      "        If not given, chosen to be one of ``BFGS``, ``L-BFGS-B``, ``SLSQP``,\n",
      "        depending on whether or not the problem has constraints or bounds.\n",
      "    jac : {callable,  '2-point', '3-point', 'cs', bool}, optional\n",
      "        Method for computing the gradient vector. Only for CG, BFGS,\n",
      "        Newton-CG, L-BFGS-B, TNC, SLSQP, dogleg, trust-ncg, trust-krylov,\n",
      "        trust-exact and trust-constr.\n",
      "        If it is a callable, it should be a function that returns the gradient\n",
      "        vector:\n",
      "    \n",
      "            ``jac(x, *args) -> array_like, shape (n,)``\n",
      "    \n",
      "        where ``x`` is an array with shape (n,) and ``args`` is a tuple with\n",
      "        the fixed parameters. If `jac` is a Boolean and is True, `fun` is\n",
      "        assumed to return a tuple ``(f, g)`` containing the objective\n",
      "        function and the gradient.\n",
      "        Methods 'Newton-CG', 'trust-ncg', 'dogleg', 'trust-exact', and\n",
      "        'trust-krylov' require that either a callable be supplied, or that\n",
      "        `fun` return the objective and gradient.\n",
      "        If None or False, the gradient will be estimated using 2-point finite\n",
      "        difference estimation with an absolute step size.\n",
      "        Alternatively, the keywords  {'2-point', '3-point', 'cs'} can be used\n",
      "        to select a finite difference scheme for numerical estimation of the\n",
      "        gradient with a relative step size. These finite difference schemes\n",
      "        obey any specified `bounds`.\n",
      "    hess : {callable, '2-point', '3-point', 'cs', HessianUpdateStrategy}, optional\n",
      "        Method for computing the Hessian matrix. Only for Newton-CG, dogleg,\n",
      "        trust-ncg, trust-krylov, trust-exact and trust-constr.\n",
      "        If it is callable, it should return the Hessian matrix:\n",
      "    \n",
      "            ``hess(x, *args) -> {LinearOperator, spmatrix, array}, (n, n)``\n",
      "    \n",
      "        where ``x`` is a (n,) ndarray and ``args`` is a tuple with the fixed\n",
      "        parameters.\n",
      "        The keywords {'2-point', '3-point', 'cs'} can also be used to select\n",
      "        a finite difference scheme for numerical estimation of the hessian.\n",
      "        Alternatively, objects implementing the `HessianUpdateStrategy`\n",
      "        interface can be used to approximate the Hessian. Available\n",
      "        quasi-Newton methods implementing this interface are:\n",
      "    \n",
      "            - `BFGS`;\n",
      "            - `SR1`.\n",
      "    \n",
      "        Not all of the options are available for each of the methods; for\n",
      "        availability refer to the notes.\n",
      "    hessp : callable, optional\n",
      "        Hessian of objective function times an arbitrary vector p. Only for\n",
      "        Newton-CG, trust-ncg, trust-krylov, trust-constr.\n",
      "        Only one of `hessp` or `hess` needs to be given. If `hess` is\n",
      "        provided, then `hessp` will be ignored. `hessp` must compute the\n",
      "        Hessian times an arbitrary vector:\n",
      "    \n",
      "            ``hessp(x, p, *args) ->  ndarray shape (n,)``\n",
      "    \n",
      "        where ``x`` is a (n,) ndarray, ``p`` is an arbitrary vector with\n",
      "        dimension (n,) and ``args`` is a tuple with the fixed\n",
      "        parameters.\n",
      "    bounds : sequence or `Bounds`, optional\n",
      "        Bounds on variables for Nelder-Mead, L-BFGS-B, TNC, SLSQP, Powell, and\n",
      "        trust-constr methods. There are two ways to specify the bounds:\n",
      "    \n",
      "            1. Instance of `Bounds` class.\n",
      "            2. Sequence of ``(min, max)`` pairs for each element in `x`. None\n",
      "               is used to specify no bound.\n",
      "    \n",
      "    constraints : {Constraint, dict} or List of {Constraint, dict}, optional\n",
      "        Constraints definition. Only for COBYLA, SLSQP and trust-constr.\n",
      "    \n",
      "        Constraints for 'trust-constr' are defined as a single object or a\n",
      "        list of objects specifying constraints to the optimization problem.\n",
      "        Available constraints are:\n",
      "    \n",
      "            - `LinearConstraint`\n",
      "            - `NonlinearConstraint`\n",
      "    \n",
      "        Constraints for COBYLA, SLSQP are defined as a list of dictionaries.\n",
      "        Each dictionary with fields:\n",
      "    \n",
      "            type : str\n",
      "                Constraint type: 'eq' for equality, 'ineq' for inequality.\n",
      "            fun : callable\n",
      "                The function defining the constraint.\n",
      "            jac : callable, optional\n",
      "                The Jacobian of `fun` (only for SLSQP).\n",
      "            args : sequence, optional\n",
      "                Extra arguments to be passed to the function and Jacobian.\n",
      "    \n",
      "        Equality constraint means that the constraint function result is to\n",
      "        be zero whereas inequality means that it is to be non-negative.\n",
      "        Note that COBYLA only supports inequality constraints.\n",
      "    tol : float, optional\n",
      "        Tolerance for termination. When `tol` is specified, the selected\n",
      "        minimization algorithm sets some relevant solver-specific tolerance(s)\n",
      "        equal to `tol`. For detailed control, use solver-specific\n",
      "        options.\n",
      "    options : dict, optional\n",
      "        A dictionary of solver options. All methods except `TNC` accept the\n",
      "        following generic options:\n",
      "    \n",
      "            maxiter : int\n",
      "                Maximum number of iterations to perform. Depending on the\n",
      "                method each iteration may use several function evaluations.\n",
      "    \n",
      "                For `TNC` use `maxfun` instead of `maxiter`.\n",
      "            disp : bool\n",
      "                Set to True to print convergence messages.\n",
      "    \n",
      "        For method-specific options, see :func:`show_options()`.\n",
      "    callback : callable, optional\n",
      "        Called after each iteration. For 'trust-constr' it is a callable with\n",
      "        the signature:\n",
      "    \n",
      "            ``callback(xk, OptimizeResult state) -> bool``\n",
      "    \n",
      "        where ``xk`` is the current parameter vector. and ``state``\n",
      "        is an `OptimizeResult` object, with the same fields\n",
      "        as the ones from the return. If callback returns True\n",
      "        the algorithm execution is terminated.\n",
      "        For all the other methods, the signature is:\n",
      "    \n",
      "            ``callback(xk)``\n",
      "    \n",
      "        where ``xk`` is the current parameter vector.\n",
      "    \n",
      "    Returns\n",
      "    -------\n",
      "    res : OptimizeResult\n",
      "        The optimization result represented as a ``OptimizeResult`` object.\n",
      "        Important attributes are: ``x`` the solution array, ``success`` a\n",
      "        Boolean flag indicating if the optimizer exited successfully and\n",
      "        ``message`` which describes the cause of the termination. See\n",
      "        `OptimizeResult` for a description of other attributes.\n",
      "    \n",
      "    See also\n",
      "    --------\n",
      "    minimize_scalar : Interface to minimization algorithms for scalar\n",
      "        univariate functions\n",
      "    show_options : Additional options accepted by the solvers\n",
      "    \n",
      "    Notes\n",
      "    -----\n",
      "    This section describes the available solvers that can be selected by the\n",
      "    'method' parameter. The default method is *BFGS*.\n",
      "    \n",
      "    **Unconstrained minimization**\n",
      "    \n",
      "    Method :ref:`CG <optimize.minimize-cg>` uses a nonlinear conjugate\n",
      "    gradient algorithm by Polak and Ribiere, a variant of the\n",
      "    Fletcher-Reeves method described in [5]_ pp.120-122. Only the\n",
      "    first derivatives are used.\n",
      "    \n",
      "    Method :ref:`BFGS <optimize.minimize-bfgs>` uses the quasi-Newton\n",
      "    method of Broyden, Fletcher, Goldfarb, and Shanno (BFGS) [5]_\n",
      "    pp. 136. It uses the first derivatives only. BFGS has proven good\n",
      "    performance even for non-smooth optimizations. This method also\n",
      "    returns an approximation of the Hessian inverse, stored as\n",
      "    `hess_inv` in the OptimizeResult object.\n",
      "    \n",
      "    Method :ref:`Newton-CG <optimize.minimize-newtoncg>` uses a\n",
      "    Newton-CG algorithm [5]_ pp. 168 (also known as the truncated\n",
      "    Newton method). It uses a CG method to the compute the search\n",
      "    direction. See also *TNC* method for a box-constrained\n",
      "    minimization with a similar algorithm. Suitable for large-scale\n",
      "    problems.\n",
      "    \n",
      "    Method :ref:`dogleg <optimize.minimize-dogleg>` uses the dog-leg\n",
      "    trust-region algorithm [5]_ for unconstrained minimization. This\n",
      "    algorithm requires the gradient and Hessian; furthermore the\n",
      "    Hessian is required to be positive definite.\n",
      "    \n",
      "    Method :ref:`trust-ncg <optimize.minimize-trustncg>` uses the\n",
      "    Newton conjugate gradient trust-region algorithm [5]_ for\n",
      "    unconstrained minimization. This algorithm requires the gradient\n",
      "    and either the Hessian or a function that computes the product of\n",
      "    the Hessian with a given vector. Suitable for large-scale problems.\n",
      "    \n",
      "    Method :ref:`trust-krylov <optimize.minimize-trustkrylov>` uses\n",
      "    the Newton GLTR trust-region algorithm [14]_, [15]_ for unconstrained\n",
      "    minimization. This algorithm requires the gradient\n",
      "    and either the Hessian or a function that computes the product of\n",
      "    the Hessian with a given vector. Suitable for large-scale problems.\n",
      "    On indefinite problems it requires usually less iterations than the\n",
      "    `trust-ncg` method and is recommended for medium and large-scale problems.\n",
      "    \n",
      "    Method :ref:`trust-exact <optimize.minimize-trustexact>`\n",
      "    is a trust-region method for unconstrained minimization in which\n",
      "    quadratic subproblems are solved almost exactly [13]_. This\n",
      "    algorithm requires the gradient and the Hessian (which is\n",
      "    *not* required to be positive definite). It is, in many\n",
      "    situations, the Newton method to converge in fewer iterations\n",
      "    and the most recommended for small and medium-size problems.\n",
      "    \n",
      "    **Bound-Constrained minimization**\n",
      "    \n",
      "    Method :ref:`Nelder-Mead <optimize.minimize-neldermead>` uses the\n",
      "    Simplex algorithm [1]_, [2]_. This algorithm is robust in many\n",
      "    applications. However, if numerical computation of derivative can be\n",
      "    trusted, other algorithms using the first and/or second derivatives\n",
      "    information might be preferred for their better performance in\n",
      "    general.\n",
      "    \n",
      "    Method :ref:`L-BFGS-B <optimize.minimize-lbfgsb>` uses the L-BFGS-B\n",
      "    algorithm [6]_, [7]_ for bound constrained minimization.\n",
      "    \n",
      "    Method :ref:`Powell <optimize.minimize-powell>` is a modification\n",
      "    of Powell's method [3]_, [4]_ which is a conjugate direction\n",
      "    method. It performs sequential one-dimensional minimizations along\n",
      "    each vector of the directions set (`direc` field in `options` and\n",
      "    `info`), which is updated at each iteration of the main\n",
      "    minimization loop. The function need not be differentiable, and no\n",
      "    derivatives are taken. If bounds are not provided, then an\n",
      "    unbounded line search will be used. If bounds are provided and\n",
      "    the initial guess is within the bounds, then every function\n",
      "    evaluation throughout the minimization procedure will be within\n",
      "    the bounds. If bounds are provided, the initial guess is outside\n",
      "    the bounds, and `direc` is full rank (default has full rank), then\n",
      "    some function evaluations during the first iteration may be\n",
      "    outside the bounds, but every function evaluation after the first\n",
      "    iteration will be within the bounds. If `direc` is not full rank,\n",
      "    then some parameters may not be optimized and the solution is not\n",
      "    guaranteed to be within the bounds.\n",
      "    \n",
      "    Method :ref:`TNC <optimize.minimize-tnc>` uses a truncated Newton\n",
      "    algorithm [5]_, [8]_ to minimize a function with variables subject\n",
      "    to bounds. This algorithm uses gradient information; it is also\n",
      "    called Newton Conjugate-Gradient. It differs from the *Newton-CG*\n",
      "    method described above as it wraps a C implementation and allows\n",
      "    each variable to be given upper and lower bounds.\n",
      "    \n",
      "    **Constrained Minimization**\n",
      "    \n",
      "    Method :ref:`COBYLA <optimize.minimize-cobyla>` uses the\n",
      "    Constrained Optimization BY Linear Approximation (COBYLA) method\n",
      "    [9]_, [10]_, [11]_. The algorithm is based on linear\n",
      "    approximations to the objective function and each constraint. The\n",
      "    method wraps a FORTRAN implementation of the algorithm. The\n",
      "    constraints functions 'fun' may return either a single number\n",
      "    or an array or list of numbers.\n",
      "    \n",
      "    Method :ref:`SLSQP <optimize.minimize-slsqp>` uses Sequential\n",
      "    Least SQuares Programming to minimize a function of several\n",
      "    variables with any combination of bounds, equality and inequality\n",
      "    constraints. The method wraps the SLSQP Optimization subroutine\n",
      "    originally implemented by Dieter Kraft [12]_. Note that the\n",
      "    wrapper handles infinite values in bounds by converting them into\n",
      "    large floating values.\n",
      "    \n",
      "    Method :ref:`trust-constr <optimize.minimize-trustconstr>` is a\n",
      "    trust-region algorithm for constrained optimization. It swiches\n",
      "    between two implementations depending on the problem definition.\n",
      "    It is the most versatile constrained minimization algorithm\n",
      "    implemented in SciPy and the most appropriate for large-scale problems.\n",
      "    For equality constrained problems it is an implementation of Byrd-Omojokun\n",
      "    Trust-Region SQP method described in [17]_ and in [5]_, p. 549. When\n",
      "    inequality constraints are imposed as well, it swiches to the trust-region\n",
      "    interior point method described in [16]_. This interior point algorithm,\n",
      "    in turn, solves inequality constraints by introducing slack variables\n",
      "    and solving a sequence of equality-constrained barrier problems\n",
      "    for progressively smaller values of the barrier parameter.\n",
      "    The previously described equality constrained SQP method is\n",
      "    used to solve the subproblems with increasing levels of accuracy\n",
      "    as the iterate gets closer to a solution.\n",
      "    \n",
      "    **Finite-Difference Options**\n",
      "    \n",
      "    For Method :ref:`trust-constr <optimize.minimize-trustconstr>`\n",
      "    the gradient and the Hessian may be approximated using\n",
      "    three finite-difference schemes: {'2-point', '3-point', 'cs'}.\n",
      "    The scheme 'cs' is, potentially, the most accurate but it\n",
      "    requires the function to correctly handle complex inputs and to\n",
      "    be differentiable in the complex plane. The scheme '3-point' is more\n",
      "    accurate than '2-point' but requires twice as many operations. If the\n",
      "    gradient is estimated via finite-differences the Hessian must be\n",
      "    estimated using one of the quasi-Newton strategies.\n",
      "    \n",
      "    **Method specific options for the** `hess` **keyword**\n",
      "    \n",
      "    +--------------+------+----------+-------------------------+-----+\n",
      "    | method/Hess  | None | callable | '2-point/'3-point'/'cs' | HUS |\n",
      "    +==============+======+==========+=========================+=====+\n",
      "    | Newton-CG    | x    | (n, n)   | x                       | x   |\n",
      "    |              |      | LO       |                         |     |\n",
      "    +--------------+------+----------+-------------------------+-----+\n",
      "    | dogleg       |      | (n, n)   |                         |     |\n",
      "    +--------------+------+----------+-------------------------+-----+\n",
      "    | trust-ncg    |      | (n, n)   | x                       | x   |\n",
      "    +--------------+------+----------+-------------------------+-----+\n",
      "    | trust-krylov |      | (n, n)   | x                       | x   |\n",
      "    +--------------+------+----------+-------------------------+-----+\n",
      "    | trust-exact  |      | (n, n)   |                         |     |\n",
      "    +--------------+------+----------+-------------------------+-----+\n",
      "    | trust-constr | x    | (n, n)   |  x                      | x   |\n",
      "    |              |      | LO       |                         |     |\n",
      "    |              |      | sp       |                         |     |\n",
      "    +--------------+------+----------+-------------------------+-----+\n",
      "    \n",
      "    where LO=LinearOperator, sp=Sparse matrix, HUS=HessianUpdateStrategy\n",
      "    \n",
      "    **Custom minimizers**\n",
      "    \n",
      "    It may be useful to pass a custom minimization method, for example\n",
      "    when using a frontend to this method such as `scipy.optimize.basinhopping`\n",
      "    or a different library.  You can simply pass a callable as the ``method``\n",
      "    parameter.\n",
      "    \n",
      "    The callable is called as ``method(fun, x0, args, **kwargs, **options)``\n",
      "    where ``kwargs`` corresponds to any other parameters passed to `minimize`\n",
      "    (such as `callback`, `hess`, etc.), except the `options` dict, which has\n",
      "    its contents also passed as `method` parameters pair by pair.  Also, if\n",
      "    `jac` has been passed as a bool type, `jac` and `fun` are mangled so that\n",
      "    `fun` returns just the function values and `jac` is converted to a function\n",
      "    returning the Jacobian.  The method shall return an `OptimizeResult`\n",
      "    object.\n",
      "    \n",
      "    The provided `method` callable must be able to accept (and possibly ignore)\n",
      "    arbitrary parameters; the set of parameters accepted by `minimize` may\n",
      "    expand in future versions and then these parameters will be passed to\n",
      "    the method.  You can find an example in the scipy.optimize tutorial.\n",
      "    \n",
      "    References\n",
      "    ----------\n",
      "    .. [1] Nelder, J A, and R Mead. 1965. A Simplex Method for Function\n",
      "        Minimization. The Computer Journal 7: 308-13.\n",
      "    .. [2] Wright M H. 1996. Direct search methods: Once scorned, now\n",
      "        respectable, in Numerical Analysis 1995: Proceedings of the 1995\n",
      "        Dundee Biennial Conference in Numerical Analysis (Eds. D F\n",
      "        Griffiths and G A Watson). Addison Wesley Longman, Harlow, UK.\n",
      "        191-208.\n",
      "    .. [3] Powell, M J D. 1964. An efficient method for finding the minimum of\n",
      "       a function of several variables without calculating derivatives. The\n",
      "       Computer Journal 7: 155-162.\n",
      "    .. [4] Press W, S A Teukolsky, W T Vetterling and B P Flannery.\n",
      "       Numerical Recipes (any edition), Cambridge University Press.\n",
      "    .. [5] Nocedal, J, and S J Wright. 2006. Numerical Optimization.\n",
      "       Springer New York.\n",
      "    .. [6] Byrd, R H and P Lu and J. Nocedal. 1995. A Limited Memory\n",
      "       Algorithm for Bound Constrained Optimization. SIAM Journal on\n",
      "       Scientific and Statistical Computing 16 (5): 1190-1208.\n",
      "    .. [7] Zhu, C and R H Byrd and J Nocedal. 1997. L-BFGS-B: Algorithm\n",
      "       778: L-BFGS-B, FORTRAN routines for large scale bound constrained\n",
      "       optimization. ACM Transactions on Mathematical Software 23 (4):\n",
      "       550-560.\n",
      "    .. [8] Nash, S G. Newton-Type Minimization Via the Lanczos Method.\n",
      "       1984. SIAM Journal of Numerical Analysis 21: 770-778.\n",
      "    .. [9] Powell, M J D. A direct search optimization method that models\n",
      "       the objective and constraint functions by linear interpolation.\n",
      "       1994. Advances in Optimization and Numerical Analysis, eds. S. Gomez\n",
      "       and J-P Hennart, Kluwer Academic (Dordrecht), 51-67.\n",
      "    .. [10] Powell M J D. Direct search algorithms for optimization\n",
      "       calculations. 1998. Acta Numerica 7: 287-336.\n",
      "    .. [11] Powell M J D. A view of algorithms for optimization without\n",
      "       derivatives. 2007.Cambridge University Technical Report DAMTP\n",
      "       2007/NA03\n",
      "    .. [12] Kraft, D. A software package for sequential quadratic\n",
      "       programming. 1988. Tech. Rep. DFVLR-FB 88-28, DLR German Aerospace\n",
      "       Center -- Institute for Flight Mechanics, Koln, Germany.\n",
      "    .. [13] Conn, A. R., Gould, N. I., and Toint, P. L.\n",
      "       Trust region methods. 2000. Siam. pp. 169-200.\n",
      "    .. [14] F. Lenders, C. Kirches, A. Potschka: \"trlib: A vector-free\n",
      "       implementation of the GLTR method for iterative solution of\n",
      "       the trust region problem\", :arxiv:`1611.04718`\n",
      "    .. [15] N. Gould, S. Lucidi, M. Roma, P. Toint: \"Solving the\n",
      "       Trust-Region Subproblem using the Lanczos Method\",\n",
      "       SIAM J. Optim., 9(2), 504--525, (1999).\n",
      "    .. [16] Byrd, Richard H., Mary E. Hribar, and Jorge Nocedal. 1999.\n",
      "        An interior point algorithm for large-scale nonlinear  programming.\n",
      "        SIAM Journal on Optimization 9.4: 877-900.\n",
      "    .. [17] Lalee, Marucha, Jorge Nocedal, and Todd Plantega. 1998. On the\n",
      "        implementation of an algorithm for large-scale equality constrained\n",
      "        optimization. SIAM Journal on Optimization 8.3: 682-706.\n",
      "    \n",
      "    Examples\n",
      "    --------\n",
      "    Let us consider the problem of minimizing the Rosenbrock function. This\n",
      "    function (and its respective derivatives) is implemented in `rosen`\n",
      "    (resp. `rosen_der`, `rosen_hess`) in the `scipy.optimize`.\n",
      "    \n",
      "    >>> from scipy.optimize import minimize, rosen, rosen_der\n",
      "    \n",
      "    A simple application of the *Nelder-Mead* method is:\n",
      "    \n",
      "    >>> x0 = [1.3, 0.7, 0.8, 1.9, 1.2]\n",
      "    >>> res = minimize(rosen, x0, method='Nelder-Mead', tol=1e-6)\n",
      "    >>> res.x\n",
      "    array([ 1.,  1.,  1.,  1.,  1.])\n",
      "    \n",
      "    Now using the *BFGS* algorithm, using the first derivative and a few\n",
      "    options:\n",
      "    \n",
      "    >>> res = minimize(rosen, x0, method='BFGS', jac=rosen_der,\n",
      "    ...                options={'gtol': 1e-6, 'disp': True})\n",
      "    Optimization terminated successfully.\n",
      "             Current function value: 0.000000\n",
      "             Iterations: 26\n",
      "             Function evaluations: 31\n",
      "             Gradient evaluations: 31\n",
      "    >>> res.x\n",
      "    array([ 1.,  1.,  1.,  1.,  1.])\n",
      "    >>> print(res.message)\n",
      "    Optimization terminated successfully.\n",
      "    >>> res.hess_inv\n",
      "    array([[ 0.00749589,  0.01255155,  0.02396251,  0.04750988,  0.09495377],  # may vary\n",
      "           [ 0.01255155,  0.02510441,  0.04794055,  0.09502834,  0.18996269],\n",
      "           [ 0.02396251,  0.04794055,  0.09631614,  0.19092151,  0.38165151],\n",
      "           [ 0.04750988,  0.09502834,  0.19092151,  0.38341252,  0.7664427 ],\n",
      "           [ 0.09495377,  0.18996269,  0.38165151,  0.7664427,   1.53713523]])\n",
      "    \n",
      "    \n",
      "    Next, consider a minimization problem with several constraints (namely\n",
      "    Example 16.4 from [5]_). The objective function is:\n",
      "    \n",
      "    >>> fun = lambda x: (x[0] - 1)**2 + (x[1] - 2.5)**2\n",
      "    \n",
      "    There are three constraints defined as:\n",
      "    \n",
      "    >>> cons = ({'type': 'ineq', 'fun': lambda x:  x[0] - 2 * x[1] + 2},\n",
      "    ...         {'type': 'ineq', 'fun': lambda x: -x[0] - 2 * x[1] + 6},\n",
      "    ...         {'type': 'ineq', 'fun': lambda x: -x[0] + 2 * x[1] + 2})\n",
      "    \n",
      "    And variables must be positive, hence the following bounds:\n",
      "    \n",
      "    >>> bnds = ((0, None), (0, None))\n",
      "    \n",
      "    The optimization problem is solved using the SLSQP method as:\n",
      "    \n",
      "    >>> res = minimize(fun, (2, 0), method='SLSQP', bounds=bnds,\n",
      "    ...                constraints=cons)\n",
      "    \n",
      "    It should converge to the theoretical solution (1.4 ,1.7).\n"
     ]
    }
   ],
   "source": [
    "help(minimize)"
   ]
  },
  {
   "cell_type": "markdown",
   "metadata": {
    "hidden": true
   },
   "source": [
    "Эта функция имеет стандартный интерфейс: нужно передать callable объект, который вычисляет значение и градиент целевой функции, а также точку старта оптимизации — начальное приближение (одномерный `numpy`-массив). Поэтому нам понадобятся функции для сбора и задания всех весов нашей нейросети (именно для них мы всегда записывали параметры слоя в список `layer.params`)"
   ]
  },
  {
   "cell_type": "code",
   "execution_count": 29,
   "metadata": {
    "hidden": true,
    "ExecuteTime": {
     "end_time": "2024-02-28T16:58:53.797550Z",
     "start_time": "2024-02-28T16:58:53.691000900Z"
    }
   },
   "outputs": [],
   "source": [
    "def get_weights(network):\n",
    "    weights = []\n",
    "    for layer in network:\n",
    "        for param in layer.params:\n",
    "            weights += param.ravel().tolist()\n",
    "    return np.array(weights)\n",
    "\n",
    "\n",
    "def set_weights(weights, network):\n",
    "    i = 0\n",
    "    for layer in network:\n",
    "        for param in layer.params:\n",
    "            l = param.size\n",
    "            param[:] = weights[i:i+l].reshape(param.shape)\n",
    "            i += l"
   ]
  },
  {
   "cell_type": "markdown",
   "metadata": {
    "hidden": true
   },
   "source": [
    "Вам нужно реализовать ту самую функцию, которую мы будем передавать в `minimize`. Эта функция должна брать на вход текущую точку (вектор всех параметров), а также список дополнительных параметров (мы будем передавать через них нашу сеть и обучающие данные) и возвращать значение критерия качества (NLL) и его градиент по параметрам модели."
   ]
  },
  {
   "cell_type": "code",
   "execution_count": 30,
   "metadata": {
    "hidden": true,
    "ExecuteTime": {
     "end_time": "2024-02-28T16:58:54.915348500Z",
     "start_time": "2024-02-28T16:58:54.832315800Z"
    }
   },
   "outputs": [],
   "source": [
    "def compute_loss_grad(weights, args):\n",
    "    \"\"\"\n",
    "    takes current weights and computes cross-entropy and gradients\n",
    "    weights shape: [num_parameters]\n",
    "    output 1: loss (scalar)\n",
    "    output 2: gradint w.r.t. weights, shape: [num_parameters]\n",
    "    \n",
    "    hint: firstly perform forward pass through the whole network\n",
    "    then compute loss and its gradients\n",
    "    then perform backward pass, transmitting first baskward output\n",
    "    to the previos layer and saving second baskward output in a list\n",
    "    finally flatten all the gradients in this list\n",
    "    (in the order from the first to the last layer)\n",
    "    \n",
    "    Do not forget to set weights of the network!\n",
    "    \"\"\"\n",
    "    network, X, y = args\n",
    "    \n",
    "    set_weights(weights, network)\n",
    "    \n",
    "    activations = forward(network, X)\n",
    "    loss = NLL(activations, y)\n",
    "    \n",
    "    weights_grad_arrays = []\n",
    "    \n",
    "    d_loss_d_input = grad_NLL(activations, y)\n",
    "    for layer in reversed(network):\n",
    "        d_loss_d_input, d_loss_d_layer = layer.backward(d_loss_d_input)\n",
    "        if isinstance(layer, Dense):\n",
    "            # print(f\"{layer=}\\tdW shape = {d_loss_d_layer[0].shape}\\tdb shape = {d_loss_d_layer[1].shape}\")\n",
    "            # weights_grad += (np.sum(d_loss_d_layer[0], axis=0).ravel().tolist())\n",
    "            # weights_grad += (np.sum(d_loss_d_layer[1], axis=0).ravel().tolist())\n",
    "            weights_grad_arrays.append(np.sum(d_loss_d_layer[1], axis=0).ravel().tolist())\n",
    "            weights_grad_arrays.append(np.sum(d_loss_d_layer[0], axis=0).ravel().tolist())\n",
    "        else:\n",
    "            pass\n",
    "            # print(f\"{layer=}\")\n",
    "        # weights_grad += d_loss_d_layer\n",
    "    \n",
    "    weights_grad_arrays.reverse()\n",
    "    weights_grad = []\n",
    "    for wg in weights_grad_arrays:\n",
    "        weights_grad += wg\n",
    "    \n",
    "    # print(f\"Mean abs grad value: {np.mean(np.abs(weights_grad))}\\tMax abs grad value: {np.max(np.abs(weights_grad))}\")\n",
    "    # print(f\"Loss = {loss}\")\n",
    "    \n",
    "    return loss, np.array(weights_grad)"
   ]
  },
  {
   "cell_type": "markdown",
   "metadata": {
    "hidden": true
   },
   "source": [
    "Теперь мы готовы обучать нашу нейросеть. "
   ]
  },
  {
   "cell_type": "code",
   "execution_count": 31,
   "metadata": {
    "hidden": true,
    "ExecuteTime": {
     "end_time": "2024-02-28T16:58:55.742782200Z",
     "start_time": "2024-02-28T16:58:55.692494600Z"
    }
   },
   "outputs": [
    {
     "data": {
      "text/plain": "array([-0.01217283,  0.00159463, -0.00892788, ...,  0.        ,\n        0.        ,  0.        ])"
     },
     "execution_count": 31,
     "metadata": {},
     "output_type": "execute_result"
    }
   ],
   "source": [
    "network = make_network(input_size, hidden_layers_size, output_size, 3, ReLU)\n",
    "weights = get_weights(network)\n",
    "weights"
   ]
  },
  {
   "cell_type": "code",
   "execution_count": 32,
   "metadata": {
    "hidden": true,
    "ExecuteTime": {
     "end_time": "2024-02-28T16:58:59.155501100Z",
     "start_time": "2024-02-28T16:58:56.268294800Z"
    }
   },
   "outputs": [],
   "source": [
    "res = minimize(\n",
    "    compute_loss_grad, weights,       # fun and start point\n",
    "    args=[network, X_train, y_train], # args passed to fun\n",
    "    method=\"L-BFGS-B\",                # optimization method\n",
    "    jac=True,                         # says that gradient is computed in fun,\n",
    "    options={'disp': True},\n",
    "    tol=1e-6\n",
    ")"
   ]
  },
  {
   "cell_type": "code",
   "execution_count": 33,
   "metadata": {
    "hidden": true,
    "ExecuteTime": {
     "end_time": "2024-02-28T16:59:00.081490800Z",
     "start_time": "2024-02-28T16:58:59.975392700Z"
    }
   },
   "outputs": [
    {
     "data": {
      "text/plain": "dict_keys(['fun', 'jac', 'nfev', 'njev', 'nit', 'status', 'message', 'x', 'success', 'hess_inv'])"
     },
     "execution_count": 33,
     "metadata": {},
     "output_type": "execute_result"
    }
   ],
   "source": [
    "res.keys()"
   ]
  },
  {
   "cell_type": "code",
   "execution_count": 34,
   "metadata": {
    "hidden": true,
    "scrolled": true,
    "ExecuteTime": {
     "end_time": "2024-02-28T16:59:00.388151Z",
     "start_time": "2024-02-28T16:59:00.360714200Z"
    }
   },
   "outputs": [
    {
     "data": {
      "text/plain": "107"
     },
     "execution_count": 34,
     "metadata": {},
     "output_type": "execute_result"
    }
   ],
   "source": [
    "res[\"nit\"] # number of iterations (should be >> 10)"
   ]
  },
  {
   "cell_type": "code",
   "execution_count": 35,
   "metadata": {
    "hidden": true,
    "ExecuteTime": {
     "end_time": "2024-02-28T16:59:01.037025Z",
     "start_time": "2024-02-28T16:59:00.935480700Z"
    }
   },
   "outputs": [
    {
     "data": {
      "text/plain": "True"
     },
     "execution_count": 35,
     "metadata": {},
     "output_type": "execute_result"
    }
   ],
   "source": [
    "res[\"success\"] # should be True"
   ]
  },
  {
   "cell_type": "code",
   "outputs": [
    {
     "data": {
      "text/plain": "'CONVERGENCE: REL_REDUCTION_OF_F_<=_FACTR*EPSMCH'"
     },
     "execution_count": 36,
     "metadata": {},
     "output_type": "execute_result"
    }
   ],
   "source": [
    "res[\"message\"]"
   ],
   "metadata": {
    "collapsed": false,
    "ExecuteTime": {
     "end_time": "2024-02-28T16:59:01.527748500Z",
     "start_time": "2024-02-28T16:59:01.437241300Z"
    }
   },
   "execution_count": 36
  },
  {
   "cell_type": "code",
   "execution_count": 37,
   "metadata": {
    "hidden": true,
    "ExecuteTime": {
     "end_time": "2024-02-28T16:59:02.215782300Z",
     "start_time": "2024-02-28T16:59:02.112532500Z"
    }
   },
   "outputs": [
    {
     "data": {
      "text/plain": "array([-1.21728269e-02,  1.59462507e-03, -8.92787515e-03, ...,\n       -1.20743288e+00, -2.57884499e+00, -4.05903066e-01])"
     },
     "execution_count": 37,
     "metadata": {},
     "output_type": "execute_result"
    }
   ],
   "source": [
    "res[\"x\"] # leraned weights"
   ]
  },
  {
   "cell_type": "markdown",
   "metadata": {
    "hidden": true
   },
   "source": [
    "Выведите качество на обучении (`X_train`, `y_train`) и на контроле (`X_test`, `y_test`). Не забудьте установить веса!"
   ]
  },
  {
   "cell_type": "code",
   "outputs": [],
   "source": [
    "from sklearn.metrics import accuracy_score"
   ],
   "metadata": {
    "collapsed": false,
    "ExecuteTime": {
     "end_time": "2024-02-28T16:59:03.417644500Z",
     "start_time": "2024-02-28T16:59:03.321950800Z"
    }
   },
   "execution_count": 38
  },
  {
   "cell_type": "code",
   "outputs": [
    {
     "data": {
      "text/plain": "[Dense(64, 32), Relu(), Dense(32, 32), Relu(), Dense(32, 10), LogSoftmax()]"
     },
     "execution_count": 39,
     "metadata": {},
     "output_type": "execute_result"
    }
   ],
   "source": [
    "network"
   ],
   "metadata": {
    "collapsed": false,
    "ExecuteTime": {
     "end_time": "2024-02-28T16:59:04.621386100Z",
     "start_time": "2024-02-28T16:59:04.526971Z"
    }
   },
   "execution_count": 39
  },
  {
   "cell_type": "code",
   "execution_count": 40,
   "metadata": {
    "hidden": true,
    "ExecuteTime": {
     "end_time": "2024-02-28T16:59:05.452032600Z",
     "start_time": "2024-02-28T16:59:05.336519100Z"
    }
   },
   "outputs": [
    {
     "name": "stdout",
     "output_type": "stream",
     "text": [
      "Train NLL: 0.0000031\t\tTest NLL: 0.7393872\n",
      "Train accuracy: 1.000\t\tTest accuracy: 0.956\n"
     ]
    }
   ],
   "source": [
    "set_weights(weights=res[\"x\"], network=network)\n",
    "\n",
    "train_NLL = NLL(forward(network, X_train), y_train)\n",
    "test_NLL = NLL(forward(network, X_test), y_test)\n",
    "\n",
    "print(f\"Train NLL: {train_NLL:.7f}\\t\\tTest NLL: {test_NLL:.7f}\")\n",
    "\n",
    "train_accuracy = accuracy_score(y_true=y_train, y_pred=predict(network, X_train))\n",
    "test_accuracy = accuracy_score(y_true=y_test, y_pred=predict(network, X_test))\n",
    "\n",
    "print(f\"Train accuracy: {train_accuracy:.3f}\\t\\tTest accuracy: {test_accuracy:.3f}\")"
   ]
  },
  {
   "cell_type": "markdown",
   "metadata": {
    "hidden": true
   },
   "source": [
    "У `minimize` есть также аргумент `callback` — в нее можно передать функцию, которая будет вызываться после каждой итерации оптимизации. Такую функцию удобно оформить в виде метода класса, который будет сохранять качество на обучении контроле после каждой итерации. Реализуйте этот метод в классе `Callback`:"
   ]
  },
  {
   "cell_type": "code",
   "execution_count": 41,
   "metadata": {
    "hidden": true,
    "ExecuteTime": {
     "end_time": "2024-02-28T16:59:06.936179700Z",
     "start_time": "2024-02-28T16:59:06.892664600Z"
    }
   },
   "outputs": [],
   "source": [
    "class Callback:\n",
    "    def __init__(self, network, X_train, y_train, X_test, y_test, print=False):\n",
    "        self.network = network\n",
    "        self.X_train = X_train\n",
    "        self.X_test = X_test\n",
    "        self.y_train = y_train\n",
    "        self.y_test = y_test\n",
    "        self.print = print\n",
    "        self.train_acc = []\n",
    "        self.test_acc = []\n",
    "        self.train_NLL = []\n",
    "        self.test_NLL = []\n",
    "        \n",
    "    def call(self, weights):\n",
    "        \"\"\"\n",
    "        Computes quality on train and test set with given weights\n",
    "        and saves to self.train_acc and self.test_acc.\n",
    "        If self.print is True, also prints these 2 values\n",
    "        \"\"\"\n",
    "        \n",
    "        train_NLL = NLL(forward(network, X_train), y_train)\n",
    "        test_NLL = NLL(forward(network, X_test), y_test)\n",
    "        \n",
    "        train_accuracy = accuracy_score(y_true=y_train, y_pred=predict(network, X_train))\n",
    "        test_accuracy = accuracy_score(y_true=y_test, y_pred=predict(network, X_test))\n",
    "        \n",
    "        self.train_acc.append(train_accuracy)\n",
    "        self.test_acc.append(test_accuracy)\n",
    "        self.train_NLL.append(train_NLL)\n",
    "        self.test_NLL.append(test_NLL)\n",
    "        \n",
    "        if self.print:\n",
    "            print(f\"Train accuracy: {train_accuracy:.3f}\\t\\tTest accuracy: {test_accuracy:.3f}\")"
   ]
  },
  {
   "cell_type": "code",
   "execution_count": 42,
   "metadata": {
    "hidden": true,
    "ExecuteTime": {
     "end_time": "2024-02-28T16:59:10.295053600Z",
     "start_time": "2024-02-28T16:59:08.142238900Z"
    }
   },
   "outputs": [
    {
     "name": "stdout",
     "output_type": "stream",
     "text": [
      "Train accuracy: 0.106\t\tTest accuracy: 0.084\n",
      "Train accuracy: 0.106\t\tTest accuracy: 0.084\n",
      "Train accuracy: 0.106\t\tTest accuracy: 0.084\n",
      "Train accuracy: 0.131\t\tTest accuracy: 0.104\n",
      "Train accuracy: 0.328\t\tTest accuracy: 0.340\n",
      "Train accuracy: 0.321\t\tTest accuracy: 0.338\n",
      "Train accuracy: 0.395\t\tTest accuracy: 0.400\n",
      "Train accuracy: 0.410\t\tTest accuracy: 0.416\n",
      "Train accuracy: 0.493\t\tTest accuracy: 0.509\n",
      "Train accuracy: 0.566\t\tTest accuracy: 0.578\n",
      "Train accuracy: 0.638\t\tTest accuracy: 0.609\n",
      "Train accuracy: 0.687\t\tTest accuracy: 0.669\n",
      "Train accuracy: 0.710\t\tTest accuracy: 0.673\n",
      "Train accuracy: 0.696\t\tTest accuracy: 0.684\n",
      "Train accuracy: 0.710\t\tTest accuracy: 0.684\n",
      "Train accuracy: 0.722\t\tTest accuracy: 0.711\n",
      "Train accuracy: 0.714\t\tTest accuracy: 0.711\n",
      "Train accuracy: 0.728\t\tTest accuracy: 0.729\n",
      "Train accuracy: 0.753\t\tTest accuracy: 0.727\n",
      "Train accuracy: 0.759\t\tTest accuracy: 0.749\n",
      "Train accuracy: 0.790\t\tTest accuracy: 0.796\n",
      "Train accuracy: 0.801\t\tTest accuracy: 0.800\n",
      "Train accuracy: 0.835\t\tTest accuracy: 0.822\n",
      "Train accuracy: 0.842\t\tTest accuracy: 0.842\n",
      "Train accuracy: 0.845\t\tTest accuracy: 0.827\n",
      "Train accuracy: 0.852\t\tTest accuracy: 0.851\n",
      "Train accuracy: 0.860\t\tTest accuracy: 0.853\n",
      "Train accuracy: 0.852\t\tTest accuracy: 0.853\n",
      "Train accuracy: 0.871\t\tTest accuracy: 0.867\n",
      "Train accuracy: 0.898\t\tTest accuracy: 0.893\n",
      "Train accuracy: 0.899\t\tTest accuracy: 0.904\n",
      "Train accuracy: 0.910\t\tTest accuracy: 0.911\n",
      "Train accuracy: 0.909\t\tTest accuracy: 0.913\n",
      "Train accuracy: 0.915\t\tTest accuracy: 0.916\n",
      "Train accuracy: 0.927\t\tTest accuracy: 0.922\n",
      "Train accuracy: 0.932\t\tTest accuracy: 0.931\n",
      "Train accuracy: 0.942\t\tTest accuracy: 0.931\n",
      "Train accuracy: 0.944\t\tTest accuracy: 0.938\n",
      "Train accuracy: 0.947\t\tTest accuracy: 0.931\n",
      "Train accuracy: 0.944\t\tTest accuracy: 0.931\n",
      "Train accuracy: 0.943\t\tTest accuracy: 0.933\n",
      "Train accuracy: 0.952\t\tTest accuracy: 0.940\n",
      "Train accuracy: 0.958\t\tTest accuracy: 0.938\n",
      "Train accuracy: 0.961\t\tTest accuracy: 0.936\n",
      "Train accuracy: 0.964\t\tTest accuracy: 0.949\n",
      "Train accuracy: 0.964\t\tTest accuracy: 0.947\n",
      "Train accuracy: 0.968\t\tTest accuracy: 0.949\n",
      "Train accuracy: 0.970\t\tTest accuracy: 0.947\n",
      "Train accuracy: 0.972\t\tTest accuracy: 0.953\n",
      "Train accuracy: 0.976\t\tTest accuracy: 0.953\n",
      "Train accuracy: 0.977\t\tTest accuracy: 0.949\n",
      "Train accuracy: 0.980\t\tTest accuracy: 0.949\n",
      "Train accuracy: 0.979\t\tTest accuracy: 0.953\n",
      "Train accuracy: 0.981\t\tTest accuracy: 0.947\n",
      "Train accuracy: 0.984\t\tTest accuracy: 0.944\n",
      "Train accuracy: 0.987\t\tTest accuracy: 0.940\n",
      "Train accuracy: 0.987\t\tTest accuracy: 0.947\n",
      "Train accuracy: 0.988\t\tTest accuracy: 0.947\n",
      "Train accuracy: 0.990\t\tTest accuracy: 0.944\n",
      "Train accuracy: 0.990\t\tTest accuracy: 0.942\n",
      "Train accuracy: 0.993\t\tTest accuracy: 0.944\n",
      "Train accuracy: 0.991\t\tTest accuracy: 0.944\n",
      "Train accuracy: 0.993\t\tTest accuracy: 0.947\n",
      "Train accuracy: 0.993\t\tTest accuracy: 0.949\n",
      "Train accuracy: 0.993\t\tTest accuracy: 0.953\n",
      "Train accuracy: 0.994\t\tTest accuracy: 0.953\n",
      "Train accuracy: 0.996\t\tTest accuracy: 0.953\n",
      "Train accuracy: 0.995\t\tTest accuracy: 0.951\n",
      "Train accuracy: 0.996\t\tTest accuracy: 0.947\n",
      "Train accuracy: 0.997\t\tTest accuracy: 0.942\n",
      "Train accuracy: 0.997\t\tTest accuracy: 0.942\n",
      "Train accuracy: 0.998\t\tTest accuracy: 0.942\n",
      "Train accuracy: 0.999\t\tTest accuracy: 0.942\n",
      "Train accuracy: 0.999\t\tTest accuracy: 0.942\n",
      "Train accuracy: 0.999\t\tTest accuracy: 0.951\n",
      "Train accuracy: 1.000\t\tTest accuracy: 0.951\n",
      "Train accuracy: 1.000\t\tTest accuracy: 0.951\n",
      "Train accuracy: 1.000\t\tTest accuracy: 0.951\n",
      "Train accuracy: 1.000\t\tTest accuracy: 0.953\n",
      "Train accuracy: 1.000\t\tTest accuracy: 0.958\n",
      "Train accuracy: 1.000\t\tTest accuracy: 0.958\n",
      "Train accuracy: 1.000\t\tTest accuracy: 0.958\n",
      "Train accuracy: 1.000\t\tTest accuracy: 0.956\n",
      "Train accuracy: 1.000\t\tTest accuracy: 0.960\n",
      "Train accuracy: 1.000\t\tTest accuracy: 0.962\n",
      "Train accuracy: 1.000\t\tTest accuracy: 0.960\n",
      "Train accuracy: 1.000\t\tTest accuracy: 0.960\n",
      "Train accuracy: 1.000\t\tTest accuracy: 0.958\n",
      "Train accuracy: 1.000\t\tTest accuracy: 0.960\n",
      "Train accuracy: 1.000\t\tTest accuracy: 0.958\n",
      "Train accuracy: 1.000\t\tTest accuracy: 0.962\n",
      "Train accuracy: 1.000\t\tTest accuracy: 0.962\n",
      "Train accuracy: 1.000\t\tTest accuracy: 0.960\n",
      "Train accuracy: 1.000\t\tTest accuracy: 0.958\n",
      "Train accuracy: 1.000\t\tTest accuracy: 0.956\n",
      "Train accuracy: 1.000\t\tTest accuracy: 0.956\n",
      "Train accuracy: 1.000\t\tTest accuracy: 0.956\n",
      "Train accuracy: 1.000\t\tTest accuracy: 0.956\n",
      "Train accuracy: 1.000\t\tTest accuracy: 0.956\n",
      "Train accuracy: 1.000\t\tTest accuracy: 0.958\n",
      "Train accuracy: 1.000\t\tTest accuracy: 0.958\n",
      "Train accuracy: 1.000\t\tTest accuracy: 0.953\n",
      "Train accuracy: 1.000\t\tTest accuracy: 0.956\n",
      "Train accuracy: 1.000\t\tTest accuracy: 0.956\n",
      "Train accuracy: 1.000\t\tTest accuracy: 0.956\n",
      "Train accuracy: 1.000\t\tTest accuracy: 0.956\n",
      "Train accuracy: 1.000\t\tTest accuracy: 0.956\n",
      "Train accuracy: 1.000\t\tTest accuracy: 0.956\n",
      "Train accuracy: 1.000\t\tTest accuracy: 0.956\n",
      "Train accuracy: 1.000\t\tTest accuracy: 0.958\n",
      "Train accuracy: 1.000\t\tTest accuracy: 0.958\n",
      "Train accuracy: 1.000\t\tTest accuracy: 0.958\n",
      "Train accuracy: 1.000\t\tTest accuracy: 0.958\n"
     ]
    }
   ],
   "source": [
    "cb = Callback(network, X_train, y_train, X_test, y_test, print=True)\n",
    "\n",
    "res = minimize(\n",
    "    compute_loss_grad, weights,  \n",
    "    args=[network, X_train, y_train], \n",
    "    method=\"L-BFGS-B\",\n",
    "    jac=True,\n",
    "    callback=cb.call\n",
    ")"
   ]
  },
  {
   "cell_type": "markdown",
   "metadata": {
    "hidden": true
   },
   "source": [
    "Изобразите на графике кривую качества на обучени и контроле по итерациям:"
   ]
  },
  {
   "cell_type": "code",
   "execution_count": 43,
   "metadata": {
    "hidden": true,
    "ExecuteTime": {
     "end_time": "2024-02-28T16:59:32.905544Z",
     "start_time": "2024-02-28T16:59:32.774021500Z"
    }
   },
   "outputs": [
    {
     "data": {
      "text/plain": "<Figure size 1000x500 with 1 Axes>",
      "image/png": "[encoded data removed]"
     },
     "metadata": {},
     "output_type": "display_data"
    }
   ],
   "source": [
    "fig, ax = plt.subplots(1, 1, figsize=(10, 5))\n",
    "ax.plot(cb.train_acc, label=f\"train acc [{cb.train_acc[-1]:3.2f}]\")\n",
    "ax.plot(cb.test_acc, label=f\"test acc [{cb.test_acc[-1]:3.2f}]\")\n",
    "ax.set_xlabel(\"Iteration\")\n",
    "ax.set_ylabel(\"Accuracy\")\n",
    "ax.grid(True)\n",
    "ax.legend()\n",
    "\n",
    "fig.tight_layout()\n",
    "plt.show()"
   ]
  },
  {
   "cell_type": "markdown",
   "metadata": {
    "heading_collapsed": true,
    "hidden": true
   },
   "source": [
    "### `Эксперименты с числом слоев (0.6 балла)`"
   ]
  },
  {
   "cell_type": "markdown",
   "metadata": {
    "hidden": true
   },
   "source": [
    "Ясно, что из-за случайного начального приближения с каждым запуском обучения мы будем получать различное качество. Попробуем обучить нашу нейросеть с разным числом слоев несколько раз.\n",
    "\n",
    "Заполните матрицы `accs_train` и `accs_test`. В позиции `[i, j]` должна стоять величина доли правильных ответов сети с $i+1$ полносвязными слоями при $j$-м запуске (все запуски идентичны)."
   ]
  },
  {
   "cell_type": "code",
   "execution_count": 44,
   "outputs": [
    {
     "data": {
      "text/plain": "[Dense(64, 32), Relu(), Dense(32, 32), Relu(), Dense(32, 10), LogSoftmax()]"
     },
     "execution_count": 44,
     "metadata": {},
     "output_type": "execute_result"
    }
   ],
   "source": [
    "network"
   ],
   "metadata": {
    "collapsed": false,
    "ExecuteTime": {
     "end_time": "2024-02-28T16:59:34.727795500Z",
     "start_time": "2024-02-28T16:59:34.681034900Z"
    }
   }
  },
  {
   "cell_type": "code",
   "execution_count": 45,
   "outputs": [],
   "source": [
    "def train_network(network: List[Layer], history: bool = False, optimizer=\"L-BFGS-B\", options: dict = None, tol: float = 1e-7, cb_print: bool = False) -> List[Layer]:\n",
    "    cb = Callback(network, X_train, y_train, X_test, y_test, print=cb_print) if history else lambda *args: None\n",
    "    options = dict() if options is None else options\n",
    "\n",
    "    weights = get_weights(network)\n",
    "    res = minimize(\n",
    "        compute_loss_grad, weights,  \n",
    "        args=[network, X_train, y_train], \n",
    "        method=optimizer,\n",
    "        jac=True,\n",
    "        callback=cb.call,\n",
    "        options=options,\n",
    "        tol=tol\n",
    "    )\n",
    "    \n",
    "    if not res[\"success\"]:\n",
    "        raise RuntimeError(f\"Optimization failure: {res['message']}\")\n",
    "    \n",
    "    if history:\n",
    "        return network, cb\n",
    "    else:\n",
    "        return network"
   ],
   "metadata": {
    "collapsed": false,
    "ExecuteTime": {
     "end_time": "2024-02-28T16:59:35.319130400Z",
     "start_time": "2024-02-28T16:59:35.188618800Z"
    }
   }
  },
  {
   "cell_type": "code",
   "outputs": [],
   "source": [
    "accs_train = np.zeros((5, 15))\n",
    "accs_test = np.zeros_like(accs_train)"
   ],
   "metadata": {
    "collapsed": false,
    "ExecuteTime": {
     "end_time": "2024-02-28T16:59:36.803206400Z",
     "start_time": "2024-02-28T16:59:36.704057300Z"
    }
   },
   "execution_count": 46
  },
  {
   "cell_type": "code",
   "execution_count": 99,
   "metadata": {
    "hidden": true,
    "ExecuteTime": {
     "end_time": "2024-02-27T18:07:09.841717600Z",
     "start_time": "2024-02-27T18:05:02.398738700Z"
    }
   },
   "outputs": [
    {
     "name": "stdout",
     "output_type": "stream",
     "text": [
      "i= 0\tj= 0\tlayer_c=1\ttrain acc: 1.0000 test acc: 0.9422\n",
      "i= 0\tj= 1\tlayer_c=1\ttrain acc: 1.0000 test acc: 0.9489\n",
      "i= 0\tj= 2\tlayer_c=1\ttrain acc: 1.0000 test acc: 0.9489\n",
      "i= 0\tj= 3\tlayer_c=1\ttrain acc: 1.0000 test acc: 0.9511\n",
      "i= 0\tj= 4\tlayer_c=1\ttrain acc: 1.0000 test acc: 0.9533\n",
      "i= 0\tj= 5\tlayer_c=1\ttrain acc: 1.0000 test acc: 0.9422\n",
      "i= 0\tj= 6\tlayer_c=1\ttrain acc: 1.0000 test acc: 0.9556\n",
      "i= 0\tj= 7\tlayer_c=1\ttrain acc: 1.0000 test acc: 0.9356\n",
      "i= 0\tj= 8\tlayer_c=1\ttrain acc: 1.0000 test acc: 0.9489\n",
      "i= 0\tj= 9\tlayer_c=1\ttrain acc: 1.0000 test acc: 0.9467\n",
      "i= 0\tj=10\tlayer_c=1\ttrain acc: 1.0000 test acc: 0.9511\n",
      "i= 0\tj=11\tlayer_c=1\ttrain acc: 1.0000 test acc: 0.9356\n",
      "i= 0\tj=12\tlayer_c=1\ttrain acc: 1.0000 test acc: 0.9444\n",
      "i= 0\tj=13\tlayer_c=1\ttrain acc: 1.0000 test acc: 0.9467\n",
      "i= 0\tj=14\tlayer_c=1\ttrain acc: 1.0000 test acc: 0.9489\n",
      "i= 1\tj= 0\tlayer_c=2\ttrain acc: 1.0000 test acc: 0.9533\n",
      "i= 1\tj= 1\tlayer_c=2\ttrain acc: 1.0000 test acc: 0.9711\n",
      "i= 1\tj= 2\tlayer_c=2\ttrain acc: 1.0000 test acc: 0.9600\n",
      "i= 1\tj= 3\tlayer_c=2\ttrain acc: 1.0000 test acc: 0.9600\n",
      "i= 1\tj= 4\tlayer_c=2\ttrain acc: 1.0000 test acc: 0.9489\n",
      "i= 1\tj= 5\tlayer_c=2\ttrain acc: 1.0000 test acc: 0.9467\n",
      "i= 1\tj= 6\tlayer_c=2\ttrain acc: 1.0000 test acc: 0.9556\n",
      "i= 1\tj= 7\tlayer_c=2\ttrain acc: 1.0000 test acc: 0.9489\n",
      "i= 1\tj= 8\tlayer_c=2\ttrain acc: 1.0000 test acc: 0.9511\n",
      "i= 1\tj= 9\tlayer_c=2\ttrain acc: 1.0000 test acc: 0.9444\n",
      "i= 1\tj=10\tlayer_c=2\ttrain acc: 1.0000 test acc: 0.9644\n",
      "i= 1\tj=11\tlayer_c=2\ttrain acc: 1.0000 test acc: 0.9622\n",
      "i= 1\tj=12\tlayer_c=2\ttrain acc: 1.0000 test acc: 0.9511\n",
      "i= 1\tj=13\tlayer_c=2\ttrain acc: 1.0000 test acc: 0.9622\n",
      "i= 1\tj=14\tlayer_c=2\ttrain acc: 1.0000 test acc: 0.9556\n",
      "i= 2\tj= 0\tlayer_c=3\ttrain acc: 1.0000 test acc: 0.9622\n",
      "i= 2\tj= 1\tlayer_c=3\ttrain acc: 1.0000 test acc: 0.9444\n",
      "i= 2\tj= 2\tlayer_c=3\ttrain acc: 1.0000 test acc: 0.9533\n",
      "i= 2\tj= 3\tlayer_c=3\ttrain acc: 1.0000 test acc: 0.9533\n",
      "i= 2\tj= 4\tlayer_c=3\ttrain acc: 1.0000 test acc: 0.9600\n",
      "i= 2\tj= 5\tlayer_c=3\ttrain acc: 1.0000 test acc: 0.9400\n",
      "i= 2\tj= 6\tlayer_c=3\ttrain acc: 1.0000 test acc: 0.9578\n",
      "i= 2\tj= 7\tlayer_c=3\ttrain acc: 1.0000 test acc: 0.9600\n",
      "i= 2\tj= 8\tlayer_c=3\ttrain acc: 1.0000 test acc: 0.9378\n",
      "i= 2\tj= 9\tlayer_c=3\ttrain acc: 1.0000 test acc: 0.9444\n",
      "i= 2\tj=10\tlayer_c=3\ttrain acc: 1.0000 test acc: 0.9489\n",
      "i= 2\tj=11\tlayer_c=3\ttrain acc: 1.0000 test acc: 0.9489\n",
      "i= 2\tj=12\tlayer_c=3\ttrain acc: 1.0000 test acc: 0.9467\n",
      "i= 2\tj=13\tlayer_c=3\ttrain acc: 1.0000 test acc: 0.9511\n",
      "i= 2\tj=14\tlayer_c=3\ttrain acc: 1.0000 test acc: 0.9467\n",
      "i= 3\tj= 0\tlayer_c=4\ttrain acc: 1.0000 test acc: 0.9378\n",
      "i= 3\tj= 1\tlayer_c=4\ttrain acc: 1.0000 test acc: 0.9289\n",
      "i= 3\tj= 2\tlayer_c=4\ttrain acc: 1.0000 test acc: 0.9644\n",
      "i= 3\tj= 3\tlayer_c=4\ttrain acc: 1.0000 test acc: 0.9511\n",
      "i= 3\tj= 4\tlayer_c=4\ttrain acc: 1.0000 test acc: 0.9467\n",
      "i= 3\tj= 5\tlayer_c=4\ttrain acc: 1.0000 test acc: 0.9444\n",
      "i= 3\tj= 6\tlayer_c=4\ttrain acc: 1.0000 test acc: 0.9578\n",
      "i= 3\tj= 7\tlayer_c=4\ttrain acc: 1.0000 test acc: 0.9533\n",
      "i= 3\tj= 8\tlayer_c=4\ttrain acc: 1.0000 test acc: 0.9444\n",
      "i= 3\tj= 9\tlayer_c=4\ttrain acc: 1.0000 test acc: 0.9489\n",
      "i= 3\tj=10\tlayer_c=4\ttrain acc: 1.0000 test acc: 0.9467\n",
      "i= 3\tj=11\tlayer_c=4\ttrain acc: 1.0000 test acc: 0.9533\n",
      "i= 3\tj=12\tlayer_c=4\ttrain acc: 1.0000 test acc: 0.9489\n",
      "i= 3\tj=13\tlayer_c=4\ttrain acc: 1.0000 test acc: 0.9533\n",
      "i= 3\tj=14\tlayer_c=4\ttrain acc: 1.0000 test acc: 0.9489\n",
      "i= 4\tj= 0\tlayer_c=5\ttrain acc: 0.1062 test acc: 0.0844\n",
      "i= 4\tj= 1\tlayer_c=5\ttrain acc: 0.1062 test acc: 0.0844\n",
      "i= 4\tj= 2\tlayer_c=5\ttrain acc: 0.1062 test acc: 0.0844\n",
      "i= 4\tj= 3\tlayer_c=5\ttrain acc: 0.1062 test acc: 0.0844\n",
      "i= 4\tj= 4\tlayer_c=5\ttrain acc: 0.1062 test acc: 0.0844\n",
      "i= 4\tj= 5\tlayer_c=5\ttrain acc: 0.1062 test acc: 0.0844\n",
      "i= 4\tj= 6\tlayer_c=5\ttrain acc: 0.1062 test acc: 0.0844\n",
      "i= 4\tj= 7\tlayer_c=5\ttrain acc: 0.1062 test acc: 0.0844\n",
      "i= 4\tj= 8\tlayer_c=5\ttrain acc: 0.1062 test acc: 0.0844\n",
      "i= 4\tj= 9\tlayer_c=5\ttrain acc: 0.1062 test acc: 0.0844\n",
      "i= 4\tj=10\tlayer_c=5\ttrain acc: 0.1062 test acc: 0.0844\n",
      "i= 4\tj=11\tlayer_c=5\ttrain acc: 0.1062 test acc: 0.0844\n",
      "i= 4\tj=12\tlayer_c=5\ttrain acc: 0.1062 test acc: 0.0844\n",
      "i= 4\tj=13\tlayer_c=5\ttrain acc: 0.1062 test acc: 0.0844\n",
      "i= 4\tj=14\tlayer_c=5\ttrain acc: 0.1062 test acc: 0.0844\n"
     ]
    }
   ],
   "source": [
    "np.random.seed(42)\n",
    "\n",
    "for i, layer_c in zip(range(5), range(1, 5+1)):\n",
    "    for j in range(accs_train.shape[1]):\n",
    "        print(f\"{i=:2}\\t{j=:2}\\t{layer_c=}\\t\", end='')\n",
    "        network = make_network(input_size, 32, output_size, layer_c, ReLU)\n",
    "        network, cb = train_network(network, history=True)\n",
    "        \n",
    "        accs_train[i, j] = cb.train_acc[-1]\n",
    "        accs_test[i, j] = cb.test_acc[-1]\n",
    "        print(f\"train acc: {accs_train[i, j]:5.4f} test acc: {accs_test[i, j]:5.4f}\")"
   ]
  },
  {
   "cell_type": "markdown",
   "metadata": {
    "hidden": true
   },
   "source": [
    "Построим боксплоты полученного качества (горизонтальная линия в каждом столбце — среднее, прямоугольник показывает разброс)."
   ]
  },
  {
   "cell_type": "code",
   "execution_count": 100,
   "metadata": {
    "collapsed": true,
    "hidden": true,
    "ExecuteTime": {
     "end_time": "2024-02-27T18:07:20.557104300Z",
     "start_time": "2024-02-27T18:07:20.358075800Z"
    }
   },
   "outputs": [
    {
     "data": {
      "text/plain": "<Figure size 1000x800 with 2 Axes>",
      "image/png": "[encoded data removed]"
     },
     "metadata": {},
     "output_type": "display_data"
    }
   ],
   "source": [
    "fig, axes = plt.subplots(2, 1, figsize=(10, 8))\n",
    "\n",
    "axes[0].boxplot(accs_train.T, showfliers=False)\n",
    "axes[1].boxplot(accs_test.T, showfliers=False)\n",
    "\n",
    "axes[0].set_xlabel(\"Number of layers\")\n",
    "axes[1].set_xlabel(\"Number of layers\")\n",
    "\n",
    "axes[0].set_ylabel(\"Train accuracy\")\n",
    "axes[1].set_ylabel(\"Test accuracy\")\n",
    "\n",
    "axes[0].set_title(f\"Train quality in {accs_train.shape[1]} runs\")\n",
    "axes[1].set_title(f\"Test quality in {accs_train.shape[1]} runs\")\n",
    "\n",
    "axes[0].grid(True)\n",
    "axes[1].grid(True)\n",
    "\n",
    "fig.tight_layout()\n",
    "plt.show()"
   ]
  },
  {
   "cell_type": "markdown",
   "metadata": {
    "hidden": true
   },
   "source": [
    "Дайте развёрнутый ответ на вопросы (в этой же ячейке):\n",
    "* Как изменяются качество на обучении и контроле и устойчивость процесса обучения при увеличении числа слоев?\n",
    "* Можно ли сказать, что логистическая регрессия (линейная модель) дает качество хуже, чем нелинейная модель?\n",
    "\n",
    "__Ответы:__\n",
    "\n",
    "Линейная модель показывает худший результат среди изученных моделей. \n",
    "На обучающей выборке модели стабильно получают точность, сравнимую с 1.\n",
    "На валидационной выборке модели получают качество на несколько процентов хуже, чем на тренировочной. \n",
    "\n",
    "Оптимальное число слоев --- 3 или 4 слоя. \n",
    "При числе слоёв > 4 начинает усиляться переобучение"
   ]
  },
  {
   "cell_type": "markdown",
   "metadata": {
    "heading_collapsed": true,
    "hidden": true
   },
   "source": [
    "### `Эксперименты c различными инициализациями весов (0.6 балла)`"
   ]
  },
  {
   "cell_type": "markdown",
   "metadata": {
    "hidden": true
   },
   "source": [
    "Как уже было сказано, начальная инициализация весов нейронной сети может сильно влиять на процесс ее обучения и, как следствие, на ее качество.\n",
    "\n",
    "В этом пункте вам предлагается попробовать обучить несколько нейронных сетей с различными инициализациями слоев.\n",
    "\n",
    "Для этого необходимо реализовать функцию, инициализирующую веса линейных слоёв нашей нейронной сети. Добавьте в функционал данного метода возможность инициализировать его веса с помощью инициализации Kaiming (используется, если в нейронной сети в качестве функций активации используется ReLU) и инициализации Xavier (используется, если в нейронной сети в качестве функций активации используется Tanh или Sigmoid):"
   ]
  },
  {
   "cell_type": "code",
   "execution_count": 52,
   "metadata": {
    "code_folding": [],
    "hidden": true,
    "ExecuteTime": {
     "end_time": "2024-02-28T17:00:03.439724900Z",
     "start_time": "2024-02-28T17:00:03.360667600Z"
    }
   },
   "outputs": [],
   "source": [
    "def initialize_network(network, initialization):\n",
    "    for layer in network:\n",
    "        if isinstance(layer, Dense):\n",
    "            input_units, output_units = layer.weights.shape\n",
    "            if initialization == 'Kaiming':\n",
    "                sigma = 2 / layer.weights.shape[0]\n",
    "                layer.weights = np.random.normal(loc=0, scale=sigma, size=layer.weights.shape)\n",
    "                \n",
    "            elif initialization == 'Xavier':\n",
    "                sigma = np.sqrt(2 / (layer.weights.shape[0] + layer.weights.shape[1]))\n",
    "                layer.weights = np.random.normal(loc=0, scale=sigma, size=layer.weights.shape)\n",
    "                \n",
    "            else:\n",
    "                # Initialize weights with small random numbers from normal distribution.\n",
    "                # In this case `initialization` represents a standard deviation\n",
    "                # for normal distribution.\n",
    "                layer.weights = np.random.randn(input_units, output_units) * initialization\n",
    "                \n",
    "            layer.biases = np.zeros_like(layer.biases)\n",
    "            \n",
    "            layer.params = [layer.weights, layer.biases]"
   ]
  },
  {
   "cell_type": "markdown",
   "metadata": {
    "hidden": true
   },
   "source": [
    "Теперь попробуйте для каждой из 3 инициализаций обучить нейронную сеть несколько раз. Попробуйте проделать данную операцию при зафиксированном числе слоев равным 3, 4 и 5."
   ]
  },
  {
   "cell_type": "markdown",
   "metadata": {
    "heading_collapsed": true,
    "hidden": true
   },
   "source": [
    "#### `3 слоя`\n",
    "\n",
    "Зафиксируйте в сети число слоев равное трем."
   ]
  },
  {
   "cell_type": "markdown",
   "metadata": {
    "hidden": true
   },
   "source": [
    "Заполните матрицы `accs_train` и `accs_test`. В позиции `[i, j]` должна стоять величина доли правильных ответов сети при $j$-м запуске (все запуски идентичны) с инициализацией Kaiming при $i = 3$, с инициализацией Xavier при $i = 4$ и с инициализацией из нормального распределения с фиксированными параметрами при $0 \\leqslant i \\leqslant 2$ (попробуйте здесь 3 разных параметра для стандартного отклонения для нормального распределения, например: `1e-3`, `1e-2`, `1e-1`). Заметьте, что при большом числе слоев слишком низкое стандартное отклонение может не давать нейронной сети нормально обучиться."
   ]
  },
  {
   "cell_type": "code",
   "execution_count": 102,
   "metadata": {
    "hidden": true,
    "ExecuteTime": {
     "end_time": "2024-02-27T18:07:33.589532900Z",
     "start_time": "2024-02-27T18:07:33.535533300Z"
    }
   },
   "outputs": [],
   "source": [
    "init_vars = [1e-3, 1e-2, 1e-1, 'Kaiming', 'Xavier']"
   ]
  },
  {
   "cell_type": "code",
   "execution_count": 103,
   "metadata": {
    "hidden": true,
    "ExecuteTime": {
     "end_time": "2024-02-27T18:07:47.264331700Z",
     "start_time": "2024-02-27T18:07:47.086333200Z"
    }
   },
   "outputs": [],
   "source": [
    "accs_train = np.zeros((5, 15))\n",
    "accs_test = np.zeros_like(accs_test)"
   ]
  },
  {
   "cell_type": "code",
   "execution_count": 105,
   "metadata": {
    "hidden": true,
    "ExecuteTime": {
     "end_time": "2024-02-27T18:10:30.596437600Z",
     "start_time": "2024-02-27T18:08:18.947404100Z"
    }
   },
   "outputs": [
    {
     "name": "stdout",
     "output_type": "stream",
     "text": [
      "i= 0\tj= 0\tinitialization=0.001\ttrain acc: 1.0000 test acc: 0.9422\n",
      "i= 0\tj= 1\tinitialization=0.001\ttrain acc: 1.0000 test acc: 0.9578\n",
      "i= 0\tj= 2\tinitialization=0.001\ttrain acc: 0.1656 test acc: 0.1711\n",
      "i= 0\tj= 3\tinitialization=0.001\ttrain acc: 0.2613 test acc: 0.2311\n",
      "i= 0\tj= 4\tinitialization=0.001\ttrain acc: 1.0000 test acc: 0.9578\n",
      "i= 0\tj= 5\tinitialization=0.001\ttrain acc: 1.0000 test acc: 0.9556\n",
      "i= 0\tj= 6\tinitialization=0.001\ttrain acc: 1.0000 test acc: 0.9467\n",
      "i= 0\tj= 7\tinitialization=0.001\ttrain acc: 1.0000 test acc: 0.9511\n",
      "i= 0\tj= 8\tinitialization=0.001\ttrain acc: 1.0000 test acc: 0.9533\n",
      "i= 0\tj= 9\tinitialization=0.001\ttrain acc: 0.1529 test acc: 0.1378\n",
      "i= 0\tj=10\tinitialization=0.001\ttrain acc: 1.0000 test acc: 0.9489\n",
      "i= 0\tj=11\tinitialization=0.001\ttrain acc: 0.1500 test acc: 0.1444\n",
      "i= 0\tj=12\tinitialization=0.001\ttrain acc: 1.0000 test acc: 0.9600\n",
      "i= 0\tj=13\tinitialization=0.001\ttrain acc: 0.1047 test acc: 0.0822\n",
      "i= 0\tj=14\tinitialization=0.001\ttrain acc: 1.0000 test acc: 0.9556\n",
      "i= 1\tj= 0\tinitialization=0.01\ttrain acc: 1.0000 test acc: 0.9556\n",
      "i= 1\tj= 1\tinitialization=0.01\ttrain acc: 1.0000 test acc: 0.9600\n",
      "i= 1\tj= 2\tinitialization=0.01\ttrain acc: 1.0000 test acc: 0.9667\n",
      "i= 1\tj= 3\tinitialization=0.01\ttrain acc: 1.0000 test acc: 0.9489\n",
      "i= 1\tj= 4\tinitialization=0.01\ttrain acc: 1.0000 test acc: 0.9444\n",
      "i= 1\tj= 5\tinitialization=0.01\ttrain acc: 1.0000 test acc: 0.9444\n",
      "i= 1\tj= 6\tinitialization=0.01\ttrain acc: 1.0000 test acc: 0.9511\n",
      "i= 1\tj= 7\tinitialization=0.01\ttrain acc: 1.0000 test acc: 0.9422\n",
      "i= 1\tj= 8\tinitialization=0.01\ttrain acc: 1.0000 test acc: 0.9444\n",
      "i= 1\tj= 9\tinitialization=0.01\ttrain acc: 1.0000 test acc: 0.9578\n",
      "i= 1\tj=10\tinitialization=0.01\ttrain acc: 1.0000 test acc: 0.9533\n",
      "i= 1\tj=11\tinitialization=0.01\ttrain acc: 1.0000 test acc: 0.9644\n",
      "i= 1\tj=12\tinitialization=0.01\ttrain acc: 1.0000 test acc: 0.9467\n",
      "i= 1\tj=13\tinitialization=0.01\ttrain acc: 1.0000 test acc: 0.9556\n",
      "i= 1\tj=14\tinitialization=0.01\ttrain acc: 1.0000 test acc: 0.9400\n",
      "i= 2\tj= 0\tinitialization=0.1\ttrain acc: 1.0000 test acc: 0.9600\n",
      "i= 2\tj= 1\tinitialization=0.1\ttrain acc: 1.0000 test acc: 0.9467\n",
      "i= 2\tj= 2\tinitialization=0.1\ttrain acc: 1.0000 test acc: 0.9578\n",
      "i= 2\tj= 3\tinitialization=0.1\ttrain acc: 1.0000 test acc: 0.9533\n",
      "i= 2\tj= 4\tinitialization=0.1\ttrain acc: 1.0000 test acc: 0.9422\n",
      "i= 2\tj= 5\tinitialization=0.1\ttrain acc: 1.0000 test acc: 0.9578\n",
      "i= 2\tj= 6\tinitialization=0.1\ttrain acc: 1.0000 test acc: 0.9444\n",
      "i= 2\tj= 7\tinitialization=0.1\ttrain acc: 1.0000 test acc: 0.9511\n",
      "i= 2\tj= 8\tinitialization=0.1\ttrain acc: 1.0000 test acc: 0.9533\n",
      "i= 2\tj= 9\tinitialization=0.1\ttrain acc: 1.0000 test acc: 0.9556\n",
      "i= 2\tj=10\tinitialization=0.1\ttrain acc: 1.0000 test acc: 0.9667\n",
      "i= 2\tj=11\tinitialization=0.1\ttrain acc: 1.0000 test acc: 0.9600\n",
      "i= 2\tj=12\tinitialization=0.1\ttrain acc: 1.0000 test acc: 0.9556\n",
      "i= 2\tj=13\tinitialization=0.1\ttrain acc: 1.0000 test acc: 0.9378\n",
      "i= 2\tj=14\tinitialization=0.1\ttrain acc: 1.0000 test acc: 0.9667\n",
      "i= 3\tj= 0\tinitialization='Kaiming'\ttrain acc: 1.0000 test acc: 0.9733\n",
      "i= 3\tj= 1\tinitialization='Kaiming'\ttrain acc: 1.0000 test acc: 0.9444\n",
      "i= 3\tj= 2\tinitialization='Kaiming'\ttrain acc: 1.0000 test acc: 0.9600\n",
      "i= 3\tj= 3\tinitialization='Kaiming'\ttrain acc: 1.0000 test acc: 0.9622\n",
      "i= 3\tj= 4\tinitialization='Kaiming'\ttrain acc: 1.0000 test acc: 0.9489\n",
      "i= 3\tj= 5\tinitialization='Kaiming'\ttrain acc: 1.0000 test acc: 0.9422\n",
      "i= 3\tj= 6\tinitialization='Kaiming'\ttrain acc: 1.0000 test acc: 0.9644\n",
      "i= 3\tj= 7\tinitialization='Kaiming'\ttrain acc: 1.0000 test acc: 0.9622\n",
      "i= 3\tj= 8\tinitialization='Kaiming'\ttrain acc: 1.0000 test acc: 0.9511\n",
      "i= 3\tj= 9\tinitialization='Kaiming'\ttrain acc: 1.0000 test acc: 0.9556\n",
      "i= 3\tj=10\tinitialization='Kaiming'\ttrain acc: 1.0000 test acc: 0.9578\n",
      "i= 3\tj=11\tinitialization='Kaiming'\ttrain acc: 1.0000 test acc: 0.9444\n",
      "i= 3\tj=12\tinitialization='Kaiming'\ttrain acc: 1.0000 test acc: 0.9578\n",
      "i= 3\tj=13\tinitialization='Kaiming'\ttrain acc: 1.0000 test acc: 0.9444\n",
      "i= 3\tj=14\tinitialization='Kaiming'\ttrain acc: 1.0000 test acc: 0.9533\n",
      "i= 4\tj= 0\tinitialization='Xavier'\ttrain acc: 1.0000 test acc: 0.9600\n",
      "i= 4\tj= 1\tinitialization='Xavier'\ttrain acc: 1.0000 test acc: 0.9600\n",
      "i= 4\tj= 2\tinitialization='Xavier'\ttrain acc: 1.0000 test acc: 0.9600\n",
      "i= 4\tj= 3\tinitialization='Xavier'\ttrain acc: 1.0000 test acc: 0.9556\n",
      "i= 4\tj= 4\tinitialization='Xavier'\ttrain acc: 1.0000 test acc: 0.9533\n",
      "i= 4\tj= 5\tinitialization='Xavier'\ttrain acc: 1.0000 test acc: 0.9667\n",
      "i= 4\tj= 6\tinitialization='Xavier'\ttrain acc: 1.0000 test acc: 0.9622\n",
      "i= 4\tj= 7\tinitialization='Xavier'\ttrain acc: 1.0000 test acc: 0.9689\n",
      "i= 4\tj= 8\tinitialization='Xavier'\ttrain acc: 1.0000 test acc: 0.9600\n",
      "i= 4\tj= 9\tinitialization='Xavier'\ttrain acc: 1.0000 test acc: 0.9533\n",
      "i= 4\tj=10\tinitialization='Xavier'\ttrain acc: 1.0000 test acc: 0.9556\n",
      "i= 4\tj=11\tinitialization='Xavier'\ttrain acc: 1.0000 test acc: 0.9578\n",
      "i= 4\tj=12\tinitialization='Xavier'\ttrain acc: 1.0000 test acc: 0.9667\n",
      "i= 4\tj=13\tinitialization='Xavier'\ttrain acc: 1.0000 test acc: 0.9711\n",
      "i= 4\tj=14\tinitialization='Xavier'\ttrain acc: 1.0000 test acc: 0.9556\n"
     ]
    }
   ],
   "source": [
    "np.random.seed(42)\n",
    "layer_c = 3\n",
    "\n",
    "for i, initialization in enumerate(init_vars):\n",
    "    for j in range(accs_train.shape[1]):\n",
    "        print(f\"{i=:2}\\t{j=:2}\\t{initialization=}\\t\", end='')\n",
    "        network = make_network(input_size, 32, output_size, layer_c, ReLU)\n",
    "        initialize_network(network, initialization)\n",
    "        network, cb = train_network(network, history=True)\n",
    "        \n",
    "        accs_train[i, j] = cb.train_acc[-1]\n",
    "        accs_test[i, j] = cb.test_acc[-1]\n",
    "        print(f\"train acc: {accs_train[i, j]:5.4f} test acc: {accs_test[i, j]:5.4f}\")"
   ]
  },
  {
   "cell_type": "markdown",
   "metadata": {
    "hidden": true
   },
   "source": [
    "Построим боксплоты полученного качества (горизонтальная линия в каждом столбце — среднее, прямоугольник показывает разброс)."
   ]
  },
  {
   "cell_type": "code",
   "execution_count": 106,
   "metadata": {
    "hidden": true,
    "scrolled": false,
    "ExecuteTime": {
     "end_time": "2024-02-27T18:10:34.670547300Z",
     "start_time": "2024-02-27T18:10:34.544681900Z"
    }
   },
   "outputs": [
    {
     "data": {
      "text/plain": "<Figure size 1000x500 with 1 Axes>",
      "image/png": "[encoded data removed]"
     },
     "metadata": {},
     "output_type": "display_data"
    }
   ],
   "source": [
    "init_vars_for_plot = [(x if isinstance(x, str) else fr\"$\\sigma = {x}$\") for x in init_vars]\n",
    "\n",
    "fig, ax = plt.subplots(1, 1, figsize=(10, 5))\n",
    "\n",
    "ax.boxplot(accs_test.T, labels=init_vars_for_plot, showfliers=False)\n",
    "\n",
    "ax.set_title(f\"Test quality in {accs_test.shape[1]} runs\")\n",
    "ax.set_xlabel(\"Initialization\")\n",
    "ax.set_ylabel(\"Test accuracy\")\n",
    "ax.grid(True)\n",
    "\n",
    "fig.tight_layout()\n",
    "plt.show()"
   ]
  },
  {
   "cell_type": "markdown",
   "metadata": {
    "heading_collapsed": true,
    "hidden": true
   },
   "source": [
    "#### `4 слоя`\n",
    "\n",
    "Выполните тут тот же код, что и в предыдущем пункте, но только уже с 4 слоями в сети."
   ]
  },
  {
   "cell_type": "code",
   "execution_count": 109,
   "metadata": {
    "hidden": true,
    "ExecuteTime": {
     "end_time": "2024-02-27T18:11:21.587934500Z",
     "start_time": "2024-02-27T18:11:21.403192300Z"
    }
   },
   "outputs": [],
   "source": [
    "init_vars = [5e-3, 1e-2, 1e-1, 'Kaiming', 'Xavier']"
   ]
  },
  {
   "cell_type": "code",
   "execution_count": 110,
   "metadata": {
    "hidden": true,
    "ExecuteTime": {
     "end_time": "2024-02-27T18:11:22.139849700Z",
     "start_time": "2024-02-27T18:11:22.056813Z"
    }
   },
   "outputs": [],
   "source": [
    "accs_train = np.zeros((5, 15))\n",
    "accs_test = np.zeros_like(accs_train)"
   ]
  },
  {
   "cell_type": "code",
   "execution_count": 114,
   "metadata": {
    "hidden": true,
    "ExecuteTime": {
     "end_time": "2024-02-27T18:17:32.605625400Z",
     "start_time": "2024-02-27T18:13:43.990937400Z"
    }
   },
   "outputs": [
    {
     "name": "stdout",
     "output_type": "stream",
     "text": [
      "i= 0\tj= 0\tinitialization=0.005\ttrain acc: 0.1062 test acc: 0.0844\n",
      "i= 0\tj= 1\tinitialization=0.005\ttrain acc: 0.1062 test acc: 0.0844\n",
      "i= 0\tj= 2\tinitialization=0.005\ttrain acc: 0.0987 test acc: 0.0978\n",
      "i= 0\tj= 3\tinitialization=0.005\ttrain acc: 1.0000 test acc: 0.9578\n",
      "i= 0\tj= 4\tinitialization=0.005\ttrain acc: 0.1062 test acc: 0.0844\n",
      "i= 0\tj= 5\tinitialization=0.005\ttrain acc: 0.1062 test acc: 0.0844\n",
      "i= 0\tj= 6\tinitialization=0.005\ttrain acc: 0.1544 test acc: 0.1378\n",
      "i= 0\tj= 7\tinitialization=0.005\ttrain acc: 0.1062 test acc: 0.0844\n",
      "i= 0\tj= 8\tinitialization=0.005\ttrain acc: 1.0000 test acc: 0.9556\n",
      "i= 0\tj= 9\tinitialization=0.005\ttrain acc: 0.1062 test acc: 0.0844\n",
      "i= 0\tj=10\tinitialization=0.005\ttrain acc: 0.1062 test acc: 0.0844\n",
      "i= 0\tj=11\tinitialization=0.005\ttrain acc: 1.0000 test acc: 0.9467\n",
      "i= 0\tj=12\tinitialization=0.005\ttrain acc: 1.0000 test acc: 0.9489\n",
      "i= 0\tj=13\tinitialization=0.005\ttrain acc: 0.0987 test acc: 0.0978\n",
      "i= 0\tj=14\tinitialization=0.005\ttrain acc: 1.0000 test acc: 0.9333\n",
      "i= 1\tj= 0\tinitialization=0.01\ttrain acc: 1.0000 test acc: 0.9489\n",
      "i= 1\tj= 1\tinitialization=0.01\ttrain acc: 1.0000 test acc: 0.9622\n",
      "i= 1\tj= 2\tinitialization=0.01\ttrain acc: 1.0000 test acc: 0.9467\n",
      "i= 1\tj= 3\tinitialization=0.01\ttrain acc: 1.0000 test acc: 0.9444\n",
      "i= 1\tj= 4\tinitialization=0.01\ttrain acc: 1.0000 test acc: 0.9489\n",
      "i= 1\tj= 5\tinitialization=0.01\ttrain acc: 1.0000 test acc: 0.9489\n",
      "i= 1\tj= 6\tinitialization=0.01\ttrain acc: 1.0000 test acc: 0.9556\n",
      "i= 1\tj= 7\tinitialization=0.01\ttrain acc: 1.0000 test acc: 0.9378\n",
      "i= 1\tj= 8\tinitialization=0.01\ttrain acc: 1.0000 test acc: 0.9511\n",
      "i= 1\tj= 9\tinitialization=0.01\ttrain acc: 1.0000 test acc: 0.9356\n",
      "i= 1\tj=10\tinitialization=0.01\ttrain acc: 1.0000 test acc: 0.9222\n",
      "i= 1\tj=11\tinitialization=0.01\ttrain acc: 1.0000 test acc: 0.9511\n",
      "i= 1\tj=12\tinitialization=0.01\ttrain acc: 1.0000 test acc: 0.9422\n",
      "i= 1\tj=13\tinitialization=0.01\ttrain acc: 1.0000 test acc: 0.9556\n",
      "i= 1\tj=14\tinitialization=0.01\ttrain acc: 1.0000 test acc: 0.9422\n",
      "i= 2\tj= 0\tinitialization=0.1\ttrain acc: 1.0000 test acc: 0.9556\n",
      "i= 2\tj= 1\tinitialization=0.1\ttrain acc: 1.0000 test acc: 0.9689\n",
      "i= 2\tj= 2\tinitialization=0.1\ttrain acc: 1.0000 test acc: 0.9622\n",
      "i= 2\tj= 3\tinitialization=0.1\ttrain acc: 1.0000 test acc: 0.9556\n",
      "i= 2\tj= 4\tinitialization=0.1\ttrain acc: 1.0000 test acc: 0.9556\n",
      "i= 2\tj= 5\tinitialization=0.1\ttrain acc: 1.0000 test acc: 0.9556\n",
      "i= 2\tj= 6\tinitialization=0.1\ttrain acc: 1.0000 test acc: 0.9644\n",
      "i= 2\tj= 7\tinitialization=0.1\ttrain acc: 1.0000 test acc: 0.9622\n",
      "i= 2\tj= 8\tinitialization=0.1\ttrain acc: 1.0000 test acc: 0.9489\n",
      "i= 2\tj= 9\tinitialization=0.1\ttrain acc: 1.0000 test acc: 0.9622\n",
      "i= 2\tj=10\tinitialization=0.1\ttrain acc: 1.0000 test acc: 0.9578\n",
      "i= 2\tj=11\tinitialization=0.1\ttrain acc: 1.0000 test acc: 0.9600\n",
      "i= 2\tj=12\tinitialization=0.1\ttrain acc: 1.0000 test acc: 0.9644\n",
      "i= 2\tj=13\tinitialization=0.1\ttrain acc: 1.0000 test acc: 0.9467\n",
      "i= 2\tj=14\tinitialization=0.1\ttrain acc: 1.0000 test acc: 0.9622\n",
      "i= 3\tj= 0\tinitialization='Kaiming'\ttrain acc: 1.0000 test acc: 0.9444\n",
      "i= 3\tj= 1\tinitialization='Kaiming'\ttrain acc: 1.0000 test acc: 0.9644\n",
      "i= 3\tj= 2\tinitialization='Kaiming'\ttrain acc: 1.0000 test acc: 0.9600\n",
      "i= 3\tj= 3\tinitialization='Kaiming'\ttrain acc: 1.0000 test acc: 0.9556\n",
      "i= 3\tj= 4\tinitialization='Kaiming'\ttrain acc: 1.0000 test acc: 0.9489\n",
      "i= 3\tj= 5\tinitialization='Kaiming'\ttrain acc: 1.0000 test acc: 0.9556\n",
      "i= 3\tj= 6\tinitialization='Kaiming'\ttrain acc: 1.0000 test acc: 0.9511\n",
      "i= 3\tj= 7\tinitialization='Kaiming'\ttrain acc: 1.0000 test acc: 0.9533\n",
      "i= 3\tj= 8\tinitialization='Kaiming'\ttrain acc: 1.0000 test acc: 0.9556\n",
      "i= 3\tj= 9\tinitialization='Kaiming'\ttrain acc: 1.0000 test acc: 0.9622\n",
      "i= 3\tj=10\tinitialization='Kaiming'\ttrain acc: 1.0000 test acc: 0.9467\n",
      "i= 3\tj=11\tinitialization='Kaiming'\ttrain acc: 1.0000 test acc: 0.9511\n",
      "i= 3\tj=12\tinitialization='Kaiming'\ttrain acc: 1.0000 test acc: 0.9556\n",
      "i= 3\tj=13\tinitialization='Kaiming'\ttrain acc: 1.0000 test acc: 0.9600\n",
      "i= 3\tj=14\tinitialization='Kaiming'\ttrain acc: 1.0000 test acc: 0.9622\n",
      "i= 4\tj= 0\tinitialization='Xavier'\ttrain acc: 1.0000 test acc: 0.9644\n",
      "i= 4\tj= 1\tinitialization='Xavier'\ttrain acc: 1.0000 test acc: 0.9600\n",
      "i= 4\tj= 2\tinitialization='Xavier'\ttrain acc: 1.0000 test acc: 0.9467\n",
      "i= 4\tj= 3\tinitialization='Xavier'\ttrain acc: 1.0000 test acc: 0.9511\n",
      "i= 4\tj= 4\tinitialization='Xavier'\ttrain acc: 1.0000 test acc: 0.9422\n",
      "i= 4\tj= 5\tinitialization='Xavier'\ttrain acc: 1.0000 test acc: 0.9600\n",
      "i= 4\tj= 6\tinitialization='Xavier'\ttrain acc: 1.0000 test acc: 0.9556\n",
      "i= 4\tj= 7\tinitialization='Xavier'\ttrain acc: 1.0000 test acc: 0.9511\n",
      "i= 4\tj= 8\tinitialization='Xavier'\ttrain acc: 1.0000 test acc: 0.9511\n",
      "i= 4\tj= 9\tinitialization='Xavier'\ttrain acc: 1.0000 test acc: 0.9489\n",
      "i= 4\tj=10\tinitialization='Xavier'\ttrain acc: 1.0000 test acc: 0.9644\n",
      "i= 4\tj=11\tinitialization='Xavier'\ttrain acc: 1.0000 test acc: 0.9556\n",
      "i= 4\tj=12\tinitialization='Xavier'\ttrain acc: 1.0000 test acc: 0.9644\n",
      "i= 4\tj=13\tinitialization='Xavier'\ttrain acc: 1.0000 test acc: 0.9533\n",
      "i= 4\tj=14\tinitialization='Xavier'\ttrain acc: 1.0000 test acc: 0.9689\n"
     ]
    }
   ],
   "source": [
    "np.random.seed(42)\n",
    "layer_c = 4\n",
    "\n",
    "for i, initialization in enumerate(init_vars):\n",
    "    for j in range(accs_train.shape[1]):\n",
    "        print(f\"{i=:2}\\t{j=:2}\\t{initialization=}\\t\", end='')\n",
    "        network = make_network(input_size, 32, output_size, layer_c, ReLU)\n",
    "        initialize_network(network, initialization)\n",
    "        network, cb = train_network(network, history=True)\n",
    "        \n",
    "        accs_train[i, j] = cb.train_acc[-1]\n",
    "        accs_test[i, j] = cb.test_acc[-1]\n",
    "        print(f\"train acc: {accs_train[i, j]:5.4f} test acc: {accs_test[i, j]:5.4f}\")"
   ]
  },
  {
   "cell_type": "markdown",
   "metadata": {
    "hidden": true
   },
   "source": [
    "Построим боксплоты полученного качества (горизонтальная линия в каждом столбце — среднее, прямоугольник показывает разброс)."
   ]
  },
  {
   "cell_type": "code",
   "execution_count": 115,
   "metadata": {
    "hidden": true,
    "scrolled": false,
    "ExecuteTime": {
     "end_time": "2024-02-27T18:17:32.726270400Z",
     "start_time": "2024-02-27T18:17:32.602626400Z"
    }
   },
   "outputs": [
    {
     "data": {
      "text/plain": "<Figure size 1000x500 with 1 Axes>",
      "image/png": "[encoded data removed]"
     },
     "metadata": {},
     "output_type": "display_data"
    }
   ],
   "source": [
    "init_vars_for_plot = [(x if isinstance(x, str) else fr\"$\\sigma = {x}$\") for x in init_vars]\n",
    "\n",
    "fig, ax = plt.subplots(1, 1, figsize=(10, 5))\n",
    "\n",
    "ax.boxplot(accs_test.T, labels=init_vars_for_plot, showfliers=False)\n",
    "\n",
    "ax.set_title(f\"Test quality in {accs_test.shape[1]} runs\")\n",
    "ax.set_xlabel(\"Initialization\")\n",
    "ax.set_ylabel(\"Test accuracy\")\n",
    "ax.grid(True)\n",
    "\n",
    "fig.tight_layout()\n",
    "plt.show()"
   ]
  },
  {
   "cell_type": "markdown",
   "metadata": {
    "heading_collapsed": true,
    "hidden": true
   },
   "source": [
    "#### `5 слоев`\n",
    "\n",
    "Выполните тут тот же код, что и в предыдущем пункте, но только уже с 5 слоями в сети."
   ]
  },
  {
   "cell_type": "code",
   "execution_count": 116,
   "metadata": {
    "hidden": true,
    "ExecuteTime": {
     "end_time": "2024-02-27T18:17:32.730007200Z",
     "start_time": "2024-02-27T18:17:32.722270800Z"
    }
   },
   "outputs": [],
   "source": [
    "init_vars = [1e-2, 1e-1, 1e0, 'Kaiming', 'Xavier']"
   ]
  },
  {
   "cell_type": "code",
   "execution_count": 117,
   "metadata": {
    "hidden": true,
    "ExecuteTime": {
     "end_time": "2024-02-27T18:17:32.748005800Z",
     "start_time": "2024-02-27T18:17:32.726270400Z"
    }
   },
   "outputs": [],
   "source": [
    "accs_train = np.zeros((5, 15))\n",
    "accs_test = np.zeros_like(accs_train)"
   ]
  },
  {
   "cell_type": "code",
   "execution_count": 118,
   "metadata": {
    "hidden": true,
    "ExecuteTime": {
     "end_time": "2024-02-27T18:22:45.813166500Z",
     "start_time": "2024-02-27T18:17:32.731006700Z"
    }
   },
   "outputs": [
    {
     "name": "stdout",
     "output_type": "stream",
     "text": [
      "i= 0\tj= 0\tinitialization=0.01\ttrain acc: 0.1062 test acc: 0.0844\n",
      "i= 0\tj= 1\tinitialization=0.01\ttrain acc: 0.1062 test acc: 0.0844\n",
      "i= 0\tj= 2\tinitialization=0.01\ttrain acc: 0.1062 test acc: 0.0844\n",
      "i= 0\tj= 3\tinitialization=0.01\ttrain acc: 0.1062 test acc: 0.0844\n",
      "i= 0\tj= 4\tinitialization=0.01\ttrain acc: 0.1062 test acc: 0.0844\n",
      "i= 0\tj= 5\tinitialization=0.01\ttrain acc: 0.1062 test acc: 0.0844\n",
      "i= 0\tj= 6\tinitialization=0.01\ttrain acc: 0.1062 test acc: 0.0844\n",
      "i= 0\tj= 7\tinitialization=0.01\ttrain acc: 0.1062 test acc: 0.0844\n",
      "i= 0\tj= 8\tinitialization=0.01\ttrain acc: 0.1062 test acc: 0.0844\n",
      "i= 0\tj= 9\tinitialization=0.01\ttrain acc: 0.1062 test acc: 0.0844\n",
      "i= 0\tj=10\tinitialization=0.01\ttrain acc: 0.1062 test acc: 0.0844\n",
      "i= 0\tj=11\tinitialization=0.01\ttrain acc: 0.1062 test acc: 0.0844\n",
      "i= 0\tj=12\tinitialization=0.01\ttrain acc: 0.1062 test acc: 0.0844\n",
      "i= 0\tj=13\tinitialization=0.01\ttrain acc: 0.1062 test acc: 0.0844\n",
      "i= 0\tj=14\tinitialization=0.01\ttrain acc: 0.1062 test acc: 0.0844\n",
      "i= 1\tj= 0\tinitialization=0.1\ttrain acc: 1.0000 test acc: 0.9378\n",
      "i= 1\tj= 1\tinitialization=0.1\ttrain acc: 1.0000 test acc: 0.9622\n",
      "i= 1\tj= 2\tinitialization=0.1\ttrain acc: 1.0000 test acc: 0.9622\n",
      "i= 1\tj= 3\tinitialization=0.1\ttrain acc: 1.0000 test acc: 0.9467\n",
      "i= 1\tj= 4\tinitialization=0.1\ttrain acc: 1.0000 test acc: 0.9556\n",
      "i= 1\tj= 5\tinitialization=0.1\ttrain acc: 1.0000 test acc: 0.9422\n",
      "i= 1\tj= 6\tinitialization=0.1\ttrain acc: 1.0000 test acc: 0.9489\n",
      "i= 1\tj= 7\tinitialization=0.1\ttrain acc: 1.0000 test acc: 0.9622\n",
      "i= 1\tj= 8\tinitialization=0.1\ttrain acc: 1.0000 test acc: 0.9556\n",
      "i= 1\tj= 9\tinitialization=0.1\ttrain acc: 1.0000 test acc: 0.9511\n",
      "i= 1\tj=10\tinitialization=0.1\ttrain acc: 1.0000 test acc: 0.9533\n",
      "i= 1\tj=11\tinitialization=0.1\ttrain acc: 1.0000 test acc: 0.9644\n",
      "i= 1\tj=12\tinitialization=0.1\ttrain acc: 1.0000 test acc: 0.9622\n",
      "i= 1\tj=13\tinitialization=0.1\ttrain acc: 1.0000 test acc: 0.9578\n",
      "i= 1\tj=14\tinitialization=0.1\ttrain acc: 1.0000 test acc: 0.9467\n",
      "i= 2\tj= 0\tinitialization=1.0\ttrain acc: 0.2940 test acc: 0.2400\n",
      "i= 2\tj= 1\tinitialization=1.0\ttrain acc: 0.1166 test acc: 0.0911\n",
      "i= 2\tj= 2\tinitialization=1.0\ttrain acc: 1.0000 test acc: 0.8956\n",
      "i= 2\tj= 3\tinitialization=1.0\ttrain acc: 0.1767 test acc: 0.1289\n",
      "i= 2\tj= 4\tinitialization=1.0\ttrain acc: 0.7238 test acc: 0.6622\n",
      "i= 2\tj= 5\tinitialization=1.0\ttrain acc: 0.1114 test acc: 0.0844\n",
      "i= 2\tj= 6\tinitialization=1.0\ttrain acc: 0.1811 test acc: 0.1378\n",
      "i= 2\tj= 7\tinitialization=1.0\ttrain acc: 0.1381 test acc: 0.1133\n",
      "i= 2\tj= 8\tinitialization=1.0\ttrain acc: 0.1915 test acc: 0.1444\n",
      "i= 2\tj= 9\tinitialization=1.0\ttrain acc: 0.3623 test acc: 0.3178\n",
      "i= 2\tj=10\tinitialization=1.0\ttrain acc: 0.1448 test acc: 0.1089\n",
      "i= 2\tj=11\tinitialization=1.0\ttrain acc: 0.1084 test acc: 0.0867\n",
      "i= 2\tj=12\tinitialization=1.0\ttrain acc: 0.1633 test acc: 0.1422\n",
      "i= 2\tj=13\tinitialization=1.0\ttrain acc: 0.1091 test acc: 0.0889\n",
      "i= 2\tj=14\tinitialization=1.0\ttrain acc: 0.5419 test acc: 0.4911\n",
      "i= 3\tj= 0\tinitialization='Kaiming'\ttrain acc: 1.0000 test acc: 0.9556\n",
      "i= 3\tj= 1\tinitialization='Kaiming'\ttrain acc: 1.0000 test acc: 0.9533\n",
      "i= 3\tj= 2\tinitialization='Kaiming'\ttrain acc: 1.0000 test acc: 0.9422\n",
      "i= 3\tj= 3\tinitialization='Kaiming'\ttrain acc: 1.0000 test acc: 0.9511\n",
      "i= 3\tj= 4\tinitialization='Kaiming'\ttrain acc: 1.0000 test acc: 0.9511\n",
      "i= 3\tj= 5\tinitialization='Kaiming'\ttrain acc: 1.0000 test acc: 0.9467\n",
      "i= 3\tj= 6\tinitialization='Kaiming'\ttrain acc: 1.0000 test acc: 0.9356\n",
      "i= 3\tj= 7\tinitialization='Kaiming'\ttrain acc: 1.0000 test acc: 0.9689\n",
      "i= 3\tj= 8\tinitialization='Kaiming'\ttrain acc: 1.0000 test acc: 0.9578\n",
      "i= 3\tj= 9\tinitialization='Kaiming'\ttrain acc: 1.0000 test acc: 0.9533\n",
      "i= 3\tj=10\tinitialization='Kaiming'\ttrain acc: 1.0000 test acc: 0.9556\n",
      "i= 3\tj=11\tinitialization='Kaiming'\ttrain acc: 1.0000 test acc: 0.9556\n",
      "i= 3\tj=12\tinitialization='Kaiming'\ttrain acc: 1.0000 test acc: 0.9622\n",
      "i= 3\tj=13\tinitialization='Kaiming'\ttrain acc: 1.0000 test acc: 0.9444\n",
      "i= 3\tj=14\tinitialization='Kaiming'\ttrain acc: 1.0000 test acc: 0.9467\n",
      "i= 4\tj= 0\tinitialization='Xavier'\ttrain acc: 1.0000 test acc: 0.9578\n",
      "i= 4\tj= 1\tinitialization='Xavier'\ttrain acc: 1.0000 test acc: 0.9511\n",
      "i= 4\tj= 2\tinitialization='Xavier'\ttrain acc: 1.0000 test acc: 0.9511\n",
      "i= 4\tj= 3\tinitialization='Xavier'\ttrain acc: 1.0000 test acc: 0.9644\n",
      "i= 4\tj= 4\tinitialization='Xavier'\ttrain acc: 1.0000 test acc: 0.9533\n",
      "i= 4\tj= 5\tinitialization='Xavier'\ttrain acc: 1.0000 test acc: 0.9622\n",
      "i= 4\tj= 6\tinitialization='Xavier'\ttrain acc: 1.0000 test acc: 0.9600\n",
      "i= 4\tj= 7\tinitialization='Xavier'\ttrain acc: 1.0000 test acc: 0.9489\n",
      "i= 4\tj= 8\tinitialization='Xavier'\ttrain acc: 1.0000 test acc: 0.9444\n",
      "i= 4\tj= 9\tinitialization='Xavier'\ttrain acc: 1.0000 test acc: 0.9556\n",
      "i= 4\tj=10\tinitialization='Xavier'\ttrain acc: 1.0000 test acc: 0.9667\n",
      "i= 4\tj=11\tinitialization='Xavier'\ttrain acc: 1.0000 test acc: 0.9689\n",
      "i= 4\tj=12\tinitialization='Xavier'\ttrain acc: 1.0000 test acc: 0.9667\n",
      "i= 4\tj=13\tinitialization='Xavier'\ttrain acc: 1.0000 test acc: 0.9600\n",
      "i= 4\tj=14\tinitialization='Xavier'\ttrain acc: 1.0000 test acc: 0.9556\n"
     ]
    }
   ],
   "source": [
    "np.random.seed(42)\n",
    "layer_c = 5\n",
    "\n",
    "for i, initialization in enumerate(init_vars):\n",
    "    for j in range(accs_train.shape[1]):\n",
    "        print(f\"{i=:2}\\t{j=:2}\\t{initialization=}\\t\", end='')\n",
    "        network = make_network(input_size, 32, output_size, layer_c, ReLU)\n",
    "        initialize_network(network, initialization)\n",
    "        network, cb = train_network(network, history=True)\n",
    "        \n",
    "        accs_train[i, j] = cb.train_acc[-1]\n",
    "        accs_test[i, j] = cb.test_acc[-1]\n",
    "        print(f\"train acc: {accs_train[i, j]:5.4f} test acc: {accs_test[i, j]:5.4f}\")"
   ]
  },
  {
   "cell_type": "markdown",
   "metadata": {
    "hidden": true
   },
   "source": [
    "Построим боксплоты полученного качества (горизонтальная линия в каждом столбце — среднее, прямоугольник показывает разброс)."
   ]
  },
  {
   "cell_type": "code",
   "execution_count": 119,
   "metadata": {
    "hidden": true,
    "scrolled": false,
    "ExecuteTime": {
     "end_time": "2024-02-27T18:22:45.943806Z",
     "start_time": "2024-02-27T18:22:45.808166100Z"
    }
   },
   "outputs": [
    {
     "data": {
      "text/plain": "<Figure size 1000x500 with 1 Axes>",
      "image/png": "[encoded data removed]"
     },
     "metadata": {},
     "output_type": "display_data"
    }
   ],
   "source": [
    "init_vars_for_plot = [(x if isinstance(x, str) else fr\"$\\sigma = {x}$\") for x in init_vars]\n",
    "\n",
    "fig, ax = plt.subplots(1, 1, figsize=(10, 5))\n",
    "\n",
    "ax.boxplot(accs_test.T, labels=init_vars_for_plot, showfliers=False)\n",
    "\n",
    "ax.set_title(f\"Test quality in {accs_test.shape[1]} runs\")\n",
    "ax.set_xlabel(\"Initialization\")\n",
    "ax.set_ylabel(\"Test accuracy\")\n",
    "ax.grid(True)\n",
    "\n",
    "fig.tight_layout()\n",
    "plt.show()"
   ]
  },
  {
   "cell_type": "markdown",
   "metadata": {
    "hidden": true
   },
   "source": [
    "Дайте развёрнутый ответ на вопросы (в этой же ячейке):\n",
    "* Как отличаются качество на обучении и контроле и устойчивость процесса обучения при различных инициализациях?\n",
    "* Какие инициализации помогают обучать более глубокие сети?\n",
    "\n",
    "__Ответы:__\n",
    "\n",
    "..."
   ]
  },
  {
   "cell_type": "markdown",
   "metadata": {
    "hidden": true
   },
   "source": [
    "Теперь сравним скорость обучения при различных инициализациях. Создайте два списка списков `accs_test_on_iterations`, `accs_train_on_iterations` в каждом из которых в позиции `[i]` (см. описание `i` в предыдущем пункте) будет лежать список из значений `accuracy` на тестовой и обучающей выборках соотвественно, полученных во время обучения модели. Количество слоев в сети зафиксируйте равным 4."
   ]
  },
  {
   "cell_type": "code",
   "execution_count": 120,
   "metadata": {
    "hidden": true,
    "ExecuteTime": {
     "end_time": "2024-02-27T18:22:45.963747300Z",
     "start_time": "2024-02-27T18:22:45.937739800Z"
    }
   },
   "outputs": [],
   "source": [
    "init_vars = [1e-3, 1e-2, 1e-1, 'Kaiming', 'Xavier']"
   ]
  },
  {
   "cell_type": "code",
   "execution_count": 121,
   "metadata": {
    "hidden": true,
    "ExecuteTime": {
     "end_time": "2024-02-27T18:22:46.001750500Z",
     "start_time": "2024-02-27T18:22:45.942808100Z"
    }
   },
   "outputs": [],
   "source": [
    "accs_test_on_iterations = []\n",
    "accs_train_on_iterations = []"
   ]
  },
  {
   "cell_type": "code",
   "execution_count": 123,
   "metadata": {
    "hidden": true,
    "ExecuteTime": {
     "end_time": "2024-02-27T18:23:37.279594200Z",
     "start_time": "2024-02-27T18:23:24.919638600Z"
    }
   },
   "outputs": [
    {
     "name": "stdout",
     "output_type": "stream",
     "text": [
      "i=0\tinitialization=0.001\n",
      "i=1\tinitialization=0.01\n",
      "i=2\tinitialization=0.1\n",
      "i=3\tinitialization='Kaiming'\n",
      "i=4\tinitialization='Xavier'\n"
     ]
    }
   ],
   "source": [
    "np.random.seed(42)\n",
    "layer_c = 4\n",
    "\n",
    "for i, initialization in enumerate(init_vars):\n",
    "    print(f\"{i=}\\t{initialization=}\")\n",
    "    network = make_network(input_size, 32, output_size, layer_c, ReLU)\n",
    "    initialize_network(network, initialization)\n",
    "    network, cb = train_network(network, history=True)\n",
    "    \n",
    "    accs_test_on_iterations.append(cb.train_acc)\n",
    "    accs_train_on_iterations.append(cb.test_acc)"
   ]
  },
  {
   "cell_type": "code",
   "execution_count": 124,
   "metadata": {
    "hidden": true,
    "ExecuteTime": {
     "end_time": "2024-02-27T18:23:40.858231200Z",
     "start_time": "2024-02-27T18:23:40.667054200Z"
    }
   },
   "outputs": [
    {
     "data": {
      "text/plain": "<Figure size 1000x500 with 1 Axes>",
      "image/png": "[encoded data removed]"
     },
     "metadata": {},
     "output_type": "display_data"
    }
   ],
   "source": [
    "fig, ax = plt.subplots(1, 1, figsize=(10, 5))\n",
    "\n",
    "for idx, label in enumerate(init_vars_for_plot):\n",
    "    ax.plot(accs_test_on_iterations[idx], label=label)\n",
    "\n",
    "ax.set_title(\"Test quality for different initializations\")\n",
    "ax.set_xlabel(\"Epoch number\")\n",
    "ax.set_ylabel(\"Test accuracy\")\n",
    "ax.grid(True)\n",
    "ax.legend()\n",
    "\n",
    "fig.tight_layout()\n",
    "plt.show()"
   ]
  },
  {
   "cell_type": "markdown",
   "metadata": {
    "ExecuteTime": {
     "end_time": "2021-03-03T14:37:15.087902Z",
     "start_time": "2021-03-03T14:37:15.065996Z"
    },
    "hidden": true
   },
   "source": [
    "Дайте развёрнутый ответ на вопросы (в этой же ячейке):\n",
    "* Как меняется скорость обучения в зависимости от выбранной инициализации?\n",
    "\n",
    "__Ответы:__\n",
    "\n",
    "..."
   ]
  },
  {
   "cell_type": "markdown",
   "metadata": {
    "heading_collapsed": true,
    "hidden": true
   },
   "source": [
    "### `Эксперименты c различными функциями активации (0.6 балла)`"
   ]
  },
  {
   "cell_type": "markdown",
   "metadata": {
    "hidden": true
   },
   "source": [
    "Проверим теперь, с какой функцией активации нейронная сеть будет обучаться лучше.\n",
    "\n",
    "В этом пункте вам предлагается попробовать обучить несколько нейронных сетей с различными функциями активации.\n",
    "\n",
    "Для этого нам нужно реализовать еще 2 слоя: для функций активации `Tanh` и `Sigmoid`."
   ]
  },
  {
   "cell_type": "code",
   "execution_count": 47,
   "metadata": {
    "hidden": true,
    "ExecuteTime": {
     "end_time": "2024-02-28T16:59:48.187190700Z",
     "start_time": "2024-02-28T16:59:48.152183300Z"
    }
   },
   "outputs": [],
   "source": [
    "class Tanh(Layer):\n",
    "    \"\"\"\n",
    "    tanh(y) = (e^y - e^(-y)) / (e^y + e^(-y))\n",
    "    Используйте функцию np.tanh для подсчета гиперболического тангенса.\n",
    "    Вы можете сами реализовать подсчет tanh, но тогда вам нужно устойчиво его вычислять.\n",
    "    \"\"\"\n",
    "    def __init__(self):\n",
    "        self.params = [] # Tanh has no parameters\n",
    "\n",
    "    def forward(self, input):\n",
    "        \"\"\"\n",
    "        Apply elementwise Tanh to [batch, num_units] matrix\n",
    "        \"\"\"\n",
    "        self.cosh = np.cosh(input)\n",
    "        return np.sinh(input) / self.cosh\n",
    "\n",
    "    def backward(self, grad_output):\n",
    "        \"\"\"\n",
    "        Compute gradient of loss w.r.t. Tanh input\n",
    "        grad_output shape: [batch, num_units]\n",
    "        output 1 shape: [batch, num_units]\n",
    "        output 2: []\n",
    "        \"\"\"\n",
    "        return -grad_output / np.power(self.cosh, 2)\n",
    "\n",
    "    def __repr__(self):\n",
    "        return 'Tanh()'"
   ]
  },
  {
   "cell_type": "code",
   "execution_count": 48,
   "metadata": {
    "hidden": true,
    "ExecuteTime": {
     "end_time": "2024-02-28T16:59:48.466802100Z",
     "start_time": "2024-02-28T16:59:48.396737100Z"
    }
   },
   "outputs": [],
   "source": [
    "from scipy.special import expit\n",
    "    \n",
    "class Sigmoid(Layer):\n",
    "    \"\"\"\n",
    "    sigmoid(y) = 1 / (1 + e^(-y))\n",
    "    Используйте функцию expit для подсчета сигмоиды.\n",
    "    Вы можете сами реализовать подсчет сигмоиды, но тогда вам нужно устойчиво ее вычислять.\n",
    "    \"\"\"\n",
    "    def __init__(self):\n",
    "        self.params = [] # Sigmoid has no parameters\n",
    "        self.output = None\n",
    "\n",
    "    def forward(self, input):\n",
    "        \"\"\"\n",
    "        Apply elementwise Sigmoid to [batch, num_units] matrix\n",
    "        \"\"\"\n",
    "        self.output = expit(input)\n",
    "        return self.output\n",
    "\n",
    "    def backward(self, grad_output):\n",
    "        \"\"\"\n",
    "        Compute gradient of loss w.r.t. Sigmoid input\n",
    "        grad_output shape: [batch, num_units]\n",
    "        output 1 shape: [batch, num_units]\n",
    "        output 2: []\n",
    "        \"\"\"\n",
    "        return self.output * (1 - self.output) * grad_output\n",
    "\n",
    "    def __repr__(self):\n",
    "        return 'Sigmoid()'"
   ]
  },
  {
   "cell_type": "markdown",
   "metadata": {
    "hidden": true
   },
   "source": [
    "Теперь попробуйте для каждой из 3 функций активации обучить нейронную сеть несколько раз. Число слоев зафиксируйте равным 3. В случае `Tanh` и `Sigmoid` используйте инициализацию `Xavier`, а в случае `ReLU` используйте инициализацию `Kaiming`."
   ]
  },
  {
   "cell_type": "markdown",
   "metadata": {
    "hidden": true
   },
   "source": [
    "Заполните матрицы `accs_train` и `accs_test`. В позиции `[i, j]` должна стоять величина доли правильных ответов сети при $j$-м запуске (все запуски идентичны) с функцией активации $ReLU$ при $i = 0$, с функцией активации $Tanh$ при $i = 1$ и с функцией активации $Sigmoid$ при $i = 2$."
   ]
  },
  {
   "cell_type": "code",
   "execution_count": 49,
   "metadata": {
    "hidden": true,
    "ExecuteTime": {
     "end_time": "2024-02-28T16:59:50.357729400Z",
     "start_time": "2024-02-28T16:59:50.327732800Z"
    }
   },
   "outputs": [],
   "source": [
    "act_func_vars = ['Tanh', 'Sigmoid', 'ReLU']\n",
    "init_for_act_funcs = ['Xavier', 'Xavier', 'Kaiming']"
   ]
  },
  {
   "cell_type": "code",
   "execution_count": 50,
   "metadata": {
    "hidden": true,
    "ExecuteTime": {
     "end_time": "2024-02-28T16:59:50.973341700Z",
     "start_time": "2024-02-28T16:59:50.877309200Z"
    }
   },
   "outputs": [],
   "source": [
    "accs_train = np.zeros((3, 50))\n",
    "accs_test = np.zeros_like(accs_train)\n",
    "layer_c = 3"
   ]
  },
  {
   "cell_type": "code",
   "execution_count": 51,
   "metadata": {
    "hidden": true,
    "ExecuteTime": {
     "end_time": "2024-02-28T16:59:51.912324900Z",
     "start_time": "2024-02-28T16:59:51.512581500Z"
    }
   },
   "outputs": [
    {
     "name": "stdout",
     "output_type": "stream",
     "text": [
      "i= 0\tj= 0\tact_func='Tanh'\t"
     ]
    },
    {
     "ename": "NameError",
     "evalue": "name 'initialize_network' is not defined",
     "output_type": "error",
     "traceback": [
      "\u001B[1;31m---------------------------------------------------------------------------\u001B[0m",
      "\u001B[1;31mNameError\u001B[0m                                 Traceback (most recent call last)",
      "Cell \u001B[1;32mIn[51], line 7\u001B[0m\n\u001B[0;32m      5\u001B[0m \u001B[38;5;28mprint\u001B[39m(\u001B[38;5;124mf\u001B[39m\u001B[38;5;124m\"\u001B[39m\u001B[38;5;132;01m{\u001B[39;00mi\u001B[38;5;132;01m=:\u001B[39;00m\u001B[38;5;124m2\u001B[39m\u001B[38;5;132;01m}\u001B[39;00m\u001B[38;5;130;01m\\t\u001B[39;00m\u001B[38;5;132;01m{\u001B[39;00mj\u001B[38;5;132;01m=:\u001B[39;00m\u001B[38;5;124m2\u001B[39m\u001B[38;5;132;01m}\u001B[39;00m\u001B[38;5;130;01m\\t\u001B[39;00m\u001B[38;5;132;01m{\u001B[39;00mact_func\u001B[38;5;132;01m=}\u001B[39;00m\u001B[38;5;130;01m\\t\u001B[39;00m\u001B[38;5;124m\"\u001B[39m, end\u001B[38;5;241m=\u001B[39m\u001B[38;5;124m'\u001B[39m\u001B[38;5;124m'\u001B[39m)\n\u001B[0;32m      6\u001B[0m network \u001B[38;5;241m=\u001B[39m make_network(input_size, \u001B[38;5;241m32\u001B[39m, output_size, layer_c, ReLU)\n\u001B[1;32m----> 7\u001B[0m \u001B[43minitialize_network\u001B[49m(network, init_strategy)\n\u001B[0;32m      8\u001B[0m network, cb \u001B[38;5;241m=\u001B[39m train_network(network, history\u001B[38;5;241m=\u001B[39m\u001B[38;5;28;01mTrue\u001B[39;00m)\n\u001B[0;32m     10\u001B[0m accs_train[i, j] \u001B[38;5;241m=\u001B[39m cb\u001B[38;5;241m.\u001B[39mtrain_acc[\u001B[38;5;241m-\u001B[39m\u001B[38;5;241m1\u001B[39m]\n",
      "\u001B[1;31mNameError\u001B[0m: name 'initialize_network' is not defined"
     ]
    }
   ],
   "source": [
    "np.random.seed(42)\n",
    "\n",
    "for i, (act_func, init_strategy) in enumerate(zip(act_func_vars, init_for_act_funcs)):\n",
    "    for j in range(accs_train.shape[1]):\n",
    "        print(f\"{i=:2}\\t{j=:2}\\t{act_func=}\\t\", end='')\n",
    "        network = make_network(input_size, 32, output_size, layer_c, ReLU)\n",
    "        initialize_network(network, init_strategy)\n",
    "        network, cb = train_network(network, history=True)\n",
    "        \n",
    "        accs_train[i, j] = cb.train_acc[-1]\n",
    "        accs_test[i, j] = cb.test_acc[-1]\n",
    "        print(f\"train acc: {accs_train[i, j]:5.4f} test acc: {accs_test[i, j]:5.4f}\")"
   ]
  },
  {
   "cell_type": "markdown",
   "metadata": {
    "hidden": true
   },
   "source": [
    "Построим боксплоты полученного качества (горизонтальная линия в каждом столбце — среднее, прямоугольник показывает разброс)."
   ]
  },
  {
   "cell_type": "code",
   "execution_count": 130,
   "metadata": {
    "hidden": true,
    "ExecuteTime": {
     "end_time": "2024-02-27T18:27:56.312618300Z",
     "start_time": "2024-02-27T18:27:56.196068400Z"
    }
   },
   "outputs": [
    {
     "data": {
      "text/plain": "<Figure size 1000x500 with 1 Axes>",
      "image/png": "[encoded data removed]"
     },
     "metadata": {},
     "output_type": "display_data"
    }
   ],
   "source": [
    "fig, ax = plt.subplots(1, 1, figsize=(10, 5))\n",
    "\n",
    "ax.boxplot(accs_test.T, labels=act_func_vars, showfliers=False)\n",
    "\n",
    "ax.set_title(f\"Test quality in {accs_train.shape[1]} runs with {layer_c} layers\")\n",
    "ax.set_xlabel(\"Activation function\")\n",
    "ax.set_ylabel(\"Test accuracy\")\n",
    "ax.grid(True)\n",
    "\n",
    "fig.tight_layout()\n",
    "plt.show()"
   ]
  },
  {
   "cell_type": "markdown",
   "metadata": {
    "hidden": true
   },
   "source": [
    "Дайте развёрнутый ответ на вопросы (в этой же ячейке):\n",
    "* Как отличаются качество на обучении и контроле и устойчивость процесса обучения при различных функциях активации?\n",
    "\n",
    "__Ответы:__\n",
    "\n",
    "При использовании в качестве функций активации сигмоиды и гиперболического тангенса среднее качество оказывается сравнимым. Однако, дисперсия при использовании сигмоиды оказывается выше. \n",
    "При использовании ReLU среднее качество оказывается ниже.\n",
    "\n",
    "Преимущества ReLU не реализуются при малом количестве слоев (3), так как затухание градиентов оказывается незначительным. \n",
    "Для проверки данной гипотезы будет поставлен *дополнительный* эксперимент с количеством слоев = 5"
   ]
  },
  {
   "cell_type": "code",
   "execution_count": 131,
   "outputs": [],
   "source": [
    "accs_train = np.zeros((3, 15))\n",
    "accs_test = np.zeros_like(accs_train)\n",
    "layer_c = 10"
   ],
   "metadata": {
    "collapsed": false,
    "ExecuteTime": {
     "end_time": "2024-02-27T18:27:56.320616800Z",
     "start_time": "2024-02-27T18:27:56.310437500Z"
    }
   }
  },
  {
   "cell_type": "code",
   "execution_count": 132,
   "outputs": [
    {
     "name": "stdout",
     "output_type": "stream",
     "text": [
      "i= 0\tj= 0\tact_func='Tanh'\ttrain acc: 1.0000 test acc: 0.9244\n",
      "i= 0\tj= 1\tact_func='Tanh'\ttrain acc: 1.0000 test acc: 0.9578\n",
      "i= 0\tj= 2\tact_func='Tanh'\ttrain acc: 1.0000 test acc: 0.9444\n",
      "i= 0\tj= 3\tact_func='Tanh'\ttrain acc: 1.0000 test acc: 0.9578\n",
      "i= 0\tj= 4\tact_func='Tanh'\ttrain acc: 1.0000 test acc: 0.9467\n",
      "i= 0\tj= 5\tact_func='Tanh'\ttrain acc: 1.0000 test acc: 0.9444\n",
      "i= 0\tj= 6\tact_func='Tanh'\ttrain acc: 1.0000 test acc: 0.9311\n",
      "i= 0\tj= 7\tact_func='Tanh'\ttrain acc: 1.0000 test acc: 0.9556\n",
      "i= 0\tj= 8\tact_func='Tanh'\ttrain acc: 1.0000 test acc: 0.9467\n",
      "i= 0\tj= 9\tact_func='Tanh'\ttrain acc: 1.0000 test acc: 0.9111\n",
      "i= 0\tj=10\tact_func='Tanh'\ttrain acc: 1.0000 test acc: 0.9333\n",
      "i= 0\tj=11\tact_func='Tanh'\ttrain acc: 1.0000 test acc: 0.9333\n",
      "i= 0\tj=12\tact_func='Tanh'\ttrain acc: 1.0000 test acc: 0.9444\n",
      "i= 0\tj=13\tact_func='Tanh'\ttrain acc: 1.0000 test acc: 0.9444\n",
      "i= 0\tj=14\tact_func='Tanh'\ttrain acc: 1.0000 test acc: 0.9489\n",
      "i= 1\tj= 0\tact_func='Sigmoid'\ttrain acc: 1.0000 test acc: 0.9289\n",
      "i= 1\tj= 1\tact_func='Sigmoid'\ttrain acc: 1.0000 test acc: 0.9533\n",
      "i= 1\tj= 2\tact_func='Sigmoid'\ttrain acc: 1.0000 test acc: 0.9333\n",
      "i= 1\tj= 3\tact_func='Sigmoid'\ttrain acc: 1.0000 test acc: 0.9467\n",
      "i= 1\tj= 4\tact_func='Sigmoid'\ttrain acc: 1.0000 test acc: 0.9556\n",
      "i= 1\tj= 5\tact_func='Sigmoid'\ttrain acc: 1.0000 test acc: 0.9533\n",
      "i= 1\tj= 6\tact_func='Sigmoid'\ttrain acc: 1.0000 test acc: 0.9222\n",
      "i= 1\tj= 7\tact_func='Sigmoid'\ttrain acc: 1.0000 test acc: 0.9556\n",
      "i= 1\tj= 8\tact_func='Sigmoid'\ttrain acc: 1.0000 test acc: 0.9378\n",
      "i= 1\tj= 9\tact_func='Sigmoid'\ttrain acc: 1.0000 test acc: 0.9422\n",
      "i= 1\tj=10\tact_func='Sigmoid'\ttrain acc: 1.0000 test acc: 0.9333\n",
      "i= 1\tj=11\tact_func='Sigmoid'\ttrain acc: 1.0000 test acc: 0.9422\n",
      "i= 1\tj=12\tact_func='Sigmoid'\ttrain acc: 1.0000 test acc: 0.9444\n",
      "i= 1\tj=13\tact_func='Sigmoid'\ttrain acc: 1.0000 test acc: 0.9178\n",
      "i= 1\tj=14\tact_func='Sigmoid'\ttrain acc: 1.0000 test acc: 0.9600\n",
      "i= 2\tj= 0\tact_func='ReLU'\ttrain acc: 0.1062 test acc: 0.0844\n",
      "i= 2\tj= 1\tact_func='ReLU'\ttrain acc: 0.1062 test acc: 0.0844\n",
      "i= 2\tj= 2\tact_func='ReLU'\ttrain acc: 0.1062 test acc: 0.0844\n",
      "i= 2\tj= 3\tact_func='ReLU'\ttrain acc: 0.1062 test acc: 0.0844\n",
      "i= 2\tj= 4\tact_func='ReLU'\ttrain acc: 0.1062 test acc: 0.0844\n",
      "i= 2\tj= 5\tact_func='ReLU'\ttrain acc: 0.1062 test acc: 0.0844\n",
      "i= 2\tj= 6\tact_func='ReLU'\ttrain acc: 1.0000 test acc: 0.8933\n",
      "i= 2\tj= 7\tact_func='ReLU'\ttrain acc: 0.1062 test acc: 0.0844\n",
      "i= 2\tj= 8\tact_func='ReLU'\ttrain acc: 0.1062 test acc: 0.0844\n",
      "i= 2\tj= 9\tact_func='ReLU'\ttrain acc: 0.1062 test acc: 0.0844\n",
      "i= 2\tj=10\tact_func='ReLU'\ttrain acc: 0.1062 test acc: 0.0844\n",
      "i= 2\tj=11\tact_func='ReLU'\ttrain acc: 0.1062 test acc: 0.0844\n",
      "i= 2\tj=12\tact_func='ReLU'\ttrain acc: 0.1062 test acc: 0.0844\n",
      "i= 2\tj=13\tact_func='ReLU'\ttrain acc: 0.1062 test acc: 0.0844\n",
      "i= 2\tj=14\tact_func='ReLU'\ttrain acc: 0.1062 test acc: 0.0844\n"
     ]
    }
   ],
   "source": [
    "np.random.seed(42)\n",
    "\n",
    "for i, (act_func, init_strategy) in enumerate(zip(act_func_vars, init_for_act_funcs)):\n",
    "    for j in range(accs_train.shape[1]):\n",
    "        print(f\"{i=:2}\\t{j=:2}\\t{act_func=}\\t\", end='')\n",
    "        network = make_network(input_size, 32, output_size, layer_c, ReLU)\n",
    "        initialize_network(network, init_strategy)\n",
    "        network, cb = train_network(network, history=True)\n",
    "        \n",
    "        accs_train[i, j] = cb.train_acc[-1]\n",
    "        accs_test[i, j] = cb.test_acc[-1]\n",
    "        print(f\"train acc: {accs_train[i, j]:5.4f} test acc: {accs_test[i, j]:5.4f}\")"
   ],
   "metadata": {
    "collapsed": false,
    "ExecuteTime": {
     "end_time": "2024-02-27T18:35:30.943344100Z",
     "start_time": "2024-02-27T18:27:56.315616100Z"
    }
   }
  },
  {
   "cell_type": "code",
   "outputs": [
    {
     "data": {
      "text/plain": "<Figure size 1000x500 with 1 Axes>",
      "image/png": "[encoded data removed]"
     },
     "metadata": {},
     "output_type": "display_data"
    }
   ],
   "source": [
    "fig, ax = plt.subplots(1, 1, figsize=(10, 5))\n",
    "\n",
    "ax.boxplot(accs_test.T, labels=act_func_vars, showfliers=False)\n",
    "\n",
    "ax.set_title(f\"Test quality in {accs_train.shape[1]} runs with {layer_c} layers\")\n",
    "ax.set_xlabel(\"Activation function\")\n",
    "ax.set_ylabel(\"Test accuracy\")\n",
    "ax.grid(True)\n",
    "\n",
    "fig.tight_layout()\n",
    "plt.show()"
   ],
   "metadata": {
    "collapsed": false,
    "ExecuteTime": {
     "end_time": "2024-02-27T18:35:31.086478800Z",
     "start_time": "2024-02-27T18:35:30.937341400Z"
    }
   },
   "execution_count": 133
  },
  {
   "cell_type": "markdown",
   "metadata": {
    "hidden": true
   },
   "source": [
    "\\* Несколько фрагментов кода в задании написаны на основе материалов [курса по глубинному обучению на ФКН НИУ ВШЭ](https://www.hse.ru/ba/ami/courses/205504078.html)"
   ]
  },
  {
   "cell_type": "markdown",
   "metadata": {},
   "source": [
    "### `Реализация метода оптимизации (1.4 балла)`"
   ]
  },
  {
   "cell_type": "markdown",
   "metadata": {},
   "source": [
    "В этой части задания реализуйте метод оптимизации SGD + momentum. Упрощённая версия более общего алгоритма [отсюда](https://pytorch.org/docs/stable/generated/torch.optim.SGD.html):\n",
    "\n",
    "$$\n",
    "\\begin{aligned}\n",
    "    &\\rule{70mm}{0.4pt}                                                             \\\\\n",
    "    &\\textbf{input}      : \\gamma \\text{ (lr)}, \\: \\theta_0 \\text{ (params)}, \\: X \\text{ (data)},       \\\\\n",
    "    &\\hspace{13mm} \\: f(\\theta) \\text{ (objective)}, \\:\\mu \\text{ (momentum)}       \\\\[-1.ex]\n",
    "    &\\rule{70mm}{0.4pt}                                                             \\\\\n",
    "    &\\textbf{for} \\: t=1 \\: \\textbf{to} \\: \\ldots \\: \\textbf{do}                    \\\\\n",
    "    &\\hspace{5mm}\\mathcal{X} \\leftarrow \\texttt{list\\_of\\_random\\_batches}(X)\\\\\n",
    "    &\\hspace{5mm}\\textbf{for} \\: i=1 \\: \\textbf{to} \\: \\ldots \\: \\textbf{do}                    \\\\\n",
    "    &\\hspace{10mm}g_t\\leftarrow   \\nabla_{\\theta} f_t (\\theta_{t-1},\\mathcal{X}_i)      \\\\\n",
    "    &\\hspace{10mm}\\textbf{if} \\: \\mu \\neq 0                                          \\\\\n",
    "    &\\hspace{15mm}\\textbf{if} \\: t > 1                                              \\\\\n",
    "    &\\hspace{20mm} \\textbf{b}_t \\leftarrow \\mu \\textbf{b}_{t-1} + g_t               \\\\\n",
    "    &\\hspace{15mm}\\textbf{else}                                                     \\\\\n",
    "    &\\hspace{20mm} \\textbf{b}_t \\leftarrow g_t                                      \\\\\n",
    "    &\\hspace{15mm} g_t  \\leftarrow  \\textbf{b}_t                                     \\\\\n",
    "    &\\hspace{10mm}\\theta_t \\leftarrow \\theta_{t-1} - \\gamma g_t                      \\\\[-1.ex]\n",
    "    &\\rule{70mm}{0.4pt}                                                             \\\\[-1.ex]\n",
    "    &\\bf{return} \\:  \\theta_t                                                       \\\\[-1.ex]\n",
    "    &\\rule{70mm}{0.4pt}                                                             \\\\[-1.ex]\n",
    "\\end{aligned}\n",
    "$$\n",
    "\n",
    "Проще всего будет написать `custom minimizer` (смотри [документацию scipy](https://docs.scipy.org/doc/scipy/reference/generated/scipy.optimize.minimize.html))."
   ]
  },
  {
   "cell_type": "code",
   "execution_count": 53,
   "metadata": {
    "ExecuteTime": {
     "end_time": "2024-02-28T17:00:20.114846400Z",
     "start_time": "2024-02-28T17:00:20.037410Z"
    }
   },
   "outputs": [],
   "source": [
    "from scipy.optimize import OptimizeResult\n",
    "\n",
    "\n",
    "def SGD(fun, x0, args, **kwargs) -> OptimizeResult:\n",
    "    callback = kwargs['callback']   # feed weights from each iteration to update network and log metrics\n",
    "    mu = kwargs['momentum']\n",
    "    n_iter = kwargs['n_iter']\n",
    "    gamma = kwargs['lr']\n",
    "    jac = kwargs['jac']\n",
    "    batch_size = kwargs['batch_size']\n",
    "    tolerance = kwargs['tol'] if 'tol' in kwargs else None\n",
    "    tolerance = -1.0 if tolerance is None else tolerance\n",
    "    \n",
    "    if isinstance(args, tuple) and (len(args) == 1):\n",
    "        args = args[0]\n",
    "    \n",
    "    net, X, y = args\n",
    "    \n",
    "    m = 0.0\n",
    "    weights = x0\n",
    "    nit = 0\n",
    "    msg = \"Max iterations reached\"\n",
    "    indxs = np.arange(X.shape[0])\n",
    "    \n",
    "    for i in range(n_iter):\n",
    "        np.random.shuffle(indxs)\n",
    "        batch_indxs = np.array_split(indxs, X.shape[0] // batch_size)\n",
    "        loss_sum = 0.0\n",
    "        \n",
    "        for batch_ind in batch_indxs:\n",
    "            loss = fun(weights, (net, X[batch_ind, :], y[batch_ind]))\n",
    "            grad = fun.derivative(weights, (net, X[batch_ind, :], y[batch_ind]))\n",
    "            m = mu * m + grad\n",
    "            weights -= gamma * m\n",
    "            loss_sum += loss\n",
    "        \n",
    "        if callback is not None:\n",
    "            callback(weights)\n",
    "        \n",
    "        nit += 1\n",
    "        loss_sum /= len(batch_indxs)\n",
    "        if loss_sum <= tolerance:\n",
    "            msg = f\"Convergence: loss ({loss_sum}) <= tolerance ({tolerance})\"\n",
    "            break\n",
    "    \n",
    "    res = {\n",
    "        \"message\": msg,\n",
    "        \"success\": True,\n",
    "        \"nit\": nit,\n",
    "        \"x\": weights\n",
    "    }\n",
    "    \n",
    "    return res"
   ]
  },
  {
   "cell_type": "markdown",
   "metadata": {},
   "source": [
    "**Задание 1. (0.5 балла)** Продемонстрируйте правильную работу метода оптимизации, получив `test_accuracy>=0.9`."
   ]
  },
  {
   "cell_type": "code",
   "execution_count": 54,
   "metadata": {
    "ExecuteTime": {
     "end_time": "2024-02-28T17:00:24.593932100Z",
     "start_time": "2024-02-28T17:00:20.923045400Z"
    }
   },
   "outputs": [
    {
     "data": {
      "text/plain": "('Convergence: loss (0.0009691946413547095) <= tolerance (0.001)', 167)"
     },
     "execution_count": 54,
     "metadata": {},
     "output_type": "execute_result"
    }
   ],
   "source": [
    "layer_c = 3\n",
    "network = make_network(input_size, 32, output_size, layer_c, ReLU)\n",
    "weights = get_weights(network)\n",
    "\n",
    "res = minimize(\n",
    "    compute_loss_grad, weights,       # fun and start point\n",
    "    args=(network, X_train, y_train), # args passed to fun\n",
    "    method=SGD,                       # optimization method\n",
    "    jac=True,                         # says that gradient is computed in fun,\n",
    "    options={\n",
    "        'n_iter': 1_250,\n",
    "        'momentum': 0.9,\n",
    "        'lr': 1e-2,\n",
    "        'batch_size': 100,\n",
    "    },\n",
    "    tol=1e-3,\n",
    ")\n",
    "\n",
    "res['message'], res['nit']"
   ]
  },
  {
   "cell_type": "code",
   "outputs": [
    {
     "name": "stdout",
     "output_type": "stream",
     "text": [
      "Train NLL: 0.0009600\t\tTest NLL: 0.3069655\n",
      "Train accuracy: 1.000\t\tTest accuracy: 0.958\n"
     ]
    }
   ],
   "source": [
    "train_NLL = NLL(forward(network, X_train), y_train)\n",
    "test_NLL = NLL(forward(network, X_test), y_test)\n",
    "\n",
    "print(f\"Train NLL: {train_NLL:.7f}\\t\\tTest NLL: {test_NLL:.7f}\")\n",
    "\n",
    "train_accuracy = accuracy_score(y_true=y_train, y_pred=predict(network, X_train))\n",
    "test_accuracy = accuracy_score(y_true=y_test, y_pred=predict(network, X_test))\n",
    "\n",
    "print(f\"Train accuracy: {train_accuracy:.3f}\\t\\tTest accuracy: {test_accuracy:.3f}\")"
   ],
   "metadata": {
    "collapsed": false,
    "ExecuteTime": {
     "end_time": "2024-02-28T17:00:24.642980300Z",
     "start_time": "2024-02-28T17:00:24.578555800Z"
    }
   },
   "execution_count": 55
  },
  {
   "cell_type": "markdown",
   "metadata": {},
   "source": [
    "**Задание 2. (0.8 балла)** Сравните три алгоритма:\n",
    "1. LBFGS-B\n",
    "2. SGD\n",
    "3. SGD + momentum\n",
    "\n",
    "Для этого одновременно переберите следующие гиперпараметры:\n",
    "- значения `lr` на отрезке `[1e-3, 1e-1]` по логарифмической сетке\n",
    "- два значения `momentum`: `0` и `0.9`\n",
    "- значения `batch_size`: `8` и `32`\n",
    "\n",
    "В каждом запуске сохраняйте три метрики: итоговое accuracy на тесте и на трейне и время обучения.\n",
    "\n",
    "Для каждого из трёх алгоритмов выберите лучшие `lr` и `batch_size` по `test_accuracy`. Постройте для них кривые обучения (пример ниже). Сделайте выводы.\n",
    "\n",
    "![](comparison.svg)"
   ]
  },
  {
   "cell_type": "code",
   "execution_count": 137,
   "metadata": {
    "ExecuteTime": {
     "end_time": "2024-02-27T18:49:53.476985600Z",
     "start_time": "2024-02-27T18:35:33.286619200Z"
    }
   },
   "outputs": [],
   "source": [
    "optimizer = SGD\n",
    "optimizer_params = []\n",
    "\n",
    "for lr in [1e-1, 1e-2, 1e-3]:\n",
    "    for batch_size in [9, 32]:\n",
    "        optimizer_params.append({\n",
    "            'n_iter': 250,\n",
    "            'momentum': 0.0,\n",
    "            'lr': lr,\n",
    "            'batch_size': batch_size,\n",
    "        })\n",
    "\n",
    "\n",
    "accs_train = np.zeros((len(optimizer_params), 15))\n",
    "accs_test = np.zeros_like(accs_train)\n",
    "layer_c = 3\n",
    "np.random.seed(42)\n",
    "\n",
    "\n",
    "\n",
    "for i, opt_params in enumerate(optimizer_params):\n",
    "    for j in range(accs_train.shape[1]):\n",
    "        network = make_network(input_size, 32, output_size, layer_c, ReLU)\n",
    "        initialize_network(network, \"Kaiming\")\n",
    "        network, cb = train_network(\n",
    "            network, \n",
    "            history=True, \n",
    "            optimizer=optimizer,\n",
    "            options=opt_params,\n",
    "        )\n",
    "        \n",
    "        accs_train[i, j] = cb.train_acc[-1]\n",
    "        accs_test[i, j] = cb.test_acc[-1]"
   ]
  },
  {
   "cell_type": "code",
   "outputs": [
    {
     "data": {
      "text/plain": "<Figure size 1000x500 with 1 Axes>",
      "image/png": "[encoded data removed]"
     },
     "metadata": {},
     "output_type": "display_data"
    }
   ],
   "source": [
    "momentum_for_plot = [f\"LR = {opt_params['lr']:.3f}\\nBatch size = {opt_params['batch_size']}\" for opt_params in optimizer_params]\n",
    "\n",
    "fig, ax = plt.subplots(1, 1, figsize=(10, 5))\n",
    "\n",
    "ax.boxplot(accs_test.T, labels=momentum_for_plot, showfliers=False)\n",
    "\n",
    "ax.set_title(f\"Test quality in {accs_test.shape[1]} runs\")\n",
    "ax.set_xlabel(\"Initialization\")\n",
    "ax.set_ylabel(\"Test accuracy\")\n",
    "ax.grid(True)\n",
    "\n",
    "fig.tight_layout()\n",
    "plt.show()"
   ],
   "metadata": {
    "collapsed": false,
    "ExecuteTime": {
     "end_time": "2024-02-27T18:49:53.595855700Z",
     "start_time": "2024-02-27T18:49:53.478982900Z"
    }
   },
   "execution_count": 138
  },
  {
   "cell_type": "code",
   "outputs": [
    {
     "data": {
      "text/plain": "<Figure size 1000x500 with 1 Axes>",
      "image/png": "[encoded data removed]"
     },
     "metadata": {},
     "output_type": "display_data"
    }
   ],
   "source": [
    "momentum_for_plot = [f\"LR = {opt_params['lr']:.3f}\\nBatch size = {opt_params['batch_size']}\" for opt_params in optimizer_params]\n",
    "\n",
    "fig, ax = plt.subplots(1, 1, figsize=(10, 5))\n",
    "\n",
    "ax.boxplot(accs_test[1:, :].T, labels=momentum_for_plot[1:], showfliers=False)\n",
    "\n",
    "ax.set_title(f\"Test quality in {accs_test.shape[1]} runs\")\n",
    "ax.set_xlabel(\"Initialization\")\n",
    "ax.set_ylabel(\"Test accuracy\")\n",
    "ax.grid(True)\n",
    "\n",
    "fig.tight_layout()\n",
    "plt.show()"
   ],
   "metadata": {
    "collapsed": false,
    "ExecuteTime": {
     "end_time": "2024-02-27T18:49:53.710249900Z",
     "start_time": "2024-02-27T18:49:53.591855800Z"
    }
   },
   "execution_count": 139
  },
  {
   "cell_type": "code",
   "outputs": [],
   "source": [
    "optimizer = SGD\n",
    "optimizer_params = []\n",
    "\n",
    "for lr in [1e-1, 1e-2, 1e-3]:\n",
    "    for batch_size in [9, 32]:\n",
    "        optimizer_params.append({\n",
    "            'n_iter': 250,\n",
    "            'momentum': 0.9,\n",
    "            'lr': lr,\n",
    "            'batch_size': batch_size,\n",
    "        })\n",
    "\n",
    "\n",
    "accs_train = np.zeros((len(optimizer_params), 15))\n",
    "accs_test = np.zeros_like(accs_train)\n",
    "layer_c = 3\n",
    "np.random.seed(42)\n",
    "\n",
    "\n",
    "for i, opt_params in enumerate(optimizer_params):\n",
    "    for j in range(accs_train.shape[1]):\n",
    "        network = make_network(input_size, 32, output_size, layer_c, ReLU)\n",
    "        initialize_network(network, \"Kaiming\")\n",
    "        network, cb = train_network(\n",
    "            network, \n",
    "            history=True, \n",
    "            optimizer=optimizer,\n",
    "            options=opt_params,\n",
    "        )\n",
    "        \n",
    "        accs_train[i, j] = cb.train_acc[-1]\n",
    "        accs_test[i, j] = cb.test_acc[-1]"
   ],
   "metadata": {
    "collapsed": false,
    "ExecuteTime": {
     "end_time": "2024-02-27T19:04:27.131200100Z",
     "start_time": "2024-02-27T18:49:53.708251700Z"
    }
   },
   "execution_count": 140
  },
  {
   "cell_type": "code",
   "outputs": [
    {
     "data": {
      "text/plain": "<Figure size 1000x500 with 1 Axes>",
      "image/png": "[encoded data removed]"
     },
     "metadata": {},
     "output_type": "display_data"
    }
   ],
   "source": [
    "momentum_for_plot = [f\"LR = {opt_params['lr']:.3f}\\nBatch size = {opt_params['batch_size']}\" for opt_params in optimizer_params]\n",
    "\n",
    "fig, ax = plt.subplots(1, 1, figsize=(10, 5))\n",
    "\n",
    "ax.boxplot(accs_test.T, labels=momentum_for_plot, showfliers=False)\n",
    "\n",
    "ax.set_title(f\"Test quality in {accs_test.shape[1]} runs\")\n",
    "ax.set_xlabel(\"Initialization\")\n",
    "ax.set_ylabel(\"Test accuracy\")\n",
    "ax.grid(True)\n",
    "\n",
    "fig.tight_layout()\n",
    "plt.show()"
   ],
   "metadata": {
    "collapsed": false,
    "ExecuteTime": {
     "end_time": "2024-02-27T19:04:27.335027300Z",
     "start_time": "2024-02-27T19:04:27.132201100Z"
    }
   },
   "execution_count": 141
  },
  {
   "cell_type": "code",
   "outputs": [
    {
     "data": {
      "text/plain": "<Figure size 1000x500 with 1 Axes>",
      "image/png": "[encoded data removed]"
     },
     "metadata": {},
     "output_type": "display_data"
    }
   ],
   "source": [
    "momentum_for_plot = [f\"LR = {opt_params['lr']:.3f}\\nBatch size = {opt_params['batch_size']}\" for opt_params in optimizer_params]\n",
    "\n",
    "fig, ax = plt.subplots(1, 1, figsize=(10, 5))\n",
    "\n",
    "ax.boxplot(accs_test[3:, :].T, labels=momentum_for_plot[3:], showfliers=False)\n",
    "\n",
    "ax.set_title(f\"Test quality in {accs_test.shape[1]} runs\")\n",
    "ax.set_xlabel(\"Initialization\")\n",
    "ax.set_ylabel(\"Test accuracy\")\n",
    "ax.grid(True)\n",
    "\n",
    "fig.tight_layout()\n",
    "plt.show()"
   ],
   "metadata": {
    "collapsed": false,
    "ExecuteTime": {
     "end_time": "2024-02-27T19:04:27.463168900Z",
     "start_time": "2024-02-27T19:04:27.333029500Z"
    }
   },
   "execution_count": 142
  },
  {
   "cell_type": "code",
   "outputs": [],
   "source": [
    "optimizers = [SGD, SGD, \"L-BFGS-B\"]\n",
    "optimizer_params = []\n",
    "\n",
    "optimizer_params.append({\n",
    "    'n_iter': 1_250,\n",
    "    'momentum': 0.0,\n",
    "    'lr': 0.039811,\n",
    "    'batch_size': 8,\n",
    "    'tol': 1e-4,\n",
    "})\n",
    "\n",
    "optimizer_params.append({\n",
    "    'n_iter': 1_250,\n",
    "    'momentum': 0.9,\n",
    "    'lr': 0.01,\n",
    "    'batch_size': 32,\n",
    "    'tol': 1e-4,\n",
    "})\n",
    "\n",
    "optimizer_params.append({\n",
    "})\n",
    "\n",
    "accs_train = np.zeros((len(optimizer_params), 15))\n",
    "accs_test = np.zeros_like(accs_train)\n",
    "layer_c = 3\n",
    "np.random.seed(42)\n",
    "\n",
    "\n",
    "for i, (opt, opt_params) in enumerate(zip(optimizers, optimizer_params)):\n",
    "    for j in range(accs_train.shape[1]):\n",
    "        network = make_network(input_size, 32, output_size, layer_c, ReLU)\n",
    "        initialize_network(network, \"Kaiming\")\n",
    "        network, cb = train_network(\n",
    "            network, \n",
    "            history=True, \n",
    "            optimizer=opt,\n",
    "            options=opt_params,\n",
    "        )\n",
    "        \n",
    "        accs_train[i, j] = cb.train_acc[-1]\n",
    "        accs_test[i, j] = cb.test_acc[-1]"
   ],
   "metadata": {
    "collapsed": false,
    "ExecuteTime": {
     "end_time": "2024-02-27T19:06:53.003630700Z",
     "start_time": "2024-02-27T19:04:27.461169100Z"
    }
   },
   "execution_count": 143
  },
  {
   "cell_type": "code",
   "outputs": [
    {
     "data": {
      "text/plain": "<Figure size 1000x500 with 1 Axes>",
      "image/png": "[encoded data removed]"
     },
     "metadata": {},
     "output_type": "display_data"
    }
   ],
   "source": [
    "momentum_for_plot = [\"SGD\", \"SGD with Momentum\", \"L-BFGS-B\"]\n",
    "\n",
    "fig, ax = plt.subplots(1, 1, figsize=(10, 5))\n",
    "\n",
    "ax.boxplot(accs_test.T, labels=momentum_for_plot, showfliers=False)\n",
    "\n",
    "ax.set_title(f\"Test quality in {accs_test.shape[1]} runs\")\n",
    "ax.set_xlabel(\"Optimizer\")\n",
    "ax.set_ylabel(\"Test accuracy\")\n",
    "ax.grid(True)\n",
    "\n",
    "fig.tight_layout()\n",
    "plt.show()"
   ],
   "metadata": {
    "collapsed": false,
    "ExecuteTime": {
     "end_time": "2024-02-27T19:06:53.124768400Z",
     "start_time": "2024-02-27T19:06:53.004630400Z"
    }
   },
   "execution_count": 144
  },
  {
   "cell_type": "code",
   "outputs": [],
   "source": [
    "optimizers = [SGD, SGD, \"L-BFGS-B\"]\n",
    "optimizer_params = []\n",
    "\n",
    "optimizer_params.append({\n",
    "    'n_iter': 250,\n",
    "    'momentum': 0.0,\n",
    "    'lr': 0.1,\n",
    "    'batch_size': 32,\n",
    "})\n",
    "\n",
    "optimizer_params.append({\n",
    "    'n_iter': 250,\n",
    "    'momentum': 0.9,\n",
    "    'lr': 0.01,\n",
    "    'batch_size': 32,\n",
    "})\n",
    "\n",
    "optimizer_params.append({})\n",
    "\n",
    "accs_train = []\n",
    "accs_test = []\n",
    "layer_c = 3\n",
    "np.random.seed(42)\n",
    "\n",
    "\n",
    "for i, (opt, opt_params) in enumerate(zip(optimizers, optimizer_params)):\n",
    "    network = make_network(input_size, 32, output_size, layer_c, ReLU)\n",
    "    initialize_network(network, \"Kaiming\")\n",
    "    network, cb = train_network(\n",
    "        network, \n",
    "        history=True, \n",
    "        optimizer=opt,\n",
    "        options=opt_params,\n",
    "    )\n",
    "    \n",
    "    accs_train.append(cb.train_acc)\n",
    "    accs_test.append(cb.test_acc)"
   ],
   "metadata": {
    "collapsed": false,
    "ExecuteTime": {
     "end_time": "2024-02-27T19:07:05.660438200Z",
     "start_time": "2024-02-27T19:06:53.123768300Z"
    }
   },
   "execution_count": 145
  },
  {
   "cell_type": "code",
   "outputs": [
    {
     "data": {
      "text/plain": "<Figure size 1600x500 with 2 Axes>",
      "image/png": "[encoded data removed]"
     },
     "metadata": {},
     "output_type": "display_data"
    }
   ],
   "source": [
    "fig, ax = plt.subplots(nrows=1, ncols=2, figsize=(16, 5))\n",
    "colors = ['r', 'g', 'b']\n",
    "optimizer_labels = [\"SGD\", \"SGD with Momentum\", \"L-BFGS-B\"]\n",
    "\n",
    "for train_acc, test_acc, color, label in zip(accs_train, accs_test, colors, optimizer_labels):\n",
    "    ax[0].plot(train_acc, f'{color}--', label=f'{label} train')\n",
    "    ax[1].plot(test_acc, f'{color}-', label=f'{label} test')\n",
    "\n",
    "for i in range(2):\n",
    "    ax[i].set_xlabel(\"Iteration\")\n",
    "    ax[i].set_ylabel(\"Accuracy\")\n",
    "    ax[i].grid(True)\n",
    "    ax[i].legend()\n",
    "\n",
    "fig.tight_layout()\n",
    "plt.show()"
   ],
   "metadata": {
    "collapsed": false,
    "ExecuteTime": {
     "end_time": "2024-02-27T19:07:05.885309900Z",
     "start_time": "2024-02-27T19:07:05.660438200Z"
    }
   },
   "execution_count": 146
  },
  {
   "cell_type": "markdown",
   "metadata": {},
   "source": [
    "**Выводы:**"
   ]
  },
  {
   "cell_type": "markdown",
   "metadata": {},
   "source": []
  },
  {
   "cell_type": "markdown",
   "metadata": {},
   "source": [
    "**Задание 3. (0.1 балла)** Для отобранных в прошлом задании трёх алгоритмов ответье на вопрос: как меняются запуски для двух значений `batch_size`."
   ]
  },
  {
   "cell_type": "markdown",
   "metadata": {},
   "source": [
    "**Ответ:**"
   ]
  },
  {
   "cell_type": "markdown",
   "metadata": {},
   "source": []
  },
  {
   "cell_type": "markdown",
   "metadata": {
    "heading_collapsed": true
   },
   "source": [
    "## `Бонусная часть`"
   ]
  },
  {
   "cell_type": "markdown",
   "source": [
    "Доп. эксперимент. Исследование работы SGD с неточной (усл-я Армиха-Вульфа) оптимизацией шага обучения"
   ],
   "metadata": {
    "collapsed": false
   }
  },
  {
   "cell_type": "code",
   "outputs": [],
   "source": [],
   "metadata": {
    "collapsed": false
   }
  },
  {
   "cell_type": "markdown",
   "metadata": {
    "hidden": true
   },
   "source": [
    "### `Реализация метода оптимизации (1 балл)`\n",
    "\n",
    "Реализуйте метод оптимизации Adam и сравните его работу с SGD + momentum, проведя эксперимент, как в задании 2 (перебор гиперпараметров + кривые обучения)."
   ]
  },
  {
   "cell_type": "code",
   "outputs": [],
   "source": [
    "def Adam(fun, x0, args, **kwargs) -> OptimizeResult:\n",
    "    callback = kwargs['callback']   # feed weights from each iteration to update network and log metrics\n",
    "    beta_momentum = kwargs['beta_momentum']\n",
    "    beta_grad = kwargs['beta_grad']\n",
    "    n_iter = kwargs['n_iter']\n",
    "    gamma = kwargs['lr']\n",
    "    jac = kwargs['jac']\n",
    "    batch_size = kwargs['batch_size']\n",
    "    tolerance = kwargs['tol'] if 'tol' in kwargs else None\n",
    "    tolerance = -1.0 if tolerance is None else tolerance\n",
    "    eps = 1e-6\n",
    "    \n",
    "    if isinstance(args, tuple) and (len(args) == 1):\n",
    "        args = args[0]\n",
    "    \n",
    "    net, X, y = args\n",
    "    \n",
    "    m = 0.0\n",
    "    v = 0.0\n",
    "    weights = x0\n",
    "    nit = 0\n",
    "    msg = \"Max iterations reached\"\n",
    "    \n",
    "    for i in range(1, n_iter+1):\n",
    "        batch_indxs = np.array_split(np.arange(X.shape[0]), X.shape[0] // batch_size)\n",
    "        loss_sum = 0.0\n",
    "        \n",
    "        for batch_ind in batch_indxs:\n",
    "            # print(f\"NEGRO\")\n",
    "            loss = fun(weights, (net, X[batch_ind, :], y[batch_ind]))\n",
    "            grad = fun.derivative(weights, (net, X[batch_ind, :], y[batch_ind]))\n",
    "            m = beta_momentum * m + (1 - beta_momentum) * grad\n",
    "            v = beta_grad * v + (1 - beta_grad) * np.power(grad, 2)\n",
    "            \n",
    "            m_hat = m / (1 - np.power(beta_momentum, i))\n",
    "            v_hat = v / (1 - np.power(beta_grad, i))\n",
    "            \n",
    "            delta = (m_hat / (v_hat + eps))\n",
    "            print(f\"Grad norm = {np.linalg.norm(delta) / len(delta)}\")\n",
    "            \n",
    "            weights -= gamma * delta\n",
    "            loss_sum += loss\n",
    "        \n",
    "        if callback is not None:\n",
    "            callback(weights)\n",
    "        \n",
    "        nit += 1\n",
    "        loss_sum /= len(batch_indxs)\n",
    "        if loss_sum <= tolerance:\n",
    "            msg = f\"Convergence: loss ({loss_sum}) <= tolerance ({tolerance})\"\n",
    "            break\n",
    "    \n",
    "    res = {\n",
    "        \"message\": msg,\n",
    "        \"success\": True,\n",
    "        \"nit\": nit,\n",
    "        \"x\": weights\n",
    "    }\n",
    "    \n",
    "    return res"
   ],
   "metadata": {
    "collapsed": false,
    "ExecuteTime": {
     "end_time": "2024-02-28T17:00:37.069741800Z",
     "start_time": "2024-02-28T17:00:36.999695300Z"
    }
   },
   "execution_count": 56
  },
  {
   "cell_type": "code",
   "outputs": [
    {
     "name": "stdout",
     "output_type": "stream",
     "text": [
      "Grad norm = 4.274661587196552\n",
      "Grad norm = 2.7515229862724864\n",
      "Grad norm = 2.1859435558801694\n",
      "Grad norm = 1.921555680663594\n",
      "Grad norm = 1.7887691867786732\n",
      "Grad norm = 1.6798774010849375\n",
      "Grad norm = 1.5875685575704999\n",
      "Grad norm = 1.5061704467936259\n",
      "Grad norm = 1.461328833457401\n",
      "Grad norm = 1.4145628052373693\n",
      "Grad norm = 1.3529651468410573\n",
      "Grad norm = 1.296204902706158\n",
      "Grad norm = 1.2395369057193617\n",
      "Grad norm = 1.1934154337602738\n",
      "Grad norm = 1.1518223779164458\n",
      "Grad norm = 1.1135212179204323\n",
      "Grad norm = 1.079899394737964\n",
      "Grad norm = 1.0552522173163799\n",
      "Grad norm = 1.0281103161140865\n",
      "Grad norm = 0.9925163733660409\n",
      "Grad norm = 0.9554680062927204\n",
      "Grad norm = 0.9259230687493168\n",
      "Grad norm = 0.8965250720788043\n",
      "Grad norm = 0.8667132657337593\n",
      "Grad norm = 0.8372696088179957\n",
      "Grad norm = 0.8089489568994874\n",
      "Grad norm = 0.7815249168386208\n",
      "Grad norm = 0.7519105822389298\n",
      "Grad norm = 0.7306571577447523\n",
      "Grad norm = 0.7116540050841741\n",
      "Grad norm = 0.691315932679455\n",
      "Grad norm = 0.6751607411657036\n",
      "Grad norm = 0.6652554659744447\n",
      "Grad norm = 0.6544738784137759\n",
      "Grad norm = 0.6426759728880542\n",
      "Grad norm = 0.6182054247281623\n",
      "Grad norm = 0.5743662936254513\n",
      "Grad norm = 0.5252217761012531\n",
      "Grad norm = 0.49484892200086866\n",
      "Grad norm = 0.4863562103113475\n",
      "Grad norm = 0.4841026465932604\n",
      "Grad norm = 0.4753427040152036\n",
      "Grad norm = 0.4601641647784311\n",
      "Grad norm = 0.44076927275960065\n",
      "Grad norm = 0.4177501641410345\n",
      "Grad norm = 0.3929503355491219\n",
      "Grad norm = 0.36950562014895794\n",
      "Grad norm = 0.3474073732438477\n",
      "Grad norm = 0.3240377203703413\n",
      "Grad norm = 0.3043224262401\n",
      "Grad norm = 0.293012007722432\n",
      "Grad norm = 0.28588877660292067\n",
      "Grad norm = 0.28042021100938\n",
      "Grad norm = 0.2745812553365808\n",
      "Grad norm = 0.2675517452238065\n",
      "Grad norm = 0.26011515895617343\n",
      "Grad norm = 0.253039534206945\n",
      "Grad norm = 0.24559955930779082\n",
      "Grad norm = 0.2369898540602043\n",
      "Grad norm = 0.22751810828542957\n",
      "Grad norm = 0.2177392112489474\n",
      "Grad norm = 0.20768335818911818\n",
      "Grad norm = 0.19815728028986374\n",
      "Grad norm = 0.18989472585698616\n",
      "Grad norm = 0.1826563229299575\n",
      "Grad norm = 0.17529174292171457\n",
      "Grad norm = 0.16772910045657533\n",
      "Grad norm = 0.160431728792735\n",
      "Grad norm = 0.15265984777966488\n",
      "Grad norm = 0.14495230822636446\n",
      "Grad norm = 0.13754837659182445\n",
      "Grad norm = 0.1310032875209673\n",
      "Grad norm = 0.1251429960342437\n",
      "Grad norm = 0.11941688379786947\n",
      "Grad norm = 0.11373090689366722\n",
      "Grad norm = 0.10842032570111514\n",
      "Grad norm = 0.10371244611002252\n",
      "Grad norm = 0.09928960051778785\n",
      "Grad norm = 0.0948862182207725\n",
      "Grad norm = 0.09072453612449595\n",
      "Grad norm = 0.08710408704949046\n",
      "Grad norm = 0.08404099319076366\n",
      "Grad norm = 0.08129048845408317\n",
      "Grad norm = 0.07860347461870047\n",
      "Grad norm = 0.07592407799547415\n",
      "Grad norm = 0.07333432172490281\n",
      "Grad norm = 0.07080422062298192\n",
      "Grad norm = 0.06832665755536754\n",
      "Grad norm = 0.06590377493870772\n",
      "Grad norm = 0.0635086228424427\n",
      "Grad norm = 0.061236240738060645\n",
      "Grad norm = 0.05912872278538804\n",
      "Grad norm = 0.057195804892437224\n",
      "Grad norm = 0.05536955237707095\n",
      "Grad norm = 0.053608327382592025\n",
      "Grad norm = 0.05187018754569598\n",
      "Grad norm = 0.0501103627758213\n",
      "Grad norm = 0.04839099327993502\n",
      "Grad norm = 0.04677879192129163\n",
      "Grad norm = 0.045252182115494276\n",
      "Grad norm = 0.043772773001471504\n",
      "Grad norm = 0.04227815999542023\n",
      "Grad norm = 0.04081140517178348\n",
      "Grad norm = 0.03938345173261805\n",
      "Grad norm = 0.038127290667210344\n",
      "Grad norm = 0.037026597148227376\n",
      "Grad norm = 0.03595668837736853\n",
      "Grad norm = 0.0349824618938261\n",
      "Grad norm = 0.03409273318777298\n",
      "Grad norm = 0.033293847604212924\n",
      "Grad norm = 0.03256102691338629\n",
      "Grad norm = 0.031911360196990354\n",
      "Grad norm = 0.031301152187003314\n",
      "Grad norm = 0.030761152067511854\n",
      "Grad norm = 0.030223810098128762\n",
      "Grad norm = 0.029723496872686328\n",
      "Grad norm = 0.02923530074445017\n",
      "Grad norm = 0.028727442873099456\n",
      "Grad norm = 0.028272013869159122\n",
      "Grad norm = 0.0278572105117279\n",
      "Grad norm = 0.02747595281872899\n",
      "Grad norm = 0.027126472830155093\n",
      "Grad norm = 0.02674568003936585\n",
      "Grad norm = 0.02639253823500022\n",
      "Grad norm = 0.026072784286694347\n",
      "Grad norm = 0.0257669206562669\n",
      "Grad norm = 0.025443525730314217\n",
      "Grad norm = 0.025107835559149427\n",
      "Grad norm = 0.024820802536354526\n",
      "Grad norm = 0.02452356767780347\n",
      "Grad norm = 0.02425194323189894\n",
      "Grad norm = 0.023936356982133325\n",
      "Grad norm = 0.023615169354632395\n",
      "Grad norm = 0.023341253116394158\n",
      "Grad norm = 0.023070016736534256\n",
      "Grad norm = 0.02283152051851592\n",
      "Grad norm = 0.022583445279623082\n",
      "Grad norm = 0.022346201510560607\n",
      "Grad norm = 0.02209277373787201\n",
      "Grad norm = 0.021855599269415476\n",
      "Grad norm = 0.021632946892759155\n",
      "Grad norm = 0.021388039738362993\n",
      "Grad norm = 0.02114989873213494\n",
      "Grad norm = 0.020935522722154862\n",
      "Grad norm = 0.020744353197746493\n",
      "Grad norm = 0.020576359649730955\n",
      "Grad norm = 0.020381236931205166\n",
      "Grad norm = 0.02022817070200175\n",
      "Grad norm = 0.020098477505413104\n",
      "Grad norm = 0.01994696977455227\n",
      "Grad norm = 0.019783015685146805\n",
      "Grad norm = 0.019608610258626563\n",
      "Grad norm = 0.019453379104875664\n",
      "Grad norm = 0.01931399550904987\n",
      "Grad norm = 0.01915581089788368\n",
      "Grad norm = 0.019030767337195643\n",
      "Grad norm = 0.018888033322640174\n",
      "Grad norm = 0.018756934433990288\n",
      "Grad norm = 0.018635231009669476\n",
      "Grad norm = 0.01846654098161669\n",
      "Grad norm = 0.01830624493405107\n",
      "Grad norm = 0.018159086109788287\n",
      "Grad norm = 0.01803746499832791\n",
      "Grad norm = 0.01791489786298589\n",
      "Grad norm = 0.017748955389930855\n",
      "Grad norm = 0.01761896606082539\n",
      "Grad norm = 0.01750027671302047\n",
      "Grad norm = 0.017368155784013673\n",
      "Grad norm = 0.01724683947326399\n",
      "Grad norm = 0.017106137990457376\n",
      "Grad norm = 0.016971094749763053\n",
      "Grad norm = 0.016842700425619892\n",
      "Grad norm = 0.016717994588067175\n",
      "Grad norm = 0.016613829267403256\n",
      "Grad norm = 0.016491215595022164\n",
      "Grad norm = 0.016390390508605548\n",
      "Grad norm = 0.016300136821920042\n",
      "Grad norm = 0.01618652970895808\n",
      "Grad norm = 0.016105801441632685\n",
      "Grad norm = 0.016018590254910998\n",
      "Grad norm = 0.015947220138141472\n",
      "Grad norm = 0.015810818804370606\n",
      "Grad norm = 0.015703230210855745\n",
      "Grad norm = 0.01558725176850715\n",
      "Grad norm = 0.015490283863681299\n",
      "Grad norm = 0.015391215132499404\n",
      "Grad norm = 0.015303638515660236\n",
      "Grad norm = 0.015182529004682902\n",
      "Grad norm = 0.015075610923447079\n",
      "Grad norm = 0.014999080648617867\n",
      "Grad norm = 0.014913481475959696\n",
      "Grad norm = 0.01483669661181838\n",
      "Grad norm = 0.01478144815314184\n",
      "Grad norm = 0.014673444887827269\n",
      "Grad norm = 0.014586826966334713\n",
      "Grad norm = 0.014489721786311954\n",
      "Grad norm = 0.014404977520668808\n",
      "Grad norm = 0.014342518653600804\n",
      "Grad norm = 0.014245451387339163\n",
      "Grad norm = 0.014153494623794264\n",
      "Grad norm = 0.01406583046052092\n",
      "Grad norm = 0.01399448478586317\n",
      "Grad norm = 0.01392479983711589\n",
      "Grad norm = 0.013852934486327973\n",
      "Grad norm = 0.0137532927593926\n",
      "Grad norm = 0.013677800902272925\n",
      "Grad norm = 0.013602066548704083\n",
      "Grad norm = 0.013529091626354527\n",
      "Grad norm = 0.013444887350448492\n",
      "Grad norm = 0.013383691350987045\n",
      "Grad norm = 0.013333535934956746\n",
      "Grad norm = 0.013267923145844475\n",
      "Grad norm = 0.013173037444711135\n",
      "Grad norm = 0.013088727982839863\n",
      "Grad norm = 0.01301232635893718\n",
      "Grad norm = 0.012951605360037654\n",
      "Grad norm = 0.012898155486530836\n",
      "Grad norm = 0.012811057470174312\n",
      "Grad norm = 0.012730469202854311\n",
      "Grad norm = 0.012656916005085136\n",
      "Grad norm = 0.012592402634949935\n",
      "Grad norm = 0.012530774350603794\n",
      "Grad norm = 0.012485193845578828\n",
      "Grad norm = 0.012423264919266985\n",
      "Grad norm = 0.012359381434258588\n",
      "Grad norm = 0.012293938566884424\n",
      "Grad norm = 0.012220819443777552\n",
      "Grad norm = 0.012165926520931375\n",
      "Grad norm = 0.012105933515357815\n",
      "Grad norm = 0.012036730148218492\n",
      "Grad norm = 0.011962138277135895\n",
      "Grad norm = 0.011887673617994412\n",
      "Grad norm = 0.011831557328917401\n",
      "Grad norm = 0.011764109482411002\n",
      "Grad norm = 0.011705188967501593\n",
      "Grad norm = 0.01165521174424113\n",
      "Grad norm = 0.011609771936186218\n",
      "Grad norm = 0.011543357688021432\n",
      "Grad norm = 0.011476722749213344\n",
      "Grad norm = 0.011423646752275961\n",
      "Grad norm = 0.011379651686235703\n",
      "Grad norm = 0.011311130017679524\n",
      "Grad norm = 0.011251627909820205\n",
      "Grad norm = 0.011198100041808759\n",
      "Grad norm = 0.011143154479457048\n",
      "Grad norm = 0.011071680918335835\n",
      "Grad norm = 0.011011226919518783\n",
      "Grad norm = 0.01094846529694307\n",
      "Grad norm = 0.010903005358958589\n",
      "Grad norm = 0.010857950650166613\n",
      "Grad norm = 0.010816677044690288\n",
      "Grad norm = 0.010759341736142035\n",
      "Grad norm = 0.010716909555278828\n",
      "Grad norm = 0.010663167759494727\n",
      "Grad norm = 0.010606530440151153\n",
      "Grad norm = 0.01055148458541811\n",
      "Grad norm = 0.010491914891509822\n",
      "Grad norm = 0.010449300995545656\n",
      "Grad norm = 0.010406787772396769\n",
      "Grad norm = 0.010362517559177938\n",
      "Grad norm = 0.010320129255581355\n",
      "Grad norm = 0.01026985993038674\n",
      "Grad norm = 0.010204480508618267\n",
      "Grad norm = 0.010150356210322545\n",
      "Grad norm = 0.010106090104450018\n",
      "Grad norm = 0.010053608676960283\n",
      "Grad norm = 0.010010445870755145\n",
      "Grad norm = 0.009958345278019405\n",
      "Grad norm = 0.009921492313066715\n",
      "Grad norm = 0.009882591409515265\n",
      "Grad norm = 0.00983350951248054\n",
      "Grad norm = 0.009806960798026473\n",
      "Grad norm = 0.009755148198776736\n",
      "Grad norm = 0.009723014061064477\n",
      "Grad norm = 0.009649048943371473\n",
      "Grad norm = 0.00959259698757786\n",
      "Grad norm = 0.009549090495315986\n",
      "Grad norm = 0.009499801678924915\n",
      "Grad norm = 0.009479251895209744\n",
      "Grad norm = 0.009417285142389105\n",
      "Grad norm = 0.009368272915954672\n",
      "Grad norm = 0.009324357166714333\n",
      "Grad norm = 0.009283678612519091\n",
      "Grad norm = 0.009261664464178379\n",
      "Grad norm = 0.00920755913061143\n",
      "Grad norm = 0.009157607546118348\n",
      "Grad norm = 0.009106625967666919\n",
      "Grad norm = 0.009073089373699997\n",
      "Grad norm = 0.009028247487375006\n",
      "Grad norm = 0.00899586069263642\n",
      "Grad norm = 0.0089547475668915\n",
      "Grad norm = 0.008913813113367553\n",
      "Grad norm = 0.008865504644426729\n",
      "Grad norm = 0.008837728697116467\n",
      "Grad norm = 0.008797614542197758\n",
      "Grad norm = 0.008757515945516678\n",
      "Grad norm = 0.008725139541058144\n",
      "Grad norm = 0.008684584079429692\n",
      "Grad norm = 0.008648694158158506\n",
      "Grad norm = 0.008593845516506268\n",
      "Grad norm = 0.008543124425135742\n",
      "Grad norm = 0.008506043150631085\n",
      "Grad norm = 0.00847282629667299\n",
      "Grad norm = 0.00844036256860506\n",
      "Grad norm = 0.0084162690598497\n",
      "Grad norm = 0.008372772083284678\n",
      "Grad norm = 0.008336097183994128\n",
      "Grad norm = 0.008302112667466948\n",
      "Grad norm = 0.008267417006592625\n",
      "Grad norm = 0.008244091879457323\n",
      "Grad norm = 0.008200667120759085\n",
      "Grad norm = 0.008160639749676945\n",
      "Grad norm = 0.008115700350372625\n",
      "Grad norm = 0.008080786631873265\n",
      "Grad norm = 0.008043634854742859\n",
      "Grad norm = 0.008023556392763947\n",
      "Grad norm = 0.007978936309231268\n",
      "Grad norm = 0.007938928366410863\n",
      "Grad norm = 0.007909078910827318\n",
      "Grad norm = 0.007888629942122284\n",
      "Grad norm = 0.007866010745999944\n",
      "Grad norm = 0.007830094812925853\n",
      "Grad norm = 0.007790851744617197\n",
      "Grad norm = 0.007756919335315075\n",
      "Grad norm = 0.007722610501492279\n",
      "Grad norm = 0.007697740289974379\n",
      "Grad norm = 0.00765465631556143\n",
      "Grad norm = 0.007618986382213108\n",
      "Grad norm = 0.007586122186851599\n",
      "Grad norm = 0.007557489830635833\n",
      "Grad norm = 0.007524270649775716\n",
      "Grad norm = 0.007498083316632678\n",
      "Grad norm = 0.007466519241779115\n",
      "Grad norm = 0.007437885144872695\n",
      "Grad norm = 0.00740834195462885\n",
      "Grad norm = 0.0073823062767521715\n",
      "Grad norm = 0.007355952573076607\n",
      "Grad norm = 0.007337335129806274\n",
      "Grad norm = 0.007297785666490152\n",
      "Grad norm = 0.007272076921401154\n",
      "Grad norm = 0.007235359418515009\n",
      "Grad norm = 0.007214144157171057\n",
      "Grad norm = 0.007167144968250949\n",
      "Grad norm = 0.007143255071084739\n",
      "Grad norm = 0.007112210929278908\n",
      "Grad norm = 0.007087441941474513\n",
      "Grad norm = 0.007069767954570841\n",
      "Grad norm = 0.00703027959237675\n",
      "Grad norm = 0.007013728062953762\n",
      "Grad norm = 0.00698947839493126\n",
      "Grad norm = 0.0069673430167194106\n",
      "Grad norm = 0.006943561942889996\n",
      "Grad norm = 0.00690400026464152\n",
      "Grad norm = 0.006871581474415133\n",
      "Grad norm = 0.006853781019461946\n",
      "Grad norm = 0.006818757937232441\n",
      "Grad norm = 0.006797541103754062\n",
      "Grad norm = 0.006775773899582081\n",
      "Grad norm = 0.00673217674299893\n",
      "Grad norm = 0.0067182901120988\n",
      "Grad norm = 0.006690937399190874\n",
      "Grad norm = 0.006656629326588021\n",
      "Grad norm = 0.006645782846662308\n",
      "Grad norm = 0.00661726898699638\n",
      "Grad norm = 0.006580538753758814\n",
      "Grad norm = 0.0065611426495211615\n",
      "Grad norm = 0.006538038560228448\n",
      "Grad norm = 0.0065146255379321715\n",
      "Grad norm = 0.006485006269822744\n",
      "Grad norm = 0.006459363874906339\n",
      "Grad norm = 0.006429013571702118\n",
      "Grad norm = 0.006416478613153739\n",
      "Grad norm = 0.006384056340516735\n",
      "Grad norm = 0.006356110520263051\n",
      "Grad norm = 0.0063244533247690015\n",
      "Grad norm = 0.006293198222494799\n",
      "Grad norm = 0.0062805013622640885\n",
      "Grad norm = 0.0062614363387137285\n",
      "Grad norm = 0.006251387936384591\n",
      "Grad norm = 0.006218228603066245\n",
      "Grad norm = 0.0061907302494007286\n",
      "Grad norm = 0.0061737841453915945\n",
      "Grad norm = 0.0061414520338883005\n",
      "Grad norm = 0.006112687420689592\n",
      "Grad norm = 0.006091926166323548\n",
      "Grad norm = 0.006062442076875917\n",
      "Grad norm = 0.006045496345058273\n",
      "Grad norm = 0.006010667471743944\n",
      "Grad norm = 0.005997480637436358\n",
      "Grad norm = 0.005977595606992578\n",
      "Grad norm = 0.0059564536108752605\n",
      "Grad norm = 0.005937024636123264\n",
      "Grad norm = 0.005910253197084131\n",
      "Grad norm = 0.005885717446087687\n",
      "Grad norm = 0.005864971507693968\n",
      "Grad norm = 0.005844717520210053\n",
      "Grad norm = 0.005821043669354119\n",
      "Grad norm = 0.005795665888650997\n",
      "Grad norm = 0.005778065422696483\n",
      "Grad norm = 0.005749630587813673\n",
      "Grad norm = 0.0057302666062906986\n",
      "Grad norm = 0.005717228812867417\n",
      "Grad norm = 0.005702823897298483\n",
      "Grad norm = 0.005674906245366255\n",
      "Grad norm = 0.005652223831230521\n",
      "Grad norm = 0.005630771525134437\n",
      "Grad norm = 0.005616884523240389\n",
      "Grad norm = 0.005600405013643391\n",
      "Grad norm = 0.005573364932169786\n",
      "Grad norm = 0.005549473484485855\n",
      "Grad norm = 0.005526663756157633\n",
      "Grad norm = 0.005506258236976961\n",
      "Grad norm = 0.005494008338588988\n",
      "Grad norm = 0.005476917547500374\n",
      "Grad norm = 0.005445847128615384\n",
      "Grad norm = 0.005422935559378946\n",
      "Grad norm = 0.005407307874530438\n",
      "Grad norm = 0.00538968893306778\n",
      "Grad norm = 0.005375174719433871\n",
      "Grad norm = 0.005348941694720095\n",
      "Grad norm = 0.005332956966277057\n",
      "Grad norm = 0.005316302770525123\n",
      "Grad norm = 0.005290007099908319\n",
      "Grad norm = 0.005274942536638178\n",
      "Grad norm = 0.0052455830049828985\n",
      "Grad norm = 0.005226583158545371\n",
      "Grad norm = 0.005211376444392029\n",
      "Grad norm = 0.005188318911649417\n",
      "Grad norm = 0.00517572578645098\n",
      "Grad norm = 0.005153289916949746\n",
      "Grad norm = 0.005127936765052245\n",
      "Grad norm = 0.0051152657438166505\n",
      "Grad norm = 0.00509832453133574\n",
      "Grad norm = 0.005085660161148401\n",
      "Grad norm = 0.005065982228573096\n",
      "Grad norm = 0.005039087907481436\n",
      "Grad norm = 0.00502020090046365\n",
      "Grad norm = 0.005006043465636162\n",
      "Grad norm = 0.004987713165609546\n",
      "Grad norm = 0.0049661278683467616\n",
      "Grad norm = 0.004944052770813072\n",
      "Grad norm = 0.004926967416343663\n",
      "Grad norm = 0.004914662289353896\n",
      "Grad norm = 0.004897366341361297\n",
      "Grad norm = 0.004885090796481312\n",
      "Grad norm = 0.004862303012551548\n",
      "Grad norm = 0.004845817977652562\n",
      "Grad norm = 0.004820839168604489\n",
      "Grad norm = 0.004807293538172721\n",
      "Grad norm = 0.004786251373591607\n",
      "Grad norm = 0.004773430049533388\n",
      "Grad norm = 0.004752874574672813\n",
      "Grad norm = 0.004736724665342362\n",
      "Grad norm = 0.004714998692948211\n",
      "Grad norm = 0.0047003673019151105\n",
      "Grad norm = 0.0046890287173612785\n",
      "Grad norm = 0.00467119001405796\n",
      "Grad norm = 0.004655837721969716\n",
      "Grad norm = 0.0046356019746384165\n",
      "Grad norm = 0.004616223470303873\n",
      "Grad norm = 0.004599543745112945\n",
      "Grad norm = 0.0045845602490724195\n",
      "Grad norm = 0.004574687661761602\n",
      "Grad norm = 0.004551597720568109\n",
      "Grad norm = 0.004532813350534022\n",
      "Grad norm = 0.0045191649642995985\n",
      "Grad norm = 0.004497712109124266\n",
      "Grad norm = 0.0044863191865261425\n",
      "Grad norm = 0.004465708001290338\n",
      "Grad norm = 0.004450272106804578\n",
      "Grad norm = 0.004438231610545232\n",
      "Grad norm = 0.004421372083683073\n",
      "Grad norm = 0.00440312711960133\n",
      "Grad norm = 0.004389172721350757\n",
      "Grad norm = 0.00437655434439811\n",
      "Grad norm = 0.00436203036017431\n",
      "Grad norm = 0.004340302354097729\n",
      "Grad norm = 0.004322156323200832\n",
      "Grad norm = 0.004305358941402952\n",
      "Grad norm = 0.004290765689089706\n",
      "Grad norm = 0.004281334135985378\n",
      "Grad norm = 0.0042629556898495635\n",
      "Grad norm = 0.004245486656056827\n",
      "Grad norm = 0.004231079759281383\n",
      "Grad norm = 0.004218273685173857\n",
      "Grad norm = 0.0042009543427207864\n",
      "Grad norm = 0.004190237953155174\n",
      "Grad norm = 0.004181362026767755\n",
      "Grad norm = 0.0041563096828222445\n",
      "Grad norm = 0.0041429454156634606\n",
      "Grad norm = 0.004126448641909989\n",
      "Grad norm = 0.004111055495615876\n",
      "Grad norm = 0.004100207700150039\n",
      "Grad norm = 0.004086716660788208\n",
      "Grad norm = 0.004069124063121296\n",
      "Grad norm = 0.004054679865819984\n",
      "Grad norm = 0.004039389476407585\n",
      "Grad norm = 0.004027224580803432\n",
      "Grad norm = 0.004013646552139697\n",
      "Grad norm = 0.003999968897046089\n",
      "Grad norm = 0.0039879497569671055\n",
      "Grad norm = 0.003976458548251194\n",
      "Grad norm = 0.003954355877055728\n",
      "Grad norm = 0.003941650634863267\n",
      "Grad norm = 0.003933969266979363\n",
      "Grad norm = 0.0039145213564304275\n",
      "Grad norm = 0.0039024361837188912\n",
      "Grad norm = 0.0038855706028291417\n",
      "Grad norm = 0.0038702676595448317\n",
      "Grad norm = 0.003859419640512147\n",
      "Grad norm = 0.003848267730828377\n",
      "Grad norm = 0.0038319518334272752\n",
      "Grad norm = 0.0038186982211359053\n",
      "Grad norm = 0.003805200892794892\n",
      "Grad norm = 0.003792546308957806\n",
      "Grad norm = 0.0037798514442752913\n",
      "Grad norm = 0.0037670300619351053\n",
      "Grad norm = 0.0037532243104922026\n",
      "Grad norm = 0.003742821491673904\n",
      "Grad norm = 0.003728786638651392\n",
      "Grad norm = 0.0037189659903312505\n",
      "Grad norm = 0.003705573891564719\n",
      "Grad norm = 0.003691111502058328\n",
      "Grad norm = 0.0036810133052941237\n",
      "Grad norm = 0.0036702028890804607\n",
      "Grad norm = 0.003659542295551357\n",
      "Grad norm = 0.0036450022887348655\n",
      "Grad norm = 0.0036303145816485535\n",
      "Grad norm = 0.0036193025858009802\n",
      "Grad norm = 0.0036034744588404944\n",
      "Grad norm = 0.0035921523791130777\n",
      "Grad norm = 0.003581088646000161\n",
      "Grad norm = 0.0035680142669865657\n",
      "Grad norm = 0.003559009969537083\n",
      "Grad norm = 0.0035424564915478066\n",
      "Grad norm = 0.0035328114423248138\n",
      "Grad norm = 0.003521144237964702\n",
      "Grad norm = 0.0035094429512080687\n",
      "Grad norm = 0.0035018950458796678\n",
      "Grad norm = 0.0034892111219067415\n",
      "Grad norm = 0.0034713737591849972\n",
      "Grad norm = 0.003459728064739321\n",
      "Grad norm = 0.0034524441493711715\n",
      "Grad norm = 0.0034363678091400814\n",
      "Grad norm = 0.003430228716058756\n",
      "Grad norm = 0.0034139768325774085\n",
      "Grad norm = 0.0034037423044361256\n",
      "Grad norm = 0.0033903421236835445\n",
      "Grad norm = 0.0033826429327802852\n",
      "Grad norm = 0.0033766352558078495\n",
      "Grad norm = 0.003360657673944639\n",
      "Grad norm = 0.0033471375120342085\n",
      "Grad norm = 0.0033392382484836317\n",
      "Grad norm = 0.003322842950606728\n",
      "Grad norm = 0.003317068460545823\n",
      "Grad norm = 0.0033027452681882044\n",
      "Grad norm = 0.003291205007741335\n",
      "Grad norm = 0.0032836770323861446\n",
      "Grad norm = 0.003271222645511427\n",
      "Grad norm = 0.0032569975183917394\n",
      "Grad norm = 0.003248428633949449\n",
      "Grad norm = 0.0032372969047888946\n",
      "Grad norm = 0.0032285353911849207\n",
      "Grad norm = 0.0032148349340283956\n",
      "Grad norm = 0.0032055666122034854\n",
      "Grad norm = 0.003195598017734536\n",
      "Grad norm = 0.003184714233915643\n",
      "Grad norm = 0.0031742615920899416\n",
      "Grad norm = 0.0031616948171713957\n",
      "Grad norm = 0.003153194302891638\n",
      "Grad norm = 0.003144653974192821\n",
      "Grad norm = 0.0031313093135116516\n",
      "Grad norm = 0.003124056811186178\n",
      "Grad norm = 0.003110012410067748\n",
      "Grad norm = 0.003099068739481345\n",
      "Grad norm = 0.0030916726881536714\n",
      "Grad norm = 0.0030864937829699632\n",
      "Grad norm = 0.003074495146702889\n",
      "Grad norm = 0.0030604972815678334\n",
      "Grad norm = 0.0030529100091650245\n",
      "Grad norm = 0.00303979606295096\n",
      "Grad norm = 0.003030268059420727\n",
      "Grad norm = 0.0030192151186830885\n",
      "Grad norm = 0.0030105599506242615\n",
      "Grad norm = 0.0030014895032776695\n",
      "Grad norm = 0.002990190325170221\n",
      "Grad norm = 0.0029820808287596818\n",
      "Grad norm = 0.0029725034822808815\n",
      "Grad norm = 0.0029616888898248072\n",
      "Grad norm = 0.002954589425895327\n",
      "Grad norm = 0.0029449414674576867\n",
      "Grad norm = 0.002935323707430727\n",
      "Grad norm = 0.0029226716547803085\n",
      "Grad norm = 0.0029125672871290332\n",
      "Grad norm = 0.0029038646119976972\n",
      "Grad norm = 0.0028953870021758473\n",
      "Grad norm = 0.002887026096172376\n",
      "Grad norm = 0.0028778288823892374\n",
      "Grad norm = 0.0028662342173619414\n",
      "Grad norm = 0.0028566640578892933\n",
      "Grad norm = 0.002847601080873028\n",
      "Grad norm = 0.0028392148542306034\n",
      "Grad norm = 0.002831585429005736\n",
      "Grad norm = 0.00282399730089634\n",
      "Grad norm = 0.0028133744666089225\n",
      "Grad norm = 0.0028037971150199317\n",
      "Grad norm = 0.0027938445552413748\n",
      "Grad norm = 0.0027856709777895083\n",
      "Grad norm = 0.002778035719371294\n",
      "Grad norm = 0.0027717974981070945\n",
      "Grad norm = 0.002760392895786471\n",
      "Grad norm = 0.002750106209022216\n",
      "Grad norm = 0.002740674107579291\n",
      "Grad norm = 0.0027327636949233004\n",
      "Grad norm = 0.002726384030569161\n",
      "Grad norm = 0.00271521589105986\n",
      "Grad norm = 0.002706849249025182\n",
      "Grad norm = 0.0026979552282685505\n",
      "Grad norm = 0.0026893848642500265\n",
      "Grad norm = 0.0026801414786099243\n",
      "Grad norm = 0.002672418229544895\n",
      "Grad norm = 0.002664448479478291\n",
      "Grad norm = 0.0026550045054015287\n",
      "Grad norm = 0.0026459371688113196\n",
      "Grad norm = 0.002638939116384086\n",
      "Grad norm = 0.002631147473074358\n",
      "Grad norm = 0.002622808190900464\n",
      "Grad norm = 0.0026127489115238493\n",
      "Grad norm = 0.0026045810166758178\n",
      "Grad norm = 0.0025957201296040156\n",
      "Grad norm = 0.002588885829802892\n",
      "Grad norm = 0.0025789791818949053\n",
      "Grad norm = 0.0025717302321558925\n",
      "Grad norm = 0.002563432631174101\n",
      "Grad norm = 0.002556544310038247\n",
      "Grad norm = 0.0025464589580376056\n",
      "Grad norm = 0.0025393091146658953\n",
      "Grad norm = 0.0025308247062715635\n",
      "Grad norm = 0.002522002066976765\n",
      "Grad norm = 0.002517424436063588\n",
      "Grad norm = 0.002507052589992045\n",
      "Grad norm = 0.00249914009376452\n",
      "Grad norm = 0.002491524302247677\n",
      "Grad norm = 0.002484933320357667\n",
      "Grad norm = 0.0024769193509256533\n",
      "Grad norm = 0.0024682770850288486\n",
      "Grad norm = 0.0024599311059343557\n",
      "Grad norm = 0.002451482503361122\n",
      "Grad norm = 0.002444685136137627\n",
      "Grad norm = 0.002436046172457505\n",
      "Grad norm = 0.0024299316401742194\n",
      "Grad norm = 0.0024227312282702313\n",
      "Grad norm = 0.002414449720771267\n",
      "Grad norm = 0.002408133962446559\n",
      "Grad norm = 0.0023992781801793557\n",
      "Grad norm = 0.0023916232785565327\n",
      "Grad norm = 0.002385056562287262\n",
      "Grad norm = 0.0023794988811390696\n",
      "Grad norm = 0.0023692065962540544\n",
      "Grad norm = 0.0023619888793244437\n",
      "Grad norm = 0.0023560193215947036\n",
      "Grad norm = 0.0023484125657987865\n",
      "Grad norm = 0.002341337250012711\n",
      "Grad norm = 0.0023350381117890405\n",
      "Grad norm = 0.0023262702207858775\n",
      "Grad norm = 0.002319780903168468\n",
      "Grad norm = 0.0023134611721095507\n",
      "Grad norm = 0.0023068473687754697\n",
      "Grad norm = 0.0022987124357232045\n",
      "Grad norm = 0.002291824352582833\n",
      "Grad norm = 0.0022839022718942024\n",
      "Grad norm = 0.0022772115629452\n",
      "Grad norm = 0.002269730202071365\n",
      "Grad norm = 0.002262700973724716\n",
      "Grad norm = 0.0022552695372516623\n",
      "Grad norm = 0.002248513558249107\n",
      "Grad norm = 0.0022413831460670096\n",
      "Grad norm = 0.0022345100784811867\n",
      "Grad norm = 0.0022275236733620986\n",
      "Grad norm = 0.0022205324665018596\n",
      "Grad norm = 0.0022142530934423656\n",
      "Grad norm = 0.0022064271785676285\n",
      "Grad norm = 0.002200374496764744\n",
      "Grad norm = 0.0021932639447987587\n",
      "Grad norm = 0.002187073266226325\n",
      "Grad norm = 0.002180180142934536\n",
      "Grad norm = 0.002173091597910595\n",
      "Grad norm = 0.002166674096452902\n",
      "Grad norm = 0.002159924174363924\n",
      "Grad norm = 0.0021550559119738752\n",
      "Grad norm = 0.0021475387176796055\n",
      "Grad norm = 0.002140523873834625\n",
      "Grad norm = 0.002133381036790859\n",
      "Grad norm = 0.0021269558851430446\n",
      "Grad norm = 0.0021208180239383023\n",
      "Grad norm = 0.0021144152267442685\n",
      "Grad norm = 0.0021078592337892654\n",
      "Grad norm = 0.002100861844262194\n",
      "Grad norm = 0.002094350321304716\n",
      "Grad norm = 0.0020893240206789794\n",
      "Grad norm = 0.00208234457335032\n",
      "Grad norm = 0.002075303325996442\n",
      "Grad norm = 0.0020702952086862994\n",
      "Grad norm = 0.0020642339210069803\n",
      "Grad norm = 0.002056917458614341\n",
      "Grad norm = 0.0020503650036239364\n",
      "Grad norm = 0.002044021652427823\n",
      "Grad norm = 0.002039742705624767\n",
      "Grad norm = 0.002032121932348809\n",
      "Grad norm = 0.002026593204721824\n",
      "Grad norm = 0.002021537834901501\n",
      "Grad norm = 0.002014372608354154\n",
      "Grad norm = 0.002007650083414308\n",
      "Grad norm = 0.002002766726746417\n",
      "Grad norm = 0.0019956655519868154\n",
      "Grad norm = 0.0019895654976453923\n",
      "Grad norm = 0.0019848258297700803\n",
      "Grad norm = 0.0019786747105262964\n",
      "Grad norm = 0.001972459754628208\n",
      "Grad norm = 0.001967102966365358\n",
      "Grad norm = 0.001962128706612156\n",
      "Grad norm = 0.001954795241553164\n",
      "Grad norm = 0.0019489075867614647\n",
      "Grad norm = 0.0019429674228157957\n",
      "Grad norm = 0.0019376003414268714\n",
      "Grad norm = 0.0019310845051956544\n",
      "Grad norm = 0.0019263138268292245\n",
      "Grad norm = 0.0019199141193320698\n",
      "Grad norm = 0.001913899378316535\n",
      "Grad norm = 0.0019085610700316957\n",
      "Grad norm = 0.001904933856787539\n",
      "Grad norm = 0.0018977533870203523\n",
      "Grad norm = 0.0018911680063840113\n",
      "Grad norm = 0.0018868712252040425\n",
      "Grad norm = 0.0018803396299904144\n",
      "Grad norm = 0.0018751219216344326\n",
      "Grad norm = 0.0018693613103156156\n",
      "Grad norm = 0.001864192153057492\n",
      "Grad norm = 0.0018581250519863744\n",
      "Grad norm = 0.0018529400302332395\n",
      "Grad norm = 0.0018472852657392992\n",
      "Grad norm = 0.001842022045777418\n",
      "Grad norm = 0.0018379197007677304\n",
      "Grad norm = 0.0018307921535611323\n",
      "Grad norm = 0.001825083435414506\n",
      "Grad norm = 0.0018199766678138327\n",
      "Grad norm = 0.001814955425274287\n",
      "Grad norm = 0.0018100507008309854\n",
      "Grad norm = 0.0018050213945324327\n",
      "Grad norm = 0.0017989100394623318\n",
      "Grad norm = 0.0017936157623471758\n",
      "Grad norm = 0.001788176960316453\n",
      "Grad norm = 0.0017831435023704242\n",
      "Grad norm = 0.001777344325699324\n",
      "Grad norm = 0.0017736714761071785\n",
      "Grad norm = 0.001767118540338307\n",
      "Grad norm = 0.001761869961084106\n",
      "Grad norm = 0.0017574526574550622\n",
      "Grad norm = 0.0017518972250545042\n",
      "Grad norm = 0.0017472203411571829\n",
      "Grad norm = 0.0017419128104167595\n",
      "Grad norm = 0.0017368560897091138\n",
      "Grad norm = 0.0017322149875698305\n",
      "Grad norm = 0.001726688611734804\n",
      "Grad norm = 0.0017219346587203416\n",
      "Grad norm = 0.001717044480440069\n",
      "Grad norm = 0.0017122611394827314\n",
      "Grad norm = 0.0017072878213247233\n",
      "Grad norm = 0.001702227202398361\n",
      "Grad norm = 0.0016984471102235775\n",
      "Grad norm = 0.0016928503904616724\n",
      "Grad norm = 0.001688147029401159\n",
      "Grad norm = 0.0016830064677114873\n",
      "Grad norm = 0.0016779635623235688\n",
      "Grad norm = 0.0016742425380371737\n",
      "Grad norm = 0.001668678520360783\n",
      "Grad norm = 0.001663854394217813\n",
      "Grad norm = 0.001659024177927559\n",
      "Grad norm = 0.0016539441135969414\n",
      "Grad norm = 0.0016501002468914448\n",
      "Grad norm = 0.0016449583465718177\n",
      "Grad norm = 0.0016409914957404717\n",
      "Grad norm = 0.0016359725896213366\n",
      "Grad norm = 0.0016313434177051525\n",
      "Grad norm = 0.001627011451934073\n",
      "Grad norm = 0.0016221395652427255\n",
      "Grad norm = 0.0016179078934415022\n",
      "Grad norm = 0.0016125437625575025\n",
      "Grad norm = 0.001608772740814305\n",
      "Grad norm = 0.0016038702061179399\n",
      "Grad norm = 0.001599328631740656\n",
      "Grad norm = 0.0015950970166151834\n",
      "Grad norm = 0.0015908127837037055\n",
      "Grad norm = 0.001586310400753098\n",
      "Grad norm = 0.0015827552126063454\n",
      "Grad norm = 0.001577921478740878\n",
      "Grad norm = 0.0015724821716168575\n",
      "Grad norm = 0.0015685949419226265\n",
      "Grad norm = 0.0015654109831842982\n",
      "Grad norm = 0.0015598576068492234\n",
      "Grad norm = 0.0015558079310750805\n",
      "Grad norm = 0.001551968649048293\n",
      "Grad norm = 0.0015478737327744869\n",
      "Grad norm = 0.0015427859786691857\n",
      "Grad norm = 0.0015386391952862087\n",
      "Grad norm = 0.0015350763823143915\n",
      "Grad norm = 0.0015305290586624613\n",
      "Grad norm = 0.0015258219657887286\n",
      "Grad norm = 0.0015223446112623564\n",
      "Grad norm = 0.0015178510850979029\n",
      "Grad norm = 0.0015131647378576472\n",
      "Grad norm = 0.0015088046917881117\n",
      "Grad norm = 0.0015051373389692705\n",
      "Grad norm = 0.0015007408466596603\n",
      "Grad norm = 0.001496235005913122\n",
      "Grad norm = 0.0014918460688604523\n",
      "Grad norm = 0.001488046908393124\n",
      "Grad norm = 0.0014834627608833113\n",
      "Grad norm = 0.0014788952108528784\n",
      "Grad norm = 0.0014748003898311954\n",
      "Grad norm = 0.0014713733650936081\n",
      "Grad norm = 0.0014676812782132293\n",
      "Grad norm = 0.0014632505717783893\n",
      "Grad norm = 0.001459695865111609\n",
      "Grad norm = 0.0014552066111380832\n",
      "Grad norm = 0.00145265039527105\n",
      "Grad norm = 0.0014473523428004463\n",
      "Grad norm = 0.0014435540967171613\n",
      "Grad norm = 0.0014399497686210698\n",
      "Grad norm = 0.0014356776517956942\n",
      "Grad norm = 0.0014320078282781055\n",
      "Grad norm = 0.0014280264768442494\n",
      "Grad norm = 0.0014240607815008452\n",
      "Grad norm = 0.0014210959255535097\n",
      "Grad norm = 0.0014162540391952525\n",
      "Grad norm = 0.0014128044747336289\n",
      "Grad norm = 0.0014088365544947796\n",
      "Grad norm = 0.0014046094715960413\n",
      "Grad norm = 0.0014009305073140843\n",
      "Grad norm = 0.001397700849045246\n",
      "Grad norm = 0.00139441082540673\n",
      "Grad norm = 0.0013898642043643592\n",
      "Grad norm = 0.0013869744847026537\n",
      "Grad norm = 0.001382659311407765\n",
      "Grad norm = 0.0013801445594114246\n",
      "Grad norm = 0.00137569341529691\n",
      "Grad norm = 0.0013721121227734637\n",
      "Grad norm = 0.0013692023963164815\n",
      "Grad norm = 0.0013646891269129663\n",
      "Grad norm = 0.001361808278224298\n",
      "Grad norm = 0.0013583122411669367\n",
      "Grad norm = 0.0013553430619632073\n",
      "Grad norm = 0.001350660719552095\n",
      "Grad norm = 0.0013479130693881717\n",
      "Grad norm = 0.0013452124112911018\n",
      "Grad norm = 0.0013406006326026384\n",
      "Grad norm = 0.0013376230458190645\n",
      "Grad norm = 0.0013334119516502014\n",
      "Grad norm = 0.0013300209734085071\n",
      "Grad norm = 0.0013269299912990395\n",
      "Grad norm = 0.001323495100136207\n",
      "Grad norm = 0.001319987506794061\n",
      "Grad norm = 0.0013162162669529387\n",
      "Grad norm = 0.0013133885995725875\n",
      "Grad norm = 0.0013098807897091841\n",
      "Grad norm = 0.001305743387927035\n",
      "Grad norm = 0.0013025695849068568\n",
      "Grad norm = 0.0012996687234506034\n",
      "Grad norm = 0.001296305827743434\n",
      "Grad norm = 0.001293110514145309\n",
      "Grad norm = 0.0012898828987549062\n",
      "Grad norm = 0.0012868357883859746\n",
      "Grad norm = 0.001283277877111\n",
      "Grad norm = 0.0012793834456761163\n",
      "Grad norm = 0.001276497314858737\n",
      "Grad norm = 0.001273026508516888\n",
      "Grad norm = 0.0012706432890386898\n",
      "Grad norm = 0.0012670006008926478\n",
      "Grad norm = 0.001263436524023371\n",
      "Grad norm = 0.0012602206265853735\n",
      "Grad norm = 0.0012570201812003494\n",
      "Grad norm = 0.0012542372536918788\n",
      "Grad norm = 0.0012514161394393596\n",
      "Grad norm = 0.0012480944436750626\n",
      "Grad norm = 0.001245069803939034\n",
      "Grad norm = 0.0012417324250220826\n",
      "Grad norm = 0.0012390896687638903\n",
      "Grad norm = 0.0012365551739028805\n",
      "Grad norm = 0.0012321951361503845\n",
      "Grad norm = 0.0012298197329347349\n",
      "Grad norm = 0.0012281990136197448\n",
      "Grad norm = 0.0012229912181752013\n",
      "Grad norm = 0.0012204097449547856\n",
      "Grad norm = 0.0012183146722873693\n",
      "Grad norm = 0.0012142706713207095\n",
      "Grad norm = 0.001211627779295762\n",
      "Grad norm = 0.0012089564153004084\n",
      "Grad norm = 0.001205733009976171\n",
      "Grad norm = 0.001202592542187096\n",
      "Grad norm = 0.0011997099428239628\n",
      "Grad norm = 0.0011969526607871943\n",
      "Grad norm = 0.001193935962806789\n",
      "Grad norm = 0.0011916251328732655\n",
      "Grad norm = 0.0011888457922249298\n",
      "Grad norm = 0.001185668242644896\n",
      "Grad norm = 0.0011825540973702889\n",
      "Grad norm = 0.0011798482207653308\n",
      "Grad norm = 0.0011775868819519702\n",
      "Grad norm = 0.001173841881738399\n",
      "Grad norm = 0.001171872848911187\n",
      "Grad norm = 0.0011682573909726618\n",
      "Grad norm = 0.0011652276479352925\n",
      "Grad norm = 0.0011632141814735552\n",
      "Grad norm = 0.0011604771079476957\n",
      "Grad norm = 0.001157594380321088\n",
      "Grad norm = 0.0011547962296267402\n",
      "Grad norm = 0.0011516096816109145\n",
      "Grad norm = 0.0011492283947005402\n",
      "Grad norm = 0.0011459302971828743\n",
      "Grad norm = 0.0011439570525215575\n",
      "Grad norm = 0.0011409179095743086\n",
      "Grad norm = 0.0011378532093469999\n",
      "Grad norm = 0.001135565763509331\n",
      "Grad norm = 0.0011330765754224601\n",
      "Grad norm = 0.0011298095405234544\n",
      "Grad norm = 0.001127335759186913\n",
      "Grad norm = 0.0011250105320002866\n",
      "Grad norm = 0.0011221896653349542\n",
      "Grad norm = 0.0011199530928474202\n",
      "Grad norm = 0.0011167587636157052\n",
      "Grad norm = 0.0011140043381747892\n",
      "Grad norm = 0.0011116593749779685\n",
      "Grad norm = 0.0011088040199015363\n",
      "Grad norm = 0.0011060716894073879\n",
      "Grad norm = 0.0011034164365235565\n",
      "Grad norm = 0.0011009055663070133\n",
      "Grad norm = 0.0010988023166794802\n",
      "Grad norm = 0.0010960210002154225\n",
      "Grad norm = 0.0010940872961525032\n",
      "Grad norm = 0.0010910403416138667\n",
      "Grad norm = 0.001088508556388777\n",
      "Grad norm = 0.001086131527992339\n",
      "Grad norm = 0.0010833616863753699\n",
      "Grad norm = 0.0010808335166760648\n",
      "Grad norm = 0.0010783270679065424\n",
      "Grad norm = 0.0010765330525812412\n",
      "Grad norm = 0.0010734228395060572\n",
      "Grad norm = 0.0010712658655607419\n",
      "Grad norm = 0.001069152183509439\n",
      "Grad norm = 0.0010663827454579881\n",
      "Grad norm = 0.001063950477318702\n",
      "Grad norm = 0.0010619889321635953\n",
      "Grad norm = 0.0010591025083804527\n",
      "Grad norm = 0.0010566468120649078\n",
      "Grad norm = 0.001054441877689257\n",
      "Grad norm = 0.0010519511606031401\n",
      "Grad norm = 0.0010496679761904124\n",
      "Grad norm = 0.0010468186418779906\n",
      "Grad norm = 0.0010451091092643753\n",
      "Grad norm = 0.0010425245948844698\n",
      "Grad norm = 0.0010404291312167847\n",
      "Grad norm = 0.001037584392697694\n",
      "Grad norm = 0.0010353445761973488\n",
      "Grad norm = 0.0010334990462206961\n",
      "Grad norm = 0.0010306864593385067\n",
      "Grad norm = 0.0010289252809387087\n",
      "Grad norm = 0.001026051196668042\n",
      "Grad norm = 0.001023665365477844\n",
      "Grad norm = 0.0010218020184273328\n",
      "Grad norm = 0.0010192596607584573\n",
      "Grad norm = 0.0010168891506416348\n",
      "Grad norm = 0.0010149752145910337\n",
      "Grad norm = 0.0010128097845470369\n",
      "Grad norm = 0.0010107300911283339\n",
      "Grad norm = 0.0010080444192749273\n",
      "Grad norm = 0.0010058308781686043\n",
      "Grad norm = 0.0010040638119508435\n",
      "Grad norm = 0.0010019436072476447\n",
      "Grad norm = 0.000999834227885654\n",
      "Grad norm = 0.0009979002239570486\n",
      "Grad norm = 0.0009949737730841773\n",
      "Grad norm = 0.000992558759049692\n",
      "Grad norm = 0.000991040601487197\n",
      "Grad norm = 0.0009892659830519114\n",
      "Grad norm = 0.00098650214343784\n",
      "Grad norm = 0.0009840856126447544\n",
      "Grad norm = 0.0009823676195003137\n",
      "Grad norm = 0.000980296622808674\n",
      "Grad norm = 0.0009781612119301084\n",
      "Grad norm = 0.0009757559121809864\n",
      "Grad norm = 0.000973887787399741\n",
      "Grad norm = 0.0009719964302465539\n",
      "Grad norm = 0.00096973516123806\n",
      "Grad norm = 0.0009681391612346049\n",
      "Grad norm = 0.0009661583156325876\n",
      "Grad norm = 0.0009641743678908807\n",
      "Grad norm = 0.0009618102630263518\n",
      "Grad norm = 0.0009599317524386156\n",
      "Grad norm = 0.000958487689487503\n",
      "Grad norm = 0.0009568101516565833\n"
     ]
    },
    {
     "data": {
      "text/plain": "('Max iterations reached', 1000)"
     },
     "execution_count": 57,
     "metadata": {},
     "output_type": "execute_result"
    }
   ],
   "source": [
    "layer_c = 3\n",
    "network = make_network(input_size, 32, output_size, layer_c, ReLU)\n",
    "initialize_network(network, \"Kaiming\")\n",
    "weights = get_weights(network)\n",
    "\n",
    "cb = Callback(network, X_train, y_train, X_test, y_test, print=False)\n",
    "\n",
    "res = minimize(\n",
    "    compute_loss_grad, weights,       # fun and start point\n",
    "    args=(network, X_train, y_train), # args passed to fun\n",
    "    method=Adam,                       # optimization method\n",
    "    jac=True,                         # says that gradient is computed in fun,\n",
    "    options={\n",
    "        'n_iter': 1_000,\n",
    "        'beta_momentum': 0.9,\n",
    "        'beta_grad': 0.99,\n",
    "        'lr': 12 * 1e-5,\n",
    "        'batch_size': X_train.shape[0],\n",
    "    },\n",
    "    tol=1e-8,\n",
    "    callback=cb.call,\n",
    ")\n",
    "\n",
    "res['message'], res['nit']"
   ],
   "metadata": {
    "collapsed": false,
    "ExecuteTime": {
     "end_time": "2024-02-28T17:00:54.955544Z",
     "start_time": "2024-02-28T17:00:37.511940400Z"
    }
   },
   "execution_count": 57
  },
  {
   "cell_type": "code",
   "outputs": [
    {
     "data": {
      "text/plain": "<Figure size 1000x500 with 1 Axes>",
      "image/png": "[encoded data removed]"
     },
     "metadata": {},
     "output_type": "display_data"
    }
   ],
   "source": [
    "fig, ax = plt.subplots(1, 1, figsize=(10, 5))\n",
    "ax.plot(cb.train_acc, label=f\"train acc [{cb.train_acc[-1]:5.4f}]\")\n",
    "ax.plot(cb.test_acc, label=f\"test acc{cb.test_acc[-1]:5.4f}\")\n",
    "ax.set_xlabel(\"Iteration\")\n",
    "ax.set_ylabel(\"Accuracy\")\n",
    "ax.grid(True)\n",
    "ax.legend()\n",
    "\n",
    "fig.tight_layout()\n",
    "plt.show()"
   ],
   "metadata": {
    "collapsed": false,
    "ExecuteTime": {
     "end_time": "2024-02-28T17:01:42.599365500Z",
     "start_time": "2024-02-28T17:01:42.414571Z"
    }
   },
   "execution_count": 60
  },
  {
   "cell_type": "code",
   "outputs": [
    {
     "data": {
      "text/plain": "0.9533333333333334"
     },
     "execution_count": 59,
     "metadata": {},
     "output_type": "execute_result"
    }
   ],
   "source": [
    "cb.test_acc[-1]"
   ],
   "metadata": {
    "collapsed": false,
    "ExecuteTime": {
     "end_time": "2024-02-28T17:01:18.105095700Z",
     "start_time": "2024-02-28T17:01:18.016572300Z"
    }
   },
   "execution_count": 59
  },
  {
   "cell_type": "markdown",
   "metadata": {
    "hidden": true
   },
   "source": [
    "### `Dropout (1 балл)`\n",
    "\n",
    "Реализуйте слой Dropout. Сравните обучение сети из большого числа слоёв при использовании Dropout и без его использования (предварительно подберите адекватный параметр $p$). Сделайте выводы."
   ]
  },
  {
   "cell_type": "code",
   "outputs": [],
   "source": [
    "class Dropout(Layer):\n",
    "    def __init__(self, p: float = 0.5):\n",
    "        super().__init__()\n",
    "        self.p = p\n",
    "        self.mask = None\n",
    "    \n",
    "    def forward(self, input: NDArray) -> NDArray:\n",
    "        if self.inference_mode:\n",
    "            return input\n",
    "        \n",
    "        mask = np.random.binomial(n=1, p=1 - self.p, size=input.shape)\n",
    "        # print(mask)\n",
    "        self.mask = mask / (1 - self.p)\n",
    "        return input * self.mask\n",
    "    \n",
    "    def backward(self, grad_output: NDArray) -> Tuple[NDArray, NDArray]:\n",
    "        if self.inference_mode:\n",
    "            return grad_output, []\n",
    "        \n",
    "        return grad_output * self.mask, []\n",
    "    \n",
    "    def __repr__(self):\n",
    "        return f\"Dropout(p={self.p}, enabled={not self.inference_mode})\""
   ],
   "metadata": {
    "collapsed": false,
    "ExecuteTime": {
     "end_time": "2024-02-28T19:42:09.652193Z",
     "start_time": "2024-02-28T19:42:09.503681Z"
    }
   },
   "execution_count": 144
  },
  {
   "cell_type": "code",
   "outputs": [],
   "source": [
    "def make_network(input_size, hidden_layers_size, output_size, n_layers=3, activation_class=ReLU, dropout: bool = False, dropout_p: float = 0.5):\n",
    "    network = []\n",
    "\n",
    "    for layer_idx in range(n_layers):\n",
    "        # Compute sizes of current linear layer\n",
    "        layer_in = input_size if layer_idx == 0 else hidden_layers_size\n",
    "        layer_out = output_size if layer_idx == n_layers - 1 else hidden_layers_size\n",
    "        \n",
    "        # Add linear layer to the network\n",
    "        network.append(Dense(layer_in, layer_out))\n",
    "\n",
    "        # Add activation after each layer except the last one\n",
    "        if layer_idx != n_layers - 1:\n",
    "            network.append(activation_class())\n",
    "        \n",
    "        if dropout:\n",
    "            network.append(Dropout(dropout_p))\n",
    "\n",
    "    # Add LogSoftmax layer to the network\n",
    "    network.append(LogSoftmax())\n",
    "\n",
    "    return network"
   ],
   "metadata": {
    "collapsed": false,
    "ExecuteTime": {
     "end_time": "2024-02-28T19:42:10.511325700Z",
     "start_time": "2024-02-28T19:42:10.403812100Z"
    }
   },
   "execution_count": 145
  },
  {
   "cell_type": "code",
   "outputs": [],
   "source": [
    "def set_inference_mode(network: List[Layer], inference_mode: bool):\n",
    "    for layer in network:\n",
    "        layer.inference_mode = inference_mode"
   ],
   "metadata": {
    "collapsed": false,
    "ExecuteTime": {
     "end_time": "2024-02-28T19:42:11.488660100Z",
     "start_time": "2024-02-28T19:42:11.352951Z"
    }
   },
   "execution_count": 146
  },
  {
   "cell_type": "code",
   "outputs": [
    {
     "data": {
      "text/plain": "[Dense(64, 32),\n Relu(),\n Dropout(p=0.5, enabled=True),\n Dense(32, 32),\n Relu(),\n Dropout(p=0.5, enabled=True),\n Dense(32, 10),\n Dropout(p=0.5, enabled=True),\n LogSoftmax()]"
     },
     "execution_count": 147,
     "metadata": {},
     "output_type": "execute_result"
    }
   ],
   "source": [
    "network = make_network(input_size, 32, output_size, layer_c, ReLU, dropout=True, dropout_p=0.5)\n",
    "set_inference_mode(network, False)\n",
    "weights = get_weights(network)\n",
    "network"
   ],
   "metadata": {
    "collapsed": false,
    "ExecuteTime": {
     "end_time": "2024-02-28T19:42:12.000505300Z",
     "start_time": "2024-02-28T19:42:11.872460600Z"
    }
   },
   "execution_count": 147
  },
  {
   "cell_type": "code",
   "outputs": [
    {
     "data": {
      "text/plain": "array([[1.11111111, 1.11111111, 1.11111111, 1.11111111],\n       [1.11111111, 1.11111111, 1.11111111, 1.11111111],\n       [1.11111111, 1.11111111, 1.11111111, 0.        ]])"
     },
     "execution_count": 149,
     "metadata": {},
     "output_type": "execute_result"
    }
   ],
   "source": [
    "do = Dropout(p=0.1)\n",
    "do.inference_mode = False\n",
    "do.forward(np.ones((3, 4)))"
   ],
   "metadata": {
    "collapsed": false,
    "ExecuteTime": {
     "end_time": "2024-02-28T19:42:20.076200200Z",
     "start_time": "2024-02-28T19:42:19.903774500Z"
    }
   },
   "execution_count": 149
  },
  {
   "cell_type": "code",
   "outputs": [
    {
     "data": {
      "text/plain": "(1000, True, 'Max iterations reached')"
     },
     "execution_count": 152,
     "metadata": {},
     "output_type": "execute_result"
    }
   ],
   "source": [
    "res = minimize(\n",
    "    compute_loss_grad, weights,       # fun and start point\n",
    "    args=[network, X_train, y_train], # args passed to fun\n",
    "    method=SGD,                       # optimization method\n",
    "    jac=True,                         # says that gradient is computed in fun,\n",
    "    options={'disp': True, 'momentum': 0.9, 'batch_size': 100, 'n_iter': 1_000, 'lr': 0.05},\n",
    "    tol=1e-7\n",
    ")\n",
    "\n",
    "res['nit'], res['success'], res['message']"
   ],
   "metadata": {
    "collapsed": false,
    "ExecuteTime": {
     "end_time": "2024-02-28T19:43:26.183353600Z",
     "start_time": "2024-02-28T19:43:10.667031Z"
    }
   },
   "execution_count": 152
  },
  {
   "cell_type": "code",
   "outputs": [
    {
     "name": "stdout",
     "output_type": "stream",
     "text": [
      "Train NLL: 0.0000167\t\tTest NLL: 0.3441454\n",
      "[Dense(64, 32), Relu(), Dropout(p=0.5, enabled=False), Dense(32, 32), Relu(), Dropout(p=0.5, enabled=False), Dense(32, 10), Dropout(p=0.5, enabled=False), LogSoftmax()]\n",
      "Train accuracy: 1.000\t\tTest accuracy: 0.953\n"
     ]
    }
   ],
   "source": [
    "set_weights(weights=res[\"x\"], network=network)\n",
    "\n",
    "train_NLL = NLL(forward(network, X_train), y_train)\n",
    "test_NLL = NLL(forward(network, X_test), y_test)\n",
    "\n",
    "print(f\"Train NLL: {train_NLL:.7f}\\t\\tTest NLL: {test_NLL:.7f}\")\n",
    "\n",
    "set_inference_mode(network, True)\n",
    "print(network)\n",
    "\n",
    "train_accuracy = accuracy_score(y_true=y_train, y_pred=predict(network, X_train))\n",
    "test_accuracy = accuracy_score(y_true=y_test, y_pred=predict(network, X_test))\n",
    "\n",
    "print(f\"Train accuracy: {train_accuracy:.3f}\\t\\tTest accuracy: {test_accuracy:.3f}\")"
   ],
   "metadata": {
    "collapsed": false,
    "ExecuteTime": {
     "end_time": "2024-02-28T19:43:40.174678600Z",
     "start_time": "2024-02-28T19:43:40.076708400Z"
    }
   },
   "execution_count": 153
  },
  {
   "cell_type": "code",
   "outputs": [
    {
     "name": "stdout",
     "output_type": "stream",
     "text": [
      "i= 0\tj= 0\tdropout_p=0.00\ttrain acc: 1.0000 test acc: 0.9622\n",
      "i= 0\tj= 1\tdropout_p=0.00\ttrain acc: 1.0000 test acc: 0.9667\n",
      "i= 0\tj= 2\tdropout_p=0.00\ttrain acc: 1.0000 test acc: 0.9689\n",
      "i= 0\tj= 3\tdropout_p=0.00\ttrain acc: 1.0000 test acc: 0.9644\n",
      "i= 0\tj= 4\tdropout_p=0.00\ttrain acc: 1.0000 test acc: 0.9622\n",
      "i= 0\tj= 5\tdropout_p=0.00\ttrain acc: 1.0000 test acc: 0.9600\n",
      "i= 0\tj= 6\tdropout_p=0.00\ttrain acc: 1.0000 test acc: 0.9600\n",
      "i= 0\tj= 7\tdropout_p=0.00\ttrain acc: 1.0000 test acc: 0.9644\n",
      "i= 0\tj= 8\tdropout_p=0.00\ttrain acc: 1.0000 test acc: 0.9644\n",
      "i= 0\tj= 9\tdropout_p=0.00\ttrain acc: 1.0000 test acc: 0.9644\n",
      "i= 0\tj=10\tdropout_p=0.00\ttrain acc: 1.0000 test acc: 0.9667\n",
      "i= 0\tj=11\tdropout_p=0.00\ttrain acc: 1.0000 test acc: 0.9644\n",
      "i= 0\tj=12\tdropout_p=0.00\ttrain acc: 1.0000 test acc: 0.9578\n",
      "i= 0\tj=13\tdropout_p=0.00\ttrain acc: 1.0000 test acc: 0.9667\n",
      "i= 0\tj=14\tdropout_p=0.00\ttrain acc: 1.0000 test acc: 0.9667\n",
      "i= 1\tj= 0\tdropout_p=0.10\ttrain acc: 1.0000 test acc: 0.9756\n",
      "i= 1\tj= 1\tdropout_p=0.10\ttrain acc: 1.0000 test acc: 0.9778\n",
      "i= 1\tj= 2\tdropout_p=0.10\ttrain acc: 1.0000 test acc: 0.9733\n",
      "i= 1\tj= 3\tdropout_p=0.10\ttrain acc: 1.0000 test acc: 0.9644\n",
      "i= 1\tj= 4\tdropout_p=0.10\ttrain acc: 1.0000 test acc: 0.9778\n",
      "i= 1\tj= 5\tdropout_p=0.10\ttrain acc: 1.0000 test acc: 0.9733\n",
      "i= 1\tj= 6\tdropout_p=0.10\ttrain acc: 1.0000 test acc: 0.9733\n",
      "i= 1\tj= 7\tdropout_p=0.10\ttrain acc: 1.0000 test acc: 0.9689\n",
      "i= 1\tj= 8\tdropout_p=0.10\ttrain acc: 1.0000 test acc: 0.9778\n",
      "i= 1\tj= 9\tdropout_p=0.10\ttrain acc: 1.0000 test acc: 0.9756\n",
      "i= 1\tj=10\tdropout_p=0.10\ttrain acc: 1.0000 test acc: 0.9756\n",
      "i= 1\tj=11\tdropout_p=0.10\ttrain acc: 1.0000 test acc: 0.9733\n",
      "i= 1\tj=12\tdropout_p=0.10\ttrain acc: 1.0000 test acc: 0.9778\n",
      "i= 1\tj=13\tdropout_p=0.10\ttrain acc: 1.0000 test acc: 0.9711\n",
      "i= 1\tj=14\tdropout_p=0.10\ttrain acc: 1.0000 test acc: 0.9778\n",
      "i= 2\tj= 0\tdropout_p=0.20\ttrain acc: 1.0000 test acc: 0.9667\n",
      "i= 2\tj= 1\tdropout_p=0.20\ttrain acc: 1.0000 test acc: 0.9711\n",
      "i= 2\tj= 2\tdropout_p=0.20\ttrain acc: 1.0000 test acc: 0.9689\n",
      "i= 2\tj= 3\tdropout_p=0.20\ttrain acc: 1.0000 test acc: 0.9667\n",
      "i= 2\tj= 4\tdropout_p=0.20\ttrain acc: 1.0000 test acc: 0.9644\n",
      "i= 2\tj= 5\tdropout_p=0.20\ttrain acc: 1.0000 test acc: 0.9689\n",
      "i= 2\tj= 6\tdropout_p=0.20\ttrain acc: 1.0000 test acc: 0.9733\n",
      "i= 2\tj= 7\tdropout_p=0.20\ttrain acc: 1.0000 test acc: 0.9756\n",
      "i= 2\tj= 8\tdropout_p=0.20\ttrain acc: 1.0000 test acc: 0.9711\n",
      "i= 2\tj= 9\tdropout_p=0.20\ttrain acc: 1.0000 test acc: 0.9689\n",
      "i= 2\tj=10\tdropout_p=0.20\ttrain acc: 1.0000 test acc: 0.9733\n",
      "i= 2\tj=11\tdropout_p=0.20\ttrain acc: 1.0000 test acc: 0.9644\n",
      "i= 2\tj=12\tdropout_p=0.20\ttrain acc: 1.0000 test acc: 0.9711\n",
      "i= 2\tj=13\tdropout_p=0.20\ttrain acc: 1.0000 test acc: 0.9800\n",
      "i= 2\tj=14\tdropout_p=0.20\ttrain acc: 1.0000 test acc: 0.9756\n",
      "i= 3\tj= 0\tdropout_p=0.30\ttrain acc: 1.0000 test acc: 0.9689\n",
      "i= 3\tj= 1\tdropout_p=0.30\ttrain acc: 1.0000 test acc: 0.9600\n",
      "i= 3\tj= 2\tdropout_p=0.30\ttrain acc: 1.0000 test acc: 0.9644\n",
      "i= 3\tj= 3\tdropout_p=0.30\ttrain acc: 1.0000 test acc: 0.9667\n",
      "i= 3\tj= 4\tdropout_p=0.30\ttrain acc: 1.0000 test acc: 0.9578\n",
      "i= 3\tj= 5\tdropout_p=0.30\ttrain acc: 1.0000 test acc: 0.9733\n",
      "i= 3\tj= 6\tdropout_p=0.30\ttrain acc: 1.0000 test acc: 0.9711\n",
      "i= 3\tj= 7\tdropout_p=0.30\ttrain acc: 0.9993 test acc: 0.9689\n",
      "i= 3\tj= 8\tdropout_p=0.30\ttrain acc: 1.0000 test acc: 0.9711\n",
      "i= 3\tj= 9\tdropout_p=0.30\ttrain acc: 1.0000 test acc: 0.9600\n",
      "i= 3\tj=10\tdropout_p=0.30\ttrain acc: 0.9993 test acc: 0.9556\n",
      "i= 3\tj=11\tdropout_p=0.30\ttrain acc: 1.0000 test acc: 0.9644\n",
      "i= 3\tj=12\tdropout_p=0.30\ttrain acc: 1.0000 test acc: 0.9644\n",
      "i= 3\tj=13\tdropout_p=0.30\ttrain acc: 1.0000 test acc: 0.9689\n",
      "i= 3\tj=14\tdropout_p=0.30\ttrain acc: 1.0000 test acc: 0.9689\n",
      "i= 4\tj= 0\tdropout_p=0.40\ttrain acc: 0.9993 test acc: 0.9600\n",
      "i= 4\tj= 1\tdropout_p=0.40\ttrain acc: 0.9993 test acc: 0.9600\n",
      "i= 4\tj= 2\tdropout_p=0.40\ttrain acc: 0.9993 test acc: 0.9667\n",
      "i= 4\tj= 3\tdropout_p=0.40\ttrain acc: 0.9978 test acc: 0.9689\n",
      "i= 4\tj= 4\tdropout_p=0.40\ttrain acc: 0.9978 test acc: 0.9644\n",
      "i= 4\tj= 5\tdropout_p=0.40\ttrain acc: 1.0000 test acc: 0.9644\n",
      "i= 4\tj= 6\tdropout_p=0.40\ttrain acc: 0.9993 test acc: 0.9667\n",
      "i= 4\tj= 7\tdropout_p=0.40\ttrain acc: 0.9970 test acc: 0.9600\n",
      "i= 4\tj= 8\tdropout_p=0.40\ttrain acc: 0.9985 test acc: 0.9644\n",
      "i= 4\tj= 9\tdropout_p=0.40\ttrain acc: 0.9993 test acc: 0.9622\n",
      "i= 4\tj=10\tdropout_p=0.40\ttrain acc: 0.9993 test acc: 0.9622\n",
      "i= 4\tj=11\tdropout_p=0.40\ttrain acc: 0.9978 test acc: 0.9667\n",
      "i= 4\tj=12\tdropout_p=0.40\ttrain acc: 0.9985 test acc: 0.9667\n",
      "i= 4\tj=13\tdropout_p=0.40\ttrain acc: 0.9963 test acc: 0.9667\n",
      "i= 4\tj=14\tdropout_p=0.40\ttrain acc: 1.0000 test acc: 0.9600\n",
      "i= 5\tj= 0\tdropout_p=0.50\ttrain acc: 0.9963 test acc: 0.9578\n",
      "i= 5\tj= 1\tdropout_p=0.50\ttrain acc: 0.9970 test acc: 0.9556\n",
      "i= 5\tj= 2\tdropout_p=0.50\ttrain acc: 0.9985 test acc: 0.9511\n",
      "i= 5\tj= 3\tdropout_p=0.50\ttrain acc: 0.9978 test acc: 0.9622\n",
      "i= 5\tj= 4\tdropout_p=0.50\ttrain acc: 0.9978 test acc: 0.9622\n",
      "i= 5\tj= 5\tdropout_p=0.50\ttrain acc: 0.9963 test acc: 0.9578\n",
      "i= 5\tj= 6\tdropout_p=0.50\ttrain acc: 0.9955 test acc: 0.9622\n",
      "i= 5\tj= 7\tdropout_p=0.50\ttrain acc: 0.9918 test acc: 0.9578\n",
      "i= 5\tj= 8\tdropout_p=0.50\ttrain acc: 0.9970 test acc: 0.9556\n",
      "i= 5\tj= 9\tdropout_p=0.50\ttrain acc: 0.9948 test acc: 0.9622\n",
      "i= 5\tj=10\tdropout_p=0.50\ttrain acc: 0.9970 test acc: 0.9622\n",
      "i= 5\tj=11\tdropout_p=0.50\ttrain acc: 0.9948 test acc: 0.9600\n",
      "i= 5\tj=12\tdropout_p=0.50\ttrain acc: 0.9889 test acc: 0.9467\n",
      "i= 5\tj=13\tdropout_p=0.50\ttrain acc: 0.9970 test acc: 0.9556\n",
      "i= 5\tj=14\tdropout_p=0.50\ttrain acc: 0.9948 test acc: 0.9556\n",
      "i= 6\tj= 0\tdropout_p=0.60\ttrain acc: 0.9926 test acc: 0.9444\n",
      "i= 6\tj= 1\tdropout_p=0.60\ttrain acc: 0.9859 test acc: 0.9533\n",
      "i= 6\tj= 2\tdropout_p=0.60\ttrain acc: 0.9889 test acc: 0.9556\n",
      "i= 6\tj= 3\tdropout_p=0.60\ttrain acc: 0.9889 test acc: 0.9489\n",
      "i= 6\tj= 4\tdropout_p=0.60\ttrain acc: 0.9918 test acc: 0.9556\n",
      "i= 6\tj= 5\tdropout_p=0.60\ttrain acc: 0.9926 test acc: 0.9533\n",
      "i= 6\tj= 6\tdropout_p=0.60\ttrain acc: 0.8998 test acc: 0.8467\n",
      "i= 6\tj= 7\tdropout_p=0.60\ttrain acc: 0.9933 test acc: 0.9622\n",
      "i= 6\tj= 8\tdropout_p=0.60\ttrain acc: 0.9814 test acc: 0.9356\n",
      "i= 6\tj= 9\tdropout_p=0.60\ttrain acc: 0.9770 test acc: 0.9556\n",
      "i= 6\tj=10\tdropout_p=0.60\ttrain acc: 0.9718 test acc: 0.9089\n",
      "i= 6\tj=11\tdropout_p=0.60\ttrain acc: 0.9918 test acc: 0.9467\n",
      "i= 6\tj=12\tdropout_p=0.60\ttrain acc: 0.9881 test acc: 0.9422\n",
      "i= 6\tj=13\tdropout_p=0.60\ttrain acc: 0.9903 test acc: 0.9489\n",
      "i= 6\tj=14\tdropout_p=0.60\ttrain acc: 0.9748 test acc: 0.9222\n",
      "i= 7\tj= 0\tdropout_p=0.70\ttrain acc: 0.9465 test acc: 0.9178\n",
      "i= 7\tj= 1\tdropout_p=0.70\ttrain acc: 0.7127 test acc: 0.6978\n",
      "i= 7\tj= 2\tdropout_p=0.70\ttrain acc: 0.8731 test acc: 0.8489\n",
      "i= 7\tj= 3\tdropout_p=0.70\ttrain acc: 0.8916 test acc: 0.8533\n",
      "i= 7\tj= 4\tdropout_p=0.70\ttrain acc: 0.7847 test acc: 0.7289\n",
      "i= 7\tj= 5\tdropout_p=0.70\ttrain acc: 0.7194 test acc: 0.6711\n",
      "i= 7\tj= 6\tdropout_p=0.70\ttrain acc: 0.7023 test acc: 0.6489\n",
      "i= 7\tj= 7\tdropout_p=0.70\ttrain acc: 0.8144 test acc: 0.7600\n",
      "i= 7\tj= 8\tdropout_p=0.70\ttrain acc: 0.7921 test acc: 0.7733\n",
      "i= 7\tj= 9\tdropout_p=0.70\ttrain acc: 0.9198 test acc: 0.8889\n",
      "i= 7\tj=10\tdropout_p=0.70\ttrain acc: 0.7112 test acc: 0.6800\n",
      "i= 7\tj=11\tdropout_p=0.70\ttrain acc: 0.8916 test acc: 0.8444\n",
      "i= 7\tj=12\tdropout_p=0.70\ttrain acc: 0.9280 test acc: 0.8689\n",
      "i= 7\tj=13\tdropout_p=0.70\ttrain acc: 0.7030 test acc: 0.6600\n",
      "i= 7\tj=14\tdropout_p=0.70\ttrain acc: 0.6993 test acc: 0.6578\n",
      "i= 8\tj= 0\tdropout_p=0.80\ttrain acc: 0.3036 test acc: 0.2556\n",
      "i= 8\tj= 1\tdropout_p=0.80\ttrain acc: 0.3950 test acc: 0.4000\n",
      "i= 8\tj= 2\tdropout_p=0.80\ttrain acc: 0.3007 test acc: 0.2867\n",
      "i= 8\tj= 3\tdropout_p=0.80\ttrain acc: 0.4053 test acc: 0.3733\n",
      "i= 8\tj= 4\tdropout_p=0.80\ttrain acc: 0.4068 test acc: 0.3578\n",
      "i= 8\tj= 5\tdropout_p=0.80\ttrain acc: 0.3972 test acc: 0.3889\n",
      "i= 8\tj= 6\tdropout_p=0.80\ttrain acc: 0.5033 test acc: 0.4667\n",
      "i= 8\tj= 7\tdropout_p=0.80\ttrain acc: 0.3898 test acc: 0.3200\n",
      "i= 8\tj= 8\tdropout_p=0.80\ttrain acc: 0.3140 test acc: 0.2622\n",
      "i= 8\tj= 9\tdropout_p=0.80\ttrain acc: 0.2940 test acc: 0.2978\n",
      "i= 8\tj=10\tdropout_p=0.80\ttrain acc: 0.3638 test acc: 0.3756\n",
      "i= 8\tj=11\tdropout_p=0.80\ttrain acc: 0.2019 test acc: 0.1844\n",
      "i= 8\tj=12\tdropout_p=0.80\ttrain acc: 0.3111 test acc: 0.2644\n",
      "i= 8\tj=13\tdropout_p=0.80\ttrain acc: 0.4981 test acc: 0.4622\n",
      "i= 8\tj=14\tdropout_p=0.80\ttrain acc: 0.4031 test acc: 0.3600\n",
      "i= 9\tj= 0\tdropout_p=0.90\ttrain acc: 0.1032 test acc: 0.0956\n",
      "i= 9\tj= 1\tdropout_p=0.90\ttrain acc: 0.0958 test acc: 0.1156\n",
      "i= 9\tj= 2\tdropout_p=0.90\ttrain acc: 0.1062 test acc: 0.0844\n",
      "i= 9\tj= 3\tdropout_p=0.90\ttrain acc: 0.1047 test acc: 0.0822\n",
      "i= 9\tj= 4\tdropout_p=0.90\ttrain acc: 0.0987 test acc: 0.1044\n",
      "i= 9\tj= 5\tdropout_p=0.90\ttrain acc: 0.1062 test acc: 0.0844\n",
      "i= 9\tj= 6\tdropout_p=0.90\ttrain acc: 0.1024 test acc: 0.1000\n",
      "i= 9\tj= 7\tdropout_p=0.90\ttrain acc: 0.0987 test acc: 0.1044\n",
      "i= 9\tj= 8\tdropout_p=0.90\ttrain acc: 0.1024 test acc: 0.1000\n",
      "i= 9\tj= 9\tdropout_p=0.90\ttrain acc: 0.1032 test acc: 0.0956\n",
      "i= 9\tj=10\tdropout_p=0.90\ttrain acc: 0.0995 test acc: 0.1067\n",
      "i= 9\tj=11\tdropout_p=0.90\ttrain acc: 0.0973 test acc: 0.1044\n",
      "i= 9\tj=12\tdropout_p=0.90\ttrain acc: 0.1062 test acc: 0.0844\n",
      "i= 9\tj=13\tdropout_p=0.90\ttrain acc: 0.1024 test acc: 0.1000\n",
      "i= 9\tj=14\tdropout_p=0.90\ttrain acc: 0.1062 test acc: 0.0844\n"
     ]
    }
   ],
   "source": [
    "p_vars = np.linspace(0, 0.9, num=10)\n",
    "layer_c = 3\n",
    "\n",
    "accs_train = np.zeros((p_vars.shape[0], 15))\n",
    "accs_test = np.zeros_like(accs_train)\n",
    "\n",
    "for i, dropout_p in enumerate(p_vars):\n",
    "    for j in range(accs_train.shape[1]):\n",
    "        print(f\"{i=:2}\\t{j=:2}\\t{dropout_p=:3.2f}\\t\", end='')\n",
    "        network = make_network(input_size, 32, output_size, layer_c, ReLU, dropout=True, dropout_p=dropout_p)\n",
    "        initialize_network(network, 'Kaiming')\n",
    "        set_inference_mode(network, False)\n",
    "        network, cb = train_network(network, history=True, tol=1e-7, optimizer=SGD, options={'momentum': 0.9, 'batch_size': 100, 'n_iter': 1_000, 'lr': 0.2 * 1e-2})\n",
    "        set_inference_mode(network, True)\n",
    "        \n",
    "        accs_train[i, j] = accuracy_score(y_true=y_train, y_pred=predict(network, X_train))\n",
    "        accs_test[i, j] = accuracy_score(y_true=y_test, y_pred=predict(network, X_test))\n",
    "        print(f\"train acc: {accs_train[i, j]:5.4f} test acc: {accs_test[i, j]:5.4f}\")"
   ],
   "metadata": {
    "collapsed": false,
    "ExecuteTime": {
     "end_time": "2024-02-28T20:41:29.511598Z",
     "start_time": "2024-02-28T19:44:02.076072100Z"
    }
   },
   "execution_count": 154
  },
  {
   "cell_type": "code",
   "outputs": [
    {
     "data": {
      "text/plain": "<Figure size 1000x500 with 1 Axes>",
      "image/png": "[encoded data removed]"
     },
     "metadata": {},
     "output_type": "display_data"
    }
   ],
   "source": [
    "drop_proba_for_plot = [f\"P = {p:3.2f}\" for p in p_vars]\n",
    "\n",
    "fig, ax = plt.subplots(1, 1, figsize=(10, 5))\n",
    "\n",
    "ax.boxplot(accs_test.T, labels=drop_proba_for_plot, showfliers=False)\n",
    "\n",
    "ax.set_title(f\"Test quality in {accs_test.shape[1]} runs\")\n",
    "ax.set_xlabel(\"Initialization\")\n",
    "ax.set_ylabel(\"Test accuracy\")\n",
    "ax.grid(True)\n",
    "\n",
    "fig.tight_layout()\n",
    "plt.show()"
   ],
   "metadata": {
    "collapsed": false,
    "ExecuteTime": {
     "end_time": "2024-02-28T20:48:19.733239800Z",
     "start_time": "2024-02-28T20:48:19.502140400Z"
    }
   },
   "execution_count": 155
  },
  {
   "cell_type": "code",
   "outputs": [
    {
     "data": {
      "text/plain": "<Figure size 1000x500 with 1 Axes>",
      "image/png": "[encoded data removed]"
     },
     "metadata": {},
     "output_type": "display_data"
    }
   ],
   "source": [
    "drop_proba_for_plot = [f\"P = {p:3.2f}\" for p in p_vars]\n",
    "\n",
    "fig, ax = plt.subplots(1, 1, figsize=(10, 5))\n",
    "\n",
    "ax.boxplot(accs_test[:-3, :].T, labels=drop_proba_for_plot[:-3], showfliers=False)\n",
    "\n",
    "ax.set_title(f\"Test quality in {accs_test.shape[1]} runs\")\n",
    "ax.set_xlabel(\"Initialization\")\n",
    "ax.set_ylabel(\"Test accuracy\")\n",
    "ax.grid(True)\n",
    "\n",
    "fig.tight_layout()\n",
    "plt.show()"
   ],
   "metadata": {
    "collapsed": false,
    "ExecuteTime": {
     "end_time": "2024-02-28T20:48:56.053499600Z",
     "start_time": "2024-02-28T20:48:55.915455500Z"
    }
   },
   "execution_count": 157
  },
  {
   "cell_type": "code",
   "outputs": [
    {
     "name": "stdout",
     "output_type": "stream",
     "text": [
      "i= 0\tj= 0\tdropout_p=0.00\ttrain acc: 1.0000 test acc: 0.9444\n",
      "i= 0\tj= 1\tdropout_p=0.00\ttrain acc: 1.0000 test acc: 0.9289\n",
      "i= 0\tj= 2\tdropout_p=0.00\ttrain acc: 1.0000 test acc: 0.9111\n",
      "i= 0\tj= 3\tdropout_p=0.00\ttrain acc: 1.0000 test acc: 0.9133\n",
      "i= 0\tj= 4\tdropout_p=0.00\ttrain acc: 1.0000 test acc: 0.9133\n",
      "i= 0\tj= 5\tdropout_p=0.00\ttrain acc: 1.0000 test acc: 0.9356\n",
      "i= 0\tj= 6\tdropout_p=0.00\ttrain acc: 1.0000 test acc: 0.9356\n",
      "i= 0\tj= 7\tdropout_p=0.00\ttrain acc: 1.0000 test acc: 0.9133\n",
      "i= 0\tj= 8\tdropout_p=0.00\ttrain acc: 1.0000 test acc: 0.9244\n",
      "i= 0\tj= 9\tdropout_p=0.00\ttrain acc: 1.0000 test acc: 0.9267\n",
      "i= 0\tj=10\tdropout_p=0.00\ttrain acc: 1.0000 test acc: 0.9333\n",
      "i= 0\tj=11\tdropout_p=0.00\ttrain acc: 1.0000 test acc: 0.9089\n",
      "i= 0\tj=12\tdropout_p=0.00\ttrain acc: 1.0000 test acc: 0.9200\n",
      "i= 0\tj=13\tdropout_p=0.00\ttrain acc: 1.0000 test acc: 0.9444\n",
      "i= 0\tj=14\tdropout_p=0.00\ttrain acc: 1.0000 test acc: 0.9289\n",
      "i= 1\tj= 0\tdropout_p=0.10\ttrain acc: 1.0000 test acc: 0.9556\n",
      "i= 1\tj= 1\tdropout_p=0.10\ttrain acc: 1.0000 test acc: 0.9644\n",
      "i= 1\tj= 2\tdropout_p=0.10\ttrain acc: 1.0000 test acc: 0.9667\n",
      "i= 1\tj= 3\tdropout_p=0.10\ttrain acc: 0.9993 test acc: 0.9600\n",
      "i= 1\tj= 4\tdropout_p=0.10\ttrain acc: 0.9993 test acc: 0.9556\n",
      "i= 1\tj= 5\tdropout_p=0.10\ttrain acc: 1.0000 test acc: 0.9600\n",
      "i= 1\tj= 6\tdropout_p=0.10\ttrain acc: 1.0000 test acc: 0.9689\n",
      "i= 1\tj= 7\tdropout_p=0.10\ttrain acc: 1.0000 test acc: 0.9644\n",
      "i= 1\tj= 8\tdropout_p=0.10\ttrain acc: 1.0000 test acc: 0.9667\n",
      "i= 1\tj= 9\tdropout_p=0.10\ttrain acc: 1.0000 test acc: 0.9644\n",
      "i= 1\tj=10\tdropout_p=0.10\ttrain acc: 1.0000 test acc: 0.9644\n",
      "i= 1\tj=11\tdropout_p=0.10\ttrain acc: 1.0000 test acc: 0.9711\n",
      "i= 1\tj=12\tdropout_p=0.10\ttrain acc: 1.0000 test acc: 0.9533\n",
      "i= 1\tj=13\tdropout_p=0.10\ttrain acc: 0.9993 test acc: 0.9622\n",
      "i= 1\tj=14\tdropout_p=0.10\ttrain acc: 1.0000 test acc: 0.9600\n",
      "i= 2\tj= 0\tdropout_p=0.20\ttrain acc: 0.9993 test acc: 0.9733\n",
      "i= 2\tj= 1\tdropout_p=0.20\ttrain acc: 0.9978 test acc: 0.9467\n",
      "i= 2\tj= 2\tdropout_p=0.20\ttrain acc: 0.9978 test acc: 0.9600\n",
      "i= 2\tj= 3\tdropout_p=0.20\ttrain acc: 0.9985 test acc: 0.9600\n",
      "i= 2\tj= 4\tdropout_p=0.20\ttrain acc: 0.9993 test acc: 0.9622\n",
      "i= 2\tj= 5\tdropout_p=0.20\ttrain acc: 0.9993 test acc: 0.9600\n",
      "i= 2\tj= 6\tdropout_p=0.20\ttrain acc: 0.9993 test acc: 0.9533\n",
      "i= 2\tj= 7\tdropout_p=0.20\ttrain acc: 1.0000 test acc: 0.9556\n",
      "i= 2\tj= 8\tdropout_p=0.20\ttrain acc: 0.9985 test acc: 0.9467\n",
      "i= 2\tj= 9\tdropout_p=0.20\ttrain acc: 1.0000 test acc: 0.9622\n",
      "i= 2\tj=10\tdropout_p=0.20\ttrain acc: 0.9978 test acc: 0.9600\n",
      "i= 2\tj=11\tdropout_p=0.20\ttrain acc: 0.9993 test acc: 0.9644\n",
      "i= 2\tj=12\tdropout_p=0.20\ttrain acc: 1.0000 test acc: 0.9622\n",
      "i= 2\tj=13\tdropout_p=0.20\ttrain acc: 0.9985 test acc: 0.9644\n",
      "i= 2\tj=14\tdropout_p=0.20\ttrain acc: 0.9941 test acc: 0.9578\n",
      "i= 3\tj= 0\tdropout_p=0.30\ttrain acc: 0.9198 test acc: 0.9111\n",
      "i= 3\tj= 1\tdropout_p=0.30\ttrain acc: 0.9762 test acc: 0.9200\n",
      "i= 3\tj= 2\tdropout_p=0.30\ttrain acc: 0.9874 test acc: 0.9400\n",
      "i= 3\tj= 3\tdropout_p=0.30\ttrain acc: 0.9503 test acc: 0.8911\n",
      "i= 3\tj= 4\tdropout_p=0.30\ttrain acc: 0.8612 test acc: 0.8044\n",
      "i= 3\tj= 5\tdropout_p=0.30\ttrain acc: 0.8894 test acc: 0.8489\n",
      "i= 3\tj= 6\tdropout_p=0.30\ttrain acc: 0.8441 test acc: 0.7756\n",
      "i= 3\tj= 7\tdropout_p=0.30\ttrain acc: 0.9941 test acc: 0.9444\n",
      "i= 3\tj= 8\tdropout_p=0.30\ttrain acc: 0.7988 test acc: 0.7600\n",
      "i= 3\tj= 9\tdropout_p=0.30\ttrain acc: 0.8886 test acc: 0.8333\n",
      "i= 3\tj=10\tdropout_p=0.30\ttrain acc: 0.9762 test acc: 0.9467\n",
      "i= 3\tj=11\tdropout_p=0.30\ttrain acc: 0.8931 test acc: 0.8511\n",
      "i= 3\tj=12\tdropout_p=0.30\ttrain acc: 0.9198 test acc: 0.8711\n",
      "i= 3\tj=13\tdropout_p=0.30\ttrain acc: 0.9978 test acc: 0.9600\n",
      "i= 3\tj=14\tdropout_p=0.30\ttrain acc: 0.8523 test acc: 0.8000\n",
      "i= 4\tj= 0\tdropout_p=0.40\ttrain acc: 0.6919 test acc: 0.6533\n",
      "i= 4\tj= 1\tdropout_p=0.40\ttrain acc: 0.6630 test acc: 0.6489\n",
      "i= 4\tj= 2\tdropout_p=0.40\ttrain acc: 0.6006 test acc: 0.5667\n",
      "i= 4\tj= 3\tdropout_p=0.40\ttrain acc: 0.6949 test acc: 0.6556\n",
      "i= 4\tj= 4\tdropout_p=0.40\ttrain acc: 0.7023 test acc: 0.6533\n",
      "i= 4\tj= 5\tdropout_p=0.40\ttrain acc: 0.7506 test acc: 0.7200\n",
      "i= 4\tj= 6\tdropout_p=0.40\ttrain acc: 0.6912 test acc: 0.6689\n",
      "i= 4\tj= 7\tdropout_p=0.40\ttrain acc: 0.7431 test acc: 0.7200\n",
      "i= 4\tj= 8\tdropout_p=0.40\ttrain acc: 0.6110 test acc: 0.5822\n",
      "i= 4\tj= 9\tdropout_p=0.40\ttrain acc: 0.6689 test acc: 0.6267\n",
      "i= 4\tj=10\tdropout_p=0.40\ttrain acc: 0.8627 test acc: 0.8022\n",
      "i= 4\tj=11\tdropout_p=0.40\t"
     ]
    },
    {
     "ename": "KeyboardInterrupt",
     "evalue": "",
     "output_type": "error",
     "traceback": [
      "\u001B[1;31m---------------------------------------------------------------------------\u001B[0m",
      "\u001B[1;31mKeyboardInterrupt\u001B[0m                         Traceback (most recent call last)",
      "Cell \u001B[1;32mIn[158], line 13\u001B[0m\n\u001B[0;32m     11\u001B[0m initialize_network(network, \u001B[38;5;124m'\u001B[39m\u001B[38;5;124mKaiming\u001B[39m\u001B[38;5;124m'\u001B[39m)\n\u001B[0;32m     12\u001B[0m set_inference_mode(network, \u001B[38;5;28;01mFalse\u001B[39;00m)\n\u001B[1;32m---> 13\u001B[0m network, cb \u001B[38;5;241m=\u001B[39m \u001B[43mtrain_network\u001B[49m\u001B[43m(\u001B[49m\u001B[43mnetwork\u001B[49m\u001B[43m,\u001B[49m\u001B[43m \u001B[49m\u001B[43mhistory\u001B[49m\u001B[38;5;241;43m=\u001B[39;49m\u001B[38;5;28;43;01mTrue\u001B[39;49;00m\u001B[43m,\u001B[49m\u001B[43m \u001B[49m\u001B[43mtol\u001B[49m\u001B[38;5;241;43m=\u001B[39;49m\u001B[38;5;241;43m1e-7\u001B[39;49m\u001B[43m,\u001B[49m\u001B[43m \u001B[49m\u001B[43moptimizer\u001B[49m\u001B[38;5;241;43m=\u001B[39;49m\u001B[43mSGD\u001B[49m\u001B[43m,\u001B[49m\u001B[43m \u001B[49m\u001B[43moptions\u001B[49m\u001B[38;5;241;43m=\u001B[39;49m\u001B[43m{\u001B[49m\u001B[38;5;124;43m'\u001B[39;49m\u001B[38;5;124;43mmomentum\u001B[39;49m\u001B[38;5;124;43m'\u001B[39;49m\u001B[43m:\u001B[49m\u001B[43m \u001B[49m\u001B[38;5;241;43m0.9\u001B[39;49m\u001B[43m,\u001B[49m\u001B[43m \u001B[49m\u001B[38;5;124;43m'\u001B[39;49m\u001B[38;5;124;43mbatch_size\u001B[39;49m\u001B[38;5;124;43m'\u001B[39;49m\u001B[43m:\u001B[49m\u001B[43m \u001B[49m\u001B[38;5;241;43m100\u001B[39;49m\u001B[43m,\u001B[49m\u001B[43m \u001B[49m\u001B[38;5;124;43m'\u001B[39;49m\u001B[38;5;124;43mn_iter\u001B[39;49m\u001B[38;5;124;43m'\u001B[39;49m\u001B[43m:\u001B[49m\u001B[43m \u001B[49m\u001B[38;5;241;43m1_000\u001B[39;49m\u001B[43m,\u001B[49m\u001B[43m \u001B[49m\u001B[38;5;124;43m'\u001B[39;49m\u001B[38;5;124;43mlr\u001B[39;49m\u001B[38;5;124;43m'\u001B[39;49m\u001B[43m:\u001B[49m\u001B[43m \u001B[49m\u001B[38;5;241;43m0.2\u001B[39;49m\u001B[43m \u001B[49m\u001B[38;5;241;43m*\u001B[39;49m\u001B[43m \u001B[49m\u001B[38;5;241;43m1e-2\u001B[39;49m\u001B[43m}\u001B[49m\u001B[43m)\u001B[49m\n\u001B[0;32m     14\u001B[0m set_inference_mode(network, \u001B[38;5;28;01mTrue\u001B[39;00m)\n\u001B[0;32m     16\u001B[0m accs_train[i, j] \u001B[38;5;241m=\u001B[39m accuracy_score(y_true\u001B[38;5;241m=\u001B[39my_train, y_pred\u001B[38;5;241m=\u001B[39mpredict(network, X_train))\n",
      "Cell \u001B[1;32mIn[45], line 6\u001B[0m, in \u001B[0;36mtrain_network\u001B[1;34m(network, history, optimizer, options, tol, cb_print)\u001B[0m\n\u001B[0;32m      3\u001B[0m options \u001B[38;5;241m=\u001B[39m \u001B[38;5;28mdict\u001B[39m() \u001B[38;5;28;01mif\u001B[39;00m options \u001B[38;5;129;01mis\u001B[39;00m \u001B[38;5;28;01mNone\u001B[39;00m \u001B[38;5;28;01melse\u001B[39;00m options\n\u001B[0;32m      5\u001B[0m weights \u001B[38;5;241m=\u001B[39m get_weights(network)\n\u001B[1;32m----> 6\u001B[0m res \u001B[38;5;241m=\u001B[39m \u001B[43mminimize\u001B[49m\u001B[43m(\u001B[49m\n\u001B[0;32m      7\u001B[0m \u001B[43m    \u001B[49m\u001B[43mcompute_loss_grad\u001B[49m\u001B[43m,\u001B[49m\u001B[43m \u001B[49m\u001B[43mweights\u001B[49m\u001B[43m,\u001B[49m\u001B[43m  \u001B[49m\n\u001B[0;32m      8\u001B[0m \u001B[43m    \u001B[49m\u001B[43margs\u001B[49m\u001B[38;5;241;43m=\u001B[39;49m\u001B[43m[\u001B[49m\u001B[43mnetwork\u001B[49m\u001B[43m,\u001B[49m\u001B[43m \u001B[49m\u001B[43mX_train\u001B[49m\u001B[43m,\u001B[49m\u001B[43m \u001B[49m\u001B[43my_train\u001B[49m\u001B[43m]\u001B[49m\u001B[43m,\u001B[49m\u001B[43m \u001B[49m\n\u001B[0;32m      9\u001B[0m \u001B[43m    \u001B[49m\u001B[43mmethod\u001B[49m\u001B[38;5;241;43m=\u001B[39;49m\u001B[43moptimizer\u001B[49m\u001B[43m,\u001B[49m\n\u001B[0;32m     10\u001B[0m \u001B[43m    \u001B[49m\u001B[43mjac\u001B[49m\u001B[38;5;241;43m=\u001B[39;49m\u001B[38;5;28;43;01mTrue\u001B[39;49;00m\u001B[43m,\u001B[49m\n\u001B[0;32m     11\u001B[0m \u001B[43m    \u001B[49m\u001B[43mcallback\u001B[49m\u001B[38;5;241;43m=\u001B[39;49m\u001B[43mcb\u001B[49m\u001B[38;5;241;43m.\u001B[39;49m\u001B[43mcall\u001B[49m\u001B[43m,\u001B[49m\n\u001B[0;32m     12\u001B[0m \u001B[43m    \u001B[49m\u001B[43moptions\u001B[49m\u001B[38;5;241;43m=\u001B[39;49m\u001B[43moptions\u001B[49m\u001B[43m,\u001B[49m\n\u001B[0;32m     13\u001B[0m \u001B[43m    \u001B[49m\u001B[43mtol\u001B[49m\u001B[38;5;241;43m=\u001B[39;49m\u001B[43mtol\u001B[49m\n\u001B[0;32m     14\u001B[0m \u001B[43m\u001B[49m\u001B[43m)\u001B[49m\n\u001B[0;32m     16\u001B[0m \u001B[38;5;28;01mif\u001B[39;00m \u001B[38;5;129;01mnot\u001B[39;00m res[\u001B[38;5;124m\"\u001B[39m\u001B[38;5;124msuccess\u001B[39m\u001B[38;5;124m\"\u001B[39m]:\n\u001B[0;32m     17\u001B[0m     \u001B[38;5;28;01mraise\u001B[39;00m \u001B[38;5;167;01mRuntimeError\u001B[39;00m(\u001B[38;5;124mf\u001B[39m\u001B[38;5;124m\"\u001B[39m\u001B[38;5;124mOptimization failure: \u001B[39m\u001B[38;5;132;01m{\u001B[39;00mres[\u001B[38;5;124m'\u001B[39m\u001B[38;5;124mmessage\u001B[39m\u001B[38;5;124m'\u001B[39m]\u001B[38;5;132;01m}\u001B[39;00m\u001B[38;5;124m\"\u001B[39m)\n",
      "File \u001B[1;32mC:\\python_venv\\Lib\\site-packages\\scipy\\optimize\\_minimize.py:622\u001B[0m, in \u001B[0;36mminimize\u001B[1;34m(fun, x0, args, method, jac, hess, hessp, bounds, constraints, tol, callback, options)\u001B[0m\n\u001B[0;32m    616\u001B[0m         options\u001B[38;5;241m.\u001B[39msetdefault(\u001B[38;5;124m'\u001B[39m\u001B[38;5;124mbarrier_tol\u001B[39m\u001B[38;5;124m'\u001B[39m, tol)\n\u001B[0;32m    618\u001B[0m \u001B[38;5;28;01mif\u001B[39;00m meth \u001B[38;5;241m==\u001B[39m \u001B[38;5;124m'\u001B[39m\u001B[38;5;124m_custom\u001B[39m\u001B[38;5;124m'\u001B[39m:\n\u001B[0;32m    619\u001B[0m     \u001B[38;5;66;03m# custom method called before bounds and constraints are 'standardised'\u001B[39;00m\n\u001B[0;32m    620\u001B[0m     \u001B[38;5;66;03m# custom method should be able to accept whatever bounds/constraints\u001B[39;00m\n\u001B[0;32m    621\u001B[0m     \u001B[38;5;66;03m# are provided to it.\u001B[39;00m\n\u001B[1;32m--> 622\u001B[0m     \u001B[38;5;28;01mreturn\u001B[39;00m \u001B[43mmethod\u001B[49m\u001B[43m(\u001B[49m\u001B[43mfun\u001B[49m\u001B[43m,\u001B[49m\u001B[43m \u001B[49m\u001B[43mx0\u001B[49m\u001B[43m,\u001B[49m\u001B[43m \u001B[49m\u001B[43margs\u001B[49m\u001B[38;5;241;43m=\u001B[39;49m\u001B[43margs\u001B[49m\u001B[43m,\u001B[49m\u001B[43m \u001B[49m\u001B[43mjac\u001B[49m\u001B[38;5;241;43m=\u001B[39;49m\u001B[43mjac\u001B[49m\u001B[43m,\u001B[49m\u001B[43m \u001B[49m\u001B[43mhess\u001B[49m\u001B[38;5;241;43m=\u001B[39;49m\u001B[43mhess\u001B[49m\u001B[43m,\u001B[49m\u001B[43m \u001B[49m\u001B[43mhessp\u001B[49m\u001B[38;5;241;43m=\u001B[39;49m\u001B[43mhessp\u001B[49m\u001B[43m,\u001B[49m\n\u001B[0;32m    623\u001B[0m \u001B[43m                  \u001B[49m\u001B[43mbounds\u001B[49m\u001B[38;5;241;43m=\u001B[39;49m\u001B[43mbounds\u001B[49m\u001B[43m,\u001B[49m\u001B[43m \u001B[49m\u001B[43mconstraints\u001B[49m\u001B[38;5;241;43m=\u001B[39;49m\u001B[43mconstraints\u001B[49m\u001B[43m,\u001B[49m\n\u001B[0;32m    624\u001B[0m \u001B[43m                  \u001B[49m\u001B[43mcallback\u001B[49m\u001B[38;5;241;43m=\u001B[39;49m\u001B[43mcallback\u001B[49m\u001B[43m,\u001B[49m\u001B[43m \u001B[49m\u001B[38;5;241;43m*\u001B[39;49m\u001B[38;5;241;43m*\u001B[39;49m\u001B[43moptions\u001B[49m\u001B[43m)\u001B[49m\n\u001B[0;32m    626\u001B[0m constraints \u001B[38;5;241m=\u001B[39m standardize_constraints(constraints, x0, meth)\n\u001B[0;32m    628\u001B[0m remove_vars \u001B[38;5;241m=\u001B[39m \u001B[38;5;28;01mFalse\u001B[39;00m\n",
      "Cell \u001B[1;32mIn[53], line 38\u001B[0m, in \u001B[0;36mSGD\u001B[1;34m(fun, x0, args, **kwargs)\u001B[0m\n\u001B[0;32m     35\u001B[0m     loss_sum \u001B[38;5;241m+\u001B[39m\u001B[38;5;241m=\u001B[39m loss\n\u001B[0;32m     37\u001B[0m \u001B[38;5;28;01mif\u001B[39;00m callback \u001B[38;5;129;01mis\u001B[39;00m \u001B[38;5;129;01mnot\u001B[39;00m \u001B[38;5;28;01mNone\u001B[39;00m:\n\u001B[1;32m---> 38\u001B[0m     \u001B[43mcallback\u001B[49m\u001B[43m(\u001B[49m\u001B[43mweights\u001B[49m\u001B[43m)\u001B[49m\n\u001B[0;32m     40\u001B[0m nit \u001B[38;5;241m+\u001B[39m\u001B[38;5;241m=\u001B[39m \u001B[38;5;241m1\u001B[39m\n\u001B[0;32m     41\u001B[0m loss_sum \u001B[38;5;241m/\u001B[39m\u001B[38;5;241m=\u001B[39m \u001B[38;5;28mlen\u001B[39m(batch_indxs)\n",
      "Cell \u001B[1;32mIn[41], line 24\u001B[0m, in \u001B[0;36mCallback.call\u001B[1;34m(self, weights)\u001B[0m\n\u001B[0;32m     21\u001B[0m train_NLL \u001B[38;5;241m=\u001B[39m NLL(forward(network, X_train), y_train)\n\u001B[0;32m     22\u001B[0m test_NLL \u001B[38;5;241m=\u001B[39m NLL(forward(network, X_test), y_test)\n\u001B[1;32m---> 24\u001B[0m train_accuracy \u001B[38;5;241m=\u001B[39m accuracy_score(y_true\u001B[38;5;241m=\u001B[39my_train, y_pred\u001B[38;5;241m=\u001B[39m\u001B[43mpredict\u001B[49m\u001B[43m(\u001B[49m\u001B[43mnetwork\u001B[49m\u001B[43m,\u001B[49m\u001B[43m \u001B[49m\u001B[43mX_train\u001B[49m\u001B[43m)\u001B[49m)\n\u001B[0;32m     25\u001B[0m test_accuracy \u001B[38;5;241m=\u001B[39m accuracy_score(y_true\u001B[38;5;241m=\u001B[39my_test, y_pred\u001B[38;5;241m=\u001B[39mpredict(network, X_test))\n\u001B[0;32m     27\u001B[0m \u001B[38;5;28mself\u001B[39m\u001B[38;5;241m.\u001B[39mtrain_acc\u001B[38;5;241m.\u001B[39mappend(train_accuracy)\n",
      "Cell \u001B[1;32mIn[26], line 13\u001B[0m, in \u001B[0;36mpredict\u001B[1;34m(network, X)\u001B[0m\n\u001B[0;32m      1\u001B[0m \u001B[38;5;28;01mdef\u001B[39;00m \u001B[38;5;21mpredict\u001B[39m(network: List[Layer], X):\n\u001B[0;32m      2\u001B[0m \u001B[38;5;250m    \u001B[39m\u001B[38;5;124;03m\"\"\"\u001B[39;00m\n\u001B[0;32m      3\u001B[0m \u001B[38;5;124;03m    Returns predictions for each object in X.\u001B[39;00m\n\u001B[0;32m      4\u001B[0m \u001B[38;5;124;03m    \u001B[39;00m\n\u001B[1;32m   (...)\u001B[0m\n\u001B[0;32m     10\u001B[0m \u001B[38;5;124;03m    output shape: [batch]\u001B[39;00m\n\u001B[0;32m     11\u001B[0m \u001B[38;5;124;03m    \"\"\"\u001B[39;00m\n\u001B[1;32m---> 13\u001B[0m     pred \u001B[38;5;241m=\u001B[39m \u001B[43mforward\u001B[49m\u001B[43m(\u001B[49m\u001B[43mnetwork\u001B[49m\u001B[43m,\u001B[49m\u001B[43m \u001B[49m\u001B[43mX\u001B[49m\u001B[43m)\u001B[49m\n\u001B[0;32m     15\u001B[0m     \u001B[38;5;28;01mreturn\u001B[39;00m np\u001B[38;5;241m.\u001B[39margmax(pred, axis\u001B[38;5;241m=\u001B[39m\u001B[38;5;241m1\u001B[39m, keepdims\u001B[38;5;241m=\u001B[39m\u001B[38;5;28;01mTrue\u001B[39;00m)\n",
      "Cell \u001B[1;32mIn[25], line 14\u001B[0m, in \u001B[0;36mforward\u001B[1;34m(network, X)\u001B[0m\n\u001B[0;32m      2\u001B[0m \u001B[38;5;250m\u001B[39m\u001B[38;5;124;03m\"\"\"\u001B[39;00m\n\u001B[0;32m      3\u001B[0m \u001B[38;5;124;03mPerform forward pass through the network.\u001B[39;00m\n\u001B[0;32m      4\u001B[0m \u001B[38;5;124;03m\u001B[39;00m\n\u001B[1;32m   (...)\u001B[0m\n\u001B[0;32m     10\u001B[0m \u001B[38;5;124;03moutput shape: [batch, out_features_num]\u001B[39;00m\n\u001B[0;32m     11\u001B[0m \u001B[38;5;124;03m\"\"\"\u001B[39;00m\n\u001B[0;32m     13\u001B[0m \u001B[38;5;28;01mfor\u001B[39;00m layer \u001B[38;5;129;01min\u001B[39;00m network:\n\u001B[1;32m---> 14\u001B[0m     X \u001B[38;5;241m=\u001B[39m layer\u001B[38;5;241m.\u001B[39mforward(X)\n\u001B[0;32m     16\u001B[0m \u001B[38;5;28;01mreturn\u001B[39;00m X\n",
      "\u001B[1;31mKeyboardInterrupt\u001B[0m: "
     ]
    }
   ],
   "source": [
    "p_vars = np.linspace(0, 0.9, num=10)\n",
    "layer_c = 6\n",
    "\n",
    "accs_train = np.zeros((p_vars.shape[0], 15))\n",
    "accs_test = np.zeros_like(accs_train)\n",
    "\n",
    "for i, dropout_p in enumerate(p_vars):\n",
    "    for j in range(accs_train.shape[1]):\n",
    "        print(f\"{i=:2}\\t{j=:2}\\t{dropout_p=:3.2f}\\t\", end='')\n",
    "        network = make_network(input_size, 32, output_size, layer_c, ReLU, dropout=True, dropout_p=dropout_p)\n",
    "        initialize_network(network, 'Kaiming')\n",
    "        set_inference_mode(network, False)\n",
    "        network, cb = train_network(network, history=True, tol=1e-7, optimizer=SGD, options={'momentum': 0.9, 'batch_size': 100, 'n_iter': 1_000, 'lr': 0.2 * 1e-2})\n",
    "        set_inference_mode(network, True)\n",
    "        \n",
    "        accs_train[i, j] = accuracy_score(y_true=y_train, y_pred=predict(network, X_train))\n",
    "        accs_test[i, j] = accuracy_score(y_true=y_test, y_pred=predict(network, X_test))\n",
    "        print(f\"train acc: {accs_train[i, j]:5.4f} test acc: {accs_test[i, j]:5.4f}\")"
   ],
   "metadata": {
    "collapsed": false,
    "ExecuteTime": {
     "end_time": "2024-02-28T21:35:02.999346100Z",
     "start_time": "2024-02-28T20:49:38.425077600Z"
    }
   },
   "execution_count": 158
  },
  {
   "cell_type": "code",
   "outputs": [
    {
     "data": {
      "text/plain": "<Figure size 1000x500 with 1 Axes>",
      "image/png": "[encoded data removed]"
     },
     "metadata": {},
     "output_type": "display_data"
    }
   ],
   "source": [
    "drop_proba_for_plot = [f\"P = {p:3.2f}\" for p in p_vars]\n",
    "\n",
    "fig, ax = plt.subplots(1, 1, figsize=(10, 5))\n",
    "\n",
    "ax.boxplot(accs_test.T, labels=drop_proba_for_plot, showfliers=False)\n",
    "\n",
    "ax.set_title(f\"Test quality in {accs_test.shape[1]} runs\")\n",
    "ax.set_xlabel(\"Initialization\")\n",
    "ax.set_ylabel(\"Test accuracy\")\n",
    "ax.grid(True)\n",
    "\n",
    "fig.tight_layout()\n",
    "plt.show()"
   ],
   "metadata": {
    "collapsed": false,
    "ExecuteTime": {
     "end_time": "2024-02-28T21:35:06.057939900Z",
     "start_time": "2024-02-28T21:35:05.915843200Z"
    }
   },
   "execution_count": 159
  },
  {
   "cell_type": "markdown",
   "metadata": {
    "hidden": true
   },
   "source": [
    "### `BatchNormalization (1 балл)`\n",
    "\n",
    "Реализуйте слой `BatchNormalization`. Сравните обучение сети из большого числа слоёв при использовании `BatchNormalization` и без его использования. Сделайте выводы."
   ]
  },
  {
   "cell_type": "code",
   "outputs": [],
   "source": [],
   "metadata": {
    "collapsed": false,
    "ExecuteTime": {
     "start_time": "2024-02-24T11:48:12.308260500Z"
    }
   },
   "execution_count": null
  }
 ],
 "metadata": {
  "kernelspec": {
   "display_name": "Python 3 (ipykernel)",
   "language": "python",
   "name": "python3"
  },
  "language_info": {
   "codemirror_mode": {
    "name": "ipython",
    "version": 3
   },
   "file_extension": ".py",
   "mimetype": "text/x-python",
   "name": "python",
   "nbconvert_exporter": "python",
   "pygments_lexer": "ipython3",
   "version": "3.10.9"
  }
 },
 "nbformat": 4,
 "nbformat_minor": 2
}
