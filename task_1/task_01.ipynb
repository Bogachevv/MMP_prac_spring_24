{
 "cells": [
  {
   "cell_type": "markdown",
   "metadata": {},
   "source": [
    "# `Практикум по программированию на языке Python`\n",
    "\n",
    "## `Задание 01. Полносвязная нейронная сеть на numpy`.\n",
    "\n",
    "#### Фамилия, имя: \n",
    "\n",
    "Дата выдачи: <span style=\"color:red\">__20 февраля__</span>.\n",
    "\n",
    "Мягкий дедлайн: <span style=\"color:red\">__6 марта 23:59__</span>.\n",
    "\n",
    "Стоимость: __10 баллов__ (основная часть заданий) + __3 балла__ (дополнительные задания).\n",
    "\n",
    "<span style=\"color:red\">__В ноутбуке все клетки должны выполняться без ошибок при последовательном их выполнении.__</span>\n",
    "\n",
    "#### `Москва, 2024`"
   ]
  },
  {
   "cell_type": "code",
   "execution_count": 1,
   "metadata": {
    "ExecuteTime": {
     "end_time": "2024-02-21T20:13:47.904003700Z",
     "start_time": "2024-02-21T20:13:47.779997200Z"
    }
   },
   "outputs": [],
   "source": [
    "import numpy as np"
   ]
  },
  {
   "cell_type": "markdown",
   "metadata": {
    "heading_collapsed": true
   },
   "source": [
    "## `Теоретическая часть (3 балла)`"
   ]
  },
  {
   "cell_type": "markdown",
   "metadata": {
    "hidden": true
   },
   "source": [
    "В этом блоке вам нужно решить 3 задания."
   ]
  },
  {
   "cell_type": "markdown",
   "metadata": {
    "heading_collapsed": true,
    "hidden": true
   },
   "source": [
    "### `Задание 1. Градиенты для слоя Batch normalization (1.5 балла)`"
   ]
  },
  {
   "cell_type": "markdown",
   "metadata": {
    "hidden": true
   },
   "source": [
    "Рассмотрим слой Batch normalization. Пусть на вход этого слоя был подан батч из $n$ объектов, при этом у всех объектов по 1 признаку. Представим вход BN слоя в виде $X \\in \\mathbb{R}^{n \\times 1}$.\n",
    "\n",
    "Тогда в этом слое производятся следующие вычисления:\n",
    "\n",
    "$$ \\mu = \\frac1n \\sum_{i=1}^{n} X_i $$\n",
    "\n",
    "$$ \\sigma^2 = \\frac1n \\sum_{i=1}^{n} \\left( X_i - \\mu \\right) ^2 $$\n",
    "\n",
    "$$ \\tilde{y_i} = \\frac{X_i - \\mu}{\\sqrt{\\sigma^2 + \\varepsilon}} $$\n",
    "\n",
    "$$ y_i = \\gamma \\tilde{y_i} + \\delta $$\n",
    "\n",
    "Выходом BN слоя является $y_i$, а $\\gamma,\\delta\\in\\mathbb{R}$ — параметры, которые подбираются во время обучения вместе с другими параметрами нейронной сети (наряду, например, с весами линейного слоя).\n",
    "\n",
    "Рассмотрим нейронную сеть, в которой есть BN слой. Предположим, что вычисления в нейронной сети завершаются подсчетом функции потерь $\\mathcal{L}$. Пусть мы выполнили прямой проход по нейронной сети и сейчас делаем обратный проход с помощью метода обратного распространения ошибки. Пусть BN слою пришел градиент функции потерь по выходу BN слоя ($\\nabla_{y} \\mathcal{L}$).\n",
    "\n",
    "В этом задании вам нужно записать вычисление градиента функции потерь по параметрам слоя BN $\\gamma$ и $\\delta$ ($\\nabla_{\\gamma} \\mathcal{L}$, $\\nabla_{\\delta} \\mathcal{L}$) через $\\nabla_{y} \\mathcal{L}$, а также вам нужно записать вычисление градиента функции потерь по входу слоя BN $X$ ($\\nabla_{X} \\mathcal{L}$) через $\\nabla_{y} \\mathcal{L}$.\n",
    "\n",
    "Хочу заметить, в данном задании мы рассматриваем объекты всего с 1 признаком, чтобы упростить выкладки."
   ]
  },
  {
   "cell_type": "markdown",
   "metadata": {
    "hidden": true
   },
   "source": [
    "__Ваше решение:__\n",
    "\n",
    "Перепишем формулу для $y_i$ в векторном виде:\n",
    "$$y_i = \\gamma \\frac{X - \\mu}{\\sqrt{\\sigma^2 + \\varepsilon}} + \\delta $$\n",
    "Считаем, что $\\mathcal{L} = \\mathcal{L}(y(X, \\gamma, \\delta))$, тогда:\n",
    "1. $\\nabla_{\\gamma} {\\mathcal L} = (\\nabla_{y} {\\mathcal L})^T \\cdot \\frac{X - \\mu}{\\sqrt{\\sigma^2 + \\varepsilon}}$\n",
    "2. $\\nabla_{\\delta} {\\mathcal L} = (\\nabla_{y} {\\mathcal L})^T \\cdot (1)_{i=1}^{n} = \\sum_{i=1}^n (\\nabla_{y} {\\mathcal L})_i$\n",
    "3. $\\nabla_{X} {\\mathcal L} = \\nabla_{y} {\\mathcal L} \\cdot \\frac{\\gamma}{\\sqrt{\\sigma^2 + \\varepsilon}}$"
   ]
  },
  {
   "cell_type": "markdown",
   "metadata": {
    "heading_collapsed": true,
    "hidden": true
   },
   "source": [
    "### `Задание 2. Вывод инициализации весов линейного слоя при использовании ReLU в качестве функции активации (1 балл)`"
   ]
  },
  {
   "cell_type": "markdown",
   "metadata": {
    "hidden": true
   },
   "source": [
    "Рассмотрим полносвязную нейронную сеть с функцией активации $g(y)$. Пусть сеть состоит из $L$ слоев и размер входа слоя $l$ равен $n_l\\ \\ (l = \\overline{1, L})$.\n",
    "\n",
    "Обозначим за $x^l \\in \\mathbb{R}^{n_{l}}$ вход слоя $l$, за $y^l \\in \\mathbb{R}^{n_{l+1}}$ — выход слоя $l$, за $W^l \\in \\mathbb{R}^{n_{l+1} \\times n_{l}}$ — веса слоя $l$, за $b^l \\in \\mathbb{R}^{n_{l+1}}$ — вектор сдвига слоя $l$.\n",
    "\n",
    "Тогда\n",
    "$$y^l = W^l x^l + b^l,$$\n",
    "$$x^{l+1} = g(y^l).$$\n",
    "\n",
    "На паре вы выводили хорошую инициализацию для линейного слоя в случае, когда в качестве функции активации $g(y)$ в нейронной сети используется гиперболический тангенс $g(y) = \\tanh(y)$. Сейчас вам нужно сделать подобный вывод для случая, когда в сети в качестве функций активации используется $g(y) = ReLU(y) = \\max(0, y)$.\n",
    "\n",
    "Сделаем следующие предположения насчет того, как распределены веса $W^l$, вектор сдвига $b^l$, входной вектор $x^l$, выходной вектор $y^l$ линейного слоя и градиенты функции потерь $\\frac{\\partial L}{\\partial y^{l}}$ $(l = \\overline{1, L}$):\n",
    "\n",
    "1. Все компоненты в $W^l$ распределены одинаково и независимо друг от друга;\n",
    "2. Все компоненты в $y^l$ распределены одинаково и независимо друг от друга;\n",
    "3. Все компоненты в $x^l$ распределены одинаково и независимо друг от друга;\n",
    "4. Все компоненты в $\\frac{\\partial L}{\\partial y^{l}}$ распределены одинаково и независимо друг от друга;\n",
    "5. Все компоненты в $W^l$ и все компоненты в $x^l$ независимы друг от друга;\n",
    "6. Все компоненты в $W^l$ имеют четную плотность распределения (то есть симметричную относительно нуля: $p_{W^l}(-x) = p_{W^l}(x)$);\n",
    "7. Все компоненты в $W^l$ имеют конечное матожидание;\n",
    "8. Вектор $b^l$ инициализирован нулями.\n",
    "\n",
    "\n",
    "Подсказки:\n",
    "1. Из пунктов 6 и 7 следует, что все компоненты в $W^l$ имеют нулевое среднее ($\\mathbb{E} W^l_{ij} = 0\\ \\ \\forall i = \\overline{1, n_{l+1}}, j = \\overline{1, n_{l}}$) (докажите);\n",
    "2. Из пунктов 6 и 7 следует, что все компоненты в $y^l$ имеют нулевое среднее и четную плотность распределения (докажите)."
   ]
  },
  {
   "cell_type": "markdown",
   "metadata": {
    "hidden": true
   },
   "source": [
    "__Ваше решение:__\n",
    "\n",
    "..."
   ]
  },
  {
   "cell_type": "markdown",
   "metadata": {
    "heading_collapsed": true,
    "hidden": true
   },
   "source": [
    "### `Задание 3. Почему функция активации` $ReLU(y) = \\max(0, y)$ `предпочтительней сигмоиды` $\\sigma(y) = \\frac{1}{1 + \\exp(-y)}$ `в нейронных сетях? (0.5 балла)`"
   ]
  },
  {
   "cell_type": "markdown",
   "metadata": {
    "hidden": true
   },
   "source": [
    "Дайте развернутый ответ на вопрос \"Почему функция активации $ReLU(y) = \\max(0, y)$ предпочтительней сигмоиды $\\sigma(y) = \\frac{1}{1 + \\exp(-y)}$ в нейронных сетях?\""
   ]
  },
  {
   "cell_type": "markdown",
   "metadata": {
    "hidden": true
   },
   "source": [
    "__Ваш ответ:__\n",
    "\n",
    "На практике, зачастую, используются именно глубокие нейронные сети. \n",
    "Из курса лекций известно, что $\\sup_{y \\in \\mathbb{R}} \\left| \\frac{d \\, \\sigma}{d \\, y} (y) \\right| = \\frac{1}{4}$.\n",
    "Рассмотрим глубокую сеть с $d$ слоями: ДОПИСАТЬ\n",
    "Тогда будет наблюдаться затухание градиента"
   ]
  },
  {
   "cell_type": "markdown",
   "metadata": {
    "hidden": true
   },
   "source": [
    "---"
   ]
  },
  {
   "cell_type": "markdown",
   "metadata": {
    "heading_collapsed": true
   },
   "source": [
    "## `Практическая часть (7 баллов)`"
   ]
  },
  {
   "cell_type": "markdown",
   "metadata": {
    "heading_collapsed": true,
    "hidden": true
   },
   "source": [
    "### `Реализация нейронной сети (3 балла)`"
   ]
  },
  {
   "cell_type": "markdown",
   "metadata": {
    "hidden": true
   },
   "source": [
    "В этом задании вы обучите полносвязную нейронную сеть распознавать рукописные цифры (а что же еще, если не их :), [почти] самостоятельно реализовав все составляющие алгоритма обучения и предсказания.\n",
    "\n",
    "Для начала нам понадобится реализовать прямой и обратный проход через слои. Наши слои будут соответствовать следующему интерфейсу (на примере \"тождественного\" слоя):"
   ]
  },
  {
   "cell_type": "code",
   "execution_count": 2,
   "outputs": [],
   "source": [
    "from numpy.typing import NDArray\n",
    "from typing import Tuple, List, Union"
   ],
   "metadata": {
    "collapsed": false,
    "ExecuteTime": {
     "end_time": "2024-02-21T20:13:47.908003500Z",
     "start_time": "2024-02-21T20:13:47.841053500Z"
    }
   }
  },
  {
   "cell_type": "code",
   "execution_count": 3,
   "outputs": [],
   "source": [
    "class Layer:\n",
    "    def __init__(self):\n",
    "        self.params = []\n",
    "        self.input = None\n",
    "        \n",
    "    def forward(self, input: NDArray) -> NDArray:\n",
    "        raise NotImplementedError(\"forward method not implemented\")\n",
    "    \n",
    "    def backward(self, grad_output: NDArray) -> Tuple[NDArray, NDArray]:\n",
    "        raise NotImplementedError(\"backward method not implemented\")"
   ],
   "metadata": {
    "collapsed": false,
    "ExecuteTime": {
     "end_time": "2024-02-21T20:13:47.912006300Z",
     "start_time": "2024-02-21T20:13:47.852427600Z"
    }
   }
  },
  {
   "cell_type": "code",
   "execution_count": 4,
   "metadata": {
    "hidden": true,
    "ExecuteTime": {
     "end_time": "2024-02-21T20:13:47.929003500Z",
     "start_time": "2024-02-21T20:13:47.857044600Z"
    }
   },
   "outputs": [],
   "source": [
    "class IdentityLayer(Layer):\n",
    "    \"\"\"\n",
    "    A building block. Each layer is capable of performing two things:\n",
    "\n",
    "    - Process input to get output:           \n",
    "    output = layer.forward(input)\n",
    "\n",
    "    - Propagate gradients through itself:    \n",
    "    grad_input = layer.backward(input, grad_output)\n",
    "\n",
    "    Some layers also have learnable parameters.\n",
    "\n",
    "    Modified code from cs.hse DL course *\n",
    "    \"\"\"\n",
    "    def __init__(self):\n",
    "        \"\"\"\n",
    "        Here you can initialize layer parameters (if any) \n",
    "        and auxiliary stuff. You should enumerate all parameters\n",
    "        in self.params\n",
    "        \"\"\"\n",
    "        # An identity layer does nothing\n",
    "        self.params = []\n",
    "        pass\n",
    "\n",
    "    def forward(self, input):\n",
    "        \"\"\"\n",
    "        Takes input data of shape [batch, input_units], \n",
    "        returns output data [batch, output_units]\n",
    "        \"\"\"\n",
    "        # An identity layer just returns whatever it gets as input.\n",
    "        self.input = input\n",
    "        return input\n",
    "\n",
    "    def backward(self, grad_output): \n",
    "        \"\"\"\n",
    "        Performs a backpropagation step through the layer, \n",
    "        with respect to the given input.\n",
    "\n",
    "        To compute loss gradients w.r.t input, \n",
    "        you need to apply chain rule (backprop):\n",
    "\n",
    "        d `loss` / d `input` = (d `loss` / d `layer`) * (d `layer` / d `input`)\n",
    "\n",
    "        Luckily, you already receive d `loss` / d `layer` in argument, \n",
    "        so you only need to multiply it by d `layer` / d `input`.\n",
    "\n",
    "        NB: Sometimes d `layer` / d `input` can be a 3D or even 4D tensor.\n",
    "        So it's better to write down the `loss` differential and extract\n",
    "        d `layer` / d `input` from it so that only 2D tensors were present.\n",
    "\n",
    "        The method returns:\n",
    "        * gradient w.r.t input (will be passed to \n",
    "          previous layer's backward method)\n",
    "        * flattened gradient w.r.t. parameters (with .ravel() \n",
    "          applied to each gradient). \n",
    "          If there are no params, return []\n",
    "        \"\"\"\n",
    "        # The gradient of an identity layer is precisely grad_output\n",
    "        input_dim = self.input.shape[1]\n",
    "\n",
    "        d_layer_d_input = np.eye(input_dim)\n",
    "\n",
    "        return np.dot(grad_output, d_layer_d_input), [] # chain rule"
   ]
  },
  {
   "cell_type": "markdown",
   "metadata": {
    "heading_collapsed": true,
    "hidden": true
   },
   "source": [
    "#### `Слой нелинейности ReLU`"
   ]
  },
  {
   "cell_type": "markdown",
   "metadata": {
    "hidden": true
   },
   "source": [
    "Для начала реализуем слой нелинейности $ReLU(y) = \\max(0, y)$. Параметров у слоя нет. Метод `forward` должен вернуть результат поэлементного применения $ReLU$ к входному массиву, метод `backward` — градиент функции потерь по входу слоя. В нуле будем считать производную равной 0. Обратите внимание, что при обратном проходе могут понадобиться величины, посчитанные во время прямого прохода, поэтому их стоит сохранить как атрибут класса."
   ]
  },
  {
   "cell_type": "code",
   "execution_count": 5,
   "metadata": {
    "hidden": true,
    "ExecuteTime": {
     "end_time": "2024-02-21T20:13:47.947002500Z",
     "start_time": "2024-02-21T20:13:47.860975200Z"
    }
   },
   "outputs": [],
   "source": [
    "class ReLU(Layer):\n",
    "    \"\"\"\n",
    "    Modified code from cs.hse DL course *\n",
    "    \"\"\"\n",
    "    def __init__(self):\n",
    "        \"\"\"ReLU layer simply applies elementwise rectified linear unit to all inputs\"\"\"\n",
    "        self.params = [] # ReLU has no parameters\n",
    "        self.input = None\n",
    "\n",
    "    def forward(self, input):\n",
    "        \"\"\"Apply elementwise ReLU to [batch, num_units] matrix\"\"\"\n",
    "        \n",
    "        # max(0, x) = 1/2 (x + |x|)\n",
    "        \n",
    "        self.input = input\n",
    "        \n",
    "        return np.maximum(0, input)\n",
    "        \n",
    "        \n",
    "    def backward(self, grad_output):\n",
    "        \"\"\"Compute gradient of loss w.r.t. ReLU input\n",
    "        grad_output shape: [batch, num_units]\n",
    "        output 1 shape: [batch, num_units]\n",
    "        output 2: []\n",
    "        \"\"\"\n",
    "        \n",
    "        if self.input is None:\n",
    "            raise RuntimeError('Call forward method before calling backward')\n",
    "        \n",
    "        # print(f\"{grad_output.shape=}\")\n",
    "        \n",
    "        return np.where(self.input > 0, grad_output, np.zeros_like(self.input)), []\n",
    "    \n",
    "    def __repr__(self):\n",
    "        return 'Relu()'"
   ]
  },
  {
   "cell_type": "code",
   "outputs": [
    {
     "data": {
      "text/plain": "array([[1, 1],\n       [0, 1],\n       [0, 0]])"
     },
     "execution_count": 6,
     "metadata": {},
     "output_type": "execute_result"
    }
   ],
   "source": [
    "arr = np.array([\n",
    "    [1, 2],\n",
    "    [-1, 3],\n",
    "    [-2, -1]\n",
    "])\n",
    "\n",
    "np.where(arr > 0, np.ones_like(arr), np.zeros_like(arr))"
   ],
   "metadata": {
    "collapsed": false,
    "ExecuteTime": {
     "end_time": "2024-02-21T20:13:48.093366300Z",
     "start_time": "2024-02-21T20:13:47.863745600Z"
    }
   },
   "execution_count": 6
  },
  {
   "cell_type": "markdown",
   "metadata": {
    "heading_collapsed": true,
    "hidden": true
   },
   "source": [
    "#### `Полносвязный слой`"
   ]
  },
  {
   "cell_type": "markdown",
   "metadata": {
    "hidden": true
   },
   "source": [
    "Далее реализуем полносвязный слой без нелинейности. У слоя два параметра: матрица весов и вектор сдвига.\n",
    "\n",
    "Обратите внимание на второй аргумент: в нем надо возвращать градиент по всем параметрам в одномерном виде. Для этого надо сначала применить `.ravel()` ко всем градиентам, а затем воспользоваться `np.r_`:"
   ]
  },
  {
   "cell_type": "code",
   "execution_count": 7,
   "metadata": {
    "hidden": true,
    "ExecuteTime": {
     "end_time": "2024-02-21T20:13:48.097369600Z",
     "start_time": "2024-02-21T20:13:47.870669400Z"
    }
   },
   "outputs": [
    {
     "data": {
      "text/plain": "array([1., 0., 0., 0., 1., 0., 0., 0., 1., 0., 1., 2., 3.])"
     },
     "execution_count": 7,
     "metadata": {},
     "output_type": "execute_result"
    }
   ],
   "source": [
    "# example\n",
    "np.r_[np.eye(3).ravel(), np.arange(4)]"
   ]
  },
  {
   "cell_type": "code",
   "execution_count": 112,
   "metadata": {
    "hidden": true,
    "ExecuteTime": {
     "end_time": "2024-02-21T20:32:48.973334600Z",
     "start_time": "2024-02-21T20:32:48.900819600Z"
    }
   },
   "outputs": [],
   "source": [
    "class Dense(Layer):\n",
    "    \"\"\"\n",
    "    Modified code from cs.hse DL course *\n",
    "    \"\"\"\n",
    "    def __init__(self, input_units, output_units):\n",
    "        \"\"\"\n",
    "        A dense layer is a layer which performs a learned affine transformation:\n",
    "        f(x) = x W + b\n",
    "        \"\"\"\n",
    "        # initialize weights with small random numbers from normal distribution\n",
    "        self.weights = np.random.randn(input_units, output_units) * 0.2\n",
    "        self.biases = np.zeros(output_units)\n",
    "        self.params = [self.weights, self.biases]\n",
    "\n",
    "    def forward(self, input):\n",
    "        \"\"\"\n",
    "        Perform an affine transformation:\n",
    "        f(x) = x W + b\n",
    "        \n",
    "        input shape: [batch, input_units]\n",
    "        output shape: [batch, output units]\n",
    "        \"\"\"\n",
    "        \n",
    "        self.input = input\n",
    "        \n",
    "        return input @ self.weights + self.biases\n",
    "\n",
    "    def backward(self, grad_output):\n",
    "        \"\"\"\n",
    "        compute gradients\n",
    "        grad_output shape: [batch, output_units]\n",
    "        output shapes: [batch, input_units], [num_params]\n",
    "        \n",
    "        hint: use function np.r_\n",
    "        np.r_[np.arange(3), np.arange(3)] = [0, 1, 2, 0, 1, 2]\n",
    "        \"\"\"\n",
    "        \n",
    "        # print(f\"DEBUG: {(self.input[:, :, None] @ grad_output[:, None, :]).shape=}\")\n",
    "        d_loss_d_w = self.input[:, :, None] @ grad_output[:, None, :]\n",
    "        d_loss_d_b = grad_output\n",
    "        d_loss_d_x = grad_output @ self.weights.T\n",
    "        \n",
    "        return d_loss_d_x, [d_loss_d_w, d_loss_d_b]\n",
    "    \n",
    "    def __repr__(self):\n",
    "        return f'Dense({self.weights.shape[0]}, {self.weights.shape[1]})'"
   ]
  },
  {
   "cell_type": "code",
   "outputs": [
    {
     "data": {
      "text/plain": "array([[10, 20],\n       [20, 40],\n       [30, 60]])"
     },
     "execution_count": 9,
     "metadata": {},
     "output_type": "execute_result"
    }
   ],
   "source": [
    "x = np.array([1, 2, 3])\n",
    "y = np.array([10, 20])\n",
    "\n",
    "x[:, None] @ y[None, :]"
   ],
   "metadata": {
    "collapsed": false,
    "ExecuteTime": {
     "end_time": "2024-02-21T20:13:48.147368300Z",
     "start_time": "2024-02-21T20:13:47.880216900Z"
    }
   },
   "execution_count": 9
  },
  {
   "cell_type": "markdown",
   "metadata": {
    "heading_collapsed": true,
    "hidden": true
   },
   "source": [
    "#### `Проверка градиента`"
   ]
  },
  {
   "cell_type": "markdown",
   "metadata": {
    "hidden": true
   },
   "source": [
    "Проверим правильность реализации с помощью функции численной проверки градиента. Функция `eval_numerical_gradient` принимает на вход callable объект `f` (функцию от одного аргумента-матрицы) и аргумент `x` и вычисляет приближенный градиент функции `f` в точке `x`."
   ]
  },
  {
   "cell_type": "code",
   "execution_count": 10,
   "metadata": {
    "hidden": true,
    "ExecuteTime": {
     "end_time": "2024-02-21T20:13:48.174366700Z",
     "start_time": "2024-02-21T20:13:47.885758100Z"
    }
   },
   "outputs": [],
   "source": [
    "def eval_numerical_gradient(f, x, verbose=False, h=0.00001):\n",
    "    \"\"\"\n",
    "    Evaluates gradient df/dx via finite differences:\n",
    "    df/dx ~ (f(x+h) - f(x-h)) / 2h\n",
    "    Adopted from https://github.com/ddtm/dl-course/\n",
    "    \"\"\"\n",
    "    fx = f(x) # evaluate function value at original point\n",
    "    grad = np.zeros_like(x)\n",
    "    # iterate over all indexes in x\n",
    "    it = np.nditer(x, flags=['multi_index'], op_flags=['readwrite'])\n",
    "    while not it.finished:\n",
    "\n",
    "        # evaluate function at x+h\n",
    "        ix = it.multi_index\n",
    "        oldval = x[ix]\n",
    "        x[ix] = oldval + h # increment by h\n",
    "        fxph = f(x) # evalute f(x + h)\n",
    "        x[ix] = oldval - h\n",
    "        fxmh = f(x) # evaluate f(x - h)\n",
    "        x[ix] = oldval # restore\n",
    "\n",
    "        # compute the partial derivative with centered formula\n",
    "        grad[ix] = (fxph - fxmh) / (2 * h) # the slope\n",
    "        if verbose:\n",
    "            print (ix, grad[ix])\n",
    "        it.iternext() # step to next dimension\n",
    "\n",
    "    return grad"
   ]
  },
  {
   "cell_type": "markdown",
   "metadata": {
    "hidden": true
   },
   "source": [
    "Вычислите аналитический и численный градиенты по входу слоя ReLU от функции\n",
    "$$ f(y) = \\sum_i y_i, \\quad y = ReLU(x) $$\n",
    "\n",
    "Выпишите аналитический градиент в этой ячейке:\n",
    "Пусть $x = (x_1, \\ldots, x_n)$\n",
    "\n",
    "$$ f(x) = \\sum_i \\left( ReLU(x) \\right)_i = \\sum_i max(0, x_i)$$\n",
    "$$f: \\mathbb{R} ^ {n \\times m} \\to \\mathbb{R}^{m}$$\n",
    "\n",
    "$$\\nabla_{x} f = \\chi (x), \\text{где } \\chi (s) = \\begin{cases} 1 \\; & s > 0 \\\\ 0 \\; & s \\le 0 \\end{cases}$$"
   ]
  },
  {
   "cell_type": "markdown",
   "metadata": {
    "hidden": true
   },
   "source": [
    "Следующая ячейка после заполнения должна не выдавать ошибку :)"
   ]
  },
  {
   "cell_type": "code",
   "execution_count": 11,
   "metadata": {
    "hidden": true,
    "ExecuteTime": {
     "end_time": "2024-02-21T20:13:48.177736400Z",
     "start_time": "2024-02-21T20:13:47.888377400Z"
    }
   },
   "outputs": [
    {
     "name": "stdout",
     "output_type": "stream",
     "text": [
      "grads.shape=(10, 12)\tnumeric_grads.shape=(10, 12)\n"
     ]
    }
   ],
   "source": [
    "relu = ReLU()\n",
    "points = np.linspace(-1, 1, 10*12).reshape([10, 12])\n",
    "\n",
    "# print(relu.forward(points).shape)\n",
    "\n",
    "### your code here\n",
    "\n",
    "def f(x):\n",
    "    out = relu.forward(x)\n",
    "    return np.sum(out, axis=1)\n",
    "\n",
    "f(points)\n",
    "grads = relu.backward(np.ones((10, 12)))[0]\n",
    "grads\n",
    "# numeric_grads = eval_numerical_gradient(f, points, verbose=True)\n",
    "numeric_grads = np.zeros_like(points)\n",
    "for i in range(points.shape[0]):\n",
    "    numeric_grads[i, :] = eval_numerical_gradient(f, points[i, :].reshape((1, -1)), verbose=False)\n",
    "\n",
    "print(f\"{grads.shape=}\\t{numeric_grads.shape=}\")\n",
    "\n",
    "assert np.allclose(grads, numeric_grads, rtol=1e-3, atol=0)"
   ]
  },
  {
   "cell_type": "markdown",
   "metadata": {
    "hidden": true
   },
   "source": [
    "Вычислите аналитический и численный градиенты по входу полносвязного слоя от функции\n",
    "$$ f(y) = \\sum_i y_i, \\quad y = W x + b $$\n",
    "\n",
    "Выпишите аналитический градиент в этой ячейке (советуем выписать градиент через дифференциал функции $f$):\n",
    "\n",
    "..."
   ]
  },
  {
   "cell_type": "markdown",
   "metadata": {
    "hidden": true
   },
   "source": [
    "Следующая ячейка после заполнения должна не выдавать ошибку :)"
   ]
  },
  {
   "cell_type": "code",
   "execution_count": 12,
   "metadata": {
    "hidden": true,
    "ExecuteTime": {
     "end_time": "2024-02-21T20:13:48.194745200Z",
     "start_time": "2024-02-21T20:13:47.895956100Z"
    }
   },
   "outputs": [
    {
     "name": "stdout",
     "output_type": "stream",
     "text": [
      "grads.shape=(10, 12)\tnumeric_grads.shape=(10, 12)\n"
     ]
    }
   ],
   "source": [
    "linear = Dense(12, 32)\n",
    "points = np.linspace(-1, 1, 10*12).reshape([10, 12])\n",
    "\n",
    "def foo(x):\n",
    "    out = linear.forward(x)\n",
    "    return np.sum(out, axis=1)\n",
    "\n",
    "foo(points)\n",
    "grads = linear.backward(np.ones((10, 32)))[0]\n",
    "\n",
    "numeric_grads = np.zeros_like(points)\n",
    "for i in range(10):\n",
    "    numeric_grads[i, :] = eval_numerical_gradient(foo, points[i, :].reshape((1, -1)), verbose=False)\n",
    "\n",
    "print(f\"{grads.shape=}\\t{numeric_grads.shape=}\")\n",
    "\n",
    "# grads - numeric_grads\n",
    "\n",
    "assert np.allclose(grads, numeric_grads, rtol=1e-3, atol=0), np.max(np.abs(grads - numeric_grads))"
   ]
  },
  {
   "cell_type": "markdown",
   "metadata": {
    "heading_collapsed": true,
    "hidden": true
   },
   "source": [
    "#### `Реализация softmax-слоя и функции потерь`"
   ]
  },
  {
   "cell_type": "markdown",
   "metadata": {
    "hidden": true
   },
   "source": [
    "Для решения задачи многоклассовой классификации обычно используют $softmax$ в качестве нелинейности на последнем слое, чтобы получить вероятности классов для каждого объекта:\n",
    "$$\\hat y = softmax(x)  = \\left \\{\\frac {\\exp(x^i)}{\\sum_{j=1}^K \\exp(x^j)} \\right \\}_{i=1}^K, \\quad K - \\text{число классов.}$$\n",
    "\n",
    "Здесь за $x^i$ мы обозначаем $i$-ый признак объекта $x$.\n",
    "\n",
    "В качестве функции потерь выберем отрицательный логарифм правдоподобия (по английски: negative log likelihood или NLL)\n",
    "$$L(y, \\hat y) = -\\sum_{i=1}^K y^i \\log \\hat y^i,$$\n",
    "где $y^i = 1$, если объект принадлежит $i$-му классу, и $y^i = 0$ иначе.\n",
    "\n",
    "NLL совпадает с выражением для [кросс-энтропии](https://ru.wikipedia.org/wiki/Перекрёстная_энтропия) (в качестве первого распределения берем вырожденное распределение $y$, в качестве второго — предсказанное распределение $\\hat y$). Очевидно, что эту функцию потерь также можно переписать через индексацию, если через $y$ обозначить класс данного объекта:\n",
    "$$L(y, \\hat y) = - \\log \\hat y_{y}$$\n",
    "\n",
    "В таком виде ее удобно реализовывать."
   ]
  },
  {
   "cell_type": "markdown",
   "metadata": {
    "ExecuteTime": {
     "end_time": "2021-03-03T13:13:02.970075Z",
     "start_time": "2021-03-03T13:13:02.961134Z"
    },
    "hidden": true
   },
   "source": [
    "Для обучения нейронной сети будем оптимизировать эту функцию потерь по параметрам нейронной сети:\n",
    "\n",
    "$$ \\frac1N \\sum_{i=1}^N L(y_i, \\hat y_i) = \\frac1N \\sum_{i=1}^N L(y_i, \\text{NN}(x_i)) \\rightarrow \\min_{w}\\,,$$\n",
    "где за $x_i$ и $y_i$ мы обозначили признаки и таргет $i$-ого объекта обучающей выборки, за $\\text{NN}$ мы обозначили нейронную сеть, которая по признакам объекта $x_i$ выдает распределение вероятностей $\\hat y_i$, за $w$ мы обозначили все веса нейронной сети, а $N$ — это число объектов в обучающей выборке."
   ]
  },
  {
   "cell_type": "markdown",
   "metadata": {
    "hidden": true
   },
   "source": [
    "Реализуйте слой `LogSoftmax` (у этого слоя нет параметров). Метод `forward` должен вычислять логарифм от $softmax$, а метод `backward` — пропускать градиенты. В общем случае в промежуточных вычислениях `backward` получится трехмерный тензор, однако для нашей конкретной функции потерь все вычисления можно реализовать в матричном виде.  Поэтому мы будем предполагать, что аргумент `grad_output` — это матрица, у которой в каждой строке только одно ненулевое значение (не обязательно единица).\n",
    "\n",
    "**Пожелание.** Постарайтесь максимально упростить формулу градиентов, чтобы получился лаконичный и стабильный код. Большие и страшные реализации часто оказываются нестабильными."
   ]
  },
  {
   "cell_type": "code",
   "execution_count": 13,
   "metadata": {
    "hidden": true,
    "ExecuteTime": {
     "end_time": "2024-02-21T20:13:48.269735400Z",
     "start_time": "2024-02-21T20:13:47.903005Z"
    }
   },
   "outputs": [],
   "source": [
    "from scipy.special import logsumexp\n",
    "# use this function instead of np.log(np.sum(np.exp(...))) because it is more stable"
   ]
  },
  {
   "cell_type": "code",
   "execution_count": 14,
   "metadata": {
    "hidden": true,
    "ExecuteTime": {
     "end_time": "2024-02-21T20:13:48.550738Z",
     "start_time": "2024-02-21T20:13:48.174366700Z"
    }
   },
   "outputs": [],
   "source": [
    "class LogSoftmax:\n",
    "    def __init__(self):\n",
    "        self.params = []\n",
    "        self.input = None\n",
    "\n",
    "    def forward(self, input):\n",
    "        \"\"\"\n",
    "        Applies softmax to each row and then applies component-wise log\n",
    "        Input shape: [batch, num_units]\n",
    "        Output shape: [batch, num_units]\n",
    "        \"\"\"\n",
    "        self.input = input\n",
    "        \n",
    "        return input - logsumexp(input, axis=-1, keepdims=True)\n",
    "        \n",
    "    def backward(self, grad_output):\n",
    "        \"\"\"\n",
    "        Propagartes gradients.\n",
    "        Assumes that each row of grad_output contains only 1 \n",
    "        non-zero element\n",
    "        Input shape: [batch, num_units]\n",
    "        Output shape: [batch, num_units]\n",
    "        Do not forget to return [] as second value (grad w.r.t. params)\n",
    "        \"\"\"\n",
    "        \n",
    "        if self.input is None:\n",
    "            raise RuntimeError('Call forward method before calling backward')\n",
    "        \n",
    "        exp_arr = np.exp(self.input)\n",
    "        \n",
    "        exp_sum = np.sum(exp_arr, axis=-1, keepdims=True)\n",
    "        grad_output_sum = np.sum(grad_output, axis=-1, keepdims=True)\n",
    "        \n",
    "        d_loss_d_x = grad_output - exp_arr * (grad_output_sum / exp_sum)\n",
    "        \n",
    "        return d_loss_d_x, []\n",
    "        \n",
    "    \n",
    "    def __repr__(self):\n",
    "        return 'LogSoftmax()'"
   ]
  },
  {
   "cell_type": "markdown",
   "metadata": {
    "hidden": true
   },
   "source": [
    "Реализуйте функцию потерь и градиенты функции потерь. Во время вычисления NLL усредняйте (а не суммируйте) значения функции потерь по батчу. Обычно так делают для того, чтобы при двух запусках обучения нейронной сети с разными размерами батча получаемые значения функции потерь у этих сетей были сравнимы."
   ]
  },
  {
   "cell_type": "code",
   "execution_count": 15,
   "metadata": {
    "hidden": true,
    "ExecuteTime": {
     "end_time": "2024-02-21T20:13:48.661066400Z",
     "start_time": "2024-02-21T20:13:48.547736100Z"
    }
   },
   "outputs": [],
   "source": [
    "def NLL(activations, target):\n",
    "    \"\"\"\n",
    "    Returns negative log-likelihood of target under model represented by\n",
    "    activations (log probabilities of classes, it's just output of LogSoftmax layer).\n",
    "    `activations` has shape [batch, num_classes], `target` has shape [batch]\n",
    "    Output shape: 1 (scalar).\n",
    "    \"\"\"\n",
    "    \n",
    "    return -np.mean(activations[np.arange(len(target)), target])\n",
    "\n",
    "\n",
    "def grad_NLL(activations, target):\n",
    "    \"\"\"\n",
    "    Returns gradient of negative log-likelihood w.r.t. activations.\n",
    "    each arg has shape [batch, num_classes]\n",
    "    output shape: [batch, num-classes]\n",
    "    \"\"\"\n",
    "    \n",
    "    ohe_target = np.zeros_like(activations)\n",
    "    ohe_target[np.arange(len(target)), target] = 1\n",
    "    \n",
    "    return -(ohe_target - np.exp(activations)) / len(target)"
   ]
  },
  {
   "cell_type": "markdown",
   "metadata": {
    "hidden": true
   },
   "source": [
    "Наконец, выполните проверку `LogSoftmax`-слоя, используя функцию потерь и ее градиент:"
   ]
  },
  {
   "cell_type": "code",
   "execution_count": 64,
   "metadata": {
    "hidden": true,
    "ExecuteTime": {
     "end_time": "2024-02-21T20:20:10.070746500Z",
     "start_time": "2024-02-21T20:20:10.032800Z"
    }
   },
   "outputs": [],
   "source": [
    "n = 50\n",
    "d = 10\n",
    "lsm = LogSoftmax()\n",
    "np.random.seed(42)\n",
    "target = np.random.choice(d, size=n)\n",
    "points = np.random.uniform(-1, 1, n*d).reshape([n, d])\n",
    "\n",
    "### your code here\n",
    "\n",
    "def foo(x):\n",
    "    # print(f\"{x.shape=}\")\n",
    "    return NLL(lsm.forward(x), target)\n",
    "\n",
    "pred = lsm.forward(points)\n",
    "NLL(pred, target)\n",
    "f(points[0, :].reshape((1, -1)))\n",
    "grads, _ = lsm.backward(grad_NLL(pred, target))\n",
    "\n",
    "numeric_grads = eval_numerical_gradient(foo, points, verbose=False)\n",
    "\n",
    "# np.max(np.abs(grads - numeric_grads))\n",
    "\n",
    "assert np.allclose(grads, numeric_grads, rtol=1e-3, atol=0)"
   ]
  },
  {
   "cell_type": "markdown",
   "metadata": {
    "heading_collapsed": true,
    "hidden": true
   },
   "source": [
    "### `Загрузка данных`"
   ]
  },
  {
   "cell_type": "markdown",
   "metadata": {
    "hidden": true
   },
   "source": [
    "Мы реализаовали все архитектурные составляющие нашей нейронной сети. Осталось загрузить данные и обучить модель. Мы будем работать с датасетом `digits`, каждый объект в котором — это 8x8 изображение рукописной цифры."
   ]
  },
  {
   "cell_type": "code",
   "execution_count": 17,
   "metadata": {
    "hidden": true,
    "ExecuteTime": {
     "end_time": "2024-02-21T20:13:49.058088300Z",
     "start_time": "2024-02-21T20:13:48.763269Z"
    }
   },
   "outputs": [],
   "source": [
    "import matplotlib.pyplot as plt\n",
    "%matplotlib inline"
   ]
  },
  {
   "cell_type": "code",
   "execution_count": 18,
   "metadata": {
    "hidden": true,
    "ExecuteTime": {
     "end_time": "2024-02-21T20:13:49.409914200Z",
     "start_time": "2024-02-21T20:13:49.016542700Z"
    }
   },
   "outputs": [],
   "source": [
    "from sklearn.datasets import load_digits"
   ]
  },
  {
   "cell_type": "code",
   "execution_count": 19,
   "metadata": {
    "hidden": true,
    "ExecuteTime": {
     "end_time": "2024-02-21T20:13:49.414883600Z",
     "start_time": "2024-02-21T20:13:49.356561900Z"
    }
   },
   "outputs": [],
   "source": [
    "X, y = load_digits(return_X_y=True)"
   ]
  },
  {
   "cell_type": "code",
   "execution_count": 20,
   "metadata": {
    "hidden": true,
    "ExecuteTime": {
     "end_time": "2024-02-21T20:13:49.418608200Z",
     "start_time": "2024-02-21T20:13:49.375560200Z"
    }
   },
   "outputs": [
    {
     "data": {
      "text/plain": "((1797, 64), (1797,))"
     },
     "execution_count": 20,
     "metadata": {},
     "output_type": "execute_result"
    }
   ],
   "source": [
    "X.shape, y.shape"
   ]
  },
  {
   "cell_type": "markdown",
   "metadata": {
    "hidden": true
   },
   "source": [
    "Разделим данные на обучение и контроль:"
   ]
  },
  {
   "cell_type": "code",
   "execution_count": 21,
   "metadata": {
    "hidden": true,
    "ExecuteTime": {
     "end_time": "2024-02-21T20:13:49.559318400Z",
     "start_time": "2024-02-21T20:13:49.379489400Z"
    }
   },
   "outputs": [],
   "source": [
    "from sklearn.model_selection import train_test_split"
   ]
  },
  {
   "cell_type": "code",
   "execution_count": 22,
   "metadata": {
    "hidden": true,
    "ExecuteTime": {
     "end_time": "2024-02-21T20:13:49.598467700Z",
     "start_time": "2024-02-21T20:13:49.408913Z"
    }
   },
   "outputs": [],
   "source": [
    "X_train, X_test, y_train, y_test = train_test_split(X, y, random_state=0)"
   ]
  },
  {
   "cell_type": "code",
   "execution_count": 23,
   "metadata": {
    "hidden": true,
    "ExecuteTime": {
     "end_time": "2024-02-21T20:13:49.606468300Z",
     "start_time": "2024-02-21T20:13:49.413248600Z"
    }
   },
   "outputs": [
    {
     "data": {
      "text/plain": "((1347, 64), (450, 64))"
     },
     "execution_count": 23,
     "metadata": {},
     "output_type": "execute_result"
    }
   ],
   "source": [
    "X_train.shape, X_test.shape"
   ]
  },
  {
   "cell_type": "markdown",
   "metadata": {
    "heading_collapsed": true,
    "hidden": true
   },
   "source": [
    "### `Сборка и обучение нейронной сети (0.8 балла)`"
   ]
  },
  {
   "cell_type": "markdown",
   "metadata": {
    "hidden": true
   },
   "source": [
    "В нашей реализации мы представляем нейронную сеть в виде списка ее слоев. Например, следующая функция конструирует нейронную сеть заданной ширины (то есть с заданным размером скрытых слоев) и глубины (то есть с заданным количеством слоев) с заданным размером входа и выхода, а также с заданной функцией активации между линейными слоями."
   ]
  },
  {
   "cell_type": "code",
   "execution_count": 24,
   "metadata": {
    "hidden": true,
    "ExecuteTime": {
     "end_time": "2024-02-21T20:13:49.630469500Z",
     "start_time": "2024-02-21T20:13:49.415892Z"
    }
   },
   "outputs": [],
   "source": [
    "def make_network(input_size, hidden_layers_size, output_size, n_layers=3, activation_class=ReLU):\n",
    "    network = []\n",
    "\n",
    "    for layer_idx in range(n_layers):\n",
    "        # Compute sizes of current linear layer\n",
    "        layer_in = input_size if layer_idx == 0 else hidden_layers_size\n",
    "        layer_out = output_size if layer_idx == n_layers - 1 else hidden_layers_size\n",
    "        \n",
    "        # Add linear layer to the network\n",
    "        network.append(Dense(layer_in, layer_out))\n",
    "\n",
    "        # Add activation after each layer except the last one\n",
    "        if layer_idx != n_layers - 1:\n",
    "            network.append(activation_class())\n",
    "\n",
    "    # Add LogSoftmax layer to the network\n",
    "    network.append(LogSoftmax())\n",
    "\n",
    "    return network"
   ]
  },
  {
   "cell_type": "code",
   "execution_count": 68,
   "metadata": {
    "hidden": true,
    "ExecuteTime": {
     "end_time": "2024-02-21T20:21:00.971128900Z",
     "start_time": "2024-02-21T20:21:00.849383300Z"
    }
   },
   "outputs": [
    {
     "data": {
      "text/plain": "[Dense(64, 32), Relu(), Dense(32, 32), Relu(), Dense(32, 10), LogSoftmax()]"
     },
     "execution_count": 68,
     "metadata": {},
     "output_type": "execute_result"
    }
   ],
   "source": [
    "input_size = X_train.shape[1]\n",
    "hidden_layers_size = 32\n",
    "output_size = 10\n",
    "\n",
    "network = make_network(input_size, hidden_layers_size, output_size, 3, ReLU)\n",
    "network"
   ]
  },
  {
   "cell_type": "markdown",
   "metadata": {
    "hidden": true
   },
   "source": [
    "Реализуйте функцию, которая выполнет прямой проход по нейронной сети:"
   ]
  },
  {
   "cell_type": "code",
   "execution_count": 69,
   "metadata": {
    "hidden": true,
    "ExecuteTime": {
     "end_time": "2024-02-21T20:21:03.727733800Z",
     "start_time": "2024-02-21T20:21:03.681701100Z"
    }
   },
   "outputs": [],
   "source": [
    "def forward(network: List[Layer], X):\n",
    "    \"\"\"\n",
    "    Perform forward pass through the network.\n",
    "    \n",
    "    network: list of layers\n",
    "    X: raw data\n",
    "    X shape: [batch, features_num]\n",
    "\n",
    "    output: \n",
    "    output shape: [batch, out_features_num]\n",
    "    \"\"\"\n",
    "    \n",
    "    for layer in network:\n",
    "        X = layer.forward(X)\n",
    "    \n",
    "    return X"
   ]
  },
  {
   "cell_type": "markdown",
   "metadata": {
    "hidden": true
   },
   "source": [
    "Для проверки, хорошо ли сеть обучилась, нам понадобится вычислять долю правильных ответов (accuracy) на данной выборке. Для этого реализуйте функцию, которая делает предсказания на каждом объекте (логично в качестве предсказания на очередном объекте выдавать тот класс, для которого предсказанный логарифм вероятности максимален):"
   ]
  },
  {
   "cell_type": "code",
   "execution_count": 70,
   "metadata": {
    "hidden": true,
    "ExecuteTime": {
     "end_time": "2024-02-21T20:21:04.063802400Z",
     "start_time": "2024-02-21T20:21:03.967358700Z"
    }
   },
   "outputs": [],
   "source": [
    "def predict(network: List[Layer], X):\n",
    "    \"\"\"\n",
    "    Returns predictions for each object in X.\n",
    "    \n",
    "    network: list of layers\n",
    "    X: raw data\n",
    "    X shape: [batch, features_num]\n",
    "\n",
    "    output: array of classes, each from 0 to 9\n",
    "    output shape: [batch]\n",
    "    \"\"\"\n",
    "    \n",
    "    pred = forward(network, X)\n",
    "    \n",
    "    return np.argmax(pred, axis=1, keepdims=True)"
   ]
  },
  {
   "cell_type": "markdown",
   "metadata": {
    "hidden": true
   },
   "source": [
    "Мы будем обучать параметры нейросети с помощью готовой функции оптимизации из модуля `scipy`:"
   ]
  },
  {
   "cell_type": "code",
   "execution_count": 71,
   "metadata": {
    "hidden": true,
    "ExecuteTime": {
     "end_time": "2024-02-21T20:21:04.296246Z",
     "start_time": "2024-02-21T20:21:04.241184800Z"
    }
   },
   "outputs": [],
   "source": [
    "from scipy.optimize import minimize"
   ]
  },
  {
   "cell_type": "code",
   "execution_count": 72,
   "metadata": {
    "hidden": true,
    "scrolled": true,
    "ExecuteTime": {
     "end_time": "2024-02-21T20:21:05.213854700Z",
     "start_time": "2024-02-21T20:21:05.086670200Z"
    }
   },
   "outputs": [
    {
     "name": "stdout",
     "output_type": "stream",
     "text": [
      "Help on function minimize in module scipy.optimize._minimize:\n",
      "\n",
      "minimize(fun, x0, args=(), method=None, jac=None, hess=None, hessp=None, bounds=None, constraints=(), tol=None, callback=None, options=None)\n",
      "    Minimization of scalar function of one or more variables.\n",
      "    \n",
      "    Parameters\n",
      "    ----------\n",
      "    fun : callable\n",
      "        The objective function to be minimized.\n",
      "    \n",
      "            ``fun(x, *args) -> float``\n",
      "    \n",
      "        where ``x`` is a 1-D array with shape (n,) and ``args``\n",
      "        is a tuple of the fixed parameters needed to completely\n",
      "        specify the function.\n",
      "    x0 : ndarray, shape (n,)\n",
      "        Initial guess. Array of real elements of size (n,),\n",
      "        where ``n`` is the number of independent variables.\n",
      "    args : tuple, optional\n",
      "        Extra arguments passed to the objective function and its\n",
      "        derivatives (`fun`, `jac` and `hess` functions).\n",
      "    method : str or callable, optional\n",
      "        Type of solver.  Should be one of\n",
      "    \n",
      "            - 'Nelder-Mead' :ref:`(see here) <optimize.minimize-neldermead>`\n",
      "            - 'Powell'      :ref:`(see here) <optimize.minimize-powell>`\n",
      "            - 'CG'          :ref:`(see here) <optimize.minimize-cg>`\n",
      "            - 'BFGS'        :ref:`(see here) <optimize.minimize-bfgs>`\n",
      "            - 'Newton-CG'   :ref:`(see here) <optimize.minimize-newtoncg>`\n",
      "            - 'L-BFGS-B'    :ref:`(see here) <optimize.minimize-lbfgsb>`\n",
      "            - 'TNC'         :ref:`(see here) <optimize.minimize-tnc>`\n",
      "            - 'COBYLA'      :ref:`(see here) <optimize.minimize-cobyla>`\n",
      "            - 'SLSQP'       :ref:`(see here) <optimize.minimize-slsqp>`\n",
      "            - 'trust-constr':ref:`(see here) <optimize.minimize-trustconstr>`\n",
      "            - 'dogleg'      :ref:`(see here) <optimize.minimize-dogleg>`\n",
      "            - 'trust-ncg'   :ref:`(see here) <optimize.minimize-trustncg>`\n",
      "            - 'trust-exact' :ref:`(see here) <optimize.minimize-trustexact>`\n",
      "            - 'trust-krylov' :ref:`(see here) <optimize.minimize-trustkrylov>`\n",
      "            - custom - a callable object, see below for description.\n",
      "    \n",
      "        If not given, chosen to be one of ``BFGS``, ``L-BFGS-B``, ``SLSQP``,\n",
      "        depending on whether or not the problem has constraints or bounds.\n",
      "    jac : {callable,  '2-point', '3-point', 'cs', bool}, optional\n",
      "        Method for computing the gradient vector. Only for CG, BFGS,\n",
      "        Newton-CG, L-BFGS-B, TNC, SLSQP, dogleg, trust-ncg, trust-krylov,\n",
      "        trust-exact and trust-constr.\n",
      "        If it is a callable, it should be a function that returns the gradient\n",
      "        vector:\n",
      "    \n",
      "            ``jac(x, *args) -> array_like, shape (n,)``\n",
      "    \n",
      "        where ``x`` is an array with shape (n,) and ``args`` is a tuple with\n",
      "        the fixed parameters. If `jac` is a Boolean and is True, `fun` is\n",
      "        assumed to return a tuple ``(f, g)`` containing the objective\n",
      "        function and the gradient.\n",
      "        Methods 'Newton-CG', 'trust-ncg', 'dogleg', 'trust-exact', and\n",
      "        'trust-krylov' require that either a callable be supplied, or that\n",
      "        `fun` return the objective and gradient.\n",
      "        If None or False, the gradient will be estimated using 2-point finite\n",
      "        difference estimation with an absolute step size.\n",
      "        Alternatively, the keywords  {'2-point', '3-point', 'cs'} can be used\n",
      "        to select a finite difference scheme for numerical estimation of the\n",
      "        gradient with a relative step size. These finite difference schemes\n",
      "        obey any specified `bounds`.\n",
      "    hess : {callable, '2-point', '3-point', 'cs', HessianUpdateStrategy}, optional\n",
      "        Method for computing the Hessian matrix. Only for Newton-CG, dogleg,\n",
      "        trust-ncg, trust-krylov, trust-exact and trust-constr.\n",
      "        If it is callable, it should return the Hessian matrix:\n",
      "    \n",
      "            ``hess(x, *args) -> {LinearOperator, spmatrix, array}, (n, n)``\n",
      "    \n",
      "        where ``x`` is a (n,) ndarray and ``args`` is a tuple with the fixed\n",
      "        parameters.\n",
      "        The keywords {'2-point', '3-point', 'cs'} can also be used to select\n",
      "        a finite difference scheme for numerical estimation of the hessian.\n",
      "        Alternatively, objects implementing the `HessianUpdateStrategy`\n",
      "        interface can be used to approximate the Hessian. Available\n",
      "        quasi-Newton methods implementing this interface are:\n",
      "    \n",
      "            - `BFGS`;\n",
      "            - `SR1`.\n",
      "    \n",
      "        Not all of the options are available for each of the methods; for\n",
      "        availability refer to the notes.\n",
      "    hessp : callable, optional\n",
      "        Hessian of objective function times an arbitrary vector p. Only for\n",
      "        Newton-CG, trust-ncg, trust-krylov, trust-constr.\n",
      "        Only one of `hessp` or `hess` needs to be given. If `hess` is\n",
      "        provided, then `hessp` will be ignored. `hessp` must compute the\n",
      "        Hessian times an arbitrary vector:\n",
      "    \n",
      "            ``hessp(x, p, *args) ->  ndarray shape (n,)``\n",
      "    \n",
      "        where ``x`` is a (n,) ndarray, ``p`` is an arbitrary vector with\n",
      "        dimension (n,) and ``args`` is a tuple with the fixed\n",
      "        parameters.\n",
      "    bounds : sequence or `Bounds`, optional\n",
      "        Bounds on variables for Nelder-Mead, L-BFGS-B, TNC, SLSQP, Powell, and\n",
      "        trust-constr methods. There are two ways to specify the bounds:\n",
      "    \n",
      "            1. Instance of `Bounds` class.\n",
      "            2. Sequence of ``(min, max)`` pairs for each element in `x`. None\n",
      "               is used to specify no bound.\n",
      "    \n",
      "    constraints : {Constraint, dict} or List of {Constraint, dict}, optional\n",
      "        Constraints definition. Only for COBYLA, SLSQP and trust-constr.\n",
      "    \n",
      "        Constraints for 'trust-constr' are defined as a single object or a\n",
      "        list of objects specifying constraints to the optimization problem.\n",
      "        Available constraints are:\n",
      "    \n",
      "            - `LinearConstraint`\n",
      "            - `NonlinearConstraint`\n",
      "    \n",
      "        Constraints for COBYLA, SLSQP are defined as a list of dictionaries.\n",
      "        Each dictionary with fields:\n",
      "    \n",
      "            type : str\n",
      "                Constraint type: 'eq' for equality, 'ineq' for inequality.\n",
      "            fun : callable\n",
      "                The function defining the constraint.\n",
      "            jac : callable, optional\n",
      "                The Jacobian of `fun` (only for SLSQP).\n",
      "            args : sequence, optional\n",
      "                Extra arguments to be passed to the function and Jacobian.\n",
      "    \n",
      "        Equality constraint means that the constraint function result is to\n",
      "        be zero whereas inequality means that it is to be non-negative.\n",
      "        Note that COBYLA only supports inequality constraints.\n",
      "    tol : float, optional\n",
      "        Tolerance for termination. When `tol` is specified, the selected\n",
      "        minimization algorithm sets some relevant solver-specific tolerance(s)\n",
      "        equal to `tol`. For detailed control, use solver-specific\n",
      "        options.\n",
      "    options : dict, optional\n",
      "        A dictionary of solver options. All methods except `TNC` accept the\n",
      "        following generic options:\n",
      "    \n",
      "            maxiter : int\n",
      "                Maximum number of iterations to perform. Depending on the\n",
      "                method each iteration may use several function evaluations.\n",
      "    \n",
      "                For `TNC` use `maxfun` instead of `maxiter`.\n",
      "            disp : bool\n",
      "                Set to True to print convergence messages.\n",
      "    \n",
      "        For method-specific options, see :func:`show_options()`.\n",
      "    callback : callable, optional\n",
      "        Called after each iteration. For 'trust-constr' it is a callable with\n",
      "        the signature:\n",
      "    \n",
      "            ``callback(xk, OptimizeResult state) -> bool``\n",
      "    \n",
      "        where ``xk`` is the current parameter vector. and ``state``\n",
      "        is an `OptimizeResult` object, with the same fields\n",
      "        as the ones from the return. If callback returns True\n",
      "        the algorithm execution is terminated.\n",
      "        For all the other methods, the signature is:\n",
      "    \n",
      "            ``callback(xk)``\n",
      "    \n",
      "        where ``xk`` is the current parameter vector.\n",
      "    \n",
      "    Returns\n",
      "    -------\n",
      "    res : OptimizeResult\n",
      "        The optimization result represented as a ``OptimizeResult`` object.\n",
      "        Important attributes are: ``x`` the solution array, ``success`` a\n",
      "        Boolean flag indicating if the optimizer exited successfully and\n",
      "        ``message`` which describes the cause of the termination. See\n",
      "        `OptimizeResult` for a description of other attributes.\n",
      "    \n",
      "    See also\n",
      "    --------\n",
      "    minimize_scalar : Interface to minimization algorithms for scalar\n",
      "        univariate functions\n",
      "    show_options : Additional options accepted by the solvers\n",
      "    \n",
      "    Notes\n",
      "    -----\n",
      "    This section describes the available solvers that can be selected by the\n",
      "    'method' parameter. The default method is *BFGS*.\n",
      "    \n",
      "    **Unconstrained minimization**\n",
      "    \n",
      "    Method :ref:`CG <optimize.minimize-cg>` uses a nonlinear conjugate\n",
      "    gradient algorithm by Polak and Ribiere, a variant of the\n",
      "    Fletcher-Reeves method described in [5]_ pp.120-122. Only the\n",
      "    first derivatives are used.\n",
      "    \n",
      "    Method :ref:`BFGS <optimize.minimize-bfgs>` uses the quasi-Newton\n",
      "    method of Broyden, Fletcher, Goldfarb, and Shanno (BFGS) [5]_\n",
      "    pp. 136. It uses the first derivatives only. BFGS has proven good\n",
      "    performance even for non-smooth optimizations. This method also\n",
      "    returns an approximation of the Hessian inverse, stored as\n",
      "    `hess_inv` in the OptimizeResult object.\n",
      "    \n",
      "    Method :ref:`Newton-CG <optimize.minimize-newtoncg>` uses a\n",
      "    Newton-CG algorithm [5]_ pp. 168 (also known as the truncated\n",
      "    Newton method). It uses a CG method to the compute the search\n",
      "    direction. See also *TNC* method for a box-constrained\n",
      "    minimization with a similar algorithm. Suitable for large-scale\n",
      "    problems.\n",
      "    \n",
      "    Method :ref:`dogleg <optimize.minimize-dogleg>` uses the dog-leg\n",
      "    trust-region algorithm [5]_ for unconstrained minimization. This\n",
      "    algorithm requires the gradient and Hessian; furthermore the\n",
      "    Hessian is required to be positive definite.\n",
      "    \n",
      "    Method :ref:`trust-ncg <optimize.minimize-trustncg>` uses the\n",
      "    Newton conjugate gradient trust-region algorithm [5]_ for\n",
      "    unconstrained minimization. This algorithm requires the gradient\n",
      "    and either the Hessian or a function that computes the product of\n",
      "    the Hessian with a given vector. Suitable for large-scale problems.\n",
      "    \n",
      "    Method :ref:`trust-krylov <optimize.minimize-trustkrylov>` uses\n",
      "    the Newton GLTR trust-region algorithm [14]_, [15]_ for unconstrained\n",
      "    minimization. This algorithm requires the gradient\n",
      "    and either the Hessian or a function that computes the product of\n",
      "    the Hessian with a given vector. Suitable for large-scale problems.\n",
      "    On indefinite problems it requires usually less iterations than the\n",
      "    `trust-ncg` method and is recommended for medium and large-scale problems.\n",
      "    \n",
      "    Method :ref:`trust-exact <optimize.minimize-trustexact>`\n",
      "    is a trust-region method for unconstrained minimization in which\n",
      "    quadratic subproblems are solved almost exactly [13]_. This\n",
      "    algorithm requires the gradient and the Hessian (which is\n",
      "    *not* required to be positive definite). It is, in many\n",
      "    situations, the Newton method to converge in fewer iterations\n",
      "    and the most recommended for small and medium-size problems.\n",
      "    \n",
      "    **Bound-Constrained minimization**\n",
      "    \n",
      "    Method :ref:`Nelder-Mead <optimize.minimize-neldermead>` uses the\n",
      "    Simplex algorithm [1]_, [2]_. This algorithm is robust in many\n",
      "    applications. However, if numerical computation of derivative can be\n",
      "    trusted, other algorithms using the first and/or second derivatives\n",
      "    information might be preferred for their better performance in\n",
      "    general.\n",
      "    \n",
      "    Method :ref:`L-BFGS-B <optimize.minimize-lbfgsb>` uses the L-BFGS-B\n",
      "    algorithm [6]_, [7]_ for bound constrained minimization.\n",
      "    \n",
      "    Method :ref:`Powell <optimize.minimize-powell>` is a modification\n",
      "    of Powell's method [3]_, [4]_ which is a conjugate direction\n",
      "    method. It performs sequential one-dimensional minimizations along\n",
      "    each vector of the directions set (`direc` field in `options` and\n",
      "    `info`), which is updated at each iteration of the main\n",
      "    minimization loop. The function need not be differentiable, and no\n",
      "    derivatives are taken. If bounds are not provided, then an\n",
      "    unbounded line search will be used. If bounds are provided and\n",
      "    the initial guess is within the bounds, then every function\n",
      "    evaluation throughout the minimization procedure will be within\n",
      "    the bounds. If bounds are provided, the initial guess is outside\n",
      "    the bounds, and `direc` is full rank (default has full rank), then\n",
      "    some function evaluations during the first iteration may be\n",
      "    outside the bounds, but every function evaluation after the first\n",
      "    iteration will be within the bounds. If `direc` is not full rank,\n",
      "    then some parameters may not be optimized and the solution is not\n",
      "    guaranteed to be within the bounds.\n",
      "    \n",
      "    Method :ref:`TNC <optimize.minimize-tnc>` uses a truncated Newton\n",
      "    algorithm [5]_, [8]_ to minimize a function with variables subject\n",
      "    to bounds. This algorithm uses gradient information; it is also\n",
      "    called Newton Conjugate-Gradient. It differs from the *Newton-CG*\n",
      "    method described above as it wraps a C implementation and allows\n",
      "    each variable to be given upper and lower bounds.\n",
      "    \n",
      "    **Constrained Minimization**\n",
      "    \n",
      "    Method :ref:`COBYLA <optimize.minimize-cobyla>` uses the\n",
      "    Constrained Optimization BY Linear Approximation (COBYLA) method\n",
      "    [9]_, [10]_, [11]_. The algorithm is based on linear\n",
      "    approximations to the objective function and each constraint. The\n",
      "    method wraps a FORTRAN implementation of the algorithm. The\n",
      "    constraints functions 'fun' may return either a single number\n",
      "    or an array or list of numbers.\n",
      "    \n",
      "    Method :ref:`SLSQP <optimize.minimize-slsqp>` uses Sequential\n",
      "    Least SQuares Programming to minimize a function of several\n",
      "    variables with any combination of bounds, equality and inequality\n",
      "    constraints. The method wraps the SLSQP Optimization subroutine\n",
      "    originally implemented by Dieter Kraft [12]_. Note that the\n",
      "    wrapper handles infinite values in bounds by converting them into\n",
      "    large floating values.\n",
      "    \n",
      "    Method :ref:`trust-constr <optimize.minimize-trustconstr>` is a\n",
      "    trust-region algorithm for constrained optimization. It swiches\n",
      "    between two implementations depending on the problem definition.\n",
      "    It is the most versatile constrained minimization algorithm\n",
      "    implemented in SciPy and the most appropriate for large-scale problems.\n",
      "    For equality constrained problems it is an implementation of Byrd-Omojokun\n",
      "    Trust-Region SQP method described in [17]_ and in [5]_, p. 549. When\n",
      "    inequality constraints are imposed as well, it swiches to the trust-region\n",
      "    interior point method described in [16]_. This interior point algorithm,\n",
      "    in turn, solves inequality constraints by introducing slack variables\n",
      "    and solving a sequence of equality-constrained barrier problems\n",
      "    for progressively smaller values of the barrier parameter.\n",
      "    The previously described equality constrained SQP method is\n",
      "    used to solve the subproblems with increasing levels of accuracy\n",
      "    as the iterate gets closer to a solution.\n",
      "    \n",
      "    **Finite-Difference Options**\n",
      "    \n",
      "    For Method :ref:`trust-constr <optimize.minimize-trustconstr>`\n",
      "    the gradient and the Hessian may be approximated using\n",
      "    three finite-difference schemes: {'2-point', '3-point', 'cs'}.\n",
      "    The scheme 'cs' is, potentially, the most accurate but it\n",
      "    requires the function to correctly handle complex inputs and to\n",
      "    be differentiable in the complex plane. The scheme '3-point' is more\n",
      "    accurate than '2-point' but requires twice as many operations. If the\n",
      "    gradient is estimated via finite-differences the Hessian must be\n",
      "    estimated using one of the quasi-Newton strategies.\n",
      "    \n",
      "    **Method specific options for the** `hess` **keyword**\n",
      "    \n",
      "    +--------------+------+----------+-------------------------+-----+\n",
      "    | method/Hess  | None | callable | '2-point/'3-point'/'cs' | HUS |\n",
      "    +==============+======+==========+=========================+=====+\n",
      "    | Newton-CG    | x    | (n, n)   | x                       | x   |\n",
      "    |              |      | LO       |                         |     |\n",
      "    +--------------+------+----------+-------------------------+-----+\n",
      "    | dogleg       |      | (n, n)   |                         |     |\n",
      "    +--------------+------+----------+-------------------------+-----+\n",
      "    | trust-ncg    |      | (n, n)   | x                       | x   |\n",
      "    +--------------+------+----------+-------------------------+-----+\n",
      "    | trust-krylov |      | (n, n)   | x                       | x   |\n",
      "    +--------------+------+----------+-------------------------+-----+\n",
      "    | trust-exact  |      | (n, n)   |                         |     |\n",
      "    +--------------+------+----------+-------------------------+-----+\n",
      "    | trust-constr | x    | (n, n)   |  x                      | x   |\n",
      "    |              |      | LO       |                         |     |\n",
      "    |              |      | sp       |                         |     |\n",
      "    +--------------+------+----------+-------------------------+-----+\n",
      "    \n",
      "    where LO=LinearOperator, sp=Sparse matrix, HUS=HessianUpdateStrategy\n",
      "    \n",
      "    **Custom minimizers**\n",
      "    \n",
      "    It may be useful to pass a custom minimization method, for example\n",
      "    when using a frontend to this method such as `scipy.optimize.basinhopping`\n",
      "    or a different library.  You can simply pass a callable as the ``method``\n",
      "    parameter.\n",
      "    \n",
      "    The callable is called as ``method(fun, x0, args, **kwargs, **options)``\n",
      "    where ``kwargs`` corresponds to any other parameters passed to `minimize`\n",
      "    (such as `callback`, `hess`, etc.), except the `options` dict, which has\n",
      "    its contents also passed as `method` parameters pair by pair.  Also, if\n",
      "    `jac` has been passed as a bool type, `jac` and `fun` are mangled so that\n",
      "    `fun` returns just the function values and `jac` is converted to a function\n",
      "    returning the Jacobian.  The method shall return an `OptimizeResult`\n",
      "    object.\n",
      "    \n",
      "    The provided `method` callable must be able to accept (and possibly ignore)\n",
      "    arbitrary parameters; the set of parameters accepted by `minimize` may\n",
      "    expand in future versions and then these parameters will be passed to\n",
      "    the method.  You can find an example in the scipy.optimize tutorial.\n",
      "    \n",
      "    References\n",
      "    ----------\n",
      "    .. [1] Nelder, J A, and R Mead. 1965. A Simplex Method for Function\n",
      "        Minimization. The Computer Journal 7: 308-13.\n",
      "    .. [2] Wright M H. 1996. Direct search methods: Once scorned, now\n",
      "        respectable, in Numerical Analysis 1995: Proceedings of the 1995\n",
      "        Dundee Biennial Conference in Numerical Analysis (Eds. D F\n",
      "        Griffiths and G A Watson). Addison Wesley Longman, Harlow, UK.\n",
      "        191-208.\n",
      "    .. [3] Powell, M J D. 1964. An efficient method for finding the minimum of\n",
      "       a function of several variables without calculating derivatives. The\n",
      "       Computer Journal 7: 155-162.\n",
      "    .. [4] Press W, S A Teukolsky, W T Vetterling and B P Flannery.\n",
      "       Numerical Recipes (any edition), Cambridge University Press.\n",
      "    .. [5] Nocedal, J, and S J Wright. 2006. Numerical Optimization.\n",
      "       Springer New York.\n",
      "    .. [6] Byrd, R H and P Lu and J. Nocedal. 1995. A Limited Memory\n",
      "       Algorithm for Bound Constrained Optimization. SIAM Journal on\n",
      "       Scientific and Statistical Computing 16 (5): 1190-1208.\n",
      "    .. [7] Zhu, C and R H Byrd and J Nocedal. 1997. L-BFGS-B: Algorithm\n",
      "       778: L-BFGS-B, FORTRAN routines for large scale bound constrained\n",
      "       optimization. ACM Transactions on Mathematical Software 23 (4):\n",
      "       550-560.\n",
      "    .. [8] Nash, S G. Newton-Type Minimization Via the Lanczos Method.\n",
      "       1984. SIAM Journal of Numerical Analysis 21: 770-778.\n",
      "    .. [9] Powell, M J D. A direct search optimization method that models\n",
      "       the objective and constraint functions by linear interpolation.\n",
      "       1994. Advances in Optimization and Numerical Analysis, eds. S. Gomez\n",
      "       and J-P Hennart, Kluwer Academic (Dordrecht), 51-67.\n",
      "    .. [10] Powell M J D. Direct search algorithms for optimization\n",
      "       calculations. 1998. Acta Numerica 7: 287-336.\n",
      "    .. [11] Powell M J D. A view of algorithms for optimization without\n",
      "       derivatives. 2007.Cambridge University Technical Report DAMTP\n",
      "       2007/NA03\n",
      "    .. [12] Kraft, D. A software package for sequential quadratic\n",
      "       programming. 1988. Tech. Rep. DFVLR-FB 88-28, DLR German Aerospace\n",
      "       Center -- Institute for Flight Mechanics, Koln, Germany.\n",
      "    .. [13] Conn, A. R., Gould, N. I., and Toint, P. L.\n",
      "       Trust region methods. 2000. Siam. pp. 169-200.\n",
      "    .. [14] F. Lenders, C. Kirches, A. Potschka: \"trlib: A vector-free\n",
      "       implementation of the GLTR method for iterative solution of\n",
      "       the trust region problem\", :arxiv:`1611.04718`\n",
      "    .. [15] N. Gould, S. Lucidi, M. Roma, P. Toint: \"Solving the\n",
      "       Trust-Region Subproblem using the Lanczos Method\",\n",
      "       SIAM J. Optim., 9(2), 504--525, (1999).\n",
      "    .. [16] Byrd, Richard H., Mary E. Hribar, and Jorge Nocedal. 1999.\n",
      "        An interior point algorithm for large-scale nonlinear  programming.\n",
      "        SIAM Journal on Optimization 9.4: 877-900.\n",
      "    .. [17] Lalee, Marucha, Jorge Nocedal, and Todd Plantega. 1998. On the\n",
      "        implementation of an algorithm for large-scale equality constrained\n",
      "        optimization. SIAM Journal on Optimization 8.3: 682-706.\n",
      "    \n",
      "    Examples\n",
      "    --------\n",
      "    Let us consider the problem of minimizing the Rosenbrock function. This\n",
      "    function (and its respective derivatives) is implemented in `rosen`\n",
      "    (resp. `rosen_der`, `rosen_hess`) in the `scipy.optimize`.\n",
      "    \n",
      "    >>> from scipy.optimize import minimize, rosen, rosen_der\n",
      "    \n",
      "    A simple application of the *Nelder-Mead* method is:\n",
      "    \n",
      "    >>> x0 = [1.3, 0.7, 0.8, 1.9, 1.2]\n",
      "    >>> res = minimize(rosen, x0, method='Nelder-Mead', tol=1e-6)\n",
      "    >>> res.x\n",
      "    array([ 1.,  1.,  1.,  1.,  1.])\n",
      "    \n",
      "    Now using the *BFGS* algorithm, using the first derivative and a few\n",
      "    options:\n",
      "    \n",
      "    >>> res = minimize(rosen, x0, method='BFGS', jac=rosen_der,\n",
      "    ...                options={'gtol': 1e-6, 'disp': True})\n",
      "    Optimization terminated successfully.\n",
      "             Current function value: 0.000000\n",
      "             Iterations: 26\n",
      "             Function evaluations: 31\n",
      "             Gradient evaluations: 31\n",
      "    >>> res.x\n",
      "    array([ 1.,  1.,  1.,  1.,  1.])\n",
      "    >>> print(res.message)\n",
      "    Optimization terminated successfully.\n",
      "    >>> res.hess_inv\n",
      "    array([[ 0.00749589,  0.01255155,  0.02396251,  0.04750988,  0.09495377],  # may vary\n",
      "           [ 0.01255155,  0.02510441,  0.04794055,  0.09502834,  0.18996269],\n",
      "           [ 0.02396251,  0.04794055,  0.09631614,  0.19092151,  0.38165151],\n",
      "           [ 0.04750988,  0.09502834,  0.19092151,  0.38341252,  0.7664427 ],\n",
      "           [ 0.09495377,  0.18996269,  0.38165151,  0.7664427,   1.53713523]])\n",
      "    \n",
      "    \n",
      "    Next, consider a minimization problem with several constraints (namely\n",
      "    Example 16.4 from [5]_). The objective function is:\n",
      "    \n",
      "    >>> fun = lambda x: (x[0] - 1)**2 + (x[1] - 2.5)**2\n",
      "    \n",
      "    There are three constraints defined as:\n",
      "    \n",
      "    >>> cons = ({'type': 'ineq', 'fun': lambda x:  x[0] - 2 * x[1] + 2},\n",
      "    ...         {'type': 'ineq', 'fun': lambda x: -x[0] - 2 * x[1] + 6},\n",
      "    ...         {'type': 'ineq', 'fun': lambda x: -x[0] + 2 * x[1] + 2})\n",
      "    \n",
      "    And variables must be positive, hence the following bounds:\n",
      "    \n",
      "    >>> bnds = ((0, None), (0, None))\n",
      "    \n",
      "    The optimization problem is solved using the SLSQP method as:\n",
      "    \n",
      "    >>> res = minimize(fun, (2, 0), method='SLSQP', bounds=bnds,\n",
      "    ...                constraints=cons)\n",
      "    \n",
      "    It should converge to the theoretical solution (1.4 ,1.7).\n"
     ]
    }
   ],
   "source": [
    "help(minimize)"
   ]
  },
  {
   "cell_type": "markdown",
   "metadata": {
    "hidden": true
   },
   "source": [
    "Эта функция имеет стандартный интерфейс: нужно передать callable объект, который вычисляет значение и градиент целевой функции, а также точку старта оптимизации — начальное приближение (одномерный `numpy`-массив). Поэтому нам понадобятся функции для сбора и задания всех весов нашей нейросети (именно для них мы всегда записывали параметры слоя в список `layer.params`)"
   ]
  },
  {
   "cell_type": "code",
   "execution_count": 73,
   "metadata": {
    "hidden": true,
    "ExecuteTime": {
     "end_time": "2024-02-21T20:21:06.087415500Z",
     "start_time": "2024-02-21T20:21:05.996407700Z"
    }
   },
   "outputs": [],
   "source": [
    "def get_weights(network):\n",
    "    weights = []\n",
    "    for layer in network:\n",
    "        for param in layer.params:\n",
    "            weights += param.ravel().tolist()\n",
    "    return np.array(weights)\n",
    "\n",
    "\n",
    "def set_weights(weights, network):\n",
    "    i = 0\n",
    "    for layer in network:\n",
    "        for param in layer.params:\n",
    "            l = param.size\n",
    "            param[:] = weights[i:i+l].reshape(param.shape)\n",
    "            i += l"
   ]
  },
  {
   "cell_type": "markdown",
   "metadata": {
    "hidden": true
   },
   "source": [
    "Вам нужно реализовать ту самую функцию, которую мы будем передавать в `minimize`. Эта функция должна брать на вход текущую точку (вектор всех параметров), а также список дополнительных параметров (мы будем передавать через них нашу сеть и обучающие данные) и возвращать значение критерия качества (NLL) и его градиент по параметрам модели."
   ]
  },
  {
   "cell_type": "code",
   "execution_count": 122,
   "metadata": {
    "hidden": true,
    "ExecuteTime": {
     "end_time": "2024-02-21T20:36:28.351796100Z",
     "start_time": "2024-02-21T20:36:28.211648400Z"
    }
   },
   "outputs": [],
   "source": [
    "def compute_loss_grad(weights, args):\n",
    "    \"\"\"\n",
    "    takes current weights and computes cross-entropy and gradients\n",
    "    weights shape: [num_parameters]\n",
    "    output 1: loss (scalar)\n",
    "    output 2: gradint w.r.t. weights, shape: [num_parameters]\n",
    "    \n",
    "    hint: firstly perform forward pass through the whole network\n",
    "    then compute loss and its gradients\n",
    "    then perform backward pass, transmitting first baskward output\n",
    "    to the previos layer and saving second baskward output in a list\n",
    "    finally flatten all the gradients in this list\n",
    "    (in the order from the first to the last layer)\n",
    "    \n",
    "    Do not forget to set weights of the network!\n",
    "    \"\"\"\n",
    "    network, X, y = args\n",
    "    \n",
    "    set_weights(weights, network)\n",
    "    \n",
    "    activations = forward(network, X)\n",
    "    loss = NLL(activations, y)\n",
    "    \n",
    "    weights_grad_arrays = []\n",
    "    \n",
    "    d_loss_d_input = grad_NLL(activations, y)\n",
    "    for layer in reversed(network):\n",
    "        d_loss_d_input, d_loss_d_layer = layer.backward(d_loss_d_input)\n",
    "        if isinstance(layer, Dense):\n",
    "            # print(f\"{layer=}\\tdW shape = {d_loss_d_layer[0].shape}\\tdb shape = {d_loss_d_layer[1].shape}\")\n",
    "            # weights_grad += (np.sum(d_loss_d_layer[0], axis=0).ravel().tolist())\n",
    "            # weights_grad += (np.sum(d_loss_d_layer[1], axis=0).ravel().tolist())\n",
    "            weights_grad_arrays.append(np.sum(d_loss_d_layer[1], axis=0).ravel().tolist())\n",
    "            weights_grad_arrays.append(np.sum(d_loss_d_layer[0], axis=0).ravel().tolist())\n",
    "        else:\n",
    "            pass\n",
    "            # print(f\"{layer=}\")\n",
    "        # weights_grad += d_loss_d_layer\n",
    "    \n",
    "    # print(f\"Total: {len(weights_grad)=}\")\n",
    "    # print(weights_grad)\n",
    "    \n",
    "    weights_grad_arrays.reverse()\n",
    "    weights_grad = []\n",
    "    for wg in weights_grad_arrays:\n",
    "        weights_grad += wg\n",
    "    \n",
    "    print(f\"Mean abs grad value: {np.mean(np.abs(weights_grad))}\\tMax abs grad value: {np.max(np.abs(weights_grad))}\")\n",
    "    print(f\"Loss = {loss}\")\n",
    "    \n",
    "    return loss, np.array(weights_grad)"
   ]
  },
  {
   "cell_type": "markdown",
   "metadata": {
    "hidden": true
   },
   "source": [
    "Теперь мы готовы обучать нашу нейросеть. "
   ]
  },
  {
   "cell_type": "code",
   "execution_count": 123,
   "metadata": {
    "hidden": true,
    "ExecuteTime": {
     "end_time": "2024-02-21T20:36:29.173479800Z",
     "start_time": "2024-02-21T20:36:29.097266100Z"
    }
   },
   "outputs": [
    {
     "data": {
      "text/plain": "array([ 0.11038197, -0.00480527, -0.16929096, ...,  0.        ,\n        0.        ,  0.        ])"
     },
     "execution_count": 123,
     "metadata": {},
     "output_type": "execute_result"
    }
   ],
   "source": [
    "network = make_network(input_size, hidden_layers_size, output_size, 3, ReLU)\n",
    "weights = get_weights(network)\n",
    "weights"
   ]
  },
  {
   "cell_type": "code",
   "execution_count": 136,
   "metadata": {
    "hidden": true,
    "ExecuteTime": {
     "end_time": "2024-02-21T20:40:22.502579600Z",
     "start_time": "2024-02-21T20:40:21.563918400Z"
    }
   },
   "outputs": [
    {
     "name": "stdout",
     "output_type": "stream",
     "text": [
      "Mean abs grad value: 0.26404953786108865\tMax abs grad value: 7.614780952320724\n",
      "Loss = 10.814309565564693\n",
      "Mean abs grad value: 0.12513346719926308\tMax abs grad value: 2.83386708920748\n",
      "Loss = 7.573174086319383\n",
      "Mean abs grad value: 0.05682994102629379\tMax abs grad value: 1.6948262288414389\n",
      "Loss = 4.25443552439377\n",
      "Mean abs grad value: 0.0329039460849984\tMax abs grad value: 0.6040555598209773\n",
      "Loss = 2.949038596729704\n",
      "Mean abs grad value: 0.019023436393255762\tMax abs grad value: 0.34829665028263485\n",
      "Loss = 2.208662436784792\n",
      "Mean abs grad value: 0.01432972953701907\tMax abs grad value: 0.3492470810189566\n",
      "Loss = 1.7917780175634699\n",
      "Mean abs grad value: 0.017120492515713914\tMax abs grad value: 0.6021279151903176\n",
      "Loss = 1.4178459815143494\n",
      "Mean abs grad value: 0.011344051629135715\tMax abs grad value: 0.3078369666425435\n",
      "Loss = 1.0545406921245903\n",
      "Mean abs grad value: 0.009657322927753094\tMax abs grad value: 0.325689746985407\n",
      "Loss = 0.8095890534422151\n",
      "Mean abs grad value: 0.034421634972071145\tMax abs grad value: 1.1622747321090932\n",
      "Loss = 0.8752247513847077\n",
      "Mean abs grad value: 0.01124828524095786\tMax abs grad value: 0.5939243146172758\n",
      "Loss = 0.6396599332676411\n",
      "Mean abs grad value: 0.01552109957213637\tMax abs grad value: 0.6909583793827777\n",
      "Loss = 0.6073965813824866\n",
      "Mean abs grad value: 0.006664087160461437\tMax abs grad value: 0.1873214794901485\n",
      "Loss = 0.5251166133335338\n",
      "Mean abs grad value: 0.006320359698618138\tMax abs grad value: 0.14085537529235395\n",
      "Loss = 0.4851291667260089\n",
      "Mean abs grad value: 0.007892830420385057\tMax abs grad value: 0.33598691499309563\n",
      "Loss = 0.3910118823466808\n",
      "Mean abs grad value: 0.006615102200539381\tMax abs grad value: 0.13561369862212627\n",
      "Loss = 0.3250805150046783\n",
      "Mean abs grad value: 0.0051728220299709065\tMax abs grad value: 0.13357332502390493\n",
      "Loss = 0.28639335145334976\n",
      "Mean abs grad value: 0.004855612313941644\tMax abs grad value: 0.1190504264005861\n",
      "Loss = 0.2591081661532973\n",
      "Mean abs grad value: 0.0070616309444461135\tMax abs grad value: 0.22518336338312386\n",
      "Loss = 0.2134704444590389\n",
      "Mean abs grad value: 0.0045276338939208086\tMax abs grad value: 0.12233620897084757\n",
      "Loss = 0.17547080456948297\n",
      "Mean abs grad value: 0.0035776567719756187\tMax abs grad value: 0.06558349102582241\n",
      "Loss = 0.15673473972077417\n",
      "Mean abs grad value: 0.002655560632346101\tMax abs grad value: 0.05553823897318692\n",
      "Loss = 0.1282192500054994\n",
      "Mean abs grad value: 0.0041730854432242455\tMax abs grad value: 0.10722800561600636\n",
      "Loss = 0.11329796517547715\n",
      "Mean abs grad value: 0.0024861340640105816\tMax abs grad value: 0.05488103329670115\n",
      "Loss = 0.09885247846901551\n",
      "Mean abs grad value: 0.002001051113023213\tMax abs grad value: 0.03659456897733944\n",
      "Loss = 0.08806127283979943\n",
      "Mean abs grad value: 0.0026910419552197435\tMax abs grad value: 0.06652426876385929\n",
      "Loss = 0.07673489012096588\n",
      "Mean abs grad value: 0.0032470650190002783\tMax abs grad value: 0.0795988483962048\n",
      "Loss = 0.06942034308087272\n",
      "Mean abs grad value: 0.0019035987806426645\tMax abs grad value: 0.05097306540079295\n",
      "Loss = 0.061245034455415584\n",
      "Mean abs grad value: 0.0015017206395823224\tMax abs grad value: 0.04263843573330554\n",
      "Loss = 0.051746550887894156\n",
      "Mean abs grad value: 0.001779082981441421\tMax abs grad value: 0.03713355945794627\n",
      "Loss = 0.04579641032592418\n",
      "Mean abs grad value: 0.001238031007181045\tMax abs grad value: 0.021772288413364174\n",
      "Loss = 0.03896268778712331\n",
      "Mean abs grad value: 0.0012139625550459602\tMax abs grad value: 0.022467133253861918\n",
      "Loss = 0.034452245502493234\n",
      "Mean abs grad value: 0.0015472885559480588\tMax abs grad value: 0.04376479988947603\n",
      "Loss = 0.030225653816808366\n",
      "Mean abs grad value: 0.0011636086752392142\tMax abs grad value: 0.023409267689289786\n",
      "Loss = 0.026219530728317085\n",
      "Mean abs grad value: 0.0011639329438987683\tMax abs grad value: 0.027325761981680477\n",
      "Loss = 0.022315540085959033\n",
      "Mean abs grad value: 0.0014305295976035906\tMax abs grad value: 0.04963243602807213\n",
      "Loss = 0.01849725507642262\n",
      "Mean abs grad value: 0.0008637110180527125\tMax abs grad value: 0.02307967789603656\n",
      "Loss = 0.015343626095879956\n",
      "Mean abs grad value: 0.000824968272165206\tMax abs grad value: 0.01678716194511565\n",
      "Loss = 0.01268900155551855\n",
      "Mean abs grad value: 0.001163862781787205\tMax abs grad value: 0.031069468899930525\n",
      "Loss = 0.01049948547452874\n",
      "Mean abs grad value: 0.0006285807857875155\tMax abs grad value: 0.011933122154967826\n",
      "Loss = 0.007524324478526353\n",
      "Mean abs grad value: 0.0003840345725086058\tMax abs grad value: 0.007970778949109905\n",
      "Loss = 0.005746471629031226\n",
      "Mean abs grad value: 0.00033224301480742956\tMax abs grad value: 0.0077987686494447135\n",
      "Loss = 0.00419939680082863\n",
      "Mean abs grad value: 0.0003477635338406219\tMax abs grad value: 0.009925146279788445\n",
      "Loss = 0.0030011359663159654\n",
      "Mean abs grad value: 0.00030086939836601725\tMax abs grad value: 0.007474190736568356\n",
      "Loss = 0.002203734953758648\n",
      "Mean abs grad value: 0.00016648997469850908\tMax abs grad value: 0.0033734805881040835\n",
      "Loss = 0.0015697056306800306\n",
      "Mean abs grad value: 0.0001249671923463748\tMax abs grad value: 0.0030905395673038005\n",
      "Loss = 0.0011527869750048647\n",
      "Mean abs grad value: 0.000223998043758083\tMax abs grad value: 0.008166905290533374\n",
      "Loss = 0.0009035826765277224\n",
      "Mean abs grad value: 0.00015677273561681812\tMax abs grad value: 0.0029176445616096083\n",
      "Loss = 0.0006979702263984063\n",
      "Mean abs grad value: 0.0001067345372272019\tMax abs grad value: 0.0021127809388092173\n",
      "Loss = 0.0005998640614195815\n",
      "Mean abs grad value: 6.581348070626876e-05\tMax abs grad value: 0.0016823051175338555\n",
      "Loss = 0.000435123313689205\n",
      "Mean abs grad value: 4.629775476184804e-05\tMax abs grad value: 0.0008266082766065862\n",
      "Loss = 0.00029231100036958307\n",
      "Mean abs grad value: 4.534979613681295e-05\tMax abs grad value: 0.0010668119201036376\n",
      "Loss = 0.00019138010102319228\n",
      "Mean abs grad value: 2.0740326089775836e-05\tMax abs grad value: 0.0006697304078472488\n",
      "Loss = 0.00011896548921671225\n",
      "Mean abs grad value: 1.558252609344728e-05\tMax abs grad value: 0.0005039101682332082\n",
      "Loss = 8.303370654531354e-05\n",
      "Mean abs grad value: 2.2126467352921934e-05\tMax abs grad value: 0.0008511877641366361\n",
      "Loss = 5.907175658088418e-05\n",
      "Mean abs grad value: 8.03334840000336e-06\tMax abs grad value: 0.0002473931361271535\n",
      "Loss = 3.207064560371062e-05\n",
      "Mean abs grad value: 6.144566588400695e-06\tMax abs grad value: 0.00017150600795590873\n",
      "Loss = 2.6422965773666066e-05\n",
      "Mean abs grad value: 3.2896468921721515e-06\tMax abs grad value: 6.218565329654207e-05\n",
      "Loss = 1.6737681192513088e-05\n",
      "Mean abs grad value: 5.712919747104542e-06\tMax abs grad value: 0.00019524078519631634\n",
      "Loss = 1.1871154201336033e-05\n",
      "Mean abs grad value: 3.2048425473577025e-06\tMax abs grad value: 6.967050489853126e-05\n",
      "Loss = 7.383204842173336e-06\n",
      "Mean abs grad value: 1.7014955406292079e-06\tMax abs grad value: 3.845091577239411e-05\n",
      "Loss = 5.255945670324257e-06\n",
      "Mean abs grad value: 9.368554715488154e-07\tMax abs grad value: 2.1999574502500877e-05\n",
      "Loss = 3.432099782812455e-06\n",
      "Mean abs grad value: 5.419488400075936e-07\tMax abs grad value: 9.815583861609207e-06\n",
      "Loss = 2.063712591422081e-06\n",
      "Mean abs grad value: 8.388277242802305e-07\tMax abs grad value: 2.0538748095512484e-05\n",
      "Loss = 1.2657393427762132e-06\n"
     ]
    }
   ],
   "source": [
    "res = minimize(\n",
    "    compute_loss_grad, weights,       # fun and start point\n",
    "    args=[network, X_train, y_train], # args passed to fun\n",
    "    method=\"L-BFGS-B\",                    # optimization method\n",
    "    jac=True,                         # says that gradient is computed in fun,\n",
    "    options={'disp': True},\n",
    "    tol=1e-6\n",
    ")"
   ]
  },
  {
   "cell_type": "code",
   "execution_count": 137,
   "metadata": {
    "hidden": true,
    "ExecuteTime": {
     "end_time": "2024-02-21T20:40:24.814627300Z",
     "start_time": "2024-02-21T20:40:24.777482900Z"
    }
   },
   "outputs": [
    {
     "data": {
      "text/plain": "dict_keys(['fun', 'jac', 'nfev', 'njev', 'nit', 'status', 'message', 'x', 'success', 'hess_inv'])"
     },
     "execution_count": 137,
     "metadata": {},
     "output_type": "execute_result"
    }
   ],
   "source": [
    "res.keys()"
   ]
  },
  {
   "cell_type": "code",
   "execution_count": 138,
   "metadata": {
    "hidden": true,
    "scrolled": true,
    "ExecuteTime": {
     "end_time": "2024-02-21T20:40:25.071915500Z",
     "start_time": "2024-02-21T20:40:25.032361200Z"
    }
   },
   "outputs": [
    {
     "data": {
      "text/plain": "62"
     },
     "execution_count": 138,
     "metadata": {},
     "output_type": "execute_result"
    }
   ],
   "source": [
    "res[\"nit\"] # number of iterations (should be >> 10)"
   ]
  },
  {
   "cell_type": "code",
   "execution_count": 139,
   "metadata": {
    "hidden": true,
    "ExecuteTime": {
     "end_time": "2024-02-21T20:40:25.560167600Z",
     "start_time": "2024-02-21T20:40:25.513381900Z"
    }
   },
   "outputs": [
    {
     "data": {
      "text/plain": "True"
     },
     "execution_count": 139,
     "metadata": {},
     "output_type": "execute_result"
    }
   ],
   "source": [
    "res[\"success\"] # should be True"
   ]
  },
  {
   "cell_type": "code",
   "outputs": [
    {
     "data": {
      "text/plain": "'CONVERGENCE: REL_REDUCTION_OF_F_<=_FACTR*EPSMCH'"
     },
     "execution_count": 140,
     "metadata": {},
     "output_type": "execute_result"
    }
   ],
   "source": [
    "res[\"message\"]"
   ],
   "metadata": {
    "collapsed": false,
    "ExecuteTime": {
     "end_time": "2024-02-21T20:40:26.278758800Z",
     "start_time": "2024-02-21T20:40:26.235998500Z"
    }
   },
   "execution_count": 140
  },
  {
   "cell_type": "code",
   "execution_count": 141,
   "metadata": {
    "hidden": true,
    "ExecuteTime": {
     "end_time": "2024-02-21T20:40:27.267478Z",
     "start_time": "2024-02-21T20:40:27.223927700Z"
    }
   },
   "outputs": [
    {
     "data": {
      "text/plain": "array([ 0.11038197, -0.00480527, -0.16929096, ..., -0.12830224,\n        0.225478  ,  0.09929891])"
     },
     "execution_count": 141,
     "metadata": {},
     "output_type": "execute_result"
    }
   ],
   "source": [
    "res[\"x\"] # leraned weights"
   ]
  },
  {
   "cell_type": "markdown",
   "metadata": {
    "hidden": true
   },
   "source": [
    "Выведите качество на обучении (`X_train`, `y_train`) и на контроле (`X_test`, `y_test`). Не забудьте установить веса!"
   ]
  },
  {
   "cell_type": "code",
   "outputs": [],
   "source": [
    "from sklearn.metrics import accuracy_score"
   ],
   "metadata": {
    "collapsed": false,
    "ExecuteTime": {
     "end_time": "2024-02-21T20:44:26.744500500Z",
     "start_time": "2024-02-21T20:44:26.690986100Z"
    }
   },
   "execution_count": 142
  },
  {
   "cell_type": "code",
   "outputs": [
    {
     "data": {
      "text/plain": "[Dense(64, 32), Relu(), Dense(32, 32), Relu(), Dense(32, 10), LogSoftmax()]"
     },
     "execution_count": 144,
     "metadata": {},
     "output_type": "execute_result"
    }
   ],
   "source": [
    "network"
   ],
   "metadata": {
    "collapsed": false,
    "ExecuteTime": {
     "end_time": "2024-02-21T20:45:33.549335400Z",
     "start_time": "2024-02-21T20:45:33.488414300Z"
    }
   },
   "execution_count": 144
  },
  {
   "cell_type": "code",
   "execution_count": 148,
   "metadata": {
    "hidden": true,
    "ExecuteTime": {
     "end_time": "2024-02-21T20:49:20.181587300Z",
     "start_time": "2024-02-21T20:49:20.063120700Z"
    }
   },
   "outputs": [
    {
     "name": "stdout",
     "output_type": "stream",
     "text": [
      "Train NLL: 0.0000013\t\tTest NLL: 0.7152314\n",
      "Train accuracy: 1.000\t\tTest accuracy: 0.956\n"
     ]
    }
   ],
   "source": [
    "set_weights(weights=res[\"x\"], network=network)\n",
    "\n",
    "train_NLL = NLL(forward(network, X_train), y_train)\n",
    "test_NLL = NLL(forward(network, X_test), y_test)\n",
    "\n",
    "print(f\"Train NLL: {train_NLL:.7f}\\t\\tTest NLL: {test_NLL:.7f}\")\n",
    "\n",
    "train_accuracy = accuracy_score(y_true=y_train, y_pred=predict(network, X_train))\n",
    "test_accuracy = accuracy_score(y_true=y_test, y_pred=predict(network, X_test))\n",
    "\n",
    "print(f\"Train accuracy: {train_accuracy:.3f}\\t\\tTest accuracy: {test_accuracy:.3f}\")"
   ]
  },
  {
   "cell_type": "markdown",
   "metadata": {
    "hidden": true
   },
   "source": [
    "У `minimize` есть также аргумент `callback` — в нее можно передать функцию, которая будет вызываться после каждой итерации оптимизации. Такую функцию удобно оформить в виде метода класса, который будет сохранять качество на обучении контроле после каждой итерации. Реализуйте этот метод в классе `Callback`:"
   ]
  },
  {
   "cell_type": "code",
   "execution_count": 149,
   "metadata": {
    "hidden": true,
    "ExecuteTime": {
     "end_time": "2024-02-21T21:42:11.952313600Z",
     "start_time": "2024-02-21T21:42:11.845867Z"
    }
   },
   "outputs": [],
   "source": [
    "class Callback:\n",
    "    def __init__(self, network, X_train, y_train, X_test, y_test, print=False):\n",
    "        self.network = network\n",
    "        self.X_train = X_train\n",
    "        self.X_test = X_test\n",
    "        self.y_train = y_train\n",
    "        self.y_test = y_test\n",
    "        self.print = print\n",
    "        self.train_acc = []\n",
    "        self.test_acc = []\n",
    "        self.train_NLL = []\n",
    "        self.test_NLL = []\n",
    "        \n",
    "    def call(self, weights):\n",
    "        \"\"\"\n",
    "        Computes quality on train and test set with given weights\n",
    "        and saves to self.train_acc and self.test_acc.\n",
    "        If self.print is True, also prints these 2 values\n",
    "        \"\"\"\n",
    "        \n",
    "        train_NLL = NLL(forward(network, X_train), y_train)\n",
    "        test_NLL = NLL(forward(network, X_test), y_test)\n",
    "        \n",
    "        train_accuracy = accuracy_score(y_true=y_train, y_pred=predict(network, X_train))\n",
    "        test_accuracy = accuracy_score(y_true=y_test, y_pred=predict(network, X_test))\n",
    "        \n",
    "        self.train_acc.append(train_accuracy)\n",
    "        self.test_acc.append(test_accuracy)\n",
    "        self.train_NLL.append(train_NLL)\n",
    "        self.test_NLL.append(test_NLL)\n",
    "        \n",
    "        if self.print:\n",
    "            print(f\"Train accuracy: {train_accuracy:.3f}\\t\\tTest accuracy: {test_accuracy:.3f}\")"
   ]
  },
  {
   "cell_type": "code",
   "execution_count": 150,
   "metadata": {
    "hidden": true,
    "ExecuteTime": {
     "end_time": "2024-02-21T21:42:13.311950100Z",
     "start_time": "2024-02-21T21:42:12.252155700Z"
    }
   },
   "outputs": [
    {
     "name": "stdout",
     "output_type": "stream",
     "text": [
      "Mean abs grad value: 0.26404953786108865\tMax abs grad value: 7.614780952320724\n",
      "Loss = 10.814309565564693\n",
      "Mean abs grad value: 0.12513346719926308\tMax abs grad value: 2.83386708920748\n",
      "Loss = 7.573174086319383\n",
      "Train accuracy: 0.085\t\tTest accuracy: 0.084\n",
      "Mean abs grad value: 0.05682994102629379\tMax abs grad value: 1.6948262288414389\n",
      "Loss = 4.25443552439377\n",
      "Train accuracy: 0.114\t\tTest accuracy: 0.129\n",
      "Mean abs grad value: 0.0329039460849984\tMax abs grad value: 0.6040555598209773\n",
      "Loss = 2.949038596729704\n",
      "Train accuracy: 0.193\t\tTest accuracy: 0.160\n",
      "Mean abs grad value: 0.019023436393255762\tMax abs grad value: 0.34829665028263485\n",
      "Loss = 2.208662436784792\n",
      "Train accuracy: 0.276\t\tTest accuracy: 0.264\n",
      "Mean abs grad value: 0.01432972953701907\tMax abs grad value: 0.3492470810189566\n",
      "Loss = 1.7917780175634699\n",
      "Train accuracy: 0.367\t\tTest accuracy: 0.360\n",
      "Mean abs grad value: 0.017120492515713914\tMax abs grad value: 0.6021279151903176\n",
      "Loss = 1.4178459815143494\n",
      "Train accuracy: 0.556\t\tTest accuracy: 0.498\n",
      "Mean abs grad value: 0.011344051629135715\tMax abs grad value: 0.3078369666425435\n",
      "Loss = 1.0545406921245903\n",
      "Train accuracy: 0.658\t\tTest accuracy: 0.604\n",
      "Mean abs grad value: 0.009657322927753094\tMax abs grad value: 0.325689746985407\n",
      "Loss = 0.8095890534422151\n",
      "Train accuracy: 0.737\t\tTest accuracy: 0.689\n",
      "Mean abs grad value: 0.034421634972071145\tMax abs grad value: 1.1622747321090932\n",
      "Loss = 0.8752247513847077\n",
      "Mean abs grad value: 0.01124828524095786\tMax abs grad value: 0.5939243146172758\n",
      "Loss = 0.6396599332676411\n",
      "Train accuracy: 0.783\t\tTest accuracy: 0.769\n",
      "Mean abs grad value: 0.01552109957213637\tMax abs grad value: 0.6909583793827777\n",
      "Loss = 0.6073965813824866\n",
      "Train accuracy: 0.795\t\tTest accuracy: 0.809\n",
      "Mean abs grad value: 0.006664087160461437\tMax abs grad value: 0.1873214794901485\n",
      "Loss = 0.5251166133335338\n",
      "Train accuracy: 0.825\t\tTest accuracy: 0.842\n",
      "Mean abs grad value: 0.006320359698618138\tMax abs grad value: 0.14085537529235395\n",
      "Loss = 0.4851291667260089\n",
      "Train accuracy: 0.835\t\tTest accuracy: 0.842\n",
      "Mean abs grad value: 0.007892830420385057\tMax abs grad value: 0.33598691499309563\n",
      "Loss = 0.3910118823466808\n",
      "Train accuracy: 0.877\t\tTest accuracy: 0.869\n",
      "Mean abs grad value: 0.006615102200539381\tMax abs grad value: 0.13561369862212627\n",
      "Loss = 0.3250805150046783\n",
      "Train accuracy: 0.901\t\tTest accuracy: 0.887\n",
      "Mean abs grad value: 0.0051728220299709065\tMax abs grad value: 0.13357332502390493\n",
      "Loss = 0.28639335145334976\n",
      "Train accuracy: 0.914\t\tTest accuracy: 0.904\n",
      "Mean abs grad value: 0.004855612313941644\tMax abs grad value: 0.1190504264005861\n",
      "Loss = 0.2591081661532973\n",
      "Train accuracy: 0.924\t\tTest accuracy: 0.900\n",
      "Mean abs grad value: 0.0070616309444461135\tMax abs grad value: 0.22518336338312386\n",
      "Loss = 0.2134704444590389\n",
      "Train accuracy: 0.935\t\tTest accuracy: 0.907\n",
      "Mean abs grad value: 0.0045276338939208086\tMax abs grad value: 0.12233620897084757\n",
      "Loss = 0.17547080456948297\n",
      "Train accuracy: 0.947\t\tTest accuracy: 0.911\n",
      "Mean abs grad value: 0.0035776567719756187\tMax abs grad value: 0.06558349102582241\n",
      "Loss = 0.15673473972077417\n",
      "Train accuracy: 0.955\t\tTest accuracy: 0.918\n",
      "Mean abs grad value: 0.002655560632346101\tMax abs grad value: 0.05553823897318692\n",
      "Loss = 0.1282192500054994\n",
      "Train accuracy: 0.967\t\tTest accuracy: 0.924\n",
      "Mean abs grad value: 0.0041730854432242455\tMax abs grad value: 0.10722800561600636\n",
      "Loss = 0.11329796517547715\n",
      "Train accuracy: 0.963\t\tTest accuracy: 0.927\n",
      "Mean abs grad value: 0.0024861340640105816\tMax abs grad value: 0.05488103329670115\n",
      "Loss = 0.09885247846901551\n",
      "Train accuracy: 0.970\t\tTest accuracy: 0.936\n",
      "Mean abs grad value: 0.002001051113023213\tMax abs grad value: 0.03659456897733944\n",
      "Loss = 0.08806127283979943\n",
      "Train accuracy: 0.976\t\tTest accuracy: 0.940\n",
      "Mean abs grad value: 0.0026910419552197435\tMax abs grad value: 0.06652426876385929\n",
      "Loss = 0.07673489012096588\n",
      "Train accuracy: 0.976\t\tTest accuracy: 0.936\n",
      "Mean abs grad value: 0.0032470650190002783\tMax abs grad value: 0.0795988483962048\n",
      "Loss = 0.06942034308087272\n",
      "Train accuracy: 0.981\t\tTest accuracy: 0.933\n",
      "Mean abs grad value: 0.0019035987806426645\tMax abs grad value: 0.05097306540079295\n",
      "Loss = 0.061245034455415584\n",
      "Train accuracy: 0.983\t\tTest accuracy: 0.938\n",
      "Mean abs grad value: 0.0015017206395823224\tMax abs grad value: 0.04263843573330554\n",
      "Loss = 0.051746550887894156\n",
      "Train accuracy: 0.991\t\tTest accuracy: 0.947\n",
      "Mean abs grad value: 0.001779082981441421\tMax abs grad value: 0.03713355945794627\n",
      "Loss = 0.04579641032592418\n",
      "Train accuracy: 0.991\t\tTest accuracy: 0.956\n",
      "Mean abs grad value: 0.001238031007181045\tMax abs grad value: 0.021772288413364174\n",
      "Loss = 0.03896268778712331\n",
      "Train accuracy: 0.992\t\tTest accuracy: 0.949\n",
      "Mean abs grad value: 0.0012139625550459602\tMax abs grad value: 0.022467133253861918\n",
      "Loss = 0.034452245502493234\n",
      "Train accuracy: 0.992\t\tTest accuracy: 0.947\n",
      "Mean abs grad value: 0.0015472885559480588\tMax abs grad value: 0.04376479988947603\n",
      "Loss = 0.030225653816808366\n",
      "Train accuracy: 0.993\t\tTest accuracy: 0.944\n",
      "Mean abs grad value: 0.0011636086752392142\tMax abs grad value: 0.023409267689289786\n",
      "Loss = 0.026219530728317085\n",
      "Train accuracy: 0.995\t\tTest accuracy: 0.951\n",
      "Mean abs grad value: 0.0011639329438987683\tMax abs grad value: 0.027325761981680477\n",
      "Loss = 0.022315540085959033\n",
      "Train accuracy: 0.996\t\tTest accuracy: 0.956\n",
      "Mean abs grad value: 0.0014305295976035906\tMax abs grad value: 0.04963243602807213\n",
      "Loss = 0.01849725507642262\n",
      "Train accuracy: 0.995\t\tTest accuracy: 0.958\n",
      "Mean abs grad value: 0.0008637110180527125\tMax abs grad value: 0.02307967789603656\n",
      "Loss = 0.015343626095879956\n",
      "Train accuracy: 0.996\t\tTest accuracy: 0.958\n",
      "Mean abs grad value: 0.000824968272165206\tMax abs grad value: 0.01678716194511565\n",
      "Loss = 0.01268900155551855\n",
      "Train accuracy: 0.997\t\tTest accuracy: 0.958\n",
      "Mean abs grad value: 0.001163862781787205\tMax abs grad value: 0.031069468899930525\n",
      "Loss = 0.01049948547452874\n",
      "Train accuracy: 0.997\t\tTest accuracy: 0.958\n",
      "Mean abs grad value: 0.0006285807857875155\tMax abs grad value: 0.011933122154967826\n",
      "Loss = 0.007524324478526353\n",
      "Train accuracy: 0.999\t\tTest accuracy: 0.960\n",
      "Mean abs grad value: 0.0003840345725086058\tMax abs grad value: 0.007970778949109905\n",
      "Loss = 0.005746471629031226\n",
      "Train accuracy: 1.000\t\tTest accuracy: 0.958\n",
      "Mean abs grad value: 0.00033224301480742956\tMax abs grad value: 0.0077987686494447135\n",
      "Loss = 0.00419939680082863\n",
      "Train accuracy: 1.000\t\tTest accuracy: 0.958\n",
      "Mean abs grad value: 0.0003477635338406219\tMax abs grad value: 0.009925146279788445\n",
      "Loss = 0.0030011359663159654\n",
      "Train accuracy: 1.000\t\tTest accuracy: 0.956\n",
      "Mean abs grad value: 0.00030086939836601725\tMax abs grad value: 0.007474190736568356\n",
      "Loss = 0.002203734953758648\n",
      "Train accuracy: 1.000\t\tTest accuracy: 0.958\n",
      "Mean abs grad value: 0.00016648997469850908\tMax abs grad value: 0.0033734805881040835\n",
      "Loss = 0.0015697056306800306\n",
      "Train accuracy: 1.000\t\tTest accuracy: 0.956\n",
      "Mean abs grad value: 0.0001249671923463748\tMax abs grad value: 0.0030905395673038005\n",
      "Loss = 0.0011527869750048647\n",
      "Train accuracy: 1.000\t\tTest accuracy: 0.956\n",
      "Mean abs grad value: 0.000223998043758083\tMax abs grad value: 0.008166905290533374\n",
      "Loss = 0.0009035826765277224\n",
      "Train accuracy: 1.000\t\tTest accuracy: 0.956\n",
      "Mean abs grad value: 0.00015677273561681812\tMax abs grad value: 0.0029176445616096083\n",
      "Loss = 0.0006979702263984063\n",
      "Train accuracy: 1.000\t\tTest accuracy: 0.956\n",
      "Mean abs grad value: 0.0001067345372272019\tMax abs grad value: 0.0021127809388092173\n",
      "Loss = 0.0005998640614195815\n",
      "Train accuracy: 1.000\t\tTest accuracy: 0.956\n",
      "Mean abs grad value: 6.581348070626876e-05\tMax abs grad value: 0.0016823051175338555\n",
      "Loss = 0.000435123313689205\n",
      "Train accuracy: 1.000\t\tTest accuracy: 0.956\n",
      "Mean abs grad value: 4.629775476184804e-05\tMax abs grad value: 0.0008266082766065862\n",
      "Loss = 0.00029231100036958307\n",
      "Train accuracy: 1.000\t\tTest accuracy: 0.958\n",
      "Mean abs grad value: 4.534979613681295e-05\tMax abs grad value: 0.0010668119201036376\n",
      "Loss = 0.00019138010102319228\n",
      "Train accuracy: 1.000\t\tTest accuracy: 0.960\n",
      "Mean abs grad value: 2.0740326089775836e-05\tMax abs grad value: 0.0006697304078472488\n",
      "Loss = 0.00011896548921671225\n",
      "Train accuracy: 1.000\t\tTest accuracy: 0.960\n",
      "Mean abs grad value: 1.558252609344728e-05\tMax abs grad value: 0.0005039101682332082\n",
      "Loss = 8.303370654531354e-05\n",
      "Train accuracy: 1.000\t\tTest accuracy: 0.960\n",
      "Mean abs grad value: 2.2126467352921934e-05\tMax abs grad value: 0.0008511877641366361\n",
      "Loss = 5.907175658088418e-05\n",
      "Train accuracy: 1.000\t\tTest accuracy: 0.960\n",
      "Mean abs grad value: 8.03334840000336e-06\tMax abs grad value: 0.0002473931361271535\n",
      "Loss = 3.207064560371062e-05\n",
      "Train accuracy: 1.000\t\tTest accuracy: 0.962\n",
      "Mean abs grad value: 6.144566588400695e-06\tMax abs grad value: 0.00017150600795590873\n",
      "Loss = 2.6422965773666066e-05\n",
      "Train accuracy: 1.000\t\tTest accuracy: 0.960\n",
      "Mean abs grad value: 3.2896468921721515e-06\tMax abs grad value: 6.218565329654207e-05\n",
      "Loss = 1.6737681192513088e-05\n",
      "Train accuracy: 1.000\t\tTest accuracy: 0.958\n",
      "Mean abs grad value: 5.712919747104542e-06\tMax abs grad value: 0.00019524078519631634\n",
      "Loss = 1.1871154201336033e-05\n",
      "Train accuracy: 1.000\t\tTest accuracy: 0.958\n",
      "Mean abs grad value: 3.2048425473577025e-06\tMax abs grad value: 6.967050489853126e-05\n",
      "Loss = 7.383204842173336e-06\n",
      "Train accuracy: 1.000\t\tTest accuracy: 0.958\n",
      "Mean abs grad value: 1.7014955406292079e-06\tMax abs grad value: 3.845091577239411e-05\n",
      "Loss = 5.255945670324257e-06\n",
      "Train accuracy: 1.000\t\tTest accuracy: 0.958\n",
      "Mean abs grad value: 9.368554715488154e-07\tMax abs grad value: 2.1999574502500877e-05\n",
      "Loss = 3.432099782812455e-06\n",
      "Train accuracy: 1.000\t\tTest accuracy: 0.956\n",
      "Mean abs grad value: 5.419488400075936e-07\tMax abs grad value: 9.815583861609207e-06\n",
      "Loss = 2.063712591422081e-06\n",
      "Train accuracy: 1.000\t\tTest accuracy: 0.956\n"
     ]
    }
   ],
   "source": [
    "cb = Callback(network, X_train, y_train, X_test, y_test, print=True)\n",
    "\n",
    "res = minimize(\n",
    "    compute_loss_grad, weights,  \n",
    "    args=[network, X_train, y_train], \n",
    "    method=\"L-BFGS-B\",\n",
    "    jac=True,\n",
    "    callback=cb.call\n",
    ")"
   ]
  },
  {
   "cell_type": "markdown",
   "metadata": {
    "hidden": true
   },
   "source": [
    "Изобразите на графике кривую качества на обучени и контроле по итерациям:"
   ]
  },
  {
   "cell_type": "code",
   "execution_count": 151,
   "metadata": {
    "hidden": true,
    "ExecuteTime": {
     "end_time": "2024-02-21T21:42:16.053518200Z",
     "start_time": "2024-02-21T21:42:15.928785600Z"
    }
   },
   "outputs": [
    {
     "data": {
      "text/plain": "<Figure size 1000x500 with 1 Axes>",
      "image/png": "[encoded data removed]"
     },
     "metadata": {},
     "output_type": "display_data"
    }
   ],
   "source": [
    "fig, ax = plt.subplots(1, 1, figsize=(10, 5))\n",
    "ax.plot(cb.train_acc, label=\"train acc\")\n",
    "ax.plot(cb.test_acc, label=\"test acc\")\n",
    "ax.set_xlabel(\"Iteration\")\n",
    "ax.set_ylabel(\"Accuracy\")\n",
    "ax.grid(True)\n",
    "ax.legend()\n",
    "\n",
    "fig.tight_layout()\n",
    "plt.show()"
   ]
  },
  {
   "cell_type": "markdown",
   "metadata": {
    "heading_collapsed": true,
    "hidden": true
   },
   "source": [
    "### `Эксперименты с числом слоев (0.6 балла)`"
   ]
  },
  {
   "cell_type": "markdown",
   "metadata": {
    "hidden": true
   },
   "source": [
    "Ясно, что из-за случайного начального приближения с каждым запуском обучения мы будем получать различное качество. Попробуем обучить нашу нейросеть с разным числом слоев несколько раз.\n",
    "\n",
    "Заполните матрицы `accs_train` и `accs_test`. В позиции `[i, j]` должна стоять величина доли правильных ответов сети с $i+1$ полносвязными слоями при $j$-м запуске (все запуски идентичны)."
   ]
  },
  {
   "cell_type": "code",
   "execution_count": 38,
   "metadata": {
    "ExecuteTime": {
     "end_time": "2021-03-03T14:44:54.832074Z",
     "start_time": "2021-03-03T14:44:54.819071Z"
    },
    "hidden": true
   },
   "outputs": [],
   "source": [
    "accs_train = np.zeros((5, 5))\n",
    "accs_test = np.zeros((5, 5))"
   ]
  },
  {
   "cell_type": "code",
   "execution_count": 39,
   "metadata": {
    "ExecuteTime": {
     "end_time": "2021-03-03T14:45:56.444624Z",
     "start_time": "2021-03-03T14:44:54.836024Z"
    },
    "hidden": true
   },
   "outputs": [],
   "source": [
    "### your code here"
   ]
  },
  {
   "cell_type": "markdown",
   "metadata": {
    "hidden": true
   },
   "source": [
    "Построим боксплоты полученного качества (горизонтальная линия в каждом столбце — среднее, прямоугольник показывает разброс)."
   ]
  },
  {
   "cell_type": "code",
   "execution_count": 40,
   "metadata": {
    "ExecuteTime": {
     "end_time": "2021-03-03T14:45:57.060827Z",
     "start_time": "2021-03-03T14:45:56.447467Z"
    },
    "collapsed": true,
    "hidden": true
   },
   "outputs": [
    {
     "data": {
      "image/png": "[encoded data removed]",
      "text/plain": [
       "<Figure size 720x576 with 2 Axes>"
      ]
     },
     "metadata": {
      "needs_background": "light"
     },
     "output_type": "display_data"
    }
   ],
   "source": [
    "fig, axes = plt.subplots(2, 1, figsize=(10, 8))\n",
    "\n",
    "axes[0].boxplot(accs_train.T, showfliers=False)\n",
    "axes[1].boxplot(accs_test.T, showfliers=False)\n",
    "\n",
    "axes[0].set_xlabel(\"Number of layers\")\n",
    "axes[1].set_xlabel(\"Number of layers\")\n",
    "\n",
    "axes[0].set_ylabel(\"Train accuracy\")\n",
    "axes[1].set_ylabel(\"Test accuracy\")\n",
    "\n",
    "axes[0].set_title(\"Train quality in 5 runs\")\n",
    "axes[1].set_title(\"Test quality in 5 runs\")\n",
    "\n",
    "axes[0].grid(True)\n",
    "axes[1].grid(True)\n",
    "\n",
    "fig.tight_layout()\n",
    "plt.show()"
   ]
  },
  {
   "cell_type": "markdown",
   "metadata": {
    "hidden": true
   },
   "source": [
    "Дайте развёрнутый ответ на вопросы (в этой же ячейке):\n",
    "* Как изменяются качество на обучении и контроле и устойчивость процесса обучения при увеличении числа слоев?\n",
    "* Можно ли сказать, что логистическая регрессия (линейная модель) дает качество хуже, чем нелинейная модель?\n",
    "\n",
    "__Ответы:__\n",
    "\n",
    "..."
   ]
  },
  {
   "cell_type": "markdown",
   "metadata": {
    "heading_collapsed": true,
    "hidden": true
   },
   "source": [
    "### `Эксперименты c различными инициализациями весов (0.6 балла)`"
   ]
  },
  {
   "cell_type": "markdown",
   "metadata": {
    "hidden": true
   },
   "source": [
    "Как уже было сказано, начальная инициализация весов нейронной сети может сильно влиять на процесс ее обучения и, как следствие, на ее качество.\n",
    "\n",
    "В этом пункте вам предлагается попробовать обучить несколько нейронных сетей с различными инициализациями слоев.\n",
    "\n",
    "Для этого необходимо реализовать функцию, инициализирующую веса линейных слоёв нашей нейронной сети. Добавьте в функционал данного метода возможность инициализировать его веса с помощью инициализации Kaiming (используется, если в нейронной сети в качестве функций активации используется ReLU) и инициализации Xavier (используется, если в нейронной сети в качестве функций активации используется Tanh или Sigmoid):"
   ]
  },
  {
   "cell_type": "code",
   "execution_count": 41,
   "metadata": {
    "ExecuteTime": {
     "end_time": "2021-03-03T14:45:57.075786Z",
     "start_time": "2021-03-03T14:45:57.063819Z"
    },
    "code_folding": [],
    "hidden": true
   },
   "outputs": [],
   "source": [
    "def initialize_network(network, initialization):\n",
    "    for layer in network:\n",
    "        if isinstance(layer, Dense):\n",
    "            input_units, output_units = layer.weights.shape\n",
    "            if initialization == 'Kaiming':\n",
    "                ### your code here\n",
    "                pass\n",
    "            elif initialization == 'Xavier':\n",
    "                ### your code here\n",
    "                pass\n",
    "            else:\n",
    "                # Initialize weights with small random numbers from normal distribution.\n",
    "                # In this case `initialization` represents a standard deviation\n",
    "                # for normal distribution.\n",
    "                layer.weights = np.random.randn(input_units, output_units) * initialization\n",
    "            layer.biases = np.zeros_like(layer.biases)\n",
    "            \n",
    "            layer.params = [layer.weights, layer.biases]"
   ]
  },
  {
   "cell_type": "markdown",
   "metadata": {
    "hidden": true
   },
   "source": [
    "Теперь попробуйте для каждой из 3 инициализаций обучить нейронную сеть несколько раз. Попробуйте проделать данную операцию при зафиксированном числе слоев равным 3, 4 и 5."
   ]
  },
  {
   "cell_type": "markdown",
   "metadata": {
    "heading_collapsed": true,
    "hidden": true
   },
   "source": [
    "#### `3 слоя`\n",
    "\n",
    "Зафиксируйте в сети число слоев равное трем."
   ]
  },
  {
   "cell_type": "markdown",
   "metadata": {
    "hidden": true
   },
   "source": [
    "Заполните матрицы `accs_train` и `accs_test`. В позиции `[i, j]` должна стоять величина доли правильных ответов сети при $j$-м запуске (все запуски идентичны) с инициализацией Kaiming при $i = 3$, с инициализацией Xavier при $i = 4$ и с инициализацией из нормального распределения с фиксированными параметрами при $0 \\leqslant i \\leqslant 2$ (попробуйте здесь 3 разных параметра для стандартного отклонения для нормального распределения, например: `1e-3`, `1e-2`, `1e-1`). Заметьте, что при большом числе слоев слишком низкое стандартное отклонение может не давать нейронной сети нормально обучиться."
   ]
  },
  {
   "cell_type": "code",
   "execution_count": 61,
   "metadata": {
    "ExecuteTime": {
     "end_time": "2021-03-03T14:45:57.091744Z",
     "start_time": "2021-03-03T14:45:57.079777Z"
    },
    "hidden": true
   },
   "outputs": [],
   "source": [
    "init_vars = [1e-3, 1e-2, 1e-1, 'Kaiming', 'Xavier']"
   ]
  },
  {
   "cell_type": "code",
   "execution_count": 62,
   "metadata": {
    "ExecuteTime": {
     "end_time": "2021-03-03T14:45:57.107701Z",
     "start_time": "2021-03-03T14:45:57.094737Z"
    },
    "hidden": true
   },
   "outputs": [],
   "source": [
    "accs_train = np.zeros((5, 5))\n",
    "accs_test = np.zeros((5, 5))"
   ]
  },
  {
   "cell_type": "code",
   "execution_count": 63,
   "metadata": {
    "ExecuteTime": {
     "end_time": "2021-03-03T14:46:27.904407Z",
     "start_time": "2021-03-03T14:45:57.111690Z"
    },
    "hidden": true
   },
   "outputs": [],
   "source": [
    "### your code here"
   ]
  },
  {
   "cell_type": "markdown",
   "metadata": {
    "hidden": true
   },
   "source": [
    "Построим боксплоты полученного качества (горизонтальная линия в каждом столбце — среднее, прямоугольник показывает разброс)."
   ]
  },
  {
   "cell_type": "code",
   "execution_count": 64,
   "metadata": {
    "ExecuteTime": {
     "end_time": "2021-03-03T14:46:28.632502Z",
     "start_time": "2021-03-03T14:46:27.907401Z"
    },
    "hidden": true,
    "scrolled": false
   },
   "outputs": [
    {
     "data": {
      "image/png": "[encoded data removed]",
      "text/plain": [
       "<Figure size 720x360 with 1 Axes>"
      ]
     },
     "metadata": {
      "needs_background": "light"
     },
     "output_type": "display_data"
    }
   ],
   "source": [
    "init_vars_for_plot = [(x if isinstance(x, str) else fr\"$\\sigma = {x}$\") for x in init_vars]\n",
    "\n",
    "fig, ax = plt.subplots(1, 1, figsize=(10, 5))\n",
    "\n",
    "ax.boxplot(accs_test.T, labels=init_vars_for_plot, showfliers=False)\n",
    "\n",
    "ax.set_title(\"Test quality in 5 runs\")\n",
    "ax.set_xlabel(\"Initialization\")\n",
    "ax.set_ylabel(\"Test accuracy\")\n",
    "ax.grid(True)\n",
    "\n",
    "fig.tight_layout()\n",
    "plt.show()"
   ]
  },
  {
   "cell_type": "markdown",
   "metadata": {
    "heading_collapsed": true,
    "hidden": true
   },
   "source": [
    "#### `4 слоя`\n",
    "\n",
    "Выполните тут тот же код, что и в предыдущем пункте, но только уже с 4 слоями в сети."
   ]
  },
  {
   "cell_type": "code",
   "execution_count": 65,
   "metadata": {
    "ExecuteTime": {
     "end_time": "2021-03-03T14:45:57.091744Z",
     "start_time": "2021-03-03T14:45:57.079777Z"
    },
    "hidden": true
   },
   "outputs": [],
   "source": [
    "init_vars = [5e-3, 1e-2, 1e-1, 'Kaiming', 'Xavier']"
   ]
  },
  {
   "cell_type": "code",
   "execution_count": 66,
   "metadata": {
    "ExecuteTime": {
     "end_time": "2021-03-03T14:45:57.107701Z",
     "start_time": "2021-03-03T14:45:57.094737Z"
    },
    "hidden": true
   },
   "outputs": [],
   "source": [
    "accs_train = np.zeros((5, 5))\n",
    "accs_test = np.zeros((5, 5))"
   ]
  },
  {
   "cell_type": "code",
   "execution_count": 67,
   "metadata": {
    "ExecuteTime": {
     "end_time": "2021-03-03T14:46:27.904407Z",
     "start_time": "2021-03-03T14:45:57.111690Z"
    },
    "hidden": true
   },
   "outputs": [],
   "source": [
    "### your code here"
   ]
  },
  {
   "cell_type": "markdown",
   "metadata": {
    "hidden": true
   },
   "source": [
    "Построим боксплоты полученного качества (горизонтальная линия в каждом столбце — среднее, прямоугольник показывает разброс)."
   ]
  },
  {
   "cell_type": "code",
   "execution_count": 68,
   "metadata": {
    "ExecuteTime": {
     "end_time": "2021-03-03T14:46:28.632502Z",
     "start_time": "2021-03-03T14:46:27.907401Z"
    },
    "hidden": true,
    "scrolled": false
   },
   "outputs": [
    {
     "data": {
      "image/png": "[encoded data removed]",
      "text/plain": [
       "<Figure size 720x360 with 1 Axes>"
      ]
     },
     "metadata": {
      "needs_background": "light"
     },
     "output_type": "display_data"
    }
   ],
   "source": [
    "init_vars_for_plot = [(x if isinstance(x, str) else fr\"$\\sigma = {x}$\") for x in init_vars]\n",
    "\n",
    "fig, ax = plt.subplots(1, 1, figsize=(10, 5))\n",
    "\n",
    "ax.boxplot(accs_test.T, labels=init_vars_for_plot, showfliers=False)\n",
    "\n",
    "ax.set_title(\"Test quality in 5 runs\")\n",
    "ax.set_xlabel(\"Initialization\")\n",
    "ax.set_ylabel(\"Test accuracy\")\n",
    "ax.grid(True)\n",
    "\n",
    "fig.tight_layout()\n",
    "plt.show()"
   ]
  },
  {
   "cell_type": "markdown",
   "metadata": {
    "heading_collapsed": true,
    "hidden": true
   },
   "source": [
    "#### `5 слоев`\n",
    "\n",
    "Выполните тут тот же код, что и в предыдущем пункте, но только уже с 5 слоями в сети."
   ]
  },
  {
   "cell_type": "code",
   "execution_count": 69,
   "metadata": {
    "ExecuteTime": {
     "end_time": "2021-03-03T14:45:57.091744Z",
     "start_time": "2021-03-03T14:45:57.079777Z"
    },
    "hidden": true
   },
   "outputs": [],
   "source": [
    "init_vars = [1e-2, 1e-1, 1e0, 'Kaiming', 'Xavier']"
   ]
  },
  {
   "cell_type": "code",
   "execution_count": 70,
   "metadata": {
    "ExecuteTime": {
     "end_time": "2021-03-03T14:45:57.107701Z",
     "start_time": "2021-03-03T14:45:57.094737Z"
    },
    "hidden": true
   },
   "outputs": [],
   "source": [
    "accs_train = np.zeros((5, 5))\n",
    "accs_test = np.zeros((5, 5))"
   ]
  },
  {
   "cell_type": "code",
   "execution_count": 71,
   "metadata": {
    "ExecuteTime": {
     "end_time": "2021-03-03T14:46:27.904407Z",
     "start_time": "2021-03-03T14:45:57.111690Z"
    },
    "hidden": true
   },
   "outputs": [],
   "source": [
    "### your code here"
   ]
  },
  {
   "cell_type": "markdown",
   "metadata": {
    "hidden": true
   },
   "source": [
    "Построим боксплоты полученного качества (горизонтальная линия в каждом столбце — среднее, прямоугольник показывает разброс)."
   ]
  },
  {
   "cell_type": "code",
   "execution_count": 72,
   "metadata": {
    "ExecuteTime": {
     "end_time": "2021-03-03T14:46:28.632502Z",
     "start_time": "2021-03-03T14:46:27.907401Z"
    },
    "hidden": true,
    "scrolled": false
   },
   "outputs": [
    {
     "data": {
      "image/png": "[encoded data removed]",
      "text/plain": [
       "<Figure size 720x360 with 1 Axes>"
      ]
     },
     "metadata": {
      "needs_background": "light"
     },
     "output_type": "display_data"
    }
   ],
   "source": [
    "init_vars_for_plot = [(x if isinstance(x, str) else fr\"$\\sigma = {x}$\") for x in init_vars]\n",
    "\n",
    "fig, ax = plt.subplots(1, 1, figsize=(10, 5))\n",
    "\n",
    "ax.boxplot(accs_test.T, labels=init_vars_for_plot, showfliers=False)\n",
    "\n",
    "ax.set_title(\"Test quality in 5 runs\")\n",
    "ax.set_xlabel(\"Initialization\")\n",
    "ax.set_ylabel(\"Test accuracy\")\n",
    "ax.grid(True)\n",
    "\n",
    "fig.tight_layout()\n",
    "plt.show()"
   ]
  },
  {
   "cell_type": "markdown",
   "metadata": {
    "hidden": true
   },
   "source": [
    "Дайте развёрнутый ответ на вопросы (в этой же ячейке):\n",
    "* Как отличаются качество на обучении и контроле и устойчивость процесса обучения при различных инициализациях?\n",
    "* Какие инициализации помогают обучать более глубокие сети?\n",
    "\n",
    "__Ответы:__\n",
    "\n",
    "..."
   ]
  },
  {
   "cell_type": "markdown",
   "metadata": {
    "hidden": true
   },
   "source": [
    "Теперь сравним скорость обучения при различных инициализациях. Создайте два списка списков `accs_test_on_iterations`, `accs_train_on_iterations` в каждом из которых в позиции `[i]` (см. описание `i` в предыдущем пункте) будет лежать список из значений `accuracy` на тестовой и обучающей выборках соотвественно, полученных во время обучения модели. Количество слоев в сети зафиксируйте равным 4."
   ]
  },
  {
   "cell_type": "code",
   "execution_count": 75,
   "metadata": {
    "ExecuteTime": {
     "end_time": "2021-03-03T14:45:57.091744Z",
     "start_time": "2021-03-03T14:45:57.079777Z"
    },
    "hidden": true
   },
   "outputs": [],
   "source": [
    "init_vars = [1e-3, 1e-2, 1e-1, 'Kaiming', 'Xavier']"
   ]
  },
  {
   "cell_type": "code",
   "execution_count": 76,
   "metadata": {
    "ExecuteTime": {
     "end_time": "2021-03-03T14:46:28.647453Z",
     "start_time": "2021-03-03T14:46:28.635495Z"
    },
    "hidden": true
   },
   "outputs": [],
   "source": [
    "accs_test_on_iterations = []\n",
    "accs_train_on_iterations = []"
   ]
  },
  {
   "cell_type": "code",
   "execution_count": 77,
   "metadata": {
    "ExecuteTime": {
     "end_time": "2021-03-03T14:46:34.433662Z",
     "start_time": "2021-03-03T14:46:28.650417Z"
    },
    "hidden": true
   },
   "outputs": [],
   "source": [
    "### your code here"
   ]
  },
  {
   "cell_type": "code",
   "execution_count": 78,
   "metadata": {
    "ExecuteTime": {
     "end_time": "2021-03-03T14:46:34.875348Z",
     "start_time": "2021-03-03T14:46:34.436663Z"
    },
    "hidden": true
   },
   "outputs": [
    {
     "data": {
      "image/png": "[encoded data removed]",
      "text/plain": [
       "<Figure size 720x360 with 1 Axes>"
      ]
     },
     "metadata": {
      "needs_background": "light"
     },
     "output_type": "display_data"
    }
   ],
   "source": [
    "fig, ax = plt.subplots(1, 1, figsize=(10, 5))\n",
    "\n",
    "for idx, label in enumerate(init_vars_for_plot):\n",
    "    ax.plot(accs_test_on_iterations[idx], label=label)\n",
    "\n",
    "ax.set_title(\"Test quality for different initializations\")\n",
    "ax.set_xlabel(\"Epoch number\")\n",
    "ax.set_ylabel(\"Test accuracy\")\n",
    "ax.grid(True)\n",
    "ax.legend()\n",
    "\n",
    "fig.tight_layout()\n",
    "plt.show()"
   ]
  },
  {
   "cell_type": "markdown",
   "metadata": {
    "ExecuteTime": {
     "end_time": "2021-03-03T14:37:15.087902Z",
     "start_time": "2021-03-03T14:37:15.065996Z"
    },
    "hidden": true
   },
   "source": [
    "Дайте развёрнутый ответ на вопросы (в этой же ячейке):\n",
    "* Как меняется скорость обучения в зависимости от выбранной инициализации?\n",
    "\n",
    "__Ответы:__\n",
    "\n",
    "..."
   ]
  },
  {
   "cell_type": "markdown",
   "metadata": {
    "heading_collapsed": true,
    "hidden": true
   },
   "source": [
    "### `Эксперименты c различными функциями активации (0.6 балла)`"
   ]
  },
  {
   "cell_type": "markdown",
   "metadata": {
    "hidden": true
   },
   "source": [
    "Проверим теперь, с какой функцией активации нейронная сеть будет обучаться лучше.\n",
    "\n",
    "В этом пункте вам предлагается попробовать обучить несколько нейронных сетей с различными функциями активации.\n",
    "\n",
    "Для этого нам нужно реализовать еще 2 слоя: для функций активации `Tanh` и `Sigmoid`."
   ]
  },
  {
   "cell_type": "code",
   "execution_count": 49,
   "metadata": {
    "ExecuteTime": {
     "end_time": "2021-03-03T14:46:34.891308Z",
     "start_time": "2021-03-03T14:46:34.878379Z"
    },
    "hidden": true
   },
   "outputs": [],
   "source": [
    "class Tanh:\n",
    "    \"\"\"\n",
    "    tanh(y) = (e^y - e^(-y)) / (e^y + e^(-y))\n",
    "    Используйте функцию np.tanh для подсчета гиперболического тангенса.\n",
    "    Вы можете сами реализовать подсчет tanh, но тогда вам нужно устойчиво его вычислять.\n",
    "    \"\"\"\n",
    "    def __init__(self):\n",
    "        self.params = [] # Tanh has no parameters\n",
    "\n",
    "    def forward(self, input):\n",
    "        \"\"\"\n",
    "        Apply elementwise Tanh to [batch, num_units] matrix\n",
    "        \"\"\"\n",
    "        ### your code here\n",
    "\n",
    "    def backward(self, grad_output):\n",
    "        \"\"\"\n",
    "        Compute gradient of loss w.r.t. Tanh input\n",
    "        grad_output shape: [batch, num_units]\n",
    "        output 1 shape: [batch, num_units]\n",
    "        output 2: []\n",
    "        \"\"\"\n",
    "        ### your code here\n",
    "\n",
    "    def __repr__(self):\n",
    "        return 'Tanh()'"
   ]
  },
  {
   "cell_type": "code",
   "execution_count": 50,
   "metadata": {
    "ExecuteTime": {
     "end_time": "2021-03-03T14:46:34.907337Z",
     "start_time": "2021-03-03T14:46:34.894300Z"
    },
    "hidden": true
   },
   "outputs": [],
   "source": [
    "from scipy.special import expit\n",
    "    \n",
    "class Sigmoid:\n",
    "    \"\"\"\n",
    "    sigmoid(y) = 1 / (1 + e^(-y))\n",
    "    Используйте функцию expit для подсчета сигмоиды.\n",
    "    Вы можете сами реализовать подсчет сигмоиды, но тогда вам нужно устойчиво ее вычислять.\n",
    "    \"\"\"\n",
    "    def __init__(self):\n",
    "        self.params = [] # Sigmoid has no parameters\n",
    "\n",
    "    def forward(self, input):\n",
    "        \"\"\"\n",
    "        Apply elementwise Sigmoid to [batch, num_units] matrix\n",
    "        \"\"\"\n",
    "        ### your code here\n",
    "\n",
    "    def backward(self, grad_output):\n",
    "        \"\"\"\n",
    "        Compute gradient of loss w.r.t. Sigmoid input\n",
    "        grad_output shape: [batch, num_units]\n",
    "        output 1 shape: [batch, num_units]\n",
    "        output 2: []\n",
    "        \"\"\"\n",
    "        ### your code here\n",
    "\n",
    "    def __repr__(self):\n",
    "        return 'Sigmoid()'"
   ]
  },
  {
   "cell_type": "markdown",
   "metadata": {
    "hidden": true
   },
   "source": [
    "Теперь попробуйте для каждой из 3 функций активации обучить нейронную сеть несколько раз. Число слоев зафиксируйте равным 3. В случае `Tanh` и `Sigmoid` используйте инициализацию `Xavier`, а в случае `ReLU` используйте инициализацию `Kaiming`."
   ]
  },
  {
   "cell_type": "markdown",
   "metadata": {
    "hidden": true
   },
   "source": [
    "Заполните матрицы `accs_train` и `accs_test`. В позиции `[i, j]` должна стоять величина доли правильных ответов сети при $j$-м запуске (все запуски идентичны) с функцией активации $ReLU$ при $i = 0$, с функцией активации $Tanh$ при $i = 1$ и с функцией активации $Sigmoid$ при $i = 2$."
   ]
  },
  {
   "cell_type": "code",
   "execution_count": 51,
   "metadata": {
    "ExecuteTime": {
     "end_time": "2021-03-03T14:46:34.922732Z",
     "start_time": "2021-03-03T14:46:34.910271Z"
    },
    "hidden": true
   },
   "outputs": [],
   "source": [
    "act_func_vars = ['Tanh', 'Sigmoid', 'ReLU']\n",
    "init_for_act_funcs = ['Xavier', 'Xavier', 'Kaiming']"
   ]
  },
  {
   "cell_type": "code",
   "execution_count": 52,
   "metadata": {
    "ExecuteTime": {
     "end_time": "2021-03-03T14:46:34.938935Z",
     "start_time": "2021-03-03T14:46:34.925724Z"
    },
    "hidden": true
   },
   "outputs": [],
   "source": [
    "accs_train = np.zeros((3, 5))\n",
    "accs_test = np.zeros((3, 5))"
   ]
  },
  {
   "cell_type": "code",
   "execution_count": 53,
   "metadata": {
    "ExecuteTime": {
     "end_time": "2021-03-03T14:47:04.514986Z",
     "start_time": "2021-03-03T14:46:34.941104Z"
    },
    "hidden": true
   },
   "outputs": [],
   "source": [
    "### your code here"
   ]
  },
  {
   "cell_type": "markdown",
   "metadata": {
    "hidden": true
   },
   "source": [
    "Построим боксплоты полученного качества (горизонтальная линия в каждом столбце — среднее, прямоугольник показывает разброс)."
   ]
  },
  {
   "cell_type": "code",
   "execution_count": 54,
   "metadata": {
    "ExecuteTime": {
     "end_time": "2021-03-03T14:47:04.783320Z",
     "start_time": "2021-03-03T14:47:04.517701Z"
    },
    "hidden": true
   },
   "outputs": [
    {
     "data": {
      "image/png": "[encoded data removed]",
      "text/plain": [
       "<Figure size 720x360 with 1 Axes>"
      ]
     },
     "metadata": {
      "needs_background": "light"
     },
     "output_type": "display_data"
    }
   ],
   "source": [
    "fig, ax = plt.subplots(1, 1, figsize=(10, 5))\n",
    "\n",
    "ax.boxplot(accs_test.T, labels=act_func_vars, showfliers=False)\n",
    "\n",
    "ax.set_title(\"Test quality in 5 runs\")\n",
    "ax.set_xlabel(\"Activation function\")\n",
    "ax.set_ylabel(\"Test accuracy\")\n",
    "ax.grid(True)\n",
    "\n",
    "fig.tight_layout()\n",
    "plt.show()"
   ]
  },
  {
   "cell_type": "markdown",
   "metadata": {
    "hidden": true
   },
   "source": [
    "Дайте развёрнутый ответ на вопросы (в этой же ячейке):\n",
    "* Как отличаются качество на обучении и контроле и устойчивость процесса обучения при различных функциях активации?\n",
    "\n",
    "__Ответы:__\n",
    "\n",
    "..."
   ]
  },
  {
   "cell_type": "markdown",
   "metadata": {
    "hidden": true
   },
   "source": [
    "\\* Несколько фрагментов кода в задании написаны на основе материалов [курса по глубинному обучению на ФКН НИУ ВШЭ](https://www.hse.ru/ba/ami/courses/205504078.html)"
   ]
  },
  {
   "cell_type": "markdown",
   "metadata": {},
   "source": [
    "### `Реализация метода оптимизации (1.4 балла)`"
   ]
  },
  {
   "cell_type": "markdown",
   "metadata": {},
   "source": [
    "В этой части задания реализуйте метод оптимизации SGD + momentum. Упрощённая версия более общего алгоритма [отсюда](https://pytorch.org/docs/stable/generated/torch.optim.SGD.html):\n",
    "\n",
    "$$\n",
    "\\begin{aligned}\n",
    "    &\\rule{70mm}{0.4pt}                                                             \\\\\n",
    "    &\\textbf{input}      : \\gamma \\text{ (lr)}, \\: \\theta_0 \\text{ (params)}, \\: X \\text{ (data)},       \\\\\n",
    "    &\\hspace{13mm} \\: f(\\theta) \\text{ (objective)}, \\:\\mu \\text{ (momentum)}       \\\\[-1.ex]\n",
    "    &\\rule{70mm}{0.4pt}                                                             \\\\\n",
    "    &\\textbf{for} \\: t=1 \\: \\textbf{to} \\: \\ldots \\: \\textbf{do}                    \\\\\n",
    "    &\\hspace{5mm}\\mathcal{X} \\leftarrow \\texttt{list\\_of\\_random\\_batches}(X)\\\\\n",
    "    &\\hspace{5mm}\\textbf{for} \\: i=1 \\: \\textbf{to} \\: \\ldots \\: \\textbf{do}                    \\\\\n",
    "    &\\hspace{10mm}g_t\\leftarrow   \\nabla_{\\theta} f_t (\\theta_{t-1},\\mathcal{X}_i)      \\\\\n",
    "    &\\hspace{10mm}\\textbf{if} \\: \\mu \\neq 0                                          \\\\\n",
    "    &\\hspace{15mm}\\textbf{if} \\: t > 1                                              \\\\\n",
    "    &\\hspace{20mm} \\textbf{b}_t \\leftarrow \\mu \\textbf{b}_{t-1} + g_t               \\\\\n",
    "    &\\hspace{15mm}\\textbf{else}                                                     \\\\\n",
    "    &\\hspace{20mm} \\textbf{b}_t \\leftarrow g_t                                      \\\\\n",
    "    &\\hspace{15mm} g_t  \\leftarrow  \\textbf{b}_t                                     \\\\\n",
    "    &\\hspace{10mm}\\theta_t \\leftarrow \\theta_{t-1} - \\gamma g_t                      \\\\[-1.ex]\n",
    "    &\\rule{70mm}{0.4pt}                                                             \\\\[-1.ex]\n",
    "    &\\bf{return} \\:  \\theta_t                                                       \\\\[-1.ex]\n",
    "    &\\rule{70mm}{0.4pt}                                                             \\\\[-1.ex]\n",
    "\\end{aligned}\n",
    "$$\n",
    "\n",
    "Проще всего будет написать `custom minimizer` (смотри [документацию scipy](https://docs.scipy.org/doc/scipy/reference/generated/scipy.optimize.minimize.html))."
   ]
  },
  {
   "cell_type": "code",
   "execution_count": null,
   "metadata": {},
   "outputs": [],
   "source": [
    "from scipy.optimize import OptimizeResult\n",
    "\n",
    "\n",
    "def SGD(fun, x0, args, **kwargs) -> OptimizeResult:\n",
    "    callback = kwargs['callback']   # feed weights from each iteration to update network and log metrics\n",
    "    mu = kwargs['momentum']\n",
    "    n_iter = kwargs['n_iter']\n",
    "    gamma = kwargs['lr']\n",
    "    jac = kwargs['jac']\n",
    "    batch_size = kwargs['batch_size']\n",
    "    \n",
    "    net, X, y = args\n",
    "    \n",
    "    # your code is here"
   ]
  },
  {
   "cell_type": "markdown",
   "metadata": {},
   "source": [
    "**Задание 1. (0.5 балла)** Продемонстрируйте правильную работу метода оптимизации, получив `test_accuracy>=0.9`."
   ]
  },
  {
   "cell_type": "code",
   "execution_count": null,
   "metadata": {},
   "outputs": [],
   "source": [
    "# your code is here"
   ]
  },
  {
   "cell_type": "markdown",
   "metadata": {},
   "source": [
    "**Задание 2. (0.8 балла)** Сравните три алгоритма:\n",
    "1. LBFGS-B\n",
    "2. SGD\n",
    "3. SGD + momentum\n",
    "\n",
    "Для этого одновременно переберите следующие гиперпараметры:\n",
    "- значения `lr` на отрезке `[1e-3, 1e-1]` по логарифмической сетке\n",
    "- два значения `momentum`: `0` и `0.9`\n",
    "- значения `batch_size`: `8` и `32`\n",
    "\n",
    "В каждом запуске сохраняйте три метрики: итоговое accuracy на тесте и на трейне и время обучения.\n",
    "\n",
    "Для каждого из трёх алгоритмов выберите лучшие `lr` и `batch_size` по `test_accuracy`. Постройте для них кривые обучения (пример ниже). Сделайте выводы.\n",
    "\n",
    "![](comparison.svg)"
   ]
  },
  {
   "cell_type": "code",
   "execution_count": null,
   "metadata": {},
   "outputs": [],
   "source": [
    "# your code is here"
   ]
  },
  {
   "cell_type": "markdown",
   "metadata": {},
   "source": [
    "**Выводы:**"
   ]
  },
  {
   "cell_type": "markdown",
   "metadata": {},
   "source": []
  },
  {
   "cell_type": "markdown",
   "metadata": {},
   "source": [
    "**Задание 3. (0.1 балла)** Для отобранных в прошлом задании трёх алгоритмов ответье на вопрос: как меняются запуски для двух значений `batch_size`."
   ]
  },
  {
   "cell_type": "markdown",
   "metadata": {},
   "source": [
    "**Ответ:**"
   ]
  },
  {
   "cell_type": "markdown",
   "metadata": {},
   "source": []
  },
  {
   "cell_type": "markdown",
   "metadata": {
    "heading_collapsed": true
   },
   "source": [
    "## `Бонусная часть`"
   ]
  },
  {
   "cell_type": "markdown",
   "metadata": {
    "hidden": true
   },
   "source": [
    "### `Реализация метода оптимизации (1 балл)`\n",
    "\n",
    "Реализуйте метод оптимизации Adam и сравните его работу с SGD + momentum, проведя эксперимент, как в задании 2 (перебор гиперпараметров + кривые обучения)."
   ]
  },
  {
   "cell_type": "markdown",
   "metadata": {
    "hidden": true
   },
   "source": [
    "### `Dropout (1 балл)`\n",
    "\n",
    "Реализуйте слой Dropout. Сравните обучение сети из большого числа слоёв при использовании Dropout и без его использования (предварительно подберите адекватный параметр $p$). Сделайте выводы."
   ]
  },
  {
   "cell_type": "markdown",
   "metadata": {
    "hidden": true
   },
   "source": [
    "### `BatchNormalization (1 балл)`\n",
    "\n",
    "Реализуйте слой `BatchNormalization`. Сравните обучение сети из большого числа слоёв при использовании `BatchNormalization` и без его использования. Сделайте выводы."
   ]
  }
 ],
 "metadata": {
  "kernelspec": {
   "display_name": "Python 3 (ipykernel)",
   "language": "python",
   "name": "python3"
  },
  "language_info": {
   "codemirror_mode": {
    "name": "ipython",
    "version": 3
   },
   "file_extension": ".py",
   "mimetype": "text/x-python",
   "name": "python",
   "nbconvert_exporter": "python",
   "pygments_lexer": "ipython3",
   "version": "3.10.9"
  }
 },
 "nbformat": 4,
 "nbformat_minor": 2
}
