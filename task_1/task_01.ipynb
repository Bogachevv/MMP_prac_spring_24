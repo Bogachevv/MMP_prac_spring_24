{
 "cells": [
  {
   "cell_type": "markdown",
   "metadata": {},
   "source": [
    "# `Практикум по программированию на языке Python`\n",
    "\n",
    "## `Задание 01. Полносвязная нейронная сеть на numpy`.\n",
    "\n",
    "#### Фамилия, имя: \n",
    "\n",
    "Дата выдачи: <span style=\"color:red\">__20 февраля__</span>.\n",
    "\n",
    "Мягкий дедлайн: <span style=\"color:red\">__6 марта 23:59__</span>.\n",
    "\n",
    "Стоимость: __10 баллов__ (основная часть заданий) + __3 балла__ (дополнительные задания).\n",
    "\n",
    "<span style=\"color:red\">__В ноутбуке все клетки должны выполняться без ошибок при последовательном их выполнении.__</span>\n",
    "\n",
    "#### `Москва, 2024`"
   ]
  },
  {
   "cell_type": "code",
   "execution_count": 1,
   "metadata": {
    "ExecuteTime": {
     "end_time": "2024-03-02T13:10:06.486579600Z",
     "start_time": "2024-03-02T13:10:06.421914800Z"
    }
   },
   "outputs": [],
   "source": [
    "import numpy as np"
   ]
  },
  {
   "cell_type": "markdown",
   "metadata": {
    "heading_collapsed": true
   },
   "source": [
    "## `Теоретическая часть (3 балла)`"
   ]
  },
  {
   "cell_type": "markdown",
   "metadata": {
    "hidden": true
   },
   "source": [
    "В этом блоке вам нужно решить 3 задания."
   ]
  },
  {
   "cell_type": "markdown",
   "metadata": {
    "heading_collapsed": true,
    "hidden": true
   },
   "source": [
    "### `Задание 1. Градиенты для слоя Batch normalization (1.5 балла)`"
   ]
  },
  {
   "cell_type": "markdown",
   "metadata": {
    "hidden": true
   },
   "source": [
    "Рассмотрим слой Batch normalization. Пусть на вход этого слоя был подан батч из $n$ объектов, при этом у всех объектов по 1 признаку. Представим вход BN слоя в виде $X \\in \\mathbb{R}^{n \\times 1}$.\n",
    "\n",
    "Тогда в этом слое производятся следующие вычисления:\n",
    "\n",
    "$$ \\mu = \\frac1n \\sum_{i=1}^{n} X_i $$\n",
    "\n",
    "$$ \\sigma^2 = \\frac1n \\sum_{i=1}^{n} \\left( X_i - \\mu \\right) ^2 $$\n",
    "\n",
    "$$ \\tilde{y_i} = \\frac{X_i - \\mu}{\\sqrt{\\sigma^2 + \\varepsilon}} $$\n",
    "\n",
    "$$ y_i = \\gamma \\tilde{y_i} + \\delta $$\n",
    "\n",
    "Выходом BN слоя является $y_i$, а $\\gamma,\\delta\\in\\mathbb{R}$ — параметры, которые подбираются во время обучения вместе с другими параметрами нейронной сети (наряду, например, с весами линейного слоя).\n",
    "\n",
    "Рассмотрим нейронную сеть, в которой есть BN слой. Предположим, что вычисления в нейронной сети завершаются подсчетом функции потерь $\\mathcal{L}$. Пусть мы выполнили прямой проход по нейронной сети и сейчас делаем обратный проход с помощью метода обратного распространения ошибки. Пусть BN слою пришел градиент функции потерь по выходу BN слоя ($\\nabla_{y} \\mathcal{L}$).\n",
    "\n",
    "В этом задании вам нужно записать вычисление градиента функции потерь по параметрам слоя BN $\\gamma$ и $\\delta$ ($\\nabla_{\\gamma} \\mathcal{L}$, $\\nabla_{\\delta} \\mathcal{L}$) через $\\nabla_{y} \\mathcal{L}$, а также вам нужно записать вычисление градиента функции потерь по входу слоя BN $X$ ($\\nabla_{X} \\mathcal{L}$) через $\\nabla_{y} \\mathcal{L}$.\n",
    "\n",
    "Хочу заметить, в данном задании мы рассматриваем объекты всего с 1 признаком, чтобы упростить выкладки."
   ]
  },
  {
   "cell_type": "markdown",
   "metadata": {
    "hidden": true
   },
   "source": [
    "__Ваше решение:__\n",
    "\n",
    "Перепишем формулу для $y_i$ в векторном виде:\n",
    "$$y_i = \\gamma \\frac{X - \\mu}{\\sqrt{\\sigma^2 + \\varepsilon}} + \\delta $$\n",
    "Считаем, что $\\mathcal{L} = \\mathcal{L}(y(X, \\gamma, \\delta))$, тогда:\n",
    "1. $\\nabla_{\\gamma} {\\mathcal L} = (\\nabla_{y} {\\mathcal L})^T \\cdot \\frac{X - \\mu}{\\sqrt{\\sigma^2 + \\varepsilon}}$\n",
    "2. $\\nabla_{\\delta} {\\mathcal L} = (\\nabla_{y} {\\mathcal L})^T \\cdot (1)_{i=1}^{n} = \\sum_{i=1}^n (\\nabla_{y} {\\mathcal L})_i$\n",
    "3. $\\nabla_{X} {\\mathcal L} = \\nabla_{y} {\\mathcal L} \\cdot \\frac{\\gamma}{\\sqrt{\\sigma^2 + \\varepsilon}}$"
   ]
  },
  {
   "cell_type": "markdown",
   "metadata": {
    "heading_collapsed": true,
    "hidden": true
   },
   "source": [
    "### `Задание 2. Вывод инициализации весов линейного слоя при использовании ReLU в качестве функции активации (1 балл)`"
   ]
  },
  {
   "cell_type": "markdown",
   "metadata": {
    "hidden": true
   },
   "source": [
    "Рассмотрим полносвязную нейронную сеть с функцией активации $g(y)$. Пусть сеть состоит из $L$ слоев и размер входа слоя $l$ равен $n_l\\ \\ (l = \\overline{1, L})$.\n",
    "\n",
    "Обозначим за $x^l \\in \\mathbb{R}^{n_{l}}$ вход слоя $l$, за $y^l \\in \\mathbb{R}^{n_{l+1}}$ — выход слоя $l$, за $W^l \\in \\mathbb{R}^{n_{l+1} \\times n_{l}}$ — веса слоя $l$, за $b^l \\in \\mathbb{R}^{n_{l+1}}$ — вектор сдвига слоя $l$.\n",
    "\n",
    "Тогда\n",
    "$$y^l = W^l x^l + b^l,$$\n",
    "$$x^{l+1} = g(y^l).$$\n",
    "\n",
    "На паре вы выводили хорошую инициализацию для линейного слоя в случае, когда в качестве функции активации $g(y)$ в нейронной сети используется гиперболический тангенс $g(y) = \\tanh(y)$. Сейчас вам нужно сделать подобный вывод для случая, когда в сети в качестве функций активации используется $g(y) = ReLU(y) = \\max(0, y)$.\n",
    "\n",
    "Сделаем следующие предположения насчет того, как распределены веса $W^l$, вектор сдвига $b^l$, входной вектор $x^l$, выходной вектор $y^l$ линейного слоя и градиенты функции потерь $\\frac{\\partial L}{\\partial y^{l}}$ $(l = \\overline{1, L}$):\n",
    "\n",
    "1. Все компоненты в $W^l$ распределены одинаково и независимо друг от друга;\n",
    "2. Все компоненты в $y^l$ распределены одинаково и независимо друг от друга;\n",
    "3. Все компоненты в $x^l$ распределены одинаково и независимо друг от друга;\n",
    "4. Все компоненты в $\\frac{\\partial L}{\\partial y^{l}}$ распределены одинаково и независимо друг от друга;\n",
    "5. Все компоненты в $W^l$ и все компоненты в $x^l$ независимы друг от друга;\n",
    "6. Все компоненты в $W^l$ имеют четную плотность распределения (то есть симметричную относительно нуля: $p_{W^l}(-x) = p_{W^l}(x)$);\n",
    "7. Все компоненты в $W^l$ имеют конечное матожидание;\n",
    "8. Вектор $b^l$ инициализирован нулями.\n",
    "\n",
    "\n",
    "Подсказки:\n",
    "1. Из пунктов 6 и 7 следует, что все компоненты в $W^l$ имеют нулевое среднее ($\\mathbb{E} W^l_{ij} = 0\\ \\ \\forall i = \\overline{1, n_{l+1}}, j = \\overline{1, n_{l}}$) (докажите);\n",
    "2. Из пунктов 6 и 7 следует, что все компоненты в $y^l$ имеют нулевое среднее и четную плотность распределения (докажите)."
   ]
  },
  {
   "cell_type": "markdown",
   "metadata": {
    "hidden": true
   },
   "source": [
    "__Ваше решение:__\n",
    "\n",
    "..."
   ]
  },
  {
   "cell_type": "markdown",
   "metadata": {
    "heading_collapsed": true,
    "hidden": true
   },
   "source": [
    "### `Задание 3. Почему функция активации` $ReLU(y) = \\max(0, y)$ `предпочтительней сигмоиды` $\\sigma(y) = \\frac{1}{1 + \\exp(-y)}$ `в нейронных сетях? (0.5 балла)`"
   ]
  },
  {
   "cell_type": "markdown",
   "metadata": {
    "hidden": true
   },
   "source": [
    "Дайте развернутый ответ на вопрос \"Почему функция активации $ReLU(y) = \\max(0, y)$ предпочтительней сигмоиды $\\sigma(y) = \\frac{1}{1 + \\exp(-y)}$ в нейронных сетях?\""
   ]
  },
  {
   "cell_type": "markdown",
   "metadata": {
    "hidden": true
   },
   "source": [
    "__Ваш ответ:__\n",
    "\n",
    "На практике, зачастую, используются именно глубокие нейронные сети. \n",
    "Из курса лекций известно, что $\\sup_{y \\in \\mathbb{R}} \\left| \\frac{d \\, \\sigma}{d \\, y} (y) \\right| = \\frac{1}{4}$.\n",
    "Рассмотрим глубокую сеть с $d$ слоями: ДОПИСАТЬ\n",
    "Тогда будет наблюдаться затухание градиента"
   ]
  },
  {
   "cell_type": "markdown",
   "metadata": {
    "hidden": true
   },
   "source": [
    "---"
   ]
  },
  {
   "cell_type": "markdown",
   "metadata": {
    "heading_collapsed": true
   },
   "source": [
    "## `Практическая часть (7 баллов)`"
   ]
  },
  {
   "cell_type": "markdown",
   "metadata": {
    "heading_collapsed": true,
    "hidden": true
   },
   "source": [
    "### `Реализация нейронной сети (3 балла)`"
   ]
  },
  {
   "cell_type": "markdown",
   "metadata": {
    "hidden": true
   },
   "source": [
    "В этом задании вы обучите полносвязную нейронную сеть распознавать рукописные цифры (а что же еще, если не их :), [почти] самостоятельно реализовав все составляющие алгоритма обучения и предсказания.\n",
    "\n",
    "Для начала нам понадобится реализовать прямой и обратный проход через слои. Наши слои будут соответствовать следующему интерфейсу (на примере \"тождественного\" слоя):"
   ]
  },
  {
   "cell_type": "code",
   "execution_count": 2,
   "outputs": [],
   "source": [
    "from numpy.typing import NDArray\n",
    "from typing import Tuple, List, Union"
   ],
   "metadata": {
    "collapsed": false,
    "ExecuteTime": {
     "end_time": "2024-03-02T13:10:11.325372200Z",
     "start_time": "2024-03-02T13:10:11.259510900Z"
    }
   }
  },
  {
   "cell_type": "code",
   "execution_count": 4,
   "outputs": [],
   "source": [
    "class Layer:\n",
    "    def __init__(self):\n",
    "        self.params = []\n",
    "        self.input = None\n",
    "        self.inference_mode = True\n",
    "        \n",
    "    def forward(self, input: NDArray) -> NDArray:\n",
    "        raise NotImplementedError(\"forward method not implemented\")\n",
    "    \n",
    "    def backward(self, grad_output: NDArray) -> Tuple[NDArray, NDArray]:\n",
    "        raise NotImplementedError(\"backward method not implemented\")\n",
    "    \n",
    "    def __call__(self, input: NDArray) -> NDArray:\n",
    "        return self.forward(input)"
   ],
   "metadata": {
    "collapsed": false,
    "ExecuteTime": {
     "end_time": "2024-03-02T13:10:51.106228700Z",
     "start_time": "2024-03-02T13:10:51.061712100Z"
    }
   }
  },
  {
   "cell_type": "code",
   "execution_count": 5,
   "metadata": {
    "hidden": true,
    "ExecuteTime": {
     "end_time": "2024-03-02T13:10:51.919722100Z",
     "start_time": "2024-03-02T13:10:51.873206800Z"
    }
   },
   "outputs": [],
   "source": [
    "class IdentityLayer(Layer):\n",
    "    \"\"\"\n",
    "    A building block. Each layer is capable of performing two things:\n",
    "\n",
    "    - Process input to get output:           \n",
    "    output = layer.forward(input)\n",
    "\n",
    "    - Propagate gradients through itself:    \n",
    "    grad_input = layer.backward(input, grad_output)\n",
    "\n",
    "    Some layers also have learnable parameters.\n",
    "\n",
    "    Modified code from cs.hse DL course *\n",
    "    \"\"\"\n",
    "    def __init__(self):\n",
    "        \"\"\"\n",
    "        Here you can initialize layer parameters (if any) \n",
    "        and auxiliary stuff. You should enumerate all parameters\n",
    "        in self.params\n",
    "        \"\"\"\n",
    "        # An identity layer does nothing\n",
    "        self.params = []\n",
    "        pass\n",
    "\n",
    "    def forward(self, input):\n",
    "        \"\"\"\n",
    "        Takes input data of shape [batch, input_units], \n",
    "        returns output data [batch, output_units]\n",
    "        \"\"\"\n",
    "        # An identity layer just returns whatever it gets as input.\n",
    "        self.input = input\n",
    "        return input\n",
    "\n",
    "    def backward(self, grad_output): \n",
    "        \"\"\"\n",
    "        Performs a backpropagation step through the layer, \n",
    "        with respect to the given input.\n",
    "\n",
    "        To compute loss gradients w.r.t input, \n",
    "        you need to apply chain rule (backprop):\n",
    "\n",
    "        d `loss` / d `input` = (d `loss` / d `layer`) * (d `layer` / d `input`)\n",
    "\n",
    "        Luckily, you already receive d `loss` / d `layer` in argument, \n",
    "        so you only need to multiply it by d `layer` / d `input`.\n",
    "\n",
    "        NB: Sometimes d `layer` / d `input` can be a 3D or even 4D tensor.\n",
    "        So it's better to write down the `loss` differential and extract\n",
    "        d `layer` / d `input` from it so that only 2D tensors were present.\n",
    "\n",
    "        The method returns:\n",
    "        * gradient w.r.t input (will be passed to \n",
    "          previous layer's backward method)\n",
    "        * flattened gradient w.r.t. parameters (with .ravel() \n",
    "          applied to each gradient). \n",
    "          If there are no params, return []\n",
    "        \"\"\"\n",
    "        # The gradient of an identity layer is precisely grad_output\n",
    "        input_dim = self.input.shape[1]\n",
    "\n",
    "        d_layer_d_input = np.eye(input_dim)\n",
    "\n",
    "        return np.dot(grad_output, d_layer_d_input), [] # chain rule"
   ]
  },
  {
   "cell_type": "markdown",
   "metadata": {
    "heading_collapsed": true,
    "hidden": true
   },
   "source": [
    "#### `Слой нелинейности ReLU`"
   ]
  },
  {
   "cell_type": "markdown",
   "metadata": {
    "hidden": true
   },
   "source": [
    "Для начала реализуем слой нелинейности $ReLU(y) = \\max(0, y)$. Параметров у слоя нет. Метод `forward` должен вернуть результат поэлементного применения $ReLU$ к входному массиву, метод `backward` — градиент функции потерь по входу слоя. В нуле будем считать производную равной 0. Обратите внимание, что при обратном проходе могут понадобиться величины, посчитанные во время прямого прохода, поэтому их стоит сохранить как атрибут класса."
   ]
  },
  {
   "cell_type": "code",
   "execution_count": 6,
   "metadata": {
    "hidden": true,
    "ExecuteTime": {
     "end_time": "2024-03-02T13:11:42.628756300Z",
     "start_time": "2024-03-02T13:11:42.562372500Z"
    }
   },
   "outputs": [],
   "source": [
    "class ReLU(Layer):\n",
    "    \"\"\"\n",
    "    Modified code from cs.hse DL course *\n",
    "    \"\"\"\n",
    "    def __init__(self):\n",
    "        \"\"\"ReLU layer simply applies elementwise rectified linear unit to all inputs\"\"\"\n",
    "        super().__init__()\n",
    "\n",
    "    def forward(self, input):\n",
    "        \"\"\"Apply elementwise ReLU to [batch, num_units] matrix\"\"\"\n",
    "        \n",
    "        self.input = input        \n",
    "        return np.maximum(0, input)\n",
    "        \n",
    "        \n",
    "    def backward(self, grad_output):\n",
    "        \"\"\"Compute gradient of loss w.r.t. ReLU input\n",
    "        grad_output shape: [batch, num_units]\n",
    "        output 1 shape: [batch, num_units]\n",
    "        output 2: []\n",
    "        \"\"\"\n",
    "        \n",
    "        if self.input is None:\n",
    "            raise RuntimeError('Call forward method before calling backward')\n",
    "        \n",
    "        return np.where(self.input > 0, grad_output, np.zeros_like(self.input)), []\n",
    "    \n",
    "    def __repr__(self):\n",
    "        return 'Relu()'"
   ]
  },
  {
   "cell_type": "markdown",
   "metadata": {
    "heading_collapsed": true,
    "hidden": true
   },
   "source": [
    "#### `Полносвязный слой`"
   ]
  },
  {
   "cell_type": "markdown",
   "metadata": {
    "hidden": true
   },
   "source": [
    "Далее реализуем полносвязный слой без нелинейности. У слоя два параметра: матрица весов и вектор сдвига.\n",
    "\n",
    "Обратите внимание на второй аргумент: в нем надо возвращать градиент по всем параметрам в одномерном виде. Для этого надо сначала применить `.ravel()` ко всем градиентам, а затем воспользоваться `np.r_`:"
   ]
  },
  {
   "cell_type": "code",
   "execution_count": 7,
   "metadata": {
    "hidden": true,
    "ExecuteTime": {
     "end_time": "2024-03-02T13:11:44.931712800Z",
     "start_time": "2024-03-02T13:11:44.900183600Z"
    }
   },
   "outputs": [
    {
     "data": {
      "text/plain": "array([1., 0., 0., 0., 1., 0., 0., 0., 1., 0., 1., 2., 3.])"
     },
     "execution_count": 7,
     "metadata": {},
     "output_type": "execute_result"
    }
   ],
   "source": [
    "# example\n",
    "np.r_[np.eye(3).ravel(), np.arange(4)]"
   ]
  },
  {
   "cell_type": "code",
   "execution_count": 8,
   "metadata": {
    "hidden": true,
    "ExecuteTime": {
     "end_time": "2024-03-02T13:13:45.419671Z",
     "start_time": "2024-03-02T13:13:45.316155500Z"
    }
   },
   "outputs": [],
   "source": [
    "class Dense(Layer):\n",
    "    \"\"\"\n",
    "    Modified code from cs.hse DL course *\n",
    "    \"\"\"\n",
    "    def __init__(self, input_units, output_units):\n",
    "        super().__init__()\n",
    "        \"\"\"\n",
    "        A dense layer is a layer which performs a learned affine transformation:\n",
    "        f(x) = x W + b\n",
    "        \"\"\"\n",
    "        # initialize weights with small random numbers from normal distribution\n",
    "        self.weights = np.random.randn(input_units, output_units) * 0.01\n",
    "        self.biases = np.zeros(output_units)\n",
    "        self.params = [self.weights, self.biases]\n",
    "\n",
    "    def forward(self, input):\n",
    "        \"\"\"\n",
    "        Perform an affine transformation:\n",
    "        f(x) = x W + b\n",
    "        \n",
    "        input shape: [batch, input_units]\n",
    "        output shape: [batch, output units]\n",
    "        \"\"\"\n",
    "        \n",
    "        self.input = input\n",
    "        \n",
    "        return input @ self.weights + self.biases\n",
    "\n",
    "    def backward(self, grad_output):\n",
    "        \"\"\"\n",
    "        compute gradients\n",
    "        grad_output shape: [batch, output_units]\n",
    "        output shapes: [batch, input_units], [num_params]\n",
    "        \n",
    "        hint: use function np.r_\n",
    "        np.r_[np.arange(3), np.arange(3)] = [0, 1, 2, 0, 1, 2]\n",
    "        \"\"\"\n",
    "        \n",
    "        # print(f\"DEBUG: {(self.input[:, :, None] @ grad_output[:, None, :]).shape=}\")\n",
    "        d_loss_d_w = np.sum(self.input[:, :, None] @ grad_output[:, None, :], axis=0)\n",
    "        d_loss_d_b = np.sum(grad_output, axis=0)\n",
    "        d_loss_d_x = grad_output @ self.weights.T\n",
    "        \n",
    "        return d_loss_d_x, np.r_[d_loss_d_w.ravel(), d_loss_d_b.ravel()]\n",
    "    \n",
    "    def __repr__(self):\n",
    "        return f'Dense({self.weights.shape[0]}, {self.weights.shape[1]})'"
   ]
  },
  {
   "cell_type": "markdown",
   "metadata": {
    "heading_collapsed": true,
    "hidden": true
   },
   "source": [
    "#### `Проверка градиента`"
   ]
  },
  {
   "cell_type": "markdown",
   "metadata": {
    "hidden": true
   },
   "source": [
    "Проверим правильность реализации с помощью функции численной проверки градиента. Функция `eval_numerical_gradient` принимает на вход callable объект `f` (функцию от одного аргумента-матрицы) и аргумент `x` и вычисляет приближенный градиент функции `f` в точке `x`."
   ]
  },
  {
   "cell_type": "code",
   "execution_count": 9,
   "metadata": {
    "hidden": true,
    "ExecuteTime": {
     "end_time": "2024-03-02T13:13:47.520887400Z",
     "start_time": "2024-03-02T13:13:47.453531300Z"
    }
   },
   "outputs": [],
   "source": [
    "def eval_numerical_gradient(f, x, verbose=False, h=0.00001):\n",
    "    \"\"\"\n",
    "    Evaluates gradient df/dx via finite differences:\n",
    "    df/dx ~ (f(x+h) - f(x-h)) / 2h\n",
    "    Adopted from https://github.com/ddtm/dl-course/\n",
    "    \"\"\"\n",
    "    fx = f(x) # evaluate function value at original point\n",
    "    grad = np.zeros_like(x)\n",
    "    # iterate over all indexes in x\n",
    "    it = np.nditer(x, flags=['multi_index'], op_flags=['readwrite'])\n",
    "    while not it.finished:\n",
    "\n",
    "        # evaluate function at x+h\n",
    "        ix = it.multi_index\n",
    "        oldval = x[ix]\n",
    "        x[ix] = oldval + h # increment by h\n",
    "        fxph = f(x) # evalute f(x + h)\n",
    "        x[ix] = oldval - h\n",
    "        fxmh = f(x) # evaluate f(x - h)\n",
    "        x[ix] = oldval # restore\n",
    "\n",
    "        # compute the partial derivative with centered formula\n",
    "        grad[ix] = (fxph - fxmh) / (2 * h) # the slope\n",
    "        if verbose:\n",
    "            print (ix, grad[ix])\n",
    "        it.iternext() # step to next dimension\n",
    "\n",
    "    return grad"
   ]
  },
  {
   "cell_type": "markdown",
   "metadata": {
    "hidden": true
   },
   "source": [
    "Вычислите аналитический и численный градиенты по входу слоя ReLU от функции\n",
    "$$ f(y) = \\sum_i y_i, \\quad y = ReLU(x) $$\n",
    "\n",
    "Выпишите аналитический градиент в этой ячейке:\n",
    "Пусть $x = (x_1, \\ldots, x_n)$\n",
    "\n",
    "$$ f(x) = \\sum_i \\left( ReLU(x) \\right)_i = \\sum_i max(0, x_i)$$\n",
    "$$f: \\mathbb{R} ^ {n \\times m} \\to \\mathbb{R}^{m}$$\n",
    "\n",
    "$$\\nabla_{x} f = \\chi (x), \\text{где } \\chi (s) = \\begin{cases} 1 \\; & s > 0 \\\\ 0 \\; & s \\le 0 \\end{cases}$$"
   ]
  },
  {
   "cell_type": "markdown",
   "metadata": {
    "hidden": true
   },
   "source": [
    "Следующая ячейка после заполнения должна не выдавать ошибку :)"
   ]
  },
  {
   "cell_type": "code",
   "execution_count": 11,
   "metadata": {
    "hidden": true,
    "ExecuteTime": {
     "end_time": "2024-03-02T13:14:26.253684100Z",
     "start_time": "2024-03-02T13:14:26.171165900Z"
    }
   },
   "outputs": [
    {
     "name": "stdout",
     "output_type": "stream",
     "text": [
      "grads.shape=(10, 12)\tnumeric_grads.shape=(10, 12)\n"
     ]
    }
   ],
   "source": [
    "relu = ReLU()\n",
    "points = np.linspace(-1, 1, 10*12).reshape([10, 12])\n",
    "\n",
    "def foo(x):\n",
    "    out = relu.forward(x)\n",
    "    return np.sum(out, axis=1)\n",
    "\n",
    "foo(points)\n",
    "grads = relu.backward(np.ones((10, 12)))[0]\n",
    "\n",
    "numeric_grads = np.zeros_like(points)\n",
    "for i in range(points.shape[0]):\n",
    "    numeric_grads[i, :] = eval_numerical_gradient(foo, points[i, :].reshape((1, -1)), verbose=False)\n",
    "\n",
    "print(f\"{grads.shape=}\\t{numeric_grads.shape=}\")\n",
    "\n",
    "assert np.allclose(grads, numeric_grads, rtol=1e-3, atol=0)"
   ]
  },
  {
   "cell_type": "markdown",
   "metadata": {
    "hidden": true
   },
   "source": [
    "Вычислите аналитический и численный градиенты по входу полносвязного слоя от функции\n",
    "$$ f(y) = \\sum_i y_i, \\quad y = W x + b $$\n",
    "\n",
    "Выпишите аналитический градиент в этой ячейке (советуем выписать градиент через дифференциал функции $f$):\n",
    "\n",
    "$$f(x) = <W x + b, \\mathbb{I}> = <W^{T} \\mathbb{I}, x> + <\\mathbb{I}, b>$$\n",
    "$$\\nabla_x f = W^{T} \\mathbb{I} = \\left(\\sum_{j=1}^{n} w_{ij} \\right)_{i=1}^{m} $$"
   ]
  },
  {
   "cell_type": "markdown",
   "metadata": {
    "hidden": true
   },
   "source": [
    "Следующая ячейка после заполнения должна не выдавать ошибку :)"
   ]
  },
  {
   "cell_type": "code",
   "execution_count": 13,
   "metadata": {
    "hidden": true,
    "ExecuteTime": {
     "end_time": "2024-03-02T13:18:54.508691900Z",
     "start_time": "2024-03-02T13:18:54.444543300Z"
    }
   },
   "outputs": [
    {
     "name": "stdout",
     "output_type": "stream",
     "text": [
      "grads.shape=(10, 12)\tnumeric_grads.shape=(10, 12)\n"
     ]
    }
   ],
   "source": [
    "linear = Dense(12, 32)\n",
    "points = np.linspace(-1, 1, 10*12).reshape([10, 12])\n",
    "\n",
    "def foo(x):\n",
    "    out = linear.forward(x)\n",
    "    return np.sum(out, axis=1)\n",
    "\n",
    "foo(points)\n",
    "grads = linear.backward(np.ones((10, 32)))[0]\n",
    "\n",
    "numeric_grads = np.zeros_like(points)\n",
    "for i in range(10):\n",
    "    numeric_grads[i, :] = eval_numerical_gradient(foo, points[i, :].reshape((1, -1)), verbose=False)\n",
    "\n",
    "print(f\"{grads.shape=}\\t{numeric_grads.shape=}\")\n",
    "\n",
    "# grads - numeric_grads\n",
    "\n",
    "assert np.allclose(grads, numeric_grads, rtol=1e-3, atol=0), np.max(np.abs(grads - numeric_grads))"
   ]
  },
  {
   "cell_type": "markdown",
   "metadata": {
    "heading_collapsed": true,
    "hidden": true
   },
   "source": [
    "#### `Реализация softmax-слоя и функции потерь`"
   ]
  },
  {
   "cell_type": "markdown",
   "metadata": {
    "hidden": true
   },
   "source": [
    "Для решения задачи многоклассовой классификации обычно используют $softmax$ в качестве нелинейности на последнем слое, чтобы получить вероятности классов для каждого объекта:\n",
    "$$\\hat y = softmax(x)  = \\left \\{\\frac {\\exp(x^i)}{\\sum_{j=1}^K \\exp(x^j)} \\right \\}_{i=1}^K, \\quad K - \\text{число классов.}$$\n",
    "\n",
    "Здесь за $x^i$ мы обозначаем $i$-ый признак объекта $x$.\n",
    "\n",
    "В качестве функции потерь выберем отрицательный логарифм правдоподобия (по английски: negative log likelihood или NLL)\n",
    "$$L(y, \\hat y) = -\\sum_{i=1}^K y^i \\log \\hat y^i,$$\n",
    "где $y^i = 1$, если объект принадлежит $i$-му классу, и $y^i = 0$ иначе.\n",
    "\n",
    "NLL совпадает с выражением для [кросс-энтропии](https://ru.wikipedia.org/wiki/Перекрёстная_энтропия) (в качестве первого распределения берем вырожденное распределение $y$, в качестве второго — предсказанное распределение $\\hat y$). Очевидно, что эту функцию потерь также можно переписать через индексацию, если через $y$ обозначить класс данного объекта:\n",
    "$$L(y, \\hat y) = - \\log \\hat y_{y}$$\n",
    "\n",
    "В таком виде ее удобно реализовывать."
   ]
  },
  {
   "cell_type": "markdown",
   "metadata": {
    "ExecuteTime": {
     "end_time": "2021-03-03T13:13:02.970075Z",
     "start_time": "2021-03-03T13:13:02.961134Z"
    },
    "hidden": true
   },
   "source": [
    "Для обучения нейронной сети будем оптимизировать эту функцию потерь по параметрам нейронной сети:\n",
    "\n",
    "$$ \\frac1N \\sum_{i=1}^N L(y_i, \\hat y_i) = \\frac1N \\sum_{i=1}^N L(y_i, \\text{NN}(x_i)) \\rightarrow \\min_{w}\\,,$$\n",
    "где за $x_i$ и $y_i$ мы обозначили признаки и таргет $i$-ого объекта обучающей выборки, за $\\text{NN}$ мы обозначили нейронную сеть, которая по признакам объекта $x_i$ выдает распределение вероятностей $\\hat y_i$, за $w$ мы обозначили все веса нейронной сети, а $N$ — это число объектов в обучающей выборке."
   ]
  },
  {
   "cell_type": "markdown",
   "metadata": {
    "hidden": true
   },
   "source": [
    "Реализуйте слой `LogSoftmax` (у этого слоя нет параметров). Метод `forward` должен вычислять логарифм от $softmax$, а метод `backward` — пропускать градиенты. В общем случае в промежуточных вычислениях `backward` получится трехмерный тензор, однако для нашей конкретной функции потерь все вычисления можно реализовать в матричном виде.  Поэтому мы будем предполагать, что аргумент `grad_output` — это матрица, у которой в каждой строке только одно ненулевое значение (не обязательно единица).\n",
    "\n",
    "**Пожелание.** Постарайтесь максимально упростить формулу градиентов, чтобы получился лаконичный и стабильный код. Большие и страшные реализации часто оказываются нестабильными."
   ]
  },
  {
   "cell_type": "code",
   "execution_count": 14,
   "metadata": {
    "hidden": true,
    "ExecuteTime": {
     "end_time": "2024-03-02T13:19:21.059122200Z",
     "start_time": "2024-03-02T13:19:20.980705700Z"
    }
   },
   "outputs": [],
   "source": [
    "from scipy.special import logsumexp\n",
    "# use this function instead of np.log(np.sum(np.exp(...))) because it is more stable"
   ]
  },
  {
   "cell_type": "code",
   "execution_count": 81,
   "metadata": {
    "hidden": true,
    "ExecuteTime": {
     "end_time": "2024-03-02T13:36:27.642272800Z",
     "start_time": "2024-03-02T13:36:27.555302800Z"
    }
   },
   "outputs": [],
   "source": [
    "class LogSoftmax(Layer):\n",
    "    def __init__(self):\n",
    "        super().__init__()\n",
    "        self.output = None\n",
    "\n",
    "    def forward(self, input):\n",
    "        \"\"\"\n",
    "        Applies softmax to each row and then applies component-wise log\n",
    "        Input shape: [batch, num_units]\n",
    "        Output shape: [batch, num_units]\n",
    "        \"\"\"\n",
    "        self.output = input - logsumexp(input, axis=-1, keepdims=True)\n",
    "        \n",
    "        return self.output\n",
    "        \n",
    "    def backward(self, grad_output):\n",
    "        \"\"\"\n",
    "        Propagartes gradients.\n",
    "        Assumes that each row of grad_output contains only 1 \n",
    "        non-zero element\n",
    "        Input shape: [batch, num_units]\n",
    "        Output shape: [batch, num_units]\n",
    "        Do not forget to return [] as second value (grad w.r.t. params)\n",
    "        \"\"\"\n",
    "        \n",
    "        if self.output is None:\n",
    "            raise RuntimeError('Call forward method before calling backward')\n",
    "        \n",
    "        grad_output_sum = np.sum(grad_output, axis=-1, keepdims=True)        \n",
    "        d_loss_d_x_2 = grad_output - grad_output_sum * np.exp(self.output)\n",
    "        \n",
    "        return d_loss_d_x_2, []\n",
    "        \n",
    "    \n",
    "    def __repr__(self):\n",
    "        return 'LogSoftmax()'"
   ]
  },
  {
   "cell_type": "markdown",
   "metadata": {
    "hidden": true
   },
   "source": [
    "Реализуйте функцию потерь и градиенты функции потерь. Во время вычисления NLL усредняйте (а не суммируйте) значения функции потерь по батчу. Обычно так делают для того, чтобы при двух запусках обучения нейронной сети с разными размерами батча получаемые значения функции потерь у этих сетей были сравнимы."
   ]
  },
  {
   "cell_type": "code",
   "execution_count": 20,
   "metadata": {
    "hidden": true,
    "ExecuteTime": {
     "end_time": "2024-03-02T13:20:25.592392800Z",
     "start_time": "2024-03-02T13:20:25.534876400Z"
    }
   },
   "outputs": [],
   "source": [
    "def NLL(activations, target):\n",
    "    \"\"\"\n",
    "    Returns negative log-likelihood of target under model represented by\n",
    "    activations (log probabilities of classes, it's just output of LogSoftmax layer).\n",
    "    `activations` has shape [batch, num_classes], `target` has shape [batch]\n",
    "    Output shape: 1 (scalar).\n",
    "    \"\"\"\n",
    "    \n",
    "    return -np.mean(activations[np.arange(len(target)), target])\n",
    "\n",
    "\n",
    "def grad_NLL(activations, target):\n",
    "    \"\"\"\n",
    "    Returns gradient of negative log-likelihood w.r.t. activations.\n",
    "    each arg has shape [batch, num_classes]\n",
    "    output shape: [batch, num-classes]\n",
    "    \"\"\"\n",
    "    \n",
    "    ohe_target = np.zeros_like(activations)\n",
    "    ohe_target[np.arange(len(target)), target] = 1\n",
    "    \n",
    "    return -ohe_target / len(target)"
   ]
  },
  {
   "cell_type": "markdown",
   "metadata": {
    "hidden": true
   },
   "source": [
    "Наконец, выполните проверку `LogSoftmax`-слоя, используя функцию потерь и ее градиент:"
   ]
  },
  {
   "cell_type": "code",
   "execution_count": 21,
   "metadata": {
    "hidden": true,
    "ExecuteTime": {
     "end_time": "2024-03-02T13:20:26.601540200Z",
     "start_time": "2024-03-02T13:20:26.537386600Z"
    }
   },
   "outputs": [
    {
     "name": "stdout",
     "output_type": "stream",
     "text": [
      "Max deviation: 3.1168190424424314e-11\n"
     ]
    }
   ],
   "source": [
    "n = 50\n",
    "d = 10\n",
    "lsm = LogSoftmax()\n",
    "np.random.seed(42)\n",
    "target = np.random.choice(d, size=n)\n",
    "points = np.random.uniform(-1, 1, n*d).reshape([n, d])\n",
    "\n",
    "def foo(x):\n",
    "    return NLL(lsm.forward(x), target)\n",
    "\n",
    "pred = lsm.forward(points)\n",
    "NLL(pred, target)\n",
    "grads, _ = lsm.backward(grad_NLL(pred, target))\n",
    "\n",
    "numeric_grads = eval_numerical_gradient(foo, points, verbose=False)\n",
    "\n",
    "print(f\"Max deviation: {np.max(np.abs(grads - numeric_grads))}\")\n",
    "\n",
    "assert np.allclose(grads, numeric_grads, rtol=1e-3, atol=0)"
   ]
  },
  {
   "cell_type": "markdown",
   "metadata": {
    "heading_collapsed": true,
    "hidden": true
   },
   "source": [
    "### `Загрузка данных`"
   ]
  },
  {
   "cell_type": "markdown",
   "metadata": {
    "hidden": true
   },
   "source": [
    "Мы реализаовали все архитектурные составляющие нашей нейронной сети. Осталось загрузить данные и обучить модель. Мы будем работать с датасетом `digits`, каждый объект в котором — это 8x8 изображение рукописной цифры."
   ]
  },
  {
   "cell_type": "code",
   "execution_count": 22,
   "metadata": {
    "hidden": true,
    "ExecuteTime": {
     "end_time": "2024-03-02T13:20:37.681575200Z",
     "start_time": "2024-03-02T13:20:37.413251100Z"
    }
   },
   "outputs": [],
   "source": [
    "import matplotlib.pyplot as plt\n",
    "%matplotlib inline"
   ]
  },
  {
   "cell_type": "code",
   "execution_count": 24,
   "metadata": {
    "hidden": true,
    "ExecuteTime": {
     "end_time": "2024-03-02T13:20:50.107852900Z",
     "start_time": "2024-03-02T13:20:49.798351800Z"
    }
   },
   "outputs": [],
   "source": [
    "from sklearn.datasets import load_digits"
   ]
  },
  {
   "cell_type": "code",
   "execution_count": 25,
   "metadata": {
    "hidden": true,
    "ExecuteTime": {
     "end_time": "2024-03-02T13:20:50.268606800Z",
     "start_time": "2024-03-02T13:20:50.215278500Z"
    }
   },
   "outputs": [
    {
     "data": {
      "text/plain": "((1797, 64), (1797,))"
     },
     "execution_count": 25,
     "metadata": {},
     "output_type": "execute_result"
    }
   ],
   "source": [
    "X, y = load_digits(return_X_y=True)\n",
    "X.shape, y.shape"
   ]
  },
  {
   "cell_type": "markdown",
   "metadata": {
    "hidden": true
   },
   "source": [
    "Разделим данные на обучение и контроль:"
   ]
  },
  {
   "cell_type": "code",
   "execution_count": 26,
   "metadata": {
    "hidden": true,
    "ExecuteTime": {
     "end_time": "2024-03-02T13:21:00.267713700Z",
     "start_time": "2024-03-02T13:21:00.209081200Z"
    }
   },
   "outputs": [],
   "source": [
    "from sklearn.model_selection import train_test_split"
   ]
  },
  {
   "cell_type": "code",
   "execution_count": 27,
   "metadata": {
    "hidden": true,
    "ExecuteTime": {
     "end_time": "2024-03-02T13:21:00.814313Z",
     "start_time": "2024-03-02T13:21:00.731160900Z"
    }
   },
   "outputs": [],
   "source": [
    "X_train, X_test, y_train, y_test = train_test_split(X, y, random_state=0)"
   ]
  },
  {
   "cell_type": "code",
   "execution_count": 28,
   "metadata": {
    "hidden": true,
    "ExecuteTime": {
     "end_time": "2024-03-02T13:21:01.259041600Z",
     "start_time": "2024-03-02T13:21:01.189023100Z"
    }
   },
   "outputs": [
    {
     "data": {
      "text/plain": "((1347, 64), (450, 64))"
     },
     "execution_count": 28,
     "metadata": {},
     "output_type": "execute_result"
    }
   ],
   "source": [
    "X_train.shape, X_test.shape"
   ]
  },
  {
   "cell_type": "code",
   "outputs": [
    {
     "data": {
      "text/plain": "<Figure size 1000x1000 with 9 Axes>",
      "image/png": "[encoded data removed]"
     },
     "metadata": {},
     "output_type": "display_data"
    }
   ],
   "source": [
    "_, ax = plt.subplots(nrows=3, ncols=3, figsize=(10, 10))\n",
    "\n",
    "for i in range(9):\n",
    "    ax[divmod(i, 3)].imshow(X[i, :].reshape((8, 8)), cmap=plt.get_cmap(\"gray\"))\n",
    "    ax[divmod(i, 3)].set_title(y[i])"
   ],
   "metadata": {
    "collapsed": false,
    "ExecuteTime": {
     "end_time": "2024-03-02T13:21:08.981967Z",
     "start_time": "2024-03-02T13:21:07.778170400Z"
    }
   },
   "execution_count": 29
  },
  {
   "cell_type": "markdown",
   "metadata": {
    "heading_collapsed": true,
    "hidden": true
   },
   "source": [
    "### `Сборка и обучение нейронной сети (0.8 балла)`"
   ]
  },
  {
   "cell_type": "markdown",
   "metadata": {
    "hidden": true
   },
   "source": [
    "В нашей реализации мы представляем нейронную сеть в виде списка ее слоев. Например, следующая функция конструирует нейронную сеть заданной ширины (то есть с заданным размером скрытых слоев) и глубины (то есть с заданным количеством слоев) с заданным размером входа и выхода, а также с заданной функцией активации между линейными слоями."
   ]
  },
  {
   "cell_type": "code",
   "execution_count": 30,
   "metadata": {
    "hidden": true,
    "ExecuteTime": {
     "end_time": "2024-03-02T13:21:16.303881500Z",
     "start_time": "2024-03-02T13:21:16.252368800Z"
    }
   },
   "outputs": [],
   "source": [
    "def make_network(input_size, hidden_layers_size, output_size, n_layers=3, activation_class=ReLU):\n",
    "    network = []\n",
    "\n",
    "    for layer_idx in range(n_layers):\n",
    "        # Compute sizes of current linear layer\n",
    "        layer_in = input_size if layer_idx == 0 else hidden_layers_size\n",
    "        layer_out = output_size if layer_idx == n_layers - 1 else hidden_layers_size\n",
    "        \n",
    "        # Add linear layer to the network\n",
    "        network.append(Dense(layer_in, layer_out))\n",
    "\n",
    "        # Add activation after each layer except the last one\n",
    "        if layer_idx != n_layers - 1:\n",
    "            network.append(activation_class())\n",
    "\n",
    "    # Add LogSoftmax layer to the network\n",
    "    network.append(LogSoftmax())\n",
    "\n",
    "    return network"
   ]
  },
  {
   "cell_type": "code",
   "execution_count": 31,
   "metadata": {
    "hidden": true,
    "ExecuteTime": {
     "end_time": "2024-03-02T13:21:16.885441700Z",
     "start_time": "2024-03-02T13:21:16.816427900Z"
    }
   },
   "outputs": [
    {
     "data": {
      "text/plain": "[Dense(64, 32), Relu(), Dense(32, 32), Relu(), Dense(32, 10), LogSoftmax()]"
     },
     "execution_count": 31,
     "metadata": {},
     "output_type": "execute_result"
    }
   ],
   "source": [
    "input_size = X_train.shape[1]\n",
    "hidden_layers_size = 32\n",
    "output_size = 10\n",
    "\n",
    "network = make_network(input_size, hidden_layers_size, output_size, 3, ReLU)\n",
    "network"
   ]
  },
  {
   "cell_type": "markdown",
   "metadata": {
    "hidden": true
   },
   "source": [
    "Реализуйте функцию, которая выполнет прямой проход по нейронной сети:"
   ]
  },
  {
   "cell_type": "code",
   "execution_count": 32,
   "metadata": {
    "hidden": true,
    "ExecuteTime": {
     "end_time": "2024-03-02T13:21:25.330596500Z",
     "start_time": "2024-03-02T13:21:25.274084100Z"
    }
   },
   "outputs": [],
   "source": [
    "def forward(network: List[Layer], X):\n",
    "    \"\"\"\n",
    "    Perform forward pass through the network.\n",
    "    \n",
    "    network: list of layers\n",
    "    X: raw data\n",
    "    X shape: [batch, features_num]\n",
    "\n",
    "    output: \n",
    "    output shape: [batch, out_features_num]\n",
    "    \"\"\"\n",
    "    \n",
    "    for layer in network:\n",
    "        X = layer.forward(X)\n",
    "    \n",
    "    return X"
   ]
  },
  {
   "cell_type": "markdown",
   "metadata": {
    "hidden": true
   },
   "source": [
    "Для проверки, хорошо ли сеть обучилась, нам понадобится вычислять долю правильных ответов (accuracy) на данной выборке. Для этого реализуйте функцию, которая делает предсказания на каждом объекте (логично в качестве предсказания на очередном объекте выдавать тот класс, для которого предсказанный логарифм вероятности максимален):"
   ]
  },
  {
   "cell_type": "code",
   "execution_count": 33,
   "metadata": {
    "hidden": true,
    "ExecuteTime": {
     "end_time": "2024-03-02T13:21:30.803161400Z",
     "start_time": "2024-03-02T13:21:30.751792300Z"
    }
   },
   "outputs": [],
   "source": [
    "def predict(network: List[Layer], X):\n",
    "    \"\"\"\n",
    "    Returns predictions for each object in X.\n",
    "    \n",
    "    network: list of layers\n",
    "    X: raw data\n",
    "    X shape: [batch, features_num]\n",
    "\n",
    "    output: array of classes, each from 0 to 9\n",
    "    output shape: [batch]\n",
    "    \"\"\"\n",
    "    \n",
    "    pred = forward(network, X)\n",
    "    \n",
    "    return np.argmax(pred, axis=1, keepdims=True)"
   ]
  },
  {
   "cell_type": "markdown",
   "metadata": {
    "hidden": true
   },
   "source": [
    "Мы будем обучать параметры нейросети с помощью готовой функции оптимизации из модуля `scipy`:"
   ]
  },
  {
   "cell_type": "code",
   "execution_count": 34,
   "metadata": {
    "hidden": true,
    "ExecuteTime": {
     "end_time": "2024-03-02T13:21:32.759878900Z",
     "start_time": "2024-03-02T13:21:32.706366600Z"
    }
   },
   "outputs": [],
   "source": [
    "from scipy.optimize import minimize"
   ]
  },
  {
   "cell_type": "code",
   "execution_count": 35,
   "metadata": {
    "hidden": true,
    "scrolled": true,
    "ExecuteTime": {
     "end_time": "2024-03-02T13:21:33.321229800Z",
     "start_time": "2024-03-02T13:21:33.256131100Z"
    }
   },
   "outputs": [
    {
     "name": "stdout",
     "output_type": "stream",
     "text": [
      "Help on function minimize in module scipy.optimize._minimize:\n",
      "\n",
      "minimize(fun, x0, args=(), method=None, jac=None, hess=None, hessp=None, bounds=None, constraints=(), tol=None, callback=None, options=None)\n",
      "    Minimization of scalar function of one or more variables.\n",
      "    \n",
      "    Parameters\n",
      "    ----------\n",
      "    fun : callable\n",
      "        The objective function to be minimized.\n",
      "    \n",
      "            ``fun(x, *args) -> float``\n",
      "    \n",
      "        where ``x`` is a 1-D array with shape (n,) and ``args``\n",
      "        is a tuple of the fixed parameters needed to completely\n",
      "        specify the function.\n",
      "    x0 : ndarray, shape (n,)\n",
      "        Initial guess. Array of real elements of size (n,),\n",
      "        where ``n`` is the number of independent variables.\n",
      "    args : tuple, optional\n",
      "        Extra arguments passed to the objective function and its\n",
      "        derivatives (`fun`, `jac` and `hess` functions).\n",
      "    method : str or callable, optional\n",
      "        Type of solver.  Should be one of\n",
      "    \n",
      "            - 'Nelder-Mead' :ref:`(see here) <optimize.minimize-neldermead>`\n",
      "            - 'Powell'      :ref:`(see here) <optimize.minimize-powell>`\n",
      "            - 'CG'          :ref:`(see here) <optimize.minimize-cg>`\n",
      "            - 'BFGS'        :ref:`(see here) <optimize.minimize-bfgs>`\n",
      "            - 'Newton-CG'   :ref:`(see here) <optimize.minimize-newtoncg>`\n",
      "            - 'L-BFGS-B'    :ref:`(see here) <optimize.minimize-lbfgsb>`\n",
      "            - 'TNC'         :ref:`(see here) <optimize.minimize-tnc>`\n",
      "            - 'COBYLA'      :ref:`(see here) <optimize.minimize-cobyla>`\n",
      "            - 'SLSQP'       :ref:`(see here) <optimize.minimize-slsqp>`\n",
      "            - 'trust-constr':ref:`(see here) <optimize.minimize-trustconstr>`\n",
      "            - 'dogleg'      :ref:`(see here) <optimize.minimize-dogleg>`\n",
      "            - 'trust-ncg'   :ref:`(see here) <optimize.minimize-trustncg>`\n",
      "            - 'trust-exact' :ref:`(see here) <optimize.minimize-trustexact>`\n",
      "            - 'trust-krylov' :ref:`(see here) <optimize.minimize-trustkrylov>`\n",
      "            - custom - a callable object, see below for description.\n",
      "    \n",
      "        If not given, chosen to be one of ``BFGS``, ``L-BFGS-B``, ``SLSQP``,\n",
      "        depending on whether or not the problem has constraints or bounds.\n",
      "    jac : {callable,  '2-point', '3-point', 'cs', bool}, optional\n",
      "        Method for computing the gradient vector. Only for CG, BFGS,\n",
      "        Newton-CG, L-BFGS-B, TNC, SLSQP, dogleg, trust-ncg, trust-krylov,\n",
      "        trust-exact and trust-constr.\n",
      "        If it is a callable, it should be a function that returns the gradient\n",
      "        vector:\n",
      "    \n",
      "            ``jac(x, *args) -> array_like, shape (n,)``\n",
      "    \n",
      "        where ``x`` is an array with shape (n,) and ``args`` is a tuple with\n",
      "        the fixed parameters. If `jac` is a Boolean and is True, `fun` is\n",
      "        assumed to return a tuple ``(f, g)`` containing the objective\n",
      "        function and the gradient.\n",
      "        Methods 'Newton-CG', 'trust-ncg', 'dogleg', 'trust-exact', and\n",
      "        'trust-krylov' require that either a callable be supplied, or that\n",
      "        `fun` return the objective and gradient.\n",
      "        If None or False, the gradient will be estimated using 2-point finite\n",
      "        difference estimation with an absolute step size.\n",
      "        Alternatively, the keywords  {'2-point', '3-point', 'cs'} can be used\n",
      "        to select a finite difference scheme for numerical estimation of the\n",
      "        gradient with a relative step size. These finite difference schemes\n",
      "        obey any specified `bounds`.\n",
      "    hess : {callable, '2-point', '3-point', 'cs', HessianUpdateStrategy}, optional\n",
      "        Method for computing the Hessian matrix. Only for Newton-CG, dogleg,\n",
      "        trust-ncg, trust-krylov, trust-exact and trust-constr.\n",
      "        If it is callable, it should return the Hessian matrix:\n",
      "    \n",
      "            ``hess(x, *args) -> {LinearOperator, spmatrix, array}, (n, n)``\n",
      "    \n",
      "        where ``x`` is a (n,) ndarray and ``args`` is a tuple with the fixed\n",
      "        parameters.\n",
      "        The keywords {'2-point', '3-point', 'cs'} can also be used to select\n",
      "        a finite difference scheme for numerical estimation of the hessian.\n",
      "        Alternatively, objects implementing the `HessianUpdateStrategy`\n",
      "        interface can be used to approximate the Hessian. Available\n",
      "        quasi-Newton methods implementing this interface are:\n",
      "    \n",
      "            - `BFGS`;\n",
      "            - `SR1`.\n",
      "    \n",
      "        Not all of the options are available for each of the methods; for\n",
      "        availability refer to the notes.\n",
      "    hessp : callable, optional\n",
      "        Hessian of objective function times an arbitrary vector p. Only for\n",
      "        Newton-CG, trust-ncg, trust-krylov, trust-constr.\n",
      "        Only one of `hessp` or `hess` needs to be given. If `hess` is\n",
      "        provided, then `hessp` will be ignored. `hessp` must compute the\n",
      "        Hessian times an arbitrary vector:\n",
      "    \n",
      "            ``hessp(x, p, *args) ->  ndarray shape (n,)``\n",
      "    \n",
      "        where ``x`` is a (n,) ndarray, ``p`` is an arbitrary vector with\n",
      "        dimension (n,) and ``args`` is a tuple with the fixed\n",
      "        parameters.\n",
      "    bounds : sequence or `Bounds`, optional\n",
      "        Bounds on variables for Nelder-Mead, L-BFGS-B, TNC, SLSQP, Powell, and\n",
      "        trust-constr methods. There are two ways to specify the bounds:\n",
      "    \n",
      "            1. Instance of `Bounds` class.\n",
      "            2. Sequence of ``(min, max)`` pairs for each element in `x`. None\n",
      "               is used to specify no bound.\n",
      "    \n",
      "    constraints : {Constraint, dict} or List of {Constraint, dict}, optional\n",
      "        Constraints definition. Only for COBYLA, SLSQP and trust-constr.\n",
      "    \n",
      "        Constraints for 'trust-constr' are defined as a single object or a\n",
      "        list of objects specifying constraints to the optimization problem.\n",
      "        Available constraints are:\n",
      "    \n",
      "            - `LinearConstraint`\n",
      "            - `NonlinearConstraint`\n",
      "    \n",
      "        Constraints for COBYLA, SLSQP are defined as a list of dictionaries.\n",
      "        Each dictionary with fields:\n",
      "    \n",
      "            type : str\n",
      "                Constraint type: 'eq' for equality, 'ineq' for inequality.\n",
      "            fun : callable\n",
      "                The function defining the constraint.\n",
      "            jac : callable, optional\n",
      "                The Jacobian of `fun` (only for SLSQP).\n",
      "            args : sequence, optional\n",
      "                Extra arguments to be passed to the function and Jacobian.\n",
      "    \n",
      "        Equality constraint means that the constraint function result is to\n",
      "        be zero whereas inequality means that it is to be non-negative.\n",
      "        Note that COBYLA only supports inequality constraints.\n",
      "    tol : float, optional\n",
      "        Tolerance for termination. When `tol` is specified, the selected\n",
      "        minimization algorithm sets some relevant solver-specific tolerance(s)\n",
      "        equal to `tol`. For detailed control, use solver-specific\n",
      "        options.\n",
      "    options : dict, optional\n",
      "        A dictionary of solver options. All methods except `TNC` accept the\n",
      "        following generic options:\n",
      "    \n",
      "            maxiter : int\n",
      "                Maximum number of iterations to perform. Depending on the\n",
      "                method each iteration may use several function evaluations.\n",
      "    \n",
      "                For `TNC` use `maxfun` instead of `maxiter`.\n",
      "            disp : bool\n",
      "                Set to True to print convergence messages.\n",
      "    \n",
      "        For method-specific options, see :func:`show_options()`.\n",
      "    callback : callable, optional\n",
      "        Called after each iteration. For 'trust-constr' it is a callable with\n",
      "        the signature:\n",
      "    \n",
      "            ``callback(xk, OptimizeResult state) -> bool``\n",
      "    \n",
      "        where ``xk`` is the current parameter vector. and ``state``\n",
      "        is an `OptimizeResult` object, with the same fields\n",
      "        as the ones from the return. If callback returns True\n",
      "        the algorithm execution is terminated.\n",
      "        For all the other methods, the signature is:\n",
      "    \n",
      "            ``callback(xk)``\n",
      "    \n",
      "        where ``xk`` is the current parameter vector.\n",
      "    \n",
      "    Returns\n",
      "    -------\n",
      "    res : OptimizeResult\n",
      "        The optimization result represented as a ``OptimizeResult`` object.\n",
      "        Important attributes are: ``x`` the solution array, ``success`` a\n",
      "        Boolean flag indicating if the optimizer exited successfully and\n",
      "        ``message`` which describes the cause of the termination. See\n",
      "        `OptimizeResult` for a description of other attributes.\n",
      "    \n",
      "    See also\n",
      "    --------\n",
      "    minimize_scalar : Interface to minimization algorithms for scalar\n",
      "        univariate functions\n",
      "    show_options : Additional options accepted by the solvers\n",
      "    \n",
      "    Notes\n",
      "    -----\n",
      "    This section describes the available solvers that can be selected by the\n",
      "    'method' parameter. The default method is *BFGS*.\n",
      "    \n",
      "    **Unconstrained minimization**\n",
      "    \n",
      "    Method :ref:`CG <optimize.minimize-cg>` uses a nonlinear conjugate\n",
      "    gradient algorithm by Polak and Ribiere, a variant of the\n",
      "    Fletcher-Reeves method described in [5]_ pp.120-122. Only the\n",
      "    first derivatives are used.\n",
      "    \n",
      "    Method :ref:`BFGS <optimize.minimize-bfgs>` uses the quasi-Newton\n",
      "    method of Broyden, Fletcher, Goldfarb, and Shanno (BFGS) [5]_\n",
      "    pp. 136. It uses the first derivatives only. BFGS has proven good\n",
      "    performance even for non-smooth optimizations. This method also\n",
      "    returns an approximation of the Hessian inverse, stored as\n",
      "    `hess_inv` in the OptimizeResult object.\n",
      "    \n",
      "    Method :ref:`Newton-CG <optimize.minimize-newtoncg>` uses a\n",
      "    Newton-CG algorithm [5]_ pp. 168 (also known as the truncated\n",
      "    Newton method). It uses a CG method to the compute the search\n",
      "    direction. See also *TNC* method for a box-constrained\n",
      "    minimization with a similar algorithm. Suitable for large-scale\n",
      "    problems.\n",
      "    \n",
      "    Method :ref:`dogleg <optimize.minimize-dogleg>` uses the dog-leg\n",
      "    trust-region algorithm [5]_ for unconstrained minimization. This\n",
      "    algorithm requires the gradient and Hessian; furthermore the\n",
      "    Hessian is required to be positive definite.\n",
      "    \n",
      "    Method :ref:`trust-ncg <optimize.minimize-trustncg>` uses the\n",
      "    Newton conjugate gradient trust-region algorithm [5]_ for\n",
      "    unconstrained minimization. This algorithm requires the gradient\n",
      "    and either the Hessian or a function that computes the product of\n",
      "    the Hessian with a given vector. Suitable for large-scale problems.\n",
      "    \n",
      "    Method :ref:`trust-krylov <optimize.minimize-trustkrylov>` uses\n",
      "    the Newton GLTR trust-region algorithm [14]_, [15]_ for unconstrained\n",
      "    minimization. This algorithm requires the gradient\n",
      "    and either the Hessian or a function that computes the product of\n",
      "    the Hessian with a given vector. Suitable for large-scale problems.\n",
      "    On indefinite problems it requires usually less iterations than the\n",
      "    `trust-ncg` method and is recommended for medium and large-scale problems.\n",
      "    \n",
      "    Method :ref:`trust-exact <optimize.minimize-trustexact>`\n",
      "    is a trust-region method for unconstrained minimization in which\n",
      "    quadratic subproblems are solved almost exactly [13]_. This\n",
      "    algorithm requires the gradient and the Hessian (which is\n",
      "    *not* required to be positive definite). It is, in many\n",
      "    situations, the Newton method to converge in fewer iterations\n",
      "    and the most recommended for small and medium-size problems.\n",
      "    \n",
      "    **Bound-Constrained minimization**\n",
      "    \n",
      "    Method :ref:`Nelder-Mead <optimize.minimize-neldermead>` uses the\n",
      "    Simplex algorithm [1]_, [2]_. This algorithm is robust in many\n",
      "    applications. However, if numerical computation of derivative can be\n",
      "    trusted, other algorithms using the first and/or second derivatives\n",
      "    information might be preferred for their better performance in\n",
      "    general.\n",
      "    \n",
      "    Method :ref:`L-BFGS-B <optimize.minimize-lbfgsb>` uses the L-BFGS-B\n",
      "    algorithm [6]_, [7]_ for bound constrained minimization.\n",
      "    \n",
      "    Method :ref:`Powell <optimize.minimize-powell>` is a modification\n",
      "    of Powell's method [3]_, [4]_ which is a conjugate direction\n",
      "    method. It performs sequential one-dimensional minimizations along\n",
      "    each vector of the directions set (`direc` field in `options` and\n",
      "    `info`), which is updated at each iteration of the main\n",
      "    minimization loop. The function need not be differentiable, and no\n",
      "    derivatives are taken. If bounds are not provided, then an\n",
      "    unbounded line search will be used. If bounds are provided and\n",
      "    the initial guess is within the bounds, then every function\n",
      "    evaluation throughout the minimization procedure will be within\n",
      "    the bounds. If bounds are provided, the initial guess is outside\n",
      "    the bounds, and `direc` is full rank (default has full rank), then\n",
      "    some function evaluations during the first iteration may be\n",
      "    outside the bounds, but every function evaluation after the first\n",
      "    iteration will be within the bounds. If `direc` is not full rank,\n",
      "    then some parameters may not be optimized and the solution is not\n",
      "    guaranteed to be within the bounds.\n",
      "    \n",
      "    Method :ref:`TNC <optimize.minimize-tnc>` uses a truncated Newton\n",
      "    algorithm [5]_, [8]_ to minimize a function with variables subject\n",
      "    to bounds. This algorithm uses gradient information; it is also\n",
      "    called Newton Conjugate-Gradient. It differs from the *Newton-CG*\n",
      "    method described above as it wraps a C implementation and allows\n",
      "    each variable to be given upper and lower bounds.\n",
      "    \n",
      "    **Constrained Minimization**\n",
      "    \n",
      "    Method :ref:`COBYLA <optimize.minimize-cobyla>` uses the\n",
      "    Constrained Optimization BY Linear Approximation (COBYLA) method\n",
      "    [9]_, [10]_, [11]_. The algorithm is based on linear\n",
      "    approximations to the objective function and each constraint. The\n",
      "    method wraps a FORTRAN implementation of the algorithm. The\n",
      "    constraints functions 'fun' may return either a single number\n",
      "    or an array or list of numbers.\n",
      "    \n",
      "    Method :ref:`SLSQP <optimize.minimize-slsqp>` uses Sequential\n",
      "    Least SQuares Programming to minimize a function of several\n",
      "    variables with any combination of bounds, equality and inequality\n",
      "    constraints. The method wraps the SLSQP Optimization subroutine\n",
      "    originally implemented by Dieter Kraft [12]_. Note that the\n",
      "    wrapper handles infinite values in bounds by converting them into\n",
      "    large floating values.\n",
      "    \n",
      "    Method :ref:`trust-constr <optimize.minimize-trustconstr>` is a\n",
      "    trust-region algorithm for constrained optimization. It swiches\n",
      "    between two implementations depending on the problem definition.\n",
      "    It is the most versatile constrained minimization algorithm\n",
      "    implemented in SciPy and the most appropriate for large-scale problems.\n",
      "    For equality constrained problems it is an implementation of Byrd-Omojokun\n",
      "    Trust-Region SQP method described in [17]_ and in [5]_, p. 549. When\n",
      "    inequality constraints are imposed as well, it swiches to the trust-region\n",
      "    interior point method described in [16]_. This interior point algorithm,\n",
      "    in turn, solves inequality constraints by introducing slack variables\n",
      "    and solving a sequence of equality-constrained barrier problems\n",
      "    for progressively smaller values of the barrier parameter.\n",
      "    The previously described equality constrained SQP method is\n",
      "    used to solve the subproblems with increasing levels of accuracy\n",
      "    as the iterate gets closer to a solution.\n",
      "    \n",
      "    **Finite-Difference Options**\n",
      "    \n",
      "    For Method :ref:`trust-constr <optimize.minimize-trustconstr>`\n",
      "    the gradient and the Hessian may be approximated using\n",
      "    three finite-difference schemes: {'2-point', '3-point', 'cs'}.\n",
      "    The scheme 'cs' is, potentially, the most accurate but it\n",
      "    requires the function to correctly handle complex inputs and to\n",
      "    be differentiable in the complex plane. The scheme '3-point' is more\n",
      "    accurate than '2-point' but requires twice as many operations. If the\n",
      "    gradient is estimated via finite-differences the Hessian must be\n",
      "    estimated using one of the quasi-Newton strategies.\n",
      "    \n",
      "    **Method specific options for the** `hess` **keyword**\n",
      "    \n",
      "    +--------------+------+----------+-------------------------+-----+\n",
      "    | method/Hess  | None | callable | '2-point/'3-point'/'cs' | HUS |\n",
      "    +==============+======+==========+=========================+=====+\n",
      "    | Newton-CG    | x    | (n, n)   | x                       | x   |\n",
      "    |              |      | LO       |                         |     |\n",
      "    +--------------+------+----------+-------------------------+-----+\n",
      "    | dogleg       |      | (n, n)   |                         |     |\n",
      "    +--------------+------+----------+-------------------------+-----+\n",
      "    | trust-ncg    |      | (n, n)   | x                       | x   |\n",
      "    +--------------+------+----------+-------------------------+-----+\n",
      "    | trust-krylov |      | (n, n)   | x                       | x   |\n",
      "    +--------------+------+----------+-------------------------+-----+\n",
      "    | trust-exact  |      | (n, n)   |                         |     |\n",
      "    +--------------+------+----------+-------------------------+-----+\n",
      "    | trust-constr | x    | (n, n)   |  x                      | x   |\n",
      "    |              |      | LO       |                         |     |\n",
      "    |              |      | sp       |                         |     |\n",
      "    +--------------+------+----------+-------------------------+-----+\n",
      "    \n",
      "    where LO=LinearOperator, sp=Sparse matrix, HUS=HessianUpdateStrategy\n",
      "    \n",
      "    **Custom minimizers**\n",
      "    \n",
      "    It may be useful to pass a custom minimization method, for example\n",
      "    when using a frontend to this method such as `scipy.optimize.basinhopping`\n",
      "    or a different library.  You can simply pass a callable as the ``method``\n",
      "    parameter.\n",
      "    \n",
      "    The callable is called as ``method(fun, x0, args, **kwargs, **options)``\n",
      "    where ``kwargs`` corresponds to any other parameters passed to `minimize`\n",
      "    (such as `callback`, `hess`, etc.), except the `options` dict, which has\n",
      "    its contents also passed as `method` parameters pair by pair.  Also, if\n",
      "    `jac` has been passed as a bool type, `jac` and `fun` are mangled so that\n",
      "    `fun` returns just the function values and `jac` is converted to a function\n",
      "    returning the Jacobian.  The method shall return an `OptimizeResult`\n",
      "    object.\n",
      "    \n",
      "    The provided `method` callable must be able to accept (and possibly ignore)\n",
      "    arbitrary parameters; the set of parameters accepted by `minimize` may\n",
      "    expand in future versions and then these parameters will be passed to\n",
      "    the method.  You can find an example in the scipy.optimize tutorial.\n",
      "    \n",
      "    References\n",
      "    ----------\n",
      "    .. [1] Nelder, J A, and R Mead. 1965. A Simplex Method for Function\n",
      "        Minimization. The Computer Journal 7: 308-13.\n",
      "    .. [2] Wright M H. 1996. Direct search methods: Once scorned, now\n",
      "        respectable, in Numerical Analysis 1995: Proceedings of the 1995\n",
      "        Dundee Biennial Conference in Numerical Analysis (Eds. D F\n",
      "        Griffiths and G A Watson). Addison Wesley Longman, Harlow, UK.\n",
      "        191-208.\n",
      "    .. [3] Powell, M J D. 1964. An efficient method for finding the minimum of\n",
      "       a function of several variables without calculating derivatives. The\n",
      "       Computer Journal 7: 155-162.\n",
      "    .. [4] Press W, S A Teukolsky, W T Vetterling and B P Flannery.\n",
      "       Numerical Recipes (any edition), Cambridge University Press.\n",
      "    .. [5] Nocedal, J, and S J Wright. 2006. Numerical Optimization.\n",
      "       Springer New York.\n",
      "    .. [6] Byrd, R H and P Lu and J. Nocedal. 1995. A Limited Memory\n",
      "       Algorithm for Bound Constrained Optimization. SIAM Journal on\n",
      "       Scientific and Statistical Computing 16 (5): 1190-1208.\n",
      "    .. [7] Zhu, C and R H Byrd and J Nocedal. 1997. L-BFGS-B: Algorithm\n",
      "       778: L-BFGS-B, FORTRAN routines for large scale bound constrained\n",
      "       optimization. ACM Transactions on Mathematical Software 23 (4):\n",
      "       550-560.\n",
      "    .. [8] Nash, S G. Newton-Type Minimization Via the Lanczos Method.\n",
      "       1984. SIAM Journal of Numerical Analysis 21: 770-778.\n",
      "    .. [9] Powell, M J D. A direct search optimization method that models\n",
      "       the objective and constraint functions by linear interpolation.\n",
      "       1994. Advances in Optimization and Numerical Analysis, eds. S. Gomez\n",
      "       and J-P Hennart, Kluwer Academic (Dordrecht), 51-67.\n",
      "    .. [10] Powell M J D. Direct search algorithms for optimization\n",
      "       calculations. 1998. Acta Numerica 7: 287-336.\n",
      "    .. [11] Powell M J D. A view of algorithms for optimization without\n",
      "       derivatives. 2007.Cambridge University Technical Report DAMTP\n",
      "       2007/NA03\n",
      "    .. [12] Kraft, D. A software package for sequential quadratic\n",
      "       programming. 1988. Tech. Rep. DFVLR-FB 88-28, DLR German Aerospace\n",
      "       Center -- Institute for Flight Mechanics, Koln, Germany.\n",
      "    .. [13] Conn, A. R., Gould, N. I., and Toint, P. L.\n",
      "       Trust region methods. 2000. Siam. pp. 169-200.\n",
      "    .. [14] F. Lenders, C. Kirches, A. Potschka: \"trlib: A vector-free\n",
      "       implementation of the GLTR method for iterative solution of\n",
      "       the trust region problem\", :arxiv:`1611.04718`\n",
      "    .. [15] N. Gould, S. Lucidi, M. Roma, P. Toint: \"Solving the\n",
      "       Trust-Region Subproblem using the Lanczos Method\",\n",
      "       SIAM J. Optim., 9(2), 504--525, (1999).\n",
      "    .. [16] Byrd, Richard H., Mary E. Hribar, and Jorge Nocedal. 1999.\n",
      "        An interior point algorithm for large-scale nonlinear  programming.\n",
      "        SIAM Journal on Optimization 9.4: 877-900.\n",
      "    .. [17] Lalee, Marucha, Jorge Nocedal, and Todd Plantega. 1998. On the\n",
      "        implementation of an algorithm for large-scale equality constrained\n",
      "        optimization. SIAM Journal on Optimization 8.3: 682-706.\n",
      "    \n",
      "    Examples\n",
      "    --------\n",
      "    Let us consider the problem of minimizing the Rosenbrock function. This\n",
      "    function (and its respective derivatives) is implemented in `rosen`\n",
      "    (resp. `rosen_der`, `rosen_hess`) in the `scipy.optimize`.\n",
      "    \n",
      "    >>> from scipy.optimize import minimize, rosen, rosen_der\n",
      "    \n",
      "    A simple application of the *Nelder-Mead* method is:\n",
      "    \n",
      "    >>> x0 = [1.3, 0.7, 0.8, 1.9, 1.2]\n",
      "    >>> res = minimize(rosen, x0, method='Nelder-Mead', tol=1e-6)\n",
      "    >>> res.x\n",
      "    array([ 1.,  1.,  1.,  1.,  1.])\n",
      "    \n",
      "    Now using the *BFGS* algorithm, using the first derivative and a few\n",
      "    options:\n",
      "    \n",
      "    >>> res = minimize(rosen, x0, method='BFGS', jac=rosen_der,\n",
      "    ...                options={'gtol': 1e-6, 'disp': True})\n",
      "    Optimization terminated successfully.\n",
      "             Current function value: 0.000000\n",
      "             Iterations: 26\n",
      "             Function evaluations: 31\n",
      "             Gradient evaluations: 31\n",
      "    >>> res.x\n",
      "    array([ 1.,  1.,  1.,  1.,  1.])\n",
      "    >>> print(res.message)\n",
      "    Optimization terminated successfully.\n",
      "    >>> res.hess_inv\n",
      "    array([[ 0.00749589,  0.01255155,  0.02396251,  0.04750988,  0.09495377],  # may vary\n",
      "           [ 0.01255155,  0.02510441,  0.04794055,  0.09502834,  0.18996269],\n",
      "           [ 0.02396251,  0.04794055,  0.09631614,  0.19092151,  0.38165151],\n",
      "           [ 0.04750988,  0.09502834,  0.19092151,  0.38341252,  0.7664427 ],\n",
      "           [ 0.09495377,  0.18996269,  0.38165151,  0.7664427,   1.53713523]])\n",
      "    \n",
      "    \n",
      "    Next, consider a minimization problem with several constraints (namely\n",
      "    Example 16.4 from [5]_). The objective function is:\n",
      "    \n",
      "    >>> fun = lambda x: (x[0] - 1)**2 + (x[1] - 2.5)**2\n",
      "    \n",
      "    There are three constraints defined as:\n",
      "    \n",
      "    >>> cons = ({'type': 'ineq', 'fun': lambda x:  x[0] - 2 * x[1] + 2},\n",
      "    ...         {'type': 'ineq', 'fun': lambda x: -x[0] - 2 * x[1] + 6},\n",
      "    ...         {'type': 'ineq', 'fun': lambda x: -x[0] + 2 * x[1] + 2})\n",
      "    \n",
      "    And variables must be positive, hence the following bounds:\n",
      "    \n",
      "    >>> bnds = ((0, None), (0, None))\n",
      "    \n",
      "    The optimization problem is solved using the SLSQP method as:\n",
      "    \n",
      "    >>> res = minimize(fun, (2, 0), method='SLSQP', bounds=bnds,\n",
      "    ...                constraints=cons)\n",
      "    \n",
      "    It should converge to the theoretical solution (1.4 ,1.7).\n"
     ]
    }
   ],
   "source": [
    "help(minimize)"
   ]
  },
  {
   "cell_type": "markdown",
   "metadata": {
    "hidden": true
   },
   "source": [
    "Эта функция имеет стандартный интерфейс: нужно передать callable объект, который вычисляет значение и градиент целевой функции, а также точку старта оптимизации — начальное приближение (одномерный `numpy`-массив). Поэтому нам понадобятся функции для сбора и задания всех весов нашей нейросети (именно для них мы всегда записывали параметры слоя в список `layer.params`)"
   ]
  },
  {
   "cell_type": "code",
   "execution_count": 36,
   "metadata": {
    "hidden": true,
    "ExecuteTime": {
     "end_time": "2024-03-02T13:21:39.109677500Z",
     "start_time": "2024-03-02T13:21:39.057164Z"
    }
   },
   "outputs": [],
   "source": [
    "def get_weights(network):\n",
    "    weights = []\n",
    "    for layer in network:\n",
    "        for param in layer.params:\n",
    "            weights += param.ravel().tolist()\n",
    "    return np.array(weights)\n",
    "\n",
    "\n",
    "def set_weights(weights, network):\n",
    "    i = 0\n",
    "    for layer in network:\n",
    "        for param in layer.params:\n",
    "            l = param.size\n",
    "            param[:] = weights[i:i+l].reshape(param.shape)\n",
    "            i += l"
   ]
  },
  {
   "cell_type": "markdown",
   "metadata": {
    "hidden": true
   },
   "source": [
    "Вам нужно реализовать ту самую функцию, которую мы будем передавать в `minimize`. Эта функция должна брать на вход текущую точку (вектор всех параметров), а также список дополнительных параметров (мы будем передавать через них нашу сеть и обучающие данные) и возвращать значение критерия качества (NLL) и его градиент по параметрам модели."
   ]
  },
  {
   "cell_type": "code",
   "execution_count": 65,
   "metadata": {
    "hidden": true,
    "ExecuteTime": {
     "end_time": "2024-03-02T13:27:25.056641800Z",
     "start_time": "2024-03-02T13:27:24.984636Z"
    }
   },
   "outputs": [],
   "source": [
    "def compute_loss_grad(weights, args):\n",
    "    \"\"\"\n",
    "    takes current weights and computes cross-entropy and gradients\n",
    "    weights shape: [num_parameters]\n",
    "    output 1: loss (scalar)\n",
    "    output 2: gradint w.r.t. weights, shape: [num_parameters]\n",
    "    \n",
    "    hint: firstly perform forward pass through the whole network\n",
    "    then compute loss and its gradients\n",
    "    then perform backward pass, transmitting first baskward output\n",
    "    to the previos layer and saving second baskward output in a list\n",
    "    finally flatten all the gradients in this list\n",
    "    (in the order from the first to the last layer)\n",
    "    \n",
    "    Do not forget to set weights of the network!\n",
    "    \"\"\"\n",
    "    network, X, y = args\n",
    "    \n",
    "    set_weights(weights, network)\n",
    "    \n",
    "    activations = forward(network, X)\n",
    "    loss = NLL(activations, y)\n",
    "    \n",
    "    weights_grad_arrays = []\n",
    "    \n",
    "    d_loss_d_input = grad_NLL(activations, y)\n",
    "    for layer in reversed(network):\n",
    "        d_loss_d_input, d_loss_d_layer = layer.backward(d_loss_d_input)\n",
    "        weights_grad_arrays.append(d_loss_d_layer)\n",
    "    \n",
    "    weights_grad = np.r_[*reversed(weights_grad_arrays)]\n",
    "    \n",
    "    # print(f\"{len(weights_grad_arrays)=}\\t\\t{len(weights_grad)}\")\n",
    "    # print(f\"Mean abs grad value: {np.mean(np.abs(weights_grad))}\\tMax abs grad value: {np.max(np.abs(weights_grad))}\")\n",
    "    # print(f\"Loss = {loss}\")\n",
    "    \n",
    "    return loss, np.array(weights_grad)"
   ]
  },
  {
   "cell_type": "code",
   "outputs": [
    {
     "data": {
      "text/plain": "array([1, 2, 3, 4, 5])"
     },
     "execution_count": 66,
     "metadata": {},
     "output_type": "execute_result"
    }
   ],
   "source": [
    "arr1 = np.array([1, 2, 3])\n",
    "arr2 = np.array([4, 5])\n",
    "\n",
    "np.r_[*[arr1, arr2]]"
   ],
   "metadata": {
    "collapsed": false,
    "ExecuteTime": {
     "end_time": "2024-03-02T13:27:25.531998200Z",
     "start_time": "2024-03-02T13:27:25.459791600Z"
    }
   },
   "execution_count": 66
  },
  {
   "cell_type": "markdown",
   "metadata": {
    "hidden": true
   },
   "source": [
    "Теперь мы готовы обучать нашу нейросеть. "
   ]
  },
  {
   "cell_type": "code",
   "execution_count": 67,
   "metadata": {
    "hidden": true,
    "ExecuteTime": {
     "end_time": "2024-03-02T13:27:26.419782200Z",
     "start_time": "2024-03-02T13:27:26.355842900Z"
    }
   },
   "outputs": [
    {
     "data": {
      "text/plain": "array([-0.0029614 , -0.00123379,  0.0086766 , ...,  0.        ,\n        0.        ,  0.        ])"
     },
     "execution_count": 67,
     "metadata": {},
     "output_type": "execute_result"
    }
   ],
   "source": [
    "network = make_network(input_size, hidden_layers_size, output_size, 3, ReLU)\n",
    "weights = get_weights(network)\n",
    "weights"
   ]
  },
  {
   "cell_type": "code",
   "execution_count": 68,
   "metadata": {
    "hidden": true,
    "ExecuteTime": {
     "end_time": "2024-03-02T13:27:28.514125900Z",
     "start_time": "2024-03-02T13:27:27.055267Z"
    }
   },
   "outputs": [],
   "source": [
    "res = minimize(\n",
    "    compute_loss_grad, weights,       # fun and start point\n",
    "    args=[network, X_train, y_train], # args passed to fun\n",
    "    method=\"L-BFGS-B\",                # optimization method\n",
    "    jac=True,                         # says that gradient is computed in fun,\n",
    "    options={'disp': True},\n",
    "    tol=1e-6\n",
    ")"
   ]
  },
  {
   "cell_type": "code",
   "execution_count": 69,
   "metadata": {
    "hidden": true,
    "ExecuteTime": {
     "end_time": "2024-03-02T13:27:29.534969700Z",
     "start_time": "2024-03-02T13:27:29.513305300Z"
    }
   },
   "outputs": [
    {
     "data": {
      "text/plain": "dict_keys(['fun', 'jac', 'nfev', 'njev', 'nit', 'status', 'message', 'x', 'success', 'hess_inv'])"
     },
     "execution_count": 69,
     "metadata": {},
     "output_type": "execute_result"
    }
   ],
   "source": [
    "res.keys()"
   ]
  },
  {
   "cell_type": "code",
   "execution_count": 70,
   "metadata": {
    "hidden": true,
    "scrolled": true,
    "ExecuteTime": {
     "end_time": "2024-03-02T13:27:30.091871500Z",
     "start_time": "2024-03-02T13:27:30.034793900Z"
    }
   },
   "outputs": [
    {
     "data": {
      "text/plain": "98"
     },
     "execution_count": 70,
     "metadata": {},
     "output_type": "execute_result"
    }
   ],
   "source": [
    "res[\"nit\"] # number of iterations (should be >> 10)"
   ]
  },
  {
   "cell_type": "code",
   "execution_count": 71,
   "metadata": {
    "hidden": true,
    "ExecuteTime": {
     "end_time": "2024-03-02T13:27:30.792858200Z",
     "start_time": "2024-03-02T13:27:30.737345200Z"
    }
   },
   "outputs": [
    {
     "data": {
      "text/plain": "True"
     },
     "execution_count": 71,
     "metadata": {},
     "output_type": "execute_result"
    }
   ],
   "source": [
    "res[\"success\"] # should be True"
   ]
  },
  {
   "cell_type": "code",
   "outputs": [
    {
     "data": {
      "text/plain": "'CONVERGENCE: REL_REDUCTION_OF_F_<=_FACTR*EPSMCH'"
     },
     "execution_count": 72,
     "metadata": {},
     "output_type": "execute_result"
    }
   ],
   "source": [
    "res[\"message\"]"
   ],
   "metadata": {
    "collapsed": false,
    "ExecuteTime": {
     "end_time": "2024-03-02T13:27:31.446450200Z",
     "start_time": "2024-03-02T13:27:31.391278Z"
    }
   },
   "execution_count": 72
  },
  {
   "cell_type": "code",
   "execution_count": 73,
   "metadata": {
    "hidden": true,
    "ExecuteTime": {
     "end_time": "2024-03-02T13:27:52.266062500Z",
     "start_time": "2024-03-02T13:27:52.188610Z"
    }
   },
   "outputs": [
    {
     "data": {
      "text/plain": "array([-2.96139580e-03, -1.23378910e-03,  8.67660141e-03, ...,\n       -5.02186235e-01, -1.37824542e+00,  2.20365860e-02])"
     },
     "execution_count": 73,
     "metadata": {},
     "output_type": "execute_result"
    }
   ],
   "source": [
    "res[\"x\"] # leraned weights"
   ]
  },
  {
   "cell_type": "markdown",
   "metadata": {
    "hidden": true
   },
   "source": [
    "Выведите качество на обучении (`X_train`, `y_train`) и на контроле (`X_test`, `y_test`). Не забудьте установить веса!"
   ]
  },
  {
   "cell_type": "code",
   "outputs": [],
   "source": [
    "from sklearn.metrics import accuracy_score"
   ],
   "metadata": {
    "collapsed": false,
    "ExecuteTime": {
     "end_time": "2024-03-02T13:27:53.860724900Z",
     "start_time": "2024-03-02T13:27:53.801212100Z"
    }
   },
   "execution_count": 74
  },
  {
   "cell_type": "code",
   "outputs": [
    {
     "data": {
      "text/plain": "[Dense(64, 32), Relu(), Dense(32, 32), Relu(), Dense(32, 10), LogSoftmax()]"
     },
     "execution_count": 75,
     "metadata": {},
     "output_type": "execute_result"
    }
   ],
   "source": [
    "network"
   ],
   "metadata": {
    "collapsed": false,
    "ExecuteTime": {
     "end_time": "2024-03-02T13:27:55.466953100Z",
     "start_time": "2024-03-02T13:27:55.384757900Z"
    }
   },
   "execution_count": 75
  },
  {
   "cell_type": "code",
   "execution_count": 76,
   "metadata": {
    "hidden": true,
    "ExecuteTime": {
     "end_time": "2024-03-02T13:27:56.284007400Z",
     "start_time": "2024-03-02T13:27:56.209510100Z"
    }
   },
   "outputs": [
    {
     "name": "stdout",
     "output_type": "stream",
     "text": [
      "Train NLL: 0.0000029\t\tTest NLL: 0.7917646\n",
      "Train accuracy: 1.000\t\tTest accuracy: 0.953\n"
     ]
    }
   ],
   "source": [
    "set_weights(weights=res[\"x\"], network=network)\n",
    "\n",
    "train_NLL = NLL(forward(network, X_train), y_train)\n",
    "test_NLL = NLL(forward(network, X_test), y_test)\n",
    "\n",
    "print(f\"Train NLL: {train_NLL:.7f}\\t\\tTest NLL: {test_NLL:.7f}\")\n",
    "\n",
    "train_accuracy = accuracy_score(y_true=y_train, y_pred=predict(network, X_train))\n",
    "test_accuracy = accuracy_score(y_true=y_test, y_pred=predict(network, X_test))\n",
    "\n",
    "print(f\"Train accuracy: {train_accuracy:.3f}\\t\\tTest accuracy: {test_accuracy:.3f}\")"
   ]
  },
  {
   "cell_type": "markdown",
   "metadata": {
    "hidden": true
   },
   "source": [
    "У `minimize` есть также аргумент `callback` — в нее можно передать функцию, которая будет вызываться после каждой итерации оптимизации. Такую функцию удобно оформить в виде метода класса, который будет сохранять качество на обучении контроле после каждой итерации. Реализуйте этот метод в классе `Callback`:"
   ]
  },
  {
   "cell_type": "code",
   "outputs": [],
   "source": [
    "def set_inference_mode(network: List[Layer], inference_mode: bool):  # toggle the inference_mode flag of some layers such as Dropout and BatchNorm\n",
    "    for layer in network:\n",
    "        layer.inference_mode = inference_mode\n",
    "\n",
    "def get_inference_modes_list(network: List[Layer]) -> List[bool]:\n",
    "    return list(map(lambda layer: layer.inference_mode, network))\n",
    "\n",
    "def set_inference_mode_by_list(network: List[Layer], inference_modes_list: List[bool]):\n",
    "    for layer, mode in zip(network, inference_modes_list):\n",
    "        layer.inference_mode = mode"
   ],
   "metadata": {
    "collapsed": false,
    "ExecuteTime": {
     "end_time": "2024-03-02T13:36:36.355171800Z",
     "start_time": "2024-03-02T13:36:36.288655300Z"
    }
   },
   "execution_count": 82
  },
  {
   "cell_type": "code",
   "execution_count": 83,
   "metadata": {
    "hidden": true,
    "ExecuteTime": {
     "end_time": "2024-03-02T13:36:36.698318500Z",
     "start_time": "2024-03-02T13:36:36.640803900Z"
    }
   },
   "outputs": [],
   "source": [
    "class Callback:\n",
    "    def __init__(self, network, X_train, y_train, X_test, y_test, print=False, control_inference_mode: bool = True):\n",
    "        self.network = network\n",
    "        self.X_train = X_train\n",
    "        self.X_test = X_test\n",
    "        self.y_train = y_train\n",
    "        self.y_test = y_test\n",
    "        self.print = print\n",
    "        self.control_inference_mode = control_inference_mode\n",
    "        self.train_acc = []\n",
    "        self.test_acc = []\n",
    "        self.train_NLL = []\n",
    "        self.test_NLL = []\n",
    "        \n",
    "    def call(self, weights):\n",
    "        \"\"\"\n",
    "        Computes quality on train and test set with given weights\n",
    "        and saves to self.train_acc and self.test_acc.\n",
    "        If self.print is True, also prints these 2 values\n",
    "        \"\"\"\n",
    "        \n",
    "        if self.control_inference_mode:\n",
    "            modes_ls = get_inference_modes_list(self.network)\n",
    "        \n",
    "        train_NLL = NLL(forward(self.network, X_train), y_train)\n",
    "        test_NLL = NLL(forward(self.network, X_test), y_test)\n",
    "        \n",
    "        train_accuracy = accuracy_score(y_true=y_train, y_pred=predict(network, X_train))\n",
    "        test_accuracy = accuracy_score(y_true=y_test, y_pred=predict(network, X_test))\n",
    "        \n",
    "        if self.control_inference_mode:\n",
    "            set_inference_mode_by_list(self.network, modes_ls)\n",
    "        \n",
    "        self.train_acc.append(train_accuracy)\n",
    "        self.test_acc.append(test_accuracy)\n",
    "        self.train_NLL.append(train_NLL)\n",
    "        self.test_NLL.append(test_NLL)\n",
    "        \n",
    "        if self.print:\n",
    "            print(f\"Train accuracy: {train_accuracy:.3f}\\t\\tTest accuracy: {test_accuracy:.3f}\")"
   ]
  },
  {
   "cell_type": "code",
   "execution_count": 85,
   "metadata": {
    "hidden": true,
    "ExecuteTime": {
     "end_time": "2024-03-02T13:37:14.688199Z",
     "start_time": "2024-03-02T13:37:12.177399200Z"
    }
   },
   "outputs": [
    {
     "name": "stdout",
     "output_type": "stream",
     "text": [
      "Train accuracy: 0.191\t\tTest accuracy: 0.171\n",
      "Train accuracy: 0.137\t\tTest accuracy: 0.127\n",
      "Train accuracy: 0.148\t\tTest accuracy: 0.140\n",
      "Train accuracy: 0.220\t\tTest accuracy: 0.249\n",
      "Train accuracy: 0.202\t\tTest accuracy: 0.222\n",
      "Train accuracy: 0.213\t\tTest accuracy: 0.233\n",
      "Train accuracy: 0.301\t\tTest accuracy: 0.311\n",
      "Train accuracy: 0.329\t\tTest accuracy: 0.322\n",
      "Train accuracy: 0.317\t\tTest accuracy: 0.280\n",
      "Train accuracy: 0.475\t\tTest accuracy: 0.429\n",
      "Train accuracy: 0.582\t\tTest accuracy: 0.527\n",
      "Train accuracy: 0.627\t\tTest accuracy: 0.580\n",
      "Train accuracy: 0.673\t\tTest accuracy: 0.631\n",
      "Train accuracy: 0.690\t\tTest accuracy: 0.624\n",
      "Train accuracy: 0.707\t\tTest accuracy: 0.647\n",
      "Train accuracy: 0.725\t\tTest accuracy: 0.673\n",
      "Train accuracy: 0.755\t\tTest accuracy: 0.707\n",
      "Train accuracy: 0.784\t\tTest accuracy: 0.749\n",
      "Train accuracy: 0.794\t\tTest accuracy: 0.753\n",
      "Train accuracy: 0.806\t\tTest accuracy: 0.769\n",
      "Train accuracy: 0.833\t\tTest accuracy: 0.800\n",
      "Train accuracy: 0.857\t\tTest accuracy: 0.820\n",
      "Train accuracy: 0.867\t\tTest accuracy: 0.842\n",
      "Train accuracy: 0.874\t\tTest accuracy: 0.856\n",
      "Train accuracy: 0.889\t\tTest accuracy: 0.858\n",
      "Train accuracy: 0.898\t\tTest accuracy: 0.878\n",
      "Train accuracy: 0.901\t\tTest accuracy: 0.891\n",
      "Train accuracy: 0.912\t\tTest accuracy: 0.900\n",
      "Train accuracy: 0.918\t\tTest accuracy: 0.907\n",
      "Train accuracy: 0.920\t\tTest accuracy: 0.911\n",
      "Train accuracy: 0.929\t\tTest accuracy: 0.920\n",
      "Train accuracy: 0.931\t\tTest accuracy: 0.920\n",
      "Train accuracy: 0.932\t\tTest accuracy: 0.922\n",
      "Train accuracy: 0.937\t\tTest accuracy: 0.920\n",
      "Train accuracy: 0.938\t\tTest accuracy: 0.922\n",
      "Train accuracy: 0.944\t\tTest accuracy: 0.922\n",
      "Train accuracy: 0.942\t\tTest accuracy: 0.924\n",
      "Train accuracy: 0.950\t\tTest accuracy: 0.922\n",
      "Train accuracy: 0.949\t\tTest accuracy: 0.929\n",
      "Train accuracy: 0.956\t\tTest accuracy: 0.931\n",
      "Train accuracy: 0.962\t\tTest accuracy: 0.931\n",
      "Train accuracy: 0.964\t\tTest accuracy: 0.938\n",
      "Train accuracy: 0.969\t\tTest accuracy: 0.929\n",
      "Train accuracy: 0.969\t\tTest accuracy: 0.922\n",
      "Train accuracy: 0.967\t\tTest accuracy: 0.924\n",
      "Train accuracy: 0.967\t\tTest accuracy: 0.927\n",
      "Train accuracy: 0.968\t\tTest accuracy: 0.931\n",
      "Train accuracy: 0.970\t\tTest accuracy: 0.931\n",
      "Train accuracy: 0.975\t\tTest accuracy: 0.936\n",
      "Train accuracy: 0.973\t\tTest accuracy: 0.933\n",
      "Train accuracy: 0.972\t\tTest accuracy: 0.931\n",
      "Train accuracy: 0.976\t\tTest accuracy: 0.929\n",
      "Train accuracy: 0.979\t\tTest accuracy: 0.929\n",
      "Train accuracy: 0.983\t\tTest accuracy: 0.929\n",
      "Train accuracy: 0.984\t\tTest accuracy: 0.931\n",
      "Train accuracy: 0.984\t\tTest accuracy: 0.931\n",
      "Train accuracy: 0.987\t\tTest accuracy: 0.938\n",
      "Train accuracy: 0.987\t\tTest accuracy: 0.938\n",
      "Train accuracy: 0.987\t\tTest accuracy: 0.938\n",
      "Train accuracy: 0.987\t\tTest accuracy: 0.942\n",
      "Train accuracy: 0.991\t\tTest accuracy: 0.940\n",
      "Train accuracy: 0.990\t\tTest accuracy: 0.949\n",
      "Train accuracy: 0.990\t\tTest accuracy: 0.949\n",
      "Train accuracy: 0.990\t\tTest accuracy: 0.949\n",
      "Train accuracy: 0.990\t\tTest accuracy: 0.951\n",
      "Train accuracy: 0.993\t\tTest accuracy: 0.938\n",
      "Train accuracy: 0.992\t\tTest accuracy: 0.938\n",
      "Train accuracy: 0.993\t\tTest accuracy: 0.942\n",
      "Train accuracy: 0.995\t\tTest accuracy: 0.944\n",
      "Train accuracy: 0.994\t\tTest accuracy: 0.942\n",
      "Train accuracy: 0.994\t\tTest accuracy: 0.944\n",
      "Train accuracy: 0.995\t\tTest accuracy: 0.944\n",
      "Train accuracy: 0.996\t\tTest accuracy: 0.940\n",
      "Train accuracy: 0.997\t\tTest accuracy: 0.947\n",
      "Train accuracy: 0.999\t\tTest accuracy: 0.938\n",
      "Train accuracy: 0.998\t\tTest accuracy: 0.940\n",
      "Train accuracy: 0.999\t\tTest accuracy: 0.940\n",
      "Train accuracy: 0.999\t\tTest accuracy: 0.938\n",
      "Train accuracy: 0.999\t\tTest accuracy: 0.940\n",
      "Train accuracy: 0.999\t\tTest accuracy: 0.940\n",
      "Train accuracy: 0.999\t\tTest accuracy: 0.940\n",
      "Train accuracy: 0.999\t\tTest accuracy: 0.938\n",
      "Train accuracy: 0.999\t\tTest accuracy: 0.940\n",
      "Train accuracy: 0.999\t\tTest accuracy: 0.940\n",
      "Train accuracy: 0.999\t\tTest accuracy: 0.940\n",
      "Train accuracy: 1.000\t\tTest accuracy: 0.938\n",
      "Train accuracy: 1.000\t\tTest accuracy: 0.938\n",
      "Train accuracy: 1.000\t\tTest accuracy: 0.938\n",
      "Train accuracy: 1.000\t\tTest accuracy: 0.942\n",
      "Train accuracy: 1.000\t\tTest accuracy: 0.942\n",
      "Train accuracy: 1.000\t\tTest accuracy: 0.942\n",
      "Train accuracy: 1.000\t\tTest accuracy: 0.942\n",
      "Train accuracy: 1.000\t\tTest accuracy: 0.942\n",
      "Train accuracy: 1.000\t\tTest accuracy: 0.942\n",
      "Train accuracy: 1.000\t\tTest accuracy: 0.940\n",
      "Train accuracy: 1.000\t\tTest accuracy: 0.940\n",
      "Train accuracy: 1.000\t\tTest accuracy: 0.940\n",
      "Train accuracy: 1.000\t\tTest accuracy: 0.940\n",
      "Train accuracy: 1.000\t\tTest accuracy: 0.942\n",
      "Train accuracy: 1.000\t\tTest accuracy: 0.942\n",
      "Train accuracy: 1.000\t\tTest accuracy: 0.940\n",
      "Train accuracy: 1.000\t\tTest accuracy: 0.942\n",
      "Train accuracy: 1.000\t\tTest accuracy: 0.942\n",
      "Train accuracy: 1.000\t\tTest accuracy: 0.947\n",
      "Train accuracy: 1.000\t\tTest accuracy: 0.947\n",
      "Train accuracy: 1.000\t\tTest accuracy: 0.951\n",
      "Train accuracy: 1.000\t\tTest accuracy: 0.951\n",
      "Train accuracy: 1.000\t\tTest accuracy: 0.951\n",
      "Train accuracy: 1.000\t\tTest accuracy: 0.951\n",
      "Train accuracy: 1.000\t\tTest accuracy: 0.951\n",
      "Train accuracy: 1.000\t\tTest accuracy: 0.956\n",
      "Train accuracy: 1.000\t\tTest accuracy: 0.953\n",
      "Train accuracy: 1.000\t\tTest accuracy: 0.953\n",
      "Train accuracy: 1.000\t\tTest accuracy: 0.951\n",
      "Train accuracy: 1.000\t\tTest accuracy: 0.951\n",
      "Train accuracy: 1.000\t\tTest accuracy: 0.953\n",
      "Train accuracy: 1.000\t\tTest accuracy: 0.951\n",
      "Train accuracy: 1.000\t\tTest accuracy: 0.951\n",
      "Train accuracy: 1.000\t\tTest accuracy: 0.953\n",
      "Train accuracy: 1.000\t\tTest accuracy: 0.953\n",
      "Train accuracy: 1.000\t\tTest accuracy: 0.953\n",
      "Train accuracy: 1.000\t\tTest accuracy: 0.956\n",
      "Train accuracy: 1.000\t\tTest accuracy: 0.956\n",
      "Train accuracy: 1.000\t\tTest accuracy: 0.958\n",
      "Train accuracy: 1.000\t\tTest accuracy: 0.958\n",
      "Train accuracy: 1.000\t\tTest accuracy: 0.956\n",
      "Train accuracy: 1.000\t\tTest accuracy: 0.956\n",
      "Train accuracy: 1.000\t\tTest accuracy: 0.956\n",
      "Train accuracy: 1.000\t\tTest accuracy: 0.953\n",
      "Train accuracy: 1.000\t\tTest accuracy: 0.953\n",
      "Train accuracy: 1.000\t\tTest accuracy: 0.953\n",
      "Train accuracy: 1.000\t\tTest accuracy: 0.953\n",
      "Train accuracy: 1.000\t\tTest accuracy: 0.951\n",
      "Train accuracy: 1.000\t\tTest accuracy: 0.951\n",
      "Train accuracy: 1.000\t\tTest accuracy: 0.953\n",
      "Train accuracy: 1.000\t\tTest accuracy: 0.951\n",
      "Train accuracy: 1.000\t\tTest accuracy: 0.953\n",
      "Train accuracy: 1.000\t\tTest accuracy: 0.951\n",
      "Train accuracy: 1.000\t\tTest accuracy: 0.951\n",
      "Train accuracy: 1.000\t\tTest accuracy: 0.951\n",
      "Train accuracy: 1.000\t\tTest accuracy: 0.949\n",
      "Train accuracy: 1.000\t\tTest accuracy: 0.949\n",
      "Train accuracy: 1.000\t\tTest accuracy: 0.949\n",
      "Train accuracy: 1.000\t\tTest accuracy: 0.949\n",
      "Train accuracy: 1.000\t\tTest accuracy: 0.947\n"
     ]
    }
   ],
   "source": [
    "network = make_network(input_size, hidden_layers_size, output_size, 3, ReLU)\n",
    "weights = get_weights(network)\n",
    "cb = Callback(network, X_train, y_train, X_test, y_test, print=True)\n",
    "\n",
    "res = minimize(\n",
    "    compute_loss_grad, weights,  \n",
    "    args=[network, X_train, y_train], \n",
    "    method=\"L-BFGS-B\",\n",
    "    jac=True,\n",
    "    callback=cb.call,\n",
    "    tol=1e-8,\n",
    ")"
   ]
  },
  {
   "cell_type": "markdown",
   "metadata": {
    "hidden": true
   },
   "source": [
    "Изобразите на графике кривую качества на обучени и контроле по итерациям:"
   ]
  },
  {
   "cell_type": "code",
   "execution_count": 88,
   "metadata": {
    "hidden": true,
    "ExecuteTime": {
     "end_time": "2024-03-02T13:37:43.132200900Z",
     "start_time": "2024-03-02T13:37:43.004000400Z"
    }
   },
   "outputs": [
    {
     "data": {
      "text/plain": "<Figure size 1000x500 with 1 Axes>",
      "image/png": "[encoded data removed]"
     },
     "metadata": {},
     "output_type": "display_data"
    }
   ],
   "source": [
    "fig, ax = plt.subplots(1, 1, figsize=(10, 5))\n",
    "ax.plot(cb.train_acc, label=f\"train acc [{cb.train_acc[-1]:4.3f}]\")\n",
    "ax.plot(cb.test_acc, label=f\"test acc [{cb.test_acc[-1]:4.3f}]\")\n",
    "ax.set_xlabel(\"Iteration\")\n",
    "ax.set_ylabel(\"Accuracy\")\n",
    "ax.set_title(\"Fitting curve\")\n",
    "ax.grid(True)\n",
    "ax.legend()\n",
    "\n",
    "fig.tight_layout()\n",
    "plt.show()"
   ]
  },
  {
   "cell_type": "markdown",
   "metadata": {
    "heading_collapsed": true,
    "hidden": true
   },
   "source": [
    "### `Эксперименты с числом слоев (0.6 балла)`"
   ]
  },
  {
   "cell_type": "markdown",
   "metadata": {
    "hidden": true
   },
   "source": [
    "Ясно, что из-за случайного начального приближения с каждым запуском обучения мы будем получать различное качество. Попробуем обучить нашу нейросеть с разным числом слоев несколько раз.\n",
    "\n",
    "Заполните матрицы `accs_train` и `accs_test`. В позиции `[i, j]` должна стоять величина доли правильных ответов сети с $i+1$ полносвязными слоями при $j$-м запуске (все запуски идентичны)."
   ]
  },
  {
   "cell_type": "code",
   "execution_count": 89,
   "outputs": [
    {
     "data": {
      "text/plain": "[Dense(64, 32), Relu(), Dense(32, 32), Relu(), Dense(32, 10), LogSoftmax()]"
     },
     "execution_count": 89,
     "metadata": {},
     "output_type": "execute_result"
    }
   ],
   "source": [
    "network"
   ],
   "metadata": {
    "collapsed": false,
    "ExecuteTime": {
     "end_time": "2024-03-02T13:37:57.575239500Z",
     "start_time": "2024-03-02T13:37:57.541530700Z"
    }
   }
  },
  {
   "cell_type": "code",
   "execution_count": 137,
   "outputs": [],
   "source": [
    "def train_network(network: List[Layer], history: bool = False, optimizer=\"L-BFGS-B\", options: dict = None, tol: float = 1e-7, cb_print: bool = False) -> List[Layer]:\n",
    "    cb = Callback(network, X_train, y_train, X_test, y_test, print=cb_print) if history else lambda *args: None\n",
    "    options = dict() if options is None else options\n",
    "\n",
    "    weights = get_weights(network)\n",
    "    res = minimize(\n",
    "        compute_loss_grad, weights,  \n",
    "        args=[network, X_train, y_train], \n",
    "        method=optimizer,\n",
    "        jac=True,\n",
    "        callback=cb.call if history else None,\n",
    "        options=options,\n",
    "        tol=tol\n",
    "    )\n",
    "    \n",
    "    if not res[\"success\"]:\n",
    "        raise RuntimeError(f\"Optimization failure: {res['message']}\")\n",
    "    \n",
    "    if history:\n",
    "        return network, cb\n",
    "    else:\n",
    "        return network"
   ],
   "metadata": {
    "collapsed": false,
    "ExecuteTime": {
     "end_time": "2024-03-02T14:19:27.740593700Z",
     "start_time": "2024-03-02T14:19:27.522287300Z"
    }
   }
  },
  {
   "cell_type": "code",
   "outputs": [],
   "source": [
    "accs_train = np.zeros((5, 15))\n",
    "accs_test = np.zeros_like(accs_train)"
   ],
   "metadata": {
    "collapsed": false,
    "ExecuteTime": {
     "end_time": "2024-03-02T13:41:41.757462600Z",
     "start_time": "2024-03-02T13:41:41.703952300Z"
    }
   },
   "execution_count": 94
  },
  {
   "cell_type": "code",
   "execution_count": 95,
   "metadata": {
    "hidden": true,
    "ExecuteTime": {
     "end_time": "2024-03-02T13:43:54.655459700Z",
     "start_time": "2024-03-02T13:41:41.891781900Z"
    }
   },
   "outputs": [
    {
     "name": "stdout",
     "output_type": "stream",
     "text": [
      "i= 0\tj= 0\tlayer_c=1\ttrain acc: 1.0000 test acc: 0.9422\n",
      "i= 0\tj= 1\tlayer_c=1\ttrain acc: 1.0000 test acc: 0.9489\n",
      "i= 0\tj= 2\tlayer_c=1\ttrain acc: 1.0000 test acc: 0.9489\n",
      "i= 0\tj= 3\tlayer_c=1\ttrain acc: 1.0000 test acc: 0.9511\n",
      "i= 0\tj= 4\tlayer_c=1\ttrain acc: 1.0000 test acc: 0.9533\n",
      "i= 0\tj= 5\tlayer_c=1\ttrain acc: 1.0000 test acc: 0.9422\n",
      "i= 0\tj= 6\tlayer_c=1\ttrain acc: 1.0000 test acc: 0.9556\n",
      "i= 0\tj= 7\tlayer_c=1\ttrain acc: 1.0000 test acc: 0.9356\n",
      "i= 0\tj= 8\tlayer_c=1\ttrain acc: 1.0000 test acc: 0.9489\n",
      "i= 0\tj= 9\tlayer_c=1\ttrain acc: 1.0000 test acc: 0.9467\n",
      "i= 0\tj=10\tlayer_c=1\ttrain acc: 1.0000 test acc: 0.9511\n",
      "i= 0\tj=11\tlayer_c=1\ttrain acc: 1.0000 test acc: 0.9356\n",
      "i= 0\tj=12\tlayer_c=1\ttrain acc: 1.0000 test acc: 0.9444\n",
      "i= 0\tj=13\tlayer_c=1\ttrain acc: 1.0000 test acc: 0.9467\n",
      "i= 0\tj=14\tlayer_c=1\ttrain acc: 1.0000 test acc: 0.9489\n",
      "i= 1\tj= 0\tlayer_c=2\ttrain acc: 1.0000 test acc: 0.9533\n",
      "i= 1\tj= 1\tlayer_c=2\ttrain acc: 1.0000 test acc: 0.9711\n",
      "i= 1\tj= 2\tlayer_c=2\ttrain acc: 1.0000 test acc: 0.9600\n",
      "i= 1\tj= 3\tlayer_c=2\ttrain acc: 1.0000 test acc: 0.9600\n",
      "i= 1\tj= 4\tlayer_c=2\ttrain acc: 1.0000 test acc: 0.9489\n",
      "i= 1\tj= 5\tlayer_c=2\ttrain acc: 1.0000 test acc: 0.9467\n",
      "i= 1\tj= 6\tlayer_c=2\ttrain acc: 1.0000 test acc: 0.9556\n",
      "i= 1\tj= 7\tlayer_c=2\ttrain acc: 1.0000 test acc: 0.9489\n",
      "i= 1\tj= 8\tlayer_c=2\ttrain acc: 1.0000 test acc: 0.9511\n",
      "i= 1\tj= 9\tlayer_c=2\ttrain acc: 1.0000 test acc: 0.9444\n",
      "i= 1\tj=10\tlayer_c=2\ttrain acc: 1.0000 test acc: 0.9644\n",
      "i= 1\tj=11\tlayer_c=2\ttrain acc: 1.0000 test acc: 0.9622\n",
      "i= 1\tj=12\tlayer_c=2\ttrain acc: 1.0000 test acc: 0.9511\n",
      "i= 1\tj=13\tlayer_c=2\ttrain acc: 1.0000 test acc: 0.9622\n",
      "i= 1\tj=14\tlayer_c=2\ttrain acc: 1.0000 test acc: 0.9556\n",
      "i= 2\tj= 0\tlayer_c=3\ttrain acc: 1.0000 test acc: 0.9622\n",
      "i= 2\tj= 1\tlayer_c=3\ttrain acc: 1.0000 test acc: 0.9444\n",
      "i= 2\tj= 2\tlayer_c=3\ttrain acc: 1.0000 test acc: 0.9533\n",
      "i= 2\tj= 3\tlayer_c=3\ttrain acc: 1.0000 test acc: 0.9533\n",
      "i= 2\tj= 4\tlayer_c=3\ttrain acc: 1.0000 test acc: 0.9600\n",
      "i= 2\tj= 5\tlayer_c=3\ttrain acc: 1.0000 test acc: 0.9400\n",
      "i= 2\tj= 6\tlayer_c=3\ttrain acc: 1.0000 test acc: 0.9578\n",
      "i= 2\tj= 7\tlayer_c=3\ttrain acc: 1.0000 test acc: 0.9600\n",
      "i= 2\tj= 8\tlayer_c=3\ttrain acc: 1.0000 test acc: 0.9378\n",
      "i= 2\tj= 9\tlayer_c=3\ttrain acc: 1.0000 test acc: 0.9444\n",
      "i= 2\tj=10\tlayer_c=3\ttrain acc: 1.0000 test acc: 0.9489\n",
      "i= 2\tj=11\tlayer_c=3\ttrain acc: 1.0000 test acc: 0.9489\n",
      "i= 2\tj=12\tlayer_c=3\ttrain acc: 1.0000 test acc: 0.9467\n",
      "i= 2\tj=13\tlayer_c=3\ttrain acc: 1.0000 test acc: 0.9511\n",
      "i= 2\tj=14\tlayer_c=3\ttrain acc: 1.0000 test acc: 0.9467\n",
      "i= 3\tj= 0\tlayer_c=4\ttrain acc: 1.0000 test acc: 0.9378\n",
      "i= 3\tj= 1\tlayer_c=4\ttrain acc: 1.0000 test acc: 0.9289\n",
      "i= 3\tj= 2\tlayer_c=4\ttrain acc: 1.0000 test acc: 0.9644\n",
      "i= 3\tj= 3\tlayer_c=4\ttrain acc: 1.0000 test acc: 0.9511\n",
      "i= 3\tj= 4\tlayer_c=4\ttrain acc: 1.0000 test acc: 0.9467\n",
      "i= 3\tj= 5\tlayer_c=4\ttrain acc: 1.0000 test acc: 0.9444\n",
      "i= 3\tj= 6\tlayer_c=4\ttrain acc: 1.0000 test acc: 0.9578\n",
      "i= 3\tj= 7\tlayer_c=4\ttrain acc: 1.0000 test acc: 0.9533\n",
      "i= 3\tj= 8\tlayer_c=4\ttrain acc: 1.0000 test acc: 0.9444\n",
      "i= 3\tj= 9\tlayer_c=4\ttrain acc: 1.0000 test acc: 0.9489\n",
      "i= 3\tj=10\tlayer_c=4\ttrain acc: 1.0000 test acc: 0.9467\n",
      "i= 3\tj=11\tlayer_c=4\ttrain acc: 1.0000 test acc: 0.9533\n",
      "i= 3\tj=12\tlayer_c=4\ttrain acc: 1.0000 test acc: 0.9489\n",
      "i= 3\tj=13\tlayer_c=4\ttrain acc: 1.0000 test acc: 0.9533\n",
      "i= 3\tj=14\tlayer_c=4\ttrain acc: 1.0000 test acc: 0.9489\n",
      "i= 4\tj= 0\tlayer_c=5\ttrain acc: 0.1062 test acc: 0.0844\n",
      "i= 4\tj= 1\tlayer_c=5\ttrain acc: 0.1062 test acc: 0.0844\n",
      "i= 4\tj= 2\tlayer_c=5\ttrain acc: 0.1062 test acc: 0.0844\n",
      "i= 4\tj= 3\tlayer_c=5\ttrain acc: 0.1062 test acc: 0.0844\n",
      "i= 4\tj= 4\tlayer_c=5\ttrain acc: 0.1062 test acc: 0.0844\n",
      "i= 4\tj= 5\tlayer_c=5\ttrain acc: 0.1062 test acc: 0.0844\n",
      "i= 4\tj= 6\tlayer_c=5\ttrain acc: 0.1062 test acc: 0.0844\n",
      "i= 4\tj= 7\tlayer_c=5\ttrain acc: 0.1062 test acc: 0.0844\n",
      "i= 4\tj= 8\tlayer_c=5\ttrain acc: 0.1062 test acc: 0.0844\n",
      "i= 4\tj= 9\tlayer_c=5\ttrain acc: 0.1062 test acc: 0.0844\n",
      "i= 4\tj=10\tlayer_c=5\ttrain acc: 0.1062 test acc: 0.0844\n",
      "i= 4\tj=11\tlayer_c=5\ttrain acc: 0.1062 test acc: 0.0844\n",
      "i= 4\tj=12\tlayer_c=5\ttrain acc: 0.1062 test acc: 0.0844\n",
      "i= 4\tj=13\tlayer_c=5\ttrain acc: 0.1062 test acc: 0.0844\n",
      "i= 4\tj=14\tlayer_c=5\ttrain acc: 0.1062 test acc: 0.0844\n"
     ]
    }
   ],
   "source": [
    "np.random.seed(42)\n",
    "\n",
    "for i, layer_c in zip(range(5), range(1, 5+1)):\n",
    "    for j in range(accs_train.shape[1]):\n",
    "        print(f\"{i=:2}\\t{j=:2}\\t{layer_c=}\\t\", end='')\n",
    "        network = make_network(input_size, 32, output_size, layer_c, ReLU)\n",
    "        network, cb = train_network(network, history=True)\n",
    "        \n",
    "        accs_train[i, j] = cb.train_acc[-1]\n",
    "        accs_test[i, j] = cb.test_acc[-1]\n",
    "        print(f\"train acc: {accs_train[i, j]:5.4f} test acc: {accs_test[i, j]:5.4f}\")"
   ]
  },
  {
   "cell_type": "markdown",
   "metadata": {
    "hidden": true
   },
   "source": [
    "Построим боксплоты полученного качества (горизонтальная линия в каждом столбце — среднее, прямоугольник показывает разброс)."
   ]
  },
  {
   "cell_type": "code",
   "execution_count": 93,
   "metadata": {
    "collapsed": true,
    "hidden": true,
    "ExecuteTime": {
     "end_time": "2024-03-02T13:40:54.259524800Z",
     "start_time": "2024-03-02T13:40:54.063391600Z"
    }
   },
   "outputs": [
    {
     "data": {
      "text/plain": "<Figure size 1000x800 with 2 Axes>",
      "image/png": "[encoded data removed]"
     },
     "metadata": {},
     "output_type": "display_data"
    }
   ],
   "source": [
    "fig, axes = plt.subplots(2, 1, figsize=(10, 8))\n",
    "\n",
    "axes[0].boxplot(accs_train.T, showfliers=False)\n",
    "axes[1].boxplot(accs_test.T, showfliers=False)\n",
    "\n",
    "axes[0].set_xlabel(\"Number of layers\")\n",
    "axes[1].set_xlabel(\"Number of layers\")\n",
    "\n",
    "axes[0].set_ylabel(\"Train accuracy\")\n",
    "axes[1].set_ylabel(\"Test accuracy\")\n",
    "\n",
    "axes[0].set_title(f\"Train quality in {accs_train.shape[1]} runs\")\n",
    "axes[1].set_title(f\"Test quality in {accs_train.shape[1]} runs\")\n",
    "\n",
    "axes[0].grid(True)\n",
    "axes[1].grid(True)\n",
    "\n",
    "fig.tight_layout()\n",
    "plt.show()"
   ]
  },
  {
   "cell_type": "markdown",
   "metadata": {
    "hidden": true
   },
   "source": [
    "Дайте развёрнутый ответ на вопросы (в этой же ячейке):\n",
    "* Как изменяются качество на обучении и контроле и устойчивость процесса обучения при увеличении числа слоев?\n",
    "* Можно ли сказать, что логистическая регрессия (линейная модель) дает качество хуже, чем нелинейная модель?\n",
    "\n",
    "__Ответы:__\n",
    "\n",
    "Линейная модель дает качество хуже, чем нелинейные модели. \n",
    "\n",
    "На обучающей выборке модели стабильно получают точность, сравнимую с 1.\n",
    "На валидационной выборке модели получают качество на несколько процентов хуже, чем на тренировочной. \n",
    "\n",
    "Оптимальное число слоев --- 3 или 4 слоя. \n",
    "При числе слоёв > 4 начинает усиляться переобучение"
   ]
  },
  {
   "cell_type": "markdown",
   "metadata": {
    "heading_collapsed": true,
    "hidden": true
   },
   "source": [
    "### `Эксперименты c различными инициализациями весов (0.6 балла)`"
   ]
  },
  {
   "cell_type": "markdown",
   "metadata": {
    "hidden": true
   },
   "source": [
    "Как уже было сказано, начальная инициализация весов нейронной сети может сильно влиять на процесс ее обучения и, как следствие, на ее качество.\n",
    "\n",
    "В этом пункте вам предлагается попробовать обучить несколько нейронных сетей с различными инициализациями слоев.\n",
    "\n",
    "Для этого необходимо реализовать функцию, инициализирующую веса линейных слоёв нашей нейронной сети. Добавьте в функционал данного метода возможность инициализировать его веса с помощью инициализации Kaiming (используется, если в нейронной сети в качестве функций активации используется ReLU) и инициализации Xavier (используется, если в нейронной сети в качестве функций активации используется Tanh или Sigmoid):"
   ]
  },
  {
   "cell_type": "code",
   "execution_count": 96,
   "metadata": {
    "code_folding": [],
    "hidden": true,
    "ExecuteTime": {
     "end_time": "2024-03-02T13:44:36.360701500Z",
     "start_time": "2024-03-02T13:44:36.296702200Z"
    }
   },
   "outputs": [],
   "source": [
    "def initialize_network(network, initialization):\n",
    "    for layer in network:\n",
    "        if isinstance(layer, Dense):\n",
    "            input_units, output_units = layer.weights.shape\n",
    "            if initialization == 'Kaiming':\n",
    "                sigma = 2 / layer.weights.shape[0]\n",
    "                layer.weights = np.random.normal(loc=0, scale=sigma, size=layer.weights.shape)\n",
    "                \n",
    "            elif initialization == 'Xavier':\n",
    "                sigma = np.sqrt(2 / (layer.weights.shape[0] + layer.weights.shape[1]))\n",
    "                layer.weights = np.random.normal(loc=0, scale=sigma, size=layer.weights.shape)\n",
    "                \n",
    "            else:\n",
    "                # Initialize weights with small random numbers from normal distribution.\n",
    "                # In this case `initialization` represents a standard deviation\n",
    "                # for normal distribution.\n",
    "                layer.weights = np.random.randn(input_units, output_units) * initialization\n",
    "                \n",
    "            layer.biases = np.zeros_like(layer.biases)\n",
    "            \n",
    "            layer.params = [layer.weights, layer.biases]"
   ]
  },
  {
   "cell_type": "markdown",
   "metadata": {
    "hidden": true
   },
   "source": [
    "Теперь попробуйте для каждой из 3 инициализаций обучить нейронную сеть несколько раз. Попробуйте проделать данную операцию при зафиксированном числе слоев равным 3, 4 и 5."
   ]
  },
  {
   "cell_type": "markdown",
   "metadata": {
    "heading_collapsed": true,
    "hidden": true
   },
   "source": [
    "#### `3 слоя`\n",
    "\n",
    "Зафиксируйте в сети число слоев равное трем."
   ]
  },
  {
   "cell_type": "markdown",
   "metadata": {
    "hidden": true
   },
   "source": [
    "Заполните матрицы `accs_train` и `accs_test`. В позиции `[i, j]` должна стоять величина доли правильных ответов сети при $j$-м запуске (все запуски идентичны) с инициализацией Kaiming при $i = 3$, с инициализацией Xavier при $i = 4$ и с инициализацией из нормального распределения с фиксированными параметрами при $0 \\leqslant i \\leqslant 2$ (попробуйте здесь 3 разных параметра для стандартного отклонения для нормального распределения, например: `1e-3`, `1e-2`, `1e-1`). Заметьте, что при большом числе слоев слишком низкое стандартное отклонение может не давать нейронной сети нормально обучиться."
   ]
  },
  {
   "cell_type": "code",
   "execution_count": 97,
   "metadata": {
    "hidden": true,
    "ExecuteTime": {
     "end_time": "2024-03-02T13:44:38.562847800Z",
     "start_time": "2024-03-02T13:44:38.506334100Z"
    }
   },
   "outputs": [],
   "source": [
    "init_vars = [1e-3, 1e-2, 1e-1, 'Kaiming', 'Xavier']"
   ]
  },
  {
   "cell_type": "code",
   "execution_count": 98,
   "metadata": {
    "hidden": true,
    "ExecuteTime": {
     "end_time": "2024-03-02T13:44:39.415274900Z",
     "start_time": "2024-03-02T13:44:39.354758200Z"
    }
   },
   "outputs": [],
   "source": [
    "accs_train = np.zeros((5, 15))\n",
    "accs_test = np.zeros_like(accs_test)"
   ]
  },
  {
   "cell_type": "code",
   "execution_count": 100,
   "metadata": {
    "hidden": true,
    "ExecuteTime": {
     "end_time": "2024-03-02T13:47:35.193587100Z",
     "start_time": "2024-03-02T13:45:26.524355Z"
    }
   },
   "outputs": [
    {
     "name": "stdout",
     "output_type": "stream",
     "text": [
      "i= 0\tj= 0\tinitialization=0.001\ttrain acc: 1.0000 test acc: 0.9422 n_iter: 143\n",
      "i= 0\tj= 1\tinitialization=0.001\ttrain acc: 1.0000 test acc: 0.9578 n_iter: 105\n",
      "i= 0\tj= 2\tinitialization=0.001\ttrain acc: 0.1656 test acc: 0.1711 n_iter: 5\n",
      "i= 0\tj= 3\tinitialization=0.001\ttrain acc: 0.2613 test acc: 0.2311 n_iter: 5\n",
      "i= 0\tj= 4\tinitialization=0.001\ttrain acc: 1.0000 test acc: 0.9578 n_iter: 114\n",
      "i= 0\tj= 5\tinitialization=0.001\ttrain acc: 1.0000 test acc: 0.9556 n_iter: 102\n",
      "i= 0\tj= 6\tinitialization=0.001\ttrain acc: 1.0000 test acc: 0.9467 n_iter: 142\n",
      "i= 0\tj= 7\tinitialization=0.001\ttrain acc: 1.0000 test acc: 0.9511 n_iter: 122\n",
      "i= 0\tj= 8\tinitialization=0.001\ttrain acc: 1.0000 test acc: 0.9533 n_iter: 140\n",
      "i= 0\tj= 9\tinitialization=0.001\ttrain acc: 0.1529 test acc: 0.1378 n_iter: 4\n",
      "i= 0\tj=10\tinitialization=0.001\ttrain acc: 1.0000 test acc: 0.9489 n_iter: 118\n",
      "i= 0\tj=11\tinitialization=0.001\ttrain acc: 0.1500 test acc: 0.1444 n_iter: 4\n",
      "i= 0\tj=12\tinitialization=0.001\ttrain acc: 1.0000 test acc: 0.9600 n_iter: 116\n",
      "i= 0\tj=13\tinitialization=0.001\ttrain acc: 0.1047 test acc: 0.0822 n_iter: 5\n",
      "i= 0\tj=14\tinitialization=0.001\ttrain acc: 1.0000 test acc: 0.9556 n_iter: 90\n",
      "i= 1\tj= 0\tinitialization=0.01\ttrain acc: 1.0000 test acc: 0.9556 n_iter: 132\n",
      "i= 1\tj= 1\tinitialization=0.01\ttrain acc: 1.0000 test acc: 0.9600 n_iter: 123\n",
      "i= 1\tj= 2\tinitialization=0.01\ttrain acc: 1.0000 test acc: 0.9667 n_iter: 144\n",
      "i= 1\tj= 3\tinitialization=0.01\ttrain acc: 1.0000 test acc: 0.9489 n_iter: 125\n",
      "i= 1\tj= 4\tinitialization=0.01\ttrain acc: 1.0000 test acc: 0.9444 n_iter: 152\n",
      "i= 1\tj= 5\tinitialization=0.01\ttrain acc: 1.0000 test acc: 0.9444 n_iter: 176\n",
      "i= 1\tj= 6\tinitialization=0.01\ttrain acc: 1.0000 test acc: 0.9511 n_iter: 124\n",
      "i= 1\tj= 7\tinitialization=0.01\ttrain acc: 1.0000 test acc: 0.9422 n_iter: 118\n",
      "i= 1\tj= 8\tinitialization=0.01\ttrain acc: 1.0000 test acc: 0.9444 n_iter: 130\n",
      "i= 1\tj= 9\tinitialization=0.01\ttrain acc: 1.0000 test acc: 0.9578 n_iter: 168\n",
      "i= 1\tj=10\tinitialization=0.01\ttrain acc: 1.0000 test acc: 0.9533 n_iter: 149\n",
      "i= 1\tj=11\tinitialization=0.01\ttrain acc: 1.0000 test acc: 0.9644 n_iter: 136\n",
      "i= 1\tj=12\tinitialization=0.01\ttrain acc: 1.0000 test acc: 0.9467 n_iter: 123\n",
      "i= 1\tj=13\tinitialization=0.01\ttrain acc: 1.0000 test acc: 0.9556 n_iter: 137\n",
      "i= 1\tj=14\tinitialization=0.01\ttrain acc: 1.0000 test acc: 0.9400 n_iter: 137\n",
      "i= 2\tj= 0\tinitialization=0.1\ttrain acc: 1.0000 test acc: 0.9600 n_iter: 88\n",
      "i= 2\tj= 1\tinitialization=0.1\ttrain acc: 1.0000 test acc: 0.9467 n_iter: 79\n",
      "i= 2\tj= 2\tinitialization=0.1\ttrain acc: 1.0000 test acc: 0.9578 n_iter: 95\n",
      "i= 2\tj= 3\tinitialization=0.1\ttrain acc: 1.0000 test acc: 0.9533 n_iter: 88\n",
      "i= 2\tj= 4\tinitialization=0.1\ttrain acc: 1.0000 test acc: 0.9422 n_iter: 81\n",
      "i= 2\tj= 5\tinitialization=0.1\ttrain acc: 1.0000 test acc: 0.9578 n_iter: 68\n",
      "i= 2\tj= 6\tinitialization=0.1\ttrain acc: 1.0000 test acc: 0.9444 n_iter: 77\n",
      "i= 2\tj= 7\tinitialization=0.1\ttrain acc: 1.0000 test acc: 0.9511 n_iter: 64\n",
      "i= 2\tj= 8\tinitialization=0.1\ttrain acc: 1.0000 test acc: 0.9533 n_iter: 80\n",
      "i= 2\tj= 9\tinitialization=0.1\ttrain acc: 1.0000 test acc: 0.9556 n_iter: 85\n",
      "i= 2\tj=10\tinitialization=0.1\ttrain acc: 1.0000 test acc: 0.9667 n_iter: 85\n",
      "i= 2\tj=11\tinitialization=0.1\ttrain acc: 1.0000 test acc: 0.9600 n_iter: 87\n",
      "i= 2\tj=12\tinitialization=0.1\ttrain acc: 1.0000 test acc: 0.9556 n_iter: 96\n",
      "i= 2\tj=13\tinitialization=0.1\ttrain acc: 1.0000 test acc: 0.9378 n_iter: 90\n",
      "i= 2\tj=14\tinitialization=0.1\ttrain acc: 1.0000 test acc: 0.9667 n_iter: 87\n",
      "i= 3\tj= 0\tinitialization='Kaiming'\ttrain acc: 1.0000 test acc: 0.9733 n_iter: 99\n",
      "i= 3\tj= 1\tinitialization='Kaiming'\ttrain acc: 1.0000 test acc: 0.9444 n_iter: 129\n",
      "i= 3\tj= 2\tinitialization='Kaiming'\ttrain acc: 1.0000 test acc: 0.9600 n_iter: 109\n",
      "i= 3\tj= 3\tinitialization='Kaiming'\ttrain acc: 1.0000 test acc: 0.9622 n_iter: 140\n",
      "i= 3\tj= 4\tinitialization='Kaiming'\ttrain acc: 1.0000 test acc: 0.9489 n_iter: 103\n",
      "i= 3\tj= 5\tinitialization='Kaiming'\ttrain acc: 1.0000 test acc: 0.9422 n_iter: 207\n",
      "i= 3\tj= 6\tinitialization='Kaiming'\ttrain acc: 1.0000 test acc: 0.9644 n_iter: 139\n",
      "i= 3\tj= 7\tinitialization='Kaiming'\ttrain acc: 1.0000 test acc: 0.9622 n_iter: 84\n",
      "i= 3\tj= 8\tinitialization='Kaiming'\ttrain acc: 1.0000 test acc: 0.9511 n_iter: 86\n",
      "i= 3\tj= 9\tinitialization='Kaiming'\ttrain acc: 1.0000 test acc: 0.9556 n_iter: 89\n",
      "i= 3\tj=10\tinitialization='Kaiming'\ttrain acc: 1.0000 test acc: 0.9578 n_iter: 79\n",
      "i= 3\tj=11\tinitialization='Kaiming'\ttrain acc: 1.0000 test acc: 0.9444 n_iter: 155\n",
      "i= 3\tj=12\tinitialization='Kaiming'\ttrain acc: 1.0000 test acc: 0.9578 n_iter: 118\n",
      "i= 3\tj=13\tinitialization='Kaiming'\ttrain acc: 1.0000 test acc: 0.9444 n_iter: 129\n",
      "i= 3\tj=14\tinitialization='Kaiming'\ttrain acc: 1.0000 test acc: 0.9533 n_iter: 205\n",
      "i= 4\tj= 0\tinitialization='Xavier'\ttrain acc: 1.0000 test acc: 0.9600 n_iter: 80\n",
      "i= 4\tj= 1\tinitialization='Xavier'\ttrain acc: 1.0000 test acc: 0.9600 n_iter: 80\n",
      "i= 4\tj= 2\tinitialization='Xavier'\ttrain acc: 1.0000 test acc: 0.9600 n_iter: 88\n",
      "i= 4\tj= 3\tinitialization='Xavier'\ttrain acc: 1.0000 test acc: 0.9556 n_iter: 73\n",
      "i= 4\tj= 4\tinitialization='Xavier'\ttrain acc: 1.0000 test acc: 0.9533 n_iter: 72\n",
      "i= 4\tj= 5\tinitialization='Xavier'\ttrain acc: 1.0000 test acc: 0.9667 n_iter: 69\n",
      "i= 4\tj= 6\tinitialization='Xavier'\ttrain acc: 1.0000 test acc: 0.9622 n_iter: 71\n",
      "i= 4\tj= 7\tinitialization='Xavier'\ttrain acc: 1.0000 test acc: 0.9689 n_iter: 60\n",
      "i= 4\tj= 8\tinitialization='Xavier'\ttrain acc: 1.0000 test acc: 0.9600 n_iter: 87\n",
      "i= 4\tj= 9\tinitialization='Xavier'\ttrain acc: 1.0000 test acc: 0.9533 n_iter: 64\n",
      "i= 4\tj=10\tinitialization='Xavier'\ttrain acc: 1.0000 test acc: 0.9556 n_iter: 62\n",
      "i= 4\tj=11\tinitialization='Xavier'\ttrain acc: 1.0000 test acc: 0.9578 n_iter: 66\n",
      "i= 4\tj=12\tinitialization='Xavier'\ttrain acc: 1.0000 test acc: 0.9667 n_iter: 69\n",
      "i= 4\tj=13\tinitialization='Xavier'\ttrain acc: 1.0000 test acc: 0.9711 n_iter: 74\n",
      "i= 4\tj=14\tinitialization='Xavier'\ttrain acc: 1.0000 test acc: 0.9556 n_iter: 76\n"
     ]
    }
   ],
   "source": [
    "np.random.seed(42)\n",
    "layer_c = 3\n",
    "\n",
    "for i, initialization in enumerate(init_vars):\n",
    "    for j in range(accs_train.shape[1]):\n",
    "        print(f\"{i=:2}\\t{j=:2}\\t{initialization=}\\t\", end='')\n",
    "        network = make_network(input_size, 32, output_size, layer_c, ReLU)\n",
    "        initialize_network(network, initialization)\n",
    "        network, cb = train_network(network, history=True)\n",
    "        \n",
    "        accs_train[i, j] = cb.train_acc[-1]\n",
    "        accs_test[i, j] = cb.test_acc[-1]\n",
    "        print(f\"train acc: {accs_train[i, j]:5.4f} test acc: {accs_test[i, j]:5.4f} n_iter: {len(cb.train_acc)}\")"
   ]
  },
  {
   "cell_type": "markdown",
   "metadata": {
    "hidden": true
   },
   "source": [
    "Построим боксплоты полученного качества (горизонтальная линия в каждом столбце — среднее, прямоугольник показывает разброс)."
   ]
  },
  {
   "cell_type": "code",
   "execution_count": 101,
   "metadata": {
    "hidden": true,
    "scrolled": false,
    "ExecuteTime": {
     "end_time": "2024-03-02T13:47:37.456131800Z",
     "start_time": "2024-03-02T13:47:37.271813500Z"
    }
   },
   "outputs": [
    {
     "data": {
      "text/plain": "<Figure size 1000x500 with 1 Axes>",
      "image/png": "[encoded data removed]"
     },
     "metadata": {},
     "output_type": "display_data"
    }
   ],
   "source": [
    "init_vars_for_plot = [(x if isinstance(x, str) else fr\"$\\sigma = {x}$\") for x in init_vars]\n",
    "\n",
    "fig, ax = plt.subplots(1, 1, figsize=(10, 5))\n",
    "\n",
    "ax.boxplot(accs_test.T, labels=init_vars_for_plot, showfliers=False)\n",
    "\n",
    "ax.set_title(f\"Test quality in {accs_test.shape[1]} runs\")\n",
    "ax.set_xlabel(\"Initialization\")\n",
    "ax.set_ylabel(\"Test accuracy\")\n",
    "ax.grid(True)\n",
    "\n",
    "fig.tight_layout()\n",
    "plt.show()"
   ]
  },
  {
   "cell_type": "markdown",
   "metadata": {
    "heading_collapsed": true,
    "hidden": true
   },
   "source": [
    "#### `4 слоя`\n",
    "\n",
    "Выполните тут тот же код, что и в предыдущем пункте, но только уже с 4 слоями в сети."
   ]
  },
  {
   "cell_type": "code",
   "execution_count": 102,
   "metadata": {
    "hidden": true,
    "ExecuteTime": {
     "end_time": "2024-03-02T13:47:42.150897500Z",
     "start_time": "2024-03-02T13:47:42.095891400Z"
    }
   },
   "outputs": [],
   "source": [
    "init_vars = [5e-3, 1e-2, 1e-1, 'Kaiming', 'Xavier']"
   ]
  },
  {
   "cell_type": "code",
   "execution_count": 103,
   "metadata": {
    "hidden": true,
    "ExecuteTime": {
     "end_time": "2024-03-02T13:47:43.057745Z",
     "start_time": "2024-03-02T13:47:43.013231Z"
    }
   },
   "outputs": [],
   "source": [
    "accs_train = np.zeros((5, 15))\n",
    "accs_test = np.zeros_like(accs_train)"
   ]
  },
  {
   "cell_type": "code",
   "execution_count": 104,
   "metadata": {
    "hidden": true,
    "ExecuteTime": {
     "end_time": "2024-03-02T13:51:19.464834200Z",
     "start_time": "2024-03-02T13:47:51.936447500Z"
    }
   },
   "outputs": [
    {
     "name": "stdout",
     "output_type": "stream",
     "text": [
      "i= 0\tj= 0\tinitialization=0.005\ttrain acc: 0.1062 test acc: 0.0844 n_iter: 3\n",
      "i= 0\tj= 1\tinitialization=0.005\ttrain acc: 0.1062 test acc: 0.0844 n_iter: 3\n",
      "i= 0\tj= 2\tinitialization=0.005\ttrain acc: 0.0987 test acc: 0.0978 n_iter: 6\n",
      "i= 0\tj= 3\tinitialization=0.005\ttrain acc: 1.0000 test acc: 0.9578 n_iter: 172\n",
      "i= 0\tj= 4\tinitialization=0.005\ttrain acc: 0.1062 test acc: 0.0844 n_iter: 3\n",
      "i= 0\tj= 5\tinitialization=0.005\ttrain acc: 0.1062 test acc: 0.0844 n_iter: 3\n",
      "i= 0\tj= 6\tinitialization=0.005\ttrain acc: 0.1544 test acc: 0.1378 n_iter: 5\n",
      "i= 0\tj= 7\tinitialization=0.005\ttrain acc: 0.1062 test acc: 0.0844 n_iter: 3\n",
      "i= 0\tj= 8\tinitialization=0.005\ttrain acc: 1.0000 test acc: 0.9556 n_iter: 123\n",
      "i= 0\tj= 9\tinitialization=0.005\ttrain acc: 0.1062 test acc: 0.0844 n_iter: 3\n",
      "i= 0\tj=10\tinitialization=0.005\ttrain acc: 0.1062 test acc: 0.0844 n_iter: 3\n",
      "i= 0\tj=11\tinitialization=0.005\ttrain acc: 1.0000 test acc: 0.9467 n_iter: 158\n",
      "i= 0\tj=12\tinitialization=0.005\ttrain acc: 1.0000 test acc: 0.9489 n_iter: 190\n",
      "i= 0\tj=13\tinitialization=0.005\ttrain acc: 0.0987 test acc: 0.0978 n_iter: 6\n",
      "i= 0\tj=14\tinitialization=0.005\ttrain acc: 1.0000 test acc: 0.9333 n_iter: 227\n",
      "i= 1\tj= 0\tinitialization=0.01\ttrain acc: 1.0000 test acc: 0.9489 n_iter: 143\n",
      "i= 1\tj= 1\tinitialization=0.01\ttrain acc: 1.0000 test acc: 0.9622 n_iter: 136\n",
      "i= 1\tj= 2\tinitialization=0.01\ttrain acc: 1.0000 test acc: 0.9467 n_iter: 228\n",
      "i= 1\tj= 3\tinitialization=0.01\ttrain acc: 1.0000 test acc: 0.9444 n_iter: 198\n",
      "i= 1\tj= 4\tinitialization=0.01\ttrain acc: 1.0000 test acc: 0.9489 n_iter: 197\n",
      "i= 1\tj= 5\tinitialization=0.01\ttrain acc: 1.0000 test acc: 0.9489 n_iter: 233\n",
      "i= 1\tj= 6\tinitialization=0.01\ttrain acc: 1.0000 test acc: 0.9556 n_iter: 174\n",
      "i= 1\tj= 7\tinitialization=0.01\ttrain acc: 1.0000 test acc: 0.9378 n_iter: 212\n",
      "i= 1\tj= 8\tinitialization=0.01\ttrain acc: 1.0000 test acc: 0.9511 n_iter: 174\n",
      "i= 1\tj= 9\tinitialization=0.01\ttrain acc: 1.0000 test acc: 0.9356 n_iter: 159\n",
      "i= 1\tj=10\tinitialization=0.01\ttrain acc: 1.0000 test acc: 0.9222 n_iter: 224\n",
      "i= 1\tj=11\tinitialization=0.01\ttrain acc: 1.0000 test acc: 0.9511 n_iter: 187\n",
      "i= 1\tj=12\tinitialization=0.01\ttrain acc: 1.0000 test acc: 0.9422 n_iter: 255\n",
      "i= 1\tj=13\tinitialization=0.01\ttrain acc: 1.0000 test acc: 0.9556 n_iter: 217\n",
      "i= 1\tj=14\tinitialization=0.01\ttrain acc: 1.0000 test acc: 0.9422 n_iter: 189\n",
      "i= 2\tj= 0\tinitialization=0.1\ttrain acc: 1.0000 test acc: 0.9556 n_iter: 102\n",
      "i= 2\tj= 1\tinitialization=0.1\ttrain acc: 1.0000 test acc: 0.9689 n_iter: 89\n",
      "i= 2\tj= 2\tinitialization=0.1\ttrain acc: 1.0000 test acc: 0.9622 n_iter: 85\n",
      "i= 2\tj= 3\tinitialization=0.1\ttrain acc: 1.0000 test acc: 0.9556 n_iter: 99\n",
      "i= 2\tj= 4\tinitialization=0.1\ttrain acc: 1.0000 test acc: 0.9556 n_iter: 82\n",
      "i= 2\tj= 5\tinitialization=0.1\ttrain acc: 1.0000 test acc: 0.9556 n_iter: 107\n",
      "i= 2\tj= 6\tinitialization=0.1\ttrain acc: 1.0000 test acc: 0.9644 n_iter: 86\n",
      "i= 2\tj= 7\tinitialization=0.1\ttrain acc: 1.0000 test acc: 0.9622 n_iter: 97\n",
      "i= 2\tj= 8\tinitialization=0.1\ttrain acc: 1.0000 test acc: 0.9489 n_iter: 97\n",
      "i= 2\tj= 9\tinitialization=0.1\ttrain acc: 1.0000 test acc: 0.9622 n_iter: 101\n",
      "i= 2\tj=10\tinitialization=0.1\ttrain acc: 1.0000 test acc: 0.9578 n_iter: 99\n",
      "i= 2\tj=11\tinitialization=0.1\ttrain acc: 1.0000 test acc: 0.9600 n_iter: 87\n",
      "i= 2\tj=12\tinitialization=0.1\ttrain acc: 1.0000 test acc: 0.9644 n_iter: 97\n",
      "i= 2\tj=13\tinitialization=0.1\ttrain acc: 1.0000 test acc: 0.9467 n_iter: 112\n",
      "i= 2\tj=14\tinitialization=0.1\ttrain acc: 1.0000 test acc: 0.9622 n_iter: 97\n",
      "i= 3\tj= 0\tinitialization='Kaiming'\ttrain acc: 1.0000 test acc: 0.9444 n_iter: 188\n",
      "i= 3\tj= 1\tinitialization='Kaiming'\ttrain acc: 1.0000 test acc: 0.9644 n_iter: 148\n",
      "i= 3\tj= 2\tinitialization='Kaiming'\ttrain acc: 1.0000 test acc: 0.9600 n_iter: 133\n",
      "i= 3\tj= 3\tinitialization='Kaiming'\ttrain acc: 1.0000 test acc: 0.9556 n_iter: 203\n",
      "i= 3\tj= 4\tinitialization='Kaiming'\ttrain acc: 1.0000 test acc: 0.9489 n_iter: 243\n",
      "i= 3\tj= 5\tinitialization='Kaiming'\ttrain acc: 1.0000 test acc: 0.9556 n_iter: 144\n",
      "i= 3\tj= 6\tinitialization='Kaiming'\ttrain acc: 1.0000 test acc: 0.9511 n_iter: 184\n",
      "i= 3\tj= 7\tinitialization='Kaiming'\ttrain acc: 1.0000 test acc: 0.9533 n_iter: 116\n",
      "i= 3\tj= 8\tinitialization='Kaiming'\ttrain acc: 1.0000 test acc: 0.9556 n_iter: 210\n",
      "i= 3\tj= 9\tinitialization='Kaiming'\ttrain acc: 1.0000 test acc: 0.9622 n_iter: 170\n",
      "i= 3\tj=10\tinitialization='Kaiming'\ttrain acc: 1.0000 test acc: 0.9467 n_iter: 115\n",
      "i= 3\tj=11\tinitialization='Kaiming'\ttrain acc: 1.0000 test acc: 0.9511 n_iter: 152\n",
      "i= 3\tj=12\tinitialization='Kaiming'\ttrain acc: 1.0000 test acc: 0.9556 n_iter: 196\n",
      "i= 3\tj=13\tinitialization='Kaiming'\ttrain acc: 1.0000 test acc: 0.9600 n_iter: 130\n",
      "i= 3\tj=14\tinitialization='Kaiming'\ttrain acc: 1.0000 test acc: 0.9622 n_iter: 156\n",
      "i= 4\tj= 0\tinitialization='Xavier'\ttrain acc: 1.0000 test acc: 0.9644 n_iter: 99\n",
      "i= 4\tj= 1\tinitialization='Xavier'\ttrain acc: 1.0000 test acc: 0.9600 n_iter: 82\n",
      "i= 4\tj= 2\tinitialization='Xavier'\ttrain acc: 1.0000 test acc: 0.9467 n_iter: 78\n",
      "i= 4\tj= 3\tinitialization='Xavier'\ttrain acc: 1.0000 test acc: 0.9511 n_iter: 84\n",
      "i= 4\tj= 4\tinitialization='Xavier'\ttrain acc: 1.0000 test acc: 0.9422 n_iter: 99\n",
      "i= 4\tj= 5\tinitialization='Xavier'\ttrain acc: 1.0000 test acc: 0.9600 n_iter: 83\n",
      "i= 4\tj= 6\tinitialization='Xavier'\ttrain acc: 1.0000 test acc: 0.9556 n_iter: 75\n",
      "i= 4\tj= 7\tinitialization='Xavier'\ttrain acc: 1.0000 test acc: 0.9511 n_iter: 77\n",
      "i= 4\tj= 8\tinitialization='Xavier'\ttrain acc: 1.0000 test acc: 0.9511 n_iter: 78\n",
      "i= 4\tj= 9\tinitialization='Xavier'\ttrain acc: 1.0000 test acc: 0.9489 n_iter: 87\n",
      "i= 4\tj=10\tinitialization='Xavier'\ttrain acc: 1.0000 test acc: 0.9644 n_iter: 73\n",
      "i= 4\tj=11\tinitialization='Xavier'\ttrain acc: 1.0000 test acc: 0.9556 n_iter: 86\n",
      "i= 4\tj=12\tinitialization='Xavier'\ttrain acc: 1.0000 test acc: 0.9644 n_iter: 80\n",
      "i= 4\tj=13\tinitialization='Xavier'\ttrain acc: 1.0000 test acc: 0.9533 n_iter: 70\n",
      "i= 4\tj=14\tinitialization='Xavier'\ttrain acc: 1.0000 test acc: 0.9689 n_iter: 70\n"
     ]
    }
   ],
   "source": [
    "np.random.seed(42)\n",
    "layer_c = 4\n",
    "\n",
    "for i, initialization in enumerate(init_vars):\n",
    "    for j in range(accs_train.shape[1]):\n",
    "        print(f\"{i=:2}\\t{j=:2}\\t{initialization=}\\t\", end='')\n",
    "        network = make_network(input_size, 32, output_size, layer_c, ReLU)\n",
    "        initialize_network(network, initialization)\n",
    "        network, cb = train_network(network, history=True)\n",
    "        \n",
    "        accs_train[i, j] = cb.train_acc[-1]\n",
    "        accs_test[i, j] = cb.test_acc[-1]\n",
    "        print(f\"train acc: {accs_train[i, j]:5.4f} test acc: {accs_test[i, j]:5.4f} n_iter: {len(cb.train_acc)}\")"
   ]
  },
  {
   "cell_type": "markdown",
   "metadata": {
    "hidden": true
   },
   "source": [
    "Построим боксплоты полученного качества (горизонтальная линия в каждом столбце — среднее, прямоугольник показывает разброс)."
   ]
  },
  {
   "cell_type": "code",
   "execution_count": 105,
   "metadata": {
    "hidden": true,
    "scrolled": false,
    "ExecuteTime": {
     "end_time": "2024-03-02T13:51:19.581915400Z",
     "start_time": "2024-03-02T13:51:19.458812700Z"
    }
   },
   "outputs": [
    {
     "data": {
      "text/plain": "<Figure size 1000x500 with 1 Axes>",
      "image/png": "[encoded data removed]"
     },
     "metadata": {},
     "output_type": "display_data"
    }
   ],
   "source": [
    "init_vars_for_plot = [(x if isinstance(x, str) else fr\"$\\sigma = {x}$\") for x in init_vars]\n",
    "\n",
    "fig, ax = plt.subplots(1, 1, figsize=(10, 5))\n",
    "\n",
    "ax.boxplot(accs_test.T, labels=init_vars_for_plot, showfliers=False)\n",
    "\n",
    "ax.set_title(f\"Test quality in {accs_test.shape[1]} runs with 4 layers\")\n",
    "ax.set_xlabel(\"Initialization\")\n",
    "ax.set_ylabel(\"Test accuracy\")\n",
    "ax.grid(True)\n",
    "\n",
    "fig.tight_layout()\n",
    "plt.show()"
   ]
  },
  {
   "cell_type": "markdown",
   "metadata": {
    "heading_collapsed": true,
    "hidden": true
   },
   "source": [
    "#### `5 слоев`\n",
    "\n",
    "Выполните тут тот же код, что и в предыдущем пункте, но только уже с 5 слоями в сети."
   ]
  },
  {
   "cell_type": "code",
   "execution_count": 106,
   "metadata": {
    "hidden": true,
    "ExecuteTime": {
     "end_time": "2024-03-02T13:51:23.804595500Z",
     "start_time": "2024-03-02T13:51:23.728301500Z"
    }
   },
   "outputs": [],
   "source": [
    "init_vars = [1e-2, 1e-1, 1e0, 'Kaiming', 'Xavier']"
   ]
  },
  {
   "cell_type": "code",
   "execution_count": 107,
   "metadata": {
    "hidden": true,
    "ExecuteTime": {
     "end_time": "2024-03-02T13:51:24.621054900Z",
     "start_time": "2024-03-02T13:51:24.563037400Z"
    }
   },
   "outputs": [],
   "source": [
    "accs_train = np.zeros((5, 15))\n",
    "accs_test = np.zeros_like(accs_train)"
   ]
  },
  {
   "cell_type": "code",
   "execution_count": 108,
   "metadata": {
    "hidden": true,
    "ExecuteTime": {
     "end_time": "2024-03-02T13:56:43.631349200Z",
     "start_time": "2024-03-02T13:51:38.506322400Z"
    }
   },
   "outputs": [
    {
     "name": "stdout",
     "output_type": "stream",
     "text": [
      "i= 0\tj= 0\tinitialization=0.01\ttrain acc: 0.1062 test acc: 0.0844 n_iter: 3\n",
      "i= 0\tj= 1\tinitialization=0.01\ttrain acc: 0.1062 test acc: 0.0844 n_iter: 3\n",
      "i= 0\tj= 2\tinitialization=0.01\ttrain acc: 0.1062 test acc: 0.0844 n_iter: 3\n",
      "i= 0\tj= 3\tinitialization=0.01\ttrain acc: 0.1062 test acc: 0.0844 n_iter: 3\n",
      "i= 0\tj= 4\tinitialization=0.01\ttrain acc: 0.1062 test acc: 0.0844 n_iter: 3\n",
      "i= 0\tj= 5\tinitialization=0.01\ttrain acc: 0.1062 test acc: 0.0844 n_iter: 3\n",
      "i= 0\tj= 6\tinitialization=0.01\ttrain acc: 0.1062 test acc: 0.0844 n_iter: 3\n",
      "i= 0\tj= 7\tinitialization=0.01\ttrain acc: 0.1062 test acc: 0.0844 n_iter: 2\n",
      "i= 0\tj= 8\tinitialization=0.01\ttrain acc: 0.1062 test acc: 0.0844 n_iter: 3\n",
      "i= 0\tj= 9\tinitialization=0.01\ttrain acc: 0.1062 test acc: 0.0844 n_iter: 3\n",
      "i= 0\tj=10\tinitialization=0.01\ttrain acc: 0.1062 test acc: 0.0844 n_iter: 3\n",
      "i= 0\tj=11\tinitialization=0.01\ttrain acc: 0.1062 test acc: 0.0844 n_iter: 3\n",
      "i= 0\tj=12\tinitialization=0.01\ttrain acc: 0.1062 test acc: 0.0844 n_iter: 3\n",
      "i= 0\tj=13\tinitialization=0.01\ttrain acc: 0.1062 test acc: 0.0844 n_iter: 3\n",
      "i= 0\tj=14\tinitialization=0.01\ttrain acc: 0.1062 test acc: 0.0844 n_iter: 3\n",
      "i= 1\tj= 0\tinitialization=0.1\ttrain acc: 1.0000 test acc: 0.9378 n_iter: 133\n",
      "i= 1\tj= 1\tinitialization=0.1\ttrain acc: 1.0000 test acc: 0.9622 n_iter: 130\n",
      "i= 1\tj= 2\tinitialization=0.1\ttrain acc: 1.0000 test acc: 0.9622 n_iter: 103\n",
      "i= 1\tj= 3\tinitialization=0.1\ttrain acc: 1.0000 test acc: 0.9467 n_iter: 114\n",
      "i= 1\tj= 4\tinitialization=0.1\ttrain acc: 1.0000 test acc: 0.9556 n_iter: 141\n",
      "i= 1\tj= 5\tinitialization=0.1\ttrain acc: 1.0000 test acc: 0.9422 n_iter: 137\n",
      "i= 1\tj= 6\tinitialization=0.1\ttrain acc: 1.0000 test acc: 0.9489 n_iter: 122\n",
      "i= 1\tj= 7\tinitialization=0.1\ttrain acc: 1.0000 test acc: 0.9622 n_iter: 112\n",
      "i= 1\tj= 8\tinitialization=0.1\ttrain acc: 1.0000 test acc: 0.9556 n_iter: 160\n",
      "i= 1\tj= 9\tinitialization=0.1\ttrain acc: 1.0000 test acc: 0.9511 n_iter: 120\n",
      "i= 1\tj=10\tinitialization=0.1\ttrain acc: 1.0000 test acc: 0.9533 n_iter: 126\n",
      "i= 1\tj=11\tinitialization=0.1\ttrain acc: 1.0000 test acc: 0.9644 n_iter: 100\n",
      "i= 1\tj=12\tinitialization=0.1\ttrain acc: 1.0000 test acc: 0.9622 n_iter: 123\n",
      "i= 1\tj=13\tinitialization=0.1\ttrain acc: 1.0000 test acc: 0.9578 n_iter: 112\n",
      "i= 1\tj=14\tinitialization=0.1\ttrain acc: 1.0000 test acc: 0.9467 n_iter: 124\n",
      "i= 2\tj= 0\tinitialization=1.0\ttrain acc: 0.2940 test acc: 0.2400 n_iter: 143\n",
      "i= 2\tj= 1\tinitialization=1.0\ttrain acc: 0.1166 test acc: 0.0911 n_iter: 49\n",
      "i= 2\tj= 2\tinitialization=1.0\ttrain acc: 1.0000 test acc: 0.8956 n_iter: 1523\n",
      "i= 2\tj= 3\tinitialization=1.0\ttrain acc: 0.1767 test acc: 0.1289 n_iter: 57\n",
      "i= 2\tj= 4\tinitialization=1.0\ttrain acc: 0.7238 test acc: 0.6622 n_iter: 354\n",
      "i= 2\tj= 5\tinitialization=1.0\ttrain acc: 0.1114 test acc: 0.0844 n_iter: 25\n",
      "i= 2\tj= 6\tinitialization=1.0\ttrain acc: 0.1811 test acc: 0.1378 n_iter: 59\n",
      "i= 2\tj= 7\tinitialization=1.0\ttrain acc: 0.1381 test acc: 0.1133 n_iter: 42\n",
      "i= 2\tj= 8\tinitialization=1.0\ttrain acc: 0.1915 test acc: 0.1444 n_iter: 85\n",
      "i= 2\tj= 9\tinitialization=1.0\ttrain acc: 0.3623 test acc: 0.3178 n_iter: 191\n",
      "i= 2\tj=10\tinitialization=1.0\ttrain acc: 0.1448 test acc: 0.1089 n_iter: 31\n",
      "i= 2\tj=11\tinitialization=1.0\ttrain acc: 0.1084 test acc: 0.0867 n_iter: 19\n",
      "i= 2\tj=12\tinitialization=1.0\ttrain acc: 0.1633 test acc: 0.1422 n_iter: 113\n",
      "i= 2\tj=13\tinitialization=1.0\ttrain acc: 0.1091 test acc: 0.0889 n_iter: 40\n",
      "i= 2\tj=14\tinitialization=1.0\ttrain acc: 0.5419 test acc: 0.4911 n_iter: 581\n",
      "i= 3\tj= 0\tinitialization='Kaiming'\ttrain acc: 1.0000 test acc: 0.9556 n_iter: 171\n",
      "i= 3\tj= 1\tinitialization='Kaiming'\ttrain acc: 1.0000 test acc: 0.9533 n_iter: 159\n",
      "i= 3\tj= 2\tinitialization='Kaiming'\ttrain acc: 1.0000 test acc: 0.9422 n_iter: 284\n",
      "i= 3\tj= 3\tinitialization='Kaiming'\ttrain acc: 1.0000 test acc: 0.9511 n_iter: 245\n",
      "i= 3\tj= 4\tinitialization='Kaiming'\ttrain acc: 1.0000 test acc: 0.9511 n_iter: 281\n",
      "i= 3\tj= 5\tinitialization='Kaiming'\ttrain acc: 1.0000 test acc: 0.9467 n_iter: 179\n",
      "i= 3\tj= 6\tinitialization='Kaiming'\ttrain acc: 1.0000 test acc: 0.9356 n_iter: 256\n",
      "i= 3\tj= 7\tinitialization='Kaiming'\ttrain acc: 1.0000 test acc: 0.9689 n_iter: 186\n",
      "i= 3\tj= 8\tinitialization='Kaiming'\ttrain acc: 1.0000 test acc: 0.9578 n_iter: 151\n",
      "i= 3\tj= 9\tinitialization='Kaiming'\ttrain acc: 1.0000 test acc: 0.9533 n_iter: 290\n",
      "i= 3\tj=10\tinitialization='Kaiming'\ttrain acc: 1.0000 test acc: 0.9556 n_iter: 232\n",
      "i= 3\tj=11\tinitialization='Kaiming'\ttrain acc: 1.0000 test acc: 0.9556 n_iter: 244\n",
      "i= 3\tj=12\tinitialization='Kaiming'\ttrain acc: 1.0000 test acc: 0.9622 n_iter: 295\n",
      "i= 3\tj=13\tinitialization='Kaiming'\ttrain acc: 1.0000 test acc: 0.9444 n_iter: 172\n",
      "i= 3\tj=14\tinitialization='Kaiming'\ttrain acc: 1.0000 test acc: 0.9467 n_iter: 253\n",
      "i= 4\tj= 0\tinitialization='Xavier'\ttrain acc: 1.0000 test acc: 0.9578 n_iter: 91\n",
      "i= 4\tj= 1\tinitialization='Xavier'\ttrain acc: 1.0000 test acc: 0.9511 n_iter: 80\n",
      "i= 4\tj= 2\tinitialization='Xavier'\ttrain acc: 1.0000 test acc: 0.9511 n_iter: 80\n",
      "i= 4\tj= 3\tinitialization='Xavier'\ttrain acc: 1.0000 test acc: 0.9644 n_iter: 87\n",
      "i= 4\tj= 4\tinitialization='Xavier'\ttrain acc: 1.0000 test acc: 0.9533 n_iter: 99\n",
      "i= 4\tj= 5\tinitialization='Xavier'\ttrain acc: 1.0000 test acc: 0.9622 n_iter: 82\n",
      "i= 4\tj= 6\tinitialization='Xavier'\ttrain acc: 1.0000 test acc: 0.9600 n_iter: 88\n",
      "i= 4\tj= 7\tinitialization='Xavier'\ttrain acc: 1.0000 test acc: 0.9489 n_iter: 75\n",
      "i= 4\tj= 8\tinitialization='Xavier'\ttrain acc: 1.0000 test acc: 0.9444 n_iter: 98\n",
      "i= 4\tj= 9\tinitialization='Xavier'\ttrain acc: 1.0000 test acc: 0.9556 n_iter: 85\n",
      "i= 4\tj=10\tinitialization='Xavier'\ttrain acc: 1.0000 test acc: 0.9667 n_iter: 89\n",
      "i= 4\tj=11\tinitialization='Xavier'\ttrain acc: 1.0000 test acc: 0.9689 n_iter: 98\n",
      "i= 4\tj=12\tinitialization='Xavier'\ttrain acc: 1.0000 test acc: 0.9667 n_iter: 79\n",
      "i= 4\tj=13\tinitialization='Xavier'\ttrain acc: 1.0000 test acc: 0.9600 n_iter: 94\n",
      "i= 4\tj=14\tinitialization='Xavier'\ttrain acc: 1.0000 test acc: 0.9556 n_iter: 123\n"
     ]
    }
   ],
   "source": [
    "np.random.seed(42)\n",
    "layer_c = 5\n",
    "\n",
    "for i, initialization in enumerate(init_vars):\n",
    "    for j in range(accs_train.shape[1]):\n",
    "        print(f\"{i=:2}\\t{j=:2}\\t{initialization=}\\t\", end='')\n",
    "        network = make_network(input_size, 32, output_size, layer_c, ReLU)\n",
    "        initialize_network(network, initialization)\n",
    "        network, cb = train_network(network, history=True)\n",
    "        \n",
    "        accs_train[i, j] = cb.train_acc[-1]\n",
    "        accs_test[i, j] = cb.test_acc[-1]\n",
    "        print(f\"train acc: {accs_train[i, j]:5.4f} test acc: {accs_test[i, j]:5.4f} n_iter: {len(cb.train_acc)}\")"
   ]
  },
  {
   "cell_type": "markdown",
   "metadata": {
    "hidden": true
   },
   "source": [
    "Построим боксплоты полученного качества (горизонтальная линия в каждом столбце — среднее, прямоугольник показывает разброс)."
   ]
  },
  {
   "cell_type": "code",
   "execution_count": 109,
   "metadata": {
    "hidden": true,
    "scrolled": false,
    "ExecuteTime": {
     "end_time": "2024-03-02T13:56:59.800694600Z",
     "start_time": "2024-03-02T13:56:59.681685400Z"
    }
   },
   "outputs": [
    {
     "data": {
      "text/plain": "<Figure size 1000x500 with 1 Axes>",
      "image/png": "[encoded data removed]"
     },
     "metadata": {},
     "output_type": "display_data"
    }
   ],
   "source": [
    "init_vars_for_plot = [(x if isinstance(x, str) else fr\"$\\sigma = {x}$\") for x in init_vars]\n",
    "\n",
    "fig, ax = plt.subplots(1, 1, figsize=(10, 5))\n",
    "\n",
    "ax.boxplot(accs_test.T, labels=init_vars_for_plot, showfliers=False)\n",
    "\n",
    "ax.set_title(f\"Test quality in {accs_test.shape[1]} runs with {5} layers\")\n",
    "ax.set_xlabel(\"Initialization\")\n",
    "ax.set_ylabel(\"Test accuracy\")\n",
    "ax.grid(True)\n",
    "\n",
    "fig.tight_layout()\n",
    "plt.show()"
   ]
  },
  {
   "cell_type": "markdown",
   "metadata": {
    "hidden": true
   },
   "source": [
    "Дайте развёрнутый ответ на вопросы (в этой же ячейке):\n",
    "* Как отличаются качество на обучении и контроле и устойчивость процесса обучения при различных инициализациях?\n",
    "* Какие инициализации помогают обучать более глубокие сети?\n",
    "\n",
    "__Ответы:__\n",
    "\n",
    "..."
   ]
  },
  {
   "cell_type": "markdown",
   "metadata": {
    "hidden": true
   },
   "source": [
    "Теперь сравним скорость обучения при различных инициализациях. Создайте два списка списков `accs_test_on_iterations`, `accs_train_on_iterations` в каждом из которых в позиции `[i]` (см. описание `i` в предыдущем пункте) будет лежать список из значений `accuracy` на тестовой и обучающей выборках соотвественно, полученных во время обучения модели. Количество слоев в сети зафиксируйте равным 4."
   ]
  },
  {
   "cell_type": "code",
   "execution_count": 110,
   "metadata": {
    "hidden": true,
    "ExecuteTime": {
     "end_time": "2024-03-02T13:57:12.787651800Z",
     "start_time": "2024-03-02T13:57:12.725637900Z"
    }
   },
   "outputs": [],
   "source": [
    "init_vars = [1e-3, 1e-2, 1e-1, 'Kaiming', 'Xavier']"
   ]
  },
  {
   "cell_type": "code",
   "execution_count": 111,
   "metadata": {
    "hidden": true,
    "ExecuteTime": {
     "end_time": "2024-03-02T13:57:13.302836900Z",
     "start_time": "2024-03-02T13:57:13.252324200Z"
    }
   },
   "outputs": [],
   "source": [
    "accs_test_on_iterations = []\n",
    "accs_train_on_iterations = []"
   ]
  },
  {
   "cell_type": "code",
   "execution_count": 112,
   "metadata": {
    "hidden": true,
    "ExecuteTime": {
     "end_time": "2024-03-02T13:57:26.394604300Z",
     "start_time": "2024-03-02T13:57:13.726128400Z"
    }
   },
   "outputs": [
    {
     "name": "stdout",
     "output_type": "stream",
     "text": [
      "i=0\tinitialization=0.001\n",
      "i=1\tinitialization=0.01\n",
      "i=2\tinitialization=0.1\n",
      "i=3\tinitialization='Kaiming'\n",
      "i=4\tinitialization='Xavier'\n"
     ]
    }
   ],
   "source": [
    "np.random.seed(42)\n",
    "layer_c = 4\n",
    "\n",
    "for i, initialization in enumerate(init_vars):\n",
    "    print(f\"{i=}\\t{initialization=}\")\n",
    "    network = make_network(input_size, 32, output_size, layer_c, ReLU)\n",
    "    initialize_network(network, initialization)\n",
    "    network, cb = train_network(network, history=True)\n",
    "    \n",
    "    accs_test_on_iterations.append(cb.train_acc)\n",
    "    accs_train_on_iterations.append(cb.test_acc)"
   ]
  },
  {
   "cell_type": "code",
   "execution_count": 113,
   "metadata": {
    "hidden": true,
    "ExecuteTime": {
     "end_time": "2024-03-02T13:57:28.808437700Z",
     "start_time": "2024-03-02T13:57:28.642982500Z"
    }
   },
   "outputs": [
    {
     "data": {
      "text/plain": "<Figure size 1000x500 with 1 Axes>",
      "image/png": "[encoded data removed]"
     },
     "metadata": {},
     "output_type": "display_data"
    }
   ],
   "source": [
    "fig, ax = plt.subplots(1, 1, figsize=(10, 5))\n",
    "\n",
    "for idx, label in enumerate(init_vars_for_plot):\n",
    "    ax.plot(accs_test_on_iterations[idx], label=label)\n",
    "\n",
    "ax.set_title(\"Test quality for different initializations\")\n",
    "ax.set_xlabel(\"Epoch number\")\n",
    "ax.set_ylabel(\"Test accuracy\")\n",
    "ax.grid(True)\n",
    "ax.legend()\n",
    "\n",
    "fig.tight_layout()\n",
    "plt.show()"
   ]
  },
  {
   "cell_type": "markdown",
   "metadata": {
    "ExecuteTime": {
     "end_time": "2021-03-03T14:37:15.087902Z",
     "start_time": "2021-03-03T14:37:15.065996Z"
    },
    "hidden": true
   },
   "source": [
    "Дайте развёрнутый ответ на вопросы (в этой же ячейке):\n",
    "* Как меняется скорость обучения в зависимости от выбранной инициализации?\n",
    "\n",
    "__Ответы:__\n",
    "\n",
    "Наилучшая скорость сходимости достигается при использовании инициализации Xavier. \n",
    "При использовании слишком инициализации со слишком малой дисперсией происходит затухание градиентов. \n",
    "При использовании неоптимальных значений дисперсии скорость обучения заметно замедляется. "
   ]
  },
  {
   "cell_type": "markdown",
   "metadata": {
    "heading_collapsed": true,
    "hidden": true
   },
   "source": [
    "### `Эксперименты c различными функциями активации (0.6 балла)`"
   ]
  },
  {
   "cell_type": "markdown",
   "metadata": {
    "hidden": true
   },
   "source": [
    "Проверим теперь, с какой функцией активации нейронная сеть будет обучаться лучше.\n",
    "\n",
    "В этом пункте вам предлагается попробовать обучить несколько нейронных сетей с различными функциями активации.\n",
    "\n",
    "Для этого нам нужно реализовать еще 2 слоя: для функций активации `Tanh` и `Sigmoid`."
   ]
  },
  {
   "cell_type": "code",
   "execution_count": 153,
   "metadata": {
    "hidden": true,
    "ExecuteTime": {
     "end_time": "2024-03-02T14:22:39.393670700Z",
     "start_time": "2024-03-02T14:22:39.206663800Z"
    }
   },
   "outputs": [],
   "source": [
    "class Tanh(Layer):\n",
    "    \"\"\"\n",
    "    tanh(y) = (e^y - e^(-y)) / (e^y + e^(-y))\n",
    "    Используйте функцию np.tanh для подсчета гиперболического тангенса.\n",
    "    Вы можете сами реализовать подсчет tanh, но тогда вам нужно устойчиво его вычислять.\n",
    "    \"\"\"\n",
    "    def __init__(self):\n",
    "        super().__init__()\n",
    "\n",
    "    def forward(self, input):\n",
    "        \"\"\"\n",
    "        Apply elementwise Tanh to [batch, num_units] matrix\n",
    "        \"\"\"\n",
    "        self.cosh = np.cosh(input)\n",
    "        return np.sinh(input) / self.cosh\n",
    "\n",
    "    def backward(self, grad_output):\n",
    "        \"\"\"\n",
    "        Compute gradient of loss w.r.t. Tanh input\n",
    "        grad_output shape: [batch, num_units]\n",
    "        output 1 shape: [batch, num_units]\n",
    "        output 2: []\n",
    "        \"\"\"\n",
    "        return -grad_output / np.power(self.cosh, 2), []\n",
    "\n",
    "    def __repr__(self):\n",
    "        return 'Tanh()'"
   ]
  },
  {
   "cell_type": "code",
   "execution_count": 154,
   "metadata": {
    "hidden": true,
    "ExecuteTime": {
     "end_time": "2024-03-02T14:22:40.200980400Z",
     "start_time": "2024-03-02T14:22:40.063276600Z"
    }
   },
   "outputs": [],
   "source": [
    "from scipy.special import expit\n",
    "    \n",
    "class Sigmoid(Layer):\n",
    "    \"\"\"\n",
    "    sigmoid(y) = 1 / (1 + e^(-y))\n",
    "    Используйте функцию expit для подсчета сигмоиды.\n",
    "    Вы можете сами реализовать подсчет сигмоиды, но тогда вам нужно устойчиво ее вычислять.\n",
    "    \"\"\"\n",
    "    def __init__(self):\n",
    "        super().__init__()\n",
    "        self.output = None\n",
    "\n",
    "    def forward(self, input):\n",
    "        \"\"\"\n",
    "        Apply elementwise Sigmoid to [batch, num_units] matrix\n",
    "        \"\"\"\n",
    "        self.output = expit(input)\n",
    "        return self.output\n",
    "\n",
    "    def backward(self, grad_output):\n",
    "        \"\"\"\n",
    "        Compute gradient of loss w.r.t. Sigmoid input\n",
    "        grad_output shape: [batch, num_units]\n",
    "        output 1 shape: [batch, num_units]\n",
    "        output 2: []\n",
    "        \"\"\"\n",
    "        return self.output * (1 - self.output) * grad_output, []\n",
    "\n",
    "    def __repr__(self):\n",
    "        return 'Sigmoid()'"
   ]
  },
  {
   "cell_type": "markdown",
   "metadata": {
    "hidden": true
   },
   "source": [
    "Теперь попробуйте для каждой из 3 функций активации обучить нейронную сеть несколько раз. Число слоев зафиксируйте равным 3. В случае `Tanh` и `Sigmoid` используйте инициализацию `Xavier`, а в случае `ReLU` используйте инициализацию `Kaiming`."
   ]
  },
  {
   "cell_type": "markdown",
   "metadata": {
    "hidden": true
   },
   "source": [
    "Заполните матрицы `accs_train` и `accs_test`. В позиции `[i, j]` должна стоять величина доли правильных ответов сети при $j$-м запуске (все запуски идентичны) с функцией активации $ReLU$ при $i = 0$, с функцией активации $Tanh$ при $i = 1$ и с функцией активации $Sigmoid$ при $i = 2$."
   ]
  },
  {
   "cell_type": "code",
   "execution_count": 162,
   "metadata": {
    "hidden": true,
    "ExecuteTime": {
     "end_time": "2024-03-02T14:24:29.224191500Z",
     "start_time": "2024-03-02T14:24:29.059675Z"
    }
   },
   "outputs": [],
   "source": [
    "act_func_vars = [Tanh, Sigmoid, ReLU]\n",
    "init_for_act_funcs = ['Xavier', 'Xavier', 'Kaiming']"
   ]
  },
  {
   "cell_type": "code",
   "execution_count": 163,
   "metadata": {
    "hidden": true,
    "ExecuteTime": {
     "end_time": "2024-03-02T14:24:29.944581Z",
     "start_time": "2024-03-02T14:24:29.798301400Z"
    }
   },
   "outputs": [],
   "source": [
    "accs_train = np.zeros((3, 15))\n",
    "accs_test = np.zeros_like(accs_train)\n",
    "layer_c = 3"
   ]
  },
  {
   "cell_type": "code",
   "execution_count": 167,
   "metadata": {
    "hidden": true,
    "ExecuteTime": {
     "end_time": "2024-03-02T14:25:45.506650100Z",
     "start_time": "2024-03-02T14:25:43.347013500Z"
    }
   },
   "outputs": [
    {
     "name": "stdout",
     "output_type": "stream",
     "text": [
      "i= 0\tj= 0\tactivation=Tanh()\t"
     ]
    },
    {
     "ename": "RuntimeError",
     "evalue": "Optimization failure: ABNORMAL_TERMINATION_IN_LNSRCH",
     "output_type": "error",
     "traceback": [
      "\u001B[1;31m---------------------------------------------------------------------------\u001B[0m",
      "\u001B[1;31mRuntimeError\u001B[0m                              Traceback (most recent call last)",
      "Cell \u001B[1;32mIn[167], line 9\u001B[0m\n\u001B[0;32m      7\u001B[0m \u001B[38;5;66;03m# print(network)\u001B[39;00m\n\u001B[0;32m      8\u001B[0m initialize_network(network, init_strategy)\n\u001B[1;32m----> 9\u001B[0m network, cb \u001B[38;5;241m=\u001B[39m \u001B[43mtrain_network\u001B[49m\u001B[43m(\u001B[49m\u001B[43mnetwork\u001B[49m\u001B[43m,\u001B[49m\u001B[43m \u001B[49m\u001B[43mhistory\u001B[49m\u001B[38;5;241;43m=\u001B[39;49m\u001B[38;5;28;43;01mTrue\u001B[39;49;00m\u001B[43m)\u001B[49m\n\u001B[0;32m     11\u001B[0m accs_train[i, j] \u001B[38;5;241m=\u001B[39m cb\u001B[38;5;241m.\u001B[39mtrain_acc[\u001B[38;5;241m-\u001B[39m\u001B[38;5;241m1\u001B[39m]\n\u001B[0;32m     12\u001B[0m accs_test[i, j] \u001B[38;5;241m=\u001B[39m cb\u001B[38;5;241m.\u001B[39mtest_acc[\u001B[38;5;241m-\u001B[39m\u001B[38;5;241m1\u001B[39m]\n",
      "Cell \u001B[1;32mIn[137], line 17\u001B[0m, in \u001B[0;36mtrain_network\u001B[1;34m(network, history, optimizer, options, tol, cb_print)\u001B[0m\n\u001B[0;32m      6\u001B[0m res \u001B[38;5;241m=\u001B[39m minimize(\n\u001B[0;32m      7\u001B[0m     compute_loss_grad, weights,  \n\u001B[0;32m      8\u001B[0m     args\u001B[38;5;241m=\u001B[39m[network, X_train, y_train], \n\u001B[1;32m   (...)\u001B[0m\n\u001B[0;32m     13\u001B[0m     tol\u001B[38;5;241m=\u001B[39mtol\n\u001B[0;32m     14\u001B[0m )\n\u001B[0;32m     16\u001B[0m \u001B[38;5;28;01mif\u001B[39;00m \u001B[38;5;129;01mnot\u001B[39;00m res[\u001B[38;5;124m\"\u001B[39m\u001B[38;5;124msuccess\u001B[39m\u001B[38;5;124m\"\u001B[39m]:\n\u001B[1;32m---> 17\u001B[0m     \u001B[38;5;28;01mraise\u001B[39;00m \u001B[38;5;167;01mRuntimeError\u001B[39;00m(\u001B[38;5;124mf\u001B[39m\u001B[38;5;124m\"\u001B[39m\u001B[38;5;124mOptimization failure: \u001B[39m\u001B[38;5;132;01m{\u001B[39;00mres[\u001B[38;5;124m'\u001B[39m\u001B[38;5;124mmessage\u001B[39m\u001B[38;5;124m'\u001B[39m]\u001B[38;5;132;01m}\u001B[39;00m\u001B[38;5;124m\"\u001B[39m)\n\u001B[0;32m     19\u001B[0m \u001B[38;5;28;01mif\u001B[39;00m history:\n\u001B[0;32m     20\u001B[0m     \u001B[38;5;28;01mreturn\u001B[39;00m network, cb\n",
      "\u001B[1;31mRuntimeError\u001B[0m: Optimization failure: ABNORMAL_TERMINATION_IN_LNSRCH"
     ]
    }
   ],
   "source": [
    "np.random.seed(42)\n",
    "\n",
    "for i, (act_func, init_strategy) in enumerate(zip(act_func_vars, init_for_act_funcs)):\n",
    "    for j in range(accs_train.shape[1]):\n",
    "        print(f\"{i=:2}\\t{j=:2}\\tactivation={act_func()}\\t\", end='')\n",
    "        network = make_network(input_size, 32, output_size, layer_c, act_func)\n",
    "        # print(network)\n",
    "        initialize_network(network, init_strategy)\n",
    "        network, cb = train_network(network, history=True)\n",
    "        \n",
    "        accs_train[i, j] = cb.train_acc[-1]\n",
    "        accs_test[i, j] = cb.test_acc[-1]\n",
    "        print(f\"train acc: {accs_train[i, j]:5.4f} test acc: {accs_test[i, j]:5.4f} n_iter: {len(cb.train_acc)}\")"
   ]
  },
  {
   "cell_type": "markdown",
   "metadata": {
    "hidden": true
   },
   "source": [
    "Построим боксплоты полученного качества (горизонтальная линия в каждом столбце — среднее, прямоугольник показывает разброс)."
   ]
  },
  {
   "cell_type": "code",
   "execution_count": 123,
   "metadata": {
    "hidden": true,
    "ExecuteTime": {
     "end_time": "2024-03-02T14:02:17.465043600Z",
     "start_time": "2024-03-02T14:02:17.359532900Z"
    }
   },
   "outputs": [
    {
     "data": {
      "text/plain": "<Figure size 1000x500 with 1 Axes>",
      "image/png": "[encoded data removed]"
     },
     "metadata": {},
     "output_type": "display_data"
    }
   ],
   "source": [
    "fig, ax = plt.subplots(1, 1, figsize=(10, 5))\n",
    "\n",
    "ax.boxplot(accs_test.T, labels=act_func_vars, showfliers=False)\n",
    "\n",
    "ax.set_title(f\"Test quality in {accs_train.shape[1]} runs with {layer_c} layers\")\n",
    "ax.set_xlabel(\"Activation function\")\n",
    "ax.set_ylabel(\"Test accuracy\")\n",
    "ax.grid(True)\n",
    "\n",
    "fig.tight_layout()\n",
    "plt.show()"
   ]
  },
  {
   "cell_type": "markdown",
   "metadata": {
    "hidden": true
   },
   "source": [
    "Дайте развёрнутый ответ на вопросы (в этой же ячейке):\n",
    "* Как отличаются качество на обучении и контроле и устойчивость процесса обучения при различных функциях активации?\n",
    "\n",
    "__Ответы:__\n",
    "\n",
    "При использовании в качестве функций активации сигмоиды и гиперболического тангенса среднее качество оказывается сравнимым. Однако, дисперсия при использовании сигмоиды оказывается выше. \n",
    "При использовании ReLU среднее качество оказывается ниже.\n",
    "\n",
    "Преимущества ReLU не реализуются при малом количестве слоев (3), так как затухание градиентов оказывается незначительным. \n",
    "Для проверки данной гипотезы будет поставлен *дополнительный* эксперимент с количеством слоев = 5"
   ]
  },
  {
   "cell_type": "code",
   "execution_count": 124,
   "outputs": [],
   "source": [
    "accs_train = np.zeros((3, 15))\n",
    "accs_test = np.zeros_like(accs_train)\n",
    "layer_c = 10"
   ],
   "metadata": {
    "collapsed": false,
    "ExecuteTime": {
     "end_time": "2024-03-02T14:02:45.290511800Z",
     "start_time": "2024-03-02T14:02:45.242999500Z"
    }
   }
  },
  {
   "cell_type": "code",
   "execution_count": 125,
   "outputs": [
    {
     "name": "stdout",
     "output_type": "stream",
     "text": [
      "i= 0\tj= 0\tact_func='Tanh'\ttrain acc: 1.0000 test acc: 0.9244 n_iter: 174\n",
      "i= 0\tj= 1\tact_func='Tanh'\ttrain acc: 1.0000 test acc: 0.9578 n_iter: 145\n",
      "i= 0\tj= 2\tact_func='Tanh'\ttrain acc: 1.0000 test acc: 0.9444 n_iter: 286\n",
      "i= 0\tj= 3\tact_func='Tanh'\ttrain acc: 1.0000 test acc: 0.9578 n_iter: 172\n",
      "i= 0\tj= 4\tact_func='Tanh'\ttrain acc: 1.0000 test acc: 0.9467 n_iter: 165\n",
      "i= 0\tj= 5\tact_func='Tanh'\ttrain acc: 1.0000 test acc: 0.9444 n_iter: 182\n",
      "i= 0\tj= 6\tact_func='Tanh'\ttrain acc: 1.0000 test acc: 0.9311 n_iter: 215\n",
      "i= 0\tj= 7\tact_func='Tanh'\ttrain acc: 1.0000 test acc: 0.9556 n_iter: 216\n",
      "i= 0\tj= 8\tact_func='Tanh'\ttrain acc: 1.0000 test acc: 0.9467 n_iter: 431\n",
      "i= 0\tj= 9\tact_func='Tanh'\ttrain acc: 1.0000 test acc: 0.9111 n_iter: 478\n",
      "i= 0\tj=10\tact_func='Tanh'\ttrain acc: 1.0000 test acc: 0.9333 n_iter: 210\n",
      "i= 0\tj=11\tact_func='Tanh'\ttrain acc: 1.0000 test acc: 0.9333 n_iter: 215\n",
      "i= 0\tj=12\tact_func='Tanh'\ttrain acc: 1.0000 test acc: 0.9444 n_iter: 146\n",
      "i= 0\tj=13\tact_func='Tanh'\ttrain acc: 1.0000 test acc: 0.9444 n_iter: 192\n",
      "i= 0\tj=14\tact_func='Tanh'\ttrain acc: 1.0000 test acc: 0.9489 n_iter: 279\n",
      "i= 1\tj= 0\tact_func='Sigmoid'\ttrain acc: 1.0000 test acc: 0.9289 n_iter: 206\n",
      "i= 1\tj= 1\tact_func='Sigmoid'\ttrain acc: 1.0000 test acc: 0.9533 n_iter: 160\n",
      "i= 1\tj= 2\tact_func='Sigmoid'\ttrain acc: 1.0000 test acc: 0.9333 n_iter: 249\n",
      "i= 1\tj= 3\tact_func='Sigmoid'\ttrain acc: 1.0000 test acc: 0.9467 n_iter: 187\n",
      "i= 1\tj= 4\tact_func='Sigmoid'\ttrain acc: 1.0000 test acc: 0.9556 n_iter: 150\n",
      "i= 1\tj= 5\tact_func='Sigmoid'\ttrain acc: 1.0000 test acc: 0.9533 n_iter: 141\n",
      "i= 1\tj= 6\tact_func='Sigmoid'\ttrain acc: 1.0000 test acc: 0.9222 n_iter: 203\n",
      "i= 1\tj= 7\tact_func='Sigmoid'\ttrain acc: 1.0000 test acc: 0.9556 n_iter: 140\n",
      "i= 1\tj= 8\tact_func='Sigmoid'\ttrain acc: 1.0000 test acc: 0.9378 n_iter: 266\n",
      "i= 1\tj= 9\tact_func='Sigmoid'\ttrain acc: 1.0000 test acc: 0.9422 n_iter: 149\n",
      "i= 1\tj=10\tact_func='Sigmoid'\ttrain acc: 1.0000 test acc: 0.9333 n_iter: 186\n",
      "i= 1\tj=11\tact_func='Sigmoid'\ttrain acc: 1.0000 test acc: 0.9422 n_iter: 188\n",
      "i= 1\tj=12\tact_func='Sigmoid'\ttrain acc: 1.0000 test acc: 0.9444 n_iter: 336\n",
      "i= 1\tj=13\tact_func='Sigmoid'\ttrain acc: 1.0000 test acc: 0.9178 n_iter: 298\n",
      "i= 1\tj=14\tact_func='Sigmoid'\ttrain acc: 1.0000 test acc: 0.9600 n_iter: 152\n",
      "i= 2\tj= 0\tact_func='ReLU'\ttrain acc: 0.1062 test acc: 0.0844 n_iter: 8\n",
      "i= 2\tj= 1\tact_func='ReLU'\ttrain acc: 0.1062 test acc: 0.0844 n_iter: 4\n",
      "i= 2\tj= 2\tact_func='ReLU'\ttrain acc: 0.1062 test acc: 0.0844 n_iter: 3\n",
      "i= 2\tj= 3\tact_func='ReLU'\ttrain acc: 0.1062 test acc: 0.0844 n_iter: 3\n",
      "i= 2\tj= 4\tact_func='ReLU'\ttrain acc: 0.1062 test acc: 0.0844 n_iter: 6\n",
      "i= 2\tj= 5\tact_func='ReLU'\ttrain acc: 0.1062 test acc: 0.0844 n_iter: 4\n",
      "i= 2\tj= 6\tact_func='ReLU'\ttrain acc: 1.0000 test acc: 0.8933 n_iter: 1287\n",
      "i= 2\tj= 7\tact_func='ReLU'\ttrain acc: 0.1062 test acc: 0.0844 n_iter: 3\n",
      "i= 2\tj= 8\tact_func='ReLU'\ttrain acc: 0.1062 test acc: 0.0844 n_iter: 4\n",
      "i= 2\tj= 9\tact_func='ReLU'\ttrain acc: 0.1062 test acc: 0.0844 n_iter: 5\n",
      "i= 2\tj=10\tact_func='ReLU'\ttrain acc: 0.1062 test acc: 0.0844 n_iter: 4\n",
      "i= 2\tj=11\tact_func='ReLU'\ttrain acc: 0.1062 test acc: 0.0844 n_iter: 4\n",
      "i= 2\tj=12\tact_func='ReLU'\ttrain acc: 0.1062 test acc: 0.0844 n_iter: 3\n",
      "i= 2\tj=13\tact_func='ReLU'\ttrain acc: 0.1062 test acc: 0.0844 n_iter: 4\n",
      "i= 2\tj=14\tact_func='ReLU'\ttrain acc: 0.1062 test acc: 0.0844 n_iter: 5\n"
     ]
    }
   ],
   "source": [
    "np.random.seed(42)\n",
    "\n",
    "for i, (act_func, init_strategy) in enumerate(zip(act_func_vars, init_for_act_funcs)):\n",
    "    for j in range(accs_train.shape[1]):\n",
    "        print(f\"{i=:2}\\t{j=:2}\\t{act_func=}\\t\", end='')\n",
    "        network = make_network(input_size, 32, output_size, layer_c, ReLU)\n",
    "        initialize_network(network, init_strategy)\n",
    "        network, cb = train_network(network, history=True)\n",
    "        \n",
    "        accs_train[i, j] = cb.train_acc[-1]\n",
    "        accs_test[i, j] = cb.test_acc[-1]\n",
    "        print(f\"train acc: {accs_train[i, j]:5.4f} test acc: {accs_test[i, j]:5.4f} n_iter: {len(cb.train_acc)}\")"
   ],
   "metadata": {
    "collapsed": false,
    "ExecuteTime": {
     "end_time": "2024-03-02T14:10:04.854833900Z",
     "start_time": "2024-03-02T14:02:45.475375300Z"
    }
   }
  },
  {
   "cell_type": "code",
   "outputs": [
    {
     "data": {
      "text/plain": "<Figure size 1000x500 with 1 Axes>",
      "image/png": "[encoded data removed]"
     },
     "metadata": {},
     "output_type": "display_data"
    }
   ],
   "source": [
    "fig, ax = plt.subplots(1, 1, figsize=(10, 5))\n",
    "\n",
    "ax.boxplot(accs_test.T, labels=act_func_vars, showfliers=False)\n",
    "\n",
    "ax.set_title(f\"Test quality in {accs_train.shape[1]} runs with {layer_c} layers\")\n",
    "ax.set_xlabel(\"Activation function\")\n",
    "ax.set_ylabel(\"Test accuracy\")\n",
    "ax.grid(True)\n",
    "\n",
    "fig.tight_layout()\n",
    "plt.show()"
   ],
   "metadata": {
    "collapsed": false,
    "ExecuteTime": {
     "end_time": "2024-03-02T14:10:19.626968500Z",
     "start_time": "2024-03-02T14:10:19.507959100Z"
    }
   },
   "execution_count": 126
  },
  {
   "cell_type": "markdown",
   "metadata": {
    "hidden": true
   },
   "source": [
    "\\* Несколько фрагментов кода в задании написаны на основе материалов [курса по глубинному обучению на ФКН НИУ ВШЭ](https://www.hse.ru/ba/ami/courses/205504078.html)"
   ]
  },
  {
   "cell_type": "markdown",
   "metadata": {},
   "source": [
    "### `Реализация метода оптимизации (1.4 балла)`"
   ]
  },
  {
   "cell_type": "markdown",
   "metadata": {},
   "source": [
    "В этой части задания реализуйте метод оптимизации SGD + momentum. Упрощённая версия более общего алгоритма [отсюда](https://pytorch.org/docs/stable/generated/torch.optim.SGD.html):\n",
    "\n",
    "$$\n",
    "\\begin{aligned}\n",
    "    &\\rule{70mm}{0.4pt}                                                             \\\\\n",
    "    &\\textbf{input}      : \\gamma \\text{ (lr)}, \\: \\theta_0 \\text{ (params)}, \\: X \\text{ (data)},       \\\\\n",
    "    &\\hspace{13mm} \\: f(\\theta) \\text{ (objective)}, \\:\\mu \\text{ (momentum)}       \\\\[-1.ex]\n",
    "    &\\rule{70mm}{0.4pt}                                                             \\\\\n",
    "    &\\textbf{for} \\: t=1 \\: \\textbf{to} \\: \\ldots \\: \\textbf{do}                    \\\\\n",
    "    &\\hspace{5mm}\\mathcal{X} \\leftarrow \\texttt{list\\_of\\_random\\_batches}(X)\\\\\n",
    "    &\\hspace{5mm}\\textbf{for} \\: i=1 \\: \\textbf{to} \\: \\ldots \\: \\textbf{do}                    \\\\\n",
    "    &\\hspace{10mm}g_t\\leftarrow   \\nabla_{\\theta} f_t (\\theta_{t-1},\\mathcal{X}_i)      \\\\\n",
    "    &\\hspace{10mm}\\textbf{if} \\: \\mu \\neq 0                                          \\\\\n",
    "    &\\hspace{15mm}\\textbf{if} \\: t > 1                                              \\\\\n",
    "    &\\hspace{20mm} \\textbf{b}_t \\leftarrow \\mu \\textbf{b}_{t-1} + g_t               \\\\\n",
    "    &\\hspace{15mm}\\textbf{else}                                                     \\\\\n",
    "    &\\hspace{20mm} \\textbf{b}_t \\leftarrow g_t                                      \\\\\n",
    "    &\\hspace{15mm} g_t  \\leftarrow  \\textbf{b}_t                                     \\\\\n",
    "    &\\hspace{10mm}\\theta_t \\leftarrow \\theta_{t-1} - \\gamma g_t                      \\\\[-1.ex]\n",
    "    &\\rule{70mm}{0.4pt}                                                             \\\\[-1.ex]\n",
    "    &\\bf{return} \\:  \\theta_t                                                       \\\\[-1.ex]\n",
    "    &\\rule{70mm}{0.4pt}                                                             \\\\[-1.ex]\n",
    "\\end{aligned}\n",
    "$$\n",
    "\n",
    "Проще всего будет написать `custom minimizer` (смотри [документацию scipy](https://docs.scipy.org/doc/scipy/reference/generated/scipy.optimize.minimize.html))."
   ]
  },
  {
   "cell_type": "code",
   "execution_count": 127,
   "metadata": {
    "ExecuteTime": {
     "end_time": "2024-03-02T14:11:09.885672700Z",
     "start_time": "2024-03-02T14:11:09.836673200Z"
    }
   },
   "outputs": [],
   "source": [
    "from scipy.optimize import OptimizeResult\n",
    "\n",
    "\n",
    "def SGD(fun, x0, args, **kwargs) -> OptimizeResult:\n",
    "    callback = kwargs['callback']   # feed weights from each iteration to update network and log metrics\n",
    "    mu = kwargs['momentum']\n",
    "    n_iter = kwargs['n_iter']\n",
    "    gamma = kwargs['lr']\n",
    "    jac = kwargs['jac']\n",
    "    batch_size = kwargs['batch_size']\n",
    "    tolerance = kwargs['tol'] if 'tol' in kwargs else None\n",
    "    tolerance = -1.0 if tolerance is None else tolerance\n",
    "    \n",
    "    if isinstance(args, tuple) and (len(args) == 1):\n",
    "        args = args[0]\n",
    "    \n",
    "    net, X, y = args\n",
    "    \n",
    "    m = 0.0\n",
    "    weights = x0\n",
    "    nit = 0\n",
    "    msg = \"Max iterations reached\"\n",
    "    indxs = np.arange(X.shape[0])\n",
    "    \n",
    "    for i in range(n_iter):\n",
    "        np.random.shuffle(indxs)\n",
    "        batch_indxs = np.array_split(indxs, X.shape[0] // batch_size)\n",
    "        loss_sum = 0.0\n",
    "        \n",
    "        for batch_ind in batch_indxs:\n",
    "            loss = fun(weights, (net, X[batch_ind, :], y[batch_ind]))\n",
    "            grad = fun.derivative(weights, (net, X[batch_ind, :], y[batch_ind]))\n",
    "            m = mu * m + grad\n",
    "            weights -= gamma * m\n",
    "            loss_sum += loss\n",
    "        \n",
    "        if callback is not None:\n",
    "            callback(weights)\n",
    "        \n",
    "        nit += 1\n",
    "        loss_sum /= len(batch_indxs)\n",
    "        if loss_sum <= tolerance:\n",
    "            msg = f\"Convergence: loss ({loss_sum}) <= tolerance ({tolerance})\"\n",
    "            break\n",
    "    \n",
    "    res = {\n",
    "        \"message\": msg,\n",
    "        \"success\": True,\n",
    "        \"nit\": nit,\n",
    "        \"x\": weights\n",
    "    }\n",
    "    \n",
    "    return res"
   ]
  },
  {
   "cell_type": "markdown",
   "metadata": {},
   "source": [
    "**Задание 1. (0.5 балла)** Продемонстрируйте правильную работу метода оптимизации, получив `test_accuracy>=0.9`."
   ]
  },
  {
   "cell_type": "code",
   "execution_count": 128,
   "metadata": {
    "ExecuteTime": {
     "end_time": "2024-03-02T14:11:24.976826700Z",
     "start_time": "2024-03-02T14:11:22.955825400Z"
    }
   },
   "outputs": [
    {
     "data": {
      "text/plain": "('Convergence: loss (0.0009742639215607785) <= tolerance (0.001)', 159)"
     },
     "execution_count": 128,
     "metadata": {},
     "output_type": "execute_result"
    }
   ],
   "source": [
    "layer_c = 3\n",
    "network = make_network(input_size, 32, output_size, layer_c, ReLU)\n",
    "weights = get_weights(network)\n",
    "\n",
    "res = minimize(\n",
    "    compute_loss_grad, weights,       # fun and start point\n",
    "    args=(network, X_train, y_train), # args passed to fun\n",
    "    method=SGD,                       # optimization method\n",
    "    jac=True,                         # says that gradient is computed in fun,\n",
    "    options={\n",
    "        'n_iter': 1_250,\n",
    "        'momentum': 0.9,\n",
    "        'lr': 1e-2,\n",
    "        'batch_size': 100,\n",
    "    },\n",
    "    tol=1e-3,\n",
    ")\n",
    "\n",
    "res['message'], res['nit']"
   ]
  },
  {
   "cell_type": "code",
   "outputs": [
    {
     "name": "stdout",
     "output_type": "stream",
     "text": [
      "Train NLL: 0.0009526\t\tTest NLL: 0.2621051\n",
      "Train accuracy: 1.000\t\tTest accuracy: 0.958\n"
     ]
    }
   ],
   "source": [
    "train_NLL = NLL(forward(network, X_train), y_train)\n",
    "test_NLL = NLL(forward(network, X_test), y_test)\n",
    "\n",
    "print(f\"Train NLL: {train_NLL:.7f}\\t\\tTest NLL: {test_NLL:.7f}\")\n",
    "\n",
    "train_accuracy = accuracy_score(y_true=y_train, y_pred=predict(network, X_train))\n",
    "test_accuracy = accuracy_score(y_true=y_test, y_pred=predict(network, X_test))\n",
    "\n",
    "print(f\"Train accuracy: {train_accuracy:.3f}\\t\\tTest accuracy: {test_accuracy:.3f}\")"
   ],
   "metadata": {
    "collapsed": false,
    "ExecuteTime": {
     "end_time": "2024-03-02T14:11:27.133606800Z",
     "start_time": "2024-03-02T14:11:27.053405Z"
    }
   },
   "execution_count": 129
  },
  {
   "cell_type": "markdown",
   "metadata": {},
   "source": [
    "**Задание 2. (0.8 балла)** Сравните три алгоритма:\n",
    "1. LBFGS-B\n",
    "2. SGD\n",
    "3. SGD + momentum\n",
    "\n",
    "Для этого одновременно переберите следующие гиперпараметры:\n",
    "- значения `lr` на отрезке `[1e-3, 1e-1]` по логарифмической сетке\n",
    "- два значения `momentum`: `0` и `0.9`\n",
    "- значения `batch_size`: `8` и `32`\n",
    "\n",
    "В каждом запуске сохраняйте три метрики: итоговое accuracy на тесте и на трейне и время обучения.\n",
    "\n",
    "Для каждого из трёх алгоритмов выберите лучшие `lr` и `batch_size` по `test_accuracy`. Постройте для них кривые обучения (пример ниже). Сделайте выводы.\n",
    "\n",
    "![](comparison.svg)"
   ]
  },
  {
   "cell_type": "code",
   "execution_count": 174,
   "metadata": {
    "ExecuteTime": {
     "end_time": "2024-03-02T15:03:23.897379800Z",
     "start_time": "2024-03-02T14:42:38.523511200Z"
    }
   },
   "outputs": [
    {
     "name": "stdout",
     "output_type": "stream",
     "text": [
      "i= 0\tj= 0\tlr=0.01000train acc: 1.0000 test acc: 0.9733\n",
      "i= 0\tj= 1\tlr=0.01000train acc: 1.0000 test acc: 0.9733\n",
      "i= 0\tj= 2\tlr=0.01000train acc: 1.0000 test acc: 0.9667\n",
      "i= 0\tj= 3\tlr=0.01000train acc: 1.0000 test acc: 0.9667\n",
      "i= 0\tj= 4\tlr=0.01000train acc: 1.0000 test acc: 0.9622\n",
      "i= 0\tj= 5\tlr=0.01000train acc: 1.0000 test acc: 0.9756\n",
      "i= 0\tj= 6\tlr=0.01000train acc: 1.0000 test acc: 0.9689\n",
      "i= 0\tj= 7\tlr=0.01000train acc: 1.0000 test acc: 0.9733\n",
      "i= 0\tj= 8\tlr=0.01000train acc: 1.0000 test acc: 0.9733\n",
      "i= 0\tj= 9\tlr=0.01000train acc: 1.0000 test acc: 0.9644\n",
      "i= 0\tj=10\tlr=0.01000train acc: 1.0000 test acc: 0.9756\n",
      "i= 0\tj=11\tlr=0.01000train acc: 1.0000 test acc: 0.9667\n",
      "i= 0\tj=12\tlr=0.01000train acc: 1.0000 test acc: 0.9689\n",
      "i= 0\tj=13\tlr=0.01000train acc: 1.0000 test acc: 0.9622\n",
      "i= 0\tj=14\tlr=0.01000train acc: 1.0000 test acc: 0.9711\n",
      "i= 1\tj= 0\tlr=0.01000train acc: 1.0000 test acc: 0.9644\n",
      "i= 1\tj= 1\tlr=0.01000train acc: 1.0000 test acc: 0.9600\n",
      "i= 1\tj= 2\tlr=0.01000train acc: 1.0000 test acc: 0.9689\n",
      "i= 1\tj= 3\tlr=0.01000train acc: 1.0000 test acc: 0.9578\n",
      "i= 1\tj= 4\tlr=0.01000train acc: 1.0000 test acc: 0.9622\n",
      "i= 1\tj= 5\tlr=0.01000train acc: 1.0000 test acc: 0.9578\n",
      "i= 1\tj= 6\tlr=0.01000train acc: 1.0000 test acc: 0.9622\n",
      "i= 1\tj= 7\tlr=0.01000train acc: 1.0000 test acc: 0.9667\n",
      "i= 1\tj= 8\tlr=0.01000train acc: 1.0000 test acc: 0.9644\n",
      "i= 1\tj= 9\tlr=0.01000train acc: 1.0000 test acc: 0.9578\n",
      "i= 1\tj=10\tlr=0.01000train acc: 1.0000 test acc: 0.9644\n",
      "i= 1\tj=11\tlr=0.01000train acc: 1.0000 test acc: 0.9667\n",
      "i= 1\tj=12\tlr=0.01000train acc: 1.0000 test acc: 0.9644\n",
      "i= 1\tj=13\tlr=0.01000train acc: 1.0000 test acc: 0.9644\n",
      "i= 1\tj=14\tlr=0.01000train acc: 1.0000 test acc: 0.9689\n",
      "i= 2\tj= 0\tlr=0.00398train acc: 1.0000 test acc: 0.9622\n",
      "i= 2\tj= 1\tlr=0.00398train acc: 1.0000 test acc: 0.9667\n",
      "i= 2\tj= 2\tlr=0.00398train acc: 1.0000 test acc: 0.9711\n",
      "i= 2\tj= 3\tlr=0.00398train acc: 1.0000 test acc: 0.9689\n",
      "i= 2\tj= 4\tlr=0.00398train acc: 1.0000 test acc: 0.9667\n",
      "i= 2\tj= 5\tlr=0.00398train acc: 1.0000 test acc: 0.9644\n",
      "i= 2\tj= 6\tlr=0.00398train acc: 1.0000 test acc: 0.9600\n",
      "i= 2\tj= 7\tlr=0.00398train acc: 1.0000 test acc: 0.9622\n",
      "i= 2\tj= 8\tlr=0.00398train acc: 1.0000 test acc: 0.9600\n",
      "i= 2\tj= 9\tlr=0.00398train acc: 1.0000 test acc: 0.9711\n",
      "i= 2\tj=10\tlr=0.00398train acc: 1.0000 test acc: 0.9600\n",
      "i= 2\tj=11\tlr=0.00398train acc: 1.0000 test acc: 0.9622\n",
      "i= 2\tj=12\tlr=0.00398train acc: 1.0000 test acc: 0.9733\n",
      "i= 2\tj=13\tlr=0.00398train acc: 1.0000 test acc: 0.9644\n",
      "i= 2\tj=14\tlr=0.00398train acc: 1.0000 test acc: 0.9711\n",
      "i= 3\tj= 0\tlr=0.00398train acc: 1.0000 test acc: 0.9533\n",
      "i= 3\tj= 1\tlr=0.00398train acc: 1.0000 test acc: 0.9644\n",
      "i= 3\tj= 2\tlr=0.00398train acc: 1.0000 test acc: 0.9556\n",
      "i= 3\tj= 3\tlr=0.00398train acc: 1.0000 test acc: 0.9667\n",
      "i= 3\tj= 4\tlr=0.00398train acc: 0.9993 test acc: 0.9600\n",
      "i= 3\tj= 5\tlr=0.00398train acc: 1.0000 test acc: 0.9667\n",
      "i= 3\tj= 6\tlr=0.00398train acc: 1.0000 test acc: 0.9644\n",
      "i= 3\tj= 7\tlr=0.00398train acc: 1.0000 test acc: 0.9644\n",
      "i= 3\tj= 8\tlr=0.00398train acc: 1.0000 test acc: 0.9644\n",
      "i= 3\tj= 9\tlr=0.00398train acc: 1.0000 test acc: 0.9644\n",
      "i= 3\tj=10\tlr=0.00398train acc: 0.9993 test acc: 0.9600\n",
      "i= 3\tj=11\tlr=0.00398train acc: 1.0000 test acc: 0.9667\n",
      "i= 3\tj=12\tlr=0.00398train acc: 0.9993 test acc: 0.9644\n",
      "i= 3\tj=13\tlr=0.00398train acc: 0.9993 test acc: 0.9667\n",
      "i= 3\tj=14\tlr=0.00398train acc: 0.9993 test acc: 0.9556\n",
      "i= 4\tj= 0\tlr=0.00158train acc: 1.0000 test acc: 0.9600\n",
      "i= 4\tj= 1\tlr=0.00158train acc: 1.0000 test acc: 0.9578\n",
      "i= 4\tj= 2\tlr=0.00158train acc: 1.0000 test acc: 0.9644\n",
      "i= 4\tj= 3\tlr=0.00158train acc: 1.0000 test acc: 0.9644\n",
      "i= 4\tj= 4\tlr=0.00158train acc: 1.0000 test acc: 0.9578\n",
      "i= 4\tj= 5\tlr=0.00158train acc: 1.0000 test acc: 0.9689\n",
      "i= 4\tj= 6\tlr=0.00158train acc: 1.0000 test acc: 0.9689\n",
      "i= 4\tj= 7\tlr=0.00158train acc: 1.0000 test acc: 0.9667\n",
      "i= 4\tj= 8\tlr=0.00158train acc: 1.0000 test acc: 0.9600\n",
      "i= 4\tj= 9\tlr=0.00158train acc: 1.0000 test acc: 0.9600\n",
      "i= 4\tj=10\tlr=0.00158train acc: 1.0000 test acc: 0.9644\n",
      "i= 4\tj=11\tlr=0.00158train acc: 1.0000 test acc: 0.9622\n",
      "i= 4\tj=12\tlr=0.00158train acc: 1.0000 test acc: 0.9644\n",
      "i= 4\tj=13\tlr=0.00158train acc: 1.0000 test acc: 0.9600\n",
      "i= 4\tj=14\tlr=0.00158train acc: 1.0000 test acc: 0.9533\n",
      "i= 5\tj= 0\tlr=0.00158train acc: 0.9948 test acc: 0.9689\n",
      "i= 5\tj= 1\tlr=0.00158train acc: 0.9933 test acc: 0.9600\n",
      "i= 5\tj= 2\tlr=0.00158train acc: 0.9889 test acc: 0.9600\n",
      "i= 5\tj= 3\tlr=0.00158train acc: 0.9948 test acc: 0.9511\n",
      "i= 5\tj= 4\tlr=0.00158train acc: 0.9926 test acc: 0.9600\n",
      "i= 5\tj= 5\tlr=0.00158train acc: 0.9903 test acc: 0.9556\n",
      "i= 5\tj= 6\tlr=0.00158train acc: 0.9903 test acc: 0.9489\n",
      "i= 5\tj= 7\tlr=0.00158train acc: 0.9918 test acc: 0.9556\n",
      "i= 5\tj= 8\tlr=0.00158train acc: 0.9903 test acc: 0.9533\n",
      "i= 5\tj= 9\tlr=0.00158train acc: 0.9955 test acc: 0.9578\n",
      "i= 5\tj=10\tlr=0.00158train acc: 0.9963 test acc: 0.9622\n",
      "i= 5\tj=11\tlr=0.00158train acc: 0.9955 test acc: 0.9622\n",
      "i= 5\tj=12\tlr=0.00158train acc: 0.9926 test acc: 0.9644\n",
      "i= 5\tj=13\tlr=0.00158train acc: 0.9948 test acc: 0.9667\n",
      "i= 5\tj=14\tlr=0.00158train acc: 0.9911 test acc: 0.9511\n",
      "i= 6\tj= 0\tlr=0.00063train acc: 0.9970 test acc: 0.9644\n",
      "i= 6\tj= 1\tlr=0.00063train acc: 0.9978 test acc: 0.9622\n",
      "i= 6\tj= 2\tlr=0.00063train acc: 0.9978 test acc: 0.9578\n",
      "i= 6\tj= 3\tlr=0.00063train acc: 0.9978 test acc: 0.9622\n",
      "i= 6\tj= 4\tlr=0.00063train acc: 0.9963 test acc: 0.9600\n",
      "i= 6\tj= 5\tlr=0.00063train acc: 0.9970 test acc: 0.9578\n",
      "i= 6\tj= 6\tlr=0.00063train acc: 0.9963 test acc: 0.9689\n",
      "i= 6\tj= 7\tlr=0.00063train acc: 0.9963 test acc: 0.9667\n",
      "i= 6\tj= 8\tlr=0.00063train acc: 0.9978 test acc: 0.9600\n",
      "i= 6\tj= 9\tlr=0.00063train acc: 0.9978 test acc: 0.9556\n",
      "i= 6\tj=10\tlr=0.00063train acc: 0.9948 test acc: 0.9556\n",
      "i= 6\tj=11\tlr=0.00063train acc: 0.9978 test acc: 0.9600\n",
      "i= 6\tj=12\tlr=0.00063train acc: 0.9985 test acc: 0.9622\n",
      "i= 6\tj=13\tlr=0.00063train acc: 0.9978 test acc: 0.9578\n",
      "i= 6\tj=14\tlr=0.00063train acc: 0.9978 test acc: 0.9578\n",
      "i= 7\tj= 0\tlr=0.00063train acc: 0.9666 test acc: 0.9533\n",
      "i= 7\tj= 1\tlr=0.00063train acc: 0.9621 test acc: 0.9400\n",
      "i= 7\tj= 2\tlr=0.00063train acc: 0.9688 test acc: 0.9467\n",
      "i= 7\tj= 3\tlr=0.00063train acc: 0.9755 test acc: 0.9644\n",
      "i= 7\tj= 4\tlr=0.00063train acc: 0.9696 test acc: 0.9467\n",
      "i= 7\tj= 5\tlr=0.00063train acc: 0.9703 test acc: 0.9511\n",
      "i= 7\tj= 6\tlr=0.00063train acc: 0.9681 test acc: 0.9422\n",
      "i= 7\tj= 7\tlr=0.00063train acc: 0.9666 test acc: 0.9578\n",
      "i= 7\tj= 8\tlr=0.00063train acc: 0.9673 test acc: 0.9556\n",
      "i= 7\tj= 9\tlr=0.00063train acc: 0.9681 test acc: 0.9400\n",
      "i= 7\tj=10\tlr=0.00063train acc: 0.9725 test acc: 0.9644\n",
      "i= 7\tj=11\tlr=0.00063train acc: 0.9673 test acc: 0.9511\n",
      "i= 7\tj=12\tlr=0.00063train acc: 0.9673 test acc: 0.9578\n",
      "i= 7\tj=13\tlr=0.00063train acc: 0.9688 test acc: 0.9444\n",
      "i= 7\tj=14\tlr=0.00063train acc: 0.9688 test acc: 0.9467\n",
      "i= 8\tj= 0\tlr=0.00025train acc: 0.9762 test acc: 0.9511\n",
      "i= 8\tj= 1\tlr=0.00025train acc: 0.9844 test acc: 0.9622\n",
      "i= 8\tj= 2\tlr=0.00025train acc: 0.9800 test acc: 0.9578\n",
      "i= 8\tj= 3\tlr=0.00025train acc: 0.9785 test acc: 0.9511\n",
      "i= 8\tj= 4\tlr=0.00025train acc: 0.9822 test acc: 0.9556\n",
      "i= 8\tj= 5\tlr=0.00025train acc: 0.9837 test acc: 0.9600\n",
      "i= 8\tj= 6\tlr=0.00025train acc: 0.9762 test acc: 0.9511\n",
      "i= 8\tj= 7\tlr=0.00025train acc: 0.9852 test acc: 0.9556\n",
      "i= 8\tj= 8\tlr=0.00025train acc: 0.9822 test acc: 0.9556\n",
      "i= 8\tj= 9\tlr=0.00025train acc: 0.9800 test acc: 0.9533\n",
      "i= 8\tj=10\tlr=0.00025train acc: 0.9844 test acc: 0.9622\n",
      "i= 8\tj=11\tlr=0.00025train acc: 0.9837 test acc: 0.9578\n",
      "i= 8\tj=12\tlr=0.00025train acc: 0.9800 test acc: 0.9644\n",
      "i= 8\tj=13\tlr=0.00025train acc: 0.9814 test acc: 0.9622\n",
      "i= 8\tj=14\tlr=0.00025train acc: 0.9859 test acc: 0.9578\n",
      "i= 9\tj= 0\tlr=0.00025train acc: 0.8515 test acc: 0.8422\n",
      "i= 9\tj= 1\tlr=0.00025train acc: 0.8938 test acc: 0.8889\n",
      "i= 9\tj= 2\tlr=0.00025train acc: 0.9235 test acc: 0.9156\n",
      "i= 9\tj= 3\tlr=0.00025train acc: 0.9272 test acc: 0.9178\n",
      "i= 9\tj= 4\tlr=0.00025train acc: 0.8886 test acc: 0.8844\n",
      "i= 9\tj= 5\tlr=0.00025train acc: 0.9013 test acc: 0.8956\n",
      "i= 9\tj= 6\tlr=0.00025train acc: 0.9087 test acc: 0.8911\n",
      "i= 9\tj= 7\tlr=0.00025train acc: 0.9131 test acc: 0.9111\n",
      "i= 9\tj= 8\tlr=0.00025train acc: 0.9072 test acc: 0.9089\n",
      "i= 9\tj= 9\tlr=0.00025train acc: 0.9042 test acc: 0.8911\n",
      "i= 9\tj=10\tlr=0.00025train acc: 0.9005 test acc: 0.8978\n",
      "i= 9\tj=11\tlr=0.00025train acc: 0.8723 test acc: 0.8622\n",
      "i= 9\tj=12\tlr=0.00025train acc: 0.9087 test acc: 0.8933\n",
      "i= 9\tj=13\tlr=0.00025train acc: 0.8827 test acc: 0.8844\n",
      "i= 9\tj=14\tlr=0.00025train acc: 0.9124 test acc: 0.8933\n",
      "i=10\tj= 0\tlr=0.00010train acc: 0.9265 test acc: 0.9156\n",
      "i=10\tj= 1\tlr=0.00010train acc: 0.9384 test acc: 0.9311\n",
      "i=10\tj= 2\tlr=0.00010train acc: 0.9332 test acc: 0.9311\n",
      "i=10\tj= 3\tlr=0.00010train acc: 0.9339 test acc: 0.9311\n",
      "i=10\tj= 4\tlr=0.00010train acc: 0.9228 test acc: 0.9133\n",
      "i=10\tj= 5\tlr=0.00010train acc: 0.9094 test acc: 0.9044\n",
      "i=10\tj= 6\tlr=0.00010train acc: 0.9302 test acc: 0.9267\n",
      "i=10\tj= 7\tlr=0.00010train acc: 0.9532 test acc: 0.9311\n",
      "i=10\tj= 8\tlr=0.00010train acc: 0.9347 test acc: 0.9289\n",
      "i=10\tj= 9\tlr=0.00010train acc: 0.9295 test acc: 0.9133\n",
      "i=10\tj=10\tlr=0.00010train acc: 0.9072 test acc: 0.9111\n",
      "i=10\tj=11\tlr=0.00010train acc: 0.9109 test acc: 0.9067\n",
      "i=10\tj=12\tlr=0.00010train acc: 0.9117 test acc: 0.9111\n",
      "i=10\tj=13\tlr=0.00010train acc: 0.9406 test acc: 0.9200\n",
      "i=10\tj=14\tlr=0.00010train acc: 0.9369 test acc: 0.9311\n",
      "i=11\tj= 0\tlr=0.00010train acc: 0.5568 test acc: 0.5089\n",
      "i=11\tj= 1\tlr=0.00010train acc: 0.4870 test acc: 0.4422\n",
      "i=11\tj= 2\tlr=0.00010train acc: 0.5382 test acc: 0.5356\n",
      "i=11\tj= 3\tlr=0.00010train acc: 0.6333 test acc: 0.5933\n",
      "i=11\tj= 4\tlr=0.00010train acc: 0.4818 test acc: 0.4644\n",
      "i=11\tj= 5\tlr=0.00010train acc: 0.7209 test acc: 0.6778\n",
      "i=11\tj= 6\tlr=0.00010train acc: 0.5367 test acc: 0.5444\n",
      "i=11\tj= 7\tlr=0.00010train acc: 0.6303 test acc: 0.6156\n",
      "i=11\tj= 8\tlr=0.00010train acc: 0.6325 test acc: 0.5667\n",
      "i=11\tj= 9\tlr=0.00010train acc: 0.5709 test acc: 0.5444\n",
      "i=11\tj=10\tlr=0.00010train acc: 0.6154 test acc: 0.6067\n",
      "i=11\tj=11\tlr=0.00010train acc: 0.4952 test acc: 0.4778\n",
      "i=11\tj=12\tlr=0.00010train acc: 0.6251 test acc: 0.6200\n",
      "i=11\tj=13\tlr=0.00010train acc: 0.5382 test acc: 0.4800\n",
      "i=11\tj=14\tlr=0.00010train acc: 0.5716 test acc: 0.5356\n"
     ]
    }
   ],
   "source": [
    "optimizer = SGD\n",
    "optimizer_params = []\n",
    "\n",
    "for lr in np.logspace(-1, -3, num=7, base=10):\n",
    "    for batch_size in [9, 32]:\n",
    "        optimizer_params.append({\n",
    "            'n_iter': 250,\n",
    "            'momentum': 0.0,\n",
    "            'lr': lr,\n",
    "            'batch_size': batch_size,\n",
    "        })\n",
    "\n",
    "\n",
    "accs_train = np.zeros((len(optimizer_params), 15))\n",
    "accs_test = np.zeros_like(accs_train)\n",
    "layer_c = 3\n",
    "np.random.seed(42)\n",
    "\n",
    "\n",
    "\n",
    "for i, opt_params in enumerate(optimizer_params):\n",
    "    for j in range(accs_train.shape[1]):\n",
    "        print(f\"{i=:2}\\t{j=:2}\\tlr={opt_params['lr']:.5f}\", end='')\n",
    "        network = make_network(input_size, 32, output_size, layer_c, ReLU)\n",
    "        initialize_network(network, \"Kaiming\")\n",
    "        network = train_network(\n",
    "            network, \n",
    "            history=False, \n",
    "            optimizer=optimizer,\n",
    "            options=opt_params,\n",
    "        )\n",
    "        \n",
    "        accs_train[i, j] = accuracy_score(y_true=y_train, y_pred=predict(network, X_train))\n",
    "        accs_test[i, j] = accuracy_score(y_true=y_test, y_pred=predict(network, X_test))\n",
    "        print(f\"train acc: {accs_train[i, j]:5.4f} test acc: {accs_test[i, j]:5.4f}\")"
   ]
  },
  {
   "cell_type": "code",
   "outputs": [
    {
     "data": {
      "text/plain": "<Figure size 1000x500 with 1 Axes>",
      "image/png": "[encoded data removed]"
     },
     "metadata": {},
     "output_type": "display_data"
    }
   ],
   "source": [
    "momentum_for_plot = [f\"{opt_params['lr']:.3f}\\n{opt_params['batch_size']}\" for opt_params in optimizer_params]\n",
    "\n",
    "fig, ax = plt.subplots(1, 1, figsize=(10, 5))\n",
    "\n",
    "ax.boxplot(accs_test.T, labels=momentum_for_plot, showfliers=False)\n",
    "\n",
    "ax.set_title(f\"Test quality in {accs_test.shape[1]} runs\")\n",
    "ax.set_xlabel(\"Initialization\")\n",
    "ax.set_ylabel(\"Test accuracy\")\n",
    "ax.grid(True)\n",
    "\n",
    "fig.tight_layout()\n",
    "plt.show()"
   ],
   "metadata": {
    "collapsed": false,
    "ExecuteTime": {
     "end_time": "2024-03-02T15:17:23.043780900Z",
     "start_time": "2024-03-02T15:17:22.861343300Z"
    }
   },
   "execution_count": 176
  },
  {
   "cell_type": "code",
   "outputs": [
    {
     "data": {
      "text/plain": "<Figure size 1000x500 with 1 Axes>",
      "image/png": "[encoded data removed]"
     },
     "metadata": {},
     "output_type": "display_data"
    }
   ],
   "source": [
    "fig, ax = plt.subplots(1, 1, figsize=(10, 5))\n",
    "\n",
    "ax.boxplot(accs_test[:-4, :].T, labels=momentum_for_plot[:-4], showfliers=False)\n",
    "\n",
    "ax.set_title(f\"Test quality in {accs_test.shape[1]} runs\")\n",
    "ax.set_xlabel(\"Initialization\")\n",
    "ax.set_ylabel(\"Test accuracy\")\n",
    "ax.grid(True)\n",
    "\n",
    "fig.tight_layout()\n",
    "plt.show()"
   ],
   "metadata": {
    "collapsed": false,
    "ExecuteTime": {
     "end_time": "2024-03-02T15:18:07.343543500Z",
     "start_time": "2024-03-02T15:18:07.193071900Z"
    }
   },
   "execution_count": 177
  },
  {
   "cell_type": "code",
   "outputs": [],
   "source": [
    "optimizer = SGD\n",
    "optimizer_params = []\n",
    "\n",
    "for lr in [1e-1, 1e-2, 1e-3]:\n",
    "    for batch_size in [9, 32]:\n",
    "        optimizer_params.append({\n",
    "            'n_iter': 250,\n",
    "            'momentum': 0.9,\n",
    "            'lr': lr,\n",
    "            'batch_size': batch_size,\n",
    "        })\n",
    "\n",
    "\n",
    "accs_train = np.zeros((len(optimizer_params), 15))\n",
    "accs_test = np.zeros_like(accs_train)\n",
    "layer_c = 3\n",
    "np.random.seed(42)\n",
    "\n",
    "\n",
    "for i, opt_params in enumerate(optimizer_params):\n",
    "    for j in range(accs_train.shape[1]):\n",
    "        network = make_network(input_size, 32, output_size, layer_c, ReLU)\n",
    "        initialize_network(network, \"Kaiming\")\n",
    "        network, cb = train_network(\n",
    "            network, \n",
    "            history=True, \n",
    "            optimizer=optimizer,\n",
    "            options=opt_params,\n",
    "        )\n",
    "        \n",
    "        accs_train[i, j] = cb.train_acc[-1]\n",
    "        accs_test[i, j] = cb.test_acc[-1]"
   ],
   "metadata": {
    "collapsed": false,
    "ExecuteTime": {
     "start_time": "2024-02-29T18:35:59.885229700Z"
    }
   },
   "execution_count": null
  },
  {
   "cell_type": "code",
   "outputs": [],
   "source": [
    "momentum_for_plot = [f\"LR = {opt_params['lr']:.3f}\\nBatch size = {opt_params['batch_size']}\" for opt_params in optimizer_params]\n",
    "\n",
    "fig, ax = plt.subplots(1, 1, figsize=(10, 5))\n",
    "\n",
    "ax.boxplot(accs_test.T, labels=momentum_for_plot, showfliers=False)\n",
    "\n",
    "ax.set_title(f\"Test quality in {accs_test.shape[1]} runs\")\n",
    "ax.set_xlabel(\"Initialization\")\n",
    "ax.set_ylabel(\"Test accuracy\")\n",
    "ax.grid(True)\n",
    "\n",
    "fig.tight_layout()\n",
    "plt.show()"
   ],
   "metadata": {
    "collapsed": false,
    "ExecuteTime": {
     "start_time": "2024-02-29T18:35:59.886228300Z"
    }
   },
   "execution_count": null
  },
  {
   "cell_type": "code",
   "outputs": [],
   "source": [
    "momentum_for_plot = [f\"LR = {opt_params['lr']:.3f}\\nBatch size = {opt_params['batch_size']}\" for opt_params in optimizer_params]\n",
    "\n",
    "fig, ax = plt.subplots(1, 1, figsize=(10, 5))\n",
    "\n",
    "ax.boxplot(accs_test[3:, :].T, labels=momentum_for_plot[3:], showfliers=False)\n",
    "\n",
    "ax.set_title(f\"Test quality in {accs_test.shape[1]} runs\")\n",
    "ax.set_xlabel(\"Initialization\")\n",
    "ax.set_ylabel(\"Test accuracy\")\n",
    "ax.grid(True)\n",
    "\n",
    "fig.tight_layout()\n",
    "plt.show()"
   ],
   "metadata": {
    "collapsed": false,
    "ExecuteTime": {
     "start_time": "2024-02-29T18:35:59.887229500Z"
    }
   },
   "execution_count": null
  },
  {
   "cell_type": "code",
   "outputs": [],
   "source": [
    "optimizers = [SGD, SGD, \"L-BFGS-B\"]\n",
    "optimizer_params = []\n",
    "\n",
    "optimizer_params.append({\n",
    "    'n_iter': 1_250,\n",
    "    'momentum': 0.0,\n",
    "    'lr': 0.039811,\n",
    "    'batch_size': 8,\n",
    "    'tol': 1e-4,\n",
    "})\n",
    "\n",
    "optimizer_params.append({\n",
    "    'n_iter': 1_250,\n",
    "    'momentum': 0.9,\n",
    "    'lr': 0.01,\n",
    "    'batch_size': 32,\n",
    "    'tol': 1e-4,\n",
    "})\n",
    "\n",
    "optimizer_params.append({\n",
    "})\n",
    "\n",
    "accs_train = np.zeros((len(optimizer_params), 15))\n",
    "accs_test = np.zeros_like(accs_train)\n",
    "layer_c = 3\n",
    "np.random.seed(42)\n",
    "\n",
    "\n",
    "for i, (opt, opt_params) in enumerate(zip(optimizers, optimizer_params)):\n",
    "    for j in range(accs_train.shape[1]):\n",
    "        network = make_network(input_size, 32, output_size, layer_c, ReLU)\n",
    "        initialize_network(network, \"Kaiming\")\n",
    "        network, cb = train_network(\n",
    "            network, \n",
    "            history=True, \n",
    "            optimizer=opt,\n",
    "            options=opt_params,\n",
    "        )\n",
    "        \n",
    "        accs_train[i, j] = cb.train_acc[-1]\n",
    "        accs_test[i, j] = cb.test_acc[-1]"
   ],
   "metadata": {
    "collapsed": false,
    "ExecuteTime": {
     "start_time": "2024-02-29T18:35:59.888229Z"
    }
   },
   "execution_count": null
  },
  {
   "cell_type": "code",
   "outputs": [],
   "source": [
    "momentum_for_plot = [\"SGD\", \"SGD with Momentum\", \"L-BFGS-B\"]\n",
    "\n",
    "fig, ax = plt.subplots(1, 1, figsize=(10, 5))\n",
    "\n",
    "ax.boxplot(accs_test.T, labels=momentum_for_plot, showfliers=False)\n",
    "\n",
    "ax.set_title(f\"Test quality in {accs_test.shape[1]} runs\")\n",
    "ax.set_xlabel(\"Optimizer\")\n",
    "ax.set_ylabel(\"Test accuracy\")\n",
    "ax.grid(True)\n",
    "\n",
    "fig.tight_layout()\n",
    "plt.show()"
   ],
   "metadata": {
    "collapsed": false,
    "ExecuteTime": {
     "start_time": "2024-02-29T18:35:59.889227800Z"
    }
   },
   "execution_count": null
  },
  {
   "cell_type": "code",
   "outputs": [],
   "source": [
    "optimizers = [SGD, SGD, \"L-BFGS-B\"]\n",
    "optimizer_params = []\n",
    "\n",
    "optimizer_params.append({\n",
    "    'n_iter': 250,\n",
    "    'momentum': 0.0,\n",
    "    'lr': 0.1,\n",
    "    'batch_size': 32,\n",
    "})\n",
    "\n",
    "optimizer_params.append({\n",
    "    'n_iter': 250,\n",
    "    'momentum': 0.9,\n",
    "    'lr': 0.01,\n",
    "    'batch_size': 32,\n",
    "})\n",
    "\n",
    "optimizer_params.append({})\n",
    "\n",
    "accs_train = []\n",
    "accs_test = []\n",
    "layer_c = 3\n",
    "np.random.seed(42)\n",
    "\n",
    "\n",
    "for i, (opt, opt_params) in enumerate(zip(optimizers, optimizer_params)):\n",
    "    network = make_network(input_size, 32, output_size, layer_c, ReLU)\n",
    "    initialize_network(network, \"Kaiming\")\n",
    "    network, cb = train_network(\n",
    "        network, \n",
    "        history=True, \n",
    "        optimizer=opt,\n",
    "        options=opt_params,\n",
    "    )\n",
    "    \n",
    "    accs_train.append(cb.train_acc)\n",
    "    accs_test.append(cb.test_acc)"
   ],
   "metadata": {
    "collapsed": false,
    "ExecuteTime": {
     "start_time": "2024-02-29T18:35:59.890227600Z"
    }
   },
   "execution_count": null
  },
  {
   "cell_type": "code",
   "outputs": [],
   "source": [
    "fig, ax = plt.subplots(nrows=1, ncols=2, figsize=(16, 5))\n",
    "colors = ['r', 'g', 'b']\n",
    "optimizer_labels = [\"SGD\", \"SGD with Momentum\", \"L-BFGS-B\"]\n",
    "\n",
    "for train_acc, test_acc, color, label in zip(accs_train, accs_test, colors, optimizer_labels):\n",
    "    ax[0].plot(train_acc, f'{color}--', label=f'{label} train')\n",
    "    ax[1].plot(test_acc, f'{color}-', label=f'{label} test')\n",
    "\n",
    "for i in range(2):\n",
    "    ax[i].set_xlabel(\"Iteration\")\n",
    "    ax[i].set_ylabel(\"Accuracy\")\n",
    "    ax[i].grid(True)\n",
    "    ax[i].legend()\n",
    "\n",
    "fig.tight_layout()\n",
    "plt.show()"
   ],
   "metadata": {
    "collapsed": false,
    "ExecuteTime": {
     "start_time": "2024-02-29T18:35:59.891229900Z"
    }
   },
   "execution_count": null
  },
  {
   "cell_type": "markdown",
   "metadata": {},
   "source": [
    "**Выводы:**"
   ]
  },
  {
   "cell_type": "markdown",
   "metadata": {},
   "source": []
  },
  {
   "cell_type": "markdown",
   "metadata": {},
   "source": [
    "**Задание 3. (0.1 балла)** Для отобранных в прошлом задании трёх алгоритмов ответье на вопрос: как меняются запуски для двух значений `batch_size`."
   ]
  },
  {
   "cell_type": "markdown",
   "metadata": {},
   "source": [
    "**Ответ:**"
   ]
  },
  {
   "cell_type": "markdown",
   "metadata": {},
   "source": []
  },
  {
   "cell_type": "markdown",
   "metadata": {
    "heading_collapsed": true
   },
   "source": [
    "## `Бонусная часть`"
   ]
  },
  {
   "cell_type": "markdown",
   "source": [
    "Доп. эксперимент. Исследование работы SGD с неточной (усл-я Армиха-Вульфа) оптимизацией шага обучения"
   ],
   "metadata": {
    "collapsed": false
   }
  },
  {
   "cell_type": "code",
   "outputs": [],
   "source": [],
   "metadata": {
    "collapsed": false,
    "ExecuteTime": {
     "start_time": "2024-02-29T18:35:59.892228100Z"
    }
   }
  },
  {
   "cell_type": "markdown",
   "metadata": {
    "hidden": true
   },
   "source": [
    "### `Реализация метода оптимизации (1 балл)`\n",
    "\n",
    "Реализуйте метод оптимизации Adam и сравните его работу с SGD + momentum, проведя эксперимент, как в задании 2 (перебор гиперпараметров + кривые обучения)."
   ]
  },
  {
   "cell_type": "code",
   "outputs": [],
   "source": [
    "def Adam(fun, x0, args, **kwargs) -> OptimizeResult:\n",
    "    callback = kwargs['callback']   # feed weights from each iteration to update network and log metrics\n",
    "    beta_momentum = kwargs['beta_momentum']\n",
    "    beta_grad = kwargs['beta_grad']\n",
    "    n_iter = kwargs['n_iter']\n",
    "    gamma = kwargs['lr']\n",
    "    jac = kwargs['jac']\n",
    "    batch_size = kwargs['batch_size']\n",
    "    tolerance = kwargs['tol'] if 'tol' in kwargs else None\n",
    "    tolerance = -1.0 if tolerance is None else tolerance\n",
    "    eps = 1e-6\n",
    "    \n",
    "    if isinstance(args, tuple) and (len(args) == 1):\n",
    "        args = args[0]\n",
    "    \n",
    "    net, X, y = args\n",
    "    \n",
    "    m = 0.0\n",
    "    v = 0.0\n",
    "    weights = x0\n",
    "    nit = 0\n",
    "    msg = \"Max iterations reached\"\n",
    "    \n",
    "    for i in range(1, n_iter+1):\n",
    "        batch_indxs = np.array_split(np.arange(X.shape[0]), X.shape[0] // batch_size)\n",
    "        loss_sum = 0.0\n",
    "        \n",
    "        for batch_ind in batch_indxs:\n",
    "            # print(f\"NEGRO\")\n",
    "            loss = fun(weights, (net, X[batch_ind, :], y[batch_ind]))\n",
    "            grad = fun.derivative(weights, (net, X[batch_ind, :], y[batch_ind]))\n",
    "            m = beta_momentum * m + (1 - beta_momentum) * grad\n",
    "            v = beta_grad * v + (1 - beta_grad) * np.power(grad, 2)\n",
    "            \n",
    "            m_hat = m / (1 - np.power(beta_momentum, i))\n",
    "            v_hat = v / (1 - np.power(beta_grad, i))\n",
    "            \n",
    "            delta = (m_hat / (v_hat + eps))\n",
    "            print(f\"Grad norm = {np.linalg.norm(delta) / len(delta)}\")\n",
    "            \n",
    "            weights -= gamma * delta\n",
    "            loss_sum += loss\n",
    "        \n",
    "        if callback is not None:\n",
    "            callback(weights)\n",
    "        \n",
    "        nit += 1\n",
    "        loss_sum /= len(batch_indxs)\n",
    "        if loss_sum <= tolerance:\n",
    "            msg = f\"Convergence: loss ({loss_sum}) <= tolerance ({tolerance})\"\n",
    "            break\n",
    "    \n",
    "    res = {\n",
    "        \"message\": msg,\n",
    "        \"success\": True,\n",
    "        \"nit\": nit,\n",
    "        \"x\": weights\n",
    "    }\n",
    "    \n",
    "    return res"
   ],
   "metadata": {
    "collapsed": false,
    "ExecuteTime": {
     "end_time": "2024-03-02T11:30:53.324668700Z",
     "start_time": "2024-03-02T11:30:53.281181300Z"
    }
   },
   "execution_count": 54
  },
  {
   "cell_type": "code",
   "outputs": [
    {
     "name": "stdout",
     "output_type": "stream",
     "text": [
      "Grad norm = 4.196501554474134\n",
      "Grad norm = 2.573210470420377\n",
      "Grad norm = 2.0839486249884542\n",
      "Grad norm = 1.9079376177588399\n",
      "Grad norm = 1.7374175759488446\n",
      "Grad norm = 1.6519860890357785\n",
      "Grad norm = 1.6050825694665845\n",
      "Grad norm = 1.5506450550541793\n",
      "Grad norm = 1.4979233561589997\n",
      "Grad norm = 1.4324480997298108\n",
      "Grad norm = 1.3674555491406648\n",
      "Grad norm = 1.330186081168956\n",
      "Grad norm = 1.2979691565800824\n",
      "Grad norm = 1.2749018996194488\n",
      "Grad norm = 1.2508070774682123\n",
      "Grad norm = 1.2151893618853506\n",
      "Grad norm = 1.1764660398134554\n",
      "Grad norm = 1.1272006469811784\n",
      "Grad norm = 1.0810900912782055\n",
      "Grad norm = 1.0328670025195104\n",
      "Grad norm = 0.9993508922442585\n",
      "Grad norm = 0.9653209582519505\n",
      "Grad norm = 0.9234388756595987\n",
      "Grad norm = 0.8922081153334116\n",
      "Grad norm = 0.8652153308610405\n",
      "Grad norm = 0.8364936341601255\n",
      "Grad norm = 0.8047563680368969\n",
      "Grad norm = 0.7752789034192589\n",
      "Grad norm = 0.7557151364343112\n",
      "Grad norm = 0.7325023374588455\n",
      "Grad norm = 0.7074911855745237\n",
      "Grad norm = 0.683974401739793\n",
      "Grad norm = 0.6606265909726923\n",
      "Grad norm = 0.6421834313602431\n",
      "Grad norm = 0.6241129483433911\n",
      "Grad norm = 0.5984099492342232\n",
      "Grad norm = 0.5722913148404148\n",
      "Grad norm = 0.5475795178909263\n",
      "Grad norm = 0.5199690278438704\n",
      "Grad norm = 0.49016683537890915\n",
      "Grad norm = 0.460382575808352\n",
      "Grad norm = 0.43005921050245743\n",
      "Grad norm = 0.4024308334840196\n",
      "Grad norm = 0.37964831326110043\n",
      "Grad norm = 0.36375038916684743\n",
      "Grad norm = 0.3552123911842563\n",
      "Grad norm = 0.35189594150161063\n",
      "Grad norm = 0.3491137429037447\n",
      "Grad norm = 0.34290886113698726\n",
      "Grad norm = 0.3339273381615868\n",
      "Grad norm = 0.32462005657532833\n",
      "Grad norm = 0.3148033582034538\n",
      "Grad norm = 0.30502731332056343\n",
      "Grad norm = 0.2942522469679646\n",
      "Grad norm = 0.2818494989469267\n",
      "Grad norm = 0.2688459950555145\n",
      "Grad norm = 0.2558484863358809\n",
      "Grad norm = 0.24424940628145236\n",
      "Grad norm = 0.23330042191903202\n",
      "Grad norm = 0.2224998208929254\n",
      "Grad norm = 0.21204124364543617\n",
      "Grad norm = 0.20160202276073735\n",
      "Grad norm = 0.19179683514460394\n",
      "Grad norm = 0.18179967788301277\n",
      "Grad norm = 0.17308203355935478\n",
      "Grad norm = 0.1657041961527968\n",
      "Grad norm = 0.15887663586377368\n",
      "Grad norm = 0.1506264707625569\n",
      "Grad norm = 0.14386497977049434\n",
      "Grad norm = 0.13897739476421042\n",
      "Grad norm = 0.13301916104338501\n",
      "Grad norm = 0.12723039854116414\n",
      "Grad norm = 0.12155774168150725\n",
      "Grad norm = 0.11612919918381817\n",
      "Grad norm = 0.11103746573136085\n",
      "Grad norm = 0.10613935806561449\n",
      "Grad norm = 0.10142007833332907\n",
      "Grad norm = 0.09706934963308282\n",
      "Grad norm = 0.09324833035873319\n",
      "Grad norm = 0.0898639756602836\n",
      "Grad norm = 0.08642114798447886\n",
      "Grad norm = 0.08296656926381014\n",
      "Grad norm = 0.07975468704556717\n",
      "Grad norm = 0.07687993591590615\n",
      "Grad norm = 0.07448212807687912\n",
      "Grad norm = 0.0718519782247653\n",
      "Grad norm = 0.06930333951388339\n",
      "Grad norm = 0.06686627615270002\n",
      "Grad norm = 0.0644827140224141\n",
      "Grad norm = 0.06199778271431975\n",
      "Grad norm = 0.059832524335672724\n",
      "Grad norm = 0.05817535449799737\n",
      "Grad norm = 0.056181519111024036\n",
      "Grad norm = 0.05439627076492517\n",
      "Grad norm = 0.05288512933135901\n",
      "Grad norm = 0.05167552700770078\n",
      "Grad norm = 0.05052879450929774\n",
      "Grad norm = 0.04876775408970927\n",
      "Grad norm = 0.04727548827610397\n",
      "Grad norm = 0.04621174236281522\n",
      "Grad norm = 0.04532862881933641\n",
      "Grad norm = 0.043969404619887326\n",
      "Grad norm = 0.04273782630503277\n",
      "Grad norm = 0.04167194937518407\n",
      "Grad norm = 0.04070045807561127\n",
      "Grad norm = 0.03989992459192992\n",
      "Grad norm = 0.038791508264216366\n",
      "Grad norm = 0.03781427349010818\n",
      "Grad norm = 0.03702221846888401\n",
      "Grad norm = 0.03632989959906151\n",
      "Grad norm = 0.03571471291270097\n",
      "Grad norm = 0.03519446584330524\n",
      "Grad norm = 0.03463529276207998\n",
      "Grad norm = 0.03393091898329469\n",
      "Grad norm = 0.033323177711055293\n",
      "Grad norm = 0.03279328311523235\n",
      "Grad norm = 0.03211263890969069\n",
      "Grad norm = 0.03157927834571303\n",
      "Grad norm = 0.03115822668631381\n",
      "Grad norm = 0.0307957519546011\n",
      "Grad norm = 0.030221522458819997\n",
      "Grad norm = 0.029712721036955145\n",
      "Grad norm = 0.029176434546313718\n",
      "Grad norm = 0.028884352952396317\n",
      "Grad norm = 0.028366449714786638\n",
      "Grad norm = 0.0279018053193598\n",
      "Grad norm = 0.027461850622576268\n",
      "Grad norm = 0.027180885573742573\n",
      "Grad norm = 0.02700083088319331\n",
      "Grad norm = 0.026675233299357365\n",
      "Grad norm = 0.026270246108384618\n",
      "Grad norm = 0.025904117580679415\n",
      "Grad norm = 0.025675634663754963\n",
      "Grad norm = 0.02548780760939927\n",
      "Grad norm = 0.02502785407594748\n",
      "Grad norm = 0.02474331921203486\n",
      "Grad norm = 0.024537232056232535\n",
      "Grad norm = 0.024363968438212938\n",
      "Grad norm = 0.02432361162871332\n",
      "Grad norm = 0.023831577823885734\n",
      "Grad norm = 0.023460206114191966\n",
      "Grad norm = 0.023215316409615182\n",
      "Grad norm = 0.02289381437081219\n",
      "Grad norm = 0.02270981487135216\n",
      "Grad norm = 0.02236537988446747\n",
      "Grad norm = 0.02206152108467503\n",
      "Grad norm = 0.02179868945199515\n",
      "Grad norm = 0.021647334869462537\n",
      "Grad norm = 0.02153862205466874\n",
      "Grad norm = 0.02145653529794983\n",
      "Grad norm = 0.02118631175099042\n",
      "Grad norm = 0.02096409578506935\n",
      "Grad norm = 0.020820604158260664\n",
      "Grad norm = 0.02066157228091659\n",
      "Grad norm = 0.020594399597135528\n",
      "Grad norm = 0.020359348778030507\n",
      "Grad norm = 0.020193384687903722\n",
      "Grad norm = 0.0200305941202868\n",
      "Grad norm = 0.019806413905680754\n",
      "Grad norm = 0.019732175786692393\n",
      "Grad norm = 0.019460979762215166\n",
      "Grad norm = 0.019273907098538125\n",
      "Grad norm = 0.01915553964424756\n",
      "Grad norm = 0.019051773150252485\n",
      "Grad norm = 0.01906228941220246\n",
      "Grad norm = 0.01877910189913919\n",
      "Grad norm = 0.018569388488690493\n",
      "Grad norm = 0.018441709441983003\n",
      "Grad norm = 0.018273182182510964\n",
      "Grad norm = 0.018294177384580116\n",
      "Grad norm = 0.018032732992028847\n",
      "Grad norm = 0.017843083843716436\n",
      "Grad norm = 0.01770027627638153\n",
      "Grad norm = 0.017599705242662803\n",
      "Grad norm = 0.017449586948121112\n",
      "Grad norm = 0.017466721839089604\n",
      "Grad norm = 0.017228618731419496\n",
      "Grad norm = 0.017096527149721503\n",
      "Grad norm = 0.017021647691633064\n",
      "Grad norm = 0.016902089491450768\n",
      "Grad norm = 0.016898201014773784\n",
      "Grad norm = 0.016815659100017696\n",
      "Grad norm = 0.016600972669245876\n",
      "Grad norm = 0.01645593556139237\n",
      "Grad norm = 0.016357611206545365\n",
      "Grad norm = 0.01625586968591238\n",
      "Grad norm = 0.016195047601687284\n",
      "Grad norm = 0.01608753051693684\n",
      "Grad norm = 0.015955280489296394\n",
      "Grad norm = 0.015879583468780364\n",
      "Grad norm = 0.015806766912038927\n",
      "Grad norm = 0.015787677911831433\n",
      "Grad norm = 0.01558929247415242\n",
      "Grad norm = 0.015498201560112402\n",
      "Grad norm = 0.015389351471793713\n",
      "Grad norm = 0.015293497730139181\n",
      "Grad norm = 0.015160725001035573\n",
      "Grad norm = 0.015095955912514496\n",
      "Grad norm = 0.014988287185306332\n",
      "Grad norm = 0.014895843510310936\n",
      "Grad norm = 0.014862970894826232\n",
      "Grad norm = 0.014721499370009347\n",
      "Grad norm = 0.014639229583885673\n",
      "Grad norm = 0.01454966769111121\n",
      "Grad norm = 0.014542535475170997\n",
      "Grad norm = 0.014421806958295999\n",
      "Grad norm = 0.0142891299162189\n",
      "Grad norm = 0.014242793661761687\n",
      "Grad norm = 0.014186318689773148\n",
      "Grad norm = 0.01406765342209314\n",
      "Grad norm = 0.013993889271890023\n",
      "Grad norm = 0.013922932083532803\n",
      "Grad norm = 0.013876852072164972\n",
      "Grad norm = 0.013734961269888615\n",
      "Grad norm = 0.013643166016784102\n",
      "Grad norm = 0.01361005322828856\n",
      "Grad norm = 0.013586662936591044\n",
      "Grad norm = 0.01361054896766192\n",
      "Grad norm = 0.01342159439391281\n",
      "Grad norm = 0.013337540780641076\n",
      "Grad norm = 0.013272092669725446\n",
      "Grad norm = 0.013169210006481637\n",
      "Grad norm = 0.013140834991362609\n",
      "Grad norm = 0.013140040206356047\n",
      "Grad norm = 0.012976598996238048\n",
      "Grad norm = 0.012893692812567165\n",
      "Grad norm = 0.012811755011159037\n",
      "Grad norm = 0.012756615734856896\n",
      "Grad norm = 0.01281615775110532\n",
      "Grad norm = 0.012628216826930057\n",
      "Grad norm = 0.012546965143624257\n",
      "Grad norm = 0.012503162336670377\n",
      "Grad norm = 0.012416397302477948\n",
      "Grad norm = 0.012373382984870085\n",
      "Grad norm = 0.012363018309383708\n",
      "Grad norm = 0.012206288682062586\n",
      "Grad norm = 0.012130816147222402\n",
      "Grad norm = 0.01208756372886366\n",
      "Grad norm = 0.011974808839297276\n",
      "Grad norm = 0.011943179186616453\n",
      "Grad norm = 0.011930976824142394\n",
      "Grad norm = 0.011802896228379982\n",
      "Grad norm = 0.011721623281224757\n",
      "Grad norm = 0.011677747397721053\n",
      "Grad norm = 0.011621397313778894\n",
      "Grad norm = 0.011532439001121698\n",
      "Grad norm = 0.011506100575430308\n",
      "Grad norm = 0.011448426791617908\n",
      "Grad norm = 0.011364247665257876\n",
      "Grad norm = 0.011327790341629094\n",
      "Grad norm = 0.011360597048470882\n",
      "Grad norm = 0.011239082609359543\n",
      "Grad norm = 0.01119184439892424\n",
      "Grad norm = 0.011153529894560523\n",
      "Grad norm = 0.01104296464087287\n",
      "Grad norm = 0.011010126971783966\n",
      "Grad norm = 0.010981124452687013\n",
      "Grad norm = 0.010866079147663025\n",
      "Grad norm = 0.010798066400754801\n",
      "Grad norm = 0.010769967754573097\n",
      "Grad norm = 0.010698657202866144\n",
      "Grad norm = 0.010663388608441132\n",
      "Grad norm = 0.010579614290787326\n",
      "Grad norm = 0.01053648260690214\n",
      "Grad norm = 0.010492109302905735\n",
      "Grad norm = 0.010470524561568984\n",
      "Grad norm = 0.010400285409992471\n",
      "Grad norm = 0.010338323868717315\n",
      "Grad norm = 0.01030478355499895\n",
      "Grad norm = 0.010258357267746819\n",
      "Grad norm = 0.0102239704692339\n",
      "Grad norm = 0.010136864853205441\n",
      "Grad norm = 0.010084078500064776\n",
      "Grad norm = 0.010014041040143997\n",
      "Grad norm = 0.009989495744832386\n",
      "Grad norm = 0.009912572009561593\n",
      "Grad norm = 0.009871470056231632\n",
      "Grad norm = 0.009838154595641788\n",
      "Grad norm = 0.009817535020973846\n",
      "Grad norm = 0.009742653449689683\n",
      "Grad norm = 0.009716820875166263\n",
      "Grad norm = 0.009663701993497711\n",
      "Grad norm = 0.009677728606966286\n",
      "Grad norm = 0.009592755623227372\n",
      "Grad norm = 0.009547729201497579\n",
      "Grad norm = 0.009509738042366543\n",
      "Grad norm = 0.00942612113357141\n",
      "Grad norm = 0.009456896167635006\n",
      "Grad norm = 0.009436395998155057\n",
      "Grad norm = 0.009354117976662647\n",
      "Grad norm = 0.009302441090510413\n",
      "Grad norm = 0.009305352302461312\n",
      "Grad norm = 0.00920377995642615\n",
      "Grad norm = 0.009190290537819243\n",
      "Grad norm = 0.009208315558927819\n",
      "Grad norm = 0.009075141922325008\n",
      "Grad norm = 0.009016316556803265\n",
      "Grad norm = 0.009013087039289193\n",
      "Grad norm = 0.008938014275898373\n",
      "Grad norm = 0.00893341144658254\n",
      "Grad norm = 0.008937909701764602\n",
      "Grad norm = 0.008883644103383603\n",
      "Grad norm = 0.008812253066344474\n",
      "Grad norm = 0.008781650867998984\n",
      "Grad norm = 0.00870707625412332\n",
      "Grad norm = 0.008694281307341992\n",
      "Grad norm = 0.008695517789573582\n",
      "Grad norm = 0.008599933767544476\n",
      "Grad norm = 0.008552027488894812\n",
      "Grad norm = 0.008529676892438958\n",
      "Grad norm = 0.008483252042196535\n",
      "Grad norm = 0.008460839901115003\n",
      "Grad norm = 0.008422963357800696\n",
      "Grad norm = 0.008366243552805372\n",
      "Grad norm = 0.008341913914497491\n",
      "Grad norm = 0.00832196674751932\n",
      "Grad norm = 0.008252393343166265\n",
      "Grad norm = 0.008262646286525155\n",
      "Grad norm = 0.008192945690686494\n",
      "Grad norm = 0.00814843217037573\n",
      "Grad norm = 0.00811824536399227\n",
      "Grad norm = 0.008074594217847925\n",
      "Grad norm = 0.008040098769113426\n",
      "Grad norm = 0.008024697580289758\n",
      "Grad norm = 0.007983688325044242\n",
      "Grad norm = 0.007953802777098888\n",
      "Grad norm = 0.007923018114338319\n",
      "Grad norm = 0.007905976169154188\n",
      "Grad norm = 0.007865269545589176\n",
      "Grad norm = 0.007823707388822902\n",
      "Grad norm = 0.007796450771481942\n",
      "Grad norm = 0.007767726932874207\n",
      "Grad norm = 0.00772183604085531\n",
      "Grad norm = 0.007685092994668021\n",
      "Grad norm = 0.007655840105775487\n",
      "Grad norm = 0.007615206005055297\n",
      "Grad norm = 0.007614414394332756\n",
      "Grad norm = 0.007561652183265627\n",
      "Grad norm = 0.007519555506044944\n",
      "Grad norm = 0.007508686996993323\n",
      "Grad norm = 0.007467223902643496\n",
      "Grad norm = 0.007463486283672054\n",
      "Grad norm = 0.007431901960411771\n",
      "Grad norm = 0.007375531524787783\n",
      "Grad norm = 0.00735524590436973\n",
      "Grad norm = 0.0073149645173301355\n",
      "Grad norm = 0.007293522963430699\n",
      "Grad norm = 0.007269336397866202\n",
      "Grad norm = 0.0072213033639949645\n",
      "Grad norm = 0.007190611926263732\n",
      "Grad norm = 0.007166826577050029\n",
      "Grad norm = 0.007133664446978212\n",
      "Grad norm = 0.007127362585895704\n",
      "Grad norm = 0.007100868763727737\n",
      "Grad norm = 0.007063397373254303\n",
      "Grad norm = 0.007031382286678056\n",
      "Grad norm = 0.007002247414418096\n",
      "Grad norm = 0.00701839377315017\n",
      "Grad norm = 0.006943756944689097\n",
      "Grad norm = 0.006917841520904997\n",
      "Grad norm = 0.006884231366733321\n",
      "Grad norm = 0.006865037813646341\n",
      "Grad norm = 0.0068315331614501925\n",
      "Grad norm = 0.0068149471762488515\n",
      "Grad norm = 0.006780139778962917\n",
      "Grad norm = 0.006747348104256099\n",
      "Grad norm = 0.0067560099383857045\n",
      "Grad norm = 0.006683883725647366\n",
      "Grad norm = 0.006682575000894377\n",
      "Grad norm = 0.0066687924540914\n",
      "Grad norm = 0.006621045173609295\n",
      "Grad norm = 0.006617432984796552\n",
      "Grad norm = 0.006580563551905074\n",
      "Grad norm = 0.006545154780016703\n",
      "Grad norm = 0.00654045323142826\n",
      "Grad norm = 0.006505133279203102\n",
      "Grad norm = 0.006453383946397306\n",
      "Grad norm = 0.00644046581589087\n",
      "Grad norm = 0.006411806303086067\n",
      "Grad norm = 0.006385990857690848\n",
      "Grad norm = 0.0063751651447379026\n",
      "Grad norm = 0.006322630812122435\n",
      "Grad norm = 0.006311018402298359\n",
      "Grad norm = 0.0062768233538765\n",
      "Grad norm = 0.006254409132855376\n",
      "Grad norm = 0.006237423326852725\n",
      "Grad norm = 0.006206221109812009\n",
      "Grad norm = 0.006186583462604039\n",
      "Grad norm = 0.006160887849841687\n",
      "Grad norm = 0.006154056530190997\n",
      "Grad norm = 0.006147975330946869\n",
      "Grad norm = 0.006093893925562394\n",
      "Grad norm = 0.006065249353252319\n",
      "Grad norm = 0.006045606249080465\n",
      "Grad norm = 0.0060259684902204845\n",
      "Grad norm = 0.006005675354009056\n",
      "Grad norm = 0.005977766998195855\n",
      "Grad norm = 0.005946378736536262\n",
      "Grad norm = 0.005934453045725313\n",
      "Grad norm = 0.005931969516070294\n",
      "Grad norm = 0.005890030632316706\n",
      "Grad norm = 0.0058610246647435105\n",
      "Grad norm = 0.0058418965893589055\n",
      "Grad norm = 0.005835007005827531\n",
      "Grad norm = 0.005826798929811652\n",
      "Grad norm = 0.005775570990062391\n",
      "Grad norm = 0.0057548884667298385\n",
      "Grad norm = 0.00573993496540674\n",
      "Grad norm = 0.005715791174981543\n",
      "Grad norm = 0.005699587571021925\n",
      "Grad norm = 0.005686425506224275\n",
      "Grad norm = 0.0056441962840887115\n",
      "Grad norm = 0.005621642797462171\n",
      "Grad norm = 0.005606805921568954\n",
      "Grad norm = 0.00558039296973004\n",
      "Grad norm = 0.00556933513601312\n",
      "Grad norm = 0.005553066965218885\n",
      "Grad norm = 0.005514408295077555\n",
      "Grad norm = 0.005499863487198585\n",
      "Grad norm = 0.005477075705282578\n",
      "Grad norm = 0.005471754962863611\n",
      "Grad norm = 0.005445262529610788\n",
      "Grad norm = 0.00543749566414847\n",
      "Grad norm = 0.005425099784892836\n",
      "Grad norm = 0.00538570761668871\n",
      "Grad norm = 0.005357032152944818\n",
      "Grad norm = 0.0053432642803629546\n",
      "Grad norm = 0.00533599982729944\n",
      "Grad norm = 0.005297819280115358\n",
      "Grad norm = 0.005289379044993962\n",
      "Grad norm = 0.005263039013723378\n",
      "Grad norm = 0.005238257104900931\n",
      "Grad norm = 0.005240510692966198\n",
      "Grad norm = 0.005202235725941835\n",
      "Grad norm = 0.005199273142985143\n",
      "Grad norm = 0.0051654288699073654\n",
      "Grad norm = 0.005168859595578305\n",
      "Grad norm = 0.005132756457638109\n",
      "Grad norm = 0.0051249468178585144\n",
      "Grad norm = 0.005099957407671421\n",
      "Grad norm = 0.005071973787727472\n",
      "Grad norm = 0.00505338227784344\n",
      "Grad norm = 0.005030219581482604\n",
      "Grad norm = 0.00501661407285021\n",
      "Grad norm = 0.005001410477946623\n",
      "Grad norm = 0.004989518904734937\n",
      "Grad norm = 0.0049696569377949956\n",
      "Grad norm = 0.004946956811883153\n",
      "Grad norm = 0.004921882873971743\n",
      "Grad norm = 0.004901040842423873\n",
      "Grad norm = 0.004888813744988105\n",
      "Grad norm = 0.004880061050266638\n",
      "Grad norm = 0.0048521967232514635\n",
      "Grad norm = 0.004837425158285687\n",
      "Grad norm = 0.004811456058066091\n",
      "Grad norm = 0.00479311287765764\n",
      "Grad norm = 0.004777640948068706\n",
      "Grad norm = 0.004769337626856038\n",
      "Grad norm = 0.0047621453895481105\n",
      "Grad norm = 0.004730692842002876\n",
      "Grad norm = 0.004711679704173151\n",
      "Grad norm = 0.0047081882809570375\n",
      "Grad norm = 0.004681379189422173\n",
      "Grad norm = 0.0046787308171308516\n",
      "Grad norm = 0.004649257634381209\n",
      "Grad norm = 0.0046467840063686905\n",
      "Grad norm = 0.00461860573206495\n",
      "Grad norm = 0.004595558012290077\n",
      "Grad norm = 0.004582110754604996\n",
      "Grad norm = 0.004577185091940387\n",
      "Grad norm = 0.004547806210700185\n",
      "Grad norm = 0.004525849431049282\n",
      "Grad norm = 0.00452235417357836\n",
      "Grad norm = 0.004503147411691022\n",
      "Grad norm = 0.00449044723528014\n",
      "Grad norm = 0.004467675856870418\n",
      "Grad norm = 0.004457573995677873\n",
      "Grad norm = 0.0044555354907236545\n",
      "Grad norm = 0.0044262952144990654\n",
      "Grad norm = 0.004423398898308656\n",
      "Grad norm = 0.004399476917801169\n",
      "Grad norm = 0.004387673373688324\n",
      "Grad norm = 0.004388938449673903\n",
      "Grad norm = 0.004357127059758316\n",
      "Grad norm = 0.004337644355162972\n",
      "Grad norm = 0.00432809099556855\n",
      "Grad norm = 0.004302262934940911\n",
      "Grad norm = 0.0042926999390067045\n",
      "Grad norm = 0.004283782598987267\n",
      "Grad norm = 0.004249061485420446\n",
      "Grad norm = 0.004237928102955809\n",
      "Grad norm = 0.004226599676888765\n",
      "Grad norm = 0.004213522115335783\n",
      "Grad norm = 0.004206853313194641\n",
      "Grad norm = 0.004191763546057515\n",
      "Grad norm = 0.004164401157795289\n",
      "Grad norm = 0.0041530255328615\n",
      "Grad norm = 0.004142966781923164\n",
      "Grad norm = 0.00412090829939355\n",
      "Grad norm = 0.00412388390358351\n",
      "Grad norm = 0.004093055200858122\n",
      "Grad norm = 0.004076658385006874\n",
      "Grad norm = 0.004070299795917592\n",
      "Grad norm = 0.0040518604796861285\n",
      "Grad norm = 0.004049057268604076\n",
      "Grad norm = 0.004042450899602316\n",
      "Grad norm = 0.004013066736143177\n",
      "Grad norm = 0.003995823577304764\n",
      "Grad norm = 0.003989439806248802\n",
      "Grad norm = 0.003967960540384705\n",
      "Grad norm = 0.0039573450603137975\n",
      "Grad norm = 0.003951687049352003\n",
      "Grad norm = 0.003928162492921665\n",
      "Grad norm = 0.003912314401506511\n",
      "Grad norm = 0.003894176575466542\n",
      "Grad norm = 0.0038772840312842863\n",
      "Grad norm = 0.0038728190399552756\n",
      "Grad norm = 0.003870242559406602\n",
      "Grad norm = 0.0038450020366193054\n",
      "Grad norm = 0.003831994118743862\n",
      "Grad norm = 0.0038149286248547083\n",
      "Grad norm = 0.003809362240735565\n",
      "Grad norm = 0.0037877352735602417\n",
      "Grad norm = 0.0037776315289482975\n",
      "Grad norm = 0.003766950997461634\n",
      "Grad norm = 0.0037482740658526395\n",
      "Grad norm = 0.0037366317082389664\n",
      "Grad norm = 0.0037238501598973995\n",
      "Grad norm = 0.0037187564499075437\n",
      "Grad norm = 0.00369881506330683\n",
      "Grad norm = 0.0036882827346641357\n",
      "Grad norm = 0.003682783590107814\n",
      "Grad norm = 0.0036681452125802375\n",
      "Grad norm = 0.003658678216309863\n",
      "Grad norm = 0.0036357594446983356\n",
      "Grad norm = 0.0036348309342681007\n",
      "Grad norm = 0.0036139711177818347\n",
      "Grad norm = 0.0036060914357983827\n",
      "Grad norm = 0.003592314524541371\n",
      "Grad norm = 0.003574879355833682\n",
      "Grad norm = 0.003571617483351694\n",
      "Grad norm = 0.0035573008972830857\n",
      "Grad norm = 0.0035406074616833303\n",
      "Grad norm = 0.003539086252992823\n",
      "Grad norm = 0.0035210214198348384\n",
      "Grad norm = 0.0035057694303739224\n",
      "Grad norm = 0.0034927908841864484\n",
      "Grad norm = 0.003495631002424604\n",
      "Grad norm = 0.003476244069731503\n",
      "Grad norm = 0.0034572443963767456\n",
      "Grad norm = 0.0034416379749382447\n",
      "Grad norm = 0.003440692770366137\n",
      "Grad norm = 0.003426061207196218\n",
      "Grad norm = 0.0034080719414724373\n",
      "Grad norm = 0.0033990782164322647\n",
      "Grad norm = 0.003391813966222429\n",
      "Grad norm = 0.0033748553715050264\n",
      "Grad norm = 0.0033644505335813047\n",
      "Grad norm = 0.003352713317326928\n",
      "Grad norm = 0.003345357720519325\n",
      "Grad norm = 0.0033406338683965473\n",
      "Grad norm = 0.0033172385724416463\n",
      "Grad norm = 0.003311471112750587\n",
      "Grad norm = 0.003298282861726813\n",
      "Grad norm = 0.0032953871378860584\n",
      "Grad norm = 0.003273415757541887\n",
      "Grad norm = 0.0032654389317154243\n",
      "Grad norm = 0.003251603856859359\n",
      "Grad norm = 0.0032412402485895173\n",
      "Grad norm = 0.0032338225680826173\n",
      "Grad norm = 0.0032173043706075787\n",
      "Grad norm = 0.003204058458409828\n",
      "Grad norm = 0.003194645616604321\n",
      "Grad norm = 0.0031940508062840117\n",
      "Grad norm = 0.0031719438563893366\n",
      "Grad norm = 0.003165479337790748\n",
      "Grad norm = 0.0031555409519446386\n",
      "Grad norm = 0.003145262579757503\n",
      "Grad norm = 0.003146933341752931\n",
      "Grad norm = 0.00312420114960365\n",
      "Grad norm = 0.003113727349790362\n",
      "Grad norm = 0.003105556135714194\n",
      "Grad norm = 0.003096341428121364\n",
      "Grad norm = 0.0030973089363033586\n",
      "Grad norm = 0.003080949798956951\n",
      "Grad norm = 0.0030608029615606376\n",
      "Grad norm = 0.003056455135692737\n",
      "Grad norm = 0.0030452995784034874\n",
      "Grad norm = 0.003040034083297459\n",
      "Grad norm = 0.0030259212279909633\n",
      "Grad norm = 0.0030155524003461325\n",
      "Grad norm = 0.003002091415086337\n",
      "Grad norm = 0.0029923973185591933\n",
      "Grad norm = 0.002990536861750761\n",
      "Grad norm = 0.0029746983309830743\n",
      "Grad norm = 0.0029660596569656174\n",
      "Grad norm = 0.0029525050016388915\n",
      "Grad norm = 0.0029473632141966384\n",
      "Grad norm = 0.0029423258881018594\n",
      "Grad norm = 0.0029236347772333333\n",
      "Grad norm = 0.0029155233341775677\n",
      "Grad norm = 0.002914474055025251\n",
      "Grad norm = 0.002895406229065677\n",
      "Grad norm = 0.002889437505346836\n",
      "Grad norm = 0.002889585013315988\n",
      "Grad norm = 0.002869809346661651\n",
      "Grad norm = 0.002865346836339907\n",
      "Grad norm = 0.0028502832902572283\n",
      "Grad norm = 0.002845417552490253\n",
      "Grad norm = 0.0028315276988053026\n",
      "Grad norm = 0.0028223474723204837\n",
      "Grad norm = 0.0028148708593907943\n",
      "Grad norm = 0.002809855272360658\n",
      "Grad norm = 0.0028008046486111228\n",
      "Grad norm = 0.002783240074300206\n",
      "Grad norm = 0.00277603173988131\n",
      "Grad norm = 0.002770550885040116\n",
      "Grad norm = 0.002756295248330296\n",
      "Grad norm = 0.0027487264913420516\n",
      "Grad norm = 0.0027427147688510703\n",
      "Grad norm = 0.0027350888186808337\n",
      "Grad norm = 0.0027245680547303814\n",
      "Grad norm = 0.0027130502379913244\n",
      "Grad norm = 0.002704246485242894\n",
      "Grad norm = 0.0026978418134838895\n",
      "Grad norm = 0.0026875771575806556\n",
      "Grad norm = 0.0026791766057835563\n",
      "Grad norm = 0.002670928819307424\n",
      "Grad norm = 0.0026613037444941914\n",
      "Grad norm = 0.0026605146465785005\n",
      "Grad norm = 0.002647270228482182\n",
      "Grad norm = 0.0026391633994321223\n",
      "Grad norm = 0.002626902001933693\n",
      "Grad norm = 0.0026265899671428176\n",
      "Grad norm = 0.0026151092341472936\n",
      "Grad norm = 0.002602548699622704\n",
      "Grad norm = 0.002596589657061657\n",
      "Grad norm = 0.0025899611800931535\n",
      "Grad norm = 0.002579441877547758\n",
      "Grad norm = 0.0025733335443740134\n",
      "Grad norm = 0.002561615489611484\n",
      "Grad norm = 0.0025591732197671755\n",
      "Grad norm = 0.002555239744735284\n",
      "Grad norm = 0.0025374124780434336\n",
      "Grad norm = 0.0025322090848801044\n",
      "Grad norm = 0.0025210331274939644\n",
      "Grad norm = 0.002517942406903306\n",
      "Grad norm = 0.0025168916665202932\n",
      "Grad norm = 0.0025020056165548686\n",
      "Grad norm = 0.00250079724404465\n",
      "Grad norm = 0.002483612274261039\n",
      "Grad norm = 0.0024808136827339324\n",
      "Grad norm = 0.0024744188601333863\n",
      "Grad norm = 0.002460866256379578\n",
      "Grad norm = 0.00245286168798602\n",
      "Grad norm = 0.002447490379453436\n",
      "Grad norm = 0.0024448802385466425\n",
      "Grad norm = 0.002429130767117258\n",
      "Grad norm = 0.0024238195148770015\n",
      "Grad norm = 0.0024162638144127574\n",
      "Grad norm = 0.0024106731558064167\n",
      "Grad norm = 0.0024085633065244138\n",
      "Grad norm = 0.0023967796956558957\n",
      "Grad norm = 0.0023909139370151865\n",
      "Grad norm = 0.0023780887236496337\n",
      "Grad norm = 0.0023721349423362556\n",
      "Grad norm = 0.0023708707593334795\n",
      "Grad norm = 0.0023564009414035842\n",
      "Grad norm = 0.0023506724723300564\n",
      "Grad norm = 0.0023426621908479934\n",
      "Grad norm = 0.0023420555606928875\n",
      "Grad norm = 0.002325158708737067\n",
      "Grad norm = 0.002318643204992974\n",
      "Grad norm = 0.0023144578027257893\n",
      "Grad norm = 0.0023064543900573648\n",
      "Grad norm = 0.0023004739940282867\n",
      "Grad norm = 0.0022923654986536177\n",
      "Grad norm = 0.0022878839818075702\n",
      "Grad norm = 0.002276631735578272\n",
      "Grad norm = 0.002272150432672428\n",
      "Grad norm = 0.0022662136532247044\n",
      "Grad norm = 0.002262078005261262\n",
      "Grad norm = 0.0022501862266486325\n",
      "Grad norm = 0.002248222917984267\n",
      "Grad norm = 0.0022382644699905987\n",
      "Grad norm = 0.0022350134284204845\n",
      "Grad norm = 0.0022317324710061635\n",
      "Grad norm = 0.0022182397095198217\n",
      "Grad norm = 0.0022176469578563023\n",
      "Grad norm = 0.002208992098273146\n",
      "Grad norm = 0.002196568401298669\n",
      "Grad norm = 0.0021976213668664455\n",
      "Grad norm = 0.0021960918568407063\n",
      "Grad norm = 0.002178105102038974\n",
      "Grad norm = 0.0021729219735495704\n",
      "Grad norm = 0.002165364923727936\n",
      "Grad norm = 0.0021622771784390606\n",
      "Grad norm = 0.002155961390843058\n",
      "Grad norm = 0.002144248351934582\n",
      "Grad norm = 0.002142279419317642\n",
      "Grad norm = 0.002133106703526499\n",
      "Grad norm = 0.002129679176461078\n",
      "Grad norm = 0.0021278748826253457\n",
      "Grad norm = 0.002114945120162429\n",
      "Grad norm = 0.002110645056255329\n",
      "Grad norm = 0.0021102707879944124\n",
      "Grad norm = 0.0020963646695228546\n",
      "Grad norm = 0.0020907687315998274\n",
      "Grad norm = 0.002093712812589669\n",
      "Grad norm = 0.0020943941364308756\n",
      "Grad norm = 0.0020744196200544263\n",
      "Grad norm = 0.0020659787922383045\n",
      "Grad norm = 0.0020684357712579195\n",
      "Grad norm = 0.002054563064244389\n",
      "Grad norm = 0.0020479136356023864\n",
      "Grad norm = 0.002045773517663604\n",
      "Grad norm = 0.0020450748970183377\n",
      "Grad norm = 0.0020293873583605445\n",
      "Grad norm = 0.0020234292431207377\n",
      "Grad norm = 0.0020239602257792364\n",
      "Grad norm = 0.002009848445020031\n",
      "Grad norm = 0.0020068722662209613\n",
      "Grad norm = 0.0020075249026249827\n",
      "Grad norm = 0.0019965185518750245\n",
      "Grad norm = 0.001987281410202885\n",
      "Grad norm = 0.001988954328188502\n",
      "Grad norm = 0.0019749840445778665\n",
      "Grad norm = 0.0019706441651193927\n",
      "Grad norm = 0.0019710016148681442\n",
      "Grad norm = 0.0019584702378299956\n",
      "Grad norm = 0.0019558890050698587\n",
      "Grad norm = 0.0019478081499608333\n",
      "Grad norm = 0.0019422312129451765\n",
      "Grad norm = 0.001942904619663751\n",
      "Grad norm = 0.0019308935642285987\n",
      "Grad norm = 0.0019257831141578914\n",
      "Grad norm = 0.001917634787715372\n",
      "Grad norm = 0.0019151203122773613\n",
      "Grad norm = 0.0019130684008569331\n",
      "Grad norm = 0.0019023134551741715\n",
      "Grad norm = 0.0018995559408263574\n",
      "Grad norm = 0.0018909674825186213\n",
      "Grad norm = 0.0018863628676453823\n",
      "Grad norm = 0.0018855900673019964\n",
      "Grad norm = 0.0018742311227172117\n",
      "Grad norm = 0.0018721969420420995\n",
      "Grad norm = 0.0018624750648806414\n",
      "Grad norm = 0.0018607634784382\n",
      "Grad norm = 0.0018533156992137795\n",
      "Grad norm = 0.0018484479944086165\n",
      "Grad norm = 0.0018426561162473494\n",
      "Grad norm = 0.0018401987355782053\n",
      "Grad norm = 0.0018309977993890068\n",
      "Grad norm = 0.001829483529687455\n",
      "Grad norm = 0.0018212105480868402\n",
      "Grad norm = 0.001817053858620555\n",
      "Grad norm = 0.0018193752169087547\n",
      "Grad norm = 0.0018063394718530169\n",
      "Grad norm = 0.0018025094599550518\n",
      "Grad norm = 0.0017956764592979688\n",
      "Grad norm = 0.0017905747977626696\n",
      "Grad norm = 0.0017916084424699215\n",
      "Grad norm = 0.0017795404720397482\n",
      "Grad norm = 0.0017794198249325847\n",
      "Grad norm = 0.001769988396235574\n",
      "Grad norm = 0.0017665319670754557\n",
      "Grad norm = 0.0017638868818522847\n",
      "Grad norm = 0.0017560217790400466\n",
      "Grad norm = 0.0017535873221338186\n",
      "Grad norm = 0.0017456320442378046\n",
      "Grad norm = 0.0017420550401584097\n",
      "Grad norm = 0.0017434018700867716\n",
      "Grad norm = 0.0017322711052930955\n",
      "Grad norm = 0.0017300210053516844\n",
      "Grad norm = 0.0017212525021484432\n",
      "Grad norm = 0.0017203383159735406\n",
      "Grad norm = 0.0017133326510913433\n",
      "Grad norm = 0.0017081742569555495\n",
      "Grad norm = 0.0017013119927442434\n",
      "Grad norm = 0.001700313585949557\n",
      "Grad norm = 0.0016941170423119014\n",
      "Grad norm = 0.0016894809714411865\n",
      "Grad norm = 0.001682812172426303\n",
      "Grad norm = 0.001682328152346086\n",
      "Grad norm = 0.0016748569798203435\n",
      "Grad norm = 0.0016684446029744085\n",
      "Grad norm = 0.001663943705878429\n",
      "Grad norm = 0.001661571732403836\n",
      "Grad norm = 0.001654461298440026\n",
      "Grad norm = 0.0016515279414733134\n",
      "Grad norm = 0.0016466711658263908\n",
      "Grad norm = 0.0016417026165092996\n",
      "Grad norm = 0.0016380749752242182\n",
      "Grad norm = 0.0016349814336297673\n",
      "Grad norm = 0.001630542106947039\n",
      "Grad norm = 0.0016246115693345615\n",
      "Grad norm = 0.001623629610078488\n",
      "Grad norm = 0.0016163549958176642\n",
      "Grad norm = 0.0016151397900420184\n",
      "Grad norm = 0.0016068800976418419\n",
      "Grad norm = 0.0016047933090758946\n",
      "Grad norm = 0.0015974461908804794\n",
      "Grad norm = 0.001596890775548979\n",
      "Grad norm = 0.0015912349157429246\n",
      "Grad norm = 0.0015870249068794602\n",
      "Grad norm = 0.0015808410182926737\n",
      "Grad norm = 0.0015796953342780047\n",
      "Grad norm = 0.0015748954681432388\n",
      "Grad norm = 0.0015689153927831172\n",
      "Grad norm = 0.0015673251306888047\n",
      "Grad norm = 0.0015591995250672452\n",
      "Grad norm = 0.0015580527599592504\n",
      "Grad norm = 0.0015572173259216701\n",
      "Grad norm = 0.0015465447703354497\n",
      "Grad norm = 0.001545513711356767\n",
      "Grad norm = 0.0015390885925596705\n",
      "Grad norm = 0.0015355602874087837\n",
      "Grad norm = 0.0015341929206687864\n",
      "Grad norm = 0.0015285193042953856\n",
      "Grad norm = 0.0015248893446806247\n",
      "Grad norm = 0.0015185638807793235\n",
      "Grad norm = 0.0015154008187516384\n",
      "Grad norm = 0.0015162122518336872\n",
      "Grad norm = 0.0015061607546878544\n",
      "Grad norm = 0.001505757649777201\n",
      "Grad norm = 0.0014985743457220672\n",
      "Grad norm = 0.0014960059377528117\n",
      "Grad norm = 0.0014909753767200415\n",
      "Grad norm = 0.0014875522449720325\n",
      "Grad norm = 0.0014829866526090889\n",
      "Grad norm = 0.0014818732051812777\n",
      "Grad norm = 0.0014743792111855086\n",
      "Grad norm = 0.0014715570720980758\n",
      "Grad norm = 0.0014671052405123698\n",
      "Grad norm = 0.0014664054858901797\n",
      "Grad norm = 0.0014586603620257395\n",
      "Grad norm = 0.0014555404626520301\n",
      "Grad norm = 0.0014524479241069645\n",
      "Grad norm = 0.0014475470074002002\n",
      "Grad norm = 0.001443738794382288\n",
      "Grad norm = 0.0014405229797110049\n",
      "Grad norm = 0.001436394220973727\n",
      "Grad norm = 0.001432943936561906\n",
      "Grad norm = 0.0014291776536400483\n",
      "Grad norm = 0.0014257110841189617\n",
      "Grad norm = 0.001420383873397828\n",
      "Grad norm = 0.0014190035961061014\n",
      "Grad norm = 0.0014135322787842393\n",
      "Grad norm = 0.0014127699426300828\n",
      "Grad norm = 0.001405843461143358\n",
      "Grad norm = 0.0014053261308589803\n",
      "Grad norm = 0.0013986485440049636\n",
      "Grad norm = 0.0013975804123600626\n",
      "Grad norm = 0.0013936532457354972\n",
      "Grad norm = 0.0013883369124702378\n",
      "Grad norm = 0.0013875244316562728\n",
      "Grad norm = 0.0013798474461024551\n",
      "Grad norm = 0.001377569971985797\n",
      "Grad norm = 0.0013788001924029789\n",
      "Grad norm = 0.0013697232037324554\n",
      "Grad norm = 0.0013686421929845652\n",
      "Grad norm = 0.0013668291912754085\n",
      "Grad norm = 0.001358505249319015\n",
      "Grad norm = 0.0013572614752964435\n",
      "Grad norm = 0.0013594552940383454\n",
      "Grad norm = 0.001349804946994289\n",
      "Grad norm = 0.0013452391025809767\n",
      "Grad norm = 0.0013462844063989055\n",
      "Grad norm = 0.0013393359986666607\n",
      "Grad norm = 0.0013356298112615073\n",
      "Grad norm = 0.0013356414219219887\n",
      "Grad norm = 0.0013341094663868436\n",
      "Grad norm = 0.0013238679800298041\n",
      "Grad norm = 0.0013239281812679967\n",
      "Grad norm = 0.0013243120168655244\n",
      "Grad norm = 0.0013138976432302857\n",
      "Grad norm = 0.0013117580525697805\n",
      "Grad norm = 0.0013141055627713576\n",
      "Grad norm = 0.0013058604434195565\n",
      "Grad norm = 0.0013010819223870749\n",
      "Grad norm = 0.0013020160185175985\n",
      "Grad norm = 0.0012936840034732946\n",
      "Grad norm = 0.001291895758897972\n",
      "Grad norm = 0.0012930005992645944\n",
      "Grad norm = 0.0012840105010457873\n",
      "Grad norm = 0.0012837994285183325\n",
      "Grad norm = 0.0012780379941076142\n",
      "Grad norm = 0.0012740551069307141\n",
      "Grad norm = 0.0012720390366142385\n",
      "Grad norm = 0.0012701290362950638\n",
      "Grad norm = 0.0012653998689290328\n",
      "Grad norm = 0.0012639486932683093\n",
      "Grad norm = 0.0012580190607502312\n",
      "Grad norm = 0.0012577031190745005\n",
      "Grad norm = 0.0012536751767309132\n",
      "Grad norm = 0.0012491750430017607\n",
      "Grad norm = 0.0012480275639473596\n",
      "Grad norm = 0.0012432229984011478\n",
      "Grad norm = 0.0012421598703357864\n",
      "Grad norm = 0.0012367950862293001\n",
      "Grad norm = 0.0012333011798498963\n",
      "Grad norm = 0.0012309374383015113\n",
      "Grad norm = 0.0012281217518950484\n",
      "Grad norm = 0.0012257420923932844\n",
      "Grad norm = 0.001221733198391576\n",
      "Grad norm = 0.0012208353740225408\n",
      "Grad norm = 0.0012155057651988585\n",
      "Grad norm = 0.0012138755340301733\n",
      "Grad norm = 0.0012157417499711694\n",
      "Grad norm = 0.0012061920768491185\n",
      "Grad norm = 0.001205490137323057\n",
      "Grad norm = 0.0012078912148656932\n",
      "Grad norm = 0.0011982141809887856\n",
      "Grad norm = 0.001194438197992924\n",
      "Grad norm = 0.0011956826465758955\n",
      "Grad norm = 0.001193680561242198\n",
      "Grad norm = 0.0011852544277287272\n",
      "Grad norm = 0.0011835096527690922\n",
      "Grad norm = 0.001179299246481099\n",
      "Grad norm = 0.001176321361392194\n",
      "Grad norm = 0.0011741982627046788\n",
      "Grad norm = 0.0011723348529613876\n",
      "Grad norm = 0.001167489825455497\n",
      "Grad norm = 0.0011658967687978303\n",
      "Grad norm = 0.0011621940434006527\n",
      "Grad norm = 0.0011590390753432227\n",
      "Grad norm = 0.0011578227792244599\n",
      "Grad norm = 0.0011534310527484487\n",
      "Grad norm = 0.0011512207276370085\n",
      "Grad norm = 0.0011494901672891291\n",
      "Grad norm = 0.001147280613375837\n",
      "Grad norm = 0.0011417725370001762\n",
      "Grad norm = 0.0011420819530436432\n",
      "Grad norm = 0.0011372054804764057\n",
      "Grad norm = 0.0011367235246310474\n",
      "Grad norm = 0.0011315776592912845\n",
      "Grad norm = 0.00112994739005772\n",
      "Grad norm = 0.0011261937890048267\n",
      "Grad norm = 0.0011235347357505534\n",
      "Grad norm = 0.001120468814312863\n",
      "Grad norm = 0.0011187094537927129\n",
      "Grad norm = 0.0011169798304400383\n",
      "Grad norm = 0.0011123126851464624\n",
      "Grad norm = 0.0011117661274725901\n",
      "Grad norm = 0.0011077047201417543\n",
      "Grad norm = 0.0011075397578923243\n",
      "Grad norm = 0.0011052902792831958\n",
      "Grad norm = 0.0010988869266120326\n",
      "Grad norm = 0.0010998443897855608\n",
      "Grad norm = 0.0010944996364197265\n",
      "Grad norm = 0.0010936050414115217\n",
      "Grad norm = 0.0010894592322944138\n",
      "Grad norm = 0.0010867722114687554\n",
      "Grad norm = 0.0010863596695786426\n",
      "Grad norm = 0.0010822789129141957\n",
      "Grad norm = 0.0010809594169966948\n",
      "Grad norm = 0.0010829941125094806\n",
      "Grad norm = 0.0010750685142381343\n",
      "Grad norm = 0.0010726235742505774\n",
      "Grad norm = 0.0010748596281119364\n",
      "Grad norm = 0.0010674382186591771\n",
      "Grad norm = 0.0010649376145395086\n",
      "Grad norm = 0.0010650025508128396\n",
      "Grad norm = 0.0010599248133099808\n",
      "Grad norm = 0.0010573908251064992\n",
      "Grad norm = 0.0010559569275160623\n",
      "Grad norm = 0.0010529909804589466\n",
      "Grad norm = 0.001049852127643901\n",
      "Grad norm = 0.001047578716884652\n",
      "Grad norm = 0.0010442962854842115\n",
      "Grad norm = 0.0010424944564333411\n",
      "Grad norm = 0.0010399458845843192\n",
      "Grad norm = 0.0010389458563138754\n",
      "Grad norm = 0.0010354079905446536\n",
      "Grad norm = 0.0010343621846875964\n",
      "Grad norm = 0.0010302152647807517\n",
      "Grad norm = 0.0010305739022314821\n",
      "Grad norm = 0.0010254975999711294\n",
      "Grad norm = 0.001025609412860868\n",
      "Grad norm = 0.0010213319571112304\n",
      "Grad norm = 0.0010207791979931348\n",
      "Grad norm = 0.0010162945022602033\n",
      "Grad norm = 0.0010170628735529596\n",
      "Grad norm = 0.001012010676811149\n",
      "Grad norm = 0.001010769228480017\n",
      "Grad norm = 0.001011707096877685\n",
      "Grad norm = 0.0010054378507470968\n",
      "Grad norm = 0.0010047046170687077\n",
      "Grad norm = 0.0010014281622651435\n",
      "Grad norm = 0.001000043078862033\n",
      "Grad norm = 0.0009977064554504212\n",
      "Grad norm = 0.0009950876060545108\n",
      "Grad norm = 0.0009919446928386398\n",
      "Grad norm = 0.0009915940626685515\n",
      "Grad norm = 0.0009889260104328607\n",
      "Grad norm = 0.0009848535847531536\n",
      "Grad norm = 0.0009854116545263334\n",
      "Grad norm = 0.000980835534137365\n",
      "Grad norm = 0.0009789478942646393\n",
      "Grad norm = 0.0009780764953673934\n"
     ]
    },
    {
     "data": {
      "text/plain": "('Max iterations reached', 1000)"
     },
     "execution_count": 55,
     "metadata": {},
     "output_type": "execute_result"
    }
   ],
   "source": [
    "layer_c = 3\n",
    "network = make_network(input_size, 32, output_size, layer_c, ReLU)\n",
    "initialize_network(network, \"Kaiming\")\n",
    "weights = get_weights(network)\n",
    "\n",
    "cb = Callback(network, X_train, y_train, X_test, y_test, print=False)\n",
    "\n",
    "res = minimize(\n",
    "    compute_loss_grad, weights,       # fun and start point\n",
    "    args=(network, X_train, y_train), # args passed to fun\n",
    "    method=Adam,                       # optimization method\n",
    "    jac=True,                         # says that gradient is computed in fun,\n",
    "    options={\n",
    "        'n_iter': 1_000,\n",
    "        'beta_momentum': 0.9,\n",
    "        'beta_grad': 0.99,\n",
    "        'lr': 12 * 1e-5,\n",
    "        'batch_size': X_train.shape[0],\n",
    "    },\n",
    "    tol=1e-8,\n",
    "    callback=cb.call,\n",
    ")\n",
    "\n",
    "res['message'], res['nit']"
   ],
   "metadata": {
    "collapsed": false,
    "ExecuteTime": {
     "end_time": "2024-03-02T11:31:10.499354200Z",
     "start_time": "2024-03-02T11:30:54.013971400Z"
    }
   },
   "execution_count": 55
  },
  {
   "cell_type": "code",
   "outputs": [
    {
     "data": {
      "text/plain": "<Figure size 1000x500 with 1 Axes>",
      "image/png": "[encoded data removed]"
     },
     "metadata": {},
     "output_type": "display_data"
    }
   ],
   "source": [
    "fig, ax = plt.subplots(1, 1, figsize=(10, 5))\n",
    "ax.plot(cb.train_acc, label=f\"train acc [{cb.train_acc[-1]:5.4f}]\")\n",
    "ax.plot(cb.test_acc, label=f\"test acc{cb.test_acc[-1]:5.4f}\")\n",
    "ax.set_xlabel(\"Iteration\")\n",
    "ax.set_ylabel(\"Accuracy\")\n",
    "ax.grid(True)\n",
    "ax.legend()\n",
    "\n",
    "fig.tight_layout()\n",
    "plt.show()"
   ],
   "metadata": {
    "collapsed": false,
    "ExecuteTime": {
     "end_time": "2024-03-02T11:31:13.166763Z",
     "start_time": "2024-03-02T11:31:13.050192900Z"
    }
   },
   "execution_count": 56
  },
  {
   "cell_type": "code",
   "outputs": [
    {
     "data": {
      "text/plain": "0.9711111111111111"
     },
     "execution_count": 57,
     "metadata": {},
     "output_type": "execute_result"
    }
   ],
   "source": [
    "cb.test_acc[-1]"
   ],
   "metadata": {
    "collapsed": false,
    "ExecuteTime": {
     "end_time": "2024-03-02T11:31:13.930369600Z",
     "start_time": "2024-03-02T11:31:13.870428300Z"
    }
   },
   "execution_count": 57
  },
  {
   "cell_type": "markdown",
   "metadata": {
    "hidden": true
   },
   "source": [
    "### `Dropout (1 балл)`\n",
    "\n",
    "Реализуйте слой Dropout. Сравните обучение сети из большого числа слоёв при использовании Dropout и без его использования (предварительно подберите адекватный параметр $p$). Сделайте выводы."
   ]
  },
  {
   "cell_type": "code",
   "outputs": [],
   "source": [
    "class Dropout(Layer):\n",
    "    def __init__(self, p: float = 0.5):\n",
    "        super().__init__()\n",
    "        self.p = p\n",
    "        self.mask = None\n",
    "    \n",
    "    def forward(self, input: NDArray) -> NDArray:\n",
    "        if self.inference_mode:\n",
    "            return input\n",
    "        \n",
    "        mask = np.random.binomial(n=1, p=1 - self.p, size=input.shape)\n",
    "        # print(mask)\n",
    "        self.mask = mask / (1 - self.p)\n",
    "        return input * self.mask\n",
    "    \n",
    "    def backward(self, grad_output: NDArray) -> Tuple[NDArray, NDArray]:\n",
    "        if self.inference_mode:\n",
    "            return grad_output, []\n",
    "        \n",
    "        return grad_output * self.mask, []\n",
    "    \n",
    "    def __repr__(self):\n",
    "        return f\"Dropout(p={self.p}, enabled={not self.inference_mode})\""
   ],
   "metadata": {
    "collapsed": false,
    "ExecuteTime": {
     "end_time": "2024-03-02T11:31:15.152133700Z",
     "start_time": "2024-03-02T11:31:15.108620300Z"
    }
   },
   "execution_count": 58
  },
  {
   "cell_type": "code",
   "outputs": [],
   "source": [
    "def make_network(input_size, hidden_layers_size, output_size, n_layers=3, activation_class=ReLU, dropout: bool = False, dropout_p: float = 0.5):\n",
    "    network = []\n",
    "\n",
    "    for layer_idx in range(n_layers):\n",
    "        # Compute sizes of current linear layer\n",
    "        layer_in = input_size if layer_idx == 0 else hidden_layers_size\n",
    "        layer_out = output_size if layer_idx == n_layers - 1 else hidden_layers_size\n",
    "        \n",
    "        # Add linear layer to the network\n",
    "        network.append(Dense(layer_in, layer_out))\n",
    "\n",
    "        # Add activation after each layer except the last one\n",
    "        if layer_idx != n_layers - 1:\n",
    "            network.append(activation_class())\n",
    "            if dropout:\n",
    "                network.append(Dropout(dropout_p))\n",
    "\n",
    "    # Add LogSoftmax layer to the network\n",
    "    network.append(LogSoftmax())\n",
    "\n",
    "    return network"
   ],
   "metadata": {
    "collapsed": false,
    "ExecuteTime": {
     "end_time": "2024-03-02T11:31:15.816973800Z",
     "start_time": "2024-03-02T11:31:15.773964800Z"
    }
   },
   "execution_count": 59
  },
  {
   "cell_type": "code",
   "outputs": [],
   "source": [
    "def set_inference_mode(network: List[Layer], inference_mode: bool):\n",
    "    for layer in network:\n",
    "        layer.inference_mode = inference_mode"
   ],
   "metadata": {
    "collapsed": false,
    "ExecuteTime": {
     "end_time": "2024-03-02T11:31:16.396693200Z",
     "start_time": "2024-03-02T11:31:16.371174800Z"
    }
   },
   "execution_count": 60
  },
  {
   "cell_type": "code",
   "outputs": [
    {
     "data": {
      "text/plain": "[Dense(64, 32),\n Relu(),\n Dropout(p=0.2, enabled=True),\n Dense(32, 32),\n Relu(),\n Dropout(p=0.2, enabled=True),\n Dense(32, 10),\n LogSoftmax()]"
     },
     "execution_count": 61,
     "metadata": {},
     "output_type": "execute_result"
    }
   ],
   "source": [
    "network = make_network(input_size, 32, output_size, layer_c, ReLU, dropout=True, dropout_p=0.2)\n",
    "set_inference_mode(network, False)\n",
    "weights = get_weights(network)\n",
    "network"
   ],
   "metadata": {
    "collapsed": false,
    "ExecuteTime": {
     "end_time": "2024-03-02T11:31:17.296105Z",
     "start_time": "2024-03-02T11:31:17.279113Z"
    }
   },
   "execution_count": 61
  },
  {
   "cell_type": "code",
   "outputs": [
    {
     "data": {
      "text/plain": "(500, True, 'Max iterations reached')"
     },
     "execution_count": 63,
     "metadata": {},
     "output_type": "execute_result"
    }
   ],
   "source": [
    "res = minimize(\n",
    "    compute_loss_grad, weights,       # fun and start point\n",
    "    args=[network, X_train, y_train], # args passed to fun\n",
    "    method=SGD,                       # optimization method\n",
    "    jac=True,                         # says that gradient is computed in fun,\n",
    "    options={'disp': True, 'momentum': 0.9, 'batch_size': 64, 'n_iter': 5_00, 'lr': 0.005},\n",
    "    tol=1e-7\n",
    ")\n",
    "\n",
    "res['nit'], res['success'], res['message']"
   ],
   "metadata": {
    "collapsed": false,
    "ExecuteTime": {
     "end_time": "2024-03-02T11:31:31.718610700Z",
     "start_time": "2024-03-02T11:31:20.570627100Z"
    }
   },
   "execution_count": 63
  },
  {
   "cell_type": "code",
   "outputs": [
    {
     "name": "stdout",
     "output_type": "stream",
     "text": [
      "Train NLL: 0.0197534\t\tTest NLL: 0.3305767\n",
      "[Dense(64, 32), Relu(), Dropout(p=0.2, enabled=False), Dense(32, 32), Relu(), Dropout(p=0.2, enabled=False), Dense(32, 10), LogSoftmax()]\n",
      "Train accuracy: 1.000\t\tTest accuracy: 0.973\n"
     ]
    }
   ],
   "source": [
    "set_weights(weights=res[\"x\"], network=network)\n",
    "\n",
    "train_NLL = NLL(forward(network, X_train), y_train)\n",
    "test_NLL = NLL(forward(network, X_test), y_test)\n",
    "\n",
    "print(f\"Train NLL: {train_NLL:.7f}\\t\\tTest NLL: {test_NLL:.7f}\")\n",
    "\n",
    "set_inference_mode(network, True)\n",
    "print(network)\n",
    "\n",
    "train_accuracy = accuracy_score(y_true=y_train, y_pred=predict(network, X_train))\n",
    "test_accuracy = accuracy_score(y_true=y_test, y_pred=predict(network, X_test))\n",
    "\n",
    "print(f\"Train accuracy: {train_accuracy:.3f}\\t\\tTest accuracy: {test_accuracy:.3f}\")"
   ],
   "metadata": {
    "collapsed": false,
    "ExecuteTime": {
     "end_time": "2024-03-02T11:31:31.743611400Z",
     "start_time": "2024-03-02T11:31:31.708315600Z"
    }
   },
   "execution_count": 64
  },
  {
   "cell_type": "code",
   "outputs": [
    {
     "name": "stdout",
     "output_type": "stream",
     "text": [
      "i= 0\tj= 0\tdropout_p=0.00\tn_iter=500\ttrain acc: 1.0000\ttest acc: 0.9689\n",
      "i= 0\tj= 1\tdropout_p=0.00\tn_iter=500\ttrain acc: 1.0000\ttest acc: 0.9689\n",
      "i= 0\tj= 2\tdropout_p=0.00\tn_iter=500\ttrain acc: 1.0000\ttest acc: 0.9644\n",
      "i= 0\tj= 3\tdropout_p=0.00\tn_iter=500\ttrain acc: 1.0000\ttest acc: 0.9689\n",
      "i= 0\tj= 4\tdropout_p=0.00\tn_iter=500\ttrain acc: 1.0000\ttest acc: 0.9600\n",
      "i= 1\tj= 0\tdropout_p=0.10\tn_iter=500\ttrain acc: 1.0000\ttest acc: 0.9733\n",
      "i= 1\tj= 1\tdropout_p=0.10\tn_iter=500\ttrain acc: 1.0000\ttest acc: 0.9711\n",
      "i= 1\tj= 2\tdropout_p=0.10\tn_iter=500\ttrain acc: 1.0000\ttest acc: 0.9733\n",
      "i= 1\tj= 3\tdropout_p=0.10\tn_iter=500\ttrain acc: 1.0000\ttest acc: 0.9711\n",
      "i= 1\tj= 4\tdropout_p=0.10\tn_iter=500\ttrain acc: 1.0000\ttest acc: 0.9756\n",
      "i= 2\tj= 0\tdropout_p=0.20\tn_iter=500\ttrain acc: 1.0000\ttest acc: 0.9556\n",
      "i= 2\tj= 1\tdropout_p=0.20\tn_iter=500\ttrain acc: 1.0000\ttest acc: 0.9733\n",
      "i= 2\tj= 2\tdropout_p=0.20\tn_iter=500\ttrain acc: 1.0000\ttest acc: 0.9733\n",
      "i= 2\tj= 3\tdropout_p=0.20\tn_iter=500\ttrain acc: 1.0000\ttest acc: 0.9733\n",
      "i= 2\tj= 4\tdropout_p=0.20\tn_iter=500\ttrain acc: 1.0000\ttest acc: 0.9667\n",
      "i= 3\tj= 0\tdropout_p=0.30\tn_iter=500\ttrain acc: 1.0000\ttest acc: 0.9644\n",
      "i= 3\tj= 1\tdropout_p=0.30\tn_iter=500\ttrain acc: 1.0000\ttest acc: 0.9689\n",
      "i= 3\tj= 2\tdropout_p=0.30\tn_iter=500\ttrain acc: 1.0000\ttest acc: 0.9711\n",
      "i= 3\tj= 3\tdropout_p=0.30\tn_iter=500\ttrain acc: 0.9993\ttest acc: 0.9667\n",
      "i= 3\tj= 4\tdropout_p=0.30\tn_iter=500\ttrain acc: 1.0000\ttest acc: 0.9756\n",
      "i= 4\tj= 0\tdropout_p=0.40\tn_iter=500\ttrain acc: 0.9993\ttest acc: 0.9756\n",
      "i= 4\tj= 1\tdropout_p=0.40\t"
     ]
    },
    {
     "name": "stderr",
     "output_type": "stream",
     "text": [
      "\n",
      "KeyboardInterrupt\n",
      "\n"
     ]
    }
   ],
   "source": [
    "p_vars = np.linspace(0, 0.9, num=10)\n",
    "layer_c = 3\n",
    "\n",
    "accs_train = np.zeros((p_vars.shape[0], 5))\n",
    "accs_test = np.zeros_like(accs_train)\n",
    "\n",
    "for i, dropout_p in enumerate(p_vars):\n",
    "    for j in range(accs_train.shape[1]):\n",
    "        print(f\"{i=:2}\\t{j=:2}\\t{dropout_p=:3.2f}\\t\", end='')\n",
    "        network = make_network(input_size, 32, output_size, layer_c, ReLU, dropout=True, dropout_p=dropout_p)\n",
    "        initialize_network(network, 'Kaiming')\n",
    "        set_inference_mode(network, False)\n",
    "        network, cb = train_network(network, history=True, tol=1e-7, optimizer=SGD, options={'momentum': 0.9, 'batch_size': 32, 'n_iter': 500, 'lr': 0.1 * 1e-2})\n",
    "        set_inference_mode(network, True)\n",
    "        \n",
    "        accs_train[i, j] = accuracy_score(y_true=y_train, y_pred=predict(network, X_train))\n",
    "        accs_test[i, j] = accuracy_score(y_true=y_test, y_pred=predict(network, X_test))\n",
    "        print(f\"n_iter={len(cb.test_acc)}\\ttrain acc: {accs_train[i, j]:5.4f}\\ttest acc: {accs_test[i, j]:5.4f}\")"
   ],
   "metadata": {
    "collapsed": false,
    "ExecuteTime": {
     "end_time": "2024-02-29T18:44:31.819482Z",
     "start_time": "2024-02-29T18:39:31.099745400Z"
    }
   },
   "execution_count": 67
  },
  {
   "cell_type": "code",
   "outputs": [],
   "source": [
    "drop_proba_for_plot = [f\"P = {p:3.2f}\" for p in p_vars]\n",
    "\n",
    "fig, ax = plt.subplots(1, 1, figsize=(10, 5))\n",
    "\n",
    "ax.boxplot(accs_test.T, labels=drop_proba_for_plot, showfliers=False)\n",
    "\n",
    "ax.set_title(f\"Test quality in {accs_test.shape[1]} runs\")\n",
    "ax.set_xlabel(\"Initialization\")\n",
    "ax.set_ylabel(\"Test accuracy\")\n",
    "ax.grid(True)\n",
    "\n",
    "fig.tight_layout()\n",
    "plt.show()"
   ],
   "metadata": {
    "collapsed": false,
    "ExecuteTime": {
     "start_time": "2024-02-29T18:35:59.903228300Z"
    }
   },
   "execution_count": null
  },
  {
   "cell_type": "code",
   "outputs": [],
   "source": [
    "drop_proba_for_plot = [f\"P = {p:3.2f}\" for p in p_vars]\n",
    "\n",
    "fig, ax = plt.subplots(1, 1, figsize=(10, 5))\n",
    "\n",
    "ax.boxplot(accs_test[:-3, :].T, labels=drop_proba_for_plot[:-3], showfliers=False)\n",
    "\n",
    "ax.set_title(f\"Test quality in {accs_test.shape[1]} runs\")\n",
    "ax.set_xlabel(\"Initialization\")\n",
    "ax.set_ylabel(\"Test accuracy\")\n",
    "ax.grid(True)\n",
    "\n",
    "fig.tight_layout()\n",
    "plt.show()"
   ],
   "metadata": {
    "collapsed": false,
    "ExecuteTime": {
     "start_time": "2024-02-29T18:35:59.903228300Z"
    }
   },
   "execution_count": null
  },
  {
   "cell_type": "code",
   "outputs": [],
   "source": [
    "p_vars = np.linspace(0, 0.9, num=10)\n",
    "layer_c = 6\n",
    "\n",
    "accs_train = np.zeros((p_vars.shape[0], 15))\n",
    "accs_test = np.zeros_like(accs_train)\n",
    "\n",
    "for i, dropout_p in enumerate(p_vars):\n",
    "    for j in range(accs_train.shape[1]):\n",
    "        print(f\"{i=:2}\\t{j=:2}\\t{dropout_p=:3.2f}\\t\", end='')\n",
    "        network = make_network(input_size, 32, output_size, layer_c, ReLU, dropout=True, dropout_p=dropout_p)\n",
    "        initialize_network(network, 'Kaiming')\n",
    "        set_inference_mode(network, False)\n",
    "        network, cb = train_network(network, history=True, tol=1e-7, optimizer=SGD, options={'momentum': 0.9, 'batch_size': 100, 'n_iter': 1_000, 'lr': 0.2 * 1e-2})\n",
    "        set_inference_mode(network, True)\n",
    "        \n",
    "        accs_train[i, j] = accuracy_score(y_true=y_train, y_pred=predict(network, X_train))\n",
    "        accs_test[i, j] = accuracy_score(y_true=y_test, y_pred=predict(network, X_test))\n",
    "        print(f\"train acc: {accs_train[i, j]:5.4f} test acc: {accs_test[i, j]:5.4f}\")"
   ],
   "metadata": {
    "collapsed": false,
    "ExecuteTime": {
     "start_time": "2024-02-29T18:35:59.904228600Z"
    }
   },
   "execution_count": null
  },
  {
   "cell_type": "code",
   "outputs": [],
   "source": [
    "drop_proba_for_plot = [f\"P = {p:3.2f}\" for p in p_vars]\n",
    "\n",
    "fig, ax = plt.subplots(1, 1, figsize=(10, 5))\n",
    "\n",
    "ax.boxplot(accs_test.T, labels=drop_proba_for_plot, showfliers=False)\n",
    "\n",
    "ax.set_title(f\"Test quality in {accs_test.shape[1]} runs\")\n",
    "ax.set_xlabel(\"Initialization\")\n",
    "ax.set_ylabel(\"Test accuracy\")\n",
    "ax.grid(True)\n",
    "\n",
    "fig.tight_layout()\n",
    "plt.show()"
   ],
   "metadata": {
    "collapsed": false,
    "ExecuteTime": {
     "start_time": "2024-02-29T18:35:59.905228500Z"
    }
   },
   "execution_count": null
  },
  {
   "cell_type": "markdown",
   "metadata": {
    "hidden": true
   },
   "source": [
    "### `BatchNormalization (1 балл)`\n",
    "\n",
    "Реализуйте слой `BatchNormalization`. Сравните обучение сети из большого числа слоёв при использовании `BatchNormalization` и без его использования. Сделайте выводы."
   ]
  },
  {
   "cell_type": "markdown",
   "source": [
    "__Ваше решение:__\n",
    "\n",
    "Перепишем формулу для $y_i$ в векторном виде:\n",
    "$$y_i = \\gamma \\frac{X - \\mu}{\\sqrt{\\sigma^2 + \\varepsilon}} + \\delta $$\n",
    "Считаем, что $\\mathcal{L} = \\mathcal{L}(y(X, \\gamma, \\delta))$, тогда:\n",
    "1. $\\nabla_{\\gamma} {\\mathcal L} = (\\nabla_{y} {\\mathcal L})^T \\cdot \\frac{X - \\mu}{\\sqrt{\\sigma^2 + \\varepsilon}}$\n",
    "2. $\\nabla_{\\delta} {\\mathcal L} = (\\nabla_{y} {\\mathcal L})^T \\cdot (1)_{i=1}^{n} = \\sum_{i=1}^n (\\nabla_{y} {\\mathcal L})_i$\n",
    "3. $\\nabla_X{L} = \\frac{\\gamma}{\\sqrt{\\sigma^2 + \\varepsilon}}\\nabla_y{L}\\left(E - \\frac{\\mathbb{I}(\\mathbb{I})^T}{n} - \\frac{\\overline y \\overline y^T}{n} \\right)$"
   ],
   "metadata": {
    "collapsed": false
   }
  },
  {
   "cell_type": "code",
   "outputs": [],
   "source": [
    "class BatchNormalization(Layer):\n",
    "    def __init__(self, rho: float = 0.75):\n",
    "        super().__init__()\n",
    "        self.mu_mean = 0\n",
    "        self.std_mean = 0\n",
    "        self.rho = rho\n",
    "        self.normed = None\n",
    "        self.eps = 1e-7\n",
    "        \n",
    "        self.gamma = np.array([1.0])\n",
    "        self.delta = np.array([0.0])\n",
    "        self.params = [self.gamma, self.delta]\n",
    "    \n",
    "    def forward(self, input: NDArray) -> NDArray:\n",
    "        # print(f\"gamma = {self.gamma}\\tdelta = {self.delta}\")\n",
    "        if self.inference_mode:\n",
    "            output = self.gamma * ((input - self.mu_mean) / self.std_mean) + self.delta\n",
    "            return output\n",
    "            \n",
    "        mu = np.mean(input, axis=0, keepdims=True)\n",
    "        std = np.std(input, axis=0, keepdims=True) + self.eps\n",
    "        \n",
    "        self.mu_mean = (1 - self.rho) * self.mu_mean + self.rho * mu\n",
    "        self.std_mean = (1 - self.rho) * self.std_mean + self.rho * std\n",
    "        \n",
    "        self.input = input\n",
    "        self.normed = (input - mu) / std\n",
    "        self.bathc_mu = mu\n",
    "        self.batch_std = std\n",
    "        output = self.gamma * self.normed + self.delta\n",
    "        \n",
    "        return output\n",
    "    \n",
    "    def backward(self, grad_output: NDArray) -> Tuple[NDArray, NDArray]:\n",
    "        d_loss_d_gamma = np.sum(grad_output * self.normed, axis=0, keepdims=True)\n",
    "        d_loss_d_delta = np.sum(grad_output, axis=0, keepdims=True)\n",
    "\n",
    "        loss_dot_y = np.sum(grad_output * (self.gamma * self.normed + self.delta), axis=0, keepdims=True)\n",
    "        loss_dot_1 = d_loss_d_delta\n",
    "        \n",
    "        n = grad_output.shape[0]\n",
    "        # print(f\"{loss_dot_1.shape=}\\n{loss_dot_y.shape=}\\n{self.normed.shape=}\")\n",
    "        d_loss_d_x = (grad_output - (1 / n) * (loss_dot_1 + (self.gamma * self.normed + self.delta) * loss_dot_y))\n",
    "        d_loss_d_x = (self.gamma / self.batch_std) * d_loss_d_x\n",
    "        \n",
    "        # print(f\"{d_loss_d_x.shape=}\\t{d_loss_d_gamma.shape=}\\t{d_loss_d_delta.shape=}\")\n",
    "        \n",
    "        return d_loss_d_x, [np.sum(d_loss_d_gamma), np.sum(d_loss_d_delta)]\n",
    "    \n",
    "    def __repr__(self):\n",
    "        return f\"BatchNormalization()\""
   ],
   "metadata": {
    "collapsed": false,
    "ExecuteTime": {
     "end_time": "2024-03-02T12:27:25.539792900Z",
     "start_time": "2024-03-02T12:27:25.438573400Z"
    }
   },
   "execution_count": 242
  },
  {
   "cell_type": "code",
   "outputs": [],
   "source": [
    "batchnorm = BatchNormalization()\n",
    "points = np.linspace(-1, 1, 10*12).reshape([10, 12])\n",
    "\n",
    "batchnorm.inference_mode = False\n",
    "batchnorm.forward(points)\n",
    "\n",
    "numeric_grads = eval_numerical_gradient(lambda x: np.sum((batchnorm.forward(x)) ** 4), points)\n",
    "res = batchnorm.forward(points)\n",
    "batchnorm_grads, params = batchnorm.backward(4 * (res ** 3))\n",
    "\n",
    "batchnorm_grads - numeric_grads\n",
    "\n",
    "assert np.allclose(numeric_grads, batchnorm_grads, rtol=1e-3, atol=0)"
   ],
   "metadata": {
    "collapsed": false,
    "ExecuteTime": {
     "end_time": "2024-03-02T12:26:04.114826300Z",
     "start_time": "2024-03-02T12:26:04.034105200Z"
    }
   },
   "execution_count": 232
  },
  {
   "cell_type": "code",
   "outputs": [
    {
     "data": {
      "text/plain": "array([8.6277737e-08])"
     },
     "execution_count": 233,
     "metadata": {},
     "output_type": "execute_result"
    }
   ],
   "source": [
    "batchnorm = BatchNormalization()\n",
    "points = np.linspace(-1, 1, 10*12).reshape([10, 12])\n",
    "\n",
    "batchnorm.inference_mode = False\n",
    "batchnorm.forward(points)\n",
    "\n",
    "def foo(gamma):\n",
    "    old_gamma = batchnorm.gamma\n",
    "    batchnorm.gamma = gamma\n",
    "    val = np.sum((batchnorm.forward(points)) ** 4)\n",
    "    batchnorm.gamma = old_gamma\n",
    "    return val\n",
    "\n",
    "numeric_grads = eval_numerical_gradient(foo, np.array([1.0]))\n",
    "res = batchnorm.forward(points)\n",
    "batchnorm_grads, params = batchnorm.backward(4 * (res ** 3))\n",
    "\n",
    "# batchnorm_grads - numeric_grads\n",
    "\n",
    "numeric_grads - params[0]\n",
    "\n",
    "# assert np.allclose(numeric_grads, batchnorm_grads, rtol=1e-3, atol=0)"
   ],
   "metadata": {
    "collapsed": false,
    "ExecuteTime": {
     "end_time": "2024-03-02T12:26:04.621992100Z",
     "start_time": "2024-03-02T12:26:04.544854700Z"
    }
   },
   "execution_count": 233
  },
  {
   "cell_type": "code",
   "outputs": [
    {
     "data": {
      "text/plain": "array([-1.0658141e-14])"
     },
     "execution_count": 234,
     "metadata": {},
     "output_type": "execute_result"
    }
   ],
   "source": [
    "batchnorm = BatchNormalization()\n",
    "points = np.linspace(-1, 1, 10*12).reshape([10, 12])\n",
    "\n",
    "batchnorm.inference_mode = False\n",
    "batchnorm.forward(points)\n",
    "\n",
    "def foo(delta):\n",
    "    old_delta = batchnorm.delta\n",
    "    batchnorm.delta = delta\n",
    "    val = np.sum((batchnorm.forward(points)) ** 4)\n",
    "    batchnorm.delta = old_delta\n",
    "    return val\n",
    "\n",
    "numeric_grads = eval_numerical_gradient(foo, np.array([0.0]))\n",
    "res = batchnorm.forward(points)\n",
    "batchnorm_grads, params = batchnorm.backward(4 * (res ** 3))\n",
    "\n",
    "# batchnorm_grads - numeric_grads\n",
    "\n",
    "numeric_grads - params[1]\n",
    "\n",
    "# assert np.allclose(numeric_grads, batchnorm_grads, rtol=1e-3, atol=0)"
   ],
   "metadata": {
    "collapsed": false,
    "ExecuteTime": {
     "end_time": "2024-03-02T12:26:05.291835600Z",
     "start_time": "2024-03-02T12:26:05.200512800Z"
    }
   },
   "execution_count": 234
  },
  {
   "cell_type": "code",
   "outputs": [],
   "source": [
    "def compute_loss_grad(weights, args):\n",
    "    \"\"\"\n",
    "    takes current weights and computes cross-entropy and gradients\n",
    "    weights shape: [num_parameters]\n",
    "    output 1: loss (scalar)\n",
    "    output 2: gradint w.r.t. weights, shape: [num_parameters]\n",
    "    \n",
    "    hint: firstly perform forward pass through the whole network\n",
    "    then compute loss and its gradients\n",
    "    then perform backward pass, transmitting first baskward output\n",
    "    to the previos layer and saving second baskward output in a list\n",
    "    finally flatten all the gradients in this list\n",
    "    (in the order from the first to the last layer)\n",
    "    \n",
    "    Do not forget to set weights of the network!\n",
    "    \"\"\"\n",
    "    network, X, y = args\n",
    "    \n",
    "    set_weights(weights, network)\n",
    "    \n",
    "    activations = forward(network, X)\n",
    "    loss = NLL(activations, y)\n",
    "    \n",
    "    weights_grad_arrays = []\n",
    "    \n",
    "    d_loss_d_input = grad_NLL(activations, y)\n",
    "    for layer in reversed(network):\n",
    "        d_loss_d_input, d_loss_d_layer = layer.backward(d_loss_d_input)\n",
    "        if isinstance(layer, Dense):\n",
    "            weights_grad_arrays.append(np.sum(d_loss_d_layer[1], axis=0).ravel().tolist())\n",
    "            weights_grad_arrays.append(np.sum(d_loss_d_layer[0], axis=0).ravel().tolist())\n",
    "        elif isinstance(layer, BatchNormalization):\n",
    "            weights_grad_arrays.append([d_loss_d_layer[1]])\n",
    "            weights_grad_arrays.append([d_loss_d_layer[0]])\n",
    "        else:\n",
    "            pass\n",
    "    \n",
    "    weights_grad_arrays.reverse()\n",
    "    weights_grad = []\n",
    "    for wg in weights_grad_arrays:\n",
    "        weights_grad += wg\n",
    "    \n",
    "    # print(f\"Mean abs grad value: {np.mean(np.abs(weights_grad))}\\tMax abs grad value: {np.max(np.abs(weights_grad))}\")\n",
    "    # print(f\"Loss = {loss}\")\n",
    "    \n",
    "    # print(f\"{len(weights_grad)=}\")\n",
    "    \n",
    "    return loss, np.array(weights_grad)"
   ],
   "metadata": {
    "collapsed": false,
    "ExecuteTime": {
     "end_time": "2024-03-02T12:26:06.033699Z",
     "start_time": "2024-03-02T12:26:05.960222200Z"
    }
   },
   "execution_count": 235
  },
  {
   "cell_type": "code",
   "outputs": [],
   "source": [
    "def make_network(input_size, hidden_layers_size, output_size, n_layers=3, activation_class=ReLU, dropout: bool = False, dropout_p: float = 0.5, batch_norm: bool = False):\n",
    "    network = []\n",
    "\n",
    "    for layer_idx in range(n_layers):\n",
    "        # Compute sizes of current linear layer\n",
    "        layer_in = input_size if layer_idx == 0 else hidden_layers_size\n",
    "        layer_out = output_size if layer_idx == n_layers - 1 else hidden_layers_size\n",
    "        \n",
    "        # Add linear layer to the network\n",
    "        network.append(Dense(layer_in, layer_out))\n",
    "\n",
    "        # Add activation after each layer except the last one\n",
    "        if layer_idx != n_layers - 1:\n",
    "            network.append(activation_class())\n",
    "            if batch_norm:\n",
    "                network.append(BatchNormalization())\n",
    "            if dropout:\n",
    "                network.append(Dropout(dropout_p))\n",
    "\n",
    "    # Add LogSoftmax layer to the network\n",
    "    network.append(LogSoftmax())\n",
    "\n",
    "    return network"
   ],
   "metadata": {
    "collapsed": false,
    "ExecuteTime": {
     "end_time": "2024-03-02T12:26:07.853300700Z",
     "start_time": "2024-03-02T12:26:07.786780500Z"
    }
   },
   "execution_count": 236
  },
  {
   "cell_type": "code",
   "outputs": [
    {
     "data": {
      "text/plain": "[Dense(64, 32),\n Relu(),\n BatchNormalization(),\n Dense(32, 32),\n Relu(),\n BatchNormalization(),\n Dense(32, 10),\n LogSoftmax()]"
     },
     "execution_count": 243,
     "metadata": {},
     "output_type": "execute_result"
    }
   ],
   "source": [
    "network = make_network(input_size, 32, output_size, layer_c, ReLU, dropout=False, dropout_p=0.1, batch_norm=True)\n",
    "set_inference_mode(network, False)\n",
    "weights = get_weights(network)\n",
    "network"
   ],
   "metadata": {
    "collapsed": false,
    "ExecuteTime": {
     "end_time": "2024-03-02T12:27:37.817011500Z",
     "start_time": "2024-03-02T12:27:37.644625600Z"
    }
   },
   "execution_count": 243
  },
  {
   "cell_type": "code",
   "outputs": [
    {
     "data": {
      "text/plain": "[array([1.]), array([0.])]"
     },
     "execution_count": 244,
     "metadata": {},
     "output_type": "execute_result"
    }
   ],
   "source": [
    "network[2].params"
   ],
   "metadata": {
    "collapsed": false,
    "ExecuteTime": {
     "end_time": "2024-03-02T12:27:38.787992400Z",
     "start_time": "2024-03-02T12:27:38.726277100Z"
    }
   },
   "execution_count": 244
  },
  {
   "cell_type": "code",
   "outputs": [
    {
     "data": {
      "text/plain": "(1000, True, 'Max iterations reached')"
     },
     "execution_count": 245,
     "metadata": {},
     "output_type": "execute_result"
    }
   ],
   "source": [
    "# cb = Callback(network, X_train, y_train, X_test, y_test, print=False)\n",
    "set_inference_mode(network, False)\n",
    "res = minimize(\n",
    "    compute_loss_grad, weights,       # fun and start point\n",
    "    args=[network, X_train, y_train], # args passed to fun\n",
    "    method=SGD,                       # optimization method\n",
    "    jac=True,                         # says that gradient is computed in fun,\n",
    "    options={'disp': True, 'momentum': 0.9, 'batch_size': 100, 'n_iter': 1_000, 'lr': 0.05},\n",
    "    tol=1e-7,\n",
    "    # callback=cb.call\n",
    ")\n",
    "\n",
    "res['nit'], res['success'], res['message']"
   ],
   "metadata": {
    "collapsed": false,
    "ExecuteTime": {
     "end_time": "2024-03-02T12:27:57.848599200Z",
     "start_time": "2024-03-02T12:27:39.528464500Z"
    }
   },
   "execution_count": 245
  },
  {
   "cell_type": "code",
   "outputs": [
    {
     "name": "stdout",
     "output_type": "stream",
     "text": [
      "[Dense(64, 32), Relu(), BatchNormalization(), Dense(32, 32), Relu(), BatchNormalization(), Dense(32, 10), LogSoftmax()]\n",
      "Train NLL: 1.9284110\t\tTest NLL: 2.0499594\n",
      "Train accuracy: 0.286\t\tTest accuracy: 0.222\n"
     ]
    }
   ],
   "source": [
    "set_weights(weights=res[\"x\"], network=network)\n",
    "\n",
    "train_NLL = NLL(forward(network, X_train), y_train)\n",
    "set_inference_mode(network, True)\n",
    "print(network)\n",
    "test_NLL = NLL(forward(network, X_test), y_test)\n",
    "\n",
    "print(f\"Train NLL: {train_NLL:.7f}\\t\\tTest NLL: {test_NLL:.7f}\")\n",
    "\n",
    "\n",
    "train_accuracy = accuracy_score(y_true=y_train, y_pred=predict(network, X_train))\n",
    "test_accuracy = accuracy_score(y_true=y_test, y_pred=predict(network, X_test))\n",
    "\n",
    "print(f\"Train accuracy: {train_accuracy:.3f}\\t\\tTest accuracy: {test_accuracy:.3f}\")"
   ],
   "metadata": {
    "collapsed": false,
    "ExecuteTime": {
     "end_time": "2024-03-02T12:28:00.576561700Z",
     "start_time": "2024-03-02T12:28:00.536407100Z"
    }
   },
   "execution_count": 246
  },
  {
   "cell_type": "code",
   "outputs": [],
   "source": [],
   "metadata": {
    "collapsed": false
   }
  }
 ],
 "metadata": {
  "kernelspec": {
   "display_name": "Python 3 (ipykernel)",
   "language": "python",
   "name": "python3"
  },
  "language_info": {
   "codemirror_mode": {
    "name": "ipython",
    "version": 3
   },
   "file_extension": ".py",
   "mimetype": "text/x-python",
   "name": "python",
   "nbconvert_exporter": "python",
   "pygments_lexer": "ipython3",
   "version": "3.10.9"
  }
 },
 "nbformat": 4,
 "nbformat_minor": 2
}
