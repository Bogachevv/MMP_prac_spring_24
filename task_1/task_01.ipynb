{
 "cells": [
  {
   "cell_type": "markdown",
   "metadata": {},
   "source": [
    "# `Практикум по программированию на языке Python`\n",
    "\n",
    "## `Задание 01. Полносвязная нейронная сеть на numpy`.\n",
    "\n",
    "#### Фамилия, имя: \n",
    "\n",
    "Дата выдачи: <span style=\"color:red\">__20 февраля__</span>.\n",
    "\n",
    "Мягкий дедлайн: <span style=\"color:red\">__6 марта 23:59__</span>.\n",
    "\n",
    "Стоимость: __10 баллов__ (основная часть заданий) + __3 балла__ (дополнительные задания).\n",
    "\n",
    "<span style=\"color:red\">__В ноутбуке все клетки должны выполняться без ошибок при последовательном их выполнении.__</span>\n",
    "\n",
    "#### `Москва, 2024`"
   ]
  },
  {
   "cell_type": "code",
   "execution_count": 15,
   "metadata": {
    "ExecuteTime": {
     "end_time": "2024-02-29T20:27:34.121190100Z",
     "start_time": "2024-02-29T20:27:33.860089100Z"
    }
   },
   "outputs": [],
   "source": [
    "import numpy as np"
   ]
  },
  {
   "cell_type": "markdown",
   "metadata": {
    "heading_collapsed": true
   },
   "source": [
    "## `Теоретическая часть (3 балла)`"
   ]
  },
  {
   "cell_type": "markdown",
   "metadata": {
    "hidden": true
   },
   "source": [
    "В этом блоке вам нужно решить 3 задания."
   ]
  },
  {
   "cell_type": "markdown",
   "metadata": {
    "heading_collapsed": true,
    "hidden": true
   },
   "source": [
    "### `Задание 1. Градиенты для слоя Batch normalization (1.5 балла)`"
   ]
  },
  {
   "cell_type": "markdown",
   "metadata": {
    "hidden": true
   },
   "source": [
    "Рассмотрим слой Batch normalization. Пусть на вход этого слоя был подан батч из $n$ объектов, при этом у всех объектов по 1 признаку. Представим вход BN слоя в виде $X \\in \\mathbb{R}^{n \\times 1}$.\n",
    "\n",
    "Тогда в этом слое производятся следующие вычисления:\n",
    "\n",
    "$$ \\mu = \\frac1n \\sum_{i=1}^{n} X_i $$\n",
    "\n",
    "$$ \\sigma^2 = \\frac1n \\sum_{i=1}^{n} \\left( X_i - \\mu \\right) ^2 $$\n",
    "\n",
    "$$ \\tilde{y_i} = \\frac{X_i - \\mu}{\\sqrt{\\sigma^2 + \\varepsilon}} $$\n",
    "\n",
    "$$ y_i = \\gamma \\tilde{y_i} + \\delta $$\n",
    "\n",
    "Выходом BN слоя является $y_i$, а $\\gamma,\\delta\\in\\mathbb{R}$ — параметры, которые подбираются во время обучения вместе с другими параметрами нейронной сети (наряду, например, с весами линейного слоя).\n",
    "\n",
    "Рассмотрим нейронную сеть, в которой есть BN слой. Предположим, что вычисления в нейронной сети завершаются подсчетом функции потерь $\\mathcal{L}$. Пусть мы выполнили прямой проход по нейронной сети и сейчас делаем обратный проход с помощью метода обратного распространения ошибки. Пусть BN слою пришел градиент функции потерь по выходу BN слоя ($\\nabla_{y} \\mathcal{L}$).\n",
    "\n",
    "В этом задании вам нужно записать вычисление градиента функции потерь по параметрам слоя BN $\\gamma$ и $\\delta$ ($\\nabla_{\\gamma} \\mathcal{L}$, $\\nabla_{\\delta} \\mathcal{L}$) через $\\nabla_{y} \\mathcal{L}$, а также вам нужно записать вычисление градиента функции потерь по входу слоя BN $X$ ($\\nabla_{X} \\mathcal{L}$) через $\\nabla_{y} \\mathcal{L}$.\n",
    "\n",
    "Хочу заметить, в данном задании мы рассматриваем объекты всего с 1 признаком, чтобы упростить выкладки."
   ]
  },
  {
   "cell_type": "markdown",
   "metadata": {
    "hidden": true
   },
   "source": [
    "__Ваше решение:__\n",
    "\n",
    "Перепишем формулу для $y_i$ в векторном виде:\n",
    "$$y_i = \\gamma \\frac{X - \\mu}{\\sqrt{\\sigma^2 + \\varepsilon}} + \\delta $$\n",
    "Считаем, что $\\mathcal{L} = \\mathcal{L}(y(X, \\gamma, \\delta))$, тогда:\n",
    "1. $\\nabla_{\\gamma} {\\mathcal L} = (\\nabla_{y} {\\mathcal L})^T \\cdot \\frac{X - \\mu}{\\sqrt{\\sigma^2 + \\varepsilon}}$\n",
    "2. $\\nabla_{\\delta} {\\mathcal L} = (\\nabla_{y} {\\mathcal L})^T \\cdot (1)_{i=1}^{n} = \\sum_{i=1}^n (\\nabla_{y} {\\mathcal L})_i$\n",
    "3. $\\nabla_{X} {\\mathcal L} = \\nabla_{y} {\\mathcal L} \\cdot \\frac{\\gamma}{\\sqrt{\\sigma^2 + \\varepsilon}}$"
   ]
  },
  {
   "cell_type": "markdown",
   "metadata": {
    "heading_collapsed": true,
    "hidden": true
   },
   "source": [
    "### `Задание 2. Вывод инициализации весов линейного слоя при использовании ReLU в качестве функции активации (1 балл)`"
   ]
  },
  {
   "cell_type": "markdown",
   "metadata": {
    "hidden": true
   },
   "source": [
    "Рассмотрим полносвязную нейронную сеть с функцией активации $g(y)$. Пусть сеть состоит из $L$ слоев и размер входа слоя $l$ равен $n_l\\ \\ (l = \\overline{1, L})$.\n",
    "\n",
    "Обозначим за $x^l \\in \\mathbb{R}^{n_{l}}$ вход слоя $l$, за $y^l \\in \\mathbb{R}^{n_{l+1}}$ — выход слоя $l$, за $W^l \\in \\mathbb{R}^{n_{l+1} \\times n_{l}}$ — веса слоя $l$, за $b^l \\in \\mathbb{R}^{n_{l+1}}$ — вектор сдвига слоя $l$.\n",
    "\n",
    "Тогда\n",
    "$$y^l = W^l x^l + b^l,$$\n",
    "$$x^{l+1} = g(y^l).$$\n",
    "\n",
    "На паре вы выводили хорошую инициализацию для линейного слоя в случае, когда в качестве функции активации $g(y)$ в нейронной сети используется гиперболический тангенс $g(y) = \\tanh(y)$. Сейчас вам нужно сделать подобный вывод для случая, когда в сети в качестве функций активации используется $g(y) = ReLU(y) = \\max(0, y)$.\n",
    "\n",
    "Сделаем следующие предположения насчет того, как распределены веса $W^l$, вектор сдвига $b^l$, входной вектор $x^l$, выходной вектор $y^l$ линейного слоя и градиенты функции потерь $\\frac{\\partial L}{\\partial y^{l}}$ $(l = \\overline{1, L}$):\n",
    "\n",
    "1. Все компоненты в $W^l$ распределены одинаково и независимо друг от друга;\n",
    "2. Все компоненты в $y^l$ распределены одинаково и независимо друг от друга;\n",
    "3. Все компоненты в $x^l$ распределены одинаково и независимо друг от друга;\n",
    "4. Все компоненты в $\\frac{\\partial L}{\\partial y^{l}}$ распределены одинаково и независимо друг от друга;\n",
    "5. Все компоненты в $W^l$ и все компоненты в $x^l$ независимы друг от друга;\n",
    "6. Все компоненты в $W^l$ имеют четную плотность распределения (то есть симметричную относительно нуля: $p_{W^l}(-x) = p_{W^l}(x)$);\n",
    "7. Все компоненты в $W^l$ имеют конечное матожидание;\n",
    "8. Вектор $b^l$ инициализирован нулями.\n",
    "\n",
    "\n",
    "Подсказки:\n",
    "1. Из пунктов 6 и 7 следует, что все компоненты в $W^l$ имеют нулевое среднее ($\\mathbb{E} W^l_{ij} = 0\\ \\ \\forall i = \\overline{1, n_{l+1}}, j = \\overline{1, n_{l}}$) (докажите);\n",
    "2. Из пунктов 6 и 7 следует, что все компоненты в $y^l$ имеют нулевое среднее и четную плотность распределения (докажите)."
   ]
  },
  {
   "cell_type": "markdown",
   "metadata": {
    "hidden": true
   },
   "source": [
    "__Ваше решение:__\n",
    "\n",
    "..."
   ]
  },
  {
   "cell_type": "markdown",
   "metadata": {
    "heading_collapsed": true,
    "hidden": true
   },
   "source": [
    "### `Задание 3. Почему функция активации` $ReLU(y) = \\max(0, y)$ `предпочтительней сигмоиды` $\\sigma(y) = \\frac{1}{1 + \\exp(-y)}$ `в нейронных сетях? (0.5 балла)`"
   ]
  },
  {
   "cell_type": "markdown",
   "metadata": {
    "hidden": true
   },
   "source": [
    "Дайте развернутый ответ на вопрос \"Почему функция активации $ReLU(y) = \\max(0, y)$ предпочтительней сигмоиды $\\sigma(y) = \\frac{1}{1 + \\exp(-y)}$ в нейронных сетях?\""
   ]
  },
  {
   "cell_type": "markdown",
   "metadata": {
    "hidden": true
   },
   "source": [
    "__Ваш ответ:__\n",
    "\n",
    "На практике, зачастую, используются именно глубокие нейронные сети. \n",
    "Из курса лекций известно, что $\\sup_{y \\in \\mathbb{R}} \\left| \\frac{d \\, \\sigma}{d \\, y} (y) \\right| = \\frac{1}{4}$.\n",
    "Рассмотрим глубокую сеть с $d$ слоями: ДОПИСАТЬ\n",
    "Тогда будет наблюдаться затухание градиента"
   ]
  },
  {
   "cell_type": "markdown",
   "metadata": {
    "hidden": true
   },
   "source": [
    "---"
   ]
  },
  {
   "cell_type": "markdown",
   "metadata": {
    "heading_collapsed": true
   },
   "source": [
    "## `Практическая часть (7 баллов)`"
   ]
  },
  {
   "cell_type": "markdown",
   "metadata": {
    "heading_collapsed": true,
    "hidden": true
   },
   "source": [
    "### `Реализация нейронной сети (3 балла)`"
   ]
  },
  {
   "cell_type": "markdown",
   "metadata": {
    "hidden": true
   },
   "source": [
    "В этом задании вы обучите полносвязную нейронную сеть распознавать рукописные цифры (а что же еще, если не их :), [почти] самостоятельно реализовав все составляющие алгоритма обучения и предсказания.\n",
    "\n",
    "Для начала нам понадобится реализовать прямой и обратный проход через слои. Наши слои будут соответствовать следующему интерфейсу (на примере \"тождественного\" слоя):"
   ]
  },
  {
   "cell_type": "code",
   "execution_count": 16,
   "outputs": [],
   "source": [
    "from numpy.typing import NDArray\n",
    "from typing import Tuple, List, Union"
   ],
   "metadata": {
    "collapsed": false,
    "ExecuteTime": {
     "end_time": "2024-02-29T20:27:34.156622500Z",
     "start_time": "2024-02-29T20:27:34.118603600Z"
    }
   }
  },
  {
   "cell_type": "code",
   "execution_count": 17,
   "outputs": [],
   "source": [
    "class Layer:\n",
    "    def __init__(self):\n",
    "        self.params = []\n",
    "        self.input = None\n",
    "        self.inference_mode = True\n",
    "        \n",
    "    def forward(self, input: NDArray) -> NDArray:\n",
    "        raise NotImplementedError(\"forward method not implemented\")\n",
    "    \n",
    "    def backward(self, grad_output: NDArray) -> Tuple[NDArray, NDArray]:\n",
    "        raise NotImplementedError(\"backward method not implemented\")\n",
    "    \n",
    "    def __call__(self, input: NDArray) -> NDArray:\n",
    "        return self.forward(input)"
   ],
   "metadata": {
    "collapsed": false,
    "ExecuteTime": {
     "end_time": "2024-02-29T20:27:34.269546200Z",
     "start_time": "2024-02-29T20:27:34.150189900Z"
    }
   }
  },
  {
   "cell_type": "code",
   "execution_count": 18,
   "metadata": {
    "hidden": true,
    "ExecuteTime": {
     "end_time": "2024-02-29T20:27:34.315726300Z",
     "start_time": "2024-02-29T20:27:34.191030200Z"
    }
   },
   "outputs": [],
   "source": [
    "class IdentityLayer(Layer):\n",
    "    \"\"\"\n",
    "    A building block. Each layer is capable of performing two things:\n",
    "\n",
    "    - Process input to get output:           \n",
    "    output = layer.forward(input)\n",
    "\n",
    "    - Propagate gradients through itself:    \n",
    "    grad_input = layer.backward(input, grad_output)\n",
    "\n",
    "    Some layers also have learnable parameters.\n",
    "\n",
    "    Modified code from cs.hse DL course *\n",
    "    \"\"\"\n",
    "    def __init__(self):\n",
    "        \"\"\"\n",
    "        Here you can initialize layer parameters (if any) \n",
    "        and auxiliary stuff. You should enumerate all parameters\n",
    "        in self.params\n",
    "        \"\"\"\n",
    "        # An identity layer does nothing\n",
    "        self.params = []\n",
    "        pass\n",
    "\n",
    "    def forward(self, input):\n",
    "        \"\"\"\n",
    "        Takes input data of shape [batch, input_units], \n",
    "        returns output data [batch, output_units]\n",
    "        \"\"\"\n",
    "        # An identity layer just returns whatever it gets as input.\n",
    "        self.input = input\n",
    "        return input\n",
    "\n",
    "    def backward(self, grad_output): \n",
    "        \"\"\"\n",
    "        Performs a backpropagation step through the layer, \n",
    "        with respect to the given input.\n",
    "\n",
    "        To compute loss gradients w.r.t input, \n",
    "        you need to apply chain rule (backprop):\n",
    "\n",
    "        d `loss` / d `input` = (d `loss` / d `layer`) * (d `layer` / d `input`)\n",
    "\n",
    "        Luckily, you already receive d `loss` / d `layer` in argument, \n",
    "        so you only need to multiply it by d `layer` / d `input`.\n",
    "\n",
    "        NB: Sometimes d `layer` / d `input` can be a 3D or even 4D tensor.\n",
    "        So it's better to write down the `loss` differential and extract\n",
    "        d `layer` / d `input` from it so that only 2D tensors were present.\n",
    "\n",
    "        The method returns:\n",
    "        * gradient w.r.t input (will be passed to \n",
    "          previous layer's backward method)\n",
    "        * flattened gradient w.r.t. parameters (with .ravel() \n",
    "          applied to each gradient). \n",
    "          If there are no params, return []\n",
    "        \"\"\"\n",
    "        # The gradient of an identity layer is precisely grad_output\n",
    "        input_dim = self.input.shape[1]\n",
    "\n",
    "        d_layer_d_input = np.eye(input_dim)\n",
    "\n",
    "        return np.dot(grad_output, d_layer_d_input), [] # chain rule"
   ]
  },
  {
   "cell_type": "markdown",
   "metadata": {
    "heading_collapsed": true,
    "hidden": true
   },
   "source": [
    "#### `Слой нелинейности ReLU`"
   ]
  },
  {
   "cell_type": "markdown",
   "metadata": {
    "hidden": true
   },
   "source": [
    "Для начала реализуем слой нелинейности $ReLU(y) = \\max(0, y)$. Параметров у слоя нет. Метод `forward` должен вернуть результат поэлементного применения $ReLU$ к входному массиву, метод `backward` — градиент функции потерь по входу слоя. В нуле будем считать производную равной 0. Обратите внимание, что при обратном проходе могут понадобиться величины, посчитанные во время прямого прохода, поэтому их стоит сохранить как атрибут класса."
   ]
  },
  {
   "cell_type": "code",
   "execution_count": 19,
   "metadata": {
    "hidden": true,
    "ExecuteTime": {
     "end_time": "2024-02-29T20:27:34.410487600Z",
     "start_time": "2024-02-29T20:27:34.305545800Z"
    }
   },
   "outputs": [],
   "source": [
    "class ReLU(Layer):\n",
    "    \"\"\"\n",
    "    Modified code from cs.hse DL course *\n",
    "    \"\"\"\n",
    "    def __init__(self):\n",
    "        \"\"\"ReLU layer simply applies elementwise rectified linear unit to all inputs\"\"\"\n",
    "        self.params = [] # ReLU has no parameters\n",
    "        self.input = None\n",
    "\n",
    "    def forward(self, input):\n",
    "        \"\"\"Apply elementwise ReLU to [batch, num_units] matrix\"\"\"\n",
    "        \n",
    "        # max(0, x) = 1/2 (x + |x|)\n",
    "        \n",
    "        self.input = input\n",
    "        \n",
    "        return np.maximum(0, input)\n",
    "        \n",
    "        \n",
    "    def backward(self, grad_output):\n",
    "        \"\"\"Compute gradient of loss w.r.t. ReLU input\n",
    "        grad_output shape: [batch, num_units]\n",
    "        output 1 shape: [batch, num_units]\n",
    "        output 2: []\n",
    "        \"\"\"\n",
    "        \n",
    "        if self.input is None:\n",
    "            raise RuntimeError('Call forward method before calling backward')\n",
    "        \n",
    "        # print(f\"{grad_output.shape=}\")\n",
    "        \n",
    "        return np.where(self.input > 0, grad_output, np.zeros_like(self.input)), []\n",
    "    \n",
    "    def __repr__(self):\n",
    "        return 'Relu()'"
   ]
  },
  {
   "cell_type": "markdown",
   "metadata": {
    "heading_collapsed": true,
    "hidden": true
   },
   "source": [
    "#### `Полносвязный слой`"
   ]
  },
  {
   "cell_type": "markdown",
   "metadata": {
    "hidden": true
   },
   "source": [
    "Далее реализуем полносвязный слой без нелинейности. У слоя два параметра: матрица весов и вектор сдвига.\n",
    "\n",
    "Обратите внимание на второй аргумент: в нем надо возвращать градиент по всем параметрам в одномерном виде. Для этого надо сначала применить `.ravel()` ко всем градиентам, а затем воспользоваться `np.r_`:"
   ]
  },
  {
   "cell_type": "code",
   "execution_count": 20,
   "metadata": {
    "hidden": true,
    "ExecuteTime": {
     "end_time": "2024-02-29T20:27:34.455628100Z",
     "start_time": "2024-02-29T20:27:34.399728Z"
    }
   },
   "outputs": [
    {
     "data": {
      "text/plain": "array([1., 0., 0., 0., 1., 0., 0., 0., 1., 0., 1., 2., 3.])"
     },
     "execution_count": 20,
     "metadata": {},
     "output_type": "execute_result"
    }
   ],
   "source": [
    "# example\n",
    "np.r_[np.eye(3).ravel(), np.arange(4)]"
   ]
  },
  {
   "cell_type": "code",
   "execution_count": 21,
   "metadata": {
    "hidden": true,
    "ExecuteTime": {
     "end_time": "2024-02-29T20:27:34.528478200Z",
     "start_time": "2024-02-29T20:27:34.448111600Z"
    }
   },
   "outputs": [],
   "source": [
    "class Dense(Layer):\n",
    "    \"\"\"\n",
    "    Modified code from cs.hse DL course *\n",
    "    \"\"\"\n",
    "    def __init__(self, input_units, output_units):\n",
    "        \"\"\"\n",
    "        A dense layer is a layer which performs a learned affine transformation:\n",
    "        f(x) = x W + b\n",
    "        \"\"\"\n",
    "        # initialize weights with small random numbers from normal distribution\n",
    "        self.weights = np.random.randn(input_units, output_units) * 0.01\n",
    "        self.biases = np.zeros(output_units)\n",
    "        self.params = [self.weights, self.biases]\n",
    "\n",
    "    def forward(self, input):\n",
    "        \"\"\"\n",
    "        Perform an affine transformation:\n",
    "        f(x) = x W + b\n",
    "        \n",
    "        input shape: [batch, input_units]\n",
    "        output shape: [batch, output units]\n",
    "        \"\"\"\n",
    "        \n",
    "        self.input = input\n",
    "        \n",
    "        return input @ self.weights + self.biases\n",
    "\n",
    "    def backward(self, grad_output):\n",
    "        \"\"\"\n",
    "        compute gradients\n",
    "        grad_output shape: [batch, output_units]\n",
    "        output shapes: [batch, input_units], [num_params]\n",
    "        \n",
    "        hint: use function np.r_\n",
    "        np.r_[np.arange(3), np.arange(3)] = [0, 1, 2, 0, 1, 2]\n",
    "        \"\"\"\n",
    "        \n",
    "        # print(f\"DEBUG: {(self.input[:, :, None] @ grad_output[:, None, :]).shape=}\")\n",
    "        d_loss_d_w = self.input[:, :, None] @ grad_output[:, None, :]\n",
    "        d_loss_d_b = grad_output\n",
    "        d_loss_d_x = grad_output @ self.weights.T\n",
    "        \n",
    "        return d_loss_d_x, [d_loss_d_w, d_loss_d_b]\n",
    "    \n",
    "    def __repr__(self):\n",
    "        return f'Dense({self.weights.shape[0]}, {self.weights.shape[1]})'"
   ]
  },
  {
   "cell_type": "markdown",
   "metadata": {
    "heading_collapsed": true,
    "hidden": true
   },
   "source": [
    "#### `Проверка градиента`"
   ]
  },
  {
   "cell_type": "markdown",
   "metadata": {
    "hidden": true
   },
   "source": [
    "Проверим правильность реализации с помощью функции численной проверки градиента. Функция `eval_numerical_gradient` принимает на вход callable объект `f` (функцию от одного аргумента-матрицы) и аргумент `x` и вычисляет приближенный градиент функции `f` в точке `x`."
   ]
  },
  {
   "cell_type": "code",
   "execution_count": 22,
   "metadata": {
    "hidden": true,
    "ExecuteTime": {
     "end_time": "2024-02-29T20:27:34.565632300Z",
     "start_time": "2024-02-29T20:27:34.517629400Z"
    }
   },
   "outputs": [],
   "source": [
    "def eval_numerical_gradient(f, x, verbose=False, h=0.00001):\n",
    "    \"\"\"\n",
    "    Evaluates gradient df/dx via finite differences:\n",
    "    df/dx ~ (f(x+h) - f(x-h)) / 2h\n",
    "    Adopted from https://github.com/ddtm/dl-course/\n",
    "    \"\"\"\n",
    "    fx = f(x) # evaluate function value at original point\n",
    "    grad = np.zeros_like(x)\n",
    "    # iterate over all indexes in x\n",
    "    it = np.nditer(x, flags=['multi_index'], op_flags=['readwrite'])\n",
    "    while not it.finished:\n",
    "\n",
    "        # evaluate function at x+h\n",
    "        ix = it.multi_index\n",
    "        oldval = x[ix]\n",
    "        x[ix] = oldval + h # increment by h\n",
    "        fxph = f(x) # evalute f(x + h)\n",
    "        x[ix] = oldval - h\n",
    "        fxmh = f(x) # evaluate f(x - h)\n",
    "        x[ix] = oldval # restore\n",
    "\n",
    "        # compute the partial derivative with centered formula\n",
    "        grad[ix] = (fxph - fxmh) / (2 * h) # the slope\n",
    "        if verbose:\n",
    "            print (ix, grad[ix])\n",
    "        it.iternext() # step to next dimension\n",
    "\n",
    "    return grad"
   ]
  },
  {
   "cell_type": "markdown",
   "metadata": {
    "hidden": true
   },
   "source": [
    "Вычислите аналитический и численный градиенты по входу слоя ReLU от функции\n",
    "$$ f(y) = \\sum_i y_i, \\quad y = ReLU(x) $$\n",
    "\n",
    "Выпишите аналитический градиент в этой ячейке:\n",
    "Пусть $x = (x_1, \\ldots, x_n)$\n",
    "\n",
    "$$ f(x) = \\sum_i \\left( ReLU(x) \\right)_i = \\sum_i max(0, x_i)$$\n",
    "$$f: \\mathbb{R} ^ {n \\times m} \\to \\mathbb{R}^{m}$$\n",
    "\n",
    "$$\\nabla_{x} f = \\chi (x), \\text{где } \\chi (s) = \\begin{cases} 1 \\; & s > 0 \\\\ 0 \\; & s \\le 0 \\end{cases}$$"
   ]
  },
  {
   "cell_type": "markdown",
   "metadata": {
    "hidden": true
   },
   "source": [
    "Следующая ячейка после заполнения должна не выдавать ошибку :)"
   ]
  },
  {
   "cell_type": "code",
   "execution_count": 23,
   "metadata": {
    "hidden": true,
    "ExecuteTime": {
     "end_time": "2024-02-29T20:27:34.639705900Z",
     "start_time": "2024-02-29T20:27:34.558478100Z"
    }
   },
   "outputs": [
    {
     "name": "stdout",
     "output_type": "stream",
     "text": [
      "grads.shape=(10, 12)\tnumeric_grads.shape=(10, 12)\n"
     ]
    }
   ],
   "source": [
    "relu = ReLU()\n",
    "points = np.linspace(-1, 1, 10*12).reshape([10, 12])\n",
    "\n",
    "# print(relu.forward(points).shape)\n",
    "\n",
    "### your code here\n",
    "\n",
    "def f(x):\n",
    "    out = relu.forward(x)\n",
    "    return np.sum(out, axis=1)\n",
    "\n",
    "f(points)\n",
    "grads = relu.backward(np.ones((10, 12)))[0]\n",
    "grads\n",
    "# numeric_grads = eval_numerical_gradient(f, points, verbose=True)\n",
    "numeric_grads = np.zeros_like(points)\n",
    "for i in range(points.shape[0]):\n",
    "    numeric_grads[i, :] = eval_numerical_gradient(f, points[i, :].reshape((1, -1)), verbose=False)\n",
    "\n",
    "print(f\"{grads.shape=}\\t{numeric_grads.shape=}\")\n",
    "\n",
    "assert np.allclose(grads, numeric_grads, rtol=1e-3, atol=0)"
   ]
  },
  {
   "cell_type": "markdown",
   "metadata": {
    "hidden": true
   },
   "source": [
    "Вычислите аналитический и численный градиенты по входу полносвязного слоя от функции\n",
    "$$ f(y) = \\sum_i y_i, \\quad y = W x + b $$\n",
    "\n",
    "Выпишите аналитический градиент в этой ячейке (советуем выписать градиент через дифференциал функции $f$):\n",
    "\n",
    "..."
   ]
  },
  {
   "cell_type": "markdown",
   "metadata": {
    "hidden": true
   },
   "source": [
    "Следующая ячейка после заполнения должна не выдавать ошибку :)"
   ]
  },
  {
   "cell_type": "code",
   "execution_count": 24,
   "metadata": {
    "hidden": true,
    "ExecuteTime": {
     "end_time": "2024-02-29T20:27:34.681838400Z",
     "start_time": "2024-02-29T20:27:34.635633600Z"
    }
   },
   "outputs": [
    {
     "name": "stdout",
     "output_type": "stream",
     "text": [
      "grads.shape=(10, 12)\tnumeric_grads.shape=(10, 12)\n"
     ]
    }
   ],
   "source": [
    "linear = Dense(12, 32)\n",
    "points = np.linspace(-1, 1, 10*12).reshape([10, 12])\n",
    "\n",
    "def foo(x):\n",
    "    out = linear.forward(x)\n",
    "    return np.sum(out, axis=1)\n",
    "\n",
    "foo(points)\n",
    "grads = linear.backward(np.ones((10, 32)))[0]\n",
    "\n",
    "numeric_grads = np.zeros_like(points)\n",
    "for i in range(10):\n",
    "    numeric_grads[i, :] = eval_numerical_gradient(foo, points[i, :].reshape((1, -1)), verbose=False)\n",
    "\n",
    "print(f\"{grads.shape=}\\t{numeric_grads.shape=}\")\n",
    "\n",
    "# grads - numeric_grads\n",
    "\n",
    "assert np.allclose(grads, numeric_grads, rtol=1e-3, atol=0), np.max(np.abs(grads - numeric_grads))"
   ]
  },
  {
   "cell_type": "markdown",
   "metadata": {
    "heading_collapsed": true,
    "hidden": true
   },
   "source": [
    "#### `Реализация softmax-слоя и функции потерь`"
   ]
  },
  {
   "cell_type": "markdown",
   "metadata": {
    "hidden": true
   },
   "source": [
    "Для решения задачи многоклассовой классификации обычно используют $softmax$ в качестве нелинейности на последнем слое, чтобы получить вероятности классов для каждого объекта:\n",
    "$$\\hat y = softmax(x)  = \\left \\{\\frac {\\exp(x^i)}{\\sum_{j=1}^K \\exp(x^j)} \\right \\}_{i=1}^K, \\quad K - \\text{число классов.}$$\n",
    "\n",
    "Здесь за $x^i$ мы обозначаем $i$-ый признак объекта $x$.\n",
    "\n",
    "В качестве функции потерь выберем отрицательный логарифм правдоподобия (по английски: negative log likelihood или NLL)\n",
    "$$L(y, \\hat y) = -\\sum_{i=1}^K y^i \\log \\hat y^i,$$\n",
    "где $y^i = 1$, если объект принадлежит $i$-му классу, и $y^i = 0$ иначе.\n",
    "\n",
    "NLL совпадает с выражением для [кросс-энтропии](https://ru.wikipedia.org/wiki/Перекрёстная_энтропия) (в качестве первого распределения берем вырожденное распределение $y$, в качестве второго — предсказанное распределение $\\hat y$). Очевидно, что эту функцию потерь также можно переписать через индексацию, если через $y$ обозначить класс данного объекта:\n",
    "$$L(y, \\hat y) = - \\log \\hat y_{y}$$\n",
    "\n",
    "В таком виде ее удобно реализовывать."
   ]
  },
  {
   "cell_type": "markdown",
   "metadata": {
    "ExecuteTime": {
     "end_time": "2021-03-03T13:13:02.970075Z",
     "start_time": "2021-03-03T13:13:02.961134Z"
    },
    "hidden": true
   },
   "source": [
    "Для обучения нейронной сети будем оптимизировать эту функцию потерь по параметрам нейронной сети:\n",
    "\n",
    "$$ \\frac1N \\sum_{i=1}^N L(y_i, \\hat y_i) = \\frac1N \\sum_{i=1}^N L(y_i, \\text{NN}(x_i)) \\rightarrow \\min_{w}\\,,$$\n",
    "где за $x_i$ и $y_i$ мы обозначили признаки и таргет $i$-ого объекта обучающей выборки, за $\\text{NN}$ мы обозначили нейронную сеть, которая по признакам объекта $x_i$ выдает распределение вероятностей $\\hat y_i$, за $w$ мы обозначили все веса нейронной сети, а $N$ — это число объектов в обучающей выборке."
   ]
  },
  {
   "cell_type": "markdown",
   "metadata": {
    "hidden": true
   },
   "source": [
    "Реализуйте слой `LogSoftmax` (у этого слоя нет параметров). Метод `forward` должен вычислять логарифм от $softmax$, а метод `backward` — пропускать градиенты. В общем случае в промежуточных вычислениях `backward` получится трехмерный тензор, однако для нашей конкретной функции потерь все вычисления можно реализовать в матричном виде.  Поэтому мы будем предполагать, что аргумент `grad_output` — это матрица, у которой в каждой строке только одно ненулевое значение (не обязательно единица).\n",
    "\n",
    "**Пожелание.** Постарайтесь максимально упростить формулу градиентов, чтобы получился лаконичный и стабильный код. Большие и страшные реализации часто оказываются нестабильными."
   ]
  },
  {
   "cell_type": "code",
   "execution_count": 25,
   "metadata": {
    "hidden": true,
    "ExecuteTime": {
     "end_time": "2024-02-29T20:27:34.788916900Z",
     "start_time": "2024-02-29T20:27:34.668322Z"
    }
   },
   "outputs": [],
   "source": [
    "from scipy.special import logsumexp\n",
    "# use this function instead of np.log(np.sum(np.exp(...))) because it is more stable"
   ]
  },
  {
   "cell_type": "code",
   "execution_count": 26,
   "metadata": {
    "hidden": true,
    "ExecuteTime": {
     "end_time": "2024-02-29T20:27:34.813917Z",
     "start_time": "2024-02-29T20:27:34.760839200Z"
    }
   },
   "outputs": [],
   "source": [
    "class LogSoftmax:\n",
    "    def __init__(self):\n",
    "        self.params = []\n",
    "        self.input = None\n",
    "        self.output = None\n",
    "\n",
    "    def forward(self, input):\n",
    "        \"\"\"\n",
    "        Applies softmax to each row and then applies component-wise log\n",
    "        Input shape: [batch, num_units]\n",
    "        Output shape: [batch, num_units]\n",
    "        \"\"\"\n",
    "        self.input = input\n",
    "        self.output = input - logsumexp(input, axis=-1, keepdims=True)\n",
    "        \n",
    "        return self.output\n",
    "        \n",
    "    def backward(self, grad_output):\n",
    "        \"\"\"\n",
    "        Propagartes gradients.\n",
    "        Assumes that each row of grad_output contains only 1 \n",
    "        non-zero element\n",
    "        Input shape: [batch, num_units]\n",
    "        Output shape: [batch, num_units]\n",
    "        Do not forget to return [] as second value (grad w.r.t. params)\n",
    "        \"\"\"\n",
    "        \n",
    "        if self.input is None:\n",
    "            raise RuntimeError('Call forward method before calling backward')\n",
    "        \n",
    "        grad_output_sum = np.sum(grad_output, axis=-1, keepdims=True)\n",
    "        \n",
    "        # exp_arr = np.exp(self.input)\n",
    "        # \n",
    "        # exp_sum = np.sum(exp_arr, axis=-1, keepdims=True)\n",
    "        # \n",
    "        # d_loss_d_x_1 = grad_output - grad_output_sum * (exp_arr / exp_sum)\n",
    "        \n",
    "        # frac = np.sum(np.exp(self.input[:, :, None] - self.input[:, None, :]), axis=1)\n",
    "        # \n",
    "        # d_loss_d_x_2 = grad_output - grad_output_sum / frac\n",
    "        \n",
    "        d_loss_d_x_2 = grad_output - grad_output_sum * np.exp(self.output)\n",
    "        \n",
    "        # print(f\"Derivative deviation: {np.max(np.abs(d_loss_d_x_1 - d_loss_d_x_2))}\")\n",
    "        \n",
    "        return d_loss_d_x_2, []\n",
    "        \n",
    "    \n",
    "    def __repr__(self):\n",
    "        return 'LogSoftmax()'"
   ]
  },
  {
   "cell_type": "markdown",
   "metadata": {
    "hidden": true
   },
   "source": [
    "Реализуйте функцию потерь и градиенты функции потерь. Во время вычисления NLL усредняйте (а не суммируйте) значения функции потерь по батчу. Обычно так делают для того, чтобы при двух запусках обучения нейронной сети с разными размерами батча получаемые значения функции потерь у этих сетей были сравнимы."
   ]
  },
  {
   "cell_type": "code",
   "execution_count": 27,
   "metadata": {
    "hidden": true,
    "ExecuteTime": {
     "end_time": "2024-02-29T20:27:34.899728900Z",
     "start_time": "2024-02-29T20:27:34.814917600Z"
    }
   },
   "outputs": [],
   "source": [
    "def NLL(activations, target):\n",
    "    \"\"\"\n",
    "    Returns negative log-likelihood of target under model represented by\n",
    "    activations (log probabilities of classes, it's just output of LogSoftmax layer).\n",
    "    `activations` has shape [batch, num_classes], `target` has shape [batch]\n",
    "    Output shape: 1 (scalar).\n",
    "    \"\"\"\n",
    "    \n",
    "    return -np.mean(activations[np.arange(len(target)), target])\n",
    "\n",
    "\n",
    "def grad_NLL(activations, target):\n",
    "    \"\"\"\n",
    "    Returns gradient of negative log-likelihood w.r.t. activations.\n",
    "    each arg has shape [batch, num_classes]\n",
    "    output shape: [batch, num-classes]\n",
    "    \"\"\"\n",
    "    \n",
    "    ohe_target = np.zeros_like(activations)\n",
    "    ohe_target[np.arange(len(target)), target] = 1\n",
    "    \n",
    "    # print(f\"Max delta {np.max(np.exp(activations))}\")\n",
    "    \n",
    "    return -ohe_target / len(target)"
   ]
  },
  {
   "cell_type": "markdown",
   "metadata": {
    "hidden": true
   },
   "source": [
    "Наконец, выполните проверку `LogSoftmax`-слоя, используя функцию потерь и ее градиент:"
   ]
  },
  {
   "cell_type": "code",
   "execution_count": 28,
   "metadata": {
    "hidden": true,
    "ExecuteTime": {
     "end_time": "2024-02-29T20:27:38.568770800Z",
     "start_time": "2024-02-29T20:27:38.490900100Z"
    }
   },
   "outputs": [
    {
     "name": "stdout",
     "output_type": "stream",
     "text": [
      "Max deviation: 3.1168190424424314e-11\n"
     ]
    }
   ],
   "source": [
    "n = 50\n",
    "d = 10\n",
    "lsm = LogSoftmax()\n",
    "np.random.seed(42)\n",
    "target = np.random.choice(d, size=n)\n",
    "points = np.random.uniform(-1, 1, n*d).reshape([n, d])\n",
    "\n",
    "def foo(x):\n",
    "    return NLL(lsm.forward(x), target)\n",
    "\n",
    "pred = lsm.forward(points)\n",
    "NLL(pred, target)\n",
    "grads, _ = lsm.backward(grad_NLL(pred, target))\n",
    "\n",
    "numeric_grads = eval_numerical_gradient(foo, points, verbose=False)\n",
    "\n",
    "print(f\"Max deviation: {np.max(np.abs(grads - numeric_grads))}\")\n",
    "\n",
    "assert np.allclose(grads, numeric_grads, rtol=1e-3, atol=0)"
   ]
  },
  {
   "cell_type": "markdown",
   "source": [
    "3.116819064126475e-11"
   ],
   "metadata": {
    "collapsed": false
   }
  },
  {
   "cell_type": "markdown",
   "metadata": {
    "heading_collapsed": true,
    "hidden": true
   },
   "source": [
    "### `Загрузка данных`"
   ]
  },
  {
   "cell_type": "markdown",
   "metadata": {
    "hidden": true
   },
   "source": [
    "Мы реализаовали все архитектурные составляющие нашей нейронной сети. Осталось загрузить данные и обучить модель. Мы будем работать с датасетом `digits`, каждый объект в котором — это 8x8 изображение рукописной цифры."
   ]
  },
  {
   "cell_type": "code",
   "execution_count": 15,
   "metadata": {
    "hidden": true,
    "ExecuteTime": {
     "end_time": "2024-02-29T18:35:24.349316400Z",
     "start_time": "2024-02-29T18:35:23.873310300Z"
    }
   },
   "outputs": [],
   "source": [
    "import matplotlib.pyplot as plt\n",
    "%matplotlib inline"
   ]
  },
  {
   "cell_type": "code",
   "execution_count": 16,
   "metadata": {
    "hidden": true,
    "ExecuteTime": {
     "end_time": "2024-02-29T18:35:25.031440Z",
     "start_time": "2024-02-29T18:35:24.274317Z"
    }
   },
   "outputs": [],
   "source": [
    "from sklearn.datasets import load_digits"
   ]
  },
  {
   "cell_type": "code",
   "execution_count": 17,
   "metadata": {
    "hidden": true,
    "ExecuteTime": {
     "end_time": "2024-02-29T18:35:25.051439300Z",
     "start_time": "2024-02-29T18:35:24.918082200Z"
    }
   },
   "outputs": [],
   "source": [
    "X, y = load_digits(return_X_y=True)"
   ]
  },
  {
   "cell_type": "code",
   "execution_count": 18,
   "metadata": {
    "hidden": true,
    "ExecuteTime": {
     "end_time": "2024-02-29T18:35:25.072441Z",
     "start_time": "2024-02-29T18:35:24.944419300Z"
    }
   },
   "outputs": [
    {
     "data": {
      "text/plain": "((1797, 64), (1797,))"
     },
     "execution_count": 18,
     "metadata": {},
     "output_type": "execute_result"
    }
   ],
   "source": [
    "X.shape, y.shape"
   ]
  },
  {
   "cell_type": "markdown",
   "metadata": {
    "hidden": true
   },
   "source": [
    "Разделим данные на обучение и контроль:"
   ]
  },
  {
   "cell_type": "code",
   "execution_count": 19,
   "metadata": {
    "hidden": true,
    "ExecuteTime": {
     "end_time": "2024-02-29T18:35:25.347438Z",
     "start_time": "2024-02-29T18:35:24.948438400Z"
    }
   },
   "outputs": [],
   "source": [
    "from sklearn.model_selection import train_test_split"
   ]
  },
  {
   "cell_type": "code",
   "execution_count": 20,
   "metadata": {
    "hidden": true,
    "ExecuteTime": {
     "end_time": "2024-02-29T18:35:25.365437900Z",
     "start_time": "2024-02-29T18:35:25.139412200Z"
    }
   },
   "outputs": [],
   "source": [
    "X_train, X_test, y_train, y_test = train_test_split(X, y, random_state=0)"
   ]
  },
  {
   "cell_type": "code",
   "execution_count": 21,
   "metadata": {
    "hidden": true,
    "ExecuteTime": {
     "end_time": "2024-02-29T18:35:25.373438100Z",
     "start_time": "2024-02-29T18:35:25.143168400Z"
    }
   },
   "outputs": [
    {
     "data": {
      "text/plain": "((1347, 64), (450, 64))"
     },
     "execution_count": 21,
     "metadata": {},
     "output_type": "execute_result"
    }
   ],
   "source": [
    "X_train.shape, X_test.shape"
   ]
  },
  {
   "cell_type": "code",
   "outputs": [
    {
     "data": {
      "text/plain": "<Figure size 1000x1000 with 9 Axes>",
      "image/png": "[encoded data removed]"
     },
     "metadata": {},
     "output_type": "display_data"
    }
   ],
   "source": [
    "_, ax = plt.subplots(nrows=3, ncols=3, figsize=(10, 10))\n",
    "\n",
    "for i in range(9):\n",
    "    ax[divmod(i, 3)].imshow(X[i, :].reshape((8, 8)), cmap=plt.get_cmap(\"gray\"))\n",
    "    ax[divmod(i, 3)].set_title(y[i])"
   ],
   "metadata": {
    "collapsed": false,
    "ExecuteTime": {
     "end_time": "2024-02-29T18:35:25.979558Z",
     "start_time": "2024-02-29T18:35:25.146440300Z"
    }
   },
   "execution_count": 22
  },
  {
   "cell_type": "markdown",
   "metadata": {
    "heading_collapsed": true,
    "hidden": true
   },
   "source": [
    "### `Сборка и обучение нейронной сети (0.8 балла)`"
   ]
  },
  {
   "cell_type": "markdown",
   "metadata": {
    "hidden": true
   },
   "source": [
    "В нашей реализации мы представляем нейронную сеть в виде списка ее слоев. Например, следующая функция конструирует нейронную сеть заданной ширины (то есть с заданным размером скрытых слоев) и глубины (то есть с заданным количеством слоев) с заданным размером входа и выхода, а также с заданной функцией активации между линейными слоями."
   ]
  },
  {
   "cell_type": "code",
   "execution_count": 23,
   "metadata": {
    "hidden": true,
    "ExecuteTime": {
     "end_time": "2024-02-29T18:35:25.994237700Z",
     "start_time": "2024-02-29T18:35:25.961029500Z"
    }
   },
   "outputs": [],
   "source": [
    "def make_network(input_size, hidden_layers_size, output_size, n_layers=3, activation_class=ReLU):\n",
    "    network = []\n",
    "\n",
    "    for layer_idx in range(n_layers):\n",
    "        # Compute sizes of current linear layer\n",
    "        layer_in = input_size if layer_idx == 0 else hidden_layers_size\n",
    "        layer_out = output_size if layer_idx == n_layers - 1 else hidden_layers_size\n",
    "        \n",
    "        # Add linear layer to the network\n",
    "        network.append(Dense(layer_in, layer_out))\n",
    "\n",
    "        # Add activation after each layer except the last one\n",
    "        if layer_idx != n_layers - 1:\n",
    "            network.append(activation_class())\n",
    "\n",
    "    # Add LogSoftmax layer to the network\n",
    "    network.append(LogSoftmax())\n",
    "\n",
    "    return network"
   ]
  },
  {
   "cell_type": "code",
   "execution_count": 24,
   "metadata": {
    "hidden": true,
    "ExecuteTime": {
     "end_time": "2024-02-29T18:35:26.418879Z",
     "start_time": "2024-02-29T18:35:25.965221700Z"
    }
   },
   "outputs": [
    {
     "data": {
      "text/plain": "[Dense(64, 32), Relu(), Dense(32, 32), Relu(), Dense(32, 10), LogSoftmax()]"
     },
     "execution_count": 24,
     "metadata": {},
     "output_type": "execute_result"
    }
   ],
   "source": [
    "input_size = X_train.shape[1]\n",
    "hidden_layers_size = 32\n",
    "output_size = 10\n",
    "\n",
    "network = make_network(input_size, hidden_layers_size, output_size, 3, ReLU)\n",
    "network"
   ]
  },
  {
   "cell_type": "markdown",
   "metadata": {
    "hidden": true
   },
   "source": [
    "Реализуйте функцию, которая выполнет прямой проход по нейронной сети:"
   ]
  },
  {
   "cell_type": "code",
   "execution_count": 25,
   "metadata": {
    "hidden": true,
    "ExecuteTime": {
     "end_time": "2024-02-29T18:35:26.469879200Z",
     "start_time": "2024-02-29T18:35:25.969365100Z"
    }
   },
   "outputs": [],
   "source": [
    "def forward(network: List[Layer], X):\n",
    "    \"\"\"\n",
    "    Perform forward pass through the network.\n",
    "    \n",
    "    network: list of layers\n",
    "    X: raw data\n",
    "    X shape: [batch, features_num]\n",
    "\n",
    "    output: \n",
    "    output shape: [batch, out_features_num]\n",
    "    \"\"\"\n",
    "    \n",
    "    for layer in network:\n",
    "        X = layer.forward(X)\n",
    "    \n",
    "    return X"
   ]
  },
  {
   "cell_type": "markdown",
   "metadata": {
    "hidden": true
   },
   "source": [
    "Для проверки, хорошо ли сеть обучилась, нам понадобится вычислять долю правильных ответов (accuracy) на данной выборке. Для этого реализуйте функцию, которая делает предсказания на каждом объекте (логично в качестве предсказания на очередном объекте выдавать тот класс, для которого предсказанный логарифм вероятности максимален):"
   ]
  },
  {
   "cell_type": "code",
   "execution_count": 26,
   "metadata": {
    "hidden": true,
    "ExecuteTime": {
     "end_time": "2024-02-29T18:35:26.534878700Z",
     "start_time": "2024-02-29T18:35:25.972563800Z"
    }
   },
   "outputs": [],
   "source": [
    "def predict(network: List[Layer], X):\n",
    "    \"\"\"\n",
    "    Returns predictions for each object in X.\n",
    "    \n",
    "    network: list of layers\n",
    "    X: raw data\n",
    "    X shape: [batch, features_num]\n",
    "\n",
    "    output: array of classes, each from 0 to 9\n",
    "    output shape: [batch]\n",
    "    \"\"\"\n",
    "    \n",
    "    pred = forward(network, X)\n",
    "    \n",
    "    return np.argmax(pred, axis=1, keepdims=True)"
   ]
  },
  {
   "cell_type": "markdown",
   "metadata": {
    "hidden": true
   },
   "source": [
    "Мы будем обучать параметры нейросети с помощью готовой функции оптимизации из модуля `scipy`:"
   ]
  },
  {
   "cell_type": "code",
   "execution_count": 27,
   "metadata": {
    "hidden": true,
    "ExecuteTime": {
     "end_time": "2024-02-29T18:35:26.579888200Z",
     "start_time": "2024-02-29T18:35:25.977010200Z"
    }
   },
   "outputs": [],
   "source": [
    "from scipy.optimize import minimize"
   ]
  },
  {
   "cell_type": "code",
   "execution_count": 28,
   "metadata": {
    "hidden": true,
    "scrolled": true,
    "ExecuteTime": {
     "end_time": "2024-02-29T18:35:26.614884800Z",
     "start_time": "2024-02-29T18:35:25.979558Z"
    }
   },
   "outputs": [
    {
     "name": "stdout",
     "output_type": "stream",
     "text": [
      "Help on function minimize in module scipy.optimize._minimize:\n",
      "\n",
      "minimize(fun, x0, args=(), method=None, jac=None, hess=None, hessp=None, bounds=None, constraints=(), tol=None, callback=None, options=None)\n",
      "    Minimization of scalar function of one or more variables.\n",
      "    \n",
      "    Parameters\n",
      "    ----------\n",
      "    fun : callable\n",
      "        The objective function to be minimized.\n",
      "    \n",
      "            ``fun(x, *args) -> float``\n",
      "    \n",
      "        where ``x`` is a 1-D array with shape (n,) and ``args``\n",
      "        is a tuple of the fixed parameters needed to completely\n",
      "        specify the function.\n",
      "    x0 : ndarray, shape (n,)\n",
      "        Initial guess. Array of real elements of size (n,),\n",
      "        where ``n`` is the number of independent variables.\n",
      "    args : tuple, optional\n",
      "        Extra arguments passed to the objective function and its\n",
      "        derivatives (`fun`, `jac` and `hess` functions).\n",
      "    method : str or callable, optional\n",
      "        Type of solver.  Should be one of\n",
      "    \n",
      "            - 'Nelder-Mead' :ref:`(see here) <optimize.minimize-neldermead>`\n",
      "            - 'Powell'      :ref:`(see here) <optimize.minimize-powell>`\n",
      "            - 'CG'          :ref:`(see here) <optimize.minimize-cg>`\n",
      "            - 'BFGS'        :ref:`(see here) <optimize.minimize-bfgs>`\n",
      "            - 'Newton-CG'   :ref:`(see here) <optimize.minimize-newtoncg>`\n",
      "            - 'L-BFGS-B'    :ref:`(see here) <optimize.minimize-lbfgsb>`\n",
      "            - 'TNC'         :ref:`(see here) <optimize.minimize-tnc>`\n",
      "            - 'COBYLA'      :ref:`(see here) <optimize.minimize-cobyla>`\n",
      "            - 'SLSQP'       :ref:`(see here) <optimize.minimize-slsqp>`\n",
      "            - 'trust-constr':ref:`(see here) <optimize.minimize-trustconstr>`\n",
      "            - 'dogleg'      :ref:`(see here) <optimize.minimize-dogleg>`\n",
      "            - 'trust-ncg'   :ref:`(see here) <optimize.minimize-trustncg>`\n",
      "            - 'trust-exact' :ref:`(see here) <optimize.minimize-trustexact>`\n",
      "            - 'trust-krylov' :ref:`(see here) <optimize.minimize-trustkrylov>`\n",
      "            - custom - a callable object, see below for description.\n",
      "    \n",
      "        If not given, chosen to be one of ``BFGS``, ``L-BFGS-B``, ``SLSQP``,\n",
      "        depending on whether or not the problem has constraints or bounds.\n",
      "    jac : {callable,  '2-point', '3-point', 'cs', bool}, optional\n",
      "        Method for computing the gradient vector. Only for CG, BFGS,\n",
      "        Newton-CG, L-BFGS-B, TNC, SLSQP, dogleg, trust-ncg, trust-krylov,\n",
      "        trust-exact and trust-constr.\n",
      "        If it is a callable, it should be a function that returns the gradient\n",
      "        vector:\n",
      "    \n",
      "            ``jac(x, *args) -> array_like, shape (n,)``\n",
      "    \n",
      "        where ``x`` is an array with shape (n,) and ``args`` is a tuple with\n",
      "        the fixed parameters. If `jac` is a Boolean and is True, `fun` is\n",
      "        assumed to return a tuple ``(f, g)`` containing the objective\n",
      "        function and the gradient.\n",
      "        Methods 'Newton-CG', 'trust-ncg', 'dogleg', 'trust-exact', and\n",
      "        'trust-krylov' require that either a callable be supplied, or that\n",
      "        `fun` return the objective and gradient.\n",
      "        If None or False, the gradient will be estimated using 2-point finite\n",
      "        difference estimation with an absolute step size.\n",
      "        Alternatively, the keywords  {'2-point', '3-point', 'cs'} can be used\n",
      "        to select a finite difference scheme for numerical estimation of the\n",
      "        gradient with a relative step size. These finite difference schemes\n",
      "        obey any specified `bounds`.\n",
      "    hess : {callable, '2-point', '3-point', 'cs', HessianUpdateStrategy}, optional\n",
      "        Method for computing the Hessian matrix. Only for Newton-CG, dogleg,\n",
      "        trust-ncg, trust-krylov, trust-exact and trust-constr.\n",
      "        If it is callable, it should return the Hessian matrix:\n",
      "    \n",
      "            ``hess(x, *args) -> {LinearOperator, spmatrix, array}, (n, n)``\n",
      "    \n",
      "        where ``x`` is a (n,) ndarray and ``args`` is a tuple with the fixed\n",
      "        parameters.\n",
      "        The keywords {'2-point', '3-point', 'cs'} can also be used to select\n",
      "        a finite difference scheme for numerical estimation of the hessian.\n",
      "        Alternatively, objects implementing the `HessianUpdateStrategy`\n",
      "        interface can be used to approximate the Hessian. Available\n",
      "        quasi-Newton methods implementing this interface are:\n",
      "    \n",
      "            - `BFGS`;\n",
      "            - `SR1`.\n",
      "    \n",
      "        Not all of the options are available for each of the methods; for\n",
      "        availability refer to the notes.\n",
      "    hessp : callable, optional\n",
      "        Hessian of objective function times an arbitrary vector p. Only for\n",
      "        Newton-CG, trust-ncg, trust-krylov, trust-constr.\n",
      "        Only one of `hessp` or `hess` needs to be given. If `hess` is\n",
      "        provided, then `hessp` will be ignored. `hessp` must compute the\n",
      "        Hessian times an arbitrary vector:\n",
      "    \n",
      "            ``hessp(x, p, *args) ->  ndarray shape (n,)``\n",
      "    \n",
      "        where ``x`` is a (n,) ndarray, ``p`` is an arbitrary vector with\n",
      "        dimension (n,) and ``args`` is a tuple with the fixed\n",
      "        parameters.\n",
      "    bounds : sequence or `Bounds`, optional\n",
      "        Bounds on variables for Nelder-Mead, L-BFGS-B, TNC, SLSQP, Powell, and\n",
      "        trust-constr methods. There are two ways to specify the bounds:\n",
      "    \n",
      "            1. Instance of `Bounds` class.\n",
      "            2. Sequence of ``(min, max)`` pairs for each element in `x`. None\n",
      "               is used to specify no bound.\n",
      "    \n",
      "    constraints : {Constraint, dict} or List of {Constraint, dict}, optional\n",
      "        Constraints definition. Only for COBYLA, SLSQP and trust-constr.\n",
      "    \n",
      "        Constraints for 'trust-constr' are defined as a single object or a\n",
      "        list of objects specifying constraints to the optimization problem.\n",
      "        Available constraints are:\n",
      "    \n",
      "            - `LinearConstraint`\n",
      "            - `NonlinearConstraint`\n",
      "    \n",
      "        Constraints for COBYLA, SLSQP are defined as a list of dictionaries.\n",
      "        Each dictionary with fields:\n",
      "    \n",
      "            type : str\n",
      "                Constraint type: 'eq' for equality, 'ineq' for inequality.\n",
      "            fun : callable\n",
      "                The function defining the constraint.\n",
      "            jac : callable, optional\n",
      "                The Jacobian of `fun` (only for SLSQP).\n",
      "            args : sequence, optional\n",
      "                Extra arguments to be passed to the function and Jacobian.\n",
      "    \n",
      "        Equality constraint means that the constraint function result is to\n",
      "        be zero whereas inequality means that it is to be non-negative.\n",
      "        Note that COBYLA only supports inequality constraints.\n",
      "    tol : float, optional\n",
      "        Tolerance for termination. When `tol` is specified, the selected\n",
      "        minimization algorithm sets some relevant solver-specific tolerance(s)\n",
      "        equal to `tol`. For detailed control, use solver-specific\n",
      "        options.\n",
      "    options : dict, optional\n",
      "        A dictionary of solver options. All methods except `TNC` accept the\n",
      "        following generic options:\n",
      "    \n",
      "            maxiter : int\n",
      "                Maximum number of iterations to perform. Depending on the\n",
      "                method each iteration may use several function evaluations.\n",
      "    \n",
      "                For `TNC` use `maxfun` instead of `maxiter`.\n",
      "            disp : bool\n",
      "                Set to True to print convergence messages.\n",
      "    \n",
      "        For method-specific options, see :func:`show_options()`.\n",
      "    callback : callable, optional\n",
      "        Called after each iteration. For 'trust-constr' it is a callable with\n",
      "        the signature:\n",
      "    \n",
      "            ``callback(xk, OptimizeResult state) -> bool``\n",
      "    \n",
      "        where ``xk`` is the current parameter vector. and ``state``\n",
      "        is an `OptimizeResult` object, with the same fields\n",
      "        as the ones from the return. If callback returns True\n",
      "        the algorithm execution is terminated.\n",
      "        For all the other methods, the signature is:\n",
      "    \n",
      "            ``callback(xk)``\n",
      "    \n",
      "        where ``xk`` is the current parameter vector.\n",
      "    \n",
      "    Returns\n",
      "    -------\n",
      "    res : OptimizeResult\n",
      "        The optimization result represented as a ``OptimizeResult`` object.\n",
      "        Important attributes are: ``x`` the solution array, ``success`` a\n",
      "        Boolean flag indicating if the optimizer exited successfully and\n",
      "        ``message`` which describes the cause of the termination. See\n",
      "        `OptimizeResult` for a description of other attributes.\n",
      "    \n",
      "    See also\n",
      "    --------\n",
      "    minimize_scalar : Interface to minimization algorithms for scalar\n",
      "        univariate functions\n",
      "    show_options : Additional options accepted by the solvers\n",
      "    \n",
      "    Notes\n",
      "    -----\n",
      "    This section describes the available solvers that can be selected by the\n",
      "    'method' parameter. The default method is *BFGS*.\n",
      "    \n",
      "    **Unconstrained minimization**\n",
      "    \n",
      "    Method :ref:`CG <optimize.minimize-cg>` uses a nonlinear conjugate\n",
      "    gradient algorithm by Polak and Ribiere, a variant of the\n",
      "    Fletcher-Reeves method described in [5]_ pp.120-122. Only the\n",
      "    first derivatives are used.\n",
      "    \n",
      "    Method :ref:`BFGS <optimize.minimize-bfgs>` uses the quasi-Newton\n",
      "    method of Broyden, Fletcher, Goldfarb, and Shanno (BFGS) [5]_\n",
      "    pp. 136. It uses the first derivatives only. BFGS has proven good\n",
      "    performance even for non-smooth optimizations. This method also\n",
      "    returns an approximation of the Hessian inverse, stored as\n",
      "    `hess_inv` in the OptimizeResult object.\n",
      "    \n",
      "    Method :ref:`Newton-CG <optimize.minimize-newtoncg>` uses a\n",
      "    Newton-CG algorithm [5]_ pp. 168 (also known as the truncated\n",
      "    Newton method). It uses a CG method to the compute the search\n",
      "    direction. See also *TNC* method for a box-constrained\n",
      "    minimization with a similar algorithm. Suitable for large-scale\n",
      "    problems.\n",
      "    \n",
      "    Method :ref:`dogleg <optimize.minimize-dogleg>` uses the dog-leg\n",
      "    trust-region algorithm [5]_ for unconstrained minimization. This\n",
      "    algorithm requires the gradient and Hessian; furthermore the\n",
      "    Hessian is required to be positive definite.\n",
      "    \n",
      "    Method :ref:`trust-ncg <optimize.minimize-trustncg>` uses the\n",
      "    Newton conjugate gradient trust-region algorithm [5]_ for\n",
      "    unconstrained minimization. This algorithm requires the gradient\n",
      "    and either the Hessian or a function that computes the product of\n",
      "    the Hessian with a given vector. Suitable for large-scale problems.\n",
      "    \n",
      "    Method :ref:`trust-krylov <optimize.minimize-trustkrylov>` uses\n",
      "    the Newton GLTR trust-region algorithm [14]_, [15]_ for unconstrained\n",
      "    minimization. This algorithm requires the gradient\n",
      "    and either the Hessian or a function that computes the product of\n",
      "    the Hessian with a given vector. Suitable for large-scale problems.\n",
      "    On indefinite problems it requires usually less iterations than the\n",
      "    `trust-ncg` method and is recommended for medium and large-scale problems.\n",
      "    \n",
      "    Method :ref:`trust-exact <optimize.minimize-trustexact>`\n",
      "    is a trust-region method for unconstrained minimization in which\n",
      "    quadratic subproblems are solved almost exactly [13]_. This\n",
      "    algorithm requires the gradient and the Hessian (which is\n",
      "    *not* required to be positive definite). It is, in many\n",
      "    situations, the Newton method to converge in fewer iterations\n",
      "    and the most recommended for small and medium-size problems.\n",
      "    \n",
      "    **Bound-Constrained minimization**\n",
      "    \n",
      "    Method :ref:`Nelder-Mead <optimize.minimize-neldermead>` uses the\n",
      "    Simplex algorithm [1]_, [2]_. This algorithm is robust in many\n",
      "    applications. However, if numerical computation of derivative can be\n",
      "    trusted, other algorithms using the first and/or second derivatives\n",
      "    information might be preferred for their better performance in\n",
      "    general.\n",
      "    \n",
      "    Method :ref:`L-BFGS-B <optimize.minimize-lbfgsb>` uses the L-BFGS-B\n",
      "    algorithm [6]_, [7]_ for bound constrained minimization.\n",
      "    \n",
      "    Method :ref:`Powell <optimize.minimize-powell>` is a modification\n",
      "    of Powell's method [3]_, [4]_ which is a conjugate direction\n",
      "    method. It performs sequential one-dimensional minimizations along\n",
      "    each vector of the directions set (`direc` field in `options` and\n",
      "    `info`), which is updated at each iteration of the main\n",
      "    minimization loop. The function need not be differentiable, and no\n",
      "    derivatives are taken. If bounds are not provided, then an\n",
      "    unbounded line search will be used. If bounds are provided and\n",
      "    the initial guess is within the bounds, then every function\n",
      "    evaluation throughout the minimization procedure will be within\n",
      "    the bounds. If bounds are provided, the initial guess is outside\n",
      "    the bounds, and `direc` is full rank (default has full rank), then\n",
      "    some function evaluations during the first iteration may be\n",
      "    outside the bounds, but every function evaluation after the first\n",
      "    iteration will be within the bounds. If `direc` is not full rank,\n",
      "    then some parameters may not be optimized and the solution is not\n",
      "    guaranteed to be within the bounds.\n",
      "    \n",
      "    Method :ref:`TNC <optimize.minimize-tnc>` uses a truncated Newton\n",
      "    algorithm [5]_, [8]_ to minimize a function with variables subject\n",
      "    to bounds. This algorithm uses gradient information; it is also\n",
      "    called Newton Conjugate-Gradient. It differs from the *Newton-CG*\n",
      "    method described above as it wraps a C implementation and allows\n",
      "    each variable to be given upper and lower bounds.\n",
      "    \n",
      "    **Constrained Minimization**\n",
      "    \n",
      "    Method :ref:`COBYLA <optimize.minimize-cobyla>` uses the\n",
      "    Constrained Optimization BY Linear Approximation (COBYLA) method\n",
      "    [9]_, [10]_, [11]_. The algorithm is based on linear\n",
      "    approximations to the objective function and each constraint. The\n",
      "    method wraps a FORTRAN implementation of the algorithm. The\n",
      "    constraints functions 'fun' may return either a single number\n",
      "    or an array or list of numbers.\n",
      "    \n",
      "    Method :ref:`SLSQP <optimize.minimize-slsqp>` uses Sequential\n",
      "    Least SQuares Programming to minimize a function of several\n",
      "    variables with any combination of bounds, equality and inequality\n",
      "    constraints. The method wraps the SLSQP Optimization subroutine\n",
      "    originally implemented by Dieter Kraft [12]_. Note that the\n",
      "    wrapper handles infinite values in bounds by converting them into\n",
      "    large floating values.\n",
      "    \n",
      "    Method :ref:`trust-constr <optimize.minimize-trustconstr>` is a\n",
      "    trust-region algorithm for constrained optimization. It swiches\n",
      "    between two implementations depending on the problem definition.\n",
      "    It is the most versatile constrained minimization algorithm\n",
      "    implemented in SciPy and the most appropriate for large-scale problems.\n",
      "    For equality constrained problems it is an implementation of Byrd-Omojokun\n",
      "    Trust-Region SQP method described in [17]_ and in [5]_, p. 549. When\n",
      "    inequality constraints are imposed as well, it swiches to the trust-region\n",
      "    interior point method described in [16]_. This interior point algorithm,\n",
      "    in turn, solves inequality constraints by introducing slack variables\n",
      "    and solving a sequence of equality-constrained barrier problems\n",
      "    for progressively smaller values of the barrier parameter.\n",
      "    The previously described equality constrained SQP method is\n",
      "    used to solve the subproblems with increasing levels of accuracy\n",
      "    as the iterate gets closer to a solution.\n",
      "    \n",
      "    **Finite-Difference Options**\n",
      "    \n",
      "    For Method :ref:`trust-constr <optimize.minimize-trustconstr>`\n",
      "    the gradient and the Hessian may be approximated using\n",
      "    three finite-difference schemes: {'2-point', '3-point', 'cs'}.\n",
      "    The scheme 'cs' is, potentially, the most accurate but it\n",
      "    requires the function to correctly handle complex inputs and to\n",
      "    be differentiable in the complex plane. The scheme '3-point' is more\n",
      "    accurate than '2-point' but requires twice as many operations. If the\n",
      "    gradient is estimated via finite-differences the Hessian must be\n",
      "    estimated using one of the quasi-Newton strategies.\n",
      "    \n",
      "    **Method specific options for the** `hess` **keyword**\n",
      "    \n",
      "    +--------------+------+----------+-------------------------+-----+\n",
      "    | method/Hess  | None | callable | '2-point/'3-point'/'cs' | HUS |\n",
      "    +==============+======+==========+=========================+=====+\n",
      "    | Newton-CG    | x    | (n, n)   | x                       | x   |\n",
      "    |              |      | LO       |                         |     |\n",
      "    +--------------+------+----------+-------------------------+-----+\n",
      "    | dogleg       |      | (n, n)   |                         |     |\n",
      "    +--------------+------+----------+-------------------------+-----+\n",
      "    | trust-ncg    |      | (n, n)   | x                       | x   |\n",
      "    +--------------+------+----------+-------------------------+-----+\n",
      "    | trust-krylov |      | (n, n)   | x                       | x   |\n",
      "    +--------------+------+----------+-------------------------+-----+\n",
      "    | trust-exact  |      | (n, n)   |                         |     |\n",
      "    +--------------+------+----------+-------------------------+-----+\n",
      "    | trust-constr | x    | (n, n)   |  x                      | x   |\n",
      "    |              |      | LO       |                         |     |\n",
      "    |              |      | sp       |                         |     |\n",
      "    +--------------+------+----------+-------------------------+-----+\n",
      "    \n",
      "    where LO=LinearOperator, sp=Sparse matrix, HUS=HessianUpdateStrategy\n",
      "    \n",
      "    **Custom minimizers**\n",
      "    \n",
      "    It may be useful to pass a custom minimization method, for example\n",
      "    when using a frontend to this method such as `scipy.optimize.basinhopping`\n",
      "    or a different library.  You can simply pass a callable as the ``method``\n",
      "    parameter.\n",
      "    \n",
      "    The callable is called as ``method(fun, x0, args, **kwargs, **options)``\n",
      "    where ``kwargs`` corresponds to any other parameters passed to `minimize`\n",
      "    (such as `callback`, `hess`, etc.), except the `options` dict, which has\n",
      "    its contents also passed as `method` parameters pair by pair.  Also, if\n",
      "    `jac` has been passed as a bool type, `jac` and `fun` are mangled so that\n",
      "    `fun` returns just the function values and `jac` is converted to a function\n",
      "    returning the Jacobian.  The method shall return an `OptimizeResult`\n",
      "    object.\n",
      "    \n",
      "    The provided `method` callable must be able to accept (and possibly ignore)\n",
      "    arbitrary parameters; the set of parameters accepted by `minimize` may\n",
      "    expand in future versions and then these parameters will be passed to\n",
      "    the method.  You can find an example in the scipy.optimize tutorial.\n",
      "    \n",
      "    References\n",
      "    ----------\n",
      "    .. [1] Nelder, J A, and R Mead. 1965. A Simplex Method for Function\n",
      "        Minimization. The Computer Journal 7: 308-13.\n",
      "    .. [2] Wright M H. 1996. Direct search methods: Once scorned, now\n",
      "        respectable, in Numerical Analysis 1995: Proceedings of the 1995\n",
      "        Dundee Biennial Conference in Numerical Analysis (Eds. D F\n",
      "        Griffiths and G A Watson). Addison Wesley Longman, Harlow, UK.\n",
      "        191-208.\n",
      "    .. [3] Powell, M J D. 1964. An efficient method for finding the minimum of\n",
      "       a function of several variables without calculating derivatives. The\n",
      "       Computer Journal 7: 155-162.\n",
      "    .. [4] Press W, S A Teukolsky, W T Vetterling and B P Flannery.\n",
      "       Numerical Recipes (any edition), Cambridge University Press.\n",
      "    .. [5] Nocedal, J, and S J Wright. 2006. Numerical Optimization.\n",
      "       Springer New York.\n",
      "    .. [6] Byrd, R H and P Lu and J. Nocedal. 1995. A Limited Memory\n",
      "       Algorithm for Bound Constrained Optimization. SIAM Journal on\n",
      "       Scientific and Statistical Computing 16 (5): 1190-1208.\n",
      "    .. [7] Zhu, C and R H Byrd and J Nocedal. 1997. L-BFGS-B: Algorithm\n",
      "       778: L-BFGS-B, FORTRAN routines for large scale bound constrained\n",
      "       optimization. ACM Transactions on Mathematical Software 23 (4):\n",
      "       550-560.\n",
      "    .. [8] Nash, S G. Newton-Type Minimization Via the Lanczos Method.\n",
      "       1984. SIAM Journal of Numerical Analysis 21: 770-778.\n",
      "    .. [9] Powell, M J D. A direct search optimization method that models\n",
      "       the objective and constraint functions by linear interpolation.\n",
      "       1994. Advances in Optimization and Numerical Analysis, eds. S. Gomez\n",
      "       and J-P Hennart, Kluwer Academic (Dordrecht), 51-67.\n",
      "    .. [10] Powell M J D. Direct search algorithms for optimization\n",
      "       calculations. 1998. Acta Numerica 7: 287-336.\n",
      "    .. [11] Powell M J D. A view of algorithms for optimization without\n",
      "       derivatives. 2007.Cambridge University Technical Report DAMTP\n",
      "       2007/NA03\n",
      "    .. [12] Kraft, D. A software package for sequential quadratic\n",
      "       programming. 1988. Tech. Rep. DFVLR-FB 88-28, DLR German Aerospace\n",
      "       Center -- Institute for Flight Mechanics, Koln, Germany.\n",
      "    .. [13] Conn, A. R., Gould, N. I., and Toint, P. L.\n",
      "       Trust region methods. 2000. Siam. pp. 169-200.\n",
      "    .. [14] F. Lenders, C. Kirches, A. Potschka: \"trlib: A vector-free\n",
      "       implementation of the GLTR method for iterative solution of\n",
      "       the trust region problem\", :arxiv:`1611.04718`\n",
      "    .. [15] N. Gould, S. Lucidi, M. Roma, P. Toint: \"Solving the\n",
      "       Trust-Region Subproblem using the Lanczos Method\",\n",
      "       SIAM J. Optim., 9(2), 504--525, (1999).\n",
      "    .. [16] Byrd, Richard H., Mary E. Hribar, and Jorge Nocedal. 1999.\n",
      "        An interior point algorithm for large-scale nonlinear  programming.\n",
      "        SIAM Journal on Optimization 9.4: 877-900.\n",
      "    .. [17] Lalee, Marucha, Jorge Nocedal, and Todd Plantega. 1998. On the\n",
      "        implementation of an algorithm for large-scale equality constrained\n",
      "        optimization. SIAM Journal on Optimization 8.3: 682-706.\n",
      "    \n",
      "    Examples\n",
      "    --------\n",
      "    Let us consider the problem of minimizing the Rosenbrock function. This\n",
      "    function (and its respective derivatives) is implemented in `rosen`\n",
      "    (resp. `rosen_der`, `rosen_hess`) in the `scipy.optimize`.\n",
      "    \n",
      "    >>> from scipy.optimize import minimize, rosen, rosen_der\n",
      "    \n",
      "    A simple application of the *Nelder-Mead* method is:\n",
      "    \n",
      "    >>> x0 = [1.3, 0.7, 0.8, 1.9, 1.2]\n",
      "    >>> res = minimize(rosen, x0, method='Nelder-Mead', tol=1e-6)\n",
      "    >>> res.x\n",
      "    array([ 1.,  1.,  1.,  1.,  1.])\n",
      "    \n",
      "    Now using the *BFGS* algorithm, using the first derivative and a few\n",
      "    options:\n",
      "    \n",
      "    >>> res = minimize(rosen, x0, method='BFGS', jac=rosen_der,\n",
      "    ...                options={'gtol': 1e-6, 'disp': True})\n",
      "    Optimization terminated successfully.\n",
      "             Current function value: 0.000000\n",
      "             Iterations: 26\n",
      "             Function evaluations: 31\n",
      "             Gradient evaluations: 31\n",
      "    >>> res.x\n",
      "    array([ 1.,  1.,  1.,  1.,  1.])\n",
      "    >>> print(res.message)\n",
      "    Optimization terminated successfully.\n",
      "    >>> res.hess_inv\n",
      "    array([[ 0.00749589,  0.01255155,  0.02396251,  0.04750988,  0.09495377],  # may vary\n",
      "           [ 0.01255155,  0.02510441,  0.04794055,  0.09502834,  0.18996269],\n",
      "           [ 0.02396251,  0.04794055,  0.09631614,  0.19092151,  0.38165151],\n",
      "           [ 0.04750988,  0.09502834,  0.19092151,  0.38341252,  0.7664427 ],\n",
      "           [ 0.09495377,  0.18996269,  0.38165151,  0.7664427,   1.53713523]])\n",
      "    \n",
      "    \n",
      "    Next, consider a minimization problem with several constraints (namely\n",
      "    Example 16.4 from [5]_). The objective function is:\n",
      "    \n",
      "    >>> fun = lambda x: (x[0] - 1)**2 + (x[1] - 2.5)**2\n",
      "    \n",
      "    There are three constraints defined as:\n",
      "    \n",
      "    >>> cons = ({'type': 'ineq', 'fun': lambda x:  x[0] - 2 * x[1] + 2},\n",
      "    ...         {'type': 'ineq', 'fun': lambda x: -x[0] - 2 * x[1] + 6},\n",
      "    ...         {'type': 'ineq', 'fun': lambda x: -x[0] + 2 * x[1] + 2})\n",
      "    \n",
      "    And variables must be positive, hence the following bounds:\n",
      "    \n",
      "    >>> bnds = ((0, None), (0, None))\n",
      "    \n",
      "    The optimization problem is solved using the SLSQP method as:\n",
      "    \n",
      "    >>> res = minimize(fun, (2, 0), method='SLSQP', bounds=bnds,\n",
      "    ...                constraints=cons)\n",
      "    \n",
      "    It should converge to the theoretical solution (1.4 ,1.7).\n"
     ]
    }
   ],
   "source": [
    "help(minimize)"
   ]
  },
  {
   "cell_type": "markdown",
   "metadata": {
    "hidden": true
   },
   "source": [
    "Эта функция имеет стандартный интерфейс: нужно передать callable объект, который вычисляет значение и градиент целевой функции, а также точку старта оптимизации — начальное приближение (одномерный `numpy`-массив). Поэтому нам понадобятся функции для сбора и задания всех весов нашей нейросети (именно для них мы всегда записывали параметры слоя в список `layer.params`)"
   ]
  },
  {
   "cell_type": "code",
   "execution_count": 29,
   "metadata": {
    "hidden": true,
    "ExecuteTime": {
     "end_time": "2024-02-29T18:35:26.623881600Z",
     "start_time": "2024-02-29T18:35:25.984835900Z"
    }
   },
   "outputs": [],
   "source": [
    "def get_weights(network):\n",
    "    weights = []\n",
    "    for layer in network:\n",
    "        for param in layer.params:\n",
    "            weights += param.ravel().tolist()\n",
    "    return np.array(weights)\n",
    "\n",
    "\n",
    "def set_weights(weights, network):\n",
    "    i = 0\n",
    "    for layer in network:\n",
    "        for param in layer.params:\n",
    "            l = param.size\n",
    "            param[:] = weights[i:i+l].reshape(param.shape)\n",
    "            i += l"
   ]
  },
  {
   "cell_type": "markdown",
   "metadata": {
    "hidden": true
   },
   "source": [
    "Вам нужно реализовать ту самую функцию, которую мы будем передавать в `minimize`. Эта функция должна брать на вход текущую точку (вектор всех параметров), а также список дополнительных параметров (мы будем передавать через них нашу сеть и обучающие данные) и возвращать значение критерия качества (NLL) и его градиент по параметрам модели."
   ]
  },
  {
   "cell_type": "code",
   "execution_count": 30,
   "metadata": {
    "hidden": true,
    "ExecuteTime": {
     "end_time": "2024-02-29T18:35:26.639878900Z",
     "start_time": "2024-02-29T18:35:25.987462100Z"
    }
   },
   "outputs": [],
   "source": [
    "def compute_loss_grad(weights, args):\n",
    "    \"\"\"\n",
    "    takes current weights and computes cross-entropy and gradients\n",
    "    weights shape: [num_parameters]\n",
    "    output 1: loss (scalar)\n",
    "    output 2: gradint w.r.t. weights, shape: [num_parameters]\n",
    "    \n",
    "    hint: firstly perform forward pass through the whole network\n",
    "    then compute loss and its gradients\n",
    "    then perform backward pass, transmitting first baskward output\n",
    "    to the previos layer and saving second baskward output in a list\n",
    "    finally flatten all the gradients in this list\n",
    "    (in the order from the first to the last layer)\n",
    "    \n",
    "    Do not forget to set weights of the network!\n",
    "    \"\"\"\n",
    "    network, X, y = args\n",
    "    \n",
    "    set_weights(weights, network)\n",
    "    \n",
    "    activations = forward(network, X)\n",
    "    loss = NLL(activations, y)\n",
    "    \n",
    "    weights_grad_arrays = []\n",
    "    \n",
    "    d_loss_d_input = grad_NLL(activations, y)\n",
    "    for layer in reversed(network):\n",
    "        d_loss_d_input, d_loss_d_layer = layer.backward(d_loss_d_input)\n",
    "        if isinstance(layer, Dense):\n",
    "            # print(f\"{layer=}\\tdW shape = {d_loss_d_layer[0].shape}\\tdb shape = {d_loss_d_layer[1].shape}\")\n",
    "            # weights_grad += (np.sum(d_loss_d_layer[0], axis=0).ravel().tolist())\n",
    "            # weights_grad += (np.sum(d_loss_d_layer[1], axis=0).ravel().tolist())\n",
    "            weights_grad_arrays.append(np.sum(d_loss_d_layer[1], axis=0).ravel().tolist())\n",
    "            weights_grad_arrays.append(np.sum(d_loss_d_layer[0], axis=0).ravel().tolist())\n",
    "        else:\n",
    "            pass\n",
    "            # print(f\"{layer=}\")\n",
    "        # weights_grad += d_loss_d_layer\n",
    "    \n",
    "    weights_grad_arrays.reverse()\n",
    "    weights_grad = []\n",
    "    for wg in weights_grad_arrays:\n",
    "        weights_grad += wg\n",
    "    \n",
    "    # print(f\"Mean abs grad value: {np.mean(np.abs(weights_grad))}\\tMax abs grad value: {np.max(np.abs(weights_grad))}\")\n",
    "    # print(f\"Loss = {loss}\")\n",
    "    \n",
    "    return loss, np.array(weights_grad)"
   ]
  },
  {
   "cell_type": "markdown",
   "metadata": {
    "hidden": true
   },
   "source": [
    "Теперь мы готовы обучать нашу нейросеть. "
   ]
  },
  {
   "cell_type": "code",
   "execution_count": 31,
   "metadata": {
    "hidden": true,
    "ExecuteTime": {
     "end_time": "2024-02-29T18:35:26.662880800Z",
     "start_time": "2024-02-29T18:35:25.993235800Z"
    }
   },
   "outputs": [
    {
     "data": {
      "text/plain": "array([-0.01217283,  0.00159463, -0.00892788, ...,  0.        ,\n        0.        ,  0.        ])"
     },
     "execution_count": 31,
     "metadata": {},
     "output_type": "execute_result"
    }
   ],
   "source": [
    "network = make_network(input_size, hidden_layers_size, output_size, 3, ReLU)\n",
    "weights = get_weights(network)\n",
    "weights"
   ]
  },
  {
   "cell_type": "code",
   "execution_count": 32,
   "metadata": {
    "hidden": true,
    "ExecuteTime": {
     "end_time": "2024-02-29T18:35:27.762641400Z",
     "start_time": "2024-02-29T18:35:25.997878900Z"
    }
   },
   "outputs": [],
   "source": [
    "res = minimize(\n",
    "    compute_loss_grad, weights,       # fun and start point\n",
    "    args=[network, X_train, y_train], # args passed to fun\n",
    "    method=\"L-BFGS-B\",                # optimization method\n",
    "    jac=True,                         # says that gradient is computed in fun,\n",
    "    options={'disp': True},\n",
    "    tol=1e-6\n",
    ")"
   ]
  },
  {
   "cell_type": "code",
   "execution_count": 33,
   "metadata": {
    "hidden": true,
    "ExecuteTime": {
     "end_time": "2024-02-29T18:35:27.770636Z",
     "start_time": "2024-02-29T18:35:27.718510900Z"
    }
   },
   "outputs": [
    {
     "data": {
      "text/plain": "dict_keys(['fun', 'jac', 'nfev', 'njev', 'nit', 'status', 'message', 'x', 'success', 'hess_inv'])"
     },
     "execution_count": 33,
     "metadata": {},
     "output_type": "execute_result"
    }
   ],
   "source": [
    "res.keys()"
   ]
  },
  {
   "cell_type": "code",
   "execution_count": 34,
   "metadata": {
    "hidden": true,
    "scrolled": true,
    "ExecuteTime": {
     "end_time": "2024-02-29T18:35:27.786634800Z",
     "start_time": "2024-02-29T18:35:27.722361700Z"
    }
   },
   "outputs": [
    {
     "data": {
      "text/plain": "107"
     },
     "execution_count": 34,
     "metadata": {},
     "output_type": "execute_result"
    }
   ],
   "source": [
    "res[\"nit\"] # number of iterations (should be >> 10)"
   ]
  },
  {
   "cell_type": "code",
   "execution_count": 35,
   "metadata": {
    "hidden": true,
    "ExecuteTime": {
     "end_time": "2024-02-29T18:35:27.804636400Z",
     "start_time": "2024-02-29T18:35:27.725031800Z"
    }
   },
   "outputs": [
    {
     "data": {
      "text/plain": "True"
     },
     "execution_count": 35,
     "metadata": {},
     "output_type": "execute_result"
    }
   ],
   "source": [
    "res[\"success\"] # should be True"
   ]
  },
  {
   "cell_type": "code",
   "outputs": [
    {
     "data": {
      "text/plain": "'CONVERGENCE: REL_REDUCTION_OF_F_<=_FACTR*EPSMCH'"
     },
     "execution_count": 36,
     "metadata": {},
     "output_type": "execute_result"
    }
   ],
   "source": [
    "res[\"message\"]"
   ],
   "metadata": {
    "collapsed": false,
    "ExecuteTime": {
     "end_time": "2024-02-29T18:35:27.827634100Z",
     "start_time": "2024-02-29T18:35:27.728798600Z"
    }
   },
   "execution_count": 36
  },
  {
   "cell_type": "code",
   "execution_count": 37,
   "metadata": {
    "hidden": true,
    "ExecuteTime": {
     "end_time": "2024-02-29T18:35:28.035635300Z",
     "start_time": "2024-02-29T18:35:27.732726600Z"
    }
   },
   "outputs": [
    {
     "data": {
      "text/plain": "array([-1.21728269e-02,  1.59462507e-03, -8.92787515e-03, ...,\n       -1.20743288e+00, -2.57884499e+00, -4.05903066e-01])"
     },
     "execution_count": 37,
     "metadata": {},
     "output_type": "execute_result"
    }
   ],
   "source": [
    "res[\"x\"] # leraned weights"
   ]
  },
  {
   "cell_type": "markdown",
   "metadata": {
    "hidden": true
   },
   "source": [
    "Выведите качество на обучении (`X_train`, `y_train`) и на контроле (`X_test`, `y_test`). Не забудьте установить веса!"
   ]
  },
  {
   "cell_type": "code",
   "outputs": [],
   "source": [
    "from sklearn.metrics import accuracy_score"
   ],
   "metadata": {
    "collapsed": false,
    "ExecuteTime": {
     "end_time": "2024-02-29T18:35:28.069635500Z",
     "start_time": "2024-02-29T18:35:27.737622Z"
    }
   },
   "execution_count": 38
  },
  {
   "cell_type": "code",
   "outputs": [
    {
     "data": {
      "text/plain": "[Dense(64, 32), Relu(), Dense(32, 32), Relu(), Dense(32, 10), LogSoftmax()]"
     },
     "execution_count": 39,
     "metadata": {},
     "output_type": "execute_result"
    }
   ],
   "source": [
    "network"
   ],
   "metadata": {
    "collapsed": false,
    "ExecuteTime": {
     "end_time": "2024-02-29T18:35:28.098636Z",
     "start_time": "2024-02-29T18:35:27.740588600Z"
    }
   },
   "execution_count": 39
  },
  {
   "cell_type": "code",
   "execution_count": 40,
   "metadata": {
    "hidden": true,
    "ExecuteTime": {
     "end_time": "2024-02-29T18:35:28.141635900Z",
     "start_time": "2024-02-29T18:35:27.745655600Z"
    }
   },
   "outputs": [
    {
     "name": "stdout",
     "output_type": "stream",
     "text": [
      "Train NLL: 0.0000031\t\tTest NLL: 0.7393872\n",
      "Train accuracy: 1.000\t\tTest accuracy: 0.956\n"
     ]
    }
   ],
   "source": [
    "set_weights(weights=res[\"x\"], network=network)\n",
    "\n",
    "train_NLL = NLL(forward(network, X_train), y_train)\n",
    "test_NLL = NLL(forward(network, X_test), y_test)\n",
    "\n",
    "print(f\"Train NLL: {train_NLL:.7f}\\t\\tTest NLL: {test_NLL:.7f}\")\n",
    "\n",
    "train_accuracy = accuracy_score(y_true=y_train, y_pred=predict(network, X_train))\n",
    "test_accuracy = accuracy_score(y_true=y_test, y_pred=predict(network, X_test))\n",
    "\n",
    "print(f\"Train accuracy: {train_accuracy:.3f}\\t\\tTest accuracy: {test_accuracy:.3f}\")"
   ]
  },
  {
   "cell_type": "markdown",
   "metadata": {
    "hidden": true
   },
   "source": [
    "У `minimize` есть также аргумент `callback` — в нее можно передать функцию, которая будет вызываться после каждой итерации оптимизации. Такую функцию удобно оформить в виде метода класса, который будет сохранять качество на обучении контроле после каждой итерации. Реализуйте этот метод в классе `Callback`:"
   ]
  },
  {
   "cell_type": "code",
   "execution_count": 41,
   "metadata": {
    "hidden": true,
    "ExecuteTime": {
     "end_time": "2024-02-29T18:35:28.161636600Z",
     "start_time": "2024-02-29T18:35:27.754068500Z"
    }
   },
   "outputs": [],
   "source": [
    "class Callback:\n",
    "    def __init__(self, network, X_train, y_train, X_test, y_test, print=False):\n",
    "        self.network = network\n",
    "        self.X_train = X_train\n",
    "        self.X_test = X_test\n",
    "        self.y_train = y_train\n",
    "        self.y_test = y_test\n",
    "        self.print = print\n",
    "        self.train_acc = []\n",
    "        self.test_acc = []\n",
    "        self.train_NLL = []\n",
    "        self.test_NLL = []\n",
    "        \n",
    "    def call(self, weights):\n",
    "        \"\"\"\n",
    "        Computes quality on train and test set with given weights\n",
    "        and saves to self.train_acc and self.test_acc.\n",
    "        If self.print is True, also prints these 2 values\n",
    "        \"\"\"\n",
    "        \n",
    "        train_NLL = NLL(forward(network, X_train), y_train)\n",
    "        test_NLL = NLL(forward(network, X_test), y_test)\n",
    "        \n",
    "        train_accuracy = accuracy_score(y_true=y_train, y_pred=predict(network, X_train))\n",
    "        test_accuracy = accuracy_score(y_true=y_test, y_pred=predict(network, X_test))\n",
    "        \n",
    "        self.train_acc.append(train_accuracy)\n",
    "        self.test_acc.append(test_accuracy)\n",
    "        self.train_NLL.append(train_NLL)\n",
    "        self.test_NLL.append(test_NLL)\n",
    "        \n",
    "        if self.print:\n",
    "            print(f\"Train accuracy: {train_accuracy:.3f}\\t\\tTest accuracy: {test_accuracy:.3f}\")"
   ]
  },
  {
   "cell_type": "code",
   "execution_count": 42,
   "metadata": {
    "hidden": true,
    "ExecuteTime": {
     "end_time": "2024-02-29T18:35:29.968776700Z",
     "start_time": "2024-02-29T18:35:27.767636500Z"
    }
   },
   "outputs": [
    {
     "name": "stdout",
     "output_type": "stream",
     "text": [
      "Train accuracy: 0.106\t\tTest accuracy: 0.084\n",
      "Train accuracy: 0.106\t\tTest accuracy: 0.084\n",
      "Train accuracy: 0.106\t\tTest accuracy: 0.084\n",
      "Train accuracy: 0.131\t\tTest accuracy: 0.104\n",
      "Train accuracy: 0.328\t\tTest accuracy: 0.340\n",
      "Train accuracy: 0.321\t\tTest accuracy: 0.338\n",
      "Train accuracy: 0.395\t\tTest accuracy: 0.400\n",
      "Train accuracy: 0.410\t\tTest accuracy: 0.416\n",
      "Train accuracy: 0.493\t\tTest accuracy: 0.509\n",
      "Train accuracy: 0.566\t\tTest accuracy: 0.578\n",
      "Train accuracy: 0.638\t\tTest accuracy: 0.609\n",
      "Train accuracy: 0.687\t\tTest accuracy: 0.669\n",
      "Train accuracy: 0.710\t\tTest accuracy: 0.673\n",
      "Train accuracy: 0.696\t\tTest accuracy: 0.684\n",
      "Train accuracy: 0.710\t\tTest accuracy: 0.684\n",
      "Train accuracy: 0.722\t\tTest accuracy: 0.711\n",
      "Train accuracy: 0.714\t\tTest accuracy: 0.711\n",
      "Train accuracy: 0.728\t\tTest accuracy: 0.729\n",
      "Train accuracy: 0.753\t\tTest accuracy: 0.727\n",
      "Train accuracy: 0.759\t\tTest accuracy: 0.749\n",
      "Train accuracy: 0.790\t\tTest accuracy: 0.796\n",
      "Train accuracy: 0.801\t\tTest accuracy: 0.800\n",
      "Train accuracy: 0.835\t\tTest accuracy: 0.822\n",
      "Train accuracy: 0.842\t\tTest accuracy: 0.842\n",
      "Train accuracy: 0.845\t\tTest accuracy: 0.827\n",
      "Train accuracy: 0.852\t\tTest accuracy: 0.851\n",
      "Train accuracy: 0.860\t\tTest accuracy: 0.853\n",
      "Train accuracy: 0.852\t\tTest accuracy: 0.853\n",
      "Train accuracy: 0.871\t\tTest accuracy: 0.867\n",
      "Train accuracy: 0.898\t\tTest accuracy: 0.893\n",
      "Train accuracy: 0.899\t\tTest accuracy: 0.904\n",
      "Train accuracy: 0.910\t\tTest accuracy: 0.911\n",
      "Train accuracy: 0.909\t\tTest accuracy: 0.913\n",
      "Train accuracy: 0.915\t\tTest accuracy: 0.916\n",
      "Train accuracy: 0.927\t\tTest accuracy: 0.922\n",
      "Train accuracy: 0.932\t\tTest accuracy: 0.931\n",
      "Train accuracy: 0.942\t\tTest accuracy: 0.931\n",
      "Train accuracy: 0.944\t\tTest accuracy: 0.938\n",
      "Train accuracy: 0.947\t\tTest accuracy: 0.931\n",
      "Train accuracy: 0.944\t\tTest accuracy: 0.931\n",
      "Train accuracy: 0.943\t\tTest accuracy: 0.933\n",
      "Train accuracy: 0.952\t\tTest accuracy: 0.940\n",
      "Train accuracy: 0.958\t\tTest accuracy: 0.938\n",
      "Train accuracy: 0.961\t\tTest accuracy: 0.936\n",
      "Train accuracy: 0.964\t\tTest accuracy: 0.949\n",
      "Train accuracy: 0.964\t\tTest accuracy: 0.947\n",
      "Train accuracy: 0.968\t\tTest accuracy: 0.949\n",
      "Train accuracy: 0.970\t\tTest accuracy: 0.947\n",
      "Train accuracy: 0.972\t\tTest accuracy: 0.953\n",
      "Train accuracy: 0.976\t\tTest accuracy: 0.953\n",
      "Train accuracy: 0.977\t\tTest accuracy: 0.949\n",
      "Train accuracy: 0.980\t\tTest accuracy: 0.949\n",
      "Train accuracy: 0.979\t\tTest accuracy: 0.953\n",
      "Train accuracy: 0.981\t\tTest accuracy: 0.947\n",
      "Train accuracy: 0.984\t\tTest accuracy: 0.944\n",
      "Train accuracy: 0.987\t\tTest accuracy: 0.940\n",
      "Train accuracy: 0.987\t\tTest accuracy: 0.947\n",
      "Train accuracy: 0.988\t\tTest accuracy: 0.947\n",
      "Train accuracy: 0.990\t\tTest accuracy: 0.944\n",
      "Train accuracy: 0.990\t\tTest accuracy: 0.942\n",
      "Train accuracy: 0.993\t\tTest accuracy: 0.944\n",
      "Train accuracy: 0.991\t\tTest accuracy: 0.944\n",
      "Train accuracy: 0.993\t\tTest accuracy: 0.947\n",
      "Train accuracy: 0.993\t\tTest accuracy: 0.949\n",
      "Train accuracy: 0.993\t\tTest accuracy: 0.953\n",
      "Train accuracy: 0.994\t\tTest accuracy: 0.953\n",
      "Train accuracy: 0.996\t\tTest accuracy: 0.953\n",
      "Train accuracy: 0.995\t\tTest accuracy: 0.951\n",
      "Train accuracy: 0.996\t\tTest accuracy: 0.947\n",
      "Train accuracy: 0.997\t\tTest accuracy: 0.942\n",
      "Train accuracy: 0.997\t\tTest accuracy: 0.942\n",
      "Train accuracy: 0.998\t\tTest accuracy: 0.942\n",
      "Train accuracy: 0.999\t\tTest accuracy: 0.942\n",
      "Train accuracy: 0.999\t\tTest accuracy: 0.942\n",
      "Train accuracy: 0.999\t\tTest accuracy: 0.951\n",
      "Train accuracy: 1.000\t\tTest accuracy: 0.951\n",
      "Train accuracy: 1.000\t\tTest accuracy: 0.951\n",
      "Train accuracy: 1.000\t\tTest accuracy: 0.951\n",
      "Train accuracy: 1.000\t\tTest accuracy: 0.953\n",
      "Train accuracy: 1.000\t\tTest accuracy: 0.958\n",
      "Train accuracy: 1.000\t\tTest accuracy: 0.958\n",
      "Train accuracy: 1.000\t\tTest accuracy: 0.958\n",
      "Train accuracy: 1.000\t\tTest accuracy: 0.956\n",
      "Train accuracy: 1.000\t\tTest accuracy: 0.960\n",
      "Train accuracy: 1.000\t\tTest accuracy: 0.962\n",
      "Train accuracy: 1.000\t\tTest accuracy: 0.960\n",
      "Train accuracy: 1.000\t\tTest accuracy: 0.960\n",
      "Train accuracy: 1.000\t\tTest accuracy: 0.958\n",
      "Train accuracy: 1.000\t\tTest accuracy: 0.960\n",
      "Train accuracy: 1.000\t\tTest accuracy: 0.958\n",
      "Train accuracy: 1.000\t\tTest accuracy: 0.962\n",
      "Train accuracy: 1.000\t\tTest accuracy: 0.962\n",
      "Train accuracy: 1.000\t\tTest accuracy: 0.960\n",
      "Train accuracy: 1.000\t\tTest accuracy: 0.958\n",
      "Train accuracy: 1.000\t\tTest accuracy: 0.956\n",
      "Train accuracy: 1.000\t\tTest accuracy: 0.956\n",
      "Train accuracy: 1.000\t\tTest accuracy: 0.956\n",
      "Train accuracy: 1.000\t\tTest accuracy: 0.956\n",
      "Train accuracy: 1.000\t\tTest accuracy: 0.956\n",
      "Train accuracy: 1.000\t\tTest accuracy: 0.958\n",
      "Train accuracy: 1.000\t\tTest accuracy: 0.958\n",
      "Train accuracy: 1.000\t\tTest accuracy: 0.953\n",
      "Train accuracy: 1.000\t\tTest accuracy: 0.956\n",
      "Train accuracy: 1.000\t\tTest accuracy: 0.956\n",
      "Train accuracy: 1.000\t\tTest accuracy: 0.956\n",
      "Train accuracy: 1.000\t\tTest accuracy: 0.956\n",
      "Train accuracy: 1.000\t\tTest accuracy: 0.956\n",
      "Train accuracy: 1.000\t\tTest accuracy: 0.956\n",
      "Train accuracy: 1.000\t\tTest accuracy: 0.956\n",
      "Train accuracy: 1.000\t\tTest accuracy: 0.958\n",
      "Train accuracy: 1.000\t\tTest accuracy: 0.958\n",
      "Train accuracy: 1.000\t\tTest accuracy: 0.958\n",
      "Train accuracy: 1.000\t\tTest accuracy: 0.958\n"
     ]
    }
   ],
   "source": [
    "cb = Callback(network, X_train, y_train, X_test, y_test, print=True)\n",
    "\n",
    "res = minimize(\n",
    "    compute_loss_grad, weights,  \n",
    "    args=[network, X_train, y_train], \n",
    "    method=\"L-BFGS-B\",\n",
    "    jac=True,\n",
    "    callback=cb.call\n",
    ")"
   ]
  },
  {
   "cell_type": "markdown",
   "metadata": {
    "hidden": true
   },
   "source": [
    "Изобразите на графике кривую качества на обучени и контроле по итерациям:"
   ]
  },
  {
   "cell_type": "code",
   "execution_count": 43,
   "metadata": {
    "hidden": true,
    "ExecuteTime": {
     "end_time": "2024-02-29T18:35:30.109754100Z",
     "start_time": "2024-02-29T18:35:29.865717800Z"
    }
   },
   "outputs": [
    {
     "data": {
      "text/plain": "<Figure size 1000x500 with 1 Axes>",
      "image/png": "[encoded data removed]"
     },
     "metadata": {},
     "output_type": "display_data"
    }
   ],
   "source": [
    "fig, ax = plt.subplots(1, 1, figsize=(10, 5))\n",
    "ax.plot(cb.train_acc, label=f\"train acc [{cb.train_acc[-1]:3.2f}]\")\n",
    "ax.plot(cb.test_acc, label=f\"test acc [{cb.test_acc[-1]:3.2f}]\")\n",
    "ax.set_xlabel(\"Iteration\")\n",
    "ax.set_ylabel(\"Accuracy\")\n",
    "ax.grid(True)\n",
    "ax.legend()\n",
    "\n",
    "fig.tight_layout()\n",
    "plt.show()"
   ]
  },
  {
   "cell_type": "markdown",
   "metadata": {
    "heading_collapsed": true,
    "hidden": true
   },
   "source": [
    "### `Эксперименты с числом слоев (0.6 балла)`"
   ]
  },
  {
   "cell_type": "markdown",
   "metadata": {
    "hidden": true
   },
   "source": [
    "Ясно, что из-за случайного начального приближения с каждым запуском обучения мы будем получать различное качество. Попробуем обучить нашу нейросеть с разным числом слоев несколько раз.\n",
    "\n",
    "Заполните матрицы `accs_train` и `accs_test`. В позиции `[i, j]` должна стоять величина доли правильных ответов сети с $i+1$ полносвязными слоями при $j$-м запуске (все запуски идентичны)."
   ]
  },
  {
   "cell_type": "code",
   "execution_count": 44,
   "outputs": [
    {
     "data": {
      "text/plain": "[Dense(64, 32), Relu(), Dense(32, 32), Relu(), Dense(32, 10), LogSoftmax()]"
     },
     "execution_count": 44,
     "metadata": {},
     "output_type": "execute_result"
    }
   ],
   "source": [
    "network"
   ],
   "metadata": {
    "collapsed": false,
    "ExecuteTime": {
     "end_time": "2024-02-29T18:35:30.122757400Z",
     "start_time": "2024-02-29T18:35:29.970785Z"
    }
   }
  },
  {
   "cell_type": "code",
   "execution_count": 45,
   "outputs": [],
   "source": [
    "def train_network(network: List[Layer], history: bool = False, optimizer=\"L-BFGS-B\", options: dict = None, tol: float = 1e-7, cb_print: bool = False) -> List[Layer]:\n",
    "    cb = Callback(network, X_train, y_train, X_test, y_test, print=cb_print) if history else lambda *args: None\n",
    "    options = dict() if options is None else options\n",
    "\n",
    "    weights = get_weights(network)\n",
    "    res = minimize(\n",
    "        compute_loss_grad, weights,  \n",
    "        args=[network, X_train, y_train], \n",
    "        method=optimizer,\n",
    "        jac=True,\n",
    "        callback=cb.call,\n",
    "        options=options,\n",
    "        tol=tol\n",
    "    )\n",
    "    \n",
    "    if not res[\"success\"]:\n",
    "        raise RuntimeError(f\"Optimization failure: {res['message']}\")\n",
    "    \n",
    "    if history:\n",
    "        return network, cb\n",
    "    else:\n",
    "        return network"
   ],
   "metadata": {
    "collapsed": false,
    "ExecuteTime": {
     "end_time": "2024-02-29T18:35:30.137753800Z",
     "start_time": "2024-02-29T18:35:29.975872Z"
    }
   }
  },
  {
   "cell_type": "code",
   "outputs": [],
   "source": [
    "accs_train = np.zeros((5, 15))\n",
    "accs_test = np.zeros_like(accs_train)"
   ],
   "metadata": {
    "collapsed": false,
    "ExecuteTime": {
     "end_time": "2024-02-29T18:35:30.152756500Z",
     "start_time": "2024-02-29T18:35:29.979573300Z"
    }
   },
   "execution_count": 46
  },
  {
   "cell_type": "code",
   "execution_count": 47,
   "metadata": {
    "hidden": true,
    "ExecuteTime": {
     "end_time": "2024-02-29T18:35:59.856226900Z",
     "start_time": "2024-02-29T18:35:29.981756200Z"
    }
   },
   "outputs": [
    {
     "name": "stdout",
     "output_type": "stream",
     "text": [
      "i= 0\tj= 0\tlayer_c=1\ttrain acc: 1.0000 test acc: 0.9422\n",
      "i= 0\tj= 1\tlayer_c=1\ttrain acc: 1.0000 test acc: 0.9489\n",
      "i= 0\tj= 2\tlayer_c=1\ttrain acc: 1.0000 test acc: 0.9489\n",
      "i= 0\tj= 3\tlayer_c=1\ttrain acc: 1.0000 test acc: 0.9511\n",
      "i= 0\tj= 4\tlayer_c=1\ttrain acc: 1.0000 test acc: 0.9533\n",
      "i= 0\tj= 5\tlayer_c=1\ttrain acc: 1.0000 test acc: 0.9422\n",
      "i= 0\tj= 6\tlayer_c=1\ttrain acc: 1.0000 test acc: 0.9556\n",
      "i= 0\tj= 7\tlayer_c=1\ttrain acc: 1.0000 test acc: 0.9356\n",
      "i= 0\tj= 8\tlayer_c=1\ttrain acc: 1.0000 test acc: 0.9489\n",
      "i= 0\tj= 9\tlayer_c=1\ttrain acc: 1.0000 test acc: 0.9467\n",
      "i= 0\tj=10\tlayer_c=1\ttrain acc: 1.0000 test acc: 0.9511\n",
      "i= 0\tj=11\tlayer_c=1\ttrain acc: 1.0000 test acc: 0.9356\n",
      "i= 0\tj=12\tlayer_c=1\ttrain acc: 1.0000 test acc: 0.9444\n",
      "i= 0\tj=13\tlayer_c=1\ttrain acc: 1.0000 test acc: 0.9467\n",
      "i= 0\tj=14\tlayer_c=1\ttrain acc: 1.0000 test acc: 0.9489\n",
      "i= 1\tj= 0\tlayer_c=2\ttrain acc: 1.0000 test acc: 0.9533\n",
      "i= 1\tj= 1\tlayer_c=2\ttrain acc: 1.0000 test acc: 0.9711\n",
      "i= 1\tj= 2\tlayer_c=2\ttrain acc: 1.0000 test acc: 0.9600\n",
      "i= 1\tj= 3\tlayer_c=2\ttrain acc: 1.0000 test acc: 0.9600\n",
      "i= 1\tj= 4\tlayer_c=2\ttrain acc: 1.0000 test acc: 0.9489\n",
      "i= 1\tj= 5\tlayer_c=2\ttrain acc: 1.0000 test acc: 0.9467\n",
      "i= 1\tj= 6\tlayer_c=2\ttrain acc: 1.0000 test acc: 0.9556\n",
      "i= 1\tj= 7\tlayer_c=2\ttrain acc: 1.0000 test acc: 0.9489\n",
      "i= 1\tj= 8\tlayer_c=2\ttrain acc: 1.0000 test acc: 0.9511\n",
      "i= 1\tj= 9\tlayer_c=2\ttrain acc: 1.0000 test acc: 0.9444\n",
      "i= 1\tj=10\tlayer_c=2\ttrain acc: 1.0000 test acc: 0.9644\n",
      "i= 1\tj=11\tlayer_c=2\ttrain acc: 1.0000 test acc: 0.9622\n",
      "i= 1\tj=12\tlayer_c=2\ttrain acc: 1.0000 test acc: 0.9511\n",
      "i= 1\tj=13\tlayer_c=2\ttrain acc: 1.0000 test acc: 0.9622\n",
      "i= 1\tj=14\tlayer_c=2\ttrain acc: 1.0000 test acc: 0.9556\n",
      "i= 2\tj= 0\tlayer_c=3\ttrain acc: 1.0000 test acc: 0.9622\n",
      "i= 2\tj= 1\tlayer_c=3\ttrain acc: 1.0000 test acc: 0.9444\n",
      "i= 2\tj= 2\tlayer_c=3\ttrain acc: 1.0000 test acc: 0.9533\n",
      "i= 2\tj= 3\tlayer_c=3\ttrain acc: 1.0000 test acc: 0.9533\n",
      "i= 2\tj= 4\tlayer_c=3\ttrain acc: 1.0000 test acc: 0.9600\n",
      "i= 2\tj= 5\tlayer_c=3\t"
     ]
    },
    {
     "name": "stderr",
     "output_type": "stream",
     "text": [
      "\n",
      "KeyboardInterrupt\n",
      "\n"
     ]
    }
   ],
   "source": [
    "np.random.seed(42)\n",
    "\n",
    "for i, layer_c in zip(range(5), range(1, 5+1)):\n",
    "    for j in range(accs_train.shape[1]):\n",
    "        print(f\"{i=:2}\\t{j=:2}\\t{layer_c=}\\t\", end='')\n",
    "        network = make_network(input_size, 32, output_size, layer_c, ReLU)\n",
    "        network, cb = train_network(network, history=True)\n",
    "        \n",
    "        accs_train[i, j] = cb.train_acc[-1]\n",
    "        accs_test[i, j] = cb.test_acc[-1]\n",
    "        print(f\"train acc: {accs_train[i, j]:5.4f} test acc: {accs_test[i, j]:5.4f}\")"
   ]
  },
  {
   "cell_type": "markdown",
   "metadata": {
    "hidden": true
   },
   "source": [
    "Построим боксплоты полученного качества (горизонтальная линия в каждом столбце — среднее, прямоугольник показывает разброс)."
   ]
  },
  {
   "cell_type": "code",
   "execution_count": null,
   "metadata": {
    "collapsed": true,
    "hidden": true,
    "ExecuteTime": {
     "start_time": "2024-02-29T18:35:59.851228600Z"
    }
   },
   "outputs": [],
   "source": [
    "fig, axes = plt.subplots(2, 1, figsize=(10, 8))\n",
    "\n",
    "axes[0].boxplot(accs_train.T, showfliers=False)\n",
    "axes[1].boxplot(accs_test.T, showfliers=False)\n",
    "\n",
    "axes[0].set_xlabel(\"Number of layers\")\n",
    "axes[1].set_xlabel(\"Number of layers\")\n",
    "\n",
    "axes[0].set_ylabel(\"Train accuracy\")\n",
    "axes[1].set_ylabel(\"Test accuracy\")\n",
    "\n",
    "axes[0].set_title(f\"Train quality in {accs_train.shape[1]} runs\")\n",
    "axes[1].set_title(f\"Test quality in {accs_train.shape[1]} runs\")\n",
    "\n",
    "axes[0].grid(True)\n",
    "axes[1].grid(True)\n",
    "\n",
    "fig.tight_layout()\n",
    "plt.show()"
   ]
  },
  {
   "cell_type": "markdown",
   "metadata": {
    "hidden": true
   },
   "source": [
    "Дайте развёрнутый ответ на вопросы (в этой же ячейке):\n",
    "* Как изменяются качество на обучении и контроле и устойчивость процесса обучения при увеличении числа слоев?\n",
    "* Можно ли сказать, что логистическая регрессия (линейная модель) дает качество хуже, чем нелинейная модель?\n",
    "\n",
    "__Ответы:__\n",
    "\n",
    "Линейная модель показывает худший результат среди изученных моделей. \n",
    "На обучающей выборке модели стабильно получают точность, сравнимую с 1.\n",
    "На валидационной выборке модели получают качество на несколько процентов хуже, чем на тренировочной. \n",
    "\n",
    "Оптимальное число слоев --- 3 или 4 слоя. \n",
    "При числе слоёв > 4 начинает усиляться переобучение"
   ]
  },
  {
   "cell_type": "markdown",
   "metadata": {
    "heading_collapsed": true,
    "hidden": true
   },
   "source": [
    "### `Эксперименты c различными инициализациями весов (0.6 балла)`"
   ]
  },
  {
   "cell_type": "markdown",
   "metadata": {
    "hidden": true
   },
   "source": [
    "Как уже было сказано, начальная инициализация весов нейронной сети может сильно влиять на процесс ее обучения и, как следствие, на ее качество.\n",
    "\n",
    "В этом пункте вам предлагается попробовать обучить несколько нейронных сетей с различными инициализациями слоев.\n",
    "\n",
    "Для этого необходимо реализовать функцию, инициализирующую веса линейных слоёв нашей нейронной сети. Добавьте в функционал данного метода возможность инициализировать его веса с помощью инициализации Kaiming (используется, если в нейронной сети в качестве функций активации используется ReLU) и инициализации Xavier (используется, если в нейронной сети в качестве функций активации используется Tanh или Sigmoid):"
   ]
  },
  {
   "cell_type": "code",
   "execution_count": 48,
   "metadata": {
    "code_folding": [],
    "hidden": true,
    "ExecuteTime": {
     "end_time": "2024-02-29T18:36:08.102244700Z",
     "start_time": "2024-02-29T18:36:07.954730700Z"
    }
   },
   "outputs": [],
   "source": [
    "def initialize_network(network, initialization):\n",
    "    for layer in network:\n",
    "        if isinstance(layer, Dense):\n",
    "            input_units, output_units = layer.weights.shape\n",
    "            if initialization == 'Kaiming':\n",
    "                sigma = 2 / layer.weights.shape[0]\n",
    "                layer.weights = np.random.normal(loc=0, scale=sigma, size=layer.weights.shape)\n",
    "                \n",
    "            elif initialization == 'Xavier':\n",
    "                sigma = np.sqrt(2 / (layer.weights.shape[0] + layer.weights.shape[1]))\n",
    "                layer.weights = np.random.normal(loc=0, scale=sigma, size=layer.weights.shape)\n",
    "                \n",
    "            else:\n",
    "                # Initialize weights with small random numbers from normal distribution.\n",
    "                # In this case `initialization` represents a standard deviation\n",
    "                # for normal distribution.\n",
    "                layer.weights = np.random.randn(input_units, output_units) * initialization\n",
    "                \n",
    "            layer.biases = np.zeros_like(layer.biases)\n",
    "            \n",
    "            layer.params = [layer.weights, layer.biases]"
   ]
  },
  {
   "cell_type": "markdown",
   "metadata": {
    "hidden": true
   },
   "source": [
    "Теперь попробуйте для каждой из 3 инициализаций обучить нейронную сеть несколько раз. Попробуйте проделать данную операцию при зафиксированном числе слоев равным 3, 4 и 5."
   ]
  },
  {
   "cell_type": "markdown",
   "metadata": {
    "heading_collapsed": true,
    "hidden": true
   },
   "source": [
    "#### `3 слоя`\n",
    "\n",
    "Зафиксируйте в сети число слоев равное трем."
   ]
  },
  {
   "cell_type": "markdown",
   "metadata": {
    "hidden": true
   },
   "source": [
    "Заполните матрицы `accs_train` и `accs_test`. В позиции `[i, j]` должна стоять величина доли правильных ответов сети при $j$-м запуске (все запуски идентичны) с инициализацией Kaiming при $i = 3$, с инициализацией Xavier при $i = 4$ и с инициализацией из нормального распределения с фиксированными параметрами при $0 \\leqslant i \\leqslant 2$ (попробуйте здесь 3 разных параметра для стандартного отклонения для нормального распределения, например: `1e-3`, `1e-2`, `1e-1`). Заметьте, что при большом числе слоев слишком низкое стандартное отклонение может не давать нейронной сети нормально обучиться."
   ]
  },
  {
   "cell_type": "code",
   "execution_count": null,
   "metadata": {
    "hidden": true,
    "ExecuteTime": {
     "start_time": "2024-02-29T18:35:59.853227700Z"
    }
   },
   "outputs": [],
   "source": [
    "init_vars = [1e-3, 1e-2, 1e-1, 'Kaiming', 'Xavier']"
   ]
  },
  {
   "cell_type": "code",
   "execution_count": null,
   "metadata": {
    "hidden": true,
    "ExecuteTime": {
     "start_time": "2024-02-29T18:35:59.854228500Z"
    }
   },
   "outputs": [],
   "source": [
    "accs_train = np.zeros((5, 15))\n",
    "accs_test = np.zeros_like(accs_test)"
   ]
  },
  {
   "cell_type": "code",
   "execution_count": null,
   "metadata": {
    "hidden": true,
    "ExecuteTime": {
     "start_time": "2024-02-29T18:35:59.855227600Z"
    }
   },
   "outputs": [],
   "source": [
    "np.random.seed(42)\n",
    "layer_c = 3\n",
    "\n",
    "for i, initialization in enumerate(init_vars):\n",
    "    for j in range(accs_train.shape[1]):\n",
    "        print(f\"{i=:2}\\t{j=:2}\\t{initialization=}\\t\", end='')\n",
    "        network = make_network(input_size, 32, output_size, layer_c, ReLU)\n",
    "        initialize_network(network, initialization)\n",
    "        network, cb = train_network(network, history=True)\n",
    "        \n",
    "        accs_train[i, j] = cb.train_acc[-1]\n",
    "        accs_test[i, j] = cb.test_acc[-1]\n",
    "        print(f\"train acc: {accs_train[i, j]:5.4f} test acc: {accs_test[i, j]:5.4f}\")"
   ]
  },
  {
   "cell_type": "markdown",
   "metadata": {
    "hidden": true
   },
   "source": [
    "Построим боксплоты полученного качества (горизонтальная линия в каждом столбце — среднее, прямоугольник показывает разброс)."
   ]
  },
  {
   "cell_type": "code",
   "execution_count": null,
   "metadata": {
    "hidden": true,
    "scrolled": false,
    "ExecuteTime": {
     "end_time": "2024-02-29T18:35:59.928226800Z",
     "start_time": "2024-02-29T18:35:59.856226900Z"
    }
   },
   "outputs": [],
   "source": [
    "init_vars_for_plot = [(x if isinstance(x, str) else fr\"$\\sigma = {x}$\") for x in init_vars]\n",
    "\n",
    "fig, ax = plt.subplots(1, 1, figsize=(10, 5))\n",
    "\n",
    "ax.boxplot(accs_test.T, labels=init_vars_for_plot, showfliers=False)\n",
    "\n",
    "ax.set_title(f\"Test quality in {accs_test.shape[1]} runs\")\n",
    "ax.set_xlabel(\"Initialization\")\n",
    "ax.set_ylabel(\"Test accuracy\")\n",
    "ax.grid(True)\n",
    "\n",
    "fig.tight_layout()\n",
    "plt.show()"
   ]
  },
  {
   "cell_type": "markdown",
   "metadata": {
    "heading_collapsed": true,
    "hidden": true
   },
   "source": [
    "#### `4 слоя`\n",
    "\n",
    "Выполните тут тот же код, что и в предыдущем пункте, но только уже с 4 слоями в сети."
   ]
  },
  {
   "cell_type": "code",
   "execution_count": null,
   "metadata": {
    "hidden": true,
    "ExecuteTime": {
     "start_time": "2024-02-29T18:35:59.857228800Z"
    }
   },
   "outputs": [],
   "source": [
    "init_vars = [5e-3, 1e-2, 1e-1, 'Kaiming', 'Xavier']"
   ]
  },
  {
   "cell_type": "code",
   "execution_count": null,
   "metadata": {
    "hidden": true,
    "ExecuteTime": {
     "start_time": "2024-02-29T18:35:59.858229300Z"
    }
   },
   "outputs": [],
   "source": [
    "accs_train = np.zeros((5, 15))\n",
    "accs_test = np.zeros_like(accs_train)"
   ]
  },
  {
   "cell_type": "code",
   "execution_count": null,
   "metadata": {
    "hidden": true,
    "ExecuteTime": {
     "start_time": "2024-02-29T18:35:59.859227600Z"
    }
   },
   "outputs": [],
   "source": [
    "np.random.seed(42)\n",
    "layer_c = 4\n",
    "\n",
    "for i, initialization in enumerate(init_vars):\n",
    "    for j in range(accs_train.shape[1]):\n",
    "        print(f\"{i=:2}\\t{j=:2}\\t{initialization=}\\t\", end='')\n",
    "        network = make_network(input_size, 32, output_size, layer_c, ReLU)\n",
    "        initialize_network(network, initialization)\n",
    "        network, cb = train_network(network, history=True)\n",
    "        \n",
    "        accs_train[i, j] = cb.train_acc[-1]\n",
    "        accs_test[i, j] = cb.test_acc[-1]\n",
    "        print(f\"train acc: {accs_train[i, j]:5.4f} test acc: {accs_test[i, j]:5.4f}\")"
   ]
  },
  {
   "cell_type": "markdown",
   "metadata": {
    "hidden": true
   },
   "source": [
    "Построим боксплоты полученного качества (горизонтальная линия в каждом столбце — среднее, прямоугольник показывает разброс)."
   ]
  },
  {
   "cell_type": "code",
   "execution_count": null,
   "metadata": {
    "hidden": true,
    "scrolled": false,
    "ExecuteTime": {
     "start_time": "2024-02-29T18:35:59.860228800Z"
    }
   },
   "outputs": [],
   "source": [
    "init_vars_for_plot = [(x if isinstance(x, str) else fr\"$\\sigma = {x}$\") for x in init_vars]\n",
    "\n",
    "fig, ax = plt.subplots(1, 1, figsize=(10, 5))\n",
    "\n",
    "ax.boxplot(accs_test.T, labels=init_vars_for_plot, showfliers=False)\n",
    "\n",
    "ax.set_title(f\"Test quality in {accs_test.shape[1]} runs\")\n",
    "ax.set_xlabel(\"Initialization\")\n",
    "ax.set_ylabel(\"Test accuracy\")\n",
    "ax.grid(True)\n",
    "\n",
    "fig.tight_layout()\n",
    "plt.show()"
   ]
  },
  {
   "cell_type": "markdown",
   "metadata": {
    "heading_collapsed": true,
    "hidden": true
   },
   "source": [
    "#### `5 слоев`\n",
    "\n",
    "Выполните тут тот же код, что и в предыдущем пункте, но только уже с 5 слоями в сети."
   ]
  },
  {
   "cell_type": "code",
   "execution_count": null,
   "metadata": {
    "hidden": true,
    "ExecuteTime": {
     "start_time": "2024-02-29T18:35:59.861227400Z"
    }
   },
   "outputs": [],
   "source": [
    "init_vars = [1e-2, 1e-1, 1e0, 'Kaiming', 'Xavier']"
   ]
  },
  {
   "cell_type": "code",
   "execution_count": null,
   "metadata": {
    "hidden": true,
    "ExecuteTime": {
     "start_time": "2024-02-29T18:35:59.862227200Z"
    }
   },
   "outputs": [],
   "source": [
    "accs_train = np.zeros((5, 15))\n",
    "accs_test = np.zeros_like(accs_train)"
   ]
  },
  {
   "cell_type": "code",
   "execution_count": null,
   "metadata": {
    "hidden": true,
    "ExecuteTime": {
     "start_time": "2024-02-29T18:35:59.863229600Z"
    }
   },
   "outputs": [],
   "source": [
    "np.random.seed(42)\n",
    "layer_c = 5\n",
    "\n",
    "for i, initialization in enumerate(init_vars):\n",
    "    for j in range(accs_train.shape[1]):\n",
    "        print(f\"{i=:2}\\t{j=:2}\\t{initialization=}\\t\", end='')\n",
    "        network = make_network(input_size, 32, output_size, layer_c, ReLU)\n",
    "        initialize_network(network, initialization)\n",
    "        network, cb = train_network(network, history=True)\n",
    "        \n",
    "        accs_train[i, j] = cb.train_acc[-1]\n",
    "        accs_test[i, j] = cb.test_acc[-1]\n",
    "        print(f\"train acc: {accs_train[i, j]:5.4f} test acc: {accs_test[i, j]:5.4f}\")"
   ]
  },
  {
   "cell_type": "markdown",
   "metadata": {
    "hidden": true
   },
   "source": [
    "Построим боксплоты полученного качества (горизонтальная линия в каждом столбце — среднее, прямоугольник показывает разброс)."
   ]
  },
  {
   "cell_type": "code",
   "execution_count": null,
   "metadata": {
    "hidden": true,
    "scrolled": false,
    "ExecuteTime": {
     "start_time": "2024-02-29T18:35:59.864228800Z"
    }
   },
   "outputs": [],
   "source": [
    "init_vars_for_plot = [(x if isinstance(x, str) else fr\"$\\sigma = {x}$\") for x in init_vars]\n",
    "\n",
    "fig, ax = plt.subplots(1, 1, figsize=(10, 5))\n",
    "\n",
    "ax.boxplot(accs_test.T, labels=init_vars_for_plot, showfliers=False)\n",
    "\n",
    "ax.set_title(f\"Test quality in {accs_test.shape[1]} runs\")\n",
    "ax.set_xlabel(\"Initialization\")\n",
    "ax.set_ylabel(\"Test accuracy\")\n",
    "ax.grid(True)\n",
    "\n",
    "fig.tight_layout()\n",
    "plt.show()"
   ]
  },
  {
   "cell_type": "markdown",
   "metadata": {
    "hidden": true
   },
   "source": [
    "Дайте развёрнутый ответ на вопросы (в этой же ячейке):\n",
    "* Как отличаются качество на обучении и контроле и устойчивость процесса обучения при различных инициализациях?\n",
    "* Какие инициализации помогают обучать более глубокие сети?\n",
    "\n",
    "__Ответы:__\n",
    "\n",
    "..."
   ]
  },
  {
   "cell_type": "markdown",
   "metadata": {
    "hidden": true
   },
   "source": [
    "Теперь сравним скорость обучения при различных инициализациях. Создайте два списка списков `accs_test_on_iterations`, `accs_train_on_iterations` в каждом из которых в позиции `[i]` (см. описание `i` в предыдущем пункте) будет лежать список из значений `accuracy` на тестовой и обучающей выборках соотвественно, полученных во время обучения модели. Количество слоев в сети зафиксируйте равным 4."
   ]
  },
  {
   "cell_type": "code",
   "execution_count": null,
   "metadata": {
    "hidden": true,
    "ExecuteTime": {
     "start_time": "2024-02-29T18:35:59.865228800Z"
    }
   },
   "outputs": [],
   "source": [
    "init_vars = [1e-3, 1e-2, 1e-1, 'Kaiming', 'Xavier']"
   ]
  },
  {
   "cell_type": "code",
   "execution_count": null,
   "metadata": {
    "hidden": true,
    "ExecuteTime": {
     "start_time": "2024-02-29T18:35:59.866227900Z"
    }
   },
   "outputs": [],
   "source": [
    "accs_test_on_iterations = []\n",
    "accs_train_on_iterations = []"
   ]
  },
  {
   "cell_type": "code",
   "execution_count": null,
   "metadata": {
    "hidden": true,
    "ExecuteTime": {
     "start_time": "2024-02-29T18:35:59.867229800Z"
    }
   },
   "outputs": [],
   "source": [
    "np.random.seed(42)\n",
    "layer_c = 4\n",
    "\n",
    "for i, initialization in enumerate(init_vars):\n",
    "    print(f\"{i=}\\t{initialization=}\")\n",
    "    network = make_network(input_size, 32, output_size, layer_c, ReLU)\n",
    "    initialize_network(network, initialization)\n",
    "    network, cb = train_network(network, history=True)\n",
    "    \n",
    "    accs_test_on_iterations.append(cb.train_acc)\n",
    "    accs_train_on_iterations.append(cb.test_acc)"
   ]
  },
  {
   "cell_type": "code",
   "execution_count": null,
   "metadata": {
    "hidden": true,
    "ExecuteTime": {
     "start_time": "2024-02-29T18:35:59.868230100Z"
    }
   },
   "outputs": [],
   "source": [
    "fig, ax = plt.subplots(1, 1, figsize=(10, 5))\n",
    "\n",
    "for idx, label in enumerate(init_vars_for_plot):\n",
    "    ax.plot(accs_test_on_iterations[idx], label=label)\n",
    "\n",
    "ax.set_title(\"Test quality for different initializations\")\n",
    "ax.set_xlabel(\"Epoch number\")\n",
    "ax.set_ylabel(\"Test accuracy\")\n",
    "ax.grid(True)\n",
    "ax.legend()\n",
    "\n",
    "fig.tight_layout()\n",
    "plt.show()"
   ]
  },
  {
   "cell_type": "markdown",
   "metadata": {
    "ExecuteTime": {
     "end_time": "2021-03-03T14:37:15.087902Z",
     "start_time": "2021-03-03T14:37:15.065996Z"
    },
    "hidden": true
   },
   "source": [
    "Дайте развёрнутый ответ на вопросы (в этой же ячейке):\n",
    "* Как меняется скорость обучения в зависимости от выбранной инициализации?\n",
    "\n",
    "__Ответы:__\n",
    "\n",
    "..."
   ]
  },
  {
   "cell_type": "markdown",
   "metadata": {
    "heading_collapsed": true,
    "hidden": true
   },
   "source": [
    "### `Эксперименты c различными функциями активации (0.6 балла)`"
   ]
  },
  {
   "cell_type": "markdown",
   "metadata": {
    "hidden": true
   },
   "source": [
    "Проверим теперь, с какой функцией активации нейронная сеть будет обучаться лучше.\n",
    "\n",
    "В этом пункте вам предлагается попробовать обучить несколько нейронных сетей с различными функциями активации.\n",
    "\n",
    "Для этого нам нужно реализовать еще 2 слоя: для функций активации `Tanh` и `Sigmoid`."
   ]
  },
  {
   "cell_type": "code",
   "execution_count": 49,
   "metadata": {
    "hidden": true,
    "ExecuteTime": {
     "end_time": "2024-02-29T18:36:14.169299Z",
     "start_time": "2024-02-29T18:36:14.011288Z"
    }
   },
   "outputs": [],
   "source": [
    "class Tanh(Layer):\n",
    "    \"\"\"\n",
    "    tanh(y) = (e^y - e^(-y)) / (e^y + e^(-y))\n",
    "    Используйте функцию np.tanh для подсчета гиперболического тангенса.\n",
    "    Вы можете сами реализовать подсчет tanh, но тогда вам нужно устойчиво его вычислять.\n",
    "    \"\"\"\n",
    "    def __init__(self):\n",
    "        self.params = [] # Tanh has no parameters\n",
    "\n",
    "    def forward(self, input):\n",
    "        \"\"\"\n",
    "        Apply elementwise Tanh to [batch, num_units] matrix\n",
    "        \"\"\"\n",
    "        self.cosh = np.cosh(input)\n",
    "        return np.sinh(input) / self.cosh\n",
    "\n",
    "    def backward(self, grad_output):\n",
    "        \"\"\"\n",
    "        Compute gradient of loss w.r.t. Tanh input\n",
    "        grad_output shape: [batch, num_units]\n",
    "        output 1 shape: [batch, num_units]\n",
    "        output 2: []\n",
    "        \"\"\"\n",
    "        return -grad_output / np.power(self.cosh, 2)\n",
    "\n",
    "    def __repr__(self):\n",
    "        return 'Tanh()'"
   ]
  },
  {
   "cell_type": "code",
   "execution_count": 50,
   "metadata": {
    "hidden": true,
    "ExecuteTime": {
     "end_time": "2024-02-29T18:36:14.356627300Z",
     "start_time": "2024-02-29T18:36:14.246943400Z"
    }
   },
   "outputs": [],
   "source": [
    "from scipy.special import expit\n",
    "    \n",
    "class Sigmoid(Layer):\n",
    "    \"\"\"\n",
    "    sigmoid(y) = 1 / (1 + e^(-y))\n",
    "    Используйте функцию expit для подсчета сигмоиды.\n",
    "    Вы можете сами реализовать подсчет сигмоиды, но тогда вам нужно устойчиво ее вычислять.\n",
    "    \"\"\"\n",
    "    def __init__(self):\n",
    "        self.params = [] # Sigmoid has no parameters\n",
    "        self.output = None\n",
    "\n",
    "    def forward(self, input):\n",
    "        \"\"\"\n",
    "        Apply elementwise Sigmoid to [batch, num_units] matrix\n",
    "        \"\"\"\n",
    "        self.output = expit(input)\n",
    "        return self.output\n",
    "\n",
    "    def backward(self, grad_output):\n",
    "        \"\"\"\n",
    "        Compute gradient of loss w.r.t. Sigmoid input\n",
    "        grad_output shape: [batch, num_units]\n",
    "        output 1 shape: [batch, num_units]\n",
    "        output 2: []\n",
    "        \"\"\"\n",
    "        return self.output * (1 - self.output) * grad_output\n",
    "\n",
    "    def __repr__(self):\n",
    "        return 'Sigmoid()'"
   ]
  },
  {
   "cell_type": "markdown",
   "metadata": {
    "hidden": true
   },
   "source": [
    "Теперь попробуйте для каждой из 3 функций активации обучить нейронную сеть несколько раз. Число слоев зафиксируйте равным 3. В случае `Tanh` и `Sigmoid` используйте инициализацию `Xavier`, а в случае `ReLU` используйте инициализацию `Kaiming`."
   ]
  },
  {
   "cell_type": "markdown",
   "metadata": {
    "hidden": true
   },
   "source": [
    "Заполните матрицы `accs_train` и `accs_test`. В позиции `[i, j]` должна стоять величина доли правильных ответов сети при $j$-м запуске (все запуски идентичны) с функцией активации $ReLU$ при $i = 0$, с функцией активации $Tanh$ при $i = 1$ и с функцией активации $Sigmoid$ при $i = 2$."
   ]
  },
  {
   "cell_type": "code",
   "execution_count": 51,
   "metadata": {
    "hidden": true,
    "ExecuteTime": {
     "end_time": "2024-02-29T18:36:15.332224900Z",
     "start_time": "2024-02-29T18:36:15.216707800Z"
    }
   },
   "outputs": [],
   "source": [
    "act_func_vars = ['Tanh', 'Sigmoid', 'ReLU']\n",
    "init_for_act_funcs = ['Xavier', 'Xavier', 'Kaiming']"
   ]
  },
  {
   "cell_type": "code",
   "execution_count": null,
   "metadata": {
    "hidden": true,
    "ExecuteTime": {
     "start_time": "2024-02-29T18:35:59.872229600Z"
    }
   },
   "outputs": [],
   "source": [
    "accs_train = np.zeros((3, 50))\n",
    "accs_test = np.zeros_like(accs_train)\n",
    "layer_c = 3"
   ]
  },
  {
   "cell_type": "code",
   "execution_count": null,
   "metadata": {
    "hidden": true,
    "ExecuteTime": {
     "start_time": "2024-02-29T18:35:59.873227400Z"
    }
   },
   "outputs": [],
   "source": [
    "np.random.seed(42)\n",
    "\n",
    "for i, (act_func, init_strategy) in enumerate(zip(act_func_vars, init_for_act_funcs)):\n",
    "    for j in range(accs_train.shape[1]):\n",
    "        print(f\"{i=:2}\\t{j=:2}\\t{act_func=}\\t\", end='')\n",
    "        network = make_network(input_size, 32, output_size, layer_c, ReLU)\n",
    "        initialize_network(network, init_strategy)\n",
    "        network, cb = train_network(network, history=True)\n",
    "        \n",
    "        accs_train[i, j] = cb.train_acc[-1]\n",
    "        accs_test[i, j] = cb.test_acc[-1]\n",
    "        print(f\"train acc: {accs_train[i, j]:5.4f} test acc: {accs_test[i, j]:5.4f}\")"
   ]
  },
  {
   "cell_type": "markdown",
   "metadata": {
    "hidden": true
   },
   "source": [
    "Построим боксплоты полученного качества (горизонтальная линия в каждом столбце — среднее, прямоугольник показывает разброс)."
   ]
  },
  {
   "cell_type": "code",
   "execution_count": null,
   "metadata": {
    "hidden": true,
    "ExecuteTime": {
     "start_time": "2024-02-29T18:35:59.874228Z"
    }
   },
   "outputs": [],
   "source": [
    "fig, ax = plt.subplots(1, 1, figsize=(10, 5))\n",
    "\n",
    "ax.boxplot(accs_test.T, labels=act_func_vars, showfliers=False)\n",
    "\n",
    "ax.set_title(f\"Test quality in {accs_train.shape[1]} runs with {layer_c} layers\")\n",
    "ax.set_xlabel(\"Activation function\")\n",
    "ax.set_ylabel(\"Test accuracy\")\n",
    "ax.grid(True)\n",
    "\n",
    "fig.tight_layout()\n",
    "plt.show()"
   ]
  },
  {
   "cell_type": "markdown",
   "metadata": {
    "hidden": true
   },
   "source": [
    "Дайте развёрнутый ответ на вопросы (в этой же ячейке):\n",
    "* Как отличаются качество на обучении и контроле и устойчивость процесса обучения при различных функциях активации?\n",
    "\n",
    "__Ответы:__\n",
    "\n",
    "При использовании в качестве функций активации сигмоиды и гиперболического тангенса среднее качество оказывается сравнимым. Однако, дисперсия при использовании сигмоиды оказывается выше. \n",
    "При использовании ReLU среднее качество оказывается ниже.\n",
    "\n",
    "Преимущества ReLU не реализуются при малом количестве слоев (3), так как затухание градиентов оказывается незначительным. \n",
    "Для проверки данной гипотезы будет поставлен *дополнительный* эксперимент с количеством слоев = 5"
   ]
  },
  {
   "cell_type": "code",
   "execution_count": null,
   "outputs": [],
   "source": [
    "accs_train = np.zeros((3, 15))\n",
    "accs_test = np.zeros_like(accs_train)\n",
    "layer_c = 10"
   ],
   "metadata": {
    "collapsed": false,
    "ExecuteTime": {
     "start_time": "2024-02-29T18:35:59.875226800Z"
    }
   }
  },
  {
   "cell_type": "code",
   "execution_count": null,
   "outputs": [],
   "source": [
    "np.random.seed(42)\n",
    "\n",
    "for i, (act_func, init_strategy) in enumerate(zip(act_func_vars, init_for_act_funcs)):\n",
    "    for j in range(accs_train.shape[1]):\n",
    "        print(f\"{i=:2}\\t{j=:2}\\t{act_func=}\\t\", end='')\n",
    "        network = make_network(input_size, 32, output_size, layer_c, ReLU)\n",
    "        initialize_network(network, init_strategy)\n",
    "        network, cb = train_network(network, history=True)\n",
    "        \n",
    "        accs_train[i, j] = cb.train_acc[-1]\n",
    "        accs_test[i, j] = cb.test_acc[-1]\n",
    "        print(f\"train acc: {accs_train[i, j]:5.4f} test acc: {accs_test[i, j]:5.4f}\")"
   ],
   "metadata": {
    "collapsed": false,
    "ExecuteTime": {
     "start_time": "2024-02-29T18:35:59.876227200Z"
    }
   }
  },
  {
   "cell_type": "code",
   "outputs": [],
   "source": [
    "fig, ax = plt.subplots(1, 1, figsize=(10, 5))\n",
    "\n",
    "ax.boxplot(accs_test.T, labels=act_func_vars, showfliers=False)\n",
    "\n",
    "ax.set_title(f\"Test quality in {accs_train.shape[1]} runs with {layer_c} layers\")\n",
    "ax.set_xlabel(\"Activation function\")\n",
    "ax.set_ylabel(\"Test accuracy\")\n",
    "ax.grid(True)\n",
    "\n",
    "fig.tight_layout()\n",
    "plt.show()"
   ],
   "metadata": {
    "collapsed": false,
    "ExecuteTime": {
     "start_time": "2024-02-29T18:35:59.877228100Z"
    }
   },
   "execution_count": null
  },
  {
   "cell_type": "markdown",
   "metadata": {
    "hidden": true
   },
   "source": [
    "\\* Несколько фрагментов кода в задании написаны на основе материалов [курса по глубинному обучению на ФКН НИУ ВШЭ](https://www.hse.ru/ba/ami/courses/205504078.html)"
   ]
  },
  {
   "cell_type": "markdown",
   "metadata": {},
   "source": [
    "### `Реализация метода оптимизации (1.4 балла)`"
   ]
  },
  {
   "cell_type": "markdown",
   "metadata": {},
   "source": [
    "В этой части задания реализуйте метод оптимизации SGD + momentum. Упрощённая версия более общего алгоритма [отсюда](https://pytorch.org/docs/stable/generated/torch.optim.SGD.html):\n",
    "\n",
    "$$\n",
    "\\begin{aligned}\n",
    "    &\\rule{70mm}{0.4pt}                                                             \\\\\n",
    "    &\\textbf{input}      : \\gamma \\text{ (lr)}, \\: \\theta_0 \\text{ (params)}, \\: X \\text{ (data)},       \\\\\n",
    "    &\\hspace{13mm} \\: f(\\theta) \\text{ (objective)}, \\:\\mu \\text{ (momentum)}       \\\\[-1.ex]\n",
    "    &\\rule{70mm}{0.4pt}                                                             \\\\\n",
    "    &\\textbf{for} \\: t=1 \\: \\textbf{to} \\: \\ldots \\: \\textbf{do}                    \\\\\n",
    "    &\\hspace{5mm}\\mathcal{X} \\leftarrow \\texttt{list\\_of\\_random\\_batches}(X)\\\\\n",
    "    &\\hspace{5mm}\\textbf{for} \\: i=1 \\: \\textbf{to} \\: \\ldots \\: \\textbf{do}                    \\\\\n",
    "    &\\hspace{10mm}g_t\\leftarrow   \\nabla_{\\theta} f_t (\\theta_{t-1},\\mathcal{X}_i)      \\\\\n",
    "    &\\hspace{10mm}\\textbf{if} \\: \\mu \\neq 0                                          \\\\\n",
    "    &\\hspace{15mm}\\textbf{if} \\: t > 1                                              \\\\\n",
    "    &\\hspace{20mm} \\textbf{b}_t \\leftarrow \\mu \\textbf{b}_{t-1} + g_t               \\\\\n",
    "    &\\hspace{15mm}\\textbf{else}                                                     \\\\\n",
    "    &\\hspace{20mm} \\textbf{b}_t \\leftarrow g_t                                      \\\\\n",
    "    &\\hspace{15mm} g_t  \\leftarrow  \\textbf{b}_t                                     \\\\\n",
    "    &\\hspace{10mm}\\theta_t \\leftarrow \\theta_{t-1} - \\gamma g_t                      \\\\[-1.ex]\n",
    "    &\\rule{70mm}{0.4pt}                                                             \\\\[-1.ex]\n",
    "    &\\bf{return} \\:  \\theta_t                                                       \\\\[-1.ex]\n",
    "    &\\rule{70mm}{0.4pt}                                                             \\\\[-1.ex]\n",
    "\\end{aligned}\n",
    "$$\n",
    "\n",
    "Проще всего будет написать `custom minimizer` (смотри [документацию scipy](https://docs.scipy.org/doc/scipy/reference/generated/scipy.optimize.minimize.html))."
   ]
  },
  {
   "cell_type": "code",
   "execution_count": 52,
   "metadata": {
    "ExecuteTime": {
     "end_time": "2024-02-29T18:36:19.581382900Z",
     "start_time": "2024-02-29T18:36:19.486956500Z"
    }
   },
   "outputs": [],
   "source": [
    "from scipy.optimize import OptimizeResult\n",
    "\n",
    "\n",
    "def SGD(fun, x0, args, **kwargs) -> OptimizeResult:\n",
    "    callback = kwargs['callback']   # feed weights from each iteration to update network and log metrics\n",
    "    mu = kwargs['momentum']\n",
    "    n_iter = kwargs['n_iter']\n",
    "    gamma = kwargs['lr']\n",
    "    jac = kwargs['jac']\n",
    "    batch_size = kwargs['batch_size']\n",
    "    tolerance = kwargs['tol'] if 'tol' in kwargs else None\n",
    "    tolerance = -1.0 if tolerance is None else tolerance\n",
    "    \n",
    "    if isinstance(args, tuple) and (len(args) == 1):\n",
    "        args = args[0]\n",
    "    \n",
    "    net, X, y = args\n",
    "    \n",
    "    m = 0.0\n",
    "    weights = x0\n",
    "    nit = 0\n",
    "    msg = \"Max iterations reached\"\n",
    "    indxs = np.arange(X.shape[0])\n",
    "    \n",
    "    for i in range(n_iter):\n",
    "        np.random.shuffle(indxs)\n",
    "        batch_indxs = np.array_split(indxs, X.shape[0] // batch_size)\n",
    "        loss_sum = 0.0\n",
    "        \n",
    "        for batch_ind in batch_indxs:\n",
    "            loss = fun(weights, (net, X[batch_ind, :], y[batch_ind]))\n",
    "            grad = fun.derivative(weights, (net, X[batch_ind, :], y[batch_ind]))\n",
    "            m = mu * m + grad\n",
    "            weights -= gamma * m\n",
    "            loss_sum += loss\n",
    "        \n",
    "        if callback is not None:\n",
    "            callback(weights)\n",
    "        \n",
    "        nit += 1\n",
    "        loss_sum /= len(batch_indxs)\n",
    "        if loss_sum <= tolerance:\n",
    "            msg = f\"Convergence: loss ({loss_sum}) <= tolerance ({tolerance})\"\n",
    "            break\n",
    "    \n",
    "    res = {\n",
    "        \"message\": msg,\n",
    "        \"success\": True,\n",
    "        \"nit\": nit,\n",
    "        \"x\": weights\n",
    "    }\n",
    "    \n",
    "    return res"
   ]
  },
  {
   "cell_type": "markdown",
   "metadata": {},
   "source": [
    "**Задание 1. (0.5 балла)** Продемонстрируйте правильную работу метода оптимизации, получив `test_accuracy>=0.9`."
   ]
  },
  {
   "cell_type": "code",
   "execution_count": null,
   "metadata": {
    "ExecuteTime": {
     "start_time": "2024-02-29T18:35:59.879229500Z"
    }
   },
   "outputs": [],
   "source": [
    "layer_c = 3\n",
    "network = make_network(input_size, 32, output_size, layer_c, ReLU)\n",
    "weights = get_weights(network)\n",
    "\n",
    "res = minimize(\n",
    "    compute_loss_grad, weights,       # fun and start point\n",
    "    args=(network, X_train, y_train), # args passed to fun\n",
    "    method=SGD,                       # optimization method\n",
    "    jac=True,                         # says that gradient is computed in fun,\n",
    "    options={\n",
    "        'n_iter': 1_250,\n",
    "        'momentum': 0.9,\n",
    "        'lr': 1e-2,\n",
    "        'batch_size': 100,\n",
    "    },\n",
    "    tol=1e-3,\n",
    ")\n",
    "\n",
    "res['message'], res['nit']"
   ]
  },
  {
   "cell_type": "code",
   "outputs": [],
   "source": [
    "train_NLL = NLL(forward(network, X_train), y_train)\n",
    "test_NLL = NLL(forward(network, X_test), y_test)\n",
    "\n",
    "print(f\"Train NLL: {train_NLL:.7f}\\t\\tTest NLL: {test_NLL:.7f}\")\n",
    "\n",
    "train_accuracy = accuracy_score(y_true=y_train, y_pred=predict(network, X_train))\n",
    "test_accuracy = accuracy_score(y_true=y_test, y_pred=predict(network, X_test))\n",
    "\n",
    "print(f\"Train accuracy: {train_accuracy:.3f}\\t\\tTest accuracy: {test_accuracy:.3f}\")"
   ],
   "metadata": {
    "collapsed": false,
    "ExecuteTime": {
     "start_time": "2024-02-29T18:35:59.880229700Z"
    }
   },
   "execution_count": null
  },
  {
   "cell_type": "markdown",
   "metadata": {},
   "source": [
    "**Задание 2. (0.8 балла)** Сравните три алгоритма:\n",
    "1. LBFGS-B\n",
    "2. SGD\n",
    "3. SGD + momentum\n",
    "\n",
    "Для этого одновременно переберите следующие гиперпараметры:\n",
    "- значения `lr` на отрезке `[1e-3, 1e-1]` по логарифмической сетке\n",
    "- два значения `momentum`: `0` и `0.9`\n",
    "- значения `batch_size`: `8` и `32`\n",
    "\n",
    "В каждом запуске сохраняйте три метрики: итоговое accuracy на тесте и на трейне и время обучения.\n",
    "\n",
    "Для каждого из трёх алгоритмов выберите лучшие `lr` и `batch_size` по `test_accuracy`. Постройте для них кривые обучения (пример ниже). Сделайте выводы.\n",
    "\n",
    "![](comparison.svg)"
   ]
  },
  {
   "cell_type": "code",
   "execution_count": null,
   "metadata": {
    "ExecuteTime": {
     "start_time": "2024-02-29T18:35:59.882229700Z"
    }
   },
   "outputs": [],
   "source": [
    "optimizer = SGD\n",
    "optimizer_params = []\n",
    "\n",
    "for lr in [1e-1, 1e-2, 1e-3]:\n",
    "    for batch_size in [9, 32]:\n",
    "        optimizer_params.append({\n",
    "            'n_iter': 250,\n",
    "            'momentum': 0.0,\n",
    "            'lr': lr,\n",
    "            'batch_size': batch_size,\n",
    "        })\n",
    "\n",
    "\n",
    "accs_train = np.zeros((len(optimizer_params), 15))\n",
    "accs_test = np.zeros_like(accs_train)\n",
    "layer_c = 3\n",
    "np.random.seed(42)\n",
    "\n",
    "\n",
    "\n",
    "for i, opt_params in enumerate(optimizer_params):\n",
    "    for j in range(accs_train.shape[1]):\n",
    "        network = make_network(input_size, 32, output_size, layer_c, ReLU)\n",
    "        initialize_network(network, \"Kaiming\")\n",
    "        network, cb = train_network(\n",
    "            network, \n",
    "            history=True, \n",
    "            optimizer=optimizer,\n",
    "            options=opt_params,\n",
    "        )\n",
    "        \n",
    "        accs_train[i, j] = cb.train_acc[-1]\n",
    "        accs_test[i, j] = cb.test_acc[-1]"
   ]
  },
  {
   "cell_type": "code",
   "outputs": [],
   "source": [
    "momentum_for_plot = [f\"LR = {opt_params['lr']:.3f}\\nBatch size = {opt_params['batch_size']}\" for opt_params in optimizer_params]\n",
    "\n",
    "fig, ax = plt.subplots(1, 1, figsize=(10, 5))\n",
    "\n",
    "ax.boxplot(accs_test.T, labels=momentum_for_plot, showfliers=False)\n",
    "\n",
    "ax.set_title(f\"Test quality in {accs_test.shape[1]} runs\")\n",
    "ax.set_xlabel(\"Initialization\")\n",
    "ax.set_ylabel(\"Test accuracy\")\n",
    "ax.grid(True)\n",
    "\n",
    "fig.tight_layout()\n",
    "plt.show()"
   ],
   "metadata": {
    "collapsed": false,
    "ExecuteTime": {
     "start_time": "2024-02-29T18:35:59.883227100Z"
    }
   },
   "execution_count": null
  },
  {
   "cell_type": "code",
   "outputs": [],
   "source": [
    "momentum_for_plot = [f\"LR = {opt_params['lr']:.3f}\\nBatch size = {opt_params['batch_size']}\" for opt_params in optimizer_params]\n",
    "\n",
    "fig, ax = plt.subplots(1, 1, figsize=(10, 5))\n",
    "\n",
    "ax.boxplot(accs_test[1:, :].T, labels=momentum_for_plot[1:], showfliers=False)\n",
    "\n",
    "ax.set_title(f\"Test quality in {accs_test.shape[1]} runs\")\n",
    "ax.set_xlabel(\"Initialization\")\n",
    "ax.set_ylabel(\"Test accuracy\")\n",
    "ax.grid(True)\n",
    "\n",
    "fig.tight_layout()\n",
    "plt.show()"
   ],
   "metadata": {
    "collapsed": false,
    "ExecuteTime": {
     "start_time": "2024-02-29T18:35:59.884228300Z"
    }
   },
   "execution_count": null
  },
  {
   "cell_type": "code",
   "outputs": [],
   "source": [
    "optimizer = SGD\n",
    "optimizer_params = []\n",
    "\n",
    "for lr in [1e-1, 1e-2, 1e-3]:\n",
    "    for batch_size in [9, 32]:\n",
    "        optimizer_params.append({\n",
    "            'n_iter': 250,\n",
    "            'momentum': 0.9,\n",
    "            'lr': lr,\n",
    "            'batch_size': batch_size,\n",
    "        })\n",
    "\n",
    "\n",
    "accs_train = np.zeros((len(optimizer_params), 15))\n",
    "accs_test = np.zeros_like(accs_train)\n",
    "layer_c = 3\n",
    "np.random.seed(42)\n",
    "\n",
    "\n",
    "for i, opt_params in enumerate(optimizer_params):\n",
    "    for j in range(accs_train.shape[1]):\n",
    "        network = make_network(input_size, 32, output_size, layer_c, ReLU)\n",
    "        initialize_network(network, \"Kaiming\")\n",
    "        network, cb = train_network(\n",
    "            network, \n",
    "            history=True, \n",
    "            optimizer=optimizer,\n",
    "            options=opt_params,\n",
    "        )\n",
    "        \n",
    "        accs_train[i, j] = cb.train_acc[-1]\n",
    "        accs_test[i, j] = cb.test_acc[-1]"
   ],
   "metadata": {
    "collapsed": false,
    "ExecuteTime": {
     "start_time": "2024-02-29T18:35:59.885229700Z"
    }
   },
   "execution_count": null
  },
  {
   "cell_type": "code",
   "outputs": [],
   "source": [
    "momentum_for_plot = [f\"LR = {opt_params['lr']:.3f}\\nBatch size = {opt_params['batch_size']}\" for opt_params in optimizer_params]\n",
    "\n",
    "fig, ax = plt.subplots(1, 1, figsize=(10, 5))\n",
    "\n",
    "ax.boxplot(accs_test.T, labels=momentum_for_plot, showfliers=False)\n",
    "\n",
    "ax.set_title(f\"Test quality in {accs_test.shape[1]} runs\")\n",
    "ax.set_xlabel(\"Initialization\")\n",
    "ax.set_ylabel(\"Test accuracy\")\n",
    "ax.grid(True)\n",
    "\n",
    "fig.tight_layout()\n",
    "plt.show()"
   ],
   "metadata": {
    "collapsed": false,
    "ExecuteTime": {
     "start_time": "2024-02-29T18:35:59.886228300Z"
    }
   },
   "execution_count": null
  },
  {
   "cell_type": "code",
   "outputs": [],
   "source": [
    "momentum_for_plot = [f\"LR = {opt_params['lr']:.3f}\\nBatch size = {opt_params['batch_size']}\" for opt_params in optimizer_params]\n",
    "\n",
    "fig, ax = plt.subplots(1, 1, figsize=(10, 5))\n",
    "\n",
    "ax.boxplot(accs_test[3:, :].T, labels=momentum_for_plot[3:], showfliers=False)\n",
    "\n",
    "ax.set_title(f\"Test quality in {accs_test.shape[1]} runs\")\n",
    "ax.set_xlabel(\"Initialization\")\n",
    "ax.set_ylabel(\"Test accuracy\")\n",
    "ax.grid(True)\n",
    "\n",
    "fig.tight_layout()\n",
    "plt.show()"
   ],
   "metadata": {
    "collapsed": false,
    "ExecuteTime": {
     "start_time": "2024-02-29T18:35:59.887229500Z"
    }
   },
   "execution_count": null
  },
  {
   "cell_type": "code",
   "outputs": [],
   "source": [
    "optimizers = [SGD, SGD, \"L-BFGS-B\"]\n",
    "optimizer_params = []\n",
    "\n",
    "optimizer_params.append({\n",
    "    'n_iter': 1_250,\n",
    "    'momentum': 0.0,\n",
    "    'lr': 0.039811,\n",
    "    'batch_size': 8,\n",
    "    'tol': 1e-4,\n",
    "})\n",
    "\n",
    "optimizer_params.append({\n",
    "    'n_iter': 1_250,\n",
    "    'momentum': 0.9,\n",
    "    'lr': 0.01,\n",
    "    'batch_size': 32,\n",
    "    'tol': 1e-4,\n",
    "})\n",
    "\n",
    "optimizer_params.append({\n",
    "})\n",
    "\n",
    "accs_train = np.zeros((len(optimizer_params), 15))\n",
    "accs_test = np.zeros_like(accs_train)\n",
    "layer_c = 3\n",
    "np.random.seed(42)\n",
    "\n",
    "\n",
    "for i, (opt, opt_params) in enumerate(zip(optimizers, optimizer_params)):\n",
    "    for j in range(accs_train.shape[1]):\n",
    "        network = make_network(input_size, 32, output_size, layer_c, ReLU)\n",
    "        initialize_network(network, \"Kaiming\")\n",
    "        network, cb = train_network(\n",
    "            network, \n",
    "            history=True, \n",
    "            optimizer=opt,\n",
    "            options=opt_params,\n",
    "        )\n",
    "        \n",
    "        accs_train[i, j] = cb.train_acc[-1]\n",
    "        accs_test[i, j] = cb.test_acc[-1]"
   ],
   "metadata": {
    "collapsed": false,
    "ExecuteTime": {
     "start_time": "2024-02-29T18:35:59.888229Z"
    }
   },
   "execution_count": null
  },
  {
   "cell_type": "code",
   "outputs": [],
   "source": [
    "momentum_for_plot = [\"SGD\", \"SGD with Momentum\", \"L-BFGS-B\"]\n",
    "\n",
    "fig, ax = plt.subplots(1, 1, figsize=(10, 5))\n",
    "\n",
    "ax.boxplot(accs_test.T, labels=momentum_for_plot, showfliers=False)\n",
    "\n",
    "ax.set_title(f\"Test quality in {accs_test.shape[1]} runs\")\n",
    "ax.set_xlabel(\"Optimizer\")\n",
    "ax.set_ylabel(\"Test accuracy\")\n",
    "ax.grid(True)\n",
    "\n",
    "fig.tight_layout()\n",
    "plt.show()"
   ],
   "metadata": {
    "collapsed": false,
    "ExecuteTime": {
     "start_time": "2024-02-29T18:35:59.889227800Z"
    }
   },
   "execution_count": null
  },
  {
   "cell_type": "code",
   "outputs": [],
   "source": [
    "optimizers = [SGD, SGD, \"L-BFGS-B\"]\n",
    "optimizer_params = []\n",
    "\n",
    "optimizer_params.append({\n",
    "    'n_iter': 250,\n",
    "    'momentum': 0.0,\n",
    "    'lr': 0.1,\n",
    "    'batch_size': 32,\n",
    "})\n",
    "\n",
    "optimizer_params.append({\n",
    "    'n_iter': 250,\n",
    "    'momentum': 0.9,\n",
    "    'lr': 0.01,\n",
    "    'batch_size': 32,\n",
    "})\n",
    "\n",
    "optimizer_params.append({})\n",
    "\n",
    "accs_train = []\n",
    "accs_test = []\n",
    "layer_c = 3\n",
    "np.random.seed(42)\n",
    "\n",
    "\n",
    "for i, (opt, opt_params) in enumerate(zip(optimizers, optimizer_params)):\n",
    "    network = make_network(input_size, 32, output_size, layer_c, ReLU)\n",
    "    initialize_network(network, \"Kaiming\")\n",
    "    network, cb = train_network(\n",
    "        network, \n",
    "        history=True, \n",
    "        optimizer=opt,\n",
    "        options=opt_params,\n",
    "    )\n",
    "    \n",
    "    accs_train.append(cb.train_acc)\n",
    "    accs_test.append(cb.test_acc)"
   ],
   "metadata": {
    "collapsed": false,
    "ExecuteTime": {
     "start_time": "2024-02-29T18:35:59.890227600Z"
    }
   },
   "execution_count": null
  },
  {
   "cell_type": "code",
   "outputs": [],
   "source": [
    "fig, ax = plt.subplots(nrows=1, ncols=2, figsize=(16, 5))\n",
    "colors = ['r', 'g', 'b']\n",
    "optimizer_labels = [\"SGD\", \"SGD with Momentum\", \"L-BFGS-B\"]\n",
    "\n",
    "for train_acc, test_acc, color, label in zip(accs_train, accs_test, colors, optimizer_labels):\n",
    "    ax[0].plot(train_acc, f'{color}--', label=f'{label} train')\n",
    "    ax[1].plot(test_acc, f'{color}-', label=f'{label} test')\n",
    "\n",
    "for i in range(2):\n",
    "    ax[i].set_xlabel(\"Iteration\")\n",
    "    ax[i].set_ylabel(\"Accuracy\")\n",
    "    ax[i].grid(True)\n",
    "    ax[i].legend()\n",
    "\n",
    "fig.tight_layout()\n",
    "plt.show()"
   ],
   "metadata": {
    "collapsed": false,
    "ExecuteTime": {
     "start_time": "2024-02-29T18:35:59.891229900Z"
    }
   },
   "execution_count": null
  },
  {
   "cell_type": "markdown",
   "metadata": {},
   "source": [
    "**Выводы:**"
   ]
  },
  {
   "cell_type": "markdown",
   "metadata": {},
   "source": []
  },
  {
   "cell_type": "markdown",
   "metadata": {},
   "source": [
    "**Задание 3. (0.1 балла)** Для отобранных в прошлом задании трёх алгоритмов ответье на вопрос: как меняются запуски для двух значений `batch_size`."
   ]
  },
  {
   "cell_type": "markdown",
   "metadata": {},
   "source": [
    "**Ответ:**"
   ]
  },
  {
   "cell_type": "markdown",
   "metadata": {},
   "source": []
  },
  {
   "cell_type": "markdown",
   "metadata": {
    "heading_collapsed": true
   },
   "source": [
    "## `Бонусная часть`"
   ]
  },
  {
   "cell_type": "markdown",
   "source": [
    "Доп. эксперимент. Исследование работы SGD с неточной (усл-я Армиха-Вульфа) оптимизацией шага обучения"
   ],
   "metadata": {
    "collapsed": false
   }
  },
  {
   "cell_type": "code",
   "outputs": [],
   "source": [],
   "metadata": {
    "collapsed": false,
    "ExecuteTime": {
     "start_time": "2024-02-29T18:35:59.892228100Z"
    }
   }
  },
  {
   "cell_type": "markdown",
   "metadata": {
    "hidden": true
   },
   "source": [
    "### `Реализация метода оптимизации (1 балл)`\n",
    "\n",
    "Реализуйте метод оптимизации Adam и сравните его работу с SGD + momentum, проведя эксперимент, как в задании 2 (перебор гиперпараметров + кривые обучения)."
   ]
  },
  {
   "cell_type": "code",
   "outputs": [],
   "source": [
    "def Adam(fun, x0, args, **kwargs) -> OptimizeResult:\n",
    "    callback = kwargs['callback']   # feed weights from each iteration to update network and log metrics\n",
    "    beta_momentum = kwargs['beta_momentum']\n",
    "    beta_grad = kwargs['beta_grad']\n",
    "    n_iter = kwargs['n_iter']\n",
    "    gamma = kwargs['lr']\n",
    "    jac = kwargs['jac']\n",
    "    batch_size = kwargs['batch_size']\n",
    "    tolerance = kwargs['tol'] if 'tol' in kwargs else None\n",
    "    tolerance = -1.0 if tolerance is None else tolerance\n",
    "    eps = 1e-6\n",
    "    \n",
    "    if isinstance(args, tuple) and (len(args) == 1):\n",
    "        args = args[0]\n",
    "    \n",
    "    net, X, y = args\n",
    "    \n",
    "    m = 0.0\n",
    "    v = 0.0\n",
    "    weights = x0\n",
    "    nit = 0\n",
    "    msg = \"Max iterations reached\"\n",
    "    \n",
    "    for i in range(1, n_iter+1):\n",
    "        batch_indxs = np.array_split(np.arange(X.shape[0]), X.shape[0] // batch_size)\n",
    "        loss_sum = 0.0\n",
    "        \n",
    "        for batch_ind in batch_indxs:\n",
    "            # print(f\"NEGRO\")\n",
    "            loss = fun(weights, (net, X[batch_ind, :], y[batch_ind]))\n",
    "            grad = fun.derivative(weights, (net, X[batch_ind, :], y[batch_ind]))\n",
    "            m = beta_momentum * m + (1 - beta_momentum) * grad\n",
    "            v = beta_grad * v + (1 - beta_grad) * np.power(grad, 2)\n",
    "            \n",
    "            m_hat = m / (1 - np.power(beta_momentum, i))\n",
    "            v_hat = v / (1 - np.power(beta_grad, i))\n",
    "            \n",
    "            delta = (m_hat / (v_hat + eps))\n",
    "            print(f\"Grad norm = {np.linalg.norm(delta) / len(delta)}\")\n",
    "            \n",
    "            weights -= gamma * delta\n",
    "            loss_sum += loss\n",
    "        \n",
    "        if callback is not None:\n",
    "            callback(weights)\n",
    "        \n",
    "        nit += 1\n",
    "        loss_sum /= len(batch_indxs)\n",
    "        if loss_sum <= tolerance:\n",
    "            msg = f\"Convergence: loss ({loss_sum}) <= tolerance ({tolerance})\"\n",
    "            break\n",
    "    \n",
    "    res = {\n",
    "        \"message\": msg,\n",
    "        \"success\": True,\n",
    "        \"nit\": nit,\n",
    "        \"x\": weights\n",
    "    }\n",
    "    \n",
    "    return res"
   ],
   "metadata": {
    "collapsed": false,
    "ExecuteTime": {
     "end_time": "2024-02-29T18:36:27.816484300Z",
     "start_time": "2024-02-29T18:36:27.711970500Z"
    }
   },
   "execution_count": 53
  },
  {
   "cell_type": "code",
   "outputs": [
    {
     "name": "stdout",
     "output_type": "stream",
     "text": [
      "Grad norm = 4.236577326923739\n",
      "Grad norm = 2.6435598243936673\n",
      "Grad norm = 2.1032845444620825\n",
      "Grad norm = 1.9019861952086707\n",
      "Grad norm = 1.7798966063743875\n",
      "Grad norm = 1.6555316823508308\n",
      "Grad norm = 1.5726293528473536\n",
      "Grad norm = 1.499890604391879\n",
      "Grad norm = 1.4262549160448468\n",
      "Grad norm = 1.3778543601424371\n",
      "Grad norm = 1.3446627491873546\n",
      "Grad norm = 1.2974564817284002\n",
      "Grad norm = 1.2379525959157884\n",
      "Grad norm = 1.1820602872442185\n",
      "Grad norm = 1.1220730970338706\n",
      "Grad norm = 1.0556109681081474\n",
      "Grad norm = 1.0008278024360493\n",
      "Grad norm = 0.962858303644243\n",
      "Grad norm = 0.9271382113296612\n",
      "Grad norm = 0.8922124629458423\n",
      "Grad norm = 0.85762703150139\n",
      "Grad norm = 0.8228881436527096\n",
      "Grad norm = 0.7939378054337831\n",
      "Grad norm = 0.7675756576278319\n",
      "Grad norm = 0.7564202981842019\n",
      "Grad norm = 0.7497007758894136\n",
      "Grad norm = 0.7362839531747549\n",
      "Grad norm = 0.7166151418775549\n",
      "Grad norm = 0.6990312718457355\n",
      "Grad norm = 0.6911297141396222\n",
      "Grad norm = 0.6826264821596867\n",
      "Grad norm = 0.6667357177313088\n",
      "Grad norm = 0.6428969576382829\n",
      "Grad norm = 0.618974569264904\n",
      "Grad norm = 0.5971270498890633\n",
      "Grad norm = 0.576663146047658\n",
      "Grad norm = 0.5565077898124603\n",
      "Grad norm = 0.5363504626967982\n",
      "Grad norm = 0.5118288643475425\n",
      "Grad norm = 0.4865362201241999\n",
      "Grad norm = 0.4640914779011668\n",
      "Grad norm = 0.4466364133893758\n",
      "Grad norm = 0.42946014607494615\n",
      "Grad norm = 0.41528589338173433\n",
      "Grad norm = 0.3975884187840441\n",
      "Grad norm = 0.3803620670319019\n",
      "Grad norm = 0.36694150538379977\n",
      "Grad norm = 0.35212998013379476\n",
      "Grad norm = 0.34368966965975717\n",
      "Grad norm = 0.3345665495320146\n",
      "Grad norm = 0.32767990459140256\n",
      "Grad norm = 0.3171779971316735\n",
      "Grad norm = 0.3048222267692057\n",
      "Grad norm = 0.29286810335645985\n",
      "Grad norm = 0.2801554118094164\n",
      "Grad norm = 0.2685906184943274\n",
      "Grad norm = 0.2574325939641144\n",
      "Grad norm = 0.24760433492590758\n",
      "Grad norm = 0.23883176162168726\n",
      "Grad norm = 0.2298226087156004\n",
      "Grad norm = 0.22177350793807196\n",
      "Grad norm = 0.21396403178553916\n",
      "Grad norm = 0.20747123684506014\n",
      "Grad norm = 0.2008994535743905\n",
      "Grad norm = 0.1927545896760693\n",
      "Grad norm = 0.18552757065141892\n",
      "Grad norm = 0.1786448163931228\n",
      "Grad norm = 0.1707471761924705\n",
      "Grad norm = 0.16365026226026402\n",
      "Grad norm = 0.1573743576455096\n",
      "Grad norm = 0.15039012661565224\n",
      "Grad norm = 0.14223840462620493\n",
      "Grad norm = 0.13506196329567605\n",
      "Grad norm = 0.12951746186754695\n",
      "Grad norm = 0.12328811047211377\n",
      "Grad norm = 0.11688226849309362\n",
      "Grad norm = 0.11152145004014158\n",
      "Grad norm = 0.10763148333064029\n",
      "Grad norm = 0.10320376678059119\n",
      "Grad norm = 0.09902347416736054\n",
      "Grad norm = 0.09536627984548475\n",
      "Grad norm = 0.09191641353338613\n",
      "Grad norm = 0.08899745230590943\n",
      "Grad norm = 0.08509231040889981\n",
      "Grad norm = 0.0816796872241534\n",
      "Grad norm = 0.07867852549827922\n",
      "Grad norm = 0.07606289596185199\n",
      "Grad norm = 0.07344837614010975\n",
      "Grad norm = 0.07055804295092136\n",
      "Grad norm = 0.0684829753559906\n",
      "Grad norm = 0.06677586495152966\n",
      "Grad norm = 0.06578696994640977\n",
      "Grad norm = 0.06379457105250613\n",
      "Grad norm = 0.061683516485593295\n",
      "Grad norm = 0.06025826106629638\n",
      "Grad norm = 0.058922181943564814\n",
      "Grad norm = 0.0581859800929492\n",
      "Grad norm = 0.056236084698066124\n",
      "Grad norm = 0.05459443140146338\n",
      "Grad norm = 0.05338336043462366\n",
      "Grad norm = 0.05249839091487179\n",
      "Grad norm = 0.05173739722552927\n",
      "Grad norm = 0.050358341429507514\n",
      "Grad norm = 0.04936407794937174\n",
      "Grad norm = 0.04816268254462738\n",
      "Grad norm = 0.04743851626101961\n",
      "Grad norm = 0.046393917793262816\n",
      "Grad norm = 0.04525688254241138\n",
      "Grad norm = 0.04452977980418611\n",
      "Grad norm = 0.043814509280448714\n",
      "Grad norm = 0.043127553122130194\n",
      "Grad norm = 0.04245330052066425\n",
      "Grad norm = 0.04114904726075294\n",
      "Grad norm = 0.040478703435862226\n",
      "Grad norm = 0.03962797657882088\n",
      "Grad norm = 0.039299827009032035\n",
      "Grad norm = 0.03860539805635619\n",
      "Grad norm = 0.03791681766903152\n",
      "Grad norm = 0.037441204963125606\n",
      "Grad norm = 0.036860068348894395\n",
      "Grad norm = 0.036563330728310896\n",
      "Grad norm = 0.03582429132872013\n",
      "Grad norm = 0.035336840580363175\n",
      "Grad norm = 0.03492358396604376\n",
      "Grad norm = 0.034543036389089\n",
      "Grad norm = 0.03430191527800694\n",
      "Grad norm = 0.03341880529883104\n",
      "Grad norm = 0.03311339577888442\n",
      "Grad norm = 0.0326535364215368\n",
      "Grad norm = 0.032599433426116396\n",
      "Grad norm = 0.03206266906827881\n",
      "Grad norm = 0.031474665708220204\n",
      "Grad norm = 0.031233830282646095\n",
      "Grad norm = 0.030781389479705705\n",
      "Grad norm = 0.030703409236834216\n",
      "Grad norm = 0.030150482682886146\n",
      "Grad norm = 0.029735199431492818\n",
      "Grad norm = 0.029451013636510735\n",
      "Grad norm = 0.029141293254382316\n",
      "Grad norm = 0.02901844027249309\n",
      "Grad norm = 0.028550516321546086\n",
      "Grad norm = 0.028187436311318932\n",
      "Grad norm = 0.027912502857611845\n",
      "Grad norm = 0.02754864749897756\n",
      "Grad norm = 0.027347103995734322\n",
      "Grad norm = 0.027010119824775466\n",
      "Grad norm = 0.02678877007373919\n",
      "Grad norm = 0.02656985038315229\n",
      "Grad norm = 0.026125022579778414\n",
      "Grad norm = 0.025865040501073577\n",
      "Grad norm = 0.025646485563362773\n",
      "Grad norm = 0.02573216794036624\n",
      "Grad norm = 0.02523438355545777\n",
      "Grad norm = 0.02492698847615449\n",
      "Grad norm = 0.0247737716145391\n",
      "Grad norm = 0.024500733725868137\n",
      "Grad norm = 0.024543208567478218\n",
      "Grad norm = 0.024129677632466436\n",
      "Grad norm = 0.023929818690684092\n",
      "Grad norm = 0.023743732056981957\n",
      "Grad norm = 0.023513243770177803\n",
      "Grad norm = 0.023546578400028526\n",
      "Grad norm = 0.02315305165946163\n",
      "Grad norm = 0.02301487239662574\n",
      "Grad norm = 0.02290237985494825\n",
      "Grad norm = 0.02272042726050751\n",
      "Grad norm = 0.022476787204508682\n",
      "Grad norm = 0.022148952742251517\n",
      "Grad norm = 0.021994766170883324\n",
      "Grad norm = 0.021774259322919185\n",
      "Grad norm = 0.02192530241170826\n",
      "Grad norm = 0.02140236132686839\n",
      "Grad norm = 0.02119164187363383\n",
      "Grad norm = 0.0211568988071409\n",
      "Grad norm = 0.0209014389166188\n",
      "Grad norm = 0.02101250608857965\n",
      "Grad norm = 0.020686616222913713\n",
      "Grad norm = 0.020543932151088996\n",
      "Grad norm = 0.020443457106287154\n",
      "Grad norm = 0.02017766860328258\n",
      "Grad norm = 0.020365600279103863\n",
      "Grad norm = 0.019924845942497445\n",
      "Grad norm = 0.019901395796009417\n",
      "Grad norm = 0.01989287961832638\n",
      "Grad norm = 0.01959228197020662\n",
      "Grad norm = 0.019519811598142457\n",
      "Grad norm = 0.019176037285964367\n",
      "Grad norm = 0.019037163022086787\n",
      "Grad norm = 0.018942341417749305\n",
      "Grad norm = 0.018929058814406954\n",
      "Grad norm = 0.018660065593285573\n",
      "Grad norm = 0.018470461947942225\n",
      "Grad norm = 0.01840413870094895\n",
      "Grad norm = 0.01826152253777416\n",
      "Grad norm = 0.018103611810715004\n",
      "Grad norm = 0.018006115640504174\n",
      "Grad norm = 0.017934658382171897\n",
      "Grad norm = 0.017733607131385762\n",
      "Grad norm = 0.017638200676199787\n",
      "Grad norm = 0.01759939747333238\n",
      "Grad norm = 0.01735443039411297\n",
      "Grad norm = 0.017279251419844523\n",
      "Grad norm = 0.01725100994867378\n",
      "Grad norm = 0.01697699935598439\n",
      "Grad norm = 0.01686496282745868\n",
      "Grad norm = 0.016775710278391844\n",
      "Grad norm = 0.016720507475501006\n",
      "Grad norm = 0.016566958434462212\n",
      "Grad norm = 0.01647595957973149\n",
      "Grad norm = 0.01640159598118819\n",
      "Grad norm = 0.016314590659237786\n",
      "Grad norm = 0.016198861148710008\n",
      "Grad norm = 0.016125055828863352\n",
      "Grad norm = 0.015935247845706758\n",
      "Grad norm = 0.015819104662901734\n",
      "Grad norm = 0.01576521232943964\n",
      "Grad norm = 0.015572159960668033\n",
      "Grad norm = 0.01549169140198186\n",
      "Grad norm = 0.01540896817277579\n",
      "Grad norm = 0.015341086150610953\n",
      "Grad norm = 0.01515252023699032\n",
      "Grad norm = 0.015124292547447332\n",
      "Grad norm = 0.015086948116589408\n",
      "Grad norm = 0.015008306225253856\n",
      "Grad norm = 0.014935407963358174\n",
      "Grad norm = 0.014834093832120974\n",
      "Grad norm = 0.01472482896288942\n",
      "Grad norm = 0.014756818130867752\n",
      "Grad norm = 0.014572378556791943\n",
      "Grad norm = 0.014513436394355922\n",
      "Grad norm = 0.014464836879534914\n",
      "Grad norm = 0.014467684501700846\n",
      "Grad norm = 0.014278695121182213\n",
      "Grad norm = 0.014169406115765658\n",
      "Grad norm = 0.014117693875938375\n",
      "Grad norm = 0.014087236259017345\n",
      "Grad norm = 0.014105880775981823\n",
      "Grad norm = 0.013888831307640135\n",
      "Grad norm = 0.013878204924532516\n",
      "Grad norm = 0.013819185112676784\n",
      "Grad norm = 0.01371280244278624\n",
      "Grad norm = 0.013683997438020944\n",
      "Grad norm = 0.013436358142858701\n",
      "Grad norm = 0.013418851600907547\n",
      "Grad norm = 0.013379245160153767\n",
      "Grad norm = 0.01322682966784716\n",
      "Grad norm = 0.013375936811814914\n",
      "Grad norm = 0.013103867088217033\n",
      "Grad norm = 0.013026794491991086\n",
      "Grad norm = 0.013061651772483099\n",
      "Grad norm = 0.012853006089685344\n",
      "Grad norm = 0.012945888413243744\n",
      "Grad norm = 0.0127265934902286\n",
      "Grad norm = 0.012702482631546852\n",
      "Grad norm = 0.012696383054995352\n",
      "Grad norm = 0.012518289850376143\n",
      "Grad norm = 0.012763446832515003\n",
      "Grad norm = 0.012430099008520965\n",
      "Grad norm = 0.012378184106511153\n",
      "Grad norm = 0.012408672808278901\n",
      "Grad norm = 0.01222107520662872\n",
      "Grad norm = 0.012266600556708722\n",
      "Grad norm = 0.012190049720450343\n",
      "Grad norm = 0.011944858461940051\n",
      "Grad norm = 0.011917781890472786\n",
      "Grad norm = 0.01197132900421217\n",
      "Grad norm = 0.011745103450286903\n",
      "Grad norm = 0.011900076983978056\n",
      "Grad norm = 0.011648311872256789\n",
      "Grad norm = 0.011550306103318874\n",
      "Grad norm = 0.011582930576780098\n",
      "Grad norm = 0.011405331230188383\n",
      "Grad norm = 0.011470525856397296\n",
      "Grad norm = 0.011288950354144319\n",
      "Grad norm = 0.011244279183635639\n",
      "Grad norm = 0.01122765201637424\n",
      "Grad norm = 0.01110174615687827\n",
      "Grad norm = 0.011160415573128194\n",
      "Grad norm = 0.010980480804088411\n",
      "Grad norm = 0.010983361347871989\n",
      "Grad norm = 0.010883301790068634\n",
      "Grad norm = 0.010889788861063222\n",
      "Grad norm = 0.010778783352505476\n",
      "Grad norm = 0.010707827651138906\n",
      "Grad norm = 0.010669499020650492\n",
      "Grad norm = 0.01058208560159183\n",
      "Grad norm = 0.010562500865411899\n",
      "Grad norm = 0.010485308576446334\n",
      "Grad norm = 0.010420837271881948\n",
      "Grad norm = 0.01038353658668592\n",
      "Grad norm = 0.010312153380975249\n",
      "Grad norm = 0.010415404850138523\n",
      "Grad norm = 0.010220591941944895\n",
      "Grad norm = 0.010192983098651924\n",
      "Grad norm = 0.010227682848515553\n",
      "Grad norm = 0.0100938403517985\n",
      "Grad norm = 0.010032943726164445\n",
      "Grad norm = 0.009947146384887053\n",
      "Grad norm = 0.009905591087339214\n",
      "Grad norm = 0.009881172257327339\n",
      "Grad norm = 0.009827749210270815\n",
      "Grad norm = 0.009848219018470819\n",
      "Grad norm = 0.009699099759415375\n",
      "Grad norm = 0.009684427025082886\n",
      "Grad norm = 0.009588258738989905\n",
      "Grad norm = 0.009570140758755598\n",
      "Grad norm = 0.009468148902309303\n",
      "Grad norm = 0.009452932441785968\n",
      "Grad norm = 0.00941305684283241\n",
      "Grad norm = 0.009400076388346822\n",
      "Grad norm = 0.009319176404328654\n",
      "Grad norm = 0.00925600917761349\n",
      "Grad norm = 0.00921901288289882\n",
      "Grad norm = 0.009190522012173108\n",
      "Grad norm = 0.009140904545742685\n",
      "Grad norm = 0.009086352036042638\n",
      "Grad norm = 0.009086843798233577\n",
      "Grad norm = 0.008979744548132317\n",
      "Grad norm = 0.00894574884668582\n",
      "Grad norm = 0.008887371692932031\n",
      "Grad norm = 0.00885690420878829\n",
      "Grad norm = 0.008797827862594034\n",
      "Grad norm = 0.008784303623368158\n",
      "Grad norm = 0.008727485701257757\n",
      "Grad norm = 0.008663621048327158\n",
      "Grad norm = 0.008703663310065458\n",
      "Grad norm = 0.008606419226466513\n",
      "Grad norm = 0.008572260674926292\n",
      "Grad norm = 0.008517002414491093\n",
      "Grad norm = 0.008561844247683447\n",
      "Grad norm = 0.008445039261145211\n",
      "Grad norm = 0.008402132291130007\n",
      "Grad norm = 0.008361910401237363\n",
      "Grad norm = 0.008406180407421441\n",
      "Grad norm = 0.008277461900130621\n",
      "Grad norm = 0.008268408958311688\n",
      "Grad norm = 0.008206265751084492\n",
      "Grad norm = 0.008157872527195593\n",
      "Grad norm = 0.008140858358536193\n",
      "Grad norm = 0.008096670298223927\n",
      "Grad norm = 0.008093071236959657\n",
      "Grad norm = 0.00806836016784782\n",
      "Grad norm = 0.007980137065499913\n",
      "Grad norm = 0.007988814749358315\n",
      "Grad norm = 0.007963092741482268\n",
      "Grad norm = 0.007937494277667418\n",
      "Grad norm = 0.007852755510386444\n",
      "Grad norm = 0.007868270043144724\n",
      "Grad norm = 0.007791213197475377\n",
      "Grad norm = 0.007847316020565789\n",
      "Grad norm = 0.00771913694331546\n",
      "Grad norm = 0.007698879345872479\n",
      "Grad norm = 0.007698002915850435\n",
      "Grad norm = 0.007658533997902273\n",
      "Grad norm = 0.00760380601753153\n",
      "Grad norm = 0.007540335181648762\n",
      "Grad norm = 0.0075642521725614005\n",
      "Grad norm = 0.007503542856549783\n",
      "Grad norm = 0.007456874828909015\n",
      "Grad norm = 0.007415621538735943\n",
      "Grad norm = 0.007373354944680453\n",
      "Grad norm = 0.00734870022097723\n",
      "Grad norm = 0.007330064278731753\n",
      "Grad norm = 0.007286017062561462\n",
      "Grad norm = 0.007284808847509489\n",
      "Grad norm = 0.007244059831824309\n",
      "Grad norm = 0.007235853875107288\n",
      "Grad norm = 0.0071847955909578355\n",
      "Grad norm = 0.007145931840301394\n",
      "Grad norm = 0.007123762857355782\n",
      "Grad norm = 0.007073774793819399\n",
      "Grad norm = 0.007120204398099623\n",
      "Grad norm = 0.00703189504564955\n",
      "Grad norm = 0.00699438272339313\n",
      "Grad norm = 0.0069823983031274735\n",
      "Grad norm = 0.006905580167179813\n",
      "Grad norm = 0.006968707309938805\n",
      "Grad norm = 0.006852538946408153\n",
      "Grad norm = 0.006850297438114946\n",
      "Grad norm = 0.006805873188722695\n",
      "Grad norm = 0.00681960241421152\n",
      "Grad norm = 0.006756848729533587\n",
      "Grad norm = 0.006722217926121397\n",
      "Grad norm = 0.0067331673690058085\n",
      "Grad norm = 0.00667251922800481\n",
      "Grad norm = 0.006664148255003154\n",
      "Grad norm = 0.006638036416519842\n",
      "Grad norm = 0.006587436624577776\n",
      "Grad norm = 0.006554180383414335\n",
      "Grad norm = 0.006543759830689582\n",
      "Grad norm = 0.006482193541693681\n",
      "Grad norm = 0.0064680646512260895\n",
      "Grad norm = 0.006472496997589473\n",
      "Grad norm = 0.006397626922220656\n",
      "Grad norm = 0.006392682445265302\n",
      "Grad norm = 0.006362956130461797\n",
      "Grad norm = 0.0063343402962282545\n",
      "Grad norm = 0.006308383974929767\n",
      "Grad norm = 0.006285740639644401\n",
      "Grad norm = 0.006291676878906831\n",
      "Grad norm = 0.006237505284382841\n",
      "Grad norm = 0.006233795564163183\n",
      "Grad norm = 0.006215457100463751\n",
      "Grad norm = 0.0061722783330583385\n",
      "Grad norm = 0.006156734169367878\n",
      "Grad norm = 0.006109058425462247\n",
      "Grad norm = 0.006079589630852187\n",
      "Grad norm = 0.006060624612141837\n",
      "Grad norm = 0.006033694936084106\n",
      "Grad norm = 0.006012496241823061\n",
      "Grad norm = 0.006024034330562167\n",
      "Grad norm = 0.005973627009199474\n",
      "Grad norm = 0.005958578114540621\n",
      "Grad norm = 0.005956554983750646\n",
      "Grad norm = 0.005899488367128524\n",
      "Grad norm = 0.005872558011672084\n",
      "Grad norm = 0.005848048412277217\n",
      "Grad norm = 0.005877514394242666\n",
      "Grad norm = 0.005818702902085737\n",
      "Grad norm = 0.005799488598141375\n",
      "Grad norm = 0.005760494012360785\n",
      "Grad norm = 0.0057511568620680605\n",
      "Grad norm = 0.005714495256311552\n",
      "Grad norm = 0.005697395034479545\n",
      "Grad norm = 0.005680353253552646\n",
      "Grad norm = 0.005655622353461412\n",
      "Grad norm = 0.005621242847485917\n",
      "Grad norm = 0.005607691353318595\n",
      "Grad norm = 0.005657825375290099\n",
      "Grad norm = 0.005573636081404192\n",
      "Grad norm = 0.005576279480321829\n",
      "Grad norm = 0.00553595558497322\n",
      "Grad norm = 0.005534392814375969\n",
      "Grad norm = 0.005476793849958982\n",
      "Grad norm = 0.005463947817701779\n",
      "Grad norm = 0.005455135855325414\n",
      "Grad norm = 0.00542576345712375\n",
      "Grad norm = 0.005412817727942299\n",
      "Grad norm = 0.0054103893291289964\n",
      "Grad norm = 0.00536556497951075\n",
      "Grad norm = 0.005354872930261456\n",
      "Grad norm = 0.005337103258940713\n",
      "Grad norm = 0.005310379874777315\n",
      "Grad norm = 0.005296193415301909\n",
      "Grad norm = 0.005296698452051985\n",
      "Grad norm = 0.005252228498921434\n",
      "Grad norm = 0.005247990159816571\n",
      "Grad norm = 0.005233166854637431\n",
      "Grad norm = 0.005197198658897619\n",
      "Grad norm = 0.005175305011563312\n",
      "Grad norm = 0.005174815194879934\n",
      "Grad norm = 0.0051812258177095305\n",
      "Grad norm = 0.005117285034987306\n",
      "Grad norm = 0.005101328182721212\n",
      "Grad norm = 0.005072486520376457\n",
      "Grad norm = 0.005076687865308137\n",
      "Grad norm = 0.005030296345774482\n",
      "Grad norm = 0.005039912214865965\n",
      "Grad norm = 0.0050367469334607\n",
      "Grad norm = 0.004980375435960606\n",
      "Grad norm = 0.004979579110907556\n",
      "Grad norm = 0.004985249766511899\n",
      "Grad norm = 0.004924616623615344\n",
      "Grad norm = 0.0049160240643741585\n",
      "Grad norm = 0.004897696062337333\n",
      "Grad norm = 0.004900631491984716\n",
      "Grad norm = 0.0048527927474613574\n",
      "Grad norm = 0.0048783962644872786\n",
      "Grad norm = 0.004837679510079927\n",
      "Grad norm = 0.004799437172525844\n",
      "Grad norm = 0.004781385510201211\n",
      "Grad norm = 0.00477710914715243\n",
      "Grad norm = 0.004790318935129614\n",
      "Grad norm = 0.004737102002674088\n",
      "Grad norm = 0.004731707451520713\n",
      "Grad norm = 0.004716809419106978\n",
      "Grad norm = 0.004679981418956402\n",
      "Grad norm = 0.0046601506943301394\n",
      "Grad norm = 0.004646827679697208\n",
      "Grad norm = 0.004658487293866515\n",
      "Grad norm = 0.004613439958330148\n",
      "Grad norm = 0.004630922020227658\n",
      "Grad norm = 0.004612399023095787\n",
      "Grad norm = 0.004563984155024969\n",
      "Grad norm = 0.00456021701670991\n",
      "Grad norm = 0.004547974383914858\n",
      "Grad norm = 0.004528665411612045\n",
      "Grad norm = 0.004499050086460061\n",
      "Grad norm = 0.0044892947793342\n",
      "Grad norm = 0.00448352028942926\n",
      "Grad norm = 0.004463226081196447\n",
      "Grad norm = 0.004432869499812232\n",
      "Grad norm = 0.004431112883524928\n",
      "Grad norm = 0.004429217795980295\n",
      "Grad norm = 0.004388465155643184\n",
      "Grad norm = 0.004383037451742825\n",
      "Grad norm = 0.004359830680438929\n",
      "Grad norm = 0.004341164999432923\n",
      "Grad norm = 0.004350139215553127\n",
      "Grad norm = 0.004306848563560396\n",
      "Grad norm = 0.004318077460647341\n",
      "Grad norm = 0.004273129498599448\n",
      "Grad norm = 0.004259838331759642\n",
      "Grad norm = 0.00425255093626098\n",
      "Grad norm = 0.004264397473991683\n",
      "Grad norm = 0.004216476512877474\n",
      "Grad norm = 0.004213502937355772\n",
      "Grad norm = 0.004221262786351193\n",
      "Grad norm = 0.004182773132277713\n",
      "Grad norm = 0.0042022483840604245\n",
      "Grad norm = 0.004152470467854545\n",
      "Grad norm = 0.004152740433796384\n",
      "Grad norm = 0.004113092113881961\n",
      "Grad norm = 0.004136168949269489\n",
      "Grad norm = 0.00409242477694215\n",
      "Grad norm = 0.00408104492960131\n",
      "Grad norm = 0.004078283199539153\n",
      "Grad norm = 0.004064313394770727\n",
      "Grad norm = 0.00403354957405666\n",
      "Grad norm = 0.0040130277199270726\n",
      "Grad norm = 0.004020193477740782\n",
      "Grad norm = 0.004011900770824047\n",
      "Grad norm = 0.003971467676813704\n",
      "Grad norm = 0.0039639013737117965\n",
      "Grad norm = 0.003950738572167827\n",
      "Grad norm = 0.0039337060704227374\n",
      "Grad norm = 0.003933858851812084\n",
      "Grad norm = 0.003911724299083052\n",
      "Grad norm = 0.003909453121326592\n",
      "Grad norm = 0.0038742761579737945\n",
      "Grad norm = 0.00387198995617656\n",
      "Grad norm = 0.003871001300812643\n",
      "Grad norm = 0.003847503973530923\n",
      "Grad norm = 0.003823823051217645\n",
      "Grad norm = 0.0038125056857086274\n",
      "Grad norm = 0.0038107286837340973\n",
      "Grad norm = 0.0037919950519918386\n",
      "Grad norm = 0.0037952667693715593\n",
      "Grad norm = 0.0037731898071525364\n",
      "Grad norm = 0.0037708243390461053\n",
      "Grad norm = 0.003731400476813274\n",
      "Grad norm = 0.0037694365024306523\n",
      "Grad norm = 0.0037250521487320713\n",
      "Grad norm = 0.0037092601800618936\n",
      "Grad norm = 0.0037161057878053135\n",
      "Grad norm = 0.0036967565739144045\n",
      "Grad norm = 0.0036928322496483637\n",
      "Grad norm = 0.003660788098112536\n",
      "Grad norm = 0.0036415854495033236\n",
      "Grad norm = 0.003647392200164508\n",
      "Grad norm = 0.0036113639860417684\n",
      "Grad norm = 0.0036243976595957297\n",
      "Grad norm = 0.003613616065274924\n",
      "Grad norm = 0.0035852691957670045\n",
      "Grad norm = 0.003590771572938644\n",
      "Grad norm = 0.0035603887728806885\n",
      "Grad norm = 0.0035805853419224177\n",
      "Grad norm = 0.0035414034639362625\n",
      "Grad norm = 0.0035304040568000356\n",
      "Grad norm = 0.0035311032448147018\n",
      "Grad norm = 0.003498623929121826\n",
      "Grad norm = 0.003483244527179613\n",
      "Grad norm = 0.0034684250935051886\n",
      "Grad norm = 0.0034677314082776386\n",
      "Grad norm = 0.003462809939235102\n",
      "Grad norm = 0.003438450774013876\n",
      "Grad norm = 0.0034302616841338307\n",
      "Grad norm = 0.0034322401548992124\n",
      "Grad norm = 0.0034149118761969454\n",
      "Grad norm = 0.0033891442551320728\n",
      "Grad norm = 0.003379507741042366\n",
      "Grad norm = 0.0033672333912325137\n",
      "Grad norm = 0.003361078658662116\n",
      "Grad norm = 0.00335989279330497\n",
      "Grad norm = 0.003337474912030777\n",
      "Grad norm = 0.0033308939824511236\n",
      "Grad norm = 0.0033287335168867517\n",
      "Grad norm = 0.0033088640067334015\n",
      "Grad norm = 0.0033001643531100217\n",
      "Grad norm = 0.003282539107585698\n",
      "Grad norm = 0.0032898427979639717\n",
      "Grad norm = 0.003265177270769132\n",
      "Grad norm = 0.003263297040954282\n",
      "Grad norm = 0.0032593950697058205\n",
      "Grad norm = 0.0032410678267431456\n",
      "Grad norm = 0.003217276468724181\n",
      "Grad norm = 0.0032334855290129952\n",
      "Grad norm = 0.003202229243834322\n",
      "Grad norm = 0.0031938040661994294\n",
      "Grad norm = 0.0031725430671579787\n",
      "Grad norm = 0.0031686540724959688\n",
      "Grad norm = 0.0031651428361016702\n",
      "Grad norm = 0.0031507484133345125\n",
      "Grad norm = 0.0031590601705630368\n",
      "Grad norm = 0.0031309107242800914\n",
      "Grad norm = 0.003147456659530414\n",
      "Grad norm = 0.003112785914821374\n",
      "Grad norm = 0.0030937682540596134\n",
      "Grad norm = 0.0030847202432344326\n",
      "Grad norm = 0.003090061919747364\n",
      "Grad norm = 0.003078408827814171\n",
      "Grad norm = 0.003060182836831414\n",
      "Grad norm = 0.0030539923796256002\n",
      "Grad norm = 0.003051090101941425\n",
      "Grad norm = 0.003029598594221275\n",
      "Grad norm = 0.003079690499989262\n",
      "Grad norm = 0.0030126562555226354\n",
      "Grad norm = 0.0030109870547359347\n",
      "Grad norm = 0.003028866431818348\n",
      "Grad norm = 0.0029901360903537974\n",
      "Grad norm = 0.0029698089500843285\n",
      "Grad norm = 0.0029800391263671254\n",
      "Grad norm = 0.0029575142800216266\n",
      "Grad norm = 0.002945151657163991\n",
      "Grad norm = 0.0029482102820894557\n",
      "Grad norm = 0.002950287464199937\n",
      "Grad norm = 0.002916590017939759\n",
      "Grad norm = 0.002942837364481662\n",
      "Grad norm = 0.0028955448004852734\n",
      "Grad norm = 0.0028992300836646052\n",
      "Grad norm = 0.0029031690675018597\n",
      "Grad norm = 0.00287146423345572\n",
      "Grad norm = 0.0028773141514573507\n",
      "Grad norm = 0.0028544752249373244\n",
      "Grad norm = 0.00284189589213571\n",
      "Grad norm = 0.002848596445890174\n",
      "Grad norm = 0.0028444871854192877\n",
      "Grad norm = 0.0028204367893740613\n",
      "Grad norm = 0.002842918551167987\n",
      "Grad norm = 0.0027925489039981066\n",
      "Grad norm = 0.0027951485073561483\n",
      "Grad norm = 0.0028021836763092453\n",
      "Grad norm = 0.002762303482475984\n",
      "Grad norm = 0.0027847951089429953\n",
      "Grad norm = 0.002754026035624415\n",
      "Grad norm = 0.0027380389882337357\n",
      "Grad norm = 0.0027453336937140835\n",
      "Grad norm = 0.0027279648247032374\n",
      "Grad norm = 0.0027171702500724715\n",
      "Grad norm = 0.002718001574439312\n",
      "Grad norm = 0.002701783075692321\n",
      "Grad norm = 0.002695791606852471\n",
      "Grad norm = 0.002682385723204787\n",
      "Grad norm = 0.0026704018556049608\n",
      "Grad norm = 0.0026848934384139335\n",
      "Grad norm = 0.0026540640635532974\n",
      "Grad norm = 0.0026525958349037835\n",
      "Grad norm = 0.002645998768301629\n",
      "Grad norm = 0.002637581801150514\n",
      "Grad norm = 0.002621315978974183\n",
      "Grad norm = 0.0026167525545084023\n",
      "Grad norm = 0.0026142928189214353\n",
      "Grad norm = 0.0026006483996654016\n",
      "Grad norm = 0.0025969581573726387\n",
      "Grad norm = 0.0025787810319303573\n",
      "Grad norm = 0.002581629043950667\n",
      "Grad norm = 0.0025637732646993238\n",
      "Grad norm = 0.002577595314061608\n",
      "Grad norm = 0.002552566365591797\n",
      "Grad norm = 0.0025460289865305813\n",
      "Grad norm = 0.002550970747975681\n",
      "Grad norm = 0.0025275285291036075\n",
      "Grad norm = 0.002516202178350549\n",
      "Grad norm = 0.0025077686866754943\n",
      "Grad norm = 0.0025061510344950564\n",
      "Grad norm = 0.002501664606902698\n",
      "Grad norm = 0.0024862981255644157\n",
      "Grad norm = 0.0024830386615759164\n",
      "Grad norm = 0.0024815703873532022\n",
      "Grad norm = 0.002466194141002144\n",
      "Grad norm = 0.0024682104782828645\n",
      "Grad norm = 0.0024499343472249337\n",
      "Grad norm = 0.0024584116584071\n",
      "Grad norm = 0.0024362719095879417\n",
      "Grad norm = 0.0024427889677641427\n",
      "Grad norm = 0.002417876025721838\n",
      "Grad norm = 0.0024177726508872923\n",
      "Grad norm = 0.002420801920924796\n",
      "Grad norm = 0.00240403697949661\n",
      "Grad norm = 0.0023992693983842356\n",
      "Grad norm = 0.002382499850592964\n",
      "Grad norm = 0.002381228109577266\n",
      "Grad norm = 0.0023854106149376847\n",
      "Grad norm = 0.0023596844487857728\n",
      "Grad norm = 0.00239321863307778\n",
      "Grad norm = 0.0023512610822383657\n",
      "Grad norm = 0.0023411358952947965\n",
      "Grad norm = 0.002349964053007229\n",
      "Grad norm = 0.0023520340190597553\n",
      "Grad norm = 0.002315633654891761\n",
      "Grad norm = 0.0023341150274921807\n",
      "Grad norm = 0.002311551328871128\n",
      "Grad norm = 0.00229680038722137\n",
      "Grad norm = 0.002295928630763229\n",
      "Grad norm = 0.0023023699862550723\n",
      "Grad norm = 0.0022724479677482773\n",
      "Grad norm = 0.0022890719411245842\n",
      "Grad norm = 0.002264542420209638\n",
      "Grad norm = 0.0022542331622403917\n",
      "Grad norm = 0.0022620421303038304\n",
      "Grad norm = 0.002241777370608128\n",
      "Grad norm = 0.0022374700578595167\n",
      "Grad norm = 0.0022323988834155413\n",
      "Grad norm = 0.00222370172120215\n",
      "Grad norm = 0.0022137652845979194\n",
      "Grad norm = 0.0022073025521176645\n",
      "Grad norm = 0.002198699132546824\n",
      "Grad norm = 0.0021935380164051052\n",
      "Grad norm = 0.002192288328668009\n",
      "Grad norm = 0.0021791941656371583\n",
      "Grad norm = 0.0021827690692210475\n",
      "Grad norm = 0.0021663684850507584\n",
      "Grad norm = 0.0021715356049940345\n",
      "Grad norm = 0.00215344125401272\n",
      "Grad norm = 0.0021575854159280863\n",
      "Grad norm = 0.00214610077243662\n",
      "Grad norm = 0.0021390974856219003\n",
      "Grad norm = 0.0021302886217624516\n",
      "Grad norm = 0.0021198690747283398\n",
      "Grad norm = 0.002117851363327703\n",
      "Grad norm = 0.002120263436458486\n",
      "Grad norm = 0.0021078919060080366\n",
      "Grad norm = 0.0021182078017106037\n",
      "Grad norm = 0.002093649294506653\n",
      "Grad norm = 0.002093331456297821\n",
      "Grad norm = 0.002105525325334608\n",
      "Grad norm = 0.002072633701592369\n",
      "Grad norm = 0.002091680499613687\n",
      "Grad norm = 0.0020650190975037702\n",
      "Grad norm = 0.0020528934160799605\n",
      "Grad norm = 0.0020592400558249466\n",
      "Grad norm = 0.002057494555386206\n",
      "Grad norm = 0.0020546758879527315\n",
      "Grad norm = 0.002033089080316629\n",
      "Grad norm = 0.0020447406477620334\n",
      "Grad norm = 0.002021859843941351\n",
      "Grad norm = 0.0020102233205184844\n",
      "Grad norm = 0.0020156778952654907\n",
      "Grad norm = 0.0020142774940615344\n",
      "Grad norm = 0.001996493137021009\n",
      "Grad norm = 0.0019933898478764174\n",
      "Grad norm = 0.0019890673306172603\n",
      "Grad norm = 0.0019885123750595264\n",
      "Grad norm = 0.0019738838694277096\n",
      "Grad norm = 0.001979725519084929\n",
      "Grad norm = 0.0019797150781116577\n",
      "Grad norm = 0.001955640917895505\n",
      "Grad norm = 0.001970382254631075\n",
      "Grad norm = 0.001944089087953538\n",
      "Grad norm = 0.0019410902989738217\n",
      "Grad norm = 0.0019523285248259532\n",
      "Grad norm = 0.0019314012500136425\n",
      "Grad norm = 0.001937562100668836\n",
      "Grad norm = 0.0019182950159427965\n",
      "Grad norm = 0.00191322069459607\n",
      "Grad norm = 0.0019102272827387513\n",
      "Grad norm = 0.0018972813656618745\n",
      "Grad norm = 0.001898292900204299\n",
      "Grad norm = 0.001887252089539647\n",
      "Grad norm = 0.0018886905928496758\n",
      "Grad norm = 0.0018786331976645835\n",
      "Grad norm = 0.0018835473770343898\n",
      "Grad norm = 0.0018658855436221285\n",
      "Grad norm = 0.0018730618451863153\n",
      "Grad norm = 0.0018581717512873711\n",
      "Grad norm = 0.0018531177093782545\n",
      "Grad norm = 0.0018427020967371273\n",
      "Grad norm = 0.0018414952440488905\n",
      "Grad norm = 0.0018381863239914566\n",
      "Grad norm = 0.0018262641541808631\n",
      "Grad norm = 0.0018256225071558167\n",
      "Grad norm = 0.0018245350255207168\n",
      "Grad norm = 0.001811891958712366\n",
      "Grad norm = 0.0018096714120587817\n",
      "Grad norm = 0.0018023319311736069\n",
      "Grad norm = 0.0017987256171378145\n",
      "Grad norm = 0.0017907123726217877\n",
      "Grad norm = 0.0017945332003357914\n",
      "Grad norm = 0.0017825327217297145\n",
      "Grad norm = 0.0017811500204785709\n",
      "Grad norm = 0.001785353190800292\n",
      "Grad norm = 0.0017748169000629307\n",
      "Grad norm = 0.001778843778288775\n",
      "Grad norm = 0.001770162807730518\n",
      "Grad norm = 0.0017660174731527084\n",
      "Grad norm = 0.001765363335786192\n",
      "Grad norm = 0.001757160634249595\n",
      "Grad norm = 0.0017604352798605664\n",
      "Grad norm = 0.0017488724837704257\n",
      "Grad norm = 0.0017443939431236676\n",
      "Grad norm = 0.0017391242975050988\n",
      "Grad norm = 0.001738358498440966\n",
      "Grad norm = 0.001732207964587867\n",
      "Grad norm = 0.0017289718847930484\n",
      "Grad norm = 0.0017219567081135799\n",
      "Grad norm = 0.0017209121581342269\n",
      "Grad norm = 0.0017102099234427588\n",
      "Grad norm = 0.0017093000753139447\n",
      "Grad norm = 0.0017037229923590115\n",
      "Grad norm = 0.001699153598331132\n",
      "Grad norm = 0.0016990749592795207\n",
      "Grad norm = 0.001684805258520718\n",
      "Grad norm = 0.0016873773354263953\n",
      "Grad norm = 0.0016749044963406102\n",
      "Grad norm = 0.0016724319834602968\n",
      "Grad norm = 0.0016719718334703689\n",
      "Grad norm = 0.0016595783260786572\n",
      "Grad norm = 0.0016578799811621376\n",
      "Grad norm = 0.00165433554084934\n",
      "Grad norm = 0.0016449029535240687\n",
      "Grad norm = 0.0016436205987661167\n",
      "Grad norm = 0.0016325582228804388\n",
      "Grad norm = 0.001629586823704476\n",
      "Grad norm = 0.0016224548024394584\n",
      "Grad norm = 0.0016193844484372094\n",
      "Grad norm = 0.0016150789030607417\n",
      "Grad norm = 0.0016085620206348075\n",
      "Grad norm = 0.0016057853539968004\n",
      "Grad norm = 0.0016005369698461893\n",
      "Grad norm = 0.001596723250686983\n",
      "Grad norm = 0.0015892337551278626\n",
      "Grad norm = 0.0015838758247116913\n",
      "Grad norm = 0.0015814568385751307\n",
      "Grad norm = 0.0015759689399502384\n",
      "Grad norm = 0.0015761161382793615\n",
      "Grad norm = 0.0015667944447074883\n",
      "Grad norm = 0.0015724224423536608\n",
      "Grad norm = 0.0015587317647886795\n",
      "Grad norm = 0.0015576684828340595\n",
      "Grad norm = 0.0015484810859893957\n",
      "Grad norm = 0.001546334938571832\n",
      "Grad norm = 0.0015429817339126727\n",
      "Grad norm = 0.0015345509992064253\n",
      "Grad norm = 0.0015371449383824946\n",
      "Grad norm = 0.0015250428399501302\n",
      "Grad norm = 0.001524168396271391\n",
      "Grad norm = 0.0015180629011888349\n",
      "Grad norm = 0.0015129146748933395\n",
      "Grad norm = 0.0015129661403611321\n",
      "Grad norm = 0.0015057758958172346\n",
      "Grad norm = 0.001501521371758701\n",
      "Grad norm = 0.0015036146207246135\n",
      "Grad norm = 0.0014929469738484502\n",
      "Grad norm = 0.0014951449748614053\n",
      "Grad norm = 0.0014841358990952895\n",
      "Grad norm = 0.0014845632837260968\n",
      "Grad norm = 0.0014826167836400766\n",
      "Grad norm = 0.0014689844193623179\n",
      "Grad norm = 0.0014692936918789604\n",
      "Grad norm = 0.0014686149193074353\n",
      "Grad norm = 0.0014584402916995964\n",
      "Grad norm = 0.001457923354024419\n",
      "Grad norm = 0.001459665726205502\n",
      "Grad norm = 0.0014455271711755649\n",
      "Grad norm = 0.0014482530169490774\n",
      "Grad norm = 0.001452787012205421\n",
      "Grad norm = 0.0014333072068154272\n",
      "Grad norm = 0.0014370247735582765\n",
      "Grad norm = 0.0014384113377782482\n",
      "Grad norm = 0.0014230378559217248\n",
      "Grad norm = 0.0014209971840993681\n",
      "Grad norm = 0.0014294680306073998\n",
      "Grad norm = 0.0014126626352523753\n",
      "Grad norm = 0.0014062827550066351\n",
      "Grad norm = 0.00141156436221221\n",
      "Grad norm = 0.0014102340452859397\n",
      "Grad norm = 0.0013947713000495854\n",
      "Grad norm = 0.0013952631073596512\n",
      "Grad norm = 0.0014053237147977344\n",
      "Grad norm = 0.0013860831155550488\n",
      "Grad norm = 0.00137996801520009\n",
      "Grad norm = 0.001384777151598764\n",
      "Grad norm = 0.001387873417232823\n",
      "Grad norm = 0.0013741541293003745\n",
      "Grad norm = 0.001369613122927753\n",
      "Grad norm = 0.0013753867981148892\n",
      "Grad norm = 0.001360192541772436\n",
      "Grad norm = 0.0013627125221266365\n",
      "Grad norm = 0.0013605789356492626\n",
      "Grad norm = 0.0013494604433188912\n",
      "Grad norm = 0.0013433221582737091\n",
      "Grad norm = 0.0013467810387803477\n",
      "Grad norm = 0.0013363904634810194\n",
      "Grad norm = 0.0013325424086285688\n",
      "Grad norm = 0.0013321114101241067\n",
      "Grad norm = 0.0013268753297044763\n",
      "Grad norm = 0.0013250813196728974\n",
      "Grad norm = 0.0013177359284165938\n",
      "Grad norm = 0.0013173121197532262\n",
      "Grad norm = 0.0013194911151384906\n",
      "Grad norm = 0.001307827783292196\n",
      "Grad norm = 0.0013151368041233542\n",
      "Grad norm = 0.0013054009866046326\n",
      "Grad norm = 0.0013031835625494522\n",
      "Grad norm = 0.0013025690394617413\n",
      "Grad norm = 0.0012917753196301403\n",
      "Grad norm = 0.0012899257510532247\n",
      "Grad norm = 0.0012865178081873613\n",
      "Grad norm = 0.001282765200487976\n",
      "Grad norm = 0.0012782687006259457\n",
      "Grad norm = 0.0012775936326632584\n",
      "Grad norm = 0.0012715795389951772\n",
      "Grad norm = 0.0012697081076877429\n",
      "Grad norm = 0.0012651823270056525\n",
      "Grad norm = 0.0012664998335808711\n",
      "Grad norm = 0.0012579622138890849\n",
      "Grad norm = 0.0012560565354234664\n",
      "Grad norm = 0.0012552053166878618\n",
      "Grad norm = 0.001250122900080076\n",
      "Grad norm = 0.0012539115813382407\n",
      "Grad norm = 0.0012420155975400187\n",
      "Grad norm = 0.0012431056803637866\n",
      "Grad norm = 0.00124308746849297\n",
      "Grad norm = 0.001233411649275168\n",
      "Grad norm = 0.001234383022524512\n",
      "Grad norm = 0.0012277026282643318\n",
      "Grad norm = 0.001224413642602855\n",
      "Grad norm = 0.0012224239416436951\n",
      "Grad norm = 0.0012164392943291185\n",
      "Grad norm = 0.0012167107664116132\n",
      "Grad norm = 0.0012098035651477818\n",
      "Grad norm = 0.0012099245778297606\n",
      "Grad norm = 0.0012056484185606117\n",
      "Grad norm = 0.001203239780979582\n",
      "Grad norm = 0.001198566674668645\n",
      "Grad norm = 0.001197597757564296\n",
      "Grad norm = 0.0011921043557593623\n",
      "Grad norm = 0.0011911300115173865\n",
      "Grad norm = 0.001188340980641993\n",
      "Grad norm = 0.001183852458006437\n",
      "Grad norm = 0.0011809777492874447\n",
      "Grad norm = 0.001184443523472271\n",
      "Grad norm = 0.0011751345225555201\n",
      "Grad norm = 0.001174849522478608\n",
      "Grad norm = 0.001170669397581618\n",
      "Grad norm = 0.0011719349642050358\n",
      "Grad norm = 0.0011638210539457548\n",
      "Grad norm = 0.00116322528977286\n",
      "Grad norm = 0.0011583640947927737\n",
      "Grad norm = 0.0011596540227866103\n",
      "Grad norm = 0.0011522074955993193\n",
      "Grad norm = 0.001150585585084807\n",
      "Grad norm = 0.0011463931045800437\n",
      "Grad norm = 0.0011477462356304828\n",
      "Grad norm = 0.0011395733843928056\n",
      "Grad norm = 0.0011361040811865013\n",
      "Grad norm = 0.0011349319356190773\n",
      "Grad norm = 0.00113116816954388\n",
      "Grad norm = 0.0011285008861819498\n",
      "Grad norm = 0.00112621854886622\n",
      "Grad norm = 0.0011228174917786457\n",
      "Grad norm = 0.0011190059657056135\n",
      "Grad norm = 0.0011183218725966991\n",
      "Grad norm = 0.0011141677640268217\n",
      "Grad norm = 0.0011128631729866345\n",
      "Grad norm = 0.001110261525377752\n",
      "Grad norm = 0.0011080049201984347\n",
      "Grad norm = 0.0011027695651401183\n",
      "Grad norm = 0.0011017701609594864\n",
      "Grad norm = 0.001099500692144239\n",
      "Grad norm = 0.0010950300837736444\n",
      "Grad norm = 0.0010954208184191792\n",
      "Grad norm = 0.0010899210920188114\n",
      "Grad norm = 0.001088548418670663\n",
      "Grad norm = 0.0010875019533818544\n",
      "Grad norm = 0.0010817435836981185\n",
      "Grad norm = 0.001080888365176915\n",
      "Grad norm = 0.0010769564719887708\n",
      "Grad norm = 0.0010765867797916486\n",
      "Grad norm = 0.0010716469543051324\n",
      "Grad norm = 0.0010705481379806266\n",
      "Grad norm = 0.00106629604146039\n",
      "Grad norm = 0.0010663002846646793\n",
      "Grad norm = 0.001062115383526935\n",
      "Grad norm = 0.0010621731393947985\n",
      "Grad norm = 0.0010577791380624263\n",
      "Grad norm = 0.001054052623922994\n",
      "Grad norm = 0.0010528890228585898\n",
      "Grad norm = 0.0010525624149989522\n",
      "Grad norm = 0.0010482700768680846\n",
      "Grad norm = 0.0010454781335353686\n",
      "Grad norm = 0.0010452183101075266\n",
      "Grad norm = 0.001041963028895788\n",
      "Grad norm = 0.0010380007151167053\n",
      "Grad norm = 0.001037800842642473\n",
      "Grad norm = 0.0010327832599586592\n",
      "Grad norm = 0.0010318774919882076\n",
      "Grad norm = 0.0010313701589069245\n",
      "Grad norm = 0.0010263070068868847\n",
      "Grad norm = 0.0010243800984804591\n",
      "Grad norm = 0.0010234212188885334\n",
      "Grad norm = 0.0010199140195015287\n",
      "Grad norm = 0.0010167672497759744\n",
      "Grad norm = 0.0010158315382914915\n",
      "Grad norm = 0.0010120082192929176\n",
      "Grad norm = 0.0010094254426040096\n",
      "Grad norm = 0.001009014256296662\n",
      "Grad norm = 0.0010055070283275748\n",
      "Grad norm = 0.0010040058782136549\n",
      "Grad norm = 0.0010039612012513017\n"
     ]
    },
    {
     "data": {
      "text/plain": "('Max iterations reached', 1000)"
     },
     "execution_count": 54,
     "metadata": {},
     "output_type": "execute_result"
    }
   ],
   "source": [
    "layer_c = 3\n",
    "network = make_network(input_size, 32, output_size, layer_c, ReLU)\n",
    "initialize_network(network, \"Kaiming\")\n",
    "weights = get_weights(network)\n",
    "\n",
    "cb = Callback(network, X_train, y_train, X_test, y_test, print=False)\n",
    "\n",
    "res = minimize(\n",
    "    compute_loss_grad, weights,       # fun and start point\n",
    "    args=(network, X_train, y_train), # args passed to fun\n",
    "    method=Adam,                       # optimization method\n",
    "    jac=True,                         # says that gradient is computed in fun,\n",
    "    options={\n",
    "        'n_iter': 1_000,\n",
    "        'beta_momentum': 0.9,\n",
    "        'beta_grad': 0.99,\n",
    "        'lr': 12 * 1e-5,\n",
    "        'batch_size': X_train.shape[0],\n",
    "    },\n",
    "    tol=1e-8,\n",
    "    callback=cb.call,\n",
    ")\n",
    "\n",
    "res['message'], res['nit']"
   ],
   "metadata": {
    "collapsed": false,
    "ExecuteTime": {
     "end_time": "2024-02-29T18:36:45.850873600Z",
     "start_time": "2024-02-29T18:36:28.343715300Z"
    }
   },
   "execution_count": 54
  },
  {
   "cell_type": "code",
   "outputs": [
    {
     "data": {
      "text/plain": "<Figure size 1000x500 with 1 Axes>",
      "image/png": "[encoded data removed]"
     },
     "metadata": {},
     "output_type": "display_data"
    }
   ],
   "source": [
    "fig, ax = plt.subplots(1, 1, figsize=(10, 5))\n",
    "ax.plot(cb.train_acc, label=f\"train acc [{cb.train_acc[-1]:5.4f}]\")\n",
    "ax.plot(cb.test_acc, label=f\"test acc{cb.test_acc[-1]:5.4f}\")\n",
    "ax.set_xlabel(\"Iteration\")\n",
    "ax.set_ylabel(\"Accuracy\")\n",
    "ax.grid(True)\n",
    "ax.legend()\n",
    "\n",
    "fig.tight_layout()\n",
    "plt.show()"
   ],
   "metadata": {
    "collapsed": false,
    "ExecuteTime": {
     "end_time": "2024-02-29T18:36:46.014564400Z",
     "start_time": "2024-02-29T18:36:45.830874100Z"
    }
   },
   "execution_count": 55
  },
  {
   "cell_type": "code",
   "outputs": [
    {
     "data": {
      "text/plain": "0.96"
     },
     "execution_count": 56,
     "metadata": {},
     "output_type": "execute_result"
    }
   ],
   "source": [
    "cb.test_acc[-1]"
   ],
   "metadata": {
    "collapsed": false,
    "ExecuteTime": {
     "end_time": "2024-02-29T18:36:46.039563700Z",
     "start_time": "2024-02-29T18:36:45.946900900Z"
    }
   },
   "execution_count": 56
  },
  {
   "cell_type": "markdown",
   "metadata": {
    "hidden": true
   },
   "source": [
    "### `Dropout (1 балл)`\n",
    "\n",
    "Реализуйте слой Dropout. Сравните обучение сети из большого числа слоёв при использовании Dropout и без его использования (предварительно подберите адекватный параметр $p$). Сделайте выводы."
   ]
  },
  {
   "cell_type": "code",
   "outputs": [],
   "source": [
    "class Dropout(Layer):\n",
    "    def __init__(self, p: float = 0.5):\n",
    "        super().__init__()\n",
    "        self.p = p\n",
    "        self.mask = None\n",
    "    \n",
    "    def forward(self, input: NDArray) -> NDArray:\n",
    "        if self.inference_mode:\n",
    "            return input\n",
    "        \n",
    "        mask = np.random.binomial(n=1, p=1 - self.p, size=input.shape)\n",
    "        # print(mask)\n",
    "        self.mask = mask / (1 - self.p)\n",
    "        return input * self.mask\n",
    "    \n",
    "    def backward(self, grad_output: NDArray) -> Tuple[NDArray, NDArray]:\n",
    "        if self.inference_mode:\n",
    "            return grad_output, []\n",
    "        \n",
    "        return grad_output * self.mask, []\n",
    "    \n",
    "    def __repr__(self):\n",
    "        return f\"Dropout(p={self.p}, enabled={not self.inference_mode})\""
   ],
   "metadata": {
    "collapsed": false,
    "ExecuteTime": {
     "end_time": "2024-02-29T18:37:20.463255700Z",
     "start_time": "2024-02-29T18:37:20.334247100Z"
    }
   },
   "execution_count": 59
  },
  {
   "cell_type": "code",
   "outputs": [],
   "source": [
    "def make_network(input_size, hidden_layers_size, output_size, n_layers=3, activation_class=ReLU, dropout: bool = False, dropout_p: float = 0.5):\n",
    "    network = []\n",
    "\n",
    "    for layer_idx in range(n_layers):\n",
    "        # Compute sizes of current linear layer\n",
    "        layer_in = input_size if layer_idx == 0 else hidden_layers_size\n",
    "        layer_out = output_size if layer_idx == n_layers - 1 else hidden_layers_size\n",
    "        \n",
    "        # Add linear layer to the network\n",
    "        network.append(Dense(layer_in, layer_out))\n",
    "\n",
    "        # Add activation after each layer except the last one\n",
    "        if layer_idx != n_layers - 1:\n",
    "            network.append(activation_class())\n",
    "            if dropout:\n",
    "                network.append(Dropout(dropout_p))\n",
    "\n",
    "    # Add LogSoftmax layer to the network\n",
    "    network.append(LogSoftmax())\n",
    "\n",
    "    return network"
   ],
   "metadata": {
    "collapsed": false,
    "ExecuteTime": {
     "end_time": "2024-02-29T18:37:20.821616900Z",
     "start_time": "2024-02-29T18:37:20.709102800Z"
    }
   },
   "execution_count": 60
  },
  {
   "cell_type": "code",
   "outputs": [],
   "source": [
    "def set_inference_mode(network: List[Layer], inference_mode: bool):\n",
    "    for layer in network:\n",
    "        layer.inference_mode = inference_mode"
   ],
   "metadata": {
    "collapsed": false,
    "ExecuteTime": {
     "end_time": "2024-02-29T18:37:22.256481700Z",
     "start_time": "2024-02-29T18:37:22.151961900Z"
    }
   },
   "execution_count": 61
  },
  {
   "cell_type": "code",
   "outputs": [
    {
     "data": {
      "text/plain": "[Dense(64, 32),\n Relu(),\n Dropout(p=0.2, enabled=True),\n Dense(32, 32),\n Relu(),\n Dropout(p=0.2, enabled=True),\n Dense(32, 10),\n LogSoftmax()]"
     },
     "execution_count": 62,
     "metadata": {},
     "output_type": "execute_result"
    }
   ],
   "source": [
    "network = make_network(input_size, 32, output_size, layer_c, ReLU, dropout=True, dropout_p=0.2)\n",
    "set_inference_mode(network, False)\n",
    "weights = get_weights(network)\n",
    "network"
   ],
   "metadata": {
    "collapsed": false,
    "ExecuteTime": {
     "end_time": "2024-02-29T18:37:22.899751300Z",
     "start_time": "2024-02-29T18:37:22.788756300Z"
    }
   },
   "execution_count": 62
  },
  {
   "cell_type": "code",
   "outputs": [
    {
     "data": {
      "text/plain": "array([[0.        , 1.11111111, 1.11111111, 1.11111111],\n       [1.11111111, 0.        , 1.11111111, 1.11111111],\n       [1.11111111, 1.11111111, 1.11111111, 1.11111111]])"
     },
     "execution_count": 63,
     "metadata": {},
     "output_type": "execute_result"
    }
   ],
   "source": [
    "do = Dropout(p=0.1)\n",
    "do.inference_mode = False\n",
    "do.forward(np.ones((3, 4)))"
   ],
   "metadata": {
    "collapsed": false,
    "ExecuteTime": {
     "end_time": "2024-02-29T18:37:23.869369Z",
     "start_time": "2024-02-29T18:37:23.769308900Z"
    }
   },
   "execution_count": 63
  },
  {
   "cell_type": "code",
   "outputs": [
    {
     "data": {
      "text/plain": "(500, True, 'Max iterations reached')"
     },
     "execution_count": 65,
     "metadata": {},
     "output_type": "execute_result"
    }
   ],
   "source": [
    "res = minimize(\n",
    "    compute_loss_grad, weights,       # fun and start point\n",
    "    args=[network, X_train, y_train], # args passed to fun\n",
    "    method=SGD,                       # optimization method\n",
    "    jac=True,                         # says that gradient is computed in fun,\n",
    "    options={'disp': True, 'momentum': 0.9, 'batch_size': 64, 'n_iter': 5_00, 'lr': 0.005},\n",
    "    tol=1e-7\n",
    ")\n",
    "\n",
    "res['nit'], res['success'], res['message']"
   ],
   "metadata": {
    "collapsed": false,
    "ExecuteTime": {
     "end_time": "2024-02-29T18:38:26.513239Z",
     "start_time": "2024-02-29T18:38:16.595505800Z"
    }
   },
   "execution_count": 65
  },
  {
   "cell_type": "code",
   "outputs": [
    {
     "name": "stdout",
     "output_type": "stream",
     "text": [
      "Train NLL: 0.0205281\t\tTest NLL: 0.4923825\n",
      "[Dense(64, 32), Relu(), Dropout(p=0.2, enabled=False), Dense(32, 32), Relu(), Dropout(p=0.2, enabled=False), Dense(32, 10), LogSoftmax()]\n",
      "Train accuracy: 1.000\t\tTest accuracy: 0.971\n"
     ]
    }
   ],
   "source": [
    "set_weights(weights=res[\"x\"], network=network)\n",
    "\n",
    "train_NLL = NLL(forward(network, X_train), y_train)\n",
    "test_NLL = NLL(forward(network, X_test), y_test)\n",
    "\n",
    "print(f\"Train NLL: {train_NLL:.7f}\\t\\tTest NLL: {test_NLL:.7f}\")\n",
    "\n",
    "set_inference_mode(network, True)\n",
    "print(network)\n",
    "\n",
    "train_accuracy = accuracy_score(y_true=y_train, y_pred=predict(network, X_train))\n",
    "test_accuracy = accuracy_score(y_true=y_test, y_pred=predict(network, X_test))\n",
    "\n",
    "print(f\"Train accuracy: {train_accuracy:.3f}\\t\\tTest accuracy: {test_accuracy:.3f}\")"
   ],
   "metadata": {
    "collapsed": false,
    "ExecuteTime": {
     "end_time": "2024-02-29T18:39:17.356285200Z",
     "start_time": "2024-02-29T18:39:17.241655900Z"
    }
   },
   "execution_count": 66
  },
  {
   "cell_type": "code",
   "outputs": [
    {
     "name": "stdout",
     "output_type": "stream",
     "text": [
      "i= 0\tj= 0\tdropout_p=0.00\tn_iter=500\ttrain acc: 1.0000\ttest acc: 0.9689\n",
      "i= 0\tj= 1\tdropout_p=0.00\tn_iter=500\ttrain acc: 1.0000\ttest acc: 0.9689\n",
      "i= 0\tj= 2\tdropout_p=0.00\tn_iter=500\ttrain acc: 1.0000\ttest acc: 0.9644\n",
      "i= 0\tj= 3\tdropout_p=0.00\tn_iter=500\ttrain acc: 1.0000\ttest acc: 0.9689\n",
      "i= 0\tj= 4\tdropout_p=0.00\tn_iter=500\ttrain acc: 1.0000\ttest acc: 0.9600\n",
      "i= 1\tj= 0\tdropout_p=0.10\tn_iter=500\ttrain acc: 1.0000\ttest acc: 0.9733\n",
      "i= 1\tj= 1\tdropout_p=0.10\tn_iter=500\ttrain acc: 1.0000\ttest acc: 0.9711\n",
      "i= 1\tj= 2\tdropout_p=0.10\tn_iter=500\ttrain acc: 1.0000\ttest acc: 0.9733\n",
      "i= 1\tj= 3\tdropout_p=0.10\tn_iter=500\ttrain acc: 1.0000\ttest acc: 0.9711\n",
      "i= 1\tj= 4\tdropout_p=0.10\tn_iter=500\ttrain acc: 1.0000\ttest acc: 0.9756\n",
      "i= 2\tj= 0\tdropout_p=0.20\tn_iter=500\ttrain acc: 1.0000\ttest acc: 0.9556\n",
      "i= 2\tj= 1\tdropout_p=0.20\tn_iter=500\ttrain acc: 1.0000\ttest acc: 0.9733\n",
      "i= 2\tj= 2\tdropout_p=0.20\tn_iter=500\ttrain acc: 1.0000\ttest acc: 0.9733\n",
      "i= 2\tj= 3\tdropout_p=0.20\tn_iter=500\ttrain acc: 1.0000\ttest acc: 0.9733\n",
      "i= 2\tj= 4\tdropout_p=0.20\tn_iter=500\ttrain acc: 1.0000\ttest acc: 0.9667\n",
      "i= 3\tj= 0\tdropout_p=0.30\tn_iter=500\ttrain acc: 1.0000\ttest acc: 0.9644\n",
      "i= 3\tj= 1\tdropout_p=0.30\tn_iter=500\ttrain acc: 1.0000\ttest acc: 0.9689\n",
      "i= 3\tj= 2\tdropout_p=0.30\tn_iter=500\ttrain acc: 1.0000\ttest acc: 0.9711\n",
      "i= 3\tj= 3\tdropout_p=0.30\tn_iter=500\ttrain acc: 0.9993\ttest acc: 0.9667\n",
      "i= 3\tj= 4\tdropout_p=0.30\tn_iter=500\ttrain acc: 1.0000\ttest acc: 0.9756\n",
      "i= 4\tj= 0\tdropout_p=0.40\tn_iter=500\ttrain acc: 0.9993\ttest acc: 0.9756\n",
      "i= 4\tj= 1\tdropout_p=0.40\t"
     ]
    },
    {
     "name": "stderr",
     "output_type": "stream",
     "text": [
      "\n",
      "KeyboardInterrupt\n",
      "\n"
     ]
    }
   ],
   "source": [
    "p_vars = np.linspace(0, 0.9, num=10)\n",
    "layer_c = 3\n",
    "\n",
    "accs_train = np.zeros((p_vars.shape[0], 5))\n",
    "accs_test = np.zeros_like(accs_train)\n",
    "\n",
    "for i, dropout_p in enumerate(p_vars):\n",
    "    for j in range(accs_train.shape[1]):\n",
    "        print(f\"{i=:2}\\t{j=:2}\\t{dropout_p=:3.2f}\\t\", end='')\n",
    "        network = make_network(input_size, 32, output_size, layer_c, ReLU, dropout=True, dropout_p=dropout_p)\n",
    "        initialize_network(network, 'Kaiming')\n",
    "        set_inference_mode(network, False)\n",
    "        network, cb = train_network(network, history=True, tol=1e-7, optimizer=SGD, options={'momentum': 0.9, 'batch_size': 32, 'n_iter': 500, 'lr': 0.1 * 1e-2})\n",
    "        set_inference_mode(network, True)\n",
    "        \n",
    "        accs_train[i, j] = accuracy_score(y_true=y_train, y_pred=predict(network, X_train))\n",
    "        accs_test[i, j] = accuracy_score(y_true=y_test, y_pred=predict(network, X_test))\n",
    "        print(f\"n_iter={len(cb.test_acc)}\\ttrain acc: {accs_train[i, j]:5.4f}\\ttest acc: {accs_test[i, j]:5.4f}\")"
   ],
   "metadata": {
    "collapsed": false,
    "ExecuteTime": {
     "end_time": "2024-02-29T18:44:31.819482Z",
     "start_time": "2024-02-29T18:39:31.099745400Z"
    }
   },
   "execution_count": 67
  },
  {
   "cell_type": "code",
   "outputs": [],
   "source": [
    "drop_proba_for_plot = [f\"P = {p:3.2f}\" for p in p_vars]\n",
    "\n",
    "fig, ax = plt.subplots(1, 1, figsize=(10, 5))\n",
    "\n",
    "ax.boxplot(accs_test.T, labels=drop_proba_for_plot, showfliers=False)\n",
    "\n",
    "ax.set_title(f\"Test quality in {accs_test.shape[1]} runs\")\n",
    "ax.set_xlabel(\"Initialization\")\n",
    "ax.set_ylabel(\"Test accuracy\")\n",
    "ax.grid(True)\n",
    "\n",
    "fig.tight_layout()\n",
    "plt.show()"
   ],
   "metadata": {
    "collapsed": false,
    "ExecuteTime": {
     "start_time": "2024-02-29T18:35:59.903228300Z"
    }
   },
   "execution_count": null
  },
  {
   "cell_type": "code",
   "outputs": [],
   "source": [
    "drop_proba_for_plot = [f\"P = {p:3.2f}\" for p in p_vars]\n",
    "\n",
    "fig, ax = plt.subplots(1, 1, figsize=(10, 5))\n",
    "\n",
    "ax.boxplot(accs_test[:-3, :].T, labels=drop_proba_for_plot[:-3], showfliers=False)\n",
    "\n",
    "ax.set_title(f\"Test quality in {accs_test.shape[1]} runs\")\n",
    "ax.set_xlabel(\"Initialization\")\n",
    "ax.set_ylabel(\"Test accuracy\")\n",
    "ax.grid(True)\n",
    "\n",
    "fig.tight_layout()\n",
    "plt.show()"
   ],
   "metadata": {
    "collapsed": false,
    "ExecuteTime": {
     "start_time": "2024-02-29T18:35:59.903228300Z"
    }
   },
   "execution_count": null
  },
  {
   "cell_type": "code",
   "outputs": [],
   "source": [
    "p_vars = np.linspace(0, 0.9, num=10)\n",
    "layer_c = 6\n",
    "\n",
    "accs_train = np.zeros((p_vars.shape[0], 15))\n",
    "accs_test = np.zeros_like(accs_train)\n",
    "\n",
    "for i, dropout_p in enumerate(p_vars):\n",
    "    for j in range(accs_train.shape[1]):\n",
    "        print(f\"{i=:2}\\t{j=:2}\\t{dropout_p=:3.2f}\\t\", end='')\n",
    "        network = make_network(input_size, 32, output_size, layer_c, ReLU, dropout=True, dropout_p=dropout_p)\n",
    "        initialize_network(network, 'Kaiming')\n",
    "        set_inference_mode(network, False)\n",
    "        network, cb = train_network(network, history=True, tol=1e-7, optimizer=SGD, options={'momentum': 0.9, 'batch_size': 100, 'n_iter': 1_000, 'lr': 0.2 * 1e-2})\n",
    "        set_inference_mode(network, True)\n",
    "        \n",
    "        accs_train[i, j] = accuracy_score(y_true=y_train, y_pred=predict(network, X_train))\n",
    "        accs_test[i, j] = accuracy_score(y_true=y_test, y_pred=predict(network, X_test))\n",
    "        print(f\"train acc: {accs_train[i, j]:5.4f} test acc: {accs_test[i, j]:5.4f}\")"
   ],
   "metadata": {
    "collapsed": false,
    "ExecuteTime": {
     "start_time": "2024-02-29T18:35:59.904228600Z"
    }
   },
   "execution_count": null
  },
  {
   "cell_type": "code",
   "outputs": [],
   "source": [
    "drop_proba_for_plot = [f\"P = {p:3.2f}\" for p in p_vars]\n",
    "\n",
    "fig, ax = plt.subplots(1, 1, figsize=(10, 5))\n",
    "\n",
    "ax.boxplot(accs_test.T, labels=drop_proba_for_plot, showfliers=False)\n",
    "\n",
    "ax.set_title(f\"Test quality in {accs_test.shape[1]} runs\")\n",
    "ax.set_xlabel(\"Initialization\")\n",
    "ax.set_ylabel(\"Test accuracy\")\n",
    "ax.grid(True)\n",
    "\n",
    "fig.tight_layout()\n",
    "plt.show()"
   ],
   "metadata": {
    "collapsed": false,
    "ExecuteTime": {
     "start_time": "2024-02-29T18:35:59.905228500Z"
    }
   },
   "execution_count": null
  },
  {
   "cell_type": "markdown",
   "metadata": {
    "hidden": true
   },
   "source": [
    "### `BatchNormalization (1 балл)`\n",
    "\n",
    "Реализуйте слой `BatchNormalization`. Сравните обучение сети из большого числа слоёв при использовании `BatchNormalization` и без его использования. Сделайте выводы."
   ]
  },
  {
   "cell_type": "markdown",
   "source": [
    "__Ваше решение:__\n",
    "\n",
    "Перепишем формулу для $y_i$ в векторном виде:\n",
    "$$y_i = \\gamma \\frac{X - \\mu}{\\sqrt{\\sigma^2 + \\varepsilon}} + \\delta $$\n",
    "Считаем, что $\\mathcal{L} = \\mathcal{L}(y(X, \\gamma, \\delta))$, тогда:\n",
    "1. $\\nabla_{\\gamma} {\\mathcal L} = (\\nabla_{y} {\\mathcal L})^T \\cdot \\frac{X - \\mu}{\\sqrt{\\sigma^2 + \\varepsilon}}$\n",
    "2. $\\nabla_{\\delta} {\\mathcal L} = (\\nabla_{y} {\\mathcal L})^T \\cdot (1)_{i=1}^{n} = \\sum_{i=1}^n (\\nabla_{y} {\\mathcal L})_i$\n",
    "3. $\\nabla_X{L} = \\frac{\\gamma}{\\sqrt{\\sigma^2 + \\varepsilon}}\\nabla_y{L}\\left(E - \\frac{\\mathbb{I}(\\mathbb{I})^T}{n} - \\frac{\\overline y \\overline y^T}{n} \\right)$"
   ],
   "metadata": {
    "collapsed": false
   }
  },
  {
   "cell_type": "code",
   "outputs": [],
   "source": [
    "class BatchNormalization(Layer):\n",
    "    def __init__(self, rho: float = 0.9):\n",
    "        super().__init__()\n",
    "        self.mu_mean = 0\n",
    "        self.std_mean = 0\n",
    "        self.rho = rho\n",
    "        self.normed = None\n",
    "        self.eps = 1e-7\n",
    "        \n",
    "        self.gamma = np.array([1])\n",
    "        self.delta = np.array([0])\n",
    "        self.params = [self.gamma, self.delta]\n",
    "    \n",
    "    def forward(self, input: NDArray) -> NDArray:\n",
    "        if self.inference_mode:\n",
    "            output = self.gamma * ((input - self.mu_mean) / self.std_mean) + self.delta\n",
    "            return output\n",
    "            \n",
    "        mu = np.mean(input, axis=0, keepdims=True)\n",
    "        std = np.std(input, axis=0, keepdims=True) + self.eps\n",
    "        \n",
    "        self.mu_mean = (1 - self.rho) * self.mu_mean + self.rho * mu\n",
    "        self.std_mean = (1 - self.rho) * self.std_mean + self.rho * std\n",
    "        \n",
    "        self.input = input\n",
    "        self.normed = (input - mu) / std\n",
    "        self.bathc_mu = mu\n",
    "        self.batch_std = std\n",
    "        output = self.gamma * self.normed + self.delta\n",
    "        \n",
    "        return output\n",
    "    \n",
    "    def backward(self, grad_output: NDArray) -> Tuple[NDArray, NDArray]:\n",
    "        d_loss_d_gamma = np.sum(grad_output * self.normed, axis=1, keepdims=True)\n",
    "        d_loss_d_delta = np.sum(grad_output, axis=1, keepdims=True)\n",
    "\n",
    "        loss_dot_y = np.sum(grad_output * (self.gamma * self.normed + self.delta), axis=1, keepdims=True)\n",
    "        loss_dot_1 = d_loss_d_delta\n",
    "        \n",
    "        n = grad_output.shape[0]\n",
    "        print(f\"{loss_dot_1.shape=}\\n{loss_dot_y.shape=}\\n{self.normed.shape=}\")\n",
    "        d_loss_d_x = (grad_output - (1 / n) * (loss_dot_1 + (self.gamma * self.normed + self.delta) * loss_dot_y))\n",
    "        d_loss_d_x = (self.gamma / self.batch_std) * d_loss_d_x\n",
    "        \n",
    "        return d_loss_d_x, [d_loss_d_gamma, d_loss_d_delta]\n",
    "    \n",
    "    def __repr__(self):\n",
    "        return f\"BatchNormalization()\""
   ],
   "metadata": {
    "collapsed": false,
    "ExecuteTime": {
     "end_time": "2024-02-29T18:49:40.376888100Z",
     "start_time": "2024-02-29T18:49:40.253880400Z"
    }
   },
   "execution_count": 73
  },
  {
   "cell_type": "code",
   "outputs": [
    {
     "name": "stdout",
     "output_type": "stream",
     "text": [
      "loss_dot_1.shape=(10, 1)\n",
      "loss_dot_y.shape=(10, 1)\n",
      "self.normed.shape=(10, 12)\n"
     ]
    },
    {
     "data": {
      "text/plain": "array([[ 90.86668041,  90.86668041,  90.86668041,  90.86668041,\n         90.86668041,  90.86668041,  90.86668041,  90.86668041,\n         90.86668041,  90.86668041,  90.86668041,  90.86668041],\n       [ 22.31252088,  22.31252088,  22.31252088,  22.31252088,\n         22.31252088,  22.31252088,  22.31252088,  22.31252088,\n         22.31252088,  22.31252088,  22.31252088,  22.31252088],\n       [ -1.06956503,  -1.06956503,  -1.06956503,  -1.06956503,\n         -1.06956503,  -1.06956503,  -1.06956503,  -1.06956503,\n         -1.06956503,  -1.06956503,  -1.06956503,  -1.06956503],\n       [ -4.90145651,  -4.90145651,  -4.90145651,  -4.90145651,\n         -4.90145651,  -4.90145651,  -4.90145651,  -4.90145651,\n         -4.90145651,  -4.90145651,  -4.90145651,  -4.90145651],\n       [ -2.0894603 ,  -2.0894603 ,  -2.0894603 ,  -2.0894603 ,\n         -2.0894603 ,  -2.0894603 ,  -2.0894603 ,  -2.0894603 ,\n         -2.0894603 ,  -2.0894603 ,  -2.0894603 ,  -2.0894603 ],\n       [  2.0894603 ,   2.0894603 ,   2.0894603 ,   2.0894603 ,\n          2.0894603 ,   2.0894603 ,   2.0894603 ,   2.0894603 ,\n          2.0894603 ,   2.0894603 ,   2.0894603 ,   2.0894603 ],\n       [  4.90145651,   4.90145651,   4.90145651,   4.90145651,\n          4.90145651,   4.90145651,   4.90145651,   4.90145651,\n          4.90145651,   4.90145651,   4.90145651,   4.90145651],\n       [  1.06956503,   1.06956503,   1.06956503,   1.06956503,\n          1.06956503,   1.06956503,   1.06956503,   1.06956503,\n          1.06956503,   1.06956503,   1.06956503,   1.06956503],\n       [-22.31252088, -22.31252088, -22.31252088, -22.31252088,\n        -22.31252088, -22.31252088, -22.31252088, -22.31252088,\n        -22.31252088, -22.31252088, -22.31252088, -22.31252088],\n       [-90.86668041, -90.86668041, -90.86668041, -90.86668041,\n        -90.86668041, -90.86668041, -90.86668041, -90.86668041,\n        -90.86668041, -90.86668041, -90.86668041, -90.86668041]])"
     },
     "execution_count": 74,
     "metadata": {},
     "output_type": "execute_result"
    }
   ],
   "source": [
    "batchnorm = BatchNormalization()\n",
    "points = np.linspace(-1, 1, 10*12).reshape([10, 12])\n",
    "\n",
    "batchnorm.inference_mode = False\n",
    "# batchnorm.forward(points)\n",
    "\n",
    "numeric_grads = eval_numerical_gradient(lambda x: np.sum((batchnorm.forward(x)) ** 4), points)\n",
    "res = batchnorm.forward(points)\n",
    "batchnorm_grads, params = batchnorm.backward(4 * (res ** 3))\n",
    "\n",
    "batchnorm_grads - numeric_grads\n",
    "\n",
    "# assert np.allclose(numeric_grads, batchnorm_grads, rtol=1e-3, atol=0)"
   ],
   "metadata": {
    "collapsed": false,
    "ExecuteTime": {
     "end_time": "2024-02-29T18:49:40.991318800Z",
     "start_time": "2024-02-29T18:49:40.870637100Z"
    }
   },
   "execution_count": 74
  },
  {
   "cell_type": "code",
   "outputs": [],
   "source": [
    "def compute_loss_grad(weights, args):\n",
    "    \"\"\"\n",
    "    takes current weights and computes cross-entropy and gradients\n",
    "    weights shape: [num_parameters]\n",
    "    output 1: loss (scalar)\n",
    "    output 2: gradint w.r.t. weights, shape: [num_parameters]\n",
    "    \n",
    "    hint: firstly perform forward pass through the whole network\n",
    "    then compute loss and its gradients\n",
    "    then perform backward pass, transmitting first baskward output\n",
    "    to the previos layer and saving second baskward output in a list\n",
    "    finally flatten all the gradients in this list\n",
    "    (in the order from the first to the last layer)\n",
    "    \n",
    "    Do not forget to set weights of the network!\n",
    "    \"\"\"\n",
    "    network, X, y = args\n",
    "    \n",
    "    set_weights(weights, network)\n",
    "    \n",
    "    activations = forward(network, X)\n",
    "    loss = NLL(activations, y)\n",
    "    \n",
    "    weights_grad_arrays = []\n",
    "    \n",
    "    d_loss_d_input = grad_NLL(activations, y)\n",
    "    for layer in reversed(network):\n",
    "        d_loss_d_input, d_loss_d_layer = layer.backward(d_loss_d_input)\n",
    "        if isinstance(layer, Dense) or isinstance(layer, BatchNormalization):\n",
    "            weights_grad_arrays.append(np.sum(d_loss_d_layer[1], axis=0).ravel().tolist())\n",
    "            weights_grad_arrays.append(np.sum(d_loss_d_layer[0], axis=0).ravel().tolist())\n",
    "        else:\n",
    "            pass\n",
    "    \n",
    "    weights_grad_arrays.reverse()\n",
    "    weights_grad = []\n",
    "    for wg in weights_grad_arrays:\n",
    "        weights_grad += wg\n",
    "    \n",
    "    # print(f\"Mean abs grad value: {np.mean(np.abs(weights_grad))}\\tMax abs grad value: {np.max(np.abs(weights_grad))}\")\n",
    "    # print(f\"Loss = {loss}\")\n",
    "    \n",
    "    return loss, np.array(weights_grad)"
   ],
   "metadata": {
    "collapsed": false,
    "ExecuteTime": {
     "start_time": "2024-02-29T18:35:59.907228100Z"
    }
   },
   "execution_count": null
  },
  {
   "cell_type": "code",
   "outputs": [],
   "source": [
    "def make_network(input_size, hidden_layers_size, output_size, n_layers=3, activation_class=ReLU, dropout: bool = False, dropout_p: float = 0.5, batch_norm: bool = False):\n",
    "    network = []\n",
    "\n",
    "    for layer_idx in range(n_layers):\n",
    "        # Compute sizes of current linear layer\n",
    "        layer_in = input_size if layer_idx == 0 else hidden_layers_size\n",
    "        layer_out = output_size if layer_idx == n_layers - 1 else hidden_layers_size\n",
    "        \n",
    "        # Add linear layer to the network\n",
    "        network.append(Dense(layer_in, layer_out))\n",
    "\n",
    "        # Add activation after each layer except the last one\n",
    "        if layer_idx != n_layers - 1:\n",
    "            network.append(activation_class())\n",
    "            if batch_norm:\n",
    "                network.append(BatchNormalization())\n",
    "            if dropout:\n",
    "                network.append(Dropout(dropout_p))\n",
    "\n",
    "    # Add LogSoftmax layer to the network\n",
    "    network.append(LogSoftmax())\n",
    "\n",
    "    return network"
   ],
   "metadata": {
    "collapsed": false,
    "ExecuteTime": {
     "start_time": "2024-02-29T18:35:59.907228100Z"
    }
   },
   "execution_count": null
  },
  {
   "cell_type": "code",
   "outputs": [],
   "source": [
    "network = make_network(input_size, 32, output_size, layer_c, ReLU, dropout=False, dropout_p=0.1, batch_norm=True)\n",
    "set_inference_mode(network, False)\n",
    "weights = get_weights(network)\n",
    "network"
   ],
   "metadata": {
    "collapsed": false,
    "ExecuteTime": {
     "start_time": "2024-02-29T18:35:59.908228200Z"
    }
   },
   "execution_count": null
  },
  {
   "cell_type": "code",
   "outputs": [],
   "source": [
    "res = minimize(\n",
    "    compute_loss_grad, weights,       # fun and start point\n",
    "    args=[network, X_train, y_train], # args passed to fun\n",
    "    method=SGD,                       # optimization method\n",
    "    jac=True,                         # says that gradient is computed in fun,\n",
    "    options={'disp': True, 'momentum': 0.9, 'batch_size': 100, 'n_iter': 1_000, 'lr': 0.01},\n",
    "    tol=1e-7\n",
    ")\n",
    "\n",
    "res['nit'], res['success'], res['message']"
   ],
   "metadata": {
    "collapsed": false,
    "ExecuteTime": {
     "start_time": "2024-02-29T18:35:59.909228500Z"
    }
   },
   "execution_count": null
  },
  {
   "cell_type": "code",
   "outputs": [],
   "source": [],
   "metadata": {
    "collapsed": false,
    "ExecuteTime": {
     "start_time": "2024-02-29T18:35:59.909228500Z"
    }
   }
  }
 ],
 "metadata": {
  "kernelspec": {
   "display_name": "Python 3 (ipykernel)",
   "language": "python",
   "name": "python3"
  },
  "language_info": {
   "codemirror_mode": {
    "name": "ipython",
    "version": 3
   },
   "file_extension": ".py",
   "mimetype": "text/x-python",
   "name": "python",
   "nbconvert_exporter": "python",
   "pygments_lexer": "ipython3",
   "version": "3.10.9"
  }
 },
 "nbformat": 4,
 "nbformat_minor": 2
}
