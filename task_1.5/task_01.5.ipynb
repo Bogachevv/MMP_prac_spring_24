{
 "cells": [
  {
   "cell_type": "markdown",
   "metadata": {},
   "source": [
    "# `Практикум по программированию на языке Python`\n",
    "\n",
    "## `Задание 1.5. Классификация изображений`.\n",
    "\n",
    "#### Фамилия, имя: Богачев Владимир\n",
    "\n",
    "Дата выдачи: <span style=\"color:red\">__5 марта__</span>.\n",
    "\n",
    "Мягкий дедлайн: <span style=\"color:red\">__12 марта 23:59__</span>.\n",
    "\n",
    "Стоимость: __10 баллов__ (основная часть заданий) + __3 балла__ (дополнительные задания).\n",
    "\n",
    "<span style=\"color:red\">__В ноутбуке все клетки должны выполняться без ошибок при последовательном их выполнении.__</span>\n",
    "\n",
    "#### `Москва, 2024`"
   ]
  },
  {
   "cell_type": "code",
   "execution_count": 1,
   "metadata": {
    "ExecuteTime": {
     "end_time": "2024-03-13T19:30:57.925211500Z",
     "start_time": "2024-03-13T19:30:55.213834100Z"
    }
   },
   "outputs": [
    {
     "name": "stdout",
     "output_type": "stream",
     "text": [
      "cuda:0\n"
     ]
    }
   ],
   "source": [
    "import torch\n",
    "from torch import nn\n",
    "import torch.nn.functional as F\n",
    "import torchvision\n",
    "import torchvision.transforms as T\n",
    "import torch.optim as optim\n",
    "import matplotlib.pyplot as plt\n",
    "from tqdm import tqdm\n",
    "\n",
    "random_seed = 0\n",
    "torch.manual_seed(random_seed)\n",
    "\n",
    "device = torch.device('cuda:0' if torch.cuda.is_available() else 'cpu')\n",
    "print(device)"
   ]
  },
  {
   "cell_type": "markdown",
   "metadata": {},
   "source": [
    "## `Задание 1. Загрузка данных (0.5 балла)`"
   ]
  },
  {
   "cell_type": "markdown",
   "metadata": {},
   "source": [
    "В этой домашке работа с данными будем максимально облегчённой. Мы скачаем MNIST с помощью [стандартных средств](https://pytorch.org/vision/0.8/datasets.html#mnist) торча. Посмотреть список других доступных датасетов можно [здесь](https://pytorch.org/vision/0.8/datasets.html)."
   ]
  },
  {
   "cell_type": "code",
   "execution_count": 2,
   "metadata": {
    "ExecuteTime": {
     "end_time": "2024-03-13T19:30:57.928010700Z",
     "start_time": "2024-03-13T19:30:57.925211500Z"
    }
   },
   "outputs": [],
   "source": [
    "def load_mnist(train, transform=None):    \n",
    "    if transform is None:\n",
    "        transform = T.ToTensor()\n",
    "    return torchvision.datasets.MNIST(\n",
    "        root='./data',\n",
    "        train=train,\n",
    "        transform=transform,\n",
    "        download=True\n",
    "    )"
   ]
  },
  {
   "cell_type": "markdown",
   "metadata": {},
   "source": [
    "Пиксели изображений принимают значения [0,1]. Скачайте датасет и посчитайте выборочное среднее и выборочное стандартное отклонение для значения пикселя. Т.е. должно получиться число `mean` для среднего, и число `std` для стандартного отклонения.\n",
    "\n",
    "*Подсказка.* Подумайте, на какой части датасета нужно считать эти статистики (обучение или валидация), чтобы предотвратить утечку данных.\n",
    "\n",
    "*Подсказка.* У торч датасета реализован метод `__getitem__`, т.е. его можно индексировать `dataset[i]`."
   ]
  },
  {
   "cell_type": "code",
   "execution_count": 3,
   "metadata": {
    "ExecuteTime": {
     "end_time": "2024-03-13T19:31:04.439259600Z",
     "start_time": "2024-03-13T19:30:57.928010700Z"
    }
   },
   "outputs": [
    {
     "name": "stdout",
     "output_type": "stream",
     "text": [
      "torch.float32 torch.Size([60000, 1, 28, 28])\n",
      "mean = 0.13, std = 0.31\n"
     ]
    }
   ],
   "source": [
    "norm_transform = T.Compose([\n",
    "    T.PILToTensor(),\n",
    "    T.ConvertImageDtype(torch.float32)\n",
    "])\n",
    "\n",
    "data_train = load_mnist(True, transform=norm_transform)\n",
    "\n",
    "X_train = torch.stack([data_train[i][0] for i in range(len(data_train))])\n",
    "\n",
    "print(X_train.dtype, X_train.shape)\n",
    "\n",
    "mean =  torch.mean(X_train)\n",
    "std =  torch.std(X_train)\n",
    "print(f\"mean = {mean:.2f}, std = {std:.2f}\")"
   ]
  },
  {
   "cell_type": "markdown",
   "metadata": {},
   "source": [
    "Полученные значения можно применить для нормализации изображений, когда будем подавать их в нейросеть."
   ]
  },
  {
   "cell_type": "code",
   "execution_count": 4,
   "metadata": {
    "ExecuteTime": {
     "end_time": "2024-03-13T19:31:04.491888800Z",
     "start_time": "2024-03-13T19:31:04.440299400Z"
    }
   },
   "outputs": [],
   "source": [
    "norm_transform = T.Compose([\n",
    "    T.ToTensor(),\n",
    "    T.Normalize(mean, std)\n",
    "])\n",
    "\n",
    "train_mnist = load_mnist(True, norm_transform)\n",
    "val_mnist = load_mnist(False, norm_transform)"
   ]
  },
  {
   "cell_type": "markdown",
   "metadata": {},
   "source": [
    "Во время обучения данные подаются в нейросеть батчами.\n",
    "\n",
    "Обычно batch_size выбирается так, чтобы во время обучения получалась меньше дисперсия градиента (ну вы уже знакомы с sgd), также часто batch_size выбирается максимально возможным по ресурсам.\n",
    "\n",
    "Для этой задачи нам хватит batch_size = 64 во время обучения.\n",
    "\n",
    "*Ответьте на вопрос:* Почему в большинстве задач для валидации и тестирования можно выбирать batch_size больше? "
   ]
  },
  {
   "cell_type": "code",
   "execution_count": 5,
   "metadata": {
    "ExecuteTime": {
     "end_time": "2024-03-13T19:31:04.492888200Z",
     "start_time": "2024-03-13T19:31:04.468330900Z"
    }
   },
   "outputs": [],
   "source": [
    "from torch.utils.data import DataLoader\n",
    "\n",
    "batch_size_train = 64\n",
    "batch_size_test = 1000\n",
    "\n",
    "train_mnist_loader = DataLoader(\n",
    "    dataset=train_mnist,\n",
    "    batch_size=batch_size_train,\n",
    "    shuffle=True,\n",
    "    drop_last=True,\n",
    "    num_workers=6\n",
    ")\n",
    "\n",
    "val_mnist_loader = torch.utils.data.DataLoader(\n",
    "    dataset=val_mnist,\n",
    "    batch_size=batch_size_test,\n",
    "    shuffle=False,\n",
    "    drop_last=False,\n",
    "    num_workers=3\n",
    ")"
   ]
  },
  {
   "cell_type": "code",
   "execution_count": 6,
   "metadata": {
    "ExecuteTime": {
     "end_time": "2024-03-13T19:31:07.793285800Z",
     "start_time": "2024-03-13T19:31:04.470887600Z"
    }
   },
   "outputs": [
    {
     "data": {
      "text/plain": "(torch.Size([64, 1, 28, 28]), torch.Size([64]))"
     },
     "execution_count": 6,
     "metadata": {},
     "output_type": "execute_result"
    }
   ],
   "source": [
    "images, labels = next(iter(train_mnist_loader))\n",
    "images.shape, labels.shape"
   ]
  },
  {
   "cell_type": "code",
   "execution_count": 7,
   "metadata": {
    "ExecuteTime": {
     "end_time": "2024-03-13T19:31:07.858886100Z",
     "start_time": "2024-03-13T19:31:07.793814100Z"
    }
   },
   "outputs": [
    {
     "data": {
      "text/plain": "<Figure size 640x480 with 1 Axes>",
      "image/png": "[encoded data removed]"
     },
     "metadata": {},
     "output_type": "display_data"
    }
   ],
   "source": [
    "i = 3\n",
    "plt.title(f'digit {labels[i]}')\n",
    "plt.imshow(images[i, 0], cmap='gray')\n",
    "plt.axis('off')\n",
    "plt.show()"
   ]
  },
  {
   "cell_type": "markdown",
   "metadata": {},
   "source": [
    "## `Задание 2. Цикл обучения (1.5 балла)`"
   ]
  },
  {
   "cell_type": "markdown",
   "metadata": {},
   "source": [
    "Ниже предоставлен базовый вариант цикла обучения, представленный тремя функциями: `train_epoch`, `val_epoch`, `train_val`."
   ]
  },
  {
   "cell_type": "code",
   "execution_count": 8,
   "metadata": {
    "ExecuteTime": {
     "end_time": "2024-03-13T19:31:07.862806700Z",
     "start_time": "2024-03-13T19:31:07.859935400Z"
    }
   },
   "outputs": [],
   "source": [
    "def train_epoch(\n",
    "    network,\n",
    "    train_loader,\n",
    "    criterion,\n",
    "    optimizer,\n",
    "):\n",
    "    \"\"\"train `network` with `optimizer` for one epoch with data from `train_loader` to minimize `criterion`\"\"\"\n",
    "    \n",
    "    network.train()  # switch network submodules to train mode, e.g. it influences on batch-norm, dropout\n",
    "    for images, labels in train_loader:\n",
    "        images, labels = images.to(device), labels.to(device)   # send data to device\n",
    "        optimizer.zero_grad()   # zero out grads, collected from previous batch\n",
    "        logits = network(images)  # forward pass\n",
    "        loss = criterion(logits, labels, reduction='mean')\n",
    "        loss.backward()\n",
    "        optimizer.step()"
   ]
  },
  {
   "cell_type": "code",
   "execution_count": 9,
   "metadata": {
    "ExecuteTime": {
     "end_time": "2024-03-13T19:31:07.875001100Z",
     "start_time": "2024-03-13T19:31:07.864942800Z"
    }
   },
   "outputs": [],
   "source": [
    "@torch.no_grad()\n",
    "def val_epoch(\n",
    "    network,\n",
    "    val_loader,\n",
    "    criterion,\n",
    "):\n",
    "    \"\"\"calculate loss and accuracy on validation data\"\"\"\n",
    "    val_loss = 0\n",
    "    correct = 0\n",
    "\n",
    "    network.eval()  # switch network submodules to test mode\n",
    "    for images, labels in val_loader:\n",
    "        images, labels = images.to(device), labels.to(device)\n",
    "        logits = network(images)\n",
    "        val_loss += criterion(logits, labels, reduction='sum').item()\n",
    "        pred = torch.argmax(logits, dim=1)\n",
    "        correct += torch.sum(pred == labels).item()\n",
    "\n",
    "    val_loss /= len(val_loader.dataset)\n",
    "    val_accur = correct / len(val_loader.dataset)\n",
    "\n",
    "    print(\n",
    "        f'Test set: Avg. loss: {val_loss:.4f}\\t' + \\\n",
    "        f'Accuracy: {correct}/{len(val_loader.dataset)}\\t' +\\\n",
    "        f'({100. * val_accur:.0f}%)',\n",
    "    )"
   ]
  },
  {
   "cell_type": "code",
   "execution_count": 10,
   "metadata": {
    "ExecuteTime": {
     "end_time": "2024-03-13T19:31:07.876615300Z",
     "start_time": "2024-03-13T19:31:07.870256200Z"
    }
   },
   "outputs": [],
   "source": [
    "def train_val(\n",
    "    network,\n",
    "    n_epochs,\n",
    "    criterion,\n",
    "    optimizer,\n",
    "    train_loader,\n",
    "    val_loader,\n",
    "):\n",
    "    \"\"\"full cycle of neural network training\"\"\"\n",
    "\n",
    "    val_epoch(network, val_loader, criterion)\n",
    "    \n",
    "    for epoch in range(1, n_epochs + 1):\n",
    "        train_epoch(network, train_loader, criterion, optimizer)\n",
    "        val_epoch(network, val_loader, criterion)"
   ]
  },
  {
   "cell_type": "markdown",
   "metadata": {},
   "source": [
    "Для проверки, что все работает, обучите бейзлайн -- однослойную [полносвязную](https://pytorch.org/docs/stable/generated/torch.nn.Linear.html) сеть на [кросс-энтропийный лосс](https://pytorch.org/docs/stable/generated/torch.nn.functional.cross_entropy.html). \n",
    "\n",
    "\n",
    "*Заметьте*, что на вход этому лоссу нужно подавать сырой выход нейросети, а не результат применения софтмакса."
   ]
  },
  {
   "cell_type": "code",
   "execution_count": 11,
   "metadata": {
    "ExecuteTime": {
     "end_time": "2024-03-13T19:31:07.880334400Z",
     "start_time": "2024-03-13T19:31:07.872893Z"
    }
   },
   "outputs": [],
   "source": [
    "class LogReg(nn.Module):\n",
    "    def __init__(self, input_size, output_size):\n",
    "        super().__init__()\n",
    "\n",
    "        self.input_size = input_size\n",
    "        self.output_size = output_size\n",
    "        \n",
    "        self.flatten = nn.Flatten()\n",
    "        self.linear = nn.Linear(in_features=input_size, out_features=output_size)\n",
    "\n",
    "    def forward(self, x):\n",
    "        x = self.flatten(x)\n",
    "        x = self.linear(x)\n",
    "\n",
    "        return x"
   ]
  },
  {
   "cell_type": "code",
   "execution_count": 12,
   "metadata": {
    "ExecuteTime": {
     "end_time": "2024-03-13T19:33:28.090515800Z",
     "start_time": "2024-03-13T19:31:07.876615300Z"
    }
   },
   "outputs": [
    {
     "name": "stdout",
     "output_type": "stream",
     "text": [
      "Test set: Avg. loss: 2.4114\tAccuracy: 843/10000\t(8%)\n",
      "Test set: Avg. loss: 0.4583\tAccuracy: 8855/10000\t(89%)\n",
      "Test set: Avg. loss: 0.3604\tAccuracy: 9037/10000\t(90%)\n",
      "Test set: Avg. loss: 0.3255\tAccuracy: 9083/10000\t(91%)\n",
      "Test set: Avg. loss: 0.3065\tAccuracy: 9149/10000\t(91%)\n",
      "Test set: Avg. loss: 0.2956\tAccuracy: 9182/10000\t(92%)\n",
      "Test set: Avg. loss: 0.2887\tAccuracy: 9188/10000\t(92%)\n",
      "Test set: Avg. loss: 0.2847\tAccuracy: 9202/10000\t(92%)\n",
      "Test set: Avg. loss: 0.2810\tAccuracy: 9205/10000\t(92%)\n",
      "Test set: Avg. loss: 0.2774\tAccuracy: 9209/10000\t(92%)\n",
      "Test set: Avg. loss: 0.2761\tAccuracy: 9227/10000\t(92%)\n",
      "Test set: Avg. loss: 0.2738\tAccuracy: 9224/10000\t(92%)\n",
      "Test set: Avg. loss: 0.2720\tAccuracy: 9237/10000\t(92%)\n",
      "Test set: Avg. loss: 0.2725\tAccuracy: 9238/10000\t(92%)\n",
      "Test set: Avg. loss: 0.2718\tAccuracy: 9238/10000\t(92%)\n",
      "Test set: Avg. loss: 0.2706\tAccuracy: 9216/10000\t(92%)\n",
      "Test set: Avg. loss: 0.2694\tAccuracy: 9240/10000\t(92%)\n",
      "Test set: Avg. loss: 0.2682\tAccuracy: 9257/10000\t(93%)\n",
      "Test set: Avg. loss: 0.2687\tAccuracy: 9249/10000\t(92%)\n",
      "Test set: Avg. loss: 0.2667\tAccuracy: 9249/10000\t(92%)\n",
      "Test set: Avg. loss: 0.2666\tAccuracy: 9239/10000\t(92%)\n"
     ]
    }
   ],
   "source": [
    "model = LogReg(28 * 28, 10).to(device)\n",
    "\n",
    "train_val(\n",
    "    network=model,\n",
    "    criterion=nn.functional.cross_entropy,\n",
    "    optimizer=torch.optim.Adam(model.parameters(), lr=1e-4),\n",
    "    train_loader=train_mnist_loader,\n",
    "    val_loader=val_mnist_loader,\n",
    "    n_epochs=20,\n",
    ")"
   ]
  },
  {
   "cell_type": "markdown",
   "source": [
    "Test set: Avg. loss: 2.4114 Accuracy: 843/10000 (8%)\n",
    "Test set: Avg. loss: 0.2837 Accuracy: 9179/10000 (92%)\n",
    "Test set: Avg. loss: 0.2796 Accuracy: 9201/10000 (92%)\n",
    "Test set: Avg. loss: 0.2812 Accuracy: 9199/10000 (92%)"
   ],
   "metadata": {
    "collapsed": false
   }
  },
  {
   "cell_type": "markdown",
   "metadata": {},
   "source": [
    "## `Задание 3. Логирование (3 балл)`"
   ]
  },
  {
   "cell_type": "markdown",
   "metadata": {},
   "source": [
    "Скопируйте и перепишите функции `train_epoch`, `val_epoch`, `train_val` таким образом, чтобы\n",
    "- во время обучения раз в `logging_interval` шагов оптимизации выводились лосс и аккураси на одном батче (пример ниже, но не обязательно делать идентично)\n",
    "- происходило сохранение весов лучшей (по аккураси на валидации) модели и состояния оптимизатора ([в помощь](https://pytorch.org/tutorials/beginner/saving_loading_models.html#save-load-state-dict-recommended))\n",
    "- в конце обучения выводился и сохранялся график-саммари (пример ниже, но не обязательно делать идентично)\n",
    "\n",
    "*Ответьте на вопрос:* Что хранится в состоянии оптимизатора? Зачем нужно его сохранять? Приведите хотя бы один пример оптимизатора, для которого есть смысл сохранять состояние."
   ]
  },
  {
   "cell_type": "code",
   "execution_count": 13,
   "metadata": {
    "ExecuteTime": {
     "end_time": "2024-03-13T19:33:28.094965900Z",
     "start_time": "2024-03-13T19:33:28.091517300Z"
    }
   },
   "outputs": [],
   "source": [
    "class Logger:\n",
    "    def __init__(self):\n",
    "        self.train_loss = []\n",
    "        self.val_loss = []\n",
    "        self.train_acc = []\n",
    "        self.val_acc = []\n",
    "        \n",
    "        self.model_state = None\n",
    "        self.optimizer_state = None\n",
    "    \n",
    "    def log_train(self, train_loss, train_acc):\n",
    "        self.train_loss.append(train_loss)\n",
    "        self.train_acc.append(train_acc)\n",
    "    \n",
    "    def log_val(self, val_loss, val_acc):\n",
    "        self.val_loss.append(val_loss)\n",
    "        self.val_acc.append(val_acc)\n",
    "    \n",
    "    def log_state(self, model_state = None, optimizer_state = None):\n",
    "        if model_state is not None:\n",
    "            self.model_state = model_state\n",
    "        if optimizer_state is not None:\n",
    "            self.optimizer_state = optimizer_state"
   ]
  },
  {
   "cell_type": "code",
   "outputs": [],
   "source": [
    "def train_epoch(\n",
    "    network,\n",
    "    train_loader,\n",
    "    criterion,\n",
    "    optimizer,\n",
    "    logger: Logger,\n",
    "    logging_interval: int = 1,\n",
    "):\n",
    "    \"\"\"train `network` with `optimizer` for one epoch with data from `train_loader` to minimize `criterion`\"\"\"\n",
    "    \n",
    "    network.train()  # switch network submodules to train mode, e.g. it influences on batch-norm, dropout\n",
    "    logger_step = 0\n",
    "    for images, labels in train_loader:\n",
    "        images, labels = images.to(device), labels.to(device)   # send data to device\n",
    "        optimizer.zero_grad()   # zero out grads, collected from previous batch\n",
    "        logits = network(images)  # forward pass\n",
    "        loss = criterion(logits, labels, reduction='mean')\n",
    "        loss.backward()\n",
    "        optimizer.step()\n",
    "        logger_step = (logger_step + 1) % logging_interval\n",
    "        \n",
    "        if logger_step == 0:\n",
    "            pred = logits.argmax(dim=1)\n",
    "            train_accuracy = torch.sum(pred == labels).item() / len(labels)\n",
    "            logger.log_train(loss.item(), train_accuracy)"
   ],
   "metadata": {
    "collapsed": false,
    "ExecuteTime": {
     "end_time": "2024-03-13T19:33:28.102343100Z",
     "start_time": "2024-03-13T19:33:28.093965900Z"
    }
   },
   "execution_count": 14
  },
  {
   "cell_type": "code",
   "outputs": [],
   "source": [
    "@torch.no_grad()\n",
    "def val_epoch(\n",
    "    network,\n",
    "    val_loader,\n",
    "    criterion,\n",
    "    logger: Logger\n",
    "):\n",
    "    \"\"\"calculate loss and accuracy on validation data\"\"\"\n",
    "    val_loss = 0\n",
    "    correct = 0\n",
    "\n",
    "    network.eval()  # switch network submodules to test mode\n",
    "    for images, labels in val_loader:\n",
    "        images, labels = images.to(device), labels.to(device)\n",
    "        logits = network(images)\n",
    "        val_loss += criterion(logits, labels, reduction='sum').item()\n",
    "        pred = torch.argmax(logits, dim=1)\n",
    "        correct += torch.sum(pred == labels).item()\n",
    "\n",
    "    val_loss /= len(val_loader.dataset)\n",
    "    val_accur = correct / len(val_loader.dataset)\n",
    "\n",
    "    logger.log_val(val_loss, val_accur)\n",
    "\n",
    "    print(\n",
    "        f'Test set: Avg. loss: {val_loss:.4f}',\n",
    "        f'Accuracy: {correct}/{len(val_loader.dataset)}',\n",
    "        f'({100. * val_accur:.0f}%)',\n",
    "    )\n",
    "    \n",
    "    return val_loss, val_accur"
   ],
   "metadata": {
    "collapsed": false,
    "ExecuteTime": {
     "end_time": "2024-03-13T19:33:28.103342900Z",
     "start_time": "2024-03-13T19:33:28.100123800Z"
    }
   },
   "execution_count": 15
  },
  {
   "cell_type": "code",
   "outputs": [],
   "source": [
    "def train_val(\n",
    "    network,\n",
    "    n_epochs,\n",
    "    criterion,\n",
    "    optimizer,\n",
    "    train_loader,\n",
    "    val_loader,\n",
    "    logger: Logger,\n",
    "    logging_interval: int = 5,\n",
    "):\n",
    "    \"\"\"full cycle of neural network training\"\"\"\n",
    "\n",
    "    best_loss, best_accur = val_epoch(network, val_loader, criterion, logger)\n",
    "    for epoch in range(1, n_epochs + 1):\n",
    "        train_epoch(network, train_loader, criterion, optimizer, logger, logging_interval)\n",
    "        val_loss, val_accur = val_epoch(network, val_loader, criterion, logger)\n",
    "        \n",
    "        if val_accur > best_accur:\n",
    "            best_accur = val_accur\n",
    "            logger.log_state(network.state_dict(), optimizer.state_dict())"
   ],
   "metadata": {
    "collapsed": false,
    "ExecuteTime": {
     "end_time": "2024-03-13T19:33:28.107758Z",
     "start_time": "2024-03-13T19:33:28.104341600Z"
    }
   },
   "execution_count": 16
  },
  {
   "cell_type": "code",
   "execution_count": 17,
   "metadata": {
    "ExecuteTime": {
     "end_time": "2024-03-13T19:35:46.912609600Z",
     "start_time": "2024-03-13T19:33:28.106756400Z"
    }
   },
   "outputs": [
    {
     "name": "stdout",
     "output_type": "stream",
     "text": [
      "Test set: Avg. loss: 2.4668 Accuracy: 927/10000 (9%)\n",
      "Test set: Avg. loss: 0.4624 Accuracy: 8866/10000 (89%)\n",
      "Test set: Avg. loss: 0.3609 Accuracy: 9058/10000 (91%)\n",
      "Test set: Avg. loss: 0.3254 Accuracy: 9125/10000 (91%)\n",
      "Test set: Avg. loss: 0.3066 Accuracy: 9152/10000 (92%)\n",
      "Test set: Avg. loss: 0.2954 Accuracy: 9176/10000 (92%)\n",
      "Test set: Avg. loss: 0.2898 Accuracy: 9187/10000 (92%)\n",
      "Test set: Avg. loss: 0.2850 Accuracy: 9192/10000 (92%)\n",
      "Test set: Avg. loss: 0.2812 Accuracy: 9203/10000 (92%)\n",
      "Test set: Avg. loss: 0.2791 Accuracy: 9208/10000 (92%)\n",
      "Test set: Avg. loss: 0.2766 Accuracy: 9206/10000 (92%)\n",
      "Test set: Avg. loss: 0.2749 Accuracy: 9208/10000 (92%)\n",
      "Test set: Avg. loss: 0.2726 Accuracy: 9221/10000 (92%)\n",
      "Test set: Avg. loss: 0.2721 Accuracy: 9219/10000 (92%)\n",
      "Test set: Avg. loss: 0.2699 Accuracy: 9223/10000 (92%)\n",
      "Test set: Avg. loss: 0.2700 Accuracy: 9224/10000 (92%)\n",
      "Test set: Avg. loss: 0.2693 Accuracy: 9240/10000 (92%)\n",
      "Test set: Avg. loss: 0.2690 Accuracy: 9238/10000 (92%)\n",
      "Test set: Avg. loss: 0.2674 Accuracy: 9245/10000 (92%)\n",
      "Test set: Avg. loss: 0.2664 Accuracy: 9237/10000 (92%)\n",
      "Test set: Avg. loss: 0.2665 Accuracy: 9243/10000 (92%)\n"
     ]
    }
   ],
   "source": [
    "model = LogReg(28 * 28, 10).to(device)\n",
    "\n",
    "lg = Logger()\n",
    "\n",
    "train_val(\n",
    "    network=model,\n",
    "    criterion=nn.functional.cross_entropy,\n",
    "    optimizer=torch.optim.Adam(model.parameters(), lr=1e-4),\n",
    "    train_loader=train_mnist_loader,\n",
    "    val_loader=val_mnist_loader,\n",
    "    n_epochs=20,\n",
    "    logger=lg,\n",
    "    logging_interval=5\n",
    ")"
   ]
  },
  {
   "cell_type": "code",
   "outputs": [
    {
     "data": {
      "text/plain": "[<matplotlib.lines.Line2D at 0x19090353b50>]"
     },
     "execution_count": 18,
     "metadata": {},
     "output_type": "execute_result"
    },
    {
     "data": {
      "text/plain": "<Figure size 640x480 with 1 Axes>",
      "image/png": "[encoded data removed]"
     },
     "metadata": {},
     "output_type": "display_data"
    }
   ],
   "source": [
    "plt.plot(lg.val_acc)"
   ],
   "metadata": {
    "collapsed": false,
    "ExecuteTime": {
     "end_time": "2024-03-13T19:35:47.004747200Z",
     "start_time": "2024-03-13T19:35:46.913609600Z"
    }
   },
   "execution_count": 18
  },
  {
   "cell_type": "markdown",
   "metadata": {},
   "source": [
    "Загрузите лучшие веса модели и подсчитайте аккураси на валидации, чтобы подтвердить что веса сохранились корректно."
   ]
  },
  {
   "cell_type": "code",
   "execution_count": 19,
   "metadata": {
    "ExecuteTime": {
     "end_time": "2024-03-13T19:35:49.562732800Z",
     "start_time": "2024-03-13T19:35:47.004747200Z"
    }
   },
   "outputs": [
    {
     "name": "stdout",
     "output_type": "stream",
     "text": [
      "Test set: Avg. loss: 0.2665 Accuracy: 9243/10000 (92%)\n"
     ]
    },
    {
     "data": {
      "text/plain": "(0.26652728500366213, 0.9243)"
     },
     "execution_count": 19,
     "metadata": {},
     "output_type": "execute_result"
    }
   ],
   "source": [
    "model = LogReg(28 * 28, 10).to(device)\n",
    "model.load_state_dict(lg.model_state)\n",
    "\n",
    "val_epoch(model, val_mnist_loader, nn.functional.cross_entropy, Logger())"
   ]
  },
  {
   "cell_type": "markdown",
   "metadata": {},
   "source": [
    "Загрузите сохранённое состояние оптимизатора и сделайте две эпохи обучения, чтобы подтвердить, что состояния оптимизатора были сохранены корректно."
   ]
  },
  {
   "cell_type": "code",
   "execution_count": 20,
   "metadata": {
    "ExecuteTime": {
     "end_time": "2024-03-13T19:36:05.470134Z",
     "start_time": "2024-03-13T19:35:49.561734Z"
    }
   },
   "outputs": [
    {
     "name": "stdout",
     "output_type": "stream",
     "text": [
      "Test set: Avg. loss: 0.2665 Accuracy: 9243/10000 (92%)\n",
      "Test set: Avg. loss: 0.2667 Accuracy: 9233/10000 (92%)\n",
      "Test set: Avg. loss: 0.2660 Accuracy: 9251/10000 (93%)\n"
     ]
    }
   ],
   "source": [
    "optimizer = torch.optim.Adam(model.parameters(), lr=1e-4)\n",
    "optimizer.load_state_dict(lg.optimizer_state)\n",
    "\n",
    "train_val(\n",
    "    network=model,\n",
    "    criterion=nn.functional.cross_entropy,\n",
    "    optimizer=optimizer,\n",
    "    train_loader=train_mnist_loader,\n",
    "    val_loader=val_mnist_loader,\n",
    "    n_epochs=2,\n",
    "    logger=lg,\n",
    "    logging_interval=5\n",
    ")"
   ]
  },
  {
   "cell_type": "markdown",
   "metadata": {},
   "source": [
    "## `Задание 4. Логирование с помощью tensorboard (1 балл)`"
   ]
  },
  {
   "cell_type": "markdown",
   "metadata": {},
   "source": [
    "На самом деле это дурной тон логировать обучение нейросети так, как это сделали вы выше. Дело в том, что весь функционал уже реализован в [`tensorboard`](https://pytorch.org/docs/stable/tensorboard.html), а вы написали велосипед."
   ]
  },
  {
   "cell_type": "code",
   "execution_count": 21,
   "metadata": {
    "ExecuteTime": {
     "end_time": "2024-03-13T19:36:07.422124500Z",
     "start_time": "2024-03-13T19:36:05.471133300Z"
    }
   },
   "outputs": [
    {
     "name": "stdout",
     "output_type": "stream",
     "text": [
      "Requirement already satisfied: tensorboard in c:\\python_venv\\lib\\site-packages (2.16.2)\n",
      "Requirement already satisfied: absl-py>=0.4 in c:\\python_venv\\lib\\site-packages (from tensorboard) (2.1.0)\n",
      "Requirement already satisfied: grpcio>=1.48.2 in c:\\python_venv\\lib\\site-packages (from tensorboard) (1.62.0)\n",
      "Requirement already satisfied: markdown>=2.6.8 in c:\\python_venv\\lib\\site-packages (from tensorboard) (3.5.2)\n",
      "Requirement already satisfied: numpy>=1.12.0 in c:\\python_venv\\lib\\site-packages (from tensorboard) (1.24.3)\n",
      "Requirement already satisfied: protobuf!=4.24.0,>=3.19.6 in c:\\python_venv\\lib\\site-packages (from tensorboard) (4.25.3)\n",
      "Requirement already satisfied: setuptools>=41.0.0 in c:\\python_venv\\lib\\site-packages (from tensorboard) (65.5.0)\n",
      "Requirement already satisfied: six>1.9 in c:\\python_venv\\lib\\site-packages (from tensorboard) (1.16.0)\n",
      "Requirement already satisfied: tensorboard-data-server<0.8.0,>=0.7.0 in c:\\python_venv\\lib\\site-packages (from tensorboard) (0.7.2)\n",
      "Requirement already satisfied: werkzeug>=1.0.1 in c:\\python_venv\\lib\\site-packages (from tensorboard) (3.0.1)\n",
      "Requirement already satisfied: MarkupSafe>=2.1.1 in c:\\python_venv\\lib\\site-packages (from werkzeug>=1.0.1->tensorboard) (2.1.2)\n"
     ]
    }
   ],
   "source": [
    "! pip3 install tensorboard\n",
    "from torch.utils.tensorboard import SummaryWriter"
   ]
  },
  {
   "cell_type": "markdown",
   "metadata": {},
   "source": [
    "Если у вас есть доступ к терминалу и браузеру, то удобнее всего ввести команду\n",
    "```bash\n",
    "tensorboard --logdir .\n",
    "```\n",
    "и открыть UI в выделенном локалхосте. \n",
    "\n",
    "Если вы работаете в гугл колабе, то можете запустить UI как виджет в Jupyter:"
   ]
  },
  {
   "cell_type": "code",
   "execution_count": null,
   "metadata": {
    "ExecuteTime": {
     "start_time": "2024-02-28T20:57:53.274092600Z"
    }
   },
   "outputs": [],
   "source": [
    "%load_ext tensorboard\n",
    "%tensorboard --logdir ."
   ]
  },
  {
   "cell_type": "markdown",
   "metadata": {},
   "source": [
    "Как только вы начнете логировать в объект типа `SummaryWriter`, в UI начнут строиться кривые обучения."
   ]
  },
  {
   "cell_type": "markdown",
   "metadata": {},
   "source": [
    "Скопируйте и перепишите функции обучения таким образом, чтобы логирование происходило в `tensorboard`.\n",
    "\n",
    "*Замечание.* Вам пригодится метод `add_scalar`, чтобы сохранять лосс и аккураси, и метод `add_hparams`, чтобы сохранить важные гиперпараметры (например, кодовое имя архитектуры сети) и финальное достигнутое качество."
   ]
  },
  {
   "cell_type": "code",
   "outputs": [],
   "source": [
    "from itertools import count"
   ],
   "metadata": {
    "collapsed": false,
    "ExecuteTime": {
     "end_time": "2024-03-13T19:36:07.426092400Z",
     "start_time": "2024-03-13T19:36:07.423577300Z"
    }
   },
   "execution_count": 22
  },
  {
   "cell_type": "code",
   "execution_count": 23,
   "metadata": {
    "ExecuteTime": {
     "end_time": "2024-03-13T19:36:07.433980200Z",
     "start_time": "2024-03-13T19:36:07.425093300Z"
    }
   },
   "outputs": [],
   "source": [
    "def train_epoch(\n",
    "    network,\n",
    "    train_loader,\n",
    "    criterion,\n",
    "    optimizer,\n",
    "    writer: SummaryWriter,\n",
    "    logging_interval: int = 1,\n",
    "    logger_step_cntr: count = None,\n",
    "):\n",
    "    \"\"\"train `network` with `optimizer` for one epoch with data from `train_loader` to minimize `criterion`\"\"\"\n",
    "    \n",
    "    network.train()  # switch network submodules to train mode, e.g. it influences on batch-norm, dropout\n",
    "    logger_step_cntr = count() if logger_step_cntr is None else logger_step_cntr\n",
    "    for images, labels in train_loader:\n",
    "        images, labels = images.to(device), labels.to(device)   # send data to device\n",
    "        optimizer.zero_grad()   # zero out grads, collected from previous batch\n",
    "        logits = network(images)  # forward pass\n",
    "        loss = criterion(logits, labels, reduction='mean')\n",
    "        loss.backward()\n",
    "        optimizer.step()\n",
    "        logger_step = next(logger_step_cntr)\n",
    "        \n",
    "        if logger_step % logging_interval == 0:\n",
    "            pred = logits.argmax(dim=1)\n",
    "            train_accuracy = torch.sum(pred == labels).item() / len(labels)\n",
    "            writer.add_scalar('Loss/train', loss.item(), logger_step // logging_interval)\n",
    "            writer.add_scalar('Accuracy/train', train_accuracy, logger_step // logging_interval)"
   ]
  },
  {
   "cell_type": "code",
   "outputs": [],
   "source": [
    "@torch.no_grad()\n",
    "def val_epoch(\n",
    "    network,\n",
    "    val_loader,\n",
    "    criterion,\n",
    "    writer: SummaryWriter,\n",
    "    epoch_no: int\n",
    "):\n",
    "    \"\"\"calculate loss and accuracy on validation data\"\"\"\n",
    "    val_loss = 0\n",
    "    correct = 0\n",
    "\n",
    "    network.eval()  # switch network submodules to test mode\n",
    "    for images, labels in val_loader:\n",
    "        images, labels = images.to(device), labels.to(device)\n",
    "        logits = network(images)\n",
    "        val_loss += criterion(logits, labels, reduction='sum').item()\n",
    "        pred = torch.argmax(logits, dim=1)\n",
    "        correct += torch.sum(pred == labels).item()\n",
    "\n",
    "    val_loss /= len(val_loader.dataset)\n",
    "    val_accur = correct / len(val_loader.dataset)\n",
    "\n",
    "    writer.add_scalar('Loss/val', val_loss, epoch_no)\n",
    "    writer.add_scalar('Accuracy/val', val_accur, epoch_no)\n",
    "\n",
    "    print(\n",
    "        f'Test set: Avg. loss: {val_loss:.4f}',\n",
    "        f'Accuracy: {correct}/{len(val_loader.dataset)}',\n",
    "        f'({100. * val_accur:.0f}%)',\n",
    "    )\n",
    "    \n",
    "    return val_loss, val_accur"
   ],
   "metadata": {
    "collapsed": false,
    "ExecuteTime": {
     "end_time": "2024-03-13T19:36:07.461308200Z",
     "start_time": "2024-03-13T19:36:07.429599400Z"
    }
   },
   "execution_count": 24
  },
  {
   "cell_type": "code",
   "outputs": [],
   "source": [
    "def train_val(\n",
    "    network,\n",
    "    n_epochs,\n",
    "    criterion,\n",
    "    optimizer,\n",
    "    train_loader,\n",
    "    val_loader,\n",
    "    writer: SummaryWriter,\n",
    "    logging_interval: int = 5,\n",
    "    best_dump_path: str = None,\n",
    "    accuracy_dump_threshold: float = 0.0,\n",
    "):\n",
    "    \"\"\"full cycle of neural network training\"\"\"\n",
    "\n",
    "    logger_step_cntr = count(0)\n",
    "    best_loss, best_accur = val_epoch(network, val_loader, criterion, writer, epoch_no=0)\n",
    "    for epoch in range(1, n_epochs + 1):\n",
    "        train_epoch(network, train_loader, criterion, optimizer, writer, logging_interval, logger_step_cntr)\n",
    "        val_loss, val_accur = val_epoch(network, val_loader, criterion, writer, epoch_no=epoch)\n",
    "        \n",
    "        if (val_accur > best_accur) and (best_dump_path is not None) and (val_accur > accuracy_dump_threshold):\n",
    "            with open(best_dump_path, \"wb\") as f:\n",
    "                torch.save(\n",
    "                    obj=(model.state_dict(), optimizer.state_dict(), val_loss, val_accur),\n",
    "                    f=f\n",
    "                )"
   ],
   "metadata": {
    "collapsed": false,
    "ExecuteTime": {
     "end_time": "2024-03-13T19:36:07.464307100Z",
     "start_time": "2024-03-13T19:36:07.433980200Z"
    }
   },
   "execution_count": 25
  },
  {
   "cell_type": "code",
   "outputs": [
    {
     "name": "stdout",
     "output_type": "stream",
     "text": [
      "Test set: Avg. loss: 2.2553 Accuracy: 1771/10000 (18%)\n",
      "Test set: Avg. loss: 0.4595 Accuracy: 8871/10000 (89%)\n",
      "Test set: Avg. loss: 0.3599 Accuracy: 9045/10000 (90%)\n",
      "Test set: Avg. loss: 0.3244 Accuracy: 9105/10000 (91%)\n",
      "Test set: Avg. loss: 0.3064 Accuracy: 9141/10000 (91%)\n",
      "Test set: Avg. loss: 0.2962 Accuracy: 9163/10000 (92%)\n",
      "Test set: Avg. loss: 0.2897 Accuracy: 9192/10000 (92%)\n",
      "Test set: Avg. loss: 0.2861 Accuracy: 9201/10000 (92%)\n",
      "Test set: Avg. loss: 0.2819 Accuracy: 9202/10000 (92%)\n",
      "Test set: Avg. loss: 0.2796 Accuracy: 9213/10000 (92%)\n",
      "Test set: Avg. loss: 0.2758 Accuracy: 9221/10000 (92%)\n",
      "Test set: Avg. loss: 0.2749 Accuracy: 9219/10000 (92%)\n",
      "Test set: Avg. loss: 0.2742 Accuracy: 9241/10000 (92%)\n",
      "Test set: Avg. loss: 0.2727 Accuracy: 9223/10000 (92%)\n",
      "Test set: Avg. loss: 0.2712 Accuracy: 9234/10000 (92%)\n",
      "Test set: Avg. loss: 0.2713 Accuracy: 9227/10000 (92%)\n",
      "Test set: Avg. loss: 0.2697 Accuracy: 9235/10000 (92%)\n",
      "Test set: Avg. loss: 0.2692 Accuracy: 9251/10000 (93%)\n",
      "Test set: Avg. loss: 0.2681 Accuracy: 9233/10000 (92%)\n",
      "Test set: Avg. loss: 0.2672 Accuracy: 9248/10000 (92%)\n",
      "Test set: Avg. loss: 0.2669 Accuracy: 9243/10000 (92%)\n"
     ]
    }
   ],
   "source": [
    "model = LogReg(28 * 28, 10).to(device)\n",
    "\n",
    "writer = SummaryWriter(\"runs/MNIST_LogReg\")\n",
    "\n",
    "train_val(\n",
    "    network=model,\n",
    "    criterion=nn.functional.cross_entropy,\n",
    "    optimizer=torch.optim.Adam(model.parameters(), lr=1e-4),\n",
    "    train_loader=train_mnist_loader,\n",
    "    val_loader=val_mnist_loader,\n",
    "    n_epochs=20,\n",
    "    writer=writer,\n",
    "    logging_interval=5,\n",
    ")\n",
    "\n",
    "writer.flush()"
   ],
   "metadata": {
    "collapsed": false,
    "ExecuteTime": {
     "end_time": "2024-03-13T19:38:24.490561900Z",
     "start_time": "2024-03-13T19:36:07.438308800Z"
    }
   },
   "execution_count": 26
  },
  {
   "cell_type": "markdown",
   "metadata": {},
   "source": [
    "## `Задание 5. Побейте бейзлайн (2+2 балла)`"
   ]
  },
  {
   "cell_type": "markdown",
   "metadata": {},
   "source": [
    "На датасете [`CIFAR-10`](https://pytorch.org/vision/0.8/datasets.html#torchvision.datasets.CIFAR10) обучите модель, которая выдает аккураси `>=0.7` (2 балла) и аккураси `>=0.8` (ещё 2 балла).\n",
    "- Можете использовать любые модули `pytorch`, любые оптимизаторы и шедулеры, можете использовать аугментации ([например](https://pytorch.org/vision/stable/transforms.html))\n",
    "- Для отслеживания экспериментов используйте логирование с `tensorboard`, не забывайте давать осмысленные имена эспериментам и логировать нужные гиперпараметры, сохранять веса сети и состояние оптимизатора."
   ]
  },
  {
   "cell_type": "code",
   "outputs": [],
   "source": [
    "from torch.utils.tensorboard import SummaryWriter\n",
    "from itertools import count"
   ],
   "metadata": {
    "collapsed": false,
    "ExecuteTime": {
     "end_time": "2024-03-13T19:38:55.052836200Z",
     "start_time": "2024-03-13T19:38:55.045320100Z"
    }
   },
   "execution_count": 27
  },
  {
   "cell_type": "code",
   "outputs": [],
   "source": [
    "def train_epoch(\n",
    "    network,\n",
    "    train_loader,\n",
    "    criterion,\n",
    "    optimizer,\n",
    "    writer: SummaryWriter,\n",
    "    logging_interval: int = 1,\n",
    "    logger_step_cntr: count = None,\n",
    "):\n",
    "    \"\"\"train `network` with `optimizer` for one epoch with data from `train_loader` to minimize `criterion`\"\"\"\n",
    "    \n",
    "    network.train()  # switch network submodules to train mode, e.g. it influences on batch-norm, dropout\n",
    "    logger_step_cntr = count() if logger_step_cntr is None else logger_step_cntr\n",
    "    for images, labels in train_loader:\n",
    "        images, labels = images.to(device), labels.to(device)   # send data to device\n",
    "        optimizer.zero_grad()   # zero out grads, collected from previous batch\n",
    "        logits = network(images)  # forward pass\n",
    "        loss = criterion(logits, labels, reduction='mean')\n",
    "        loss.backward()\n",
    "        optimizer.step()\n",
    "        logger_step = next(logger_step_cntr)\n",
    "        \n",
    "        if logger_step % logging_interval == 0:\n",
    "            pred = logits.argmax(dim=1)\n",
    "            train_accuracy = torch.sum(pred == labels).item() / len(labels)\n",
    "            writer.add_scalar('Loss/train', loss.item(), logger_step // logging_interval)\n",
    "            writer.add_scalar('Accuracy/train', train_accuracy, logger_step // logging_interval)"
   ],
   "metadata": {
    "collapsed": false,
    "ExecuteTime": {
     "end_time": "2024-03-13T19:38:55.252674300Z",
     "start_time": "2024-03-13T19:38:55.246677700Z"
    }
   },
   "execution_count": 28
  },
  {
   "cell_type": "code",
   "outputs": [],
   "source": [
    "@torch.no_grad()\n",
    "def val_epoch(\n",
    "    network,\n",
    "    val_loader,\n",
    "    criterion,\n",
    "    writer: SummaryWriter,\n",
    "    epoch_no: int\n",
    "):\n",
    "    \"\"\"calculate loss and accuracy on validation data\"\"\"\n",
    "    val_loss = 0\n",
    "    correct = 0\n",
    "\n",
    "    network.eval()  # switch network submodules to test mode\n",
    "    for images, labels in val_loader:\n",
    "        images, labels = images.to(device), labels.to(device)\n",
    "        logits = network(images)\n",
    "        val_loss += criterion(logits, labels, reduction='sum').item()\n",
    "        pred = torch.argmax(logits, dim=1)\n",
    "        correct += torch.sum(pred == labels).item()\n",
    "\n",
    "    val_loss /= len(val_loader.dataset)\n",
    "    val_accur = correct / len(val_loader.dataset)\n",
    "\n",
    "    writer.add_scalar('Loss/val', val_loss, epoch_no)\n",
    "    writer.add_scalar('Accuracy/val', val_accur, epoch_no)\n",
    "\n",
    "    print(\n",
    "        f'Test set: Avg. loss: {val_loss:.4f}',\n",
    "        f'Accuracy: {correct}/{len(val_loader.dataset)}',\n",
    "        f'({100. * val_accur:.0f}%)',\n",
    "    )\n",
    "    \n",
    "    return val_loss, val_accur"
   ],
   "metadata": {
    "collapsed": false,
    "ExecuteTime": {
     "end_time": "2024-03-13T19:38:55.766195500Z",
     "start_time": "2024-03-13T19:38:55.758288100Z"
    }
   },
   "execution_count": 29
  },
  {
   "cell_type": "code",
   "outputs": [],
   "source": [
    "def train_val(\n",
    "    network,\n",
    "    n_epochs,\n",
    "    criterion,\n",
    "    optimizer,\n",
    "    lr_scheduler,\n",
    "    train_loader,\n",
    "    val_loader,\n",
    "    writer: SummaryWriter,\n",
    "    logging_interval: int = 5,\n",
    "    best_dump_path: str = None,\n",
    "    accuracy_dump_threshold: float = 0.0,\n",
    "):\n",
    "    \"\"\"full cycle of neural network training\"\"\"\n",
    "\n",
    "    logger_step_cntr = count(0)\n",
    "    val_loss, val_accur = val_epoch(network, val_loader, criterion, writer, epoch_no=0)\n",
    "    \n",
    "    best_val_loss = val_loss\n",
    "    best_val_acc = val_accur\n",
    "    \n",
    "    for epoch in range(1, n_epochs + 1):\n",
    "        writer.add_scalar('Params/LR', optimizer.state_dict()['param_groups'][0]['lr'], epoch)\n",
    "        train_epoch(network, train_loader, criterion, optimizer, writer, logging_interval, logger_step_cntr)\n",
    "        val_loss, val_accur = val_epoch(network, val_loader, criterion, writer, epoch_no=epoch)\n",
    "        lr_scheduler.step(val_loss)\n",
    "        \n",
    "        if (val_accur > best_val_acc) and (best_dump_path is not None) and (val_accur > accuracy_dump_threshold):\n",
    "            with open(best_dump_path, \"wb\") as f:\n",
    "                torch.save(\n",
    "                    obj=(model.state_dict(), optimizer.state_dict(), val_loss, val_accur),\n",
    "                    f=f\n",
    "                )"
   ],
   "metadata": {
    "collapsed": false,
    "ExecuteTime": {
     "end_time": "2024-03-13T19:38:56.207201300Z",
     "start_time": "2024-03-13T19:38:56.199202400Z"
    }
   },
   "execution_count": 30
  },
  {
   "cell_type": "code",
   "execution_count": 31,
   "metadata": {
    "ExecuteTime": {
     "end_time": "2024-03-13T19:38:57.341959Z",
     "start_time": "2024-03-13T19:38:57.333963100Z"
    }
   },
   "outputs": [],
   "source": [
    "def load_cifar10(train: bool, transform = None):\n",
    "    if transform is None:\n",
    "        transform = T.Compose([T.ToTensor()])\n",
    "    return torchvision.datasets.CIFAR10(\n",
    "        root='./data',\n",
    "        train=train,\n",
    "        download=True,\n",
    "        transform=transform\n",
    "    )"
   ]
  },
  {
   "cell_type": "code",
   "outputs": [
    {
     "name": "stdout",
     "output_type": "stream",
     "text": [
      "Files already downloaded and verified\n"
     ]
    },
    {
     "data": {
      "text/plain": "torch.Size([3, 32, 32])"
     },
     "execution_count": 32,
     "metadata": {},
     "output_type": "execute_result"
    }
   ],
   "source": [
    "cifar10_train = load_cifar10(True)\n",
    "cifar10_train[3][0].shape"
   ],
   "metadata": {
    "collapsed": false,
    "ExecuteTime": {
     "end_time": "2024-03-13T19:38:58.188883600Z",
     "start_time": "2024-03-13T19:38:57.597587100Z"
    }
   },
   "execution_count": 32
  },
  {
   "cell_type": "code",
   "outputs": [
    {
     "data": {
      "text/plain": "<matplotlib.image.AxesImage at 0x1912ae97d10>"
     },
     "execution_count": 33,
     "metadata": {},
     "output_type": "execute_result"
    },
    {
     "data": {
      "text/plain": "<Figure size 640x480 with 1 Axes>",
      "image/png": "[encoded data removed]"
     },
     "metadata": {},
     "output_type": "display_data"
    }
   ],
   "source": [
    "plt.imshow(cifar10_train[1][0].transpose(0, 1).transpose(1, 2))"
   ],
   "metadata": {
    "collapsed": false,
    "ExecuteTime": {
     "end_time": "2024-03-13T19:38:58.279596800Z",
     "start_time": "2024-03-13T19:38:58.189421800Z"
    }
   },
   "execution_count": 33
  },
  {
   "cell_type": "code",
   "outputs": [],
   "source": [
    "from torch.utils.data import DataLoader"
   ],
   "metadata": {
    "collapsed": false,
    "ExecuteTime": {
     "end_time": "2024-03-13T19:38:58.491098900Z",
     "start_time": "2024-03-13T19:38:58.480324200Z"
    }
   },
   "execution_count": 34
  },
  {
   "cell_type": "markdown",
   "source": [
    "Аугментация позаимствована из [ноутбука](https://www.kaggle.com/code/vikasbhadoria/cifar10-high-accuracy-model-build-on-pytorch)"
   ],
   "metadata": {
    "collapsed": false
   }
  },
  {
   "cell_type": "code",
   "outputs": [
    {
     "name": "stdout",
     "output_type": "stream",
     "text": [
      "Files already downloaded and verified\n",
      "Files already downloaded and verified\n"
     ]
    }
   ],
   "source": [
    "transform_train = T.Compose([\n",
    "    T.RandomHorizontalFlip(p=0.5), \n",
    "    T.RandomRotation(10),\n",
    "    T.RandomAffine(0, shear=10, scale=(0.8, 1.2)),\n",
    "    T.RandomCrop(32, padding=4),\n",
    "    T.ColorJitter(brightness=0.2, contrast=0.2, saturation=0.2),\n",
    "    # T.GaussianBlur(kernel_size=(3, 3), sigma=(0.05, 0.5)),\n",
    "    # T.RandomEqualize(p=0.2),\n",
    "    # T.RandomGrayscale(p=0.1),\n",
    "    T.ToTensor(), \n",
    "    T.Normalize((0.5, 0.5, 0.5), (0.5, 0.5, 0.5)),\n",
    "])\n",
    "\n",
    "transform_val = T.Compose([\n",
    "    T.ToTensor(), \n",
    "    T.Normalize((0.5, 0.5, 0.5), (0.5, 0.5, 0.5)),\n",
    "])\n",
    "\n",
    "cifar10_train = load_cifar10(True, transform = transform_train)\n",
    "cifar10_val = load_cifar10(False, transform = transform_val)\n",
    "\n",
    "batch_size_train = 64\n",
    "batch_size_test = 512\n",
    "\n",
    "train_cifar10_loader = DataLoader(\n",
    "    dataset=cifar10_train,\n",
    "    batch_size=batch_size_train,\n",
    "    shuffle=True,\n",
    "    drop_last=True,\n",
    "    num_workers=9\n",
    ")\n",
    "\n",
    "val_cifar10_loader = torch.utils.data.DataLoader(\n",
    "    dataset=cifar10_val,\n",
    "    batch_size=batch_size_test,\n",
    "    shuffle=False,\n",
    "    drop_last=False,\n",
    "    num_workers=6\n",
    ")"
   ],
   "metadata": {
    "collapsed": false,
    "ExecuteTime": {
     "end_time": "2024-03-13T19:39:01.187499300Z",
     "start_time": "2024-03-13T19:38:59.884328300Z"
    }
   },
   "execution_count": 35
  },
  {
   "cell_type": "code",
   "outputs": [],
   "source": [
    "torch.cuda.empty_cache()"
   ],
   "metadata": {
    "collapsed": false,
    "ExecuteTime": {
     "end_time": "2024-03-13T19:39:01.191029100Z",
     "start_time": "2024-03-13T19:39:01.188496600Z"
    }
   },
   "execution_count": 36
  },
  {
   "cell_type": "markdown",
   "source": [
    "Обучим LogReg. Данная модель послужит базовой линией для обучения более сложных моделей, а также позволит проверить корректность загрузки данных"
   ],
   "metadata": {
    "collapsed": false
   }
  },
  {
   "cell_type": "code",
   "outputs": [
    {
     "name": "stdout",
     "output_type": "stream",
     "text": [
      "Test set: Avg. loss: 2.3615 Accuracy: 1057/10000 (11%)\n",
      "Test set: Avg. loss: 1.8957 Accuracy: 3298/10000 (33%)\n",
      "Test set: Avg. loss: 1.8753 Accuracy: 3412/10000 (34%)\n",
      "Test set: Avg. loss: 1.8676 Accuracy: 3466/10000 (35%)\n",
      "Test set: Avg. loss: 1.8578 Accuracy: 3533/10000 (35%)\n",
      "Test set: Avg. loss: 1.8483 Accuracy: 3628/10000 (36%)\n",
      "Test set: Avg. loss: 1.8473 Accuracy: 3605/10000 (36%)\n",
      "Test set: Avg. loss: 1.8351 Accuracy: 3714/10000 (37%)\n",
      "Test set: Avg. loss: 1.8454 Accuracy: 3571/10000 (36%)\n",
      "Test set: Avg. loss: 1.8369 Accuracy: 3635/10000 (36%)\n",
      "Test set: Avg. loss: 1.8450 Accuracy: 3577/10000 (36%)\n",
      "Test set: Avg. loss: 1.8346 Accuracy: 3657/10000 (37%)\n",
      "Test set: Avg. loss: 1.8346 Accuracy: 3616/10000 (36%)\n",
      "Test set: Avg. loss: 1.8296 Accuracy: 3704/10000 (37%)\n",
      "Test set: Avg. loss: 1.8315 Accuracy: 3653/10000 (37%)\n",
      "Test set: Avg. loss: 1.8306 Accuracy: 3623/10000 (36%)\n",
      "Test set: Avg. loss: 1.8346 Accuracy: 3669/10000 (37%)\n",
      "Test set: Avg. loss: 1.8297 Accuracy: 3672/10000 (37%)\n",
      "Test set: Avg. loss: 1.8304 Accuracy: 3632/10000 (36%)\n",
      "Test set: Avg. loss: 1.8259 Accuracy: 3688/10000 (37%)\n",
      "Test set: Avg. loss: 1.8250 Accuracy: 3697/10000 (37%)\n",
      "Test set: Avg. loss: 1.8265 Accuracy: 3675/10000 (37%)\n",
      "Test set: Avg. loss: 1.8259 Accuracy: 3716/10000 (37%)\n",
      "Test set: Avg. loss: 1.8249 Accuracy: 3694/10000 (37%)\n",
      "Test set: Avg. loss: 1.8268 Accuracy: 3689/10000 (37%)\n",
      "Test set: Avg. loss: 1.8211 Accuracy: 3730/10000 (37%)\n",
      "Test set: Avg. loss: 1.8224 Accuracy: 3694/10000 (37%)\n",
      "Test set: Avg. loss: 1.8256 Accuracy: 3695/10000 (37%)\n",
      "Test set: Avg. loss: 1.8237 Accuracy: 3725/10000 (37%)\n",
      "Test set: Avg. loss: 1.8235 Accuracy: 3734/10000 (37%)\n",
      "Test set: Avg. loss: 1.8233 Accuracy: 3734/10000 (37%)\n"
     ]
    }
   ],
   "source": [
    "model = LogReg(32 * 32 * 3, 10).to(device)\n",
    "\n",
    "optimizer = torch.optim.Adam(model.parameters(), lr=1e-4)\n",
    "lr_scheduler = torch.optim.lr_scheduler.ReduceLROnPlateau(optimizer, factor=0.5, patience=4, min_lr=1e-6)\n",
    "\n",
    "writer = SummaryWriter(\"runs/CIFAR_LogReg\")\n",
    "\n",
    "train_val(\n",
    "    network=model,\n",
    "    criterion=nn.functional.cross_entropy,\n",
    "    optimizer=optimizer,\n",
    "    lr_scheduler=lr_scheduler,\n",
    "    train_loader=train_cifar10_loader,\n",
    "    val_loader=val_cifar10_loader,\n",
    "    n_epochs=30,\n",
    "    writer=writer,\n",
    "    logging_interval=100,\n",
    ")"
   ],
   "metadata": {
    "collapsed": false,
    "ExecuteTime": {
     "end_time": "2024-03-13T19:56:12.595072400Z",
     "start_time": "2024-03-13T19:39:03.046324800Z"
    }
   },
   "execution_count": 37
  },
  {
   "cell_type": "markdown",
   "source": [
    "Convolution network\n",
    "\n",
    "The architecture was derived from original [ResNet paper](https://arxiv.org/pdf/1512.03385.pdf). \n",
    "It was adapted for the current task, taking into consideration the low input size and small sample size."
   ],
   "metadata": {
    "collapsed": false
   }
  },
  {
   "cell_type": "code",
   "outputs": [],
   "source": [
    "class ConvBlock(nn.Module):\n",
    "    def __init__(self, channels: int, pairs_cnt: int):\n",
    "        super().__init__()\n",
    "        self.conv_pairs = nn.ModuleList([\n",
    "            nn.Sequential(\n",
    "                nn.Conv2d(channels, channels, kernel_size=3, padding=1),\n",
    "                nn.BatchNorm2d(channels),\n",
    "                nn.ReLU(),\n",
    "                nn.Conv2d(channels, channels, kernel_size=3, padding=1),\n",
    "                nn.BatchNorm2d(channels),\n",
    "            )\n",
    "            for _ in range(pairs_cnt)\n",
    "        ])\n",
    "        \n",
    "        self.relu_blocks = nn.ModuleList([nn.ReLU() for _ in range(pairs_cnt)])\n",
    "        \n",
    "        self.pairs_cnt = pairs_cnt\n",
    "    \n",
    "    def forward(self, x):\n",
    "        for i in range(self.pairs_cnt):\n",
    "            x = self.relu_blocks[i](x + self.conv_pairs[i](x))\n",
    "        \n",
    "        return x\n",
    "\n",
    "class ConvDownsample(nn.Module):\n",
    "    def __init__(self, in_channels: int):\n",
    "        super().__init__()\n",
    "        \n",
    "        self.conv_block = nn.Sequential(\n",
    "            nn.Conv2d(in_channels, in_channels * 2, kernel_size=3, padding=1, stride=2),\n",
    "            nn.BatchNorm2d(in_channels * 2),\n",
    "            nn.ReLU(),\n",
    "            nn.Conv2d(in_channels * 2, in_channels * 2, kernel_size=3, padding=1),\n",
    "            nn.BatchNorm2d(in_channels * 2),\n",
    "        )\n",
    "        \n",
    "        self.downsample_id = nn.Sequential(\n",
    "            nn.Conv2d(in_channels, in_channels * 2, kernel_size=1, stride=2),\n",
    "            nn.BatchNorm2d(in_channels * 2),\n",
    "        )\n",
    "        \n",
    "        self.activation = nn.ReLU()\n",
    "    \n",
    "    def forward(self, x):\n",
    "        x = self.conv_block(x) + self.downsample_id(x)\n",
    "        x = self.activation(x)\n",
    "        \n",
    "        return x\n",
    "\n",
    "class MyResNet(nn.Module):\n",
    "    def __init__(self):\n",
    "        super().__init__()\n",
    "        \n",
    "        self.head = nn.Sequential(\n",
    "            nn.Conv2d(3, 16, kernel_size=7, padding=3),\n",
    "            nn.BatchNorm2d(16),\n",
    "            nn.ReLU(),\n",
    "            nn.Conv2d(16, 32, kernel_size=5, padding=2),\n",
    "            nn.BatchNorm2d(32),\n",
    "            nn.ReLU(),\n",
    "            nn.Conv2d(32, 32, kernel_size=3, padding=1),\n",
    "            nn.BatchNorm2d(32),\n",
    "            nn.ReLU(),\n",
    "            nn.MaxPool2d(kernel_size=2), # 32 --> 16\n",
    "        )\n",
    "        \n",
    "        self.middle = nn.Sequential(\n",
    "            ConvBlock(32, 2),\n",
    "            \n",
    "            ConvDownsample(32), # 16 --> 8\n",
    "            ConvBlock(64, 1),\n",
    "            \n",
    "            ConvDownsample(64), # 8 --> 4\n",
    "            ConvBlock(128, 1),\n",
    "        )\n",
    "        \n",
    "        self.tail = nn.Sequential(\n",
    "            nn.AvgPool2d(kernel_size=2), # 4 --> 2\n",
    "            nn.Flatten(),\n",
    "            nn.BatchNorm1d(128 * 4),\n",
    "            nn.Linear(128 * 4, 10, bias=True),\n",
    "        )\n",
    "    \n",
    "    def forward(self, x):\n",
    "        x = self.head(x)\n",
    "        x = self.middle(x)\n",
    "        x = self.tail(x)\n",
    "        \n",
    "        return x"
   ],
   "metadata": {
    "collapsed": false,
    "ExecuteTime": {
     "end_time": "2024-03-13T19:56:12.606014Z",
     "start_time": "2024-03-13T19:56:12.600071300Z"
    }
   },
   "execution_count": 38
  },
  {
   "cell_type": "code",
   "outputs": [
    {
     "data": {
      "text/plain": "726250"
     },
     "execution_count": 39,
     "metadata": {},
     "output_type": "execute_result"
    }
   ],
   "source": [
    "model = MyResNet()\n",
    "sum(p.numel() for p in model.parameters() if p.requires_grad)"
   ],
   "metadata": {
    "collapsed": false,
    "ExecuteTime": {
     "end_time": "2024-03-13T19:56:12.634808100Z",
     "start_time": "2024-03-13T19:56:12.604015700Z"
    }
   },
   "execution_count": 39
  },
  {
   "cell_type": "code",
   "outputs": [
    {
     "name": "stdout",
     "output_type": "stream",
     "text": [
      "Test set: Avg. loss: 2.3039 Accuracy: 1403/10000 (14%)\n",
      "Test set: Avg. loss: 1.3591 Accuracy: 5164/10000 (52%)\n",
      "Test set: Avg. loss: 1.0582 Accuracy: 6227/10000 (62%)\n",
      "Test set: Avg. loss: 0.8427 Accuracy: 7044/10000 (70%)\n",
      "Test set: Avg. loss: 0.7773 Accuracy: 7265/10000 (73%)\n",
      "Test set: Avg. loss: 0.7096 Accuracy: 7540/10000 (75%)\n",
      "Test set: Avg. loss: 0.7580 Accuracy: 7472/10000 (75%)\n",
      "Test set: Avg. loss: 0.6807 Accuracy: 7652/10000 (77%)\n",
      "Test set: Avg. loss: 0.6673 Accuracy: 7664/10000 (77%)\n",
      "Test set: Avg. loss: 0.5969 Accuracy: 7933/10000 (79%)\n",
      "Test set: Avg. loss: 0.5682 Accuracy: 8048/10000 (80%)\n",
      "Test set: Avg. loss: 0.5527 Accuracy: 8123/10000 (81%)\n",
      "Test set: Avg. loss: 0.5209 Accuracy: 8185/10000 (82%)\n",
      "Test set: Avg. loss: 0.5060 Accuracy: 8277/10000 (83%)\n",
      "Test set: Avg. loss: 0.5107 Accuracy: 8285/10000 (83%)\n",
      "Test set: Avg. loss: 0.4918 Accuracy: 8349/10000 (83%)\n",
      "Test set: Avg. loss: 0.4915 Accuracy: 8339/10000 (83%)\n",
      "Test set: Avg. loss: 0.4865 Accuracy: 8322/10000 (83%)\n",
      "Test set: Avg. loss: 0.4762 Accuracy: 8382/10000 (84%)\n",
      "Test set: Avg. loss: 0.4397 Accuracy: 8483/10000 (85%)\n",
      "Test set: Avg. loss: 0.4372 Accuracy: 8522/10000 (85%)\n",
      "Test set: Avg. loss: 0.4408 Accuracy: 8484/10000 (85%)\n",
      "Test set: Avg. loss: 0.4436 Accuracy: 8512/10000 (85%)\n",
      "Test set: Avg. loss: 0.4439 Accuracy: 8515/10000 (85%)\n",
      "Test set: Avg. loss: 0.4359 Accuracy: 8538/10000 (85%)\n",
      "Test set: Avg. loss: 0.4227 Accuracy: 8564/10000 (86%)\n",
      "Test set: Avg. loss: 0.4437 Accuracy: 8529/10000 (85%)\n",
      "Test set: Avg. loss: 0.4129 Accuracy: 8606/10000 (86%)\n",
      "Test set: Avg. loss: 0.4089 Accuracy: 8673/10000 (87%)\n",
      "Test set: Avg. loss: 0.4068 Accuracy: 8653/10000 (87%)\n",
      "Test set: Avg. loss: 0.4092 Accuracy: 8635/10000 (86%)\n",
      "Test set: Avg. loss: 0.3902 Accuracy: 8674/10000 (87%)\n",
      "Test set: Avg. loss: 0.4039 Accuracy: 8701/10000 (87%)\n",
      "Test set: Avg. loss: 0.3903 Accuracy: 8687/10000 (87%)\n",
      "Test set: Avg. loss: 0.3970 Accuracy: 8639/10000 (86%)\n",
      "Test set: Avg. loss: 0.3874 Accuracy: 8696/10000 (87%)\n",
      "Test set: Avg. loss: 0.3971 Accuracy: 8675/10000 (87%)\n",
      "Test set: Avg. loss: 0.3995 Accuracy: 8673/10000 (87%)\n",
      "Test set: Avg. loss: 0.3868 Accuracy: 8737/10000 (87%)\n",
      "Test set: Avg. loss: 0.3833 Accuracy: 8718/10000 (87%)\n",
      "Test set: Avg. loss: 0.3571 Accuracy: 8834/10000 (88%)\n",
      "Test set: Avg. loss: 0.3681 Accuracy: 8786/10000 (88%)\n",
      "Test set: Avg. loss: 0.3712 Accuracy: 8748/10000 (87%)\n",
      "Test set: Avg. loss: 0.3773 Accuracy: 8757/10000 (88%)\n",
      "Test set: Avg. loss: 0.3600 Accuracy: 8811/10000 (88%)\n",
      "Test set: Avg. loss: 0.3809 Accuracy: 8751/10000 (88%)\n",
      "Test set: Avg. loss: 0.3449 Accuracy: 8863/10000 (89%)\n",
      "Test set: Avg. loss: 0.3291 Accuracy: 8929/10000 (89%)\n",
      "Test set: Avg. loss: 0.3411 Accuracy: 8871/10000 (89%)\n",
      "Test set: Avg. loss: 0.3447 Accuracy: 8889/10000 (89%)\n",
      "Test set: Avg. loss: 0.3379 Accuracy: 8902/10000 (89%)\n",
      "Test set: Avg. loss: 0.3429 Accuracy: 8881/10000 (89%)\n",
      "Test set: Avg. loss: 0.3442 Accuracy: 8888/10000 (89%)\n",
      "Test set: Avg. loss: 0.3280 Accuracy: 8925/10000 (89%)\n",
      "Test set: Avg. loss: 0.3262 Accuracy: 8950/10000 (90%)\n",
      "Test set: Avg. loss: 0.3238 Accuracy: 8944/10000 (89%)\n",
      "Test set: Avg. loss: 0.3232 Accuracy: 8956/10000 (90%)\n",
      "Test set: Avg. loss: 0.3203 Accuracy: 8945/10000 (89%)\n",
      "Test set: Avg. loss: 0.3232 Accuracy: 8948/10000 (89%)\n",
      "Test set: Avg. loss: 0.3343 Accuracy: 8946/10000 (89%)\n",
      "Test set: Avg. loss: 0.3255 Accuracy: 8955/10000 (90%)\n",
      "Test set: Avg. loss: 0.3288 Accuracy: 8916/10000 (89%)\n",
      "Test set: Avg. loss: 0.3350 Accuracy: 8932/10000 (89%)\n",
      "Test set: Avg. loss: 0.3264 Accuracy: 8969/10000 (90%)\n",
      "Test set: Avg. loss: 0.3238 Accuracy: 8979/10000 (90%)\n",
      "Test set: Avg. loss: 0.3271 Accuracy: 8985/10000 (90%)\n",
      "Test set: Avg. loss: 0.3224 Accuracy: 8977/10000 (90%)\n",
      "Test set: Avg. loss: 0.3279 Accuracy: 8982/10000 (90%)\n",
      "Test set: Avg. loss: 0.3273 Accuracy: 8974/10000 (90%)\n",
      "Test set: Avg. loss: 0.3191 Accuracy: 8991/10000 (90%)\n",
      "Test set: Avg. loss: 0.3222 Accuracy: 8987/10000 (90%)\n",
      "Test set: Avg. loss: 0.3200 Accuracy: 8991/10000 (90%)\n",
      "Test set: Avg. loss: 0.3192 Accuracy: 8982/10000 (90%)\n",
      "Test set: Avg. loss: 0.3205 Accuracy: 8998/10000 (90%)\n",
      "Test set: Avg. loss: 0.3234 Accuracy: 8989/10000 (90%)\n",
      "Test set: Avg. loss: 0.3213 Accuracy: 8988/10000 (90%)\n",
      "Test set: Avg. loss: 0.3254 Accuracy: 8990/10000 (90%)\n",
      "Test set: Avg. loss: 0.3217 Accuracy: 8985/10000 (90%)\n",
      "Test set: Avg. loss: 0.3216 Accuracy: 9004/10000 (90%)\n",
      "Test set: Avg. loss: 0.3230 Accuracy: 8999/10000 (90%)\n",
      "Test set: Avg. loss: 0.3218 Accuracy: 9009/10000 (90%)\n",
      "Test set: Avg. loss: 0.3170 Accuracy: 9016/10000 (90%)\n",
      "Test set: Avg. loss: 0.3212 Accuracy: 9011/10000 (90%)\n",
      "Test set: Avg. loss: 0.3180 Accuracy: 9015/10000 (90%)\n",
      "Test set: Avg. loss: 0.3205 Accuracy: 9005/10000 (90%)\n",
      "Test set: Avg. loss: 0.3221 Accuracy: 9006/10000 (90%)\n",
      "Test set: Avg. loss: 0.3238 Accuracy: 8997/10000 (90%)\n",
      "Test set: Avg. loss: 0.3188 Accuracy: 8991/10000 (90%)\n",
      "Test set: Avg. loss: 0.3205 Accuracy: 9016/10000 (90%)\n",
      "Test set: Avg. loss: 0.3261 Accuracy: 8992/10000 (90%)\n",
      "Test set: Avg. loss: 0.3193 Accuracy: 9003/10000 (90%)\n",
      "Test set: Avg. loss: 0.3239 Accuracy: 8997/10000 (90%)\n",
      "Test set: Avg. loss: 0.3227 Accuracy: 8996/10000 (90%)\n",
      "Test set: Avg. loss: 0.3198 Accuracy: 9010/10000 (90%)\n",
      "Test set: Avg. loss: 0.3212 Accuracy: 9013/10000 (90%)\n",
      "Test set: Avg. loss: 0.3234 Accuracy: 8986/10000 (90%)\n",
      "Test set: Avg. loss: 0.3238 Accuracy: 8998/10000 (90%)\n",
      "Test set: Avg. loss: 0.3199 Accuracy: 9004/10000 (90%)\n",
      "Test set: Avg. loss: 0.3205 Accuracy: 9015/10000 (90%)\n",
      "Test set: Avg. loss: 0.3249 Accuracy: 8985/10000 (90%)\n",
      "Test set: Avg. loss: 0.3208 Accuracy: 9010/10000 (90%)\n",
      "Test set: Avg. loss: 0.3213 Accuracy: 9003/10000 (90%)\n",
      "Test set: Avg. loss: 0.3225 Accuracy: 9006/10000 (90%)\n"
     ]
    },
    {
     "name": "stderr",
     "output_type": "stream",
     "text": [
      "\n",
      "KeyboardInterrupt\n",
      "\n"
     ]
    }
   ],
   "source": [
    "model = MyResNet().to(device)\n",
    "\n",
    "writer = SummaryWriter(\"MyResNet_final\")\n",
    "optimizer = torch.optim.Adam(model.parameters(), lr=1e-3)\n",
    "lr_scheduler = torch.optim.lr_scheduler.ReduceLROnPlateau(optimizer, factor=0.5, patience=4, min_lr=1e-6)\n",
    "# lr_scheduler = torch.optim.lr_scheduler.StepLR(optimizer, step_size=10, gamma=0.75)\n",
    "\n",
    "train_val(\n",
    "    network=model,\n",
    "    criterion=nn.functional.cross_entropy,\n",
    "    optimizer=optimizer,\n",
    "    train_loader=train_cifar10_loader,\n",
    "    val_loader=val_cifar10_loader,\n",
    "    n_epochs=350,\n",
    "    writer=writer,\n",
    "    lr_scheduler=lr_scheduler,\n",
    "    logging_interval=100,\n",
    "    best_dump_path='cifar10_own_resnet_best.bin',\n",
    "    accuracy_dump_threshold=0.88,\n",
    ")\n",
    "\n",
    "writer.flush()"
   ],
   "metadata": {
    "collapsed": false,
    "ExecuteTime": {
     "end_time": "2024-03-12T21:21:39.838495100Z",
     "start_time": "2024-03-12T20:14:42.425691200Z"
    }
   },
   "execution_count": 16
  },
  {
   "cell_type": "code",
   "outputs": [],
   "source": [
    "import pathlib\n",
    "path = pathlib.Path('./cifar10_own_resnet.bin')"
   ],
   "metadata": {
    "collapsed": false,
    "ExecuteTime": {
     "end_time": "2024-03-13T19:56:40.299821100Z",
     "start_time": "2024-03-13T19:56:40.287306Z"
    }
   },
   "execution_count": 41
  },
  {
   "cell_type": "code",
   "outputs": [],
   "source": [
    "with open(path, \"wb\") as f:\n",
    "    torch.save(\n",
    "        obj=model.state_dict(),\n",
    "        f=f\n",
    "    )"
   ],
   "metadata": {
    "collapsed": false,
    "ExecuteTime": {
     "end_time": "2024-03-12T20:01:32.261767600Z",
     "start_time": "2024-03-12T20:01:32.224161900Z"
    }
   },
   "execution_count": 28
  },
  {
   "cell_type": "code",
   "outputs": [
    {
     "data": {
      "text/plain": "<All keys matched successfully>"
     },
     "execution_count": 42,
     "metadata": {},
     "output_type": "execute_result"
    }
   ],
   "source": [
    "model_ld = MyResNet()\n",
    "model_ld.load_state_dict(torch.load(path))"
   ],
   "metadata": {
    "collapsed": false,
    "ExecuteTime": {
     "end_time": "2024-03-13T19:56:42.786781500Z",
     "start_time": "2024-03-13T19:56:42.727074800Z"
    }
   },
   "execution_count": 42
  },
  {
   "cell_type": "code",
   "outputs": [
    {
     "name": "stdout",
     "output_type": "stream",
     "text": [
      "Test set: Avg. loss: 0.3135 Accuracy: 9032/10000 (90%)\n"
     ]
    },
    {
     "data": {
      "text/plain": "(0.3134802177429199, 0.9032)"
     },
     "execution_count": 43,
     "metadata": {},
     "output_type": "execute_result"
    }
   ],
   "source": [
    "val_epoch(\n",
    "    model_ld.to(device),\n",
    "    val_cifar10_loader,\n",
    "    nn.functional.cross_entropy,\n",
    "    writer=SummaryWriter(\"test\"),\n",
    "    epoch_no=0,\n",
    ")"
   ],
   "metadata": {
    "collapsed": false,
    "ExecuteTime": {
     "end_time": "2024-03-13T19:56:57.402803400Z",
     "start_time": "2024-03-13T19:56:43.788310300Z"
    }
   },
   "execution_count": 43
  },
  {
   "cell_type": "markdown",
   "source": [
    "## `Бонус. Побейте бейзлайн (3 балла)`"
   ],
   "metadata": {
    "collapsed": false
   }
  },
  {
   "cell_type": "markdown",
   "metadata": {},
   "source": [
    "На датасете `CIFAR-10` обучите модель, которая выдает аккураси `>=0.9`."
   ]
  },
  {
   "cell_type": "markdown",
   "source": [
    "The model presented in previous section reached an accuracy 0.905 on validation"
   ],
   "metadata": {
    "collapsed": false
   }
  }
 ],
 "metadata": {
  "kernelspec": {
   "display_name": ".venv",
   "language": "python",
   "name": "python3"
  },
  "language_info": {
   "codemirror_mode": {
    "name": "ipython",
    "version": 3
   },
   "file_extension": ".py",
   "mimetype": "text/x-python",
   "name": "python",
   "nbconvert_exporter": "python",
   "pygments_lexer": "ipython3",
   "version": "3.10.12"
  }
 },
 "nbformat": 4,
 "nbformat_minor": 2
}
